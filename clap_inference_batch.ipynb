{
 "cells": [
  {
   "cell_type": "markdown",
   "metadata": {},
   "source": [
    "### Set the corresponding values in the cell below. Afterwards, just run the following cells"
   ]
  },
  {
   "cell_type": "code",
   "execution_count": 1,
   "metadata": {},
   "outputs": [],
   "source": [
    "import pathlib\n",
    "# Class label csv path\n",
    "labels_csv_path = 'datasets/home_labels.csv'\n",
    "# Datset folder\n",
    "dataset_root_path = pathlib.Path('datasets')\n",
    "# output result csv path\n",
    "output_csv_path = 'outputs/clap_results.csv'"
   ]
  },
  {
   "cell_type": "markdown",
   "metadata": {},
   "source": [
    "### Import libraries "
   ]
  },
  {
   "cell_type": "code",
   "execution_count": 2,
   "metadata": {},
   "outputs": [],
   "source": [
    "from msclap import CLAP\n",
    "import torch.nn.functional as F\n",
    "import numpy as np\n",
    "import torch\n",
    "import os\n",
    "from moviepy.editor import VideoFileClip"
   ]
  },
  {
   "cell_type": "markdown",
   "metadata": {},
   "source": [
    "### Get Audio from video"
   ]
  },
  {
   "cell_type": "markdown",
   "metadata": {},
   "source": [
    "### Read class Labels"
   ]
  },
  {
   "cell_type": "code",
   "execution_count": 3,
   "metadata": {},
   "outputs": [
    {
     "name": "stdout",
     "output_type": "stream",
     "text": [
      "70 Unique classes: ['No people is in the room', 'Studying', 'Typing', 'Using computer', 'Making phone calls', 'Play with phone/tablet', 'Playing with pets', 'Sitting down', 'Reading', 'Writing', 'Setting table', 'Eating food', 'Dining', 'Cooking', 'Sleeping', 'Laying down', 'Picking up objects', 'Brushing teeth', 'Showering', 'Playing music', 'TV', 'Cleaning', 'Doing laundry', 'Mopping floor', 'Vacumning', 'Organizing space', 'Sewing', 'Knitting', 'Decorating', 'Party', 'Chatting', 'Talking', 'Singing', 'Laughing', 'Speaking', 'Dancing', 'Drinking', 'Meditating', 'Drawing', 'Painting', 'Playing board games', 'Playing video games', 'Taking photos', 'Potluck', 'Working', 'Exercising', 'Walking', 'Running', 'Celebrating', 'Physical altercations', 'Verbal confrontations', 'Using drug', 'Theft or vandalism', 'Fighting', 'Domestic violence', 'Break in', 'Glass breaking', 'Unattended cooking', 'Smoke or Fire or Open flame', 'Smoking', 'Gunshot', 'Making noise', 'Falling down', 'Tripping', 'Crying', 'Suffocating', 'Choking', 'Furniture Collapse', 'Flooding', 'Normal'].\n"
     ]
    }
   ],
   "source": [
    "import csv\n",
    "\n",
    "label2id = {}\n",
    "id2label = {}\n",
    "with open(labels_csv_path, mode='r') as file:\n",
    "    csv_reader = csv.reader(file)\n",
    "\n",
    "    for i, row in enumerate(csv_reader):\n",
    "        class_name = row[0]\n",
    "        label2id[class_name] = i \n",
    "        id2label[i] = class_name\n",
    "\n",
    "class_labels = list(label2id.keys())\n",
    "\n",
    "print(f\"{len(class_labels)} Unique classes: {class_labels}.\")"
   ]
  },
  {
   "cell_type": "markdown",
   "metadata": {},
   "source": [
    "### CLAP inference with given audio"
   ]
  },
  {
   "cell_type": "code",
   "execution_count": 4,
   "metadata": {},
   "outputs": [
    {
     "name": "stderr",
     "output_type": "stream",
     "text": [
      "  0%|          | 0/424 [00:00<?, ?it/s]"
     ]
    },
    {
     "name": "stdout",
     "output_type": "stream",
     "text": [
      "datasets/audios/train/Crying\n",
      "MoviePy - Writing audio in datasets/audios/train/Crying/9q8mf6GUiiE_000009_000019.wav\n"
     ]
    },
    {
     "name": "stderr",
     "output_type": "stream",
     "text": [
      "  0%|          | 0/424 [00:00<?, ?it/s]"
     ]
    },
    {
     "name": "stdout",
     "output_type": "stream",
     "text": [
      "MoviePy - Done.\n"
     ]
    },
    {
     "name": "stderr",
     "output_type": "stream",
     "text": [
      "  0%|          | 1/424 [00:03<23:04,  3.27s/it]"
     ]
    },
    {
     "name": "stdout",
     "output_type": "stream",
     "text": [
      "\n",
      "File: datasets/train/Crying/9q8mf6GUiiE_000009_000019.mp4\n",
      "Ground Truth: Crying\n",
      "Top predictions:\n",
      "     Suffocating: 27.43%\n",
      "          Crying: 19.03%\n",
      "      Using drug: 9.28%\n",
      "No people is in the room: 5.53%\n",
      "     Eating food: 3.88%\n",
      "\n",
      "datasets/audios/train/Crying\n"
     ]
    },
    {
     "name": "stderr",
     "output_type": "stream",
     "text": [
      "  0%|          | 1/424 [00:03<23:04,  3.27s/it]"
     ]
    },
    {
     "name": "stdout",
     "output_type": "stream",
     "text": [
      "MoviePy - Writing audio in datasets/audios/train/Crying/9s4bfiyc9Yc_000195_000205.wav\n"
     ]
    },
    {
     "name": "stderr",
     "output_type": "stream",
     "text": [
      "  0%|          | 2/424 [00:03<10:57,  1.56s/it]"
     ]
    },
    {
     "name": "stdout",
     "output_type": "stream",
     "text": [
      "MoviePy - Done.\n",
      "\n",
      "File: datasets/train/Crying/9s4bfiyc9Yc_000195_000205.mp4\n",
      "Ground Truth: Crying\n",
      "Top predictions:\n",
      "          Crying: 85.34%\n",
      "     Suffocating: 11.34%\n",
      "Playing with pets: 0.98%\n",
      "Domestic violence: 0.41%\n",
      "Making phone calls: 0.31%\n",
      "\n"
     ]
    },
    {
     "name": "stderr",
     "output_type": "stream",
     "text": [
      "  0%|          | 2/424 [00:03<10:57,  1.56s/it]"
     ]
    },
    {
     "name": "stdout",
     "output_type": "stream",
     "text": [
      "datasets/audios/train/Crying\n",
      "MoviePy - Writing audio in datasets/audios/train/Crying/a4xHx59uFgk_000003_000013.wav\n"
     ]
    },
    {
     "name": "stderr",
     "output_type": "stream",
     "text": [
      "  1%|          | 3/424 [00:04<07:09,  1.02s/it]"
     ]
    },
    {
     "name": "stdout",
     "output_type": "stream",
     "text": [
      "MoviePy - Done.\n",
      "\n",
      "File: datasets/train/Crying/a4xHx59uFgk_000003_000013.mp4\n",
      "Ground Truth: Crying\n",
      "Top predictions:\n",
      "No people is in the room: 32.01%\n",
      "Playing with pets: 12.06%\n",
      "          Crying: 11.23%\n",
      "   Doing laundry: 7.60%\n",
      "   Mopping floor: 4.96%\n",
      "\n"
     ]
    },
    {
     "name": "stderr",
     "output_type": "stream",
     "text": [
      "  1%|          | 3/424 [00:04<07:09,  1.02s/it]"
     ]
    },
    {
     "name": "stdout",
     "output_type": "stream",
     "text": [
      "datasets/audios/train/Crying\n",
      "MoviePy - Writing audio in datasets/audios/train/Crying/a50yimv7Lqg_000026_000036.wav\n"
     ]
    },
    {
     "name": "stderr",
     "output_type": "stream",
     "text": [
      "  1%|          | 3/424 [00:04<07:09,  1.02s/it]"
     ]
    },
    {
     "name": "stdout",
     "output_type": "stream",
     "text": [
      "MoviePy - Done.\n"
     ]
    },
    {
     "name": "stderr",
     "output_type": "stream",
     "text": [
      "  1%|          | 4/424 [00:04<05:33,  1.26it/s]"
     ]
    },
    {
     "name": "stdout",
     "output_type": "stream",
     "text": [
      "\n",
      "File: datasets/train/Crying/a50yimv7Lqg_000026_000036.mp4\n",
      "Ground Truth: Crying\n",
      "Top predictions:\n",
      "        Laughing: 34.94%\n",
      "Playing with pets: 25.10%\n",
      "     Celebrating: 8.47%\n",
      "         Singing: 6.79%\n",
      "     Eating food: 5.10%\n",
      "\n"
     ]
    },
    {
     "name": "stderr",
     "output_type": "stream",
     "text": [
      "  1%|          | 4/424 [00:04<05:33,  1.26it/s]"
     ]
    },
    {
     "name": "stdout",
     "output_type": "stream",
     "text": [
      "datasets/audios/train/Crying\n",
      "MoviePy - Writing audio in datasets/audios/train/Crying/Afhkn2h-wLE_000000_000010.wav\n"
     ]
    },
    {
     "name": "stderr",
     "output_type": "stream",
     "text": [
      "  1%|          | 5/424 [00:04<04:34,  1.53it/s]"
     ]
    },
    {
     "name": "stdout",
     "output_type": "stream",
     "text": [
      "MoviePy - Done.\n",
      "\n",
      "File: datasets/train/Crying/Afhkn2h-wLE_000000_000010.mp4\n",
      "Ground Truth: Crying\n",
      "Top predictions:\n",
      "          Crying: 48.32%\n",
      "     Suffocating: 24.56%\n",
      "Playing with pets: 8.80%\n",
      "        Sleeping: 2.26%\n",
      "     Celebrating: 1.73%\n",
      "\n"
     ]
    },
    {
     "name": "stderr",
     "output_type": "stream",
     "text": [
      "  1%|          | 5/424 [00:05<04:34,  1.53it/s]"
     ]
    },
    {
     "name": "stdout",
     "output_type": "stream",
     "text": [
      "datasets/audios/train/Crying\n",
      "MoviePy - Writing audio in datasets/audios/train/Crying/aMAJ-DRt6bU_000116_000126.wav\n"
     ]
    },
    {
     "name": "stderr",
     "output_type": "stream",
     "text": [
      "  1%|▏         | 6/424 [00:05<04:01,  1.73it/s]"
     ]
    },
    {
     "name": "stdout",
     "output_type": "stream",
     "text": [
      "MoviePy - Done.\n",
      "\n",
      "File: datasets/train/Crying/aMAJ-DRt6bU_000116_000126.mp4\n",
      "Ground Truth: Crying\n",
      "Top predictions:\n",
      "          Crying: 50.21%\n",
      "        Laughing: 14.85%\n",
      "         Choking: 11.92%\n",
      "        Sleeping: 9.63%\n",
      "     Suffocating: 5.11%\n",
      "\n"
     ]
    },
    {
     "name": "stderr",
     "output_type": "stream",
     "text": [
      "  1%|▏         | 6/424 [00:05<04:01,  1.73it/s]"
     ]
    },
    {
     "name": "stdout",
     "output_type": "stream",
     "text": [
      "datasets/audios/train/Crying\n",
      "MoviePy - Writing audio in datasets/audios/train/Crying/a_yBdlVHrK8_000000_000010.wav\n"
     ]
    },
    {
     "name": "stderr",
     "output_type": "stream",
     "text": [
      "  2%|▏         | 7/424 [00:05<03:35,  1.93it/s]"
     ]
    },
    {
     "name": "stdout",
     "output_type": "stream",
     "text": [
      "MoviePy - Done.\n",
      "\n",
      "File: datasets/train/Crying/a_yBdlVHrK8_000000_000010.mp4\n",
      "Ground Truth: Crying\n",
      "Top predictions:\n",
      "          Crying: 85.98%\n",
      "     Suffocating: 10.52%\n",
      "Domestic violence: 0.58%\n",
      "Playing with pets: 0.45%\n",
      "      Meditating: 0.42%\n",
      "\n"
     ]
    },
    {
     "name": "stderr",
     "output_type": "stream",
     "text": [
      "  2%|▏         | 7/424 [00:05<03:35,  1.93it/s]"
     ]
    },
    {
     "name": "stdout",
     "output_type": "stream",
     "text": [
      "datasets/audios/train/Crying\n",
      "MoviePy - Writing audio in datasets/audios/train/Crying/fKrcKrs-o_w_000000_000010.wav\n"
     ]
    },
    {
     "name": "stderr",
     "output_type": "stream",
     "text": [
      "  2%|▏         | 7/424 [00:05<03:35,  1.93it/s]"
     ]
    },
    {
     "name": "stdout",
     "output_type": "stream",
     "text": [
      "MoviePy - Done.\n"
     ]
    },
    {
     "name": "stderr",
     "output_type": "stream",
     "text": [
      "  2%|▏         | 8/424 [00:06<03:32,  1.95it/s]"
     ]
    },
    {
     "name": "stdout",
     "output_type": "stream",
     "text": [
      "\n",
      "File: datasets/train/Crying/fKrcKrs-o_w_000000_000010.mp4\n",
      "Ground Truth: Crying\n",
      "Top predictions:\n",
      "          Crying: 81.14%\n",
      "     Suffocating: 8.59%\n",
      "Playing with pets: 1.19%\n",
      "Making phone calls: 1.02%\n",
      "         Choking: 0.91%\n",
      "\n",
      "datasets/audios/train/Crying\n"
     ]
    },
    {
     "name": "stderr",
     "output_type": "stream",
     "text": [
      "  2%|▏         | 8/424 [00:06<03:32,  1.95it/s]"
     ]
    },
    {
     "name": "stdout",
     "output_type": "stream",
     "text": [
      "MoviePy - Writing audio in datasets/audios/train/Crying/fLzGu07zA-I_000008_000018.wav\n"
     ]
    },
    {
     "name": "stderr",
     "output_type": "stream",
     "text": [
      "  2%|▏         | 9/424 [00:06<03:12,  2.16it/s]"
     ]
    },
    {
     "name": "stdout",
     "output_type": "stream",
     "text": [
      "MoviePy - Done.\n",
      "\n",
      "File: datasets/train/Crying/fLzGu07zA-I_000008_000018.mp4\n",
      "Ground Truth: Crying\n",
      "Top predictions:\n",
      "          Crying: 89.18%\n",
      "     Suffocating: 6.93%\n",
      "Making phone calls: 1.33%\n",
      "      Meditating: 0.40%\n",
      "  Brushing teeth: 0.35%\n",
      "\n"
     ]
    },
    {
     "name": "stderr",
     "output_type": "stream",
     "text": [
      "  2%|▏         | 9/424 [00:06<03:12,  2.16it/s]"
     ]
    },
    {
     "name": "stdout",
     "output_type": "stream",
     "text": [
      "datasets/audios/train/Crying\n",
      "MoviePy - Writing audio in datasets/audios/train/Crying/FM06rkKxFms_000010_000020.wav\n"
     ]
    },
    {
     "name": "stderr",
     "output_type": "stream",
     "text": [
      "  2%|▏         | 9/424 [00:06<03:12,  2.16it/s]"
     ]
    },
    {
     "name": "stdout",
     "output_type": "stream",
     "text": [
      "MoviePy - Done.\n"
     ]
    },
    {
     "name": "stderr",
     "output_type": "stream",
     "text": [
      "  2%|▏         | 10/424 [00:07<03:23,  2.03it/s]"
     ]
    },
    {
     "name": "stdout",
     "output_type": "stream",
     "text": [
      "\n",
      "File: datasets/train/Crying/FM06rkKxFms_000010_000020.mp4\n",
      "Ground Truth: Crying\n",
      "Top predictions:\n",
      "          Crying: 60.26%\n",
      "     Suffocating: 19.67%\n",
      "Playing with pets: 8.63%\n",
      "     Celebrating: 2.93%\n",
      "        Laughing: 1.47%\n",
      "\n",
      "datasets/audios/train/Crying\n"
     ]
    },
    {
     "name": "stderr",
     "output_type": "stream",
     "text": [
      "  2%|▏         | 10/424 [00:07<03:23,  2.03it/s]"
     ]
    },
    {
     "name": "stdout",
     "output_type": "stream",
     "text": [
      "MoviePy - Writing audio in datasets/audios/train/Crying/G6QENvmNkRE_000000_000010.wav\n"
     ]
    },
    {
     "name": "stderr",
     "output_type": "stream",
     "text": [
      "  3%|▎         | 11/424 [00:07<03:08,  2.19it/s]"
     ]
    },
    {
     "name": "stdout",
     "output_type": "stream",
     "text": [
      "MoviePy - Done.\n",
      "\n",
      "File: datasets/train/Crying/G6QENvmNkRE_000000_000010.mp4\n",
      "Ground Truth: Crying\n",
      "Top predictions:\n",
      "        Laughing: 41.36%\n",
      "     Celebrating: 13.90%\n",
      "        Sleeping: 11.10%\n",
      "Playing with pets: 9.03%\n",
      "         Singing: 2.90%\n",
      "\n"
     ]
    },
    {
     "name": "stderr",
     "output_type": "stream",
     "text": [
      "  3%|▎         | 11/424 [00:07<03:08,  2.19it/s]"
     ]
    },
    {
     "name": "stdout",
     "output_type": "stream",
     "text": [
      "datasets/audios/train/Crying\n",
      "MoviePy - Writing audio in datasets/audios/train/Crying/Ga9lFu4gurw_000015_000025.wav\n"
     ]
    },
    {
     "name": "stderr",
     "output_type": "stream",
     "text": [
      "  3%|▎         | 11/424 [00:07<03:08,  2.19it/s]"
     ]
    },
    {
     "name": "stdout",
     "output_type": "stream",
     "text": [
      "MoviePy - Done.\n"
     ]
    },
    {
     "name": "stderr",
     "output_type": "stream",
     "text": [
      "  3%|▎         | 12/424 [00:07<03:12,  2.14it/s]"
     ]
    },
    {
     "name": "stdout",
     "output_type": "stream",
     "text": [
      "\n",
      "File: datasets/train/Crying/Ga9lFu4gurw_000015_000025.mp4\n",
      "Ground Truth: Crying\n",
      "Top predictions:\n",
      "          Crying: 79.00%\n",
      "     Suffocating: 13.71%\n",
      "Domestic violence: 3.25%\n",
      "Playing with pets: 1.71%\n",
      "Making phone calls: 0.36%\n",
      "\n",
      "datasets/audios/train/Crying\n"
     ]
    },
    {
     "name": "stderr",
     "output_type": "stream",
     "text": [
      "  3%|▎         | 12/424 [00:08<03:12,  2.14it/s]"
     ]
    },
    {
     "name": "stdout",
     "output_type": "stream",
     "text": [
      "MoviePy - Writing audio in datasets/audios/train/Crying/GnIgOUPiMqE_000023_000033.wav\n"
     ]
    },
    {
     "name": "stderr",
     "output_type": "stream",
     "text": [
      "  3%|▎         | 13/424 [00:08<03:00,  2.28it/s]"
     ]
    },
    {
     "name": "stdout",
     "output_type": "stream",
     "text": [
      "MoviePy - Done.\n",
      "\n",
      "File: datasets/train/Crying/GnIgOUPiMqE_000023_000033.mp4\n",
      "Ground Truth: Crying\n",
      "Top predictions:\n",
      "          Crying: 58.10%\n",
      "     Suffocating: 17.91%\n",
      "      Meditating: 9.41%\n",
      "         Singing: 2.81%\n",
      "Domestic violence: 2.22%\n",
      "\n"
     ]
    },
    {
     "name": "stderr",
     "output_type": "stream",
     "text": [
      "  3%|▎         | 13/424 [00:08<03:00,  2.28it/s]"
     ]
    },
    {
     "name": "stdout",
     "output_type": "stream",
     "text": [
      "datasets/audios/train/Crying\n",
      "MoviePy - Writing audio in datasets/audios/train/Crying/gpaANcmFUOI_000003_000013.wav\n"
     ]
    },
    {
     "name": "stderr",
     "output_type": "stream",
     "text": [
      "  3%|▎         | 13/424 [00:08<03:00,  2.28it/s]"
     ]
    },
    {
     "name": "stdout",
     "output_type": "stream",
     "text": [
      "MoviePy - Done.\n",
      "\n",
      "File: datasets/train/Crying/gpaANcmFUOI_000003_000013.mp4\n",
      "Ground Truth: Crying\n",
      "Top predictions:\n"
     ]
    },
    {
     "name": "stderr",
     "output_type": "stream",
     "text": [
      "  3%|▎         | 14/424 [00:08<03:05,  2.21it/s]"
     ]
    },
    {
     "name": "stdout",
     "output_type": "stream",
     "text": [
      "          Crying: 78.51%\n",
      "     Suffocating: 13.95%\n",
      "Playing with pets: 2.22%\n",
      "No people is in the room: 1.07%\n",
      "Domestic violence: 0.82%\n",
      "\n",
      "datasets/audios/train/Crying\n"
     ]
    },
    {
     "name": "stderr",
     "output_type": "stream",
     "text": [
      "  3%|▎         | 14/424 [00:09<03:05,  2.21it/s]"
     ]
    },
    {
     "name": "stdout",
     "output_type": "stream",
     "text": [
      "MoviePy - Writing audio in datasets/audios/train/Crying/G_-Hx6u40nE_000032_000042.wav\n"
     ]
    },
    {
     "name": "stderr",
     "output_type": "stream",
     "text": [
      "  4%|▎         | 15/424 [00:09<02:54,  2.35it/s]"
     ]
    },
    {
     "name": "stdout",
     "output_type": "stream",
     "text": [
      "MoviePy - Done.\n",
      "\n",
      "File: datasets/train/Crying/G_-Hx6u40nE_000032_000042.mp4\n",
      "Ground Truth: Crying\n",
      "Top predictions:\n",
      "          Crying: 70.15%\n",
      "     Suffocating: 14.35%\n",
      "      Meditating: 2.72%\n",
      "Domestic violence: 2.17%\n",
      "Playing with pets: 2.02%\n",
      "\n"
     ]
    },
    {
     "name": "stderr",
     "output_type": "stream",
     "text": [
      "  4%|▎         | 15/424 [00:09<02:54,  2.35it/s]"
     ]
    },
    {
     "name": "stdout",
     "output_type": "stream",
     "text": [
      "datasets/audios/train/Crying\n",
      "MoviePy - Writing audio in datasets/audios/train/Crying/H85OllZBK70_000013_000023.wav\n"
     ]
    },
    {
     "name": "stderr",
     "output_type": "stream",
     "text": [
      "  4%|▎         | 15/424 [00:09<02:54,  2.35it/s]"
     ]
    },
    {
     "name": "stdout",
     "output_type": "stream",
     "text": [
      "MoviePy - Done.\n",
      "\n",
      "File: datasets/train/Crying/H85OllZBK70_000013_000023.mp4\n",
      "Ground Truth: Crying\n",
      "Top predictions:\n"
     ]
    },
    {
     "name": "stderr",
     "output_type": "stream",
     "text": [
      "  4%|▍         | 16/424 [00:09<02:58,  2.29it/s]"
     ]
    },
    {
     "name": "stdout",
     "output_type": "stream",
     "text": [
      "          Crying: 62.78%\n",
      "     Suffocating: 22.80%\n",
      "      Meditating: 3.62%\n",
      "No people is in the room: 2.27%\n",
      "     Celebrating: 1.60%\n",
      "\n",
      "datasets/audios/train/Crying\n"
     ]
    },
    {
     "name": "stderr",
     "output_type": "stream",
     "text": [
      "  4%|▍         | 16/424 [00:09<02:58,  2.29it/s]"
     ]
    },
    {
     "name": "stdout",
     "output_type": "stream",
     "text": [
      "MoviePy - Writing audio in datasets/audios/train/Crying/Ha3vwLcjMAs_000157_000167.wav\n"
     ]
    },
    {
     "name": "stderr",
     "output_type": "stream",
     "text": [
      "  4%|▍         | 17/424 [00:10<02:49,  2.40it/s]"
     ]
    },
    {
     "name": "stdout",
     "output_type": "stream",
     "text": [
      "MoviePy - Done.\n",
      "\n",
      "File: datasets/train/Crying/Ha3vwLcjMAs_000157_000167.mp4\n",
      "Ground Truth: Crying\n",
      "Top predictions:\n",
      "   Doing laundry: 32.95%\n",
      "  Brushing teeth: 19.10%\n",
      "     Suffocating: 12.14%\n",
      "          Crying: 7.47%\n",
      "Playing with pets: 7.32%\n",
      "\n"
     ]
    },
    {
     "name": "stderr",
     "output_type": "stream",
     "text": [
      "  4%|▍         | 17/424 [00:10<02:49,  2.40it/s]"
     ]
    },
    {
     "name": "stdout",
     "output_type": "stream",
     "text": [
      "datasets/audios/train/Crying\n",
      "MoviePy - Writing audio in datasets/audios/train/Crying/l5UWczmUVeY_000019_000029.wav\n"
     ]
    },
    {
     "name": "stderr",
     "output_type": "stream",
     "text": [
      "  4%|▍         | 17/424 [00:10<02:49,  2.40it/s]"
     ]
    },
    {
     "name": "stdout",
     "output_type": "stream",
     "text": [
      "MoviePy - Done.\n"
     ]
    },
    {
     "name": "stderr",
     "output_type": "stream",
     "text": [
      "  4%|▍         | 18/424 [00:10<03:00,  2.25it/s]"
     ]
    },
    {
     "name": "stdout",
     "output_type": "stream",
     "text": [
      "\n",
      "File: datasets/train/Crying/l5UWczmUVeY_000019_000029.mp4\n",
      "Ground Truth: Crying\n",
      "Top predictions:\n",
      "          Crying: 42.06%\n",
      "     Suffocating: 40.77%\n",
      "Playing with pets: 3.80%\n",
      "      Meditating: 2.20%\n",
      "        Laughing: 2.02%\n",
      "\n",
      "datasets/audios/train/Crying\n"
     ]
    },
    {
     "name": "stderr",
     "output_type": "stream",
     "text": [
      "  4%|▍         | 18/424 [00:10<03:00,  2.25it/s]"
     ]
    },
    {
     "name": "stdout",
     "output_type": "stream",
     "text": [
      "MoviePy - Writing audio in datasets/audios/train/Crying/oH_BDY4bWp4_000000_000010.wav\n"
     ]
    },
    {
     "name": "stderr",
     "output_type": "stream",
     "text": [
      "  4%|▍         | 18/424 [00:10<03:00,  2.25it/s]"
     ]
    },
    {
     "name": "stdout",
     "output_type": "stream",
     "text": [
      "MoviePy - Done.\n"
     ]
    },
    {
     "name": "stderr",
     "output_type": "stream",
     "text": [
      "  4%|▍         | 19/424 [00:10<02:54,  2.32it/s]"
     ]
    },
    {
     "name": "stdout",
     "output_type": "stream",
     "text": [
      "\n",
      "File: datasets/train/Crying/oH_BDY4bWp4_000000_000010.mp4\n",
      "Ground Truth: Crying\n",
      "Top predictions:\n",
      "          Crying: 84.91%\n",
      "     Suffocating: 7.72%\n",
      "Domestic violence: 1.36%\n",
      "      Using drug: 1.22%\n",
      "Making phone calls: 1.06%\n",
      "\n"
     ]
    },
    {
     "name": "stderr",
     "output_type": "stream",
     "text": [
      "  4%|▍         | 19/424 [00:11<02:54,  2.32it/s]"
     ]
    },
    {
     "name": "stdout",
     "output_type": "stream",
     "text": [
      "datasets/audios/train/Crying\n",
      "MoviePy - Writing audio in datasets/audios/train/Crying/Oi7DvmU-tF0_000000_000010.wav\n"
     ]
    },
    {
     "name": "stderr",
     "output_type": "stream",
     "text": [
      "  4%|▍         | 19/424 [00:11<02:54,  2.32it/s]"
     ]
    },
    {
     "name": "stdout",
     "output_type": "stream",
     "text": [
      "MoviePy - Done.\n"
     ]
    },
    {
     "name": "stderr",
     "output_type": "stream",
     "text": [
      "  5%|▍         | 20/424 [00:11<03:02,  2.22it/s]"
     ]
    },
    {
     "name": "stdout",
     "output_type": "stream",
     "text": [
      "\n",
      "File: datasets/train/Crying/Oi7DvmU-tF0_000000_000010.mp4\n",
      "Ground Truth: Crying\n",
      "Top predictions:\n",
      "          Crying: 91.47%\n",
      "     Suffocating: 5.36%\n",
      "Domestic violence: 0.96%\n",
      "Making phone calls: 0.28%\n",
      "Playing with pets: 0.28%\n",
      "\n",
      "datasets/audios/train/Crying\n"
     ]
    },
    {
     "name": "stderr",
     "output_type": "stream",
     "text": [
      "  5%|▍         | 20/424 [00:11<03:02,  2.22it/s]"
     ]
    },
    {
     "name": "stdout",
     "output_type": "stream",
     "text": [
      "MoviePy - Writing audio in datasets/audios/train/Crying/oNiWBhu1-JQ_000000_000010.wav\n"
     ]
    },
    {
     "name": "stderr",
     "output_type": "stream",
     "text": [
      "  5%|▍         | 21/424 [00:11<02:51,  2.35it/s]"
     ]
    },
    {
     "name": "stdout",
     "output_type": "stream",
     "text": [
      "MoviePy - Done.\n",
      "\n",
      "File: datasets/train/Crying/oNiWBhu1-JQ_000000_000010.mp4\n",
      "Ground Truth: Crying\n",
      "Top predictions:\n",
      "          Crying: 71.23%\n",
      "     Suffocating: 21.80%\n",
      "      Meditating: 1.46%\n",
      "        Sleeping: 1.14%\n",
      "Playing with pets: 0.92%\n",
      "\n"
     ]
    },
    {
     "name": "stderr",
     "output_type": "stream",
     "text": [
      "  5%|▍         | 21/424 [00:11<02:51,  2.35it/s]"
     ]
    },
    {
     "name": "stdout",
     "output_type": "stream",
     "text": [
      "datasets/audios/train/Crying\n",
      "MoviePy - Writing audio in datasets/audios/train/Crying/Pa4kyZAUTXQ_000017_000027.wav\n"
     ]
    },
    {
     "name": "stderr",
     "output_type": "stream",
     "text": [
      "  5%|▍         | 21/424 [00:12<02:51,  2.35it/s]"
     ]
    },
    {
     "name": "stdout",
     "output_type": "stream",
     "text": [
      "MoviePy - Done.\n"
     ]
    },
    {
     "name": "stderr",
     "output_type": "stream",
     "text": [
      "                                                "
     ]
    },
    {
     "name": "stdout",
     "output_type": "stream",
     "text": [
      "\n",
      "File: datasets/train/Crying/Pa4kyZAUTXQ_000017_000027.mp4\n",
      "Ground Truth: Crying\n",
      "Top predictions:\n",
      "          Crying: 61.20%\n",
      "     Suffocating: 22.14%\n",
      "Playing with pets: 3.98%\n",
      "        Sleeping: 2.40%\n",
      "      Meditating: 1.86%\n",
      "\n",
      "datasets/audios/train/Crying\n"
     ]
    },
    {
     "name": "stderr",
     "output_type": "stream",
     "text": [
      "  5%|▌         | 22/424 [00:12<02:59,  2.24it/s]"
     ]
    },
    {
     "name": "stdout",
     "output_type": "stream",
     "text": [
      "MoviePy - Writing audio in datasets/audios/train/Crying/pg4HbzuxCIE_000022_000032.wav\n"
     ]
    },
    {
     "name": "stderr",
     "output_type": "stream",
     "text": [
      "  5%|▌         | 23/424 [00:12<02:49,  2.36it/s]"
     ]
    },
    {
     "name": "stdout",
     "output_type": "stream",
     "text": [
      "MoviePy - Done.\n",
      "\n",
      "File: datasets/train/Crying/pg4HbzuxCIE_000022_000032.mp4\n",
      "Ground Truth: Crying\n",
      "Top predictions:\n",
      "          Crying: 86.26%\n",
      "     Suffocating: 9.90%\n",
      "Playing with pets: 0.84%\n",
      "Making phone calls: 0.56%\n",
      "      Meditating: 0.46%\n",
      "\n"
     ]
    },
    {
     "name": "stderr",
     "output_type": "stream",
     "text": [
      "  5%|▌         | 23/424 [00:12<02:49,  2.36it/s]"
     ]
    },
    {
     "name": "stdout",
     "output_type": "stream",
     "text": [
      "datasets/audios/train/Crying\n",
      "MoviePy - Writing audio in datasets/audios/train/Crying/pHgqoFKTBDc_000004_000014.wav\n"
     ]
    },
    {
     "name": "stderr",
     "output_type": "stream",
     "text": [
      "  5%|▌         | 23/424 [00:12<02:49,  2.36it/s]"
     ]
    },
    {
     "name": "stdout",
     "output_type": "stream",
     "text": [
      "MoviePy - Done.\n"
     ]
    },
    {
     "name": "stderr",
     "output_type": "stream",
     "text": [
      "  6%|▌         | 24/424 [00:13<02:54,  2.29it/s]"
     ]
    },
    {
     "name": "stdout",
     "output_type": "stream",
     "text": [
      "\n",
      "File: datasets/train/Crying/pHgqoFKTBDc_000004_000014.mp4\n",
      "Ground Truth: Crying\n",
      "Top predictions:\n",
      "          Crying: 85.14%\n",
      "     Suffocating: 6.41%\n",
      "      Meditating: 2.57%\n",
      "      Using drug: 1.52%\n",
      "        Sleeping: 1.04%\n",
      "\n",
      "datasets/audios/train/Crying\n"
     ]
    },
    {
     "name": "stderr",
     "output_type": "stream",
     "text": [
      "  6%|▌         | 24/424 [00:13<02:54,  2.29it/s]"
     ]
    },
    {
     "name": "stdout",
     "output_type": "stream",
     "text": [
      "MoviePy - Writing audio in datasets/audios/train/Crying/pZxdg1Stvb8_000000_000010.wav\n"
     ]
    },
    {
     "name": "stderr",
     "output_type": "stream",
     "text": [
      "  6%|▌         | 25/424 [00:13<02:45,  2.41it/s]"
     ]
    },
    {
     "name": "stdout",
     "output_type": "stream",
     "text": [
      "MoviePy - Done.\n",
      "\n",
      "File: datasets/train/Crying/pZxdg1Stvb8_000000_000010.mp4\n",
      "Ground Truth: Crying\n",
      "Top predictions:\n",
      "          Crying: 63.94%\n",
      "     Suffocating: 16.75%\n",
      "      Using drug: 3.17%\n",
      "     Celebrating: 3.16%\n",
      "Playing with pets: 1.78%\n",
      "\n"
     ]
    },
    {
     "name": "stderr",
     "output_type": "stream",
     "text": [
      "  6%|▌         | 25/424 [00:13<02:45,  2.41it/s]"
     ]
    },
    {
     "name": "stdout",
     "output_type": "stream",
     "text": [
      "datasets/audios/train/Crying\n",
      "MoviePy - Writing audio in datasets/audios/train/Crying/QApH290EHcU_000035_000045.wav\n"
     ]
    },
    {
     "name": "stderr",
     "output_type": "stream",
     "text": [
      "  6%|▌         | 25/424 [00:13<02:45,  2.41it/s]"
     ]
    },
    {
     "name": "stdout",
     "output_type": "stream",
     "text": [
      "MoviePy - Done.\n",
      "\n",
      "File: datasets/train/Crying/QApH290EHcU_000035_000045.mp4\n",
      "Ground Truth: Crying\n",
      "Top predictions:\n"
     ]
    },
    {
     "name": "stderr",
     "output_type": "stream",
     "text": [
      "  6%|▌         | 26/424 [00:13<02:51,  2.31it/s]"
     ]
    },
    {
     "name": "stdout",
     "output_type": "stream",
     "text": [
      "          Crying: 46.15%\n",
      "Playing with pets: 18.49%\n",
      "     Suffocating: 13.17%\n",
      "        Laughing: 5.35%\n",
      "      Meditating: 2.95%\n",
      "\n",
      "datasets/audios/train/Crying\n"
     ]
    },
    {
     "name": "stderr",
     "output_type": "stream",
     "text": [
      "  6%|▌         | 26/424 [00:14<02:51,  2.31it/s]"
     ]
    },
    {
     "name": "stdout",
     "output_type": "stream",
     "text": [
      "MoviePy - Writing audio in datasets/audios/train/Crying/qFOg87dNSh4_000001_000011.wav\n"
     ]
    },
    {
     "name": "stderr",
     "output_type": "stream",
     "text": [
      "  6%|▋         | 27/424 [00:14<02:46,  2.39it/s]"
     ]
    },
    {
     "name": "stdout",
     "output_type": "stream",
     "text": [
      "MoviePy - Done.\n",
      "\n",
      "File: datasets/train/Crying/qFOg87dNSh4_000001_000011.mp4\n",
      "Ground Truth: Crying\n",
      "Top predictions:\n",
      "          Crying: 56.36%\n",
      "     Suffocating: 18.35%\n",
      "        Laughing: 15.92%\n",
      "Playing with pets: 3.96%\n",
      "  Brushing teeth: 1.28%\n",
      "\n"
     ]
    },
    {
     "name": "stderr",
     "output_type": "stream",
     "text": [
      "  6%|▋         | 27/424 [00:14<02:46,  2.39it/s]"
     ]
    },
    {
     "name": "stdout",
     "output_type": "stream",
     "text": [
      "datasets/audios/train/Crying\n",
      "MoviePy - Writing audio in datasets/audios/train/Crying/quf-iuFOT4s_000000_000010.wav\n"
     ]
    },
    {
     "name": "stderr",
     "output_type": "stream",
     "text": [
      "  6%|▋         | 27/424 [00:14<02:46,  2.39it/s]"
     ]
    },
    {
     "name": "stdout",
     "output_type": "stream",
     "text": [
      "MoviePy - Done.\n"
     ]
    },
    {
     "name": "stderr",
     "output_type": "stream",
     "text": [
      "  7%|▋         | 28/424 [00:14<02:56,  2.24it/s]"
     ]
    },
    {
     "name": "stdout",
     "output_type": "stream",
     "text": [
      "\n",
      "File: datasets/train/Crying/quf-iuFOT4s_000000_000010.mp4\n",
      "Ground Truth: Crying\n",
      "Top predictions:\n",
      "        Laughing: 60.45%\n",
      "Playing with pets: 12.69%\n",
      "          Crying: 7.15%\n",
      "     Suffocating: 3.39%\n",
      "     Celebrating: 3.04%\n",
      "\n"
     ]
    },
    {
     "name": "stderr",
     "output_type": "stream",
     "text": [
      "  7%|▋         | 28/424 [00:15<02:56,  2.24it/s]"
     ]
    },
    {
     "name": "stdout",
     "output_type": "stream",
     "text": [
      "datasets/audios/train/Crying\n",
      "MoviePy - Writing audio in datasets/audios/train/Crying/rCwNyAjkGPQ_000031_000041.wav\n"
     ]
    },
    {
     "name": "stderr",
     "output_type": "stream",
     "text": [
      "  7%|▋         | 29/424 [00:15<02:49,  2.32it/s]"
     ]
    },
    {
     "name": "stdout",
     "output_type": "stream",
     "text": [
      "MoviePy - Done.\n",
      "\n",
      "File: datasets/train/Crying/rCwNyAjkGPQ_000031_000041.mp4\n",
      "Ground Truth: Crying\n",
      "Top predictions:\n",
      "No people is in the room: 48.88%\n",
      "          Crying: 8.69%\n",
      "     Suffocating: 7.59%\n",
      "      Meditating: 6.62%\n",
      "     Celebrating: 5.45%\n",
      "\n"
     ]
    },
    {
     "name": "stderr",
     "output_type": "stream",
     "text": [
      "  7%|▋         | 29/424 [00:15<02:49,  2.32it/s]"
     ]
    },
    {
     "name": "stdout",
     "output_type": "stream",
     "text": [
      "datasets/audios/train/Crying\n",
      "MoviePy - Writing audio in datasets/audios/train/Crying/sjZsedv-jG8_000008_000018.wav\n"
     ]
    },
    {
     "name": "stderr",
     "output_type": "stream",
     "text": [
      "  7%|▋         | 29/424 [00:15<02:49,  2.32it/s]"
     ]
    },
    {
     "name": "stdout",
     "output_type": "stream",
     "text": [
      "MoviePy - Done.\n"
     ]
    },
    {
     "name": "stderr",
     "output_type": "stream",
     "text": [
      "  7%|▋         | 30/424 [00:15<02:54,  2.25it/s]"
     ]
    },
    {
     "name": "stdout",
     "output_type": "stream",
     "text": [
      "\n",
      "File: datasets/train/Crying/sjZsedv-jG8_000008_000018.mp4\n",
      "Ground Truth: Crying\n",
      "Top predictions:\n",
      "        Laughing: 45.73%\n",
      "          Crying: 30.92%\n",
      "Playing with pets: 9.08%\n",
      "     Suffocating: 3.71%\n",
      "         Talking: 2.12%\n",
      "\n"
     ]
    },
    {
     "name": "stderr",
     "output_type": "stream",
     "text": [
      "  7%|▋         | 30/424 [00:15<02:54,  2.25it/s]"
     ]
    },
    {
     "name": "stdout",
     "output_type": "stream",
     "text": [
      "datasets/audios/train/Crying\n",
      "MoviePy - Writing audio in datasets/audios/train/Crying/tIm0yA_u5Qc_000000_000010.wav\n"
     ]
    },
    {
     "name": "stderr",
     "output_type": "stream",
     "text": [
      "  7%|▋         | 31/424 [00:16<02:50,  2.31it/s]"
     ]
    },
    {
     "name": "stdout",
     "output_type": "stream",
     "text": [
      "MoviePy - Done.\n",
      "\n",
      "File: datasets/train/Crying/tIm0yA_u5Qc_000000_000010.mp4\n",
      "Ground Truth: Crying\n",
      "Top predictions:\n",
      "        Laughing: 40.80%\n",
      "Playing with pets: 34.74%\n",
      "     Celebrating: 10.10%\n",
      "     Suffocating: 4.36%\n",
      "No people is in the room: 2.86%\n",
      "\n"
     ]
    },
    {
     "name": "stderr",
     "output_type": "stream",
     "text": [
      "  7%|▋         | 31/424 [00:16<02:50,  2.31it/s]"
     ]
    },
    {
     "name": "stdout",
     "output_type": "stream",
     "text": [
      "datasets/audios/train/Crying\n",
      "MoviePy - Writing audio in datasets/audios/train/Crying/tlY2Cy-VH_g_000005_000015.wav\n"
     ]
    },
    {
     "name": "stderr",
     "output_type": "stream",
     "text": [
      "  7%|▋         | 31/424 [00:16<02:50,  2.31it/s]"
     ]
    },
    {
     "name": "stdout",
     "output_type": "stream",
     "text": [
      "MoviePy - Done.\n"
     ]
    },
    {
     "name": "stderr",
     "output_type": "stream",
     "text": [
      "  8%|▊         | 32/424 [00:16<03:04,  2.13it/s]"
     ]
    },
    {
     "name": "stdout",
     "output_type": "stream",
     "text": [
      "\n",
      "File: datasets/train/Crying/tlY2Cy-VH_g_000005_000015.mp4\n",
      "Ground Truth: Crying\n",
      "Top predictions:\n",
      "          Crying: 45.34%\n",
      "     Suffocating: 40.24%\n",
      "No people is in the room: 3.43%\n",
      "      Meditating: 2.19%\n",
      "Domestic violence: 1.66%\n",
      "\n",
      "datasets/audios/train/Crying\n"
     ]
    },
    {
     "name": "stderr",
     "output_type": "stream",
     "text": [
      "  8%|▊         | 32/424 [00:16<03:04,  2.13it/s]"
     ]
    },
    {
     "name": "stdout",
     "output_type": "stream",
     "text": [
      "MoviePy - Writing audio in datasets/audios/train/Crying/TNl9NjfWZ1o_000084_000094.wav\n"
     ]
    },
    {
     "name": "stderr",
     "output_type": "stream",
     "text": [
      "  8%|▊         | 33/424 [00:17<02:53,  2.25it/s]"
     ]
    },
    {
     "name": "stdout",
     "output_type": "stream",
     "text": [
      "MoviePy - Done.\n",
      "\n",
      "File: datasets/train/Crying/TNl9NjfWZ1o_000084_000094.mp4\n",
      "Ground Truth: Crying\n",
      "Top predictions:\n",
      "     Suffocating: 37.59%\n",
      "          Crying: 37.42%\n",
      "Playing with pets: 16.15%\n",
      "        Laughing: 1.26%\n",
      "Domestic violence: 0.97%\n",
      "\n"
     ]
    },
    {
     "name": "stderr",
     "output_type": "stream",
     "text": [
      "  8%|▊         | 33/424 [00:17<02:53,  2.25it/s]"
     ]
    },
    {
     "name": "stdout",
     "output_type": "stream",
     "text": [
      "datasets/audios/train/Crying\n",
      "MoviePy - Writing audio in datasets/audios/train/Crying/u-oc-Eln_yc_000003_000013.wav\n"
     ]
    },
    {
     "name": "stderr",
     "output_type": "stream",
     "text": [
      "  8%|▊         | 33/424 [00:17<02:53,  2.25it/s]"
     ]
    },
    {
     "name": "stdout",
     "output_type": "stream",
     "text": [
      "MoviePy - Done.\n"
     ]
    },
    {
     "name": "stderr",
     "output_type": "stream",
     "text": [
      "  8%|▊         | 34/424 [00:17<02:53,  2.25it/s]"
     ]
    },
    {
     "name": "stdout",
     "output_type": "stream",
     "text": [
      "\n",
      "File: datasets/train/Crying/u-oc-Eln_yc_000003_000013.mp4\n",
      "Ground Truth: Crying\n",
      "Top predictions:\n",
      "          Crying: 48.61%\n",
      "     Suffocating: 22.84%\n",
      "Playing with pets: 9.09%\n",
      "No people is in the room: 6.96%\n",
      "Domestic violence: 3.57%\n",
      "\n",
      "datasets/audios/train/Crying\n"
     ]
    },
    {
     "name": "stderr",
     "output_type": "stream",
     "text": [
      "  8%|▊         | 34/424 [00:17<02:53,  2.25it/s]"
     ]
    },
    {
     "name": "stdout",
     "output_type": "stream",
     "text": [
      "MoviePy - Writing audio in datasets/audios/train/Crying/Ux2iImyAiL4_000001_000011.wav\n"
     ]
    },
    {
     "name": "stderr",
     "output_type": "stream",
     "text": [
      "  8%|▊         | 34/424 [00:17<02:53,  2.25it/s]"
     ]
    },
    {
     "name": "stdout",
     "output_type": "stream",
     "text": [
      "MoviePy - Done.\n"
     ]
    },
    {
     "name": "stderr",
     "output_type": "stream",
     "text": [
      "  8%|▊         | 35/424 [00:17<02:49,  2.30it/s]"
     ]
    },
    {
     "name": "stdout",
     "output_type": "stream",
     "text": [
      "\n",
      "File: datasets/train/Crying/Ux2iImyAiL4_000001_000011.mp4\n",
      "Ground Truth: Crying\n",
      "Top predictions:\n",
      "          Crying: 44.48%\n",
      "Playing with pets: 18.15%\n",
      "     Suffocating: 14.10%\n",
      "        Sleeping: 7.98%\n",
      "     Eating food: 2.89%\n",
      "\n"
     ]
    },
    {
     "name": "stderr",
     "output_type": "stream",
     "text": [
      "  8%|▊         | 35/424 [00:18<02:49,  2.30it/s]"
     ]
    },
    {
     "name": "stdout",
     "output_type": "stream",
     "text": [
      "datasets/audios/train/Crying\n",
      "MoviePy - Writing audio in datasets/audios/train/Crying/VcHysqkJPSE_000002_000012.wav\n"
     ]
    },
    {
     "name": "stderr",
     "output_type": "stream",
     "text": [
      "  8%|▊         | 35/424 [00:18<02:49,  2.30it/s]"
     ]
    },
    {
     "name": "stdout",
     "output_type": "stream",
     "text": [
      "MoviePy - Done.\n"
     ]
    },
    {
     "name": "stderr",
     "output_type": "stream",
     "text": [
      "  8%|▊         | 36/424 [00:18<02:48,  2.30it/s]"
     ]
    },
    {
     "name": "stdout",
     "output_type": "stream",
     "text": [
      "\n",
      "File: datasets/train/Crying/VcHysqkJPSE_000002_000012.mp4\n",
      "Ground Truth: Crying\n",
      "Top predictions:\n",
      "     Celebrating: 17.81%\n",
      "No people is in the room: 16.71%\n",
      "      Meditating: 9.20%\n",
      "         Talking: 6.87%\n",
      "      Using drug: 4.60%\n",
      "\n",
      "datasets/audios/train/Crying\n"
     ]
    },
    {
     "name": "stderr",
     "output_type": "stream",
     "text": [
      "  8%|▊         | 36/424 [00:18<02:48,  2.30it/s]"
     ]
    },
    {
     "name": "stdout",
     "output_type": "stream",
     "text": [
      "MoviePy - Writing audio in datasets/audios/train/Crying/X3G7b1JNAfs_000000_000010.wav\n"
     ]
    },
    {
     "name": "stderr",
     "output_type": "stream",
     "text": [
      "  9%|▊         | 37/424 [00:18<02:41,  2.40it/s]"
     ]
    },
    {
     "name": "stdout",
     "output_type": "stream",
     "text": [
      "MoviePy - Done.\n",
      "\n",
      "File: datasets/train/Crying/X3G7b1JNAfs_000000_000010.mp4\n",
      "Ground Truth: Crying\n",
      "Top predictions:\n",
      "        Laughing: 45.90%\n",
      "     Celebrating: 13.85%\n",
      "Playing with pets: 8.58%\n",
      "     Suffocating: 7.81%\n",
      "          Crying: 4.63%\n",
      "\n"
     ]
    },
    {
     "name": "stderr",
     "output_type": "stream",
     "text": [
      "  9%|▊         | 37/424 [00:18<02:41,  2.40it/s]"
     ]
    },
    {
     "name": "stdout",
     "output_type": "stream",
     "text": [
      "datasets/audios/train/Crying\n",
      "MoviePy - Writing audio in datasets/audios/train/Crying/XBNgVxsrqo4_000010_000020.wav\n"
     ]
    },
    {
     "name": "stderr",
     "output_type": "stream",
     "text": [
      "  9%|▊         | 37/424 [00:19<02:41,  2.40it/s]"
     ]
    },
    {
     "name": "stdout",
     "output_type": "stream",
     "text": [
      "MoviePy - Done.\n",
      "\n",
      "File: datasets/train/Crying/XBNgVxsrqo4_000010_000020.mp4\n",
      "Ground Truth: Crying\n",
      "Top predictions:\n"
     ]
    },
    {
     "name": "stderr",
     "output_type": "stream",
     "text": [
      "  9%|▉         | 38/424 [00:19<02:46,  2.32it/s]"
     ]
    },
    {
     "name": "stdout",
     "output_type": "stream",
     "text": [
      "          Crying: 46.85%\n",
      "     Suffocating: 16.44%\n",
      "Domestic violence: 7.06%\n",
      "No people is in the room: 5.72%\n",
      "Playing with pets: 4.06%\n",
      "\n",
      "datasets/audios/train/Crying\n",
      "MoviePy - Writing audio in datasets/audios/train/Crying/xDLo1xt8P6U_000014_000024.wav\n"
     ]
    },
    {
     "name": "stderr",
     "output_type": "stream",
     "text": [
      "  9%|▉         | 39/424 [00:19<02:35,  2.47it/s]"
     ]
    },
    {
     "name": "stdout",
     "output_type": "stream",
     "text": [
      "MoviePy - Done.\n",
      "\n",
      "File: datasets/train/Crying/xDLo1xt8P6U_000014_000024.mp4\n",
      "Ground Truth: Crying\n",
      "Top predictions:\n",
      "          Crying: 78.78%\n",
      "     Suffocating: 10.48%\n",
      "Domestic violence: 3.26%\n",
      "No people is in the room: 3.19%\n",
      "      Meditating: 1.20%\n",
      "\n"
     ]
    },
    {
     "name": "stderr",
     "output_type": "stream",
     "text": [
      "  9%|▉         | 39/424 [00:19<02:35,  2.47it/s]"
     ]
    },
    {
     "name": "stdout",
     "output_type": "stream",
     "text": [
      "datasets/audios/train/Crying\n",
      "MoviePy - Writing audio in datasets/audios/train/Crying/yAgm_XnqBec_000010_000020.wav\n"
     ]
    },
    {
     "name": "stderr",
     "output_type": "stream",
     "text": [
      "  9%|▉         | 39/424 [00:19<02:35,  2.47it/s]"
     ]
    },
    {
     "name": "stdout",
     "output_type": "stream",
     "text": [
      "MoviePy - Done.\n",
      "\n",
      "File: datasets/train/Crying/yAgm_XnqBec_000010_000020.mp4\n",
      "Ground Truth: Crying\n",
      "Top predictions:\n"
     ]
    },
    {
     "name": "stderr",
     "output_type": "stream",
     "text": [
      "  9%|▉         | 40/424 [00:20<02:48,  2.28it/s]"
     ]
    },
    {
     "name": "stdout",
     "output_type": "stream",
     "text": [
      "          Crying: 62.37%\n",
      "     Suffocating: 21.02%\n",
      "Domestic violence: 6.38%\n",
      "No people is in the room: 3.90%\n",
      "Playing with pets: 3.40%\n",
      "\n",
      "datasets/audios/train/Crying\n"
     ]
    },
    {
     "name": "stderr",
     "output_type": "stream",
     "text": [
      "  9%|▉         | 40/424 [00:20<02:48,  2.28it/s]"
     ]
    },
    {
     "name": "stdout",
     "output_type": "stream",
     "text": [
      "MoviePy - Writing audio in datasets/audios/train/Crying/yDD0alN95O8_000015_000025.wav\n"
     ]
    },
    {
     "name": "stderr",
     "output_type": "stream",
     "text": [
      " 10%|▉         | 41/424 [00:20<02:40,  2.38it/s]"
     ]
    },
    {
     "name": "stdout",
     "output_type": "stream",
     "text": [
      "MoviePy - Done.\n",
      "\n",
      "File: datasets/train/Crying/yDD0alN95O8_000015_000025.mp4\n",
      "Ground Truth: Crying\n",
      "Top predictions:\n",
      "No people is in the room: 41.04%\n",
      "     Suffocating: 19.09%\n",
      "          Crying: 10.20%\n",
      "Domestic violence: 7.49%\n",
      "Playing with pets: 4.11%\n",
      "\n"
     ]
    },
    {
     "name": "stderr",
     "output_type": "stream",
     "text": [
      " 10%|▉         | 41/424 [00:20<02:40,  2.38it/s]"
     ]
    },
    {
     "name": "stdout",
     "output_type": "stream",
     "text": [
      "datasets/audios/train/Crying\n",
      "MoviePy - Writing audio in datasets/audios/train/Crying/yDKz5An0qd0_000024_000034.wav\n"
     ]
    },
    {
     "name": "stderr",
     "output_type": "stream",
     "text": [
      " 10%|▉         | 41/424 [00:20<02:40,  2.38it/s]"
     ]
    },
    {
     "name": "stdout",
     "output_type": "stream",
     "text": [
      "MoviePy - Done.\n",
      "\n",
      "File: datasets/train/Crying/yDKz5An0qd0_000024_000034.mp4\n",
      "Ground Truth: Crying\n",
      "Top predictions:\n"
     ]
    },
    {
     "name": "stderr",
     "output_type": "stream",
     "text": [
      " 10%|▉         | 42/424 [00:20<02:46,  2.29it/s]"
     ]
    },
    {
     "name": "stdout",
     "output_type": "stream",
     "text": [
      "          Crying: 43.29%\n",
      "        Laughing: 10.39%\n",
      "        Sleeping: 8.05%\n",
      "     Suffocating: 6.14%\n",
      "         Talking: 5.92%\n",
      "\n"
     ]
    },
    {
     "name": "stderr",
     "output_type": "stream",
     "text": [
      " 10%|▉         | 42/424 [00:21<02:46,  2.29it/s]"
     ]
    },
    {
     "name": "stdout",
     "output_type": "stream",
     "text": [
      "datasets/audios/train/Crying\n",
      "MoviePy - Writing audio in datasets/audios/train/Crying/zQWdo_Er87M_000008_000018.wav\n"
     ]
    },
    {
     "name": "stderr",
     "output_type": "stream",
     "text": [
      " 10%|█         | 43/424 [00:21<02:42,  2.34it/s]"
     ]
    },
    {
     "name": "stdout",
     "output_type": "stream",
     "text": [
      "MoviePy - Done.\n",
      "\n",
      "File: datasets/train/Crying/zQWdo_Er87M_000008_000018.mp4\n",
      "Ground Truth: Crying\n",
      "Top predictions:\n",
      "          Crying: 76.88%\n",
      "     Suffocating: 15.63%\n",
      "Domestic violence: 1.58%\n",
      "      Meditating: 1.53%\n",
      "No people is in the room: 0.97%\n",
      "\n"
     ]
    },
    {
     "name": "stderr",
     "output_type": "stream",
     "text": [
      " 10%|█         | 43/424 [00:21<02:42,  2.34it/s]"
     ]
    },
    {
     "name": "stdout",
     "output_type": "stream",
     "text": [
      "datasets/audios/train/Crying\n",
      "MoviePy - Writing audio in datasets/audios/train/Crying/ZrFW1iPMnig_000060_000070.wav\n"
     ]
    },
    {
     "name": "stderr",
     "output_type": "stream",
     "text": [
      " 10%|█         | 43/424 [00:21<02:42,  2.34it/s]"
     ]
    },
    {
     "name": "stdout",
     "output_type": "stream",
     "text": [
      "MoviePy - Done.\n"
     ]
    },
    {
     "name": "stderr",
     "output_type": "stream",
     "text": [
      " 10%|█         | 44/424 [00:21<02:42,  2.34it/s]"
     ]
    },
    {
     "name": "stdout",
     "output_type": "stream",
     "text": [
      "\n",
      "File: datasets/train/Crying/ZrFW1iPMnig_000060_000070.mp4\n",
      "Ground Truth: Crying\n",
      "Top predictions:\n",
      "          Crying: 68.31%\n",
      "     Suffocating: 13.06%\n",
      "        Laughing: 8.01%\n",
      "Playing with pets: 3.93%\n",
      "  Brushing teeth: 0.88%\n",
      "\n",
      "datasets/audios/train/Crying\n"
     ]
    },
    {
     "name": "stderr",
     "output_type": "stream",
     "text": [
      " 10%|█         | 44/424 [00:21<02:42,  2.34it/s]"
     ]
    },
    {
     "name": "stdout",
     "output_type": "stream",
     "text": [
      "MoviePy - Writing audio in datasets/audios/train/Crying/zwOBqeFTgiU_000012_000022.wav\n"
     ]
    },
    {
     "name": "stderr",
     "output_type": "stream",
     "text": [
      " 11%|█         | 45/424 [00:22<02:34,  2.45it/s]"
     ]
    },
    {
     "name": "stdout",
     "output_type": "stream",
     "text": [
      "MoviePy - Done.\n",
      "\n",
      "File: datasets/train/Crying/zwOBqeFTgiU_000012_000022.mp4\n",
      "Ground Truth: Crying\n",
      "Top predictions:\n",
      "          Crying: 65.21%\n",
      "     Suffocating: 21.30%\n",
      "Domestic violence: 4.50%\n",
      "Playing with pets: 2.93%\n",
      "No people is in the room: 1.18%\n",
      "\n"
     ]
    },
    {
     "name": "stderr",
     "output_type": "stream",
     "text": [
      " 11%|█         | 45/424 [00:22<02:34,  2.45it/s]"
     ]
    },
    {
     "name": "stdout",
     "output_type": "stream",
     "text": [
      "datasets/audios/train/Crying\n",
      "MoviePy - Writing audio in datasets/audios/train/Crying/_ceBK5pQTrs_000033_000043.wav\n"
     ]
    },
    {
     "name": "stderr",
     "output_type": "stream",
     "text": [
      " 11%|█         | 45/424 [00:22<02:34,  2.45it/s]"
     ]
    },
    {
     "name": "stdout",
     "output_type": "stream",
     "text": [
      "MoviePy - Done.\n"
     ]
    },
    {
     "name": "stderr",
     "output_type": "stream",
     "text": [
      " 11%|█         | 46/424 [00:22<02:48,  2.24it/s]"
     ]
    },
    {
     "name": "stdout",
     "output_type": "stream",
     "text": [
      "\n",
      "File: datasets/train/Crying/_ceBK5pQTrs_000033_000043.mp4\n",
      "Ground Truth: Crying\n",
      "Top predictions:\n",
      "          Crying: 68.13%\n",
      "     Suffocating: 17.26%\n",
      "Playing with pets: 2.69%\n",
      "Domestic violence: 2.46%\n",
      "No people is in the room: 2.26%\n",
      "\n"
     ]
    },
    {
     "name": "stderr",
     "output_type": "stream",
     "text": [
      " 11%|█         | 46/424 [00:22<02:48,  2.24it/s]"
     ]
    },
    {
     "name": "stdout",
     "output_type": "stream",
     "text": [
      "datasets/audios/train/Crying\n",
      "MoviePy - Writing audio in datasets/audios/train/Crying/_fVz9qyplBc_000078_000088.wav\n"
     ]
    },
    {
     "name": "stderr",
     "output_type": "stream",
     "text": [
      " 11%|█         | 47/424 [00:23<02:43,  2.30it/s]"
     ]
    },
    {
     "name": "stdout",
     "output_type": "stream",
     "text": [
      "MoviePy - Done.\n",
      "\n",
      "File: datasets/train/Crying/_fVz9qyplBc_000078_000088.mp4\n",
      "Ground Truth: Crying\n",
      "Top predictions:\n",
      "          Crying: 73.88%\n",
      "     Suffocating: 17.38%\n",
      "Playing with pets: 4.22%\n",
      "Domestic violence: 1.11%\n",
      "      Meditating: 0.56%\n",
      "\n"
     ]
    },
    {
     "name": "stderr",
     "output_type": "stream",
     "text": [
      " 11%|█         | 47/424 [00:23<02:43,  2.30it/s]"
     ]
    },
    {
     "name": "stdout",
     "output_type": "stream",
     "text": [
      "datasets/audios/train/Crying\n",
      "MoviePy - Writing audio in datasets/audios/train/Crying/_k0fnTiKEMc_000077_000087.wav\n"
     ]
    },
    {
     "name": "stderr",
     "output_type": "stream",
     "text": [
      " 11%|█         | 47/424 [00:23<02:43,  2.30it/s]"
     ]
    },
    {
     "name": "stdout",
     "output_type": "stream",
     "text": [
      "MoviePy - Done.\n"
     ]
    },
    {
     "name": "stderr",
     "output_type": "stream",
     "text": [
      " 11%|█▏        | 48/424 [00:23<02:45,  2.27it/s]"
     ]
    },
    {
     "name": "stdout",
     "output_type": "stream",
     "text": [
      "\n",
      "File: datasets/train/Crying/_k0fnTiKEMc_000077_000087.mp4\n",
      "Ground Truth: Crying\n",
      "Top predictions:\n",
      "          Crying: 75.52%\n",
      "     Suffocating: 13.14%\n",
      "No people is in the room: 4.42%\n",
      "        Laughing: 1.67%\n",
      "Playing with pets: 1.40%\n",
      "\n",
      "datasets/audios/train/Crying\n"
     ]
    },
    {
     "name": "stderr",
     "output_type": "stream",
     "text": [
      " 11%|█▏        | 48/424 [00:23<02:45,  2.27it/s]"
     ]
    },
    {
     "name": "stdout",
     "output_type": "stream",
     "text": [
      "MoviePy - Writing audio in datasets/audios/train/Crying/_uPh9i-xaaE_000094_000104.wav\n"
     ]
    },
    {
     "name": "stderr",
     "output_type": "stream",
     "text": [
      " 12%|█▏        | 49/424 [00:23<02:39,  2.36it/s]"
     ]
    },
    {
     "name": "stdout",
     "output_type": "stream",
     "text": [
      "MoviePy - Done.\n",
      "\n",
      "File: datasets/train/Crying/_uPh9i-xaaE_000094_000104.mp4\n",
      "Ground Truth: Crying\n",
      "Top predictions:\n",
      "          Crying: 91.30%\n",
      "     Suffocating: 6.20%\n",
      "Making phone calls: 0.50%\n",
      "Playing with pets: 0.46%\n",
      "      Meditating: 0.31%\n",
      "\n"
     ]
    },
    {
     "name": "stderr",
     "output_type": "stream",
     "text": [
      " 12%|█▏        | 49/424 [00:24<02:39,  2.36it/s]"
     ]
    },
    {
     "name": "stdout",
     "output_type": "stream",
     "text": [
      "datasets/audios/train/Crying\n",
      "MoviePy - Writing audio in datasets/audios/train/Crying/_wRQiJdk2Rw_000004_000014.wav\n"
     ]
    },
    {
     "name": "stderr",
     "output_type": "stream",
     "text": [
      " 12%|█▏        | 49/424 [00:24<02:39,  2.36it/s]"
     ]
    },
    {
     "name": "stdout",
     "output_type": "stream",
     "text": [
      "MoviePy - Done.\n"
     ]
    },
    {
     "name": "stderr",
     "output_type": "stream",
     "text": [
      " 12%|█▏        | 50/424 [00:24<02:44,  2.28it/s]"
     ]
    },
    {
     "name": "stdout",
     "output_type": "stream",
     "text": [
      "\n",
      "File: datasets/train/Crying/_wRQiJdk2Rw_000004_000014.mp4\n",
      "Ground Truth: Crying\n",
      "Top predictions:\n",
      "No people is in the room: 40.78%\n",
      "     Eating food: 15.98%\n",
      "          Crying: 13.01%\n",
      "        Laughing: 7.48%\n",
      "   Doing laundry: 3.35%\n",
      "\n"
     ]
    },
    {
     "name": "stderr",
     "output_type": "stream",
     "text": [
      " 12%|█▏        | 52/424 [00:24<01:44,  3.55it/s]"
     ]
    },
    {
     "name": "stdout",
     "output_type": "stream",
     "text": [
      "This video datasets/train/Falling down/fall-01-cam0-rgb.mp4 has no audio!\n",
      "This video datasets/train/Falling down/fall-02-cam0-rgb.mp4 has no audio!\n"
     ]
    },
    {
     "name": "stderr",
     "output_type": "stream",
     "text": [
      " 13%|█▎        | 55/424 [00:24<01:04,  5.68it/s]"
     ]
    },
    {
     "name": "stdout",
     "output_type": "stream",
     "text": [
      "This video datasets/train/Falling down/fall-03-cam0-rgb.mp4 has no audio!\n",
      "This video datasets/train/Falling down/fall-04-cam0-rgb.mp4 has no audio!\n",
      "This video datasets/train/Falling down/fall-05-cam0-rgb.mp4 has no audio!\n"
     ]
    },
    {
     "name": "stderr",
     "output_type": "stream",
     "text": [
      " 14%|█▎        | 58/424 [00:25<00:45,  8.01it/s]"
     ]
    },
    {
     "name": "stdout",
     "output_type": "stream",
     "text": [
      "This video datasets/train/Falling down/fall-06-cam0-rgb.mp4 has no audio!\n",
      "This video datasets/train/Falling down/fall-07-cam0-rgb.mp4 has no audio!\n",
      "This video datasets/train/Falling down/fall-08-cam0-rgb.mp4 has no audio!\n"
     ]
    },
    {
     "name": "stderr",
     "output_type": "stream",
     "text": [
      " 14%|█▍        | 61/424 [00:25<00:40,  9.01it/s]"
     ]
    },
    {
     "name": "stdout",
     "output_type": "stream",
     "text": [
      "This video datasets/train/Falling down/fall-09-cam0-rgb.mp4 has no audio!\n",
      "This video datasets/train/Falling down/fall-10-cam0-rgb.mp4 has no audio!\n",
      "This video datasets/train/Falling down/fall-11-cam0-rgb.mp4 has no audio!\n"
     ]
    },
    {
     "name": "stderr",
     "output_type": "stream",
     "text": [
      " 15%|█▍        | 63/424 [00:25<00:38,  9.42it/s]"
     ]
    },
    {
     "name": "stdout",
     "output_type": "stream",
     "text": [
      "This video datasets/train/Falling down/fall-12-cam0-rgb.mp4 has no audio!\n",
      "This video datasets/train/Falling down/fall-13-cam0-rgb.mp4 has no audio!\n",
      "This video datasets/train/Falling down/fall-14-cam0-rgb.mp4 has no audio!\n"
     ]
    },
    {
     "name": "stderr",
     "output_type": "stream",
     "text": [
      " 16%|█▌        | 67/424 [00:26<00:34, 10.22it/s]"
     ]
    },
    {
     "name": "stdout",
     "output_type": "stream",
     "text": [
      "This video datasets/train/Falling down/fall-15-cam0-rgb.mp4 has no audio!\n",
      "This video datasets/train/Falling down/fall-16-cam0-rgb.mp4 has no audio!\n",
      "This video datasets/train/Falling down/fall-17-cam0-rgb.mp4 has no audio!\n"
     ]
    },
    {
     "name": "stderr",
     "output_type": "stream",
     "text": [
      " 16%|█▋        | 69/424 [00:26<00:33, 10.54it/s]"
     ]
    },
    {
     "name": "stdout",
     "output_type": "stream",
     "text": [
      "This video datasets/train/Falling down/fall-18-cam0-rgb.mp4 has no audio!\n",
      "This video datasets/train/Falling down/fall-19-cam0-rgb.mp4 has no audio!\n",
      "This video datasets/train/Falling down/fall-20-cam0-rgb.mp4 has no audio!\n"
     ]
    },
    {
     "name": "stderr",
     "output_type": "stream",
     "text": [
      " 17%|█▋        | 73/424 [00:26<00:34, 10.24it/s]"
     ]
    },
    {
     "name": "stdout",
     "output_type": "stream",
     "text": [
      "This video datasets/train/Falling down/fall-21-cam0-rgb.mp4 has no audio!\n",
      "This video datasets/train/Falling down/fall-22-cam0-rgb.mp4 has no audio!\n",
      "This video datasets/train/Falling down/fall-23-cam0-rgb.mp4 has no audio!\n"
     ]
    },
    {
     "name": "stderr",
     "output_type": "stream",
     "text": [
      " 18%|█▊        | 75/424 [00:26<00:36,  9.48it/s]"
     ]
    },
    {
     "name": "stdout",
     "output_type": "stream",
     "text": [
      "This video datasets/train/Falling down/fall-24-cam0-rgb.mp4 has no audio!\n",
      "This video datasets/train/Falling down/fall-25-cam0-rgb.mp4 has no audio!\n"
     ]
    },
    {
     "name": "stderr",
     "output_type": "stream",
     "text": [
      " 18%|█▊        | 77/424 [00:27<00:34, 10.13it/s]"
     ]
    },
    {
     "name": "stdout",
     "output_type": "stream",
     "text": [
      "This video datasets/train/Falling down/fall-26-cam0-rgb.mp4 has no audio!\n",
      "This video datasets/train/Falling down/fall-27-cam0-rgb.mp4 has no audio!\n",
      "This video datasets/train/Falling down/fall-28-cam0-rgb.mp4 has no audio!\n"
     ]
    },
    {
     "name": "stderr",
     "output_type": "stream",
     "text": [
      " 19%|█▉        | 81/424 [00:27<00:33, 10.24it/s]"
     ]
    },
    {
     "name": "stdout",
     "output_type": "stream",
     "text": [
      "This video datasets/train/Falling down/fall-29-cam0-rgb.mp4 has no audio!\n",
      "This video datasets/train/Falling down/fall-30-cam0-rgb.mp4 has no audio!\n",
      "\n",
      "File: datasets/train/Glass breaking/1000_1380.wav\n",
      "Ground Truth: Glass breaking\n",
      "Top predictions:\n",
      "  Glass breaking: 87.66%\n",
      "        Break in: 10.62%\n",
      "Theft or vandalism: 0.81%\n",
      "Picking up objects: 0.61%\n",
      "Furniture Collapse: 0.13%\n",
      "\n"
     ]
    },
    {
     "name": "stderr",
     "output_type": "stream",
     "text": [
      " 20%|█▉        | 83/424 [00:27<00:33, 10.30it/s]"
     ]
    },
    {
     "name": "stdout",
     "output_type": "stream",
     "text": [
      "\n",
      "File: datasets/train/Glass breaking/1000_1480.wav\n",
      "Ground Truth: Glass breaking\n",
      "Top predictions:\n",
      "  Glass breaking: 95.94%\n",
      "        Break in: 3.29%\n",
      "Picking up objects: 0.45%\n",
      "Theft or vandalism: 0.08%\n",
      "         Smoking: 0.08%\n",
      "\n",
      "\n",
      "File: datasets/train/Glass breaking/1000_1560.wav\n",
      "Ground Truth: Glass breaking\n",
      "Top predictions:\n",
      "  Glass breaking: 34.79%\n",
      "Picking up objects: 28.76%\n",
      "Theft or vandalism: 22.16%\n",
      "        Break in: 12.95%\n",
      "Furniture Collapse: 0.46%\n",
      "\n"
     ]
    },
    {
     "name": "stderr",
     "output_type": "stream",
     "text": [
      " 20%|██        | 85/424 [00:27<00:40,  8.39it/s]"
     ]
    },
    {
     "name": "stdout",
     "output_type": "stream",
     "text": [
      "\n",
      "File: datasets/train/Glass breaking/1000_1680.wav\n",
      "Ground Truth: Glass breaking\n",
      "Top predictions:\n",
      "        Break in: 80.65%\n",
      "  Glass breaking: 18.10%\n",
      "Theft or vandalism: 0.37%\n",
      "Picking up objects: 0.32%\n",
      "        Tripping: 0.18%\n",
      "\n",
      "\n",
      "File: datasets/train/Glass breaking/1000_1720.wav\n",
      "Ground Truth: Glass breaking\n",
      "Top predictions:\n",
      "Picking up objects: 56.56%\n",
      "  Glass breaking: 19.08%\n",
      "        Break in: 18.38%\n",
      "Theft or vandalism: 4.07%\n",
      "Furniture Collapse: 0.77%\n",
      "\n"
     ]
    },
    {
     "name": "stderr",
     "output_type": "stream",
     "text": [
      " 21%|██        | 87/424 [00:28<00:37,  8.89it/s]"
     ]
    },
    {
     "name": "stdout",
     "output_type": "stream",
     "text": [
      "\n",
      "File: datasets/train/Glass breaking/1000_1780.wav\n",
      "Ground Truth: Glass breaking\n",
      "Top predictions:\n",
      "  Glass breaking: 47.57%\n",
      "        Break in: 37.60%\n",
      "Theft or vandalism: 13.06%\n",
      "Furniture Collapse: 0.66%\n",
      "Picking up objects: 0.60%\n",
      "\n",
      "\n",
      "File: datasets/train/Glass breaking/1000_1820.wav\n",
      "Ground Truth: Glass breaking\n",
      "Top predictions:\n",
      "  Glass breaking: 79.04%\n",
      "        Break in: 15.90%\n",
      "Theft or vandalism: 4.03%\n",
      "Furniture Collapse: 0.39%\n",
      "Picking up objects: 0.16%\n",
      "\n"
     ]
    },
    {
     "name": "stderr",
     "output_type": "stream",
     "text": [
      " 21%|██        | 88/424 [00:28<00:39,  8.42it/s]"
     ]
    },
    {
     "name": "stdout",
     "output_type": "stream",
     "text": [
      "\n",
      "File: datasets/train/Glass breaking/1000_2040.wav\n",
      "Ground Truth: Glass breaking\n",
      "Top predictions:\n",
      "        Break in: 57.17%\n",
      "Theft or vandalism: 22.03%\n",
      "Furniture Collapse: 7.58%\n",
      "  Glass breaking: 4.25%\n",
      "     Laying down: 2.38%\n",
      "\n"
     ]
    },
    {
     "name": "stderr",
     "output_type": "stream",
     "text": [
      " 21%|██        | 90/424 [00:28<00:44,  7.47it/s]"
     ]
    },
    {
     "name": "stdout",
     "output_type": "stream",
     "text": [
      "\n",
      "File: datasets/train/Glass breaking/1000_2460.wav\n",
      "Ground Truth: Glass breaking\n",
      "Top predictions:\n",
      "  Glass breaking: 53.22%\n",
      "        Break in: 27.71%\n",
      "Theft or vandalism: 14.09%\n",
      "Furniture Collapse: 4.28%\n",
      "Physical altercations: 0.27%\n",
      "\n",
      "\n",
      "File: datasets/train/Glass breaking/1000_2900.wav\n",
      "Ground Truth: Glass breaking\n",
      "Top predictions:\n",
      "Theft or vandalism: 93.35%\n",
      "  Glass breaking: 2.08%\n",
      "Physical altercations: 1.58%\n",
      "        Break in: 1.26%\n",
      "Furniture Collapse: 0.53%\n",
      "\n"
     ]
    },
    {
     "name": "stderr",
     "output_type": "stream",
     "text": [
      " 22%|██▏       | 92/424 [00:28<00:38,  8.60it/s]"
     ]
    },
    {
     "name": "stdout",
     "output_type": "stream",
     "text": [
      "\n",
      "File: datasets/train/Glass breaking/1000_3340.wav\n",
      "Ground Truth: Glass breaking\n",
      "Top predictions:\n",
      "  Glass breaking: 42.95%\n",
      "        Break in: 23.15%\n",
      "Theft or vandalism: 16.86%\n",
      "Furniture Collapse: 15.82%\n",
      "Physical altercations: 0.41%\n",
      "\n",
      "\n",
      "File: datasets/train/Glass breaking/2000_3000.wav\n",
      "Ground Truth: Glass breaking\n",
      "Top predictions:\n",
      "  Glass breaking: 79.00%\n",
      "        Break in: 19.02%\n",
      "Theft or vandalism: 0.89%\n",
      "        Tripping: 0.34%\n",
      "Physical altercations: 0.23%\n",
      "\n",
      "\n",
      "File: datasets/train/Glass breaking/2000_3020.wav\n",
      "Ground Truth: Glass breaking\n",
      "Top predictions:\n",
      "  Glass breaking: 92.79%\n",
      "        Break in: 6.98%\n",
      "Theft or vandalism: 0.17%\n",
      "Furniture Collapse: 0.05%\n",
      "Picking up objects: 0.00%\n",
      "\n"
     ]
    },
    {
     "name": "stderr",
     "output_type": "stream",
     "text": [
      " 23%|██▎       | 96/424 [00:29<00:33,  9.78it/s]"
     ]
    },
    {
     "name": "stdout",
     "output_type": "stream",
     "text": [
      "\n",
      "File: datasets/train/Glass breaking/2000_3040.wav\n",
      "Ground Truth: Glass breaking\n",
      "Top predictions:\n",
      "        Tripping: 46.19%\n",
      "        Break in: 16.19%\n",
      "Theft or vandalism: 11.44%\n",
      "         Walking: 9.41%\n",
      "         Running: 8.23%\n",
      "\n",
      "\n",
      "File: datasets/train/Glass breaking/2000_3100.wav\n",
      "Ground Truth: Glass breaking\n",
      "Top predictions:\n",
      "  Glass breaking: 64.19%\n",
      "        Break in: 34.81%\n",
      "Furniture Collapse: 0.59%\n",
      "Theft or vandalism: 0.32%\n",
      "    Falling down: 0.05%\n",
      "\n",
      "\n",
      "File: datasets/train/Glass breaking/2000_3600.wav\n",
      "Ground Truth: Glass breaking\n",
      "Top predictions:\n",
      "Theft or vandalism: 53.85%\n",
      "Picking up objects: 28.55%\n",
      "  Glass breaking: 6.67%\n",
      "        Break in: 3.95%\n",
      "Physical altercations: 3.15%\n",
      "\n"
     ]
    },
    {
     "name": "stderr",
     "output_type": "stream",
     "text": [
      " 23%|██▎       | 99/424 [00:29<00:32,  9.91it/s]"
     ]
    },
    {
     "name": "stdout",
     "output_type": "stream",
     "text": [
      "\n",
      "File: datasets/train/Glass breaking/2560_2940.wav\n",
      "Ground Truth: Glass breaking\n",
      "Top predictions:\n",
      "  Glass breaking: 88.62%\n",
      "        Break in: 10.07%\n",
      "Theft or vandalism: 0.68%\n",
      "Picking up objects: 0.40%\n",
      "Furniture Collapse: 0.12%\n",
      "\n",
      "\n",
      "File: datasets/train/Glass breaking/2680_4100.wav\n",
      "Ground Truth: Glass breaking\n",
      "Top predictions:\n",
      "  Glass breaking: 51.30%\n",
      "        Break in: 31.62%\n",
      "Furniture Collapse: 10.59%\n",
      "Theft or vandalism: 6.34%\n",
      "    Falling down: 0.09%\n",
      "\n",
      "\n",
      "File: datasets/train/Glass breaking/2800_4200.wav\n",
      "Ground Truth: Glass breaking\n",
      "Top predictions:\n",
      "Theft or vandalism: 45.43%\n",
      "  Glass breaking: 35.72%\n",
      "        Break in: 11.41%\n",
      "Furniture Collapse: 6.35%\n",
      "Physical altercations: 0.46%\n",
      "\n"
     ]
    },
    {
     "name": "stderr",
     "output_type": "stream",
     "text": [
      " 24%|██▍       | 101/424 [00:29<00:31, 10.10it/s]"
     ]
    },
    {
     "name": "stdout",
     "output_type": "stream",
     "text": [
      "\n",
      "File: datasets/train/Glass breaking/3000_3560.wav\n",
      "Ground Truth: Glass breaking\n",
      "Top predictions:\n",
      "  Glass breaking: 86.09%\n",
      "        Break in: 8.88%\n",
      "Theft or vandalism: 2.20%\n",
      "Picking up objects: 1.90%\n",
      "   Setting table: 0.22%\n",
      "\n",
      "\n",
      "File: datasets/train/Glass breaking/3000_3580.wav\n",
      "Ground Truth: Glass breaking\n",
      "Top predictions:\n",
      "  Glass breaking: 70.51%\n",
      "        Break in: 27.31%\n",
      "Theft or vandalism: 1.26%\n",
      "Picking up objects: 0.33%\n",
      "Furniture Collapse: 0.31%\n",
      "\n",
      "\n",
      "File: datasets/train/Glass breaking/3000_3700.wav\n",
      "Ground Truth: Glass breaking\n",
      "Top predictions:\n",
      "  Glass breaking: 96.83%\n",
      "        Break in: 3.14%\n",
      "Theft or vandalism: 0.01%\n",
      "Furniture Collapse: 0.01%\n",
      "         Gunshot: 0.00%\n",
      "\n"
     ]
    },
    {
     "name": "stderr",
     "output_type": "stream",
     "text": [
      " 24%|██▍       | 103/424 [00:29<00:31, 10.26it/s]"
     ]
    },
    {
     "name": "stdout",
     "output_type": "stream",
     "text": [
      "\n",
      "File: datasets/train/Glass breaking/3000_3780.wav\n",
      "Ground Truth: Glass breaking\n",
      "Top predictions:\n",
      "  Glass breaking: 44.45%\n",
      "        Break in: 39.54%\n",
      "Theft or vandalism: 13.76%\n",
      "Picking up objects: 0.90%\n",
      "Furniture Collapse: 0.66%\n",
      "\n",
      "\n",
      "File: datasets/train/Glass breaking/3000_3800.wav\n",
      "Ground Truth: Glass breaking\n",
      "Top predictions:\n"
     ]
    },
    {
     "name": "stderr",
     "output_type": "stream",
     "text": [
      " 25%|██▍       | 105/424 [00:30<00:38,  8.23it/s]"
     ]
    },
    {
     "name": "stdout",
     "output_type": "stream",
     "text": [
      "  Glass breaking: 55.10%\n",
      "        Break in: 42.39%\n",
      "Picking up objects: 0.94%\n",
      "    Falling down: 0.39%\n",
      "Furniture Collapse: 0.36%\n",
      "\n",
      "\n",
      "File: datasets/train/Glass breaking/3000_3820.wav\n",
      "Ground Truth: Glass breaking\n",
      "Top predictions:\n",
      "        Break in: 61.48%\n",
      "  Glass breaking: 16.78%\n",
      "Picking up objects: 2.96%\n",
      "   Setting table: 2.49%\n",
      "          Dining: 2.33%\n",
      "\n"
     ]
    },
    {
     "name": "stderr",
     "output_type": "stream",
     "text": [
      " 25%|██▌       | 107/424 [00:30<00:35,  8.82it/s]"
     ]
    },
    {
     "name": "stdout",
     "output_type": "stream",
     "text": [
      "\n",
      "File: datasets/train/Glass breaking/3000_4100.wav\n",
      "Ground Truth: Glass breaking\n",
      "Top predictions:\n",
      "  Glass breaking: 84.76%\n",
      "        Break in: 14.44%\n",
      "Theft or vandalism: 0.39%\n",
      "Furniture Collapse: 0.32%\n",
      "         Gunshot: 0.04%\n",
      "\n",
      "\n",
      "File: datasets/train/Glass breaking/3000_4200.wav\n",
      "Ground Truth: Glass breaking\n",
      "Top predictions:\n",
      "        Break in: 52.86%\n",
      "  Glass breaking: 41.44%\n",
      "Theft or vandalism: 3.94%\n",
      "Furniture Collapse: 1.60%\n",
      "    Falling down: 0.11%\n",
      "\n",
      "\n",
      "File: datasets/train/Glass breaking/3000_4320.wav\n",
      "Ground Truth: Glass breaking\n",
      "Top predictions:\n",
      "  Glass breaking: 52.91%\n",
      "        Break in: 46.79%\n",
      "Furniture Collapse: 0.16%\n",
      "Theft or vandalism: 0.11%\n",
      "    Falling down: 0.01%\n",
      "\n"
     ]
    },
    {
     "name": "stderr",
     "output_type": "stream",
     "text": [
      " 26%|██▌       | 110/424 [00:30<00:34,  9.14it/s]"
     ]
    },
    {
     "name": "stdout",
     "output_type": "stream",
     "text": [
      "\n",
      "File: datasets/train/Glass breaking/3000_4600.wav\n",
      "Ground Truth: Glass breaking\n",
      "Top predictions:\n",
      "Theft or vandalism: 53.97%\n",
      "Picking up objects: 28.10%\n",
      "  Glass breaking: 6.57%\n",
      "        Break in: 4.20%\n",
      "Physical altercations: 3.25%\n",
      "\n",
      "\n",
      "File: datasets/train/Glass breaking/4000_5100.wav\n",
      "Ground Truth: Glass breaking\n",
      "Top predictions:\n",
      "        Break in: 65.76%\n",
      "  Glass breaking: 29.71%\n",
      "Theft or vandalism: 2.13%\n",
      "Furniture Collapse: 1.56%\n",
      "    Falling down: 0.24%\n",
      "\n"
     ]
    },
    {
     "name": "stderr",
     "output_type": "stream",
     "text": [
      " 26%|██▋       | 112/424 [00:31<00:40,  7.63it/s]"
     ]
    },
    {
     "name": "stdout",
     "output_type": "stream",
     "text": [
      "\n",
      "File: datasets/train/Glass breaking/4000_6240.wav\n",
      "Ground Truth: Glass breaking\n",
      "Top predictions:\n",
      "Theft or vandalism: 44.93%\n",
      "Furniture Collapse: 34.69%\n",
      "        Break in: 12.15%\n",
      "  Glass breaking: 7.08%\n",
      "Picking up objects: 0.40%\n",
      "\n",
      "\n",
      "File: datasets/train/Glass breaking/4540_5140.wav\n",
      "Ground Truth: Glass breaking\n",
      "Top predictions:\n",
      "        Break in: 69.83%\n",
      "  Glass breaking: 18.64%\n",
      "Theft or vandalism: 10.08%\n",
      "Physical altercations: 0.55%\n",
      "Picking up objects: 0.20%\n",
      "\n"
     ]
    },
    {
     "name": "stderr",
     "output_type": "stream",
     "text": [
      " 27%|██▋       | 115/424 [00:31<00:34,  8.93it/s]"
     ]
    },
    {
     "name": "stdout",
     "output_type": "stream",
     "text": [
      "\n",
      "File: datasets/train/Glass breaking/5000_6400.wav\n",
      "Ground Truth: Glass breaking\n",
      "Top predictions:\n",
      "Playing with pets: 22.18%\n",
      "Theft or vandalism: 16.84%\n",
      "  Glass breaking: 10.85%\n",
      "Physical altercations: 9.75%\n",
      "Domestic violence: 5.95%\n",
      "\n",
      "\n",
      "File: datasets/train/Glass breaking/5000_6460.wav\n",
      "Ground Truth: Glass breaking\n",
      "Top predictions:\n",
      "  Glass breaking: 53.03%\n",
      "        Break in: 28.06%\n",
      "Theft or vandalism: 13.99%\n",
      "Furniture Collapse: 4.23%\n",
      "Physical altercations: 0.27%\n",
      "\n",
      "\n",
      "File: datasets/train/Glass breaking/5000_6480.wav\n",
      "Ground Truth: Glass breaking\n",
      "Top predictions:\n",
      "  Glass breaking: 65.28%\n",
      "        Break in: 21.37%\n",
      "Furniture Collapse: 7.88%\n",
      "Theft or vandalism: 5.32%\n",
      "    Falling down: 0.08%\n",
      "\n"
     ]
    },
    {
     "name": "stderr",
     "output_type": "stream",
     "text": [
      " 28%|██▊       | 117/424 [00:31<00:32,  9.37it/s]"
     ]
    },
    {
     "name": "stdout",
     "output_type": "stream",
     "text": [
      "\n",
      "File: datasets/train/Glass breaking/5000_7380.wav\n",
      "Ground Truth: Glass breaking\n",
      "Top predictions:\n",
      "  Glass breaking: 67.21%\n",
      "Theft or vandalism: 12.52%\n",
      "        Break in: 11.80%\n",
      "Furniture Collapse: 3.24%\n",
      "Domestic violence: 2.00%\n",
      "\n",
      "\n",
      "File: datasets/train/Glass breaking/5020_5600.wav\n",
      "Ground Truth: Glass breaking\n",
      "Top predictions:\n",
      "  Glass breaking: 70.44%\n",
      "        Break in: 26.73%\n",
      "Theft or vandalism: 1.56%\n",
      "Picking up objects: 0.57%\n",
      "Furniture Collapse: 0.31%\n",
      "\n"
     ]
    },
    {
     "name": "stderr",
     "output_type": "stream",
     "text": [
      " 28%|██▊       | 118/424 [00:31<00:43,  7.08it/s]"
     ]
    },
    {
     "name": "stdout",
     "output_type": "stream",
     "text": [
      "\n",
      "File: datasets/train/Glass breaking/5300_7040.wav\n",
      "Ground Truth: Glass breaking\n",
      "Top predictions:\n",
      "  Glass breaking: 63.55%\n",
      "        Break in: 29.38%\n",
      "Furniture Collapse: 4.46%\n",
      "Theft or vandalism: 2.52%\n",
      "    Falling down: 0.03%\n",
      "\n",
      "\n",
      "File: datasets/train/Glass breaking/5380_7720.wav\n",
      "Ground Truth: Glass breaking\n",
      "Top predictions:\n",
      "  Glass breaking: 53.25%\n",
      "Furniture Collapse: 16.71%\n",
      "        Break in: 14.74%\n",
      "Theft or vandalism: 14.54%\n",
      "    Falling down: 0.27%\n",
      "\n"
     ]
    },
    {
     "name": "stderr",
     "output_type": "stream",
     "text": [
      " 29%|██▉       | 122/424 [00:32<00:34,  8.65it/s]"
     ]
    },
    {
     "name": "stdout",
     "output_type": "stream",
     "text": [
      "\n",
      "File: datasets/train/Glass breaking/5480_6940.wav\n",
      "Ground Truth: Glass breaking\n",
      "Top predictions:\n",
      "Theft or vandalism: 58.65%\n",
      "        Break in: 24.03%\n",
      "  Glass breaking: 10.11%\n",
      "         Gunshot: 2.03%\n",
      "Furniture Collapse: 1.67%\n",
      "\n",
      "\n",
      "File: datasets/train/Glass breaking/5720_8660.wav\n",
      "Ground Truth: Glass breaking\n",
      "Top predictions:\n",
      "  Glass breaking: 37.57%\n",
      "        Break in: 26.85%\n",
      "Theft or vandalism: 17.46%\n",
      "Furniture Collapse: 17.32%\n",
      "    Falling down: 0.49%\n",
      "\n",
      "\n",
      "File: datasets/train/Glass breaking/5800_6180.wav\n",
      "Ground Truth: Glass breaking\n",
      "Top predictions:\n",
      "  Glass breaking: 86.33%\n",
      "        Break in: 11.34%\n",
      "Theft or vandalism: 1.00%\n",
      "Picking up objects: 0.94%\n",
      "Furniture Collapse: 0.15%\n",
      "\n"
     ]
    },
    {
     "name": "stderr",
     "output_type": "stream",
     "text": [
      " 29%|██▉       | 123/424 [00:32<00:34,  8.75it/s]"
     ]
    },
    {
     "name": "stdout",
     "output_type": "stream",
     "text": [
      "\n",
      "File: datasets/train/Glass breaking/5860_6580.wav\n",
      "Ground Truth: Glass breaking\n",
      "Top predictions:\n",
      "        Break in: 88.13%\n",
      "  Glass breaking: 11.32%\n",
      "Furniture Collapse: 0.18%\n",
      "Picking up objects: 0.12%\n",
      "        Tripping: 0.08%\n",
      "\n"
     ]
    },
    {
     "name": "stderr",
     "output_type": "stream",
     "text": [
      " 29%|██▉       | 125/424 [00:32<00:41,  7.29it/s]"
     ]
    },
    {
     "name": "stdout",
     "output_type": "stream",
     "text": [
      "\n",
      "File: datasets/train/Glass breaking/6300_7880.wav\n",
      "Ground Truth: Glass breaking\n",
      "Top predictions:\n",
      "Theft or vandalism: 45.36%\n",
      "  Glass breaking: 29.65%\n",
      "        Break in: 16.93%\n",
      "Furniture Collapse: 7.50%\n",
      "    Falling down: 0.18%\n",
      "\n",
      "\n",
      "File: datasets/train/Glass breaking/6340_7020.wav\n",
      "Ground Truth: Glass breaking\n",
      "Top predictions:\n",
      "  Glass breaking: 92.52%\n",
      "        Break in: 7.42%\n",
      "Theft or vandalism: 0.03%\n",
      "         Gunshot: 0.01%\n",
      "Furniture Collapse: 0.01%\n",
      "\n",
      "\n",
      "File: datasets/train/Glass breaking/6360_6920.wav\n",
      "Ground Truth: Glass breaking\n",
      "Top predictions:\n",
      "  Glass breaking: 89.51%\n",
      "        Break in: 9.72%\n",
      "Theft or vandalism: 0.44%\n",
      "Picking up objects: 0.13%\n",
      "Smoke or Fire or Open flame: 0.05%\n",
      "\n"
     ]
    },
    {
     "name": "stderr",
     "output_type": "stream",
     "text": [
      " 29%|██▉       | 125/424 [00:33<00:41,  7.29it/s]"
     ]
    },
    {
     "name": "stdout",
     "output_type": "stream",
     "text": [
      "datasets/audios/train/Glass breaking\n",
      "MoviePy - Writing audio in datasets/audios/train/Glass breaking/breaking_glass_1.wav\n"
     ]
    },
    {
     "name": "stderr",
     "output_type": "stream",
     "text": [
      " 29%|██▉       | 125/424 [00:33<00:41,  7.29it/s]"
     ]
    },
    {
     "name": "stdout",
     "output_type": "stream",
     "text": [
      "MoviePy - Done.\n",
      "\n",
      "File: datasets/train/Glass breaking/breaking_glass_1.mp4\n",
      "Ground Truth: Glass breaking\n",
      "Top predictions:\n"
     ]
    },
    {
     "name": "stderr",
     "output_type": "stream",
     "text": [
      " 30%|██▉       | 127/424 [00:33<01:01,  4.79it/s]"
     ]
    },
    {
     "name": "stdout",
     "output_type": "stream",
     "text": [
      "  Glass breaking: 92.38%\n",
      "Furniture Collapse: 4.69%\n",
      "Theft or vandalism: 2.61%\n",
      "        Break in: 0.23%\n",
      "    Falling down: 0.04%\n",
      "\n"
     ]
    },
    {
     "name": "stderr",
     "output_type": "stream",
     "text": [
      " 30%|██▉       | 127/424 [00:33<01:01,  4.79it/s]"
     ]
    },
    {
     "name": "stdout",
     "output_type": "stream",
     "text": [
      "datasets/audios/train/Glass breaking\n",
      "MoviePy - Writing audio in datasets/audios/train/Glass breaking/breaking_glass_2.wav\n"
     ]
    },
    {
     "name": "stderr",
     "output_type": "stream",
     "text": [
      " 30%|██▉       | 127/424 [00:33<01:01,  4.79it/s]"
     ]
    },
    {
     "name": "stdout",
     "output_type": "stream",
     "text": [
      "MoviePy - Done.\n"
     ]
    },
    {
     "name": "stderr",
     "output_type": "stream",
     "text": [
      " 31%|███       | 130/424 [00:34<01:05,  4.48it/s]"
     ]
    },
    {
     "name": "stdout",
     "output_type": "stream",
     "text": [
      "\n",
      "File: datasets/train/Glass breaking/breaking_glass_2.mp4\n",
      "Ground Truth: Glass breaking\n",
      "Top predictions:\n",
      "Furniture Collapse: 61.06%\n",
      "  Glass breaking: 33.48%\n",
      "        Break in: 2.03%\n",
      "    Falling down: 1.97%\n",
      "Theft or vandalism: 0.59%\n",
      "\n",
      "\n",
      "File: datasets/train/Glass breaking/glass_break_1.wav\n",
      "Ground Truth: Glass breaking\n",
      "Top predictions:\n",
      "  Glass breaking: 86.63%\n",
      "        Break in: 8.08%\n",
      "Theft or vandalism: 3.44%\n",
      "Furniture Collapse: 0.77%\n",
      "Picking up objects: 0.67%\n",
      "\n",
      "\n",
      "File: datasets/train/Glass breaking/glass_break_2.wav\n",
      "Ground Truth: Glass breaking\n",
      "Top predictions:\n",
      "  Glass breaking: 92.30%\n",
      "        Break in: 7.41%\n",
      "Furniture Collapse: 0.17%\n",
      "Theft or vandalism: 0.06%\n",
      "    Falling down: 0.02%\n",
      "\n"
     ]
    },
    {
     "name": "stderr",
     "output_type": "stream",
     "text": [
      " 31%|███       | 132/424 [00:34<00:50,  5.74it/s]"
     ]
    },
    {
     "name": "stdout",
     "output_type": "stream",
     "text": [
      "\n",
      "File: datasets/train/Glass breaking/glass_break_3.wav\n",
      "Ground Truth: Glass breaking\n",
      "Top predictions:\n",
      "  Glass breaking: 98.19%\n",
      "        Break in: 1.75%\n",
      "Furniture Collapse: 0.02%\n",
      "Theft or vandalism: 0.01%\n",
      "     Celebrating: 0.00%\n",
      "\n",
      "\n",
      "File: datasets/train/Glass breaking/glass_break_4.wav\n",
      "Ground Truth: Glass breaking\n",
      "Top predictions:\n",
      "  Glass breaking: 91.25%\n",
      "        Break in: 6.78%\n",
      "Theft or vandalism: 1.56%\n",
      "Furniture Collapse: 0.21%\n",
      "      Decorating: 0.04%\n",
      "\n",
      "\n",
      "File: datasets/train/Glass breaking/glass_break_5.wav\n",
      "Ground Truth: Glass breaking\n",
      "Top predictions:\n",
      "  Glass breaking: 97.23%\n",
      "        Break in: 2.48%\n",
      "Theft or vandalism: 0.13%\n",
      "Furniture Collapse: 0.13%\n",
      "    Falling down: 0.01%\n",
      "\n"
     ]
    },
    {
     "name": "stderr",
     "output_type": "stream",
     "text": [
      " 32%|███▏      | 134/424 [00:34<00:43,  6.65it/s]"
     ]
    },
    {
     "name": "stdout",
     "output_type": "stream",
     "text": [
      "\n",
      "File: datasets/train/Gunshot/1000_1480.wav\n",
      "Ground Truth: Gunshot\n",
      "Top predictions:\n",
      "        Break in: 88.98%\n",
      "  Glass breaking: 8.25%\n",
      "        Tripping: 1.55%\n",
      "Picking up objects: 0.34%\n",
      "Theft or vandalism: 0.30%\n",
      "\n"
     ]
    },
    {
     "name": "stderr",
     "output_type": "stream",
     "text": [
      " 32%|███▏      | 137/424 [00:34<00:40,  7.16it/s]"
     ]
    },
    {
     "name": "stdout",
     "output_type": "stream",
     "text": [
      "\n",
      "File: datasets/train/Gunshot/1000_1560.wav\n",
      "Ground Truth: Gunshot\n",
      "Top predictions:\n",
      "         Gunshot: 99.43%\n",
      "        Break in: 0.36%\n",
      "Theft or vandalism: 0.05%\n",
      "   Taking photos: 0.04%\n",
      "        Tripping: 0.02%\n",
      "\n",
      "\n",
      "File: datasets/train/Gunshot/1000_1680.wav\n",
      "Ground Truth: Gunshot\n",
      "Top predictions:\n",
      "         Gunshot: 92.65%\n",
      "        Break in: 6.21%\n",
      "      Exercising: 0.26%\n",
      "        Tripping: 0.22%\n",
      "        Fighting: 0.09%\n",
      "\n",
      "\n",
      "File: datasets/train/Gunshot/1000_1720.wav\n",
      "Ground Truth: Gunshot\n",
      "Top predictions:\n",
      "        Break in: 64.92%\n",
      "         Gunshot: 20.11%\n",
      "      Exercising: 3.54%\n",
      "        Tripping: 3.12%\n",
      "Furniture Collapse: 2.40%\n",
      "\n"
     ]
    },
    {
     "name": "stderr",
     "output_type": "stream",
     "text": [
      " 33%|███▎      | 140/424 [00:35<00:34,  8.14it/s]"
     ]
    },
    {
     "name": "stdout",
     "output_type": "stream",
     "text": [
      "\n",
      "File: datasets/train/Gunshot/1000_1820.wav\n",
      "Ground Truth: Gunshot\n",
      "Top predictions:\n",
      "         Gunshot: 96.60%\n",
      "        Break in: 2.32%\n",
      "      Exercising: 0.48%\n",
      "     Laying down: 0.14%\n",
      "Theft or vandalism: 0.11%\n",
      "\n",
      "\n",
      "File: datasets/train/Gunshot/1000_2400.wav\n",
      "Ground Truth: Gunshot\n",
      "Top predictions:\n",
      "         Gunshot: 93.37%\n",
      "        Break in: 5.92%\n",
      "     Laying down: 0.33%\n",
      "        Tripping: 0.07%\n",
      "Theft or vandalism: 0.06%\n",
      "\n",
      "\n",
      "File: datasets/train/Gunshot/1000_3340.wav\n",
      "Ground Truth: Gunshot\n",
      "Top predictions:\n",
      "         Gunshot: 99.35%\n",
      "Verbal confrontations: 0.12%\n",
      "      Exercising: 0.10%\n",
      "         Running: 0.07%\n",
      "No people is in the room: 0.06%\n",
      "\n"
     ]
    },
    {
     "name": "stderr",
     "output_type": "stream",
     "text": [
      " 34%|███▎      | 143/424 [00:35<00:37,  7.54it/s]"
     ]
    },
    {
     "name": "stdout",
     "output_type": "stream",
     "text": [
      "\n",
      "File: datasets/train/Gunshot/1000_3680.wav\n",
      "Ground Truth: Gunshot\n",
      "Top predictions:\n",
      "         Gunshot: 98.99%\n",
      "         Potluck: 0.19%\n",
      "Theft or vandalism: 0.16%\n",
      "        Fighting: 0.11%\n",
      "Verbal confrontations: 0.10%\n",
      "\n",
      "\n",
      "File: datasets/train/Gunshot/2000_2640.wav\n",
      "Ground Truth: Gunshot\n",
      "Top predictions:\n",
      "         Gunshot: 87.78%\n",
      "   Taking photos: 3.78%\n",
      "        Tripping: 2.92%\n",
      "        Break in: 2.63%\n",
      "Theft or vandalism: 0.71%\n",
      "\n",
      "\n",
      "File: datasets/train/Gunshot/2000_2740.wav\n",
      "Ground Truth: Gunshot\n",
      "Top predictions:\n",
      "         Gunshot: 83.82%\n",
      "   Taking photos: 5.53%\n",
      "        Tripping: 4.86%\n",
      "        Break in: 2.25%\n",
      "         Running: 1.22%\n",
      "\n"
     ]
    },
    {
     "name": "stderr",
     "output_type": "stream",
     "text": [
      " 34%|███▍      | 145/424 [00:35<00:32,  8.48it/s]"
     ]
    },
    {
     "name": "stdout",
     "output_type": "stream",
     "text": [
      "\n",
      "File: datasets/train/Gunshot/2000_2760.wav\n",
      "Ground Truth: Gunshot\n",
      "Top predictions:\n",
      "         Gunshot: 95.43%\n",
      "   Taking photos: 1.40%\n",
      "        Break in: 1.21%\n",
      "        Tripping: 0.78%\n",
      "Theft or vandalism: 0.29%\n",
      "\n",
      "\n",
      "File: datasets/train/Gunshot/2000_2800.wav\n",
      "Ground Truth: Gunshot\n",
      "Top predictions:\n",
      "         Gunshot: 95.60%\n",
      "        Break in: 2.79%\n",
      "      Exercising: 0.55%\n",
      "Theft or vandalism: 0.28%\n",
      "   Taking photos: 0.12%\n",
      "\n",
      "\n",
      "File: datasets/train/Gunshot/2000_3000.wav\n",
      "Ground Truth: Gunshot\n",
      "Top predictions:\n",
      "         Gunshot: 88.96%\n",
      "        Break in: 5.50%\n",
      "Theft or vandalism: 1.97%\n",
      "        Tripping: 1.07%\n",
      "     Laying down: 0.49%\n",
      "\n"
     ]
    },
    {
     "name": "stderr",
     "output_type": "stream",
     "text": [
      " 35%|███▍      | 147/424 [00:36<00:30,  9.05it/s]"
     ]
    },
    {
     "name": "stdout",
     "output_type": "stream",
     "text": [
      "\n",
      "File: datasets/train/Gunshot/2000_3920.wav\n",
      "Ground Truth: Gunshot\n",
      "Top predictions:\n",
      "         Gunshot: 99.06%\n",
      "Verbal confrontations: 0.32%\n",
      "Smoke or Fire or Open flame: 0.14%\n",
      "        Fighting: 0.12%\n",
      "     Laying down: 0.07%\n",
      "\n"
     ]
    },
    {
     "name": "stderr",
     "output_type": "stream",
     "text": [
      " 35%|███▌      | 150/424 [00:36<00:33,  8.16it/s]"
     ]
    },
    {
     "name": "stdout",
     "output_type": "stream",
     "text": [
      "\n",
      "File: datasets/train/Gunshot/2000_4280.wav\n",
      "Ground Truth: Gunshot\n",
      "Top predictions:\n",
      "        Break in: 24.10%\n",
      "    Falling down: 22.47%\n",
      "  Glass breaking: 11.96%\n",
      "Theft or vandalism: 11.66%\n",
      "        Fighting: 4.62%\n",
      "\n",
      "\n",
      "File: datasets/train/Gunshot/2000_4320.wav\n",
      "Ground Truth: Gunshot\n",
      "Top predictions:\n",
      "         Gunshot: 94.20%\n",
      "Theft or vandalism: 2.79%\n",
      "        Break in: 0.54%\n",
      "        Fighting: 0.50%\n",
      "Physical altercations: 0.36%\n",
      "\n",
      "\n",
      "File: datasets/train/Gunshot/2400_2980.wav\n",
      "Ground Truth: Gunshot\n",
      "Top predictions:\n",
      "Theft or vandalism: 38.39%\n",
      "         Gunshot: 26.76%\n",
      "        Tripping: 15.54%\n",
      "        Break in: 5.97%\n",
      "         Running: 3.86%\n",
      "\n"
     ]
    },
    {
     "name": "stderr",
     "output_type": "stream",
     "text": [
      " 36%|███▌      | 153/424 [00:36<00:30,  8.78it/s]"
     ]
    },
    {
     "name": "stdout",
     "output_type": "stream",
     "text": [
      "\n",
      "File: datasets/train/Gunshot/2480_3240.wav\n",
      "Ground Truth: Gunshot\n",
      "Top predictions:\n",
      "Theft or vandalism: 74.54%\n",
      "        Break in: 19.90%\n",
      "  Glass breaking: 1.92%\n",
      "Furniture Collapse: 0.86%\n",
      "        Fighting: 0.64%\n",
      "\n",
      "\n",
      "File: datasets/train/Gunshot/3000_3460.wav\n",
      "Ground Truth: Gunshot\n",
      "Top predictions:\n",
      "        Break in: 86.33%\n",
      "  Glass breaking: 5.68%\n",
      "        Tripping: 3.05%\n",
      "Theft or vandalism: 1.46%\n",
      "         Running: 1.01%\n",
      "\n",
      "\n",
      "File: datasets/train/Gunshot/3000_3640.wav\n",
      "Ground Truth: Gunshot\n",
      "Top predictions:\n",
      "         Gunshot: 87.96%\n",
      "   Taking photos: 3.38%\n",
      "        Tripping: 2.95%\n",
      "        Break in: 2.93%\n",
      "Theft or vandalism: 0.65%\n",
      "\n",
      "\n",
      "File: datasets/train/Gunshot/3000_3920.wav\n",
      "Ground Truth: Gunshot\n",
      "Top predictions:\n",
      "         Gunshot: 95.59%\n",
      "        Break in: 2.54%\n",
      "      Exercising: 0.53%\n",
      "Theft or vandalism: 0.46%\n",
      "     Laying down: 0.24%\n",
      "\n"
     ]
    },
    {
     "name": "stderr",
     "output_type": "stream",
     "text": [
      " 37%|███▋      | 157/424 [00:37<00:33,  8.08it/s]"
     ]
    },
    {
     "name": "stdout",
     "output_type": "stream",
     "text": [
      "\n",
      "File: datasets/train/Gunshot/3000_4320.wav\n",
      "Ground Truth: Gunshot\n",
      "Top predictions:\n",
      "         Gunshot: 96.47%\n",
      "Smoke or Fire or Open flame: 1.19%\n",
      "Theft or vandalism: 0.57%\n",
      "Furniture Collapse: 0.27%\n",
      "    Falling down: 0.22%\n",
      "\n",
      "\n",
      "File: datasets/train/Gunshot/3720_4720.wav\n",
      "Ground Truth: Gunshot\n",
      "Top predictions:\n",
      "         Gunshot: 90.64%\n",
      "        Break in: 4.57%\n",
      "Theft or vandalism: 1.60%\n",
      "        Tripping: 0.95%\n",
      "        Fighting: 0.44%\n",
      "\n",
      "\n",
      "File: datasets/train/Gunshot/4000_4380.wav\n",
      "Ground Truth: Gunshot\n",
      "Top predictions:\n",
      "        Tripping: 51.87%\n",
      "        Break in: 17.13%\n",
      "         Gunshot: 10.20%\n",
      "Playing video games: 7.70%\n",
      "     Laying down: 5.74%\n",
      "\n"
     ]
    },
    {
     "name": "stderr",
     "output_type": "stream",
     "text": [
      " 38%|███▊      | 160/424 [00:37<00:29,  9.00it/s]"
     ]
    },
    {
     "name": "stdout",
     "output_type": "stream",
     "text": [
      "\n",
      "File: datasets/train/Gunshot/4000_4400.wav\n",
      "Ground Truth: Gunshot\n",
      "Top predictions:\n",
      "         Gunshot: 36.29%\n",
      "        Break in: 24.28%\n",
      "     Laying down: 13.21%\n",
      "        Tripping: 7.88%\n",
      "        Fighting: 4.14%\n",
      "\n",
      "\n",
      "File: datasets/train/Gunshot/4000_4440.wav\n",
      "Ground Truth: Gunshot\n",
      "Top predictions:\n",
      "        Break in: 38.88%\n",
      "         Gunshot: 26.36%\n",
      "         Choking: 11.48%\n",
      "      Exercising: 8.82%\n",
      "        Knitting: 3.26%\n",
      "\n",
      "\n",
      "File: datasets/train/Gunshot/4000_4460.wav\n",
      "Ground Truth: Gunshot\n",
      "Top predictions:\n",
      "         Singing: 28.35%\n",
      "         Gunshot: 26.12%\n",
      "        Fighting: 17.19%\n",
      "        Break in: 4.06%\n",
      "Playing video games: 3.71%\n",
      "\n"
     ]
    },
    {
     "name": "stderr",
     "output_type": "stream",
     "text": [
      " 38%|███▊      | 161/424 [00:37<00:29,  9.01it/s]"
     ]
    },
    {
     "name": "stdout",
     "output_type": "stream",
     "text": [
      "\n",
      "File: datasets/train/Gunshot/4000_4640.wav\n",
      "Ground Truth: Gunshot\n",
      "Top predictions:\n",
      "         Gunshot: 66.96%\n",
      "        Break in: 29.86%\n",
      "      Exercising: 1.06%\n",
      "     Laying down: 0.52%\n",
      "        Tripping: 0.46%\n",
      "\n"
     ]
    },
    {
     "name": "stderr",
     "output_type": "stream",
     "text": [
      " 39%|███▊      | 164/424 [00:38<00:31,  8.16it/s]"
     ]
    },
    {
     "name": "stdout",
     "output_type": "stream",
     "text": [
      "\n",
      "File: datasets/train/Gunshot/4000_4660.wav\n",
      "Ground Truth: Gunshot\n",
      "Top predictions:\n",
      "         Gunshot: 90.88%\n",
      "        Break in: 7.87%\n",
      "  Glass breaking: 1.02%\n",
      "Theft or vandalism: 0.09%\n",
      "Furniture Collapse: 0.02%\n",
      "\n",
      "\n",
      "File: datasets/train/Gunshot/4000_4780.wav\n",
      "Ground Truth: Gunshot\n",
      "Top predictions:\n",
      "        Tripping: 26.40%\n",
      "         Gunshot: 23.43%\n",
      "        Break in: 12.18%\n",
      "     Laying down: 7.18%\n",
      "Play with phone/tablet: 5.59%\n",
      "\n",
      "\n",
      "File: datasets/train/Gunshot/4000_5000.wav\n",
      "Ground Truth: Gunshot\n",
      "Top predictions:\n",
      "        Break in: 45.42%\n",
      "Theft or vandalism: 18.84%\n",
      "  Glass breaking: 16.76%\n",
      "         Gunshot: 9.11%\n",
      "Furniture Collapse: 8.45%\n",
      "\n"
     ]
    },
    {
     "name": "stderr",
     "output_type": "stream",
     "text": [
      " 39%|███▉      | 166/424 [00:38<00:28,  8.90it/s]"
     ]
    },
    {
     "name": "stdout",
     "output_type": "stream",
     "text": [
      "\n",
      "File: datasets/train/Gunshot/4000_5320.wav\n",
      "Ground Truth: Gunshot\n",
      "Top predictions:\n",
      "         Gunshot: 90.90%\n",
      "        Break in: 2.44%\n",
      "        Fighting: 1.51%\n",
      "Theft or vandalism: 1.28%\n",
      "Physical altercations: 0.76%\n",
      "\n",
      "\n",
      "File: datasets/train/Gunshot/4000_5400.wav\n",
      "Ground Truth: Gunshot\n",
      "Top predictions:\n",
      "         Gunshot: 97.88%\n",
      "Smoke or Fire or Open flame: 0.86%\n",
      "        Break in: 0.46%\n",
      "Theft or vandalism: 0.18%\n",
      "   Taking photos: 0.14%\n",
      "\n",
      "\n",
      "File: datasets/train/Gunshot/4000_6120.wav\n",
      "Ground Truth: Gunshot\n",
      "Top predictions:\n",
      "         Gunshot: 87.59%\n",
      "        Fighting: 3.26%\n",
      "     Celebrating: 1.90%\n",
      "      Exercising: 1.80%\n",
      "Domestic violence: 0.87%\n",
      "\n"
     ]
    },
    {
     "name": "stderr",
     "output_type": "stream",
     "text": [
      " 40%|████      | 170/424 [00:38<00:30,  8.25it/s]"
     ]
    },
    {
     "name": "stdout",
     "output_type": "stream",
     "text": [
      "\n",
      "File: datasets/train/Gunshot/4000_6560.wav\n",
      "Ground Truth: Gunshot\n",
      "Top predictions:\n",
      "         Gunshot: 86.84%\n",
      "Theft or vandalism: 5.87%\n",
      "      Exercising: 1.34%\n",
      "   Taking photos: 1.15%\n",
      "     Laying down: 0.94%\n",
      "\n",
      "\n",
      "File: datasets/train/Gunshot/4260_4880.wav\n",
      "Ground Truth: Gunshot\n",
      "Top predictions:\n",
      "         Gunshot: 99.59%\n",
      "        Break in: 0.20%\n",
      "Theft or vandalism: 0.08%\n",
      "         Running: 0.02%\n",
      "   Taking photos: 0.02%\n",
      "\n",
      "\n",
      "File: datasets/train/Gunshot/4840_5620.wav\n",
      "Ground Truth: Gunshot\n",
      "Top predictions:\n",
      "         Gunshot: 67.97%\n",
      "Theft or vandalism: 6.94%\n",
      "        Tripping: 4.02%\n",
      "         Running: 3.14%\n",
      "      Exercising: 2.92%\n",
      "\n"
     ]
    },
    {
     "name": "stderr",
     "output_type": "stream",
     "text": [
      " 41%|████      | 173/424 [00:39<00:27,  9.19it/s]"
     ]
    },
    {
     "name": "stdout",
     "output_type": "stream",
     "text": [
      "\n",
      "File: datasets/train/Gunshot/4860_5660.wav\n",
      "Ground Truth: Gunshot\n",
      "Top predictions:\n",
      "         Gunshot: 81.37%\n",
      "   Taking photos: 5.10%\n",
      "        Tripping: 4.30%\n",
      "        Break in: 3.77%\n",
      "Theft or vandalism: 1.97%\n",
      "\n",
      "\n",
      "File: datasets/train/Gunshot/4920_5680.wav\n",
      "Ground Truth: Gunshot\n",
      "Top predictions:\n",
      "          Crying: 61.58%\n",
      "         Choking: 17.39%\n",
      "        Break in: 2.66%\n",
      "   Taking photos: 2.45%\n",
      "     Laying down: 2.38%\n",
      "\n",
      "\n",
      "File: datasets/train/Gunshot/5000_5400.wav\n",
      "Ground Truth: Gunshot\n",
      "Top predictions:\n",
      "         Gunshot: 96.62%\n",
      "        Break in: 2.65%\n",
      "   Taking photos: 0.15%\n",
      "        Tripping: 0.13%\n",
      "         Potluck: 0.08%\n",
      "\n"
     ]
    },
    {
     "name": "stderr",
     "output_type": "stream",
     "text": [
      " 41%|████      | 174/424 [00:39<00:28,  8.91it/s]"
     ]
    },
    {
     "name": "stdout",
     "output_type": "stream",
     "text": [
      "\n",
      "File: datasets/train/Gunshot/5000_5440.wav\n",
      "Ground Truth: Gunshot\n",
      "Top predictions:\n",
      "         Choking: 49.41%\n",
      "        Break in: 15.78%\n",
      "        Fighting: 14.89%\n",
      "         Singing: 4.34%\n",
      "      Exercising: 2.88%\n",
      "\n"
     ]
    },
    {
     "name": "stderr",
     "output_type": "stream",
     "text": [
      " 42%|████▏     | 177/424 [00:39<00:30,  8.11it/s]"
     ]
    },
    {
     "name": "stdout",
     "output_type": "stream",
     "text": [
      "\n",
      "File: datasets/train/Gunshot/5000_5800.wav\n",
      "Ground Truth: Gunshot\n",
      "Top predictions:\n",
      "          Crying: 42.51%\n",
      "         Choking: 22.24%\n",
      "         Gunshot: 4.68%\n",
      "   Taking photos: 3.49%\n",
      "Domestic violence: 3.35%\n",
      "\n",
      "\n",
      "File: datasets/train/Gunshot/5000_6000.wav\n",
      "Ground Truth: Gunshot\n",
      "Top predictions:\n",
      "         Gunshot: 54.89%\n",
      "Domestic violence: 21.92%\n",
      "        Fighting: 9.26%\n",
      "         Choking: 4.71%\n",
      "        Break in: 3.63%\n",
      "\n",
      "\n",
      "File: datasets/train/Gunshot/5000_6320.wav\n",
      "Ground Truth: Gunshot\n",
      "Top predictions:\n",
      "         Gunshot: 98.30%\n",
      "        Break in: 1.53%\n",
      "     Laying down: 0.04%\n",
      "        Fighting: 0.02%\n",
      "Playing video games: 0.02%\n",
      "\n"
     ]
    },
    {
     "name": "stderr",
     "output_type": "stream",
     "text": [
      " 42%|████▏     | 180/424 [00:40<00:26,  9.09it/s]"
     ]
    },
    {
     "name": "stdout",
     "output_type": "stream",
     "text": [
      "\n",
      "File: datasets/train/Gunshot/5000_7640.wav\n",
      "Ground Truth: Gunshot\n",
      "Top predictions:\n",
      "         Gunshot: 99.84%\n",
      "Verbal confrontations: 0.03%\n",
      "        Fighting: 0.02%\n",
      "   Taking photos: 0.02%\n",
      "Playing video games: 0.02%\n",
      "\n",
      "\n",
      "File: datasets/train/Gunshot/5240_5900.wav\n",
      "Ground Truth: Gunshot\n",
      "Top predictions:\n",
      "        Fighting: 27.17%\n",
      "        Break in: 21.71%\n",
      "         Choking: 14.89%\n",
      "         Gunshot: 9.16%\n",
      "      Exercising: 8.49%\n",
      "\n",
      "\n",
      "File: datasets/train/Gunshot/5280_5700.wav\n",
      "Ground Truth: Gunshot\n",
      "Top predictions:\n",
      "        Break in: 46.43%\n",
      "         Gunshot: 37.26%\n",
      "    Making noise: 4.68%\n",
      "        Fighting: 4.36%\n",
      "        Tripping: 2.26%\n",
      "\n"
     ]
    },
    {
     "name": "stderr",
     "output_type": "stream",
     "text": [
      " 43%|████▎     | 181/424 [00:40<00:26,  9.14it/s]"
     ]
    },
    {
     "name": "stdout",
     "output_type": "stream",
     "text": [
      "\n",
      "File: datasets/train/Gunshot/5460_5820.wav\n",
      "Ground Truth: Gunshot\n",
      "Top predictions:\n",
      "        Break in: 43.18%\n",
      "         Gunshot: 25.45%\n",
      "Picking up objects: 11.43%\n",
      "  Glass breaking: 6.86%\n",
      "Playing video games: 2.45%\n",
      "\n"
     ]
    },
    {
     "name": "stderr",
     "output_type": "stream",
     "text": [
      " 43%|████▎     | 184/424 [00:40<00:29,  8.13it/s]"
     ]
    },
    {
     "name": "stdout",
     "output_type": "stream",
     "text": [
      "\n",
      "File: datasets/train/Gunshot/5520_6200.wav\n",
      "Ground Truth: Gunshot\n",
      "Top predictions:\n",
      "         Choking: 53.91%\n",
      "         Gunshot: 19.57%\n",
      "        Break in: 4.66%\n",
      "   Taking photos: 3.65%\n",
      "          Crying: 3.64%\n",
      "\n",
      "\n",
      "File: datasets/train/Gunshot/5560_5920.wav\n",
      "Ground Truth: Gunshot\n",
      "Top predictions:\n",
      "        Break in: 45.68%\n",
      "     Laying down: 31.81%\n",
      "        Tripping: 8.69%\n",
      "         Gunshot: 7.47%\n",
      "    Making noise: 1.96%\n",
      "\n",
      "\n",
      "File: datasets/train/Gunshot/5680_6140.wav\n",
      "Ground Truth: Gunshot\n",
      "Top predictions:\n",
      "         Gunshot: 96.74%\n",
      "        Break in: 2.64%\n",
      "        Tripping: 0.12%\n",
      "Smoke or Fire or Open flame: 0.12%\n",
      "   Taking photos: 0.11%\n",
      "\n"
     ]
    },
    {
     "name": "stderr",
     "output_type": "stream",
     "text": [
      " 43%|████▎     | 184/424 [00:40<00:29,  8.13it/s]"
     ]
    },
    {
     "name": "stdout",
     "output_type": "stream",
     "text": [
      "datasets/audios/train/Normal\n",
      "MoviePy - Writing audio in datasets/audios/train/Normal/9gK-lchw9AU_000019_000029.wav\n"
     ]
    },
    {
     "name": "stderr",
     "output_type": "stream",
     "text": [
      " 43%|████▎     | 184/424 [00:40<00:29,  8.13it/s]"
     ]
    },
    {
     "name": "stdout",
     "output_type": "stream",
     "text": [
      "MoviePy - Done.\n"
     ]
    },
    {
     "name": "stderr",
     "output_type": "stream",
     "text": [
      " 44%|████▎     | 185/424 [00:41<00:54,  4.40it/s]"
     ]
    },
    {
     "name": "stdout",
     "output_type": "stream",
     "text": [
      "\n",
      "File: datasets/train/Normal/9gK-lchw9AU_000019_000029.mp4\n",
      "Ground Truth: Normal\n",
      "Top predictions:\n",
      "No people is in the room: 33.78%\n",
      "Playing with pets: 20.56%\n",
      "      Using drug: 6.28%\n",
      "     Suffocating: 6.19%\n",
      "         Talking: 5.30%\n",
      "\n"
     ]
    },
    {
     "name": "stderr",
     "output_type": "stream",
     "text": [
      " 44%|████▎     | 185/424 [00:41<00:54,  4.40it/s]"
     ]
    },
    {
     "name": "stdout",
     "output_type": "stream",
     "text": [
      "datasets/audios/train/Normal\n",
      "MoviePy - Writing audio in datasets/audios/train/Normal/9iKBdRiyrT8_000018_000028.wav\n"
     ]
    },
    {
     "name": "stderr",
     "output_type": "stream",
     "text": [
      " 44%|████▍     | 186/424 [00:41<01:03,  3.73it/s]"
     ]
    },
    {
     "name": "stdout",
     "output_type": "stream",
     "text": [
      "MoviePy - Done.\n",
      "\n",
      "File: datasets/train/Normal/9iKBdRiyrT8_000018_000028.mp4\n",
      "Ground Truth: Normal\n",
      "Top predictions:\n",
      "     Eating food: 91.34%\n",
      "Playing with pets: 5.45%\n",
      "        Drinking: 2.17%\n",
      "         Choking: 0.38%\n",
      "     Suffocating: 0.13%\n",
      "\n"
     ]
    },
    {
     "name": "stderr",
     "output_type": "stream",
     "text": [
      " 44%|████▍     | 186/424 [00:41<01:03,  3.73it/s]"
     ]
    },
    {
     "name": "stdout",
     "output_type": "stream",
     "text": [
      "datasets/audios/train/Normal\n",
      "MoviePy - Writing audio in datasets/audios/train/Normal/9j29_SoXvnk_000004_000014.wav\n"
     ]
    },
    {
     "name": "stderr",
     "output_type": "stream",
     "text": [
      " 44%|████▍     | 187/424 [00:41<01:09,  3.43it/s]"
     ]
    },
    {
     "name": "stdout",
     "output_type": "stream",
     "text": [
      "MoviePy - Done.\n",
      "\n",
      "File: datasets/train/Normal/9j29_SoXvnk_000004_000014.mp4\n",
      "Ground Truth: Normal\n",
      "Top predictions:\n",
      "Playing with pets: 39.05%\n",
      "  Brushing teeth: 37.04%\n",
      "       Showering: 7.90%\n",
      "      Using drug: 2.19%\n",
      "         Dancing: 1.72%\n",
      "\n"
     ]
    },
    {
     "name": "stderr",
     "output_type": "stream",
     "text": [
      " 44%|████▍     | 187/424 [00:42<01:09,  3.43it/s]"
     ]
    },
    {
     "name": "stdout",
     "output_type": "stream",
     "text": [
      "datasets/audios/train/Normal\n",
      "MoviePy - Writing audio in datasets/audios/train/Normal/9khsuBlB7KM_000052_000062.wav\n"
     ]
    },
    {
     "name": "stderr",
     "output_type": "stream",
     "text": [
      " 44%|████▍     | 187/424 [00:42<01:09,  3.43it/s]"
     ]
    },
    {
     "name": "stdout",
     "output_type": "stream",
     "text": [
      "MoviePy - Done.\n",
      "\n",
      "File: datasets/train/Normal/9khsuBlB7KM_000052_000062.mp4\n",
      "Ground Truth: Normal\n",
      "Top predictions:\n"
     ]
    },
    {
     "name": "stderr",
     "output_type": "stream",
     "text": [
      " 44%|████▍     | 188/424 [00:42<01:16,  3.10it/s]"
     ]
    },
    {
     "name": "stdout",
     "output_type": "stream",
     "text": [
      "No people is in the room: 59.25%\n",
      "Playing with pets: 6.86%\n",
      "   Doing laundry: 6.53%\n",
      "     Celebrating: 3.10%\n",
      "    Sitting down: 2.81%\n",
      "\n"
     ]
    },
    {
     "name": "stderr",
     "output_type": "stream",
     "text": [
      " 44%|████▍     | 188/424 [00:42<01:16,  3.10it/s]"
     ]
    },
    {
     "name": "stdout",
     "output_type": "stream",
     "text": [
      "datasets/audios/train/Normal\n",
      "MoviePy - Writing audio in datasets/audios/train/Normal/9obe2uzQuLw_000031_000041.wav\n"
     ]
    },
    {
     "name": "stderr",
     "output_type": "stream",
     "text": [
      " 45%|████▍     | 189/424 [00:42<01:16,  3.06it/s]"
     ]
    },
    {
     "name": "stdout",
     "output_type": "stream",
     "text": [
      "MoviePy - Done.\n",
      "\n",
      "File: datasets/train/Normal/9obe2uzQuLw_000031_000041.mp4\n",
      "Ground Truth: Normal\n",
      "Top predictions:\n",
      "No people is in the room: 62.43%\n",
      "          Dining: 12.72%\n",
      "         Talking: 2.52%\n",
      "   Setting table: 2.36%\n",
      "        Drinking: 2.34%\n",
      "\n"
     ]
    },
    {
     "name": "stderr",
     "output_type": "stream",
     "text": [
      " 45%|████▍     | 189/424 [00:42<01:16,  3.06it/s]"
     ]
    },
    {
     "name": "stdout",
     "output_type": "stream",
     "text": [
      "datasets/audios/train/Normal\n",
      "MoviePy - Writing audio in datasets/audios/train/Normal/a2PzfV-nLA0_000273_000283.wav\n"
     ]
    },
    {
     "name": "stderr",
     "output_type": "stream",
     "text": [
      " 45%|████▍     | 189/424 [00:43<01:16,  3.06it/s]"
     ]
    },
    {
     "name": "stdout",
     "output_type": "stream",
     "text": [
      "MoviePy - Done.\n"
     ]
    },
    {
     "name": "stderr",
     "output_type": "stream",
     "text": [
      " 45%|████▍     | 190/424 [00:43<01:23,  2.79it/s]"
     ]
    },
    {
     "name": "stdout",
     "output_type": "stream",
     "text": [
      "\n",
      "File: datasets/train/Normal/a2PzfV-nLA0_000273_000283.mp4\n",
      "Ground Truth: Normal\n",
      "Top predictions:\n",
      "         Cooking: 75.84%\n",
      "Unattended cooking: 21.70%\n",
      "        Cleaning: 0.68%\n",
      "       Showering: 0.59%\n",
      "        Flooding: 0.22%\n",
      "\n"
     ]
    },
    {
     "name": "stderr",
     "output_type": "stream",
     "text": [
      " 45%|████▍     | 190/424 [00:43<01:23,  2.79it/s]"
     ]
    },
    {
     "name": "stdout",
     "output_type": "stream",
     "text": [
      "datasets/audios/train/Normal\n",
      "MoviePy - Writing audio in datasets/audios/train/Normal/A65W8cR_unk_000110_000120.wav\n"
     ]
    },
    {
     "name": "stderr",
     "output_type": "stream",
     "text": [
      " 45%|████▌     | 191/424 [00:43<01:24,  2.75it/s]"
     ]
    },
    {
     "name": "stdout",
     "output_type": "stream",
     "text": [
      "MoviePy - Done.\n",
      "\n",
      "File: datasets/train/Normal/A65W8cR_unk_000110_000120.mp4\n",
      "Ground Truth: Normal\n",
      "Top predictions:\n",
      "         Reading: 70.10%\n",
      "        Speaking: 10.42%\n",
      "         Talking: 4.45%\n",
      "No people is in the room: 4.25%\n",
      "Playing board games: 3.96%\n",
      "\n"
     ]
    },
    {
     "name": "stderr",
     "output_type": "stream",
     "text": [
      " 45%|████▌     | 191/424 [00:43<01:24,  2.75it/s]"
     ]
    },
    {
     "name": "stdout",
     "output_type": "stream",
     "text": [
      "datasets/audios/train/Normal\n",
      "MoviePy - Writing audio in datasets/audios/train/Normal/a6RPzcU3bzA_000007_000017.wav\n"
     ]
    },
    {
     "name": "stderr",
     "output_type": "stream",
     "text": [
      " 45%|████▌     | 191/424 [00:43<01:24,  2.75it/s]"
     ]
    },
    {
     "name": "stdout",
     "output_type": "stream",
     "text": [
      "MoviePy - Done.\n"
     ]
    },
    {
     "name": "stderr",
     "output_type": "stream",
     "text": [
      " 45%|████▌     | 192/424 [00:44<01:37,  2.38it/s]"
     ]
    },
    {
     "name": "stdout",
     "output_type": "stream",
     "text": [
      "\n",
      "File: datasets/train/Normal/a6RPzcU3bzA_000007_000017.mp4\n",
      "Ground Truth: Normal\n",
      "Top predictions:\n",
      "     Celebrating: 28.34%\n",
      "         Dancing: 16.58%\n",
      "No people is in the room: 12.05%\n",
      "Playing with pets: 10.04%\n",
      "      Meditating: 4.02%\n",
      "\n",
      "datasets/audios/train/Normal\n",
      "MoviePy - Writing audio in datasets/audios/train/Normal/A7Th1TrWh8U_000086_000096.wav\n"
     ]
    },
    {
     "name": "stderr",
     "output_type": "stream",
     "text": [
      " 46%|████▌     | 193/424 [00:44<01:30,  2.54it/s]"
     ]
    },
    {
     "name": "stdout",
     "output_type": "stream",
     "text": [
      "MoviePy - Done.\n",
      "\n",
      "File: datasets/train/Normal/A7Th1TrWh8U_000086_000096.mp4\n",
      "Ground Truth: Normal\n",
      "Top predictions:\n",
      "      Using drug: 19.39%\n",
      "        Knitting: 9.01%\n",
      "    Sitting down: 8.24%\n",
      "No people is in the room: 7.80%\n",
      "         Smoking: 6.47%\n",
      "\n"
     ]
    },
    {
     "name": "stderr",
     "output_type": "stream",
     "text": [
      " 46%|████▌     | 193/424 [00:44<01:30,  2.54it/s]"
     ]
    },
    {
     "name": "stdout",
     "output_type": "stream",
     "text": [
      "datasets/audios/train/Normal\n",
      "MoviePy - Writing audio in datasets/audios/train/Normal/AA-ZLdnX1mA_000060_000070.wav\n"
     ]
    },
    {
     "name": "stderr",
     "output_type": "stream",
     "text": [
      " 46%|████▌     | 193/424 [00:44<01:30,  2.54it/s]"
     ]
    },
    {
     "name": "stdout",
     "output_type": "stream",
     "text": [
      "MoviePy - Done.\n"
     ]
    },
    {
     "name": "stderr",
     "output_type": "stream",
     "text": [
      " 46%|████▌     | 195/424 [00:45<01:18,  2.92it/s]"
     ]
    },
    {
     "name": "stdout",
     "output_type": "stream",
     "text": [
      "\n",
      "File: datasets/train/Normal/AA-ZLdnX1mA_000060_000070.mp4\n",
      "Ground Truth: Normal\n",
      "Top predictions:\n",
      "No people is in the room: 41.81%\n",
      "     Eating food: 28.49%\n",
      "         Talking: 5.06%\n",
      "        Chatting: 4.55%\n",
      "        Drinking: 4.09%\n",
      "\n",
      "This video datasets/train/Normal/adl-01-cam0-rgb.mp4 has no audio!\n"
     ]
    },
    {
     "name": "stderr",
     "output_type": "stream",
     "text": [
      " 46%|████▋     | 197/424 [00:45<00:50,  4.50it/s]"
     ]
    },
    {
     "name": "stdout",
     "output_type": "stream",
     "text": [
      "This video datasets/train/Normal/adl-02-cam0-rgb.mp4 has no audio!\n",
      "This video datasets/train/Normal/adl-03-cam0-rgb.mp4 has no audio!\n"
     ]
    },
    {
     "name": "stderr",
     "output_type": "stream",
     "text": [
      " 47%|████▋     | 200/424 [00:45<00:32,  6.99it/s]"
     ]
    },
    {
     "name": "stdout",
     "output_type": "stream",
     "text": [
      "This video datasets/train/Normal/adl-04-cam0-rgb.mp4 has no audio!\n",
      "This video datasets/train/Normal/adl-05-cam0-rgb.mp4 has no audio!\n",
      "This video datasets/train/Normal/adl-06-cam0-rgb.mp4 has no audio!\n"
     ]
    },
    {
     "name": "stderr",
     "output_type": "stream",
     "text": [
      " 48%|████▊     | 203/424 [00:45<00:26,  8.23it/s]"
     ]
    },
    {
     "name": "stdout",
     "output_type": "stream",
     "text": [
      "This video datasets/train/Normal/adl-07-cam0-rgb.mp4 has no audio!\n",
      "This video datasets/train/Normal/adl-08-cam0-rgb.mp4 has no audio!\n",
      "This video datasets/train/Normal/adl-09-cam0-rgb.mp4 has no audio!\n"
     ]
    },
    {
     "name": "stderr",
     "output_type": "stream",
     "text": [
      " 49%|████▊     | 206/424 [00:46<00:23,  9.21it/s]"
     ]
    },
    {
     "name": "stdout",
     "output_type": "stream",
     "text": [
      "This video datasets/train/Normal/adl-10-cam0-rgb.mp4 has no audio!\n",
      "This video datasets/train/Normal/adl-11-cam0-rgb.mp4 has no audio!\n",
      "This video datasets/train/Normal/adl-12-cam0-rgb.mp4 has no audio!\n"
     ]
    },
    {
     "name": "stderr",
     "output_type": "stream",
     "text": [
      " 49%|████▉     | 208/424 [00:46<00:22,  9.57it/s]"
     ]
    },
    {
     "name": "stdout",
     "output_type": "stream",
     "text": [
      "This video datasets/train/Normal/adl-13-cam0-rgb.mp4 has no audio!\n",
      "This video datasets/train/Normal/adl-14-cam0-rgb.mp4 has no audio!\n"
     ]
    },
    {
     "name": "stderr",
     "output_type": "stream",
     "text": [
      " 50%|████▉     | 211/424 [00:46<00:22,  9.66it/s]"
     ]
    },
    {
     "name": "stdout",
     "output_type": "stream",
     "text": [
      "This video datasets/train/Normal/adl-15-cam0-rgb.mp4 has no audio!\n",
      "This video datasets/train/Normal/adl-16-cam0-rgb.mp4 has no audio!\n",
      "This video datasets/train/Normal/adl-17-cam0-rgb.mp4 has no audio!\n"
     ]
    },
    {
     "name": "stderr",
     "output_type": "stream",
     "text": [
      " 50%|█████     | 213/424 [00:46<00:20, 10.20it/s]"
     ]
    },
    {
     "name": "stdout",
     "output_type": "stream",
     "text": [
      "This video datasets/train/Normal/adl-18-cam0-rgb.mp4 has no audio!\n",
      "This video datasets/train/Normal/adl-19-cam0-rgb.mp4 has no audio!\n",
      "This video datasets/train/Normal/adl-20-cam0-rgb.mp4 has no audio!\n"
     ]
    },
    {
     "name": "stderr",
     "output_type": "stream",
     "text": [
      " 51%|█████     | 215/424 [00:47<00:20, 10.21it/s]"
     ]
    },
    {
     "name": "stdout",
     "output_type": "stream",
     "text": [
      "This video datasets/train/Normal/adl-21-cam0-rgb.mp4 has no audio!\n",
      "This video datasets/train/Normal/adl-22-cam0-rgb.mp4 has no audio!\n"
     ]
    },
    {
     "name": "stderr",
     "output_type": "stream",
     "text": [
      " 51%|█████▏    | 218/424 [00:47<00:21,  9.47it/s]"
     ]
    },
    {
     "name": "stdout",
     "output_type": "stream",
     "text": [
      "This video datasets/train/Normal/adl-23-cam0-rgb.mp4 has no audio!\n",
      "This video datasets/train/Normal/adl-24-cam0-rgb.mp4 has no audio!\n"
     ]
    },
    {
     "name": "stderr",
     "output_type": "stream",
     "text": [
      " 52%|█████▏    | 220/424 [00:47<00:20, 10.04it/s]"
     ]
    },
    {
     "name": "stdout",
     "output_type": "stream",
     "text": [
      "This video datasets/train/Normal/adl-25-cam0-rgb.mp4 has no audio!\n",
      "This video datasets/train/Normal/adl-26-cam0-rgb.mp4 has no audio!\n",
      "This video datasets/train/Normal/adl-27-cam0-rgb.mp4 has no audio!\n"
     ]
    },
    {
     "name": "stderr",
     "output_type": "stream",
     "text": [
      " 53%|█████▎    | 224/424 [00:47<00:19, 10.21it/s]"
     ]
    },
    {
     "name": "stdout",
     "output_type": "stream",
     "text": [
      "This video datasets/train/Normal/adl-28-cam0-rgb.mp4 has no audio!\n",
      "This video datasets/train/Normal/adl-29-cam0-rgb.mp4 has no audio!\n",
      "This video datasets/train/Normal/adl-30-cam0-rgb.mp4 has no audio!\n"
     ]
    },
    {
     "name": "stderr",
     "output_type": "stream",
     "text": [
      " 53%|█████▎    | 226/424 [00:48<00:21,  9.26it/s]"
     ]
    },
    {
     "name": "stdout",
     "output_type": "stream",
     "text": [
      "This video datasets/train/Normal/adl-31-cam0-rgb.mp4 has no audio!\n",
      "This video datasets/train/Normal/adl-32-cam0-rgb.mp4 has no audio!\n"
     ]
    },
    {
     "name": "stderr",
     "output_type": "stream",
     "text": [
      " 54%|█████▍    | 229/424 [00:48<00:20,  9.58it/s]"
     ]
    },
    {
     "name": "stdout",
     "output_type": "stream",
     "text": [
      "This video datasets/train/Normal/adl-33-cam0-rgb.mp4 has no audio!\n",
      "This video datasets/train/Normal/adl-34-cam0-rgb.mp4 has no audio!\n",
      "This video datasets/train/Normal/adl-35-cam0-rgb.mp4 has no audio!\n"
     ]
    },
    {
     "name": "stderr",
     "output_type": "stream",
     "text": [
      " 54%|█████▍    | 231/424 [00:48<00:20,  9.54it/s]"
     ]
    },
    {
     "name": "stdout",
     "output_type": "stream",
     "text": [
      "This video datasets/train/Normal/adl-36-cam0-rgb.mp4 has no audio!\n",
      "This video datasets/train/Normal/adl-37-cam0-rgb.mp4 has no audio!\n"
     ]
    },
    {
     "name": "stderr",
     "output_type": "stream",
     "text": [
      " 55%|█████▌    | 234/424 [00:49<00:19,  9.92it/s]"
     ]
    },
    {
     "name": "stdout",
     "output_type": "stream",
     "text": [
      "This video datasets/train/Normal/adl-38-cam0-rgb.mp4 has no audio!\n",
      "This video datasets/train/Normal/adl-39-cam0-rgb.mp4 has no audio!\n",
      "This video datasets/train/Normal/adl-40-cam0-rgb.mp4 has no audio!\n"
     ]
    },
    {
     "name": "stderr",
     "output_type": "stream",
     "text": [
      " 55%|█████▌    | 234/424 [00:49<00:19,  9.92it/s]"
     ]
    },
    {
     "name": "stdout",
     "output_type": "stream",
     "text": [
      "datasets/audios/train/Normal\n",
      "MoviePy - Writing audio in datasets/audios/train/Normal/admrQMs57JQ_000002_000012.wav\n"
     ]
    },
    {
     "name": "stderr",
     "output_type": "stream",
     "text": [
      " 55%|█████▌    | 235/424 [00:49<00:31,  6.00it/s]"
     ]
    },
    {
     "name": "stdout",
     "output_type": "stream",
     "text": [
      "MoviePy - Done.\n",
      "\n",
      "File: datasets/train/Normal/admrQMs57JQ_000002_000012.mp4\n",
      "Ground Truth: Normal\n",
      "Top predictions:\n",
      "No people is in the room: 72.73%\n",
      "   Doing laundry: 4.37%\n",
      "         Working: 3.37%\n",
      "         Talking: 3.31%\n",
      "   Setting table: 3.24%\n",
      "\n"
     ]
    },
    {
     "name": "stderr",
     "output_type": "stream",
     "text": [
      " 55%|█████▌    | 235/424 [00:49<00:31,  6.00it/s]"
     ]
    },
    {
     "name": "stdout",
     "output_type": "stream",
     "text": [
      "datasets/audios/train/Normal\n",
      "MoviePy - Writing audio in datasets/audios/train/Normal/AdwS9UEt1Jg_000125_000135.wav\n"
     ]
    },
    {
     "name": "stderr",
     "output_type": "stream",
     "text": [
      " 56%|█████▌    | 236/424 [00:49<00:40,  4.70it/s]"
     ]
    },
    {
     "name": "stdout",
     "output_type": "stream",
     "text": [
      "MoviePy - Done.\n",
      "\n",
      "File: datasets/train/Normal/AdwS9UEt1Jg_000125_000135.mp4\n",
      "Ground Truth: Normal\n",
      "Top predictions:\n",
      "   Setting table: 24.94%\n",
      "      Using drug: 17.55%\n",
      "  Using computer: 11.16%\n",
      "Organizing space: 10.53%\n",
      "      Decorating: 4.17%\n",
      "\n"
     ]
    },
    {
     "name": "stderr",
     "output_type": "stream",
     "text": [
      " 56%|█████▌    | 236/424 [00:49<00:40,  4.70it/s]"
     ]
    },
    {
     "name": "stdout",
     "output_type": "stream",
     "text": [
      "datasets/audios/train/Normal\n",
      "MoviePy - Writing audio in datasets/audios/train/Normal/ADzB-RTmLJU_000004_000014.wav\n"
     ]
    },
    {
     "name": "stderr",
     "output_type": "stream",
     "text": [
      " 56%|█████▌    | 236/424 [00:50<00:40,  4.70it/s]"
     ]
    },
    {
     "name": "stdout",
     "output_type": "stream",
     "text": [
      "MoviePy - Done.\n"
     ]
    },
    {
     "name": "stderr",
     "output_type": "stream",
     "text": [
      " 56%|█████▌    | 237/424 [00:50<00:59,  3.12it/s]"
     ]
    },
    {
     "name": "stdout",
     "output_type": "stream",
     "text": [
      "\n",
      "File: datasets/train/Normal/ADzB-RTmLJU_000004_000014.mp4\n",
      "Ground Truth: Normal\n",
      "Top predictions:\n",
      "   Doing laundry: 83.43%\n",
      "        Cleaning: 3.75%\n",
      "       Vacumning: 2.75%\n",
      "Furniture Collapse: 1.79%\n",
      "   Mopping floor: 1.36%\n",
      "\n",
      "datasets/audios/train/Normal\n"
     ]
    },
    {
     "name": "stderr",
     "output_type": "stream",
     "text": [
      " 56%|█████▌    | 237/424 [00:50<00:59,  3.12it/s]"
     ]
    },
    {
     "name": "stdout",
     "output_type": "stream",
     "text": [
      "MoviePy - Writing audio in datasets/audios/train/Normal/AG7rHLw-ckU_000301_000311.wav\n"
     ]
    },
    {
     "name": "stderr",
     "output_type": "stream",
     "text": [
      " 56%|█████▌    | 238/424 [00:50<01:01,  3.01it/s]"
     ]
    },
    {
     "name": "stdout",
     "output_type": "stream",
     "text": [
      "MoviePy - Done.\n",
      "\n",
      "File: datasets/train/Normal/AG7rHLw-ckU_000301_000311.mp4\n",
      "Ground Truth: Normal\n",
      "Top predictions:\n",
      "No people is in the room: 68.12%\n",
      "   Setting table: 10.39%\n",
      "         Working: 3.57%\n",
      "  Using computer: 3.15%\n",
      "   Doing laundry: 2.58%\n",
      "\n"
     ]
    },
    {
     "name": "stderr",
     "output_type": "stream",
     "text": [
      " 56%|█████▌    | 238/424 [00:50<01:01,  3.01it/s]"
     ]
    },
    {
     "name": "stdout",
     "output_type": "stream",
     "text": [
      "datasets/audios/train/Normal\n",
      "MoviePy - Writing audio in datasets/audios/train/Normal/AGmRgVcOLYA_000061_000071.wav\n"
     ]
    },
    {
     "name": "stderr",
     "output_type": "stream",
     "text": [
      " 56%|█████▋    | 239/424 [00:51<01:05,  2.85it/s]"
     ]
    },
    {
     "name": "stdout",
     "output_type": "stream",
     "text": [
      "MoviePy - Done.\n",
      "\n",
      "File: datasets/train/Normal/AGmRgVcOLYA_000061_000071.mp4\n",
      "Ground Truth: Normal\n",
      "Top predictions:\n",
      "  Using computer: 49.31%\n",
      "         Working: 7.24%\n",
      "     Celebrating: 5.89%\n",
      "        Studying: 5.65%\n",
      "Playing board games: 5.49%\n",
      "\n"
     ]
    },
    {
     "name": "stderr",
     "output_type": "stream",
     "text": [
      " 56%|█████▋    | 239/424 [00:51<01:05,  2.85it/s]"
     ]
    },
    {
     "name": "stdout",
     "output_type": "stream",
     "text": [
      "datasets/audios/train/Normal\n",
      "MoviePy - Writing audio in datasets/audios/train/Normal/AIrIuRyN5VA_000097_000107.wav\n"
     ]
    },
    {
     "name": "stderr",
     "output_type": "stream",
     "text": [
      " 57%|█████▋    | 240/424 [00:51<01:06,  2.75it/s]"
     ]
    },
    {
     "name": "stdout",
     "output_type": "stream",
     "text": [
      "MoviePy - Done.\n",
      "\n",
      "File: datasets/train/Normal/AIrIuRyN5VA_000097_000107.mp4\n",
      "Ground Truth: Normal\n",
      "Top predictions:\n",
      "        Drinking: 73.27%\n",
      "       Vacumning: 4.95%\n",
      "         Cooking: 4.75%\n",
      "      Using drug: 2.65%\n",
      "        Cleaning: 2.26%\n",
      "\n"
     ]
    },
    {
     "name": "stderr",
     "output_type": "stream",
     "text": [
      " 57%|█████▋    | 240/424 [00:51<01:06,  2.75it/s]"
     ]
    },
    {
     "name": "stdout",
     "output_type": "stream",
     "text": [
      "datasets/audios/train/Normal\n",
      "MoviePy - Writing audio in datasets/audios/train/Normal/aKKNRI3PYYs_000130_000140.wav\n"
     ]
    },
    {
     "name": "stderr",
     "output_type": "stream",
     "text": [
      " 57%|█████▋    | 241/424 [00:51<01:07,  2.71it/s]"
     ]
    },
    {
     "name": "stdout",
     "output_type": "stream",
     "text": [
      "MoviePy - Done.\n",
      "\n",
      "File: datasets/train/Normal/aKKNRI3PYYs_000130_000140.mp4\n",
      "Ground Truth: Normal\n",
      "Top predictions:\n",
      "No people is in the room: 55.26%\n",
      "Playing with pets: 13.18%\n",
      "     Celebrating: 9.59%\n",
      "   Mopping floor: 6.91%\n",
      "         Working: 2.38%\n",
      "\n"
     ]
    },
    {
     "name": "stderr",
     "output_type": "stream",
     "text": [
      " 57%|█████▋    | 241/424 [00:52<01:07,  2.71it/s]"
     ]
    },
    {
     "name": "stdout",
     "output_type": "stream",
     "text": [
      "datasets/audios/train/Normal\n",
      "MoviePy - Writing audio in datasets/audios/train/Normal/ALuLyCkzCt8_000060_000070.wav\n"
     ]
    },
    {
     "name": "stderr",
     "output_type": "stream",
     "text": [
      " 57%|█████▋    | 241/424 [00:52<01:07,  2.71it/s]"
     ]
    },
    {
     "name": "stdout",
     "output_type": "stream",
     "text": [
      "MoviePy - Done.\n"
     ]
    },
    {
     "name": "stderr",
     "output_type": "stream",
     "text": [
      " 57%|█████▋    | 242/424 [00:52<01:20,  2.27it/s]"
     ]
    },
    {
     "name": "stdout",
     "output_type": "stream",
     "text": [
      "\n",
      "File: datasets/train/Normal/ALuLyCkzCt8_000060_000070.mp4\n",
      "Ground Truth: Normal\n",
      "Top predictions:\n",
      "        Cleaning: 34.49%\n",
      "       Showering: 15.17%\n",
      "   Mopping floor: 12.32%\n",
      "      Using drug: 5.41%\n",
      "   Doing laundry: 5.00%\n",
      "\n"
     ]
    },
    {
     "name": "stderr",
     "output_type": "stream",
     "text": [
      " 57%|█████▋    | 242/424 [00:52<01:20,  2.27it/s]"
     ]
    },
    {
     "name": "stdout",
     "output_type": "stream",
     "text": [
      "datasets/audios/train/Normal\n",
      "MoviePy - Writing audio in datasets/audios/train/Normal/anDbHNhATAE_000039_000049.wav\n"
     ]
    },
    {
     "name": "stderr",
     "output_type": "stream",
     "text": [
      " 57%|█████▋    | 243/424 [00:52<01:18,  2.32it/s]"
     ]
    },
    {
     "name": "stdout",
     "output_type": "stream",
     "text": [
      "MoviePy - Done.\n",
      "\n",
      "File: datasets/train/Normal/anDbHNhATAE_000039_000049.mp4\n",
      "Ground Truth: Normal\n",
      "Top predictions:\n",
      "     Eating food: 35.85%\n",
      "No people is in the room: 20.71%\n",
      "Playing with pets: 12.42%\n",
      "    Sitting down: 10.42%\n",
      "      Using drug: 3.49%\n",
      "\n"
     ]
    },
    {
     "name": "stderr",
     "output_type": "stream",
     "text": [
      " 57%|█████▋    | 243/424 [00:53<01:18,  2.32it/s]"
     ]
    },
    {
     "name": "stdout",
     "output_type": "stream",
     "text": [
      "datasets/audios/train/Normal\n",
      "MoviePy - Writing audio in datasets/audios/train/Normal/anzXsViG6wc_000370_000380.wav\n"
     ]
    },
    {
     "name": "stderr",
     "output_type": "stream",
     "text": [
      " 58%|█████▊    | 244/424 [00:53<01:15,  2.39it/s]"
     ]
    },
    {
     "name": "stdout",
     "output_type": "stream",
     "text": [
      "MoviePy - Done.\n",
      "\n",
      "File: datasets/train/Normal/anzXsViG6wc_000370_000380.mp4\n",
      "Ground Truth: Normal\n",
      "Top predictions:\n",
      "  Using computer: 43.25%\n",
      "        Studying: 27.70%\n",
      "        Painting: 12.50%\n",
      "      Decorating: 5.51%\n",
      "Organizing space: 2.85%\n",
      "\n"
     ]
    },
    {
     "name": "stderr",
     "output_type": "stream",
     "text": [
      " 58%|█████▊    | 244/424 [00:53<01:15,  2.39it/s]"
     ]
    },
    {
     "name": "stdout",
     "output_type": "stream",
     "text": [
      "datasets/audios/train/Normal\n",
      "MoviePy - Writing audio in datasets/audios/train/Normal/AObYuoaz-7o_000245_000255.wav\n"
     ]
    },
    {
     "name": "stderr",
     "output_type": "stream",
     "text": [
      " 58%|█████▊    | 245/424 [00:53<01:15,  2.38it/s]"
     ]
    },
    {
     "name": "stdout",
     "output_type": "stream",
     "text": [
      "MoviePy - Done.\n",
      "\n",
      "File: datasets/train/Normal/AObYuoaz-7o_000245_000255.mp4\n",
      "Ground Truth: Normal\n",
      "Top predictions:\n",
      "     Eating food: 99.86%\n",
      "        Drinking: 0.10%\n",
      "         Smoking: 0.02%\n",
      "         Choking: 0.01%\n",
      "No people is in the room: 0.00%\n",
      "\n"
     ]
    },
    {
     "name": "stderr",
     "output_type": "stream",
     "text": [
      " 58%|█████▊    | 245/424 [00:53<01:15,  2.38it/s]"
     ]
    },
    {
     "name": "stdout",
     "output_type": "stream",
     "text": [
      "datasets/audios/train/Normal\n",
      "MoviePy - Writing audio in datasets/audios/train/Normal/aprcI6-IHmY_000146_000156.wav\n"
     ]
    },
    {
     "name": "stderr",
     "output_type": "stream",
     "text": [
      " 58%|█████▊    | 246/424 [00:54<01:11,  2.48it/s]"
     ]
    },
    {
     "name": "stdout",
     "output_type": "stream",
     "text": [
      "MoviePy - Done.\n",
      "\n",
      "File: datasets/train/Normal/aprcI6-IHmY_000146_000156.mp4\n",
      "Ground Truth: Normal\n",
      "Top predictions:\n",
      "    Sitting down: 36.73%\n",
      "   Setting table: 27.60%\n",
      "No people is in the room: 14.98%\n",
      "      Exercising: 10.05%\n",
      "   Mopping floor: 3.56%\n",
      "\n"
     ]
    },
    {
     "name": "stderr",
     "output_type": "stream",
     "text": [
      " 58%|█████▊    | 246/424 [00:54<01:11,  2.48it/s]"
     ]
    },
    {
     "name": "stdout",
     "output_type": "stream",
     "text": [
      "datasets/audios/train/Normal\n",
      "MoviePy - Writing audio in datasets/audios/train/Normal/auSl2RAONs4_000007_000017.wav\n"
     ]
    },
    {
     "name": "stderr",
     "output_type": "stream",
     "text": [
      " 58%|█████▊    | 246/424 [00:54<01:11,  2.48it/s]"
     ]
    },
    {
     "name": "stdout",
     "output_type": "stream",
     "text": [
      "MoviePy - Done.\n"
     ]
    },
    {
     "name": "stderr",
     "output_type": "stream",
     "text": [
      " 58%|█████▊    | 247/424 [00:54<01:18,  2.26it/s]"
     ]
    },
    {
     "name": "stdout",
     "output_type": "stream",
     "text": [
      "\n",
      "File: datasets/train/Normal/auSl2RAONs4_000007_000017.mp4\n",
      "Ground Truth: Normal\n",
      "Top predictions:\n",
      "No people is in the room: 44.54%\n",
      "Playing with pets: 17.67%\n",
      "         Talking: 9.94%\n",
      "        Chatting: 4.37%\n",
      "   Setting table: 2.74%\n",
      "\n"
     ]
    },
    {
     "name": "stderr",
     "output_type": "stream",
     "text": [
      " 58%|█████▊    | 247/424 [00:54<01:18,  2.26it/s]"
     ]
    },
    {
     "name": "stdout",
     "output_type": "stream",
     "text": [
      "datasets/audios/train/Normal\n",
      "MoviePy - Writing audio in datasets/audios/train/Normal/AV4t72IYADk_000048_000058.wav\n"
     ]
    },
    {
     "name": "stderr",
     "output_type": "stream",
     "text": [
      " 58%|█████▊    | 248/424 [00:55<01:16,  2.31it/s]"
     ]
    },
    {
     "name": "stdout",
     "output_type": "stream",
     "text": [
      "MoviePy - Done.\n",
      "\n",
      "File: datasets/train/Normal/AV4t72IYADk_000048_000058.mp4\n",
      "Ground Truth: Normal\n",
      "Top predictions:\n",
      "        Cleaning: 35.78%\n",
      "    Sitting down: 16.92%\n",
      "      Decorating: 8.58%\n",
      "   Doing laundry: 8.37%\n",
      "        Painting: 6.82%\n",
      "\n"
     ]
    },
    {
     "name": "stderr",
     "output_type": "stream",
     "text": [
      " 58%|█████▊    | 248/424 [00:55<01:16,  2.31it/s]"
     ]
    },
    {
     "name": "stdout",
     "output_type": "stream",
     "text": [
      "datasets/audios/train/Normal\n",
      "MoviePy - Writing audio in datasets/audios/train/Normal/AvgqtvtOgF4_000443_000453.wav\n"
     ]
    },
    {
     "name": "stderr",
     "output_type": "stream",
     "text": [
      " 59%|█████▊    | 249/424 [00:55<01:13,  2.39it/s]"
     ]
    },
    {
     "name": "stdout",
     "output_type": "stream",
     "text": [
      "MoviePy - Done.\n",
      "\n",
      "File: datasets/train/Normal/AvgqtvtOgF4_000443_000453.mp4\n",
      "Ground Truth: Normal\n",
      "Top predictions:\n",
      "Playing board games: 31.03%\n",
      "  Using computer: 14.64%\n",
      "        Studying: 13.67%\n",
      "   Setting table: 8.49%\n",
      "No people is in the room: 7.61%\n",
      "\n"
     ]
    },
    {
     "name": "stderr",
     "output_type": "stream",
     "text": [
      " 59%|█████▊    | 249/424 [00:55<01:13,  2.39it/s]"
     ]
    },
    {
     "name": "stdout",
     "output_type": "stream",
     "text": [
      "datasets/audios/train/Normal\n",
      "MoviePy - Writing audio in datasets/audios/train/Normal/aWEk9Sfs67c_000194_000204.wav\n"
     ]
    },
    {
     "name": "stderr",
     "output_type": "stream",
     "text": [
      " 59%|█████▊    | 249/424 [00:55<01:13,  2.39it/s]"
     ]
    },
    {
     "name": "stdout",
     "output_type": "stream",
     "text": [
      "MoviePy - Done.\n"
     ]
    },
    {
     "name": "stderr",
     "output_type": "stream",
     "text": [
      " 59%|█████▉    | 250/424 [00:56<01:20,  2.15it/s]"
     ]
    },
    {
     "name": "stdout",
     "output_type": "stream",
     "text": [
      "\n",
      "File: datasets/train/Normal/aWEk9Sfs67c_000194_000204.mp4\n",
      "Ground Truth: Normal\n",
      "Top predictions:\n",
      "No people is in the room: 53.40%\n",
      "     Eating food: 10.05%\n",
      "    Sitting down: 6.84%\n",
      "        Drinking: 3.34%\n",
      "Playing with pets: 3.27%\n",
      "\n"
     ]
    },
    {
     "name": "stderr",
     "output_type": "stream",
     "text": [
      " 59%|█████▉    | 250/424 [00:56<01:20,  2.15it/s]"
     ]
    },
    {
     "name": "stdout",
     "output_type": "stream",
     "text": [
      "datasets/audios/train/Normal\n",
      "MoviePy - Writing audio in datasets/audios/train/Normal/Awm6MWRRAa4_000222_000232.wav\n"
     ]
    },
    {
     "name": "stderr",
     "output_type": "stream",
     "text": [
      " 59%|█████▉    | 251/424 [00:56<01:16,  2.26it/s]"
     ]
    },
    {
     "name": "stdout",
     "output_type": "stream",
     "text": [
      "MoviePy - Done.\n",
      "\n",
      "File: datasets/train/Normal/Awm6MWRRAa4_000222_000232.mp4\n",
      "Ground Truth: Normal\n",
      "Top predictions:\n",
      "No people is in the room: 45.42%\n",
      "   Doing laundry: 20.20%\n",
      "         Cooking: 16.79%\n",
      "Unattended cooking: 5.43%\n",
      "       Showering: 3.71%\n",
      "\n"
     ]
    },
    {
     "name": "stderr",
     "output_type": "stream",
     "text": [
      " 59%|█████▉    | 251/424 [00:56<01:16,  2.26it/s]"
     ]
    },
    {
     "name": "stdout",
     "output_type": "stream",
     "text": [
      "datasets/audios/train/Normal\n",
      "MoviePy - Writing audio in datasets/audios/train/Normal/AY1CsIuu3jg_000229_000239.wav\n"
     ]
    },
    {
     "name": "stderr",
     "output_type": "stream",
     "text": [
      " 59%|█████▉    | 252/424 [00:56<01:13,  2.34it/s]"
     ]
    },
    {
     "name": "stdout",
     "output_type": "stream",
     "text": [
      "MoviePy - Done.\n",
      "\n",
      "File: datasets/train/Normal/AY1CsIuu3jg_000229_000239.mp4\n",
      "Ground Truth: Normal\n",
      "Top predictions:\n",
      "No people is in the room: 31.39%\n",
      "   Setting table: 18.50%\n",
      "         Cooking: 11.59%\n",
      "Unattended cooking: 9.84%\n",
      "   Doing laundry: 8.87%\n",
      "\n"
     ]
    },
    {
     "name": "stderr",
     "output_type": "stream",
     "text": [
      " 59%|█████▉    | 252/424 [00:57<01:13,  2.34it/s]"
     ]
    },
    {
     "name": "stdout",
     "output_type": "stream",
     "text": [
      "datasets/audios/train/Normal\n",
      "MoviePy - Writing audio in datasets/audios/train/Normal/AYdyPzM8oL8_000004_000014.wav\n"
     ]
    },
    {
     "name": "stderr",
     "output_type": "stream",
     "text": [
      " 59%|█████▉    | 252/424 [00:57<01:13,  2.34it/s]"
     ]
    },
    {
     "name": "stdout",
     "output_type": "stream",
     "text": [
      "MoviePy - Done.\n"
     ]
    },
    {
     "name": "stderr",
     "output_type": "stream",
     "text": [
      " 60%|█████▉    | 253/424 [00:57<01:22,  2.06it/s]"
     ]
    },
    {
     "name": "stdout",
     "output_type": "stream",
     "text": [
      "\n",
      "File: datasets/train/Normal/AYdyPzM8oL8_000004_000014.mp4\n",
      "Ground Truth: Normal\n",
      "Top predictions:\n",
      "No people is in the room: 32.20%\n",
      "     Eating food: 25.61%\n",
      "Playing with pets: 14.23%\n",
      "         Talking: 11.23%\n",
      "         Reading: 3.85%\n",
      "\n"
     ]
    },
    {
     "name": "stderr",
     "output_type": "stream",
     "text": [
      " 60%|█████▉    | 253/424 [00:57<01:22,  2.06it/s]"
     ]
    },
    {
     "name": "stdout",
     "output_type": "stream",
     "text": [
      "datasets/audios/train/Normal\n",
      "MoviePy - Writing audio in datasets/audios/train/Normal/B-SQ8cYQSMk_000222_000232.wav\n"
     ]
    },
    {
     "name": "stderr",
     "output_type": "stream",
     "text": [
      " 60%|█████▉    | 253/424 [00:57<01:22,  2.06it/s]"
     ]
    },
    {
     "name": "stdout",
     "output_type": "stream",
     "text": [
      "MoviePy - Done.\n"
     ]
    },
    {
     "name": "stderr",
     "output_type": "stream",
     "text": [
      " 60%|█████▉    | 254/424 [00:57<01:21,  2.10it/s]"
     ]
    },
    {
     "name": "stdout",
     "output_type": "stream",
     "text": [
      "\n",
      "File: datasets/train/Normal/B-SQ8cYQSMk_000222_000232.mp4\n",
      "Ground Truth: Normal\n",
      "Top predictions:\n",
      "No people is in the room: 52.74%\n",
      "   Doing laundry: 10.14%\n",
      "        Studying: 5.53%\n",
      "   Setting table: 3.68%\n",
      "    Sitting down: 3.32%\n",
      "\n"
     ]
    },
    {
     "name": "stderr",
     "output_type": "stream",
     "text": [
      " 60%|█████▉    | 254/424 [00:58<01:21,  2.10it/s]"
     ]
    },
    {
     "name": "stdout",
     "output_type": "stream",
     "text": [
      "datasets/audios/train/Normal\n",
      "MoviePy - Writing audio in datasets/audios/train/Normal/B9JqNr0e-Pw_000022_000032.wav\n"
     ]
    },
    {
     "name": "stderr",
     "output_type": "stream",
     "text": [
      " 60%|██████    | 255/424 [00:58<01:16,  2.22it/s]"
     ]
    },
    {
     "name": "stdout",
     "output_type": "stream",
     "text": [
      "MoviePy - Done.\n",
      "\n",
      "File: datasets/train/Normal/B9JqNr0e-Pw_000022_000032.mp4\n",
      "Ground Truth: Normal\n",
      "Top predictions:\n",
      "      Using drug: 39.71%\n",
      "   Doing laundry: 10.87%\n",
      "No people is in the room: 7.49%\n",
      "        Painting: 5.76%\n",
      "      Decorating: 5.69%\n",
      "\n"
     ]
    },
    {
     "name": "stderr",
     "output_type": "stream",
     "text": [
      " 60%|██████    | 255/424 [00:58<01:16,  2.22it/s]"
     ]
    },
    {
     "name": "stdout",
     "output_type": "stream",
     "text": [
      "datasets/audios/train/Normal\n",
      "MoviePy - Writing audio in datasets/audios/train/Normal/baf8O6sSMLI_000053_000063.wav\n"
     ]
    },
    {
     "name": "stderr",
     "output_type": "stream",
     "text": [
      " 60%|██████    | 255/424 [00:58<01:16,  2.22it/s]"
     ]
    },
    {
     "name": "stdout",
     "output_type": "stream",
     "text": [
      "MoviePy - Done.\n"
     ]
    },
    {
     "name": "stderr",
     "output_type": "stream",
     "text": [
      " 60%|██████    | 256/424 [00:58<01:19,  2.11it/s]"
     ]
    },
    {
     "name": "stdout",
     "output_type": "stream",
     "text": [
      "\n",
      "File: datasets/train/Normal/baf8O6sSMLI_000053_000063.mp4\n",
      "Ground Truth: Normal\n",
      "Top predictions:\n",
      "   Setting table: 57.58%\n",
      "No people is in the room: 7.77%\n",
      "      Exercising: 5.25%\n",
      "    Sitting down: 3.87%\n",
      "     Celebrating: 3.20%\n",
      "\n"
     ]
    },
    {
     "name": "stderr",
     "output_type": "stream",
     "text": [
      " 60%|██████    | 256/424 [00:59<01:19,  2.11it/s]"
     ]
    },
    {
     "name": "stdout",
     "output_type": "stream",
     "text": [
      "datasets/audios/train/Normal\n",
      "MoviePy - Writing audio in datasets/audios/train/Normal/BDbTkmhDM2A_000087_000097.wav\n"
     ]
    },
    {
     "name": "stderr",
     "output_type": "stream",
     "text": [
      " 61%|██████    | 257/424 [00:59<01:16,  2.17it/s]"
     ]
    },
    {
     "name": "stdout",
     "output_type": "stream",
     "text": [
      "MoviePy - Done.\n",
      "\n",
      "File: datasets/train/Normal/BDbTkmhDM2A_000087_000097.mp4\n",
      "Ground Truth: Normal\n",
      "Top predictions:\n",
      "No people is in the room: 23.62%\n",
      "Playing board games: 21.14%\n",
      "Playing with pets: 15.12%\n",
      "         Reading: 6.65%\n",
      "         Talking: 6.53%\n",
      "\n"
     ]
    },
    {
     "name": "stderr",
     "output_type": "stream",
     "text": [
      " 61%|██████    | 257/424 [00:59<01:16,  2.17it/s]"
     ]
    },
    {
     "name": "stdout",
     "output_type": "stream",
     "text": [
      "datasets/audios/train/Normal\n",
      "MoviePy - Writing audio in datasets/audios/train/Normal/BiqJ_FkwCUQ_000006_000016.wav\n"
     ]
    },
    {
     "name": "stderr",
     "output_type": "stream",
     "text": [
      " 61%|██████    | 258/424 [00:59<01:11,  2.33it/s]"
     ]
    },
    {
     "name": "stdout",
     "output_type": "stream",
     "text": [
      "MoviePy - Done.\n",
      "\n",
      "File: datasets/train/Normal/BiqJ_FkwCUQ_000006_000016.mp4\n",
      "Ground Truth: Normal\n",
      "Top predictions:\n",
      "         Working: 27.02%\n",
      "   Setting table: 12.15%\n",
      "        Studying: 9.74%\n",
      "      Decorating: 9.60%\n",
      "Unattended cooking: 6.94%\n",
      "\n"
     ]
    },
    {
     "name": "stderr",
     "output_type": "stream",
     "text": [
      " 61%|██████    | 258/424 [00:59<01:11,  2.33it/s]"
     ]
    },
    {
     "name": "stdout",
     "output_type": "stream",
     "text": [
      "datasets/audios/train/Normal\n",
      "MoviePy - Writing audio in datasets/audios/train/Normal/BjFtM8jhFoU_000008_000018.wav\n"
     ]
    },
    {
     "name": "stderr",
     "output_type": "stream",
     "text": [
      " 61%|██████    | 259/424 [00:59<01:07,  2.46it/s]"
     ]
    },
    {
     "name": "stdout",
     "output_type": "stream",
     "text": [
      "MoviePy - Done.\n",
      "\n",
      "File: datasets/train/Normal/BjFtM8jhFoU_000008_000018.mp4\n",
      "Ground Truth: Normal\n",
      "Top predictions:\n",
      "         Dancing: 20.85%\n",
      "      Using drug: 9.95%\n",
      "  Using computer: 6.75%\n",
      "   Doing laundry: 5.40%\n",
      "        Cleaning: 5.09%\n",
      "\n"
     ]
    },
    {
     "name": "stderr",
     "output_type": "stream",
     "text": [
      " 61%|██████    | 259/424 [01:00<01:07,  2.46it/s]"
     ]
    },
    {
     "name": "stdout",
     "output_type": "stream",
     "text": [
      "datasets/audios/train/Normal\n",
      "MoviePy - Writing audio in datasets/audios/train/Normal/bKGIbOPMSPQ_000002_000012.wav\n"
     ]
    },
    {
     "name": "stderr",
     "output_type": "stream",
     "text": [
      " 61%|██████    | 259/424 [01:00<01:07,  2.46it/s]"
     ]
    },
    {
     "name": "stdout",
     "output_type": "stream",
     "text": [
      "MoviePy - Done.\n",
      "\n",
      "File: datasets/train/Normal/bKGIbOPMSPQ_000002_000012.mp4\n",
      "Ground Truth: Normal\n",
      "Top predictions:\n"
     ]
    },
    {
     "name": "stderr",
     "output_type": "stream",
     "text": [
      " 61%|██████▏   | 260/424 [01:00<01:11,  2.28it/s]"
     ]
    },
    {
     "name": "stdout",
     "output_type": "stream",
     "text": [
      "   Doing laundry: 47.82%\n",
      "         Working: 39.93%\n",
      "  Using computer: 3.61%\n",
      "       Showering: 2.93%\n",
      "          Sewing: 0.90%\n",
      "\n",
      "datasets/audios/train/Normal\n"
     ]
    },
    {
     "name": "stderr",
     "output_type": "stream",
     "text": [
      " 61%|██████▏   | 260/424 [01:00<01:11,  2.28it/s]"
     ]
    },
    {
     "name": "stdout",
     "output_type": "stream",
     "text": [
      "MoviePy - Writing audio in datasets/audios/train/Normal/BL0sZO7hrIc_000427_000437.wav\n"
     ]
    },
    {
     "name": "stderr",
     "output_type": "stream",
     "text": [
      " 62%|██████▏   | 261/424 [01:00<01:08,  2.37it/s]"
     ]
    },
    {
     "name": "stdout",
     "output_type": "stream",
     "text": [
      "MoviePy - Done.\n",
      "\n",
      "File: datasets/train/Normal/BL0sZO7hrIc_000427_000437.mp4\n",
      "Ground Truth: Normal\n",
      "Top predictions:\n",
      "         Smoking: 51.54%\n",
      "      Using drug: 20.31%\n",
      "        Studying: 6.45%\n",
      "  Using computer: 5.75%\n",
      "     Eating food: 3.75%\n",
      "\n"
     ]
    },
    {
     "name": "stderr",
     "output_type": "stream",
     "text": [
      " 62%|██████▏   | 261/424 [01:01<01:08,  2.37it/s]"
     ]
    },
    {
     "name": "stdout",
     "output_type": "stream",
     "text": [
      "datasets/audios/train/Normal\n",
      "MoviePy - Writing audio in datasets/audios/train/Normal/bNRAN0wh0tc_000046_000056.wav\n"
     ]
    },
    {
     "name": "stderr",
     "output_type": "stream",
     "text": [
      " 62%|██████▏   | 262/424 [01:01<01:06,  2.45it/s]"
     ]
    },
    {
     "name": "stdout",
     "output_type": "stream",
     "text": [
      "MoviePy - Done.\n",
      "\n",
      "File: datasets/train/Normal/bNRAN0wh0tc_000046_000056.mp4\n",
      "Ground Truth: Normal\n",
      "Top predictions:\n",
      "     Eating food: 46.18%\n",
      "No people is in the room: 30.93%\n",
      "        Drinking: 6.19%\n",
      "         Smoking: 5.03%\n",
      "        Chatting: 3.81%\n",
      "\n"
     ]
    },
    {
     "name": "stderr",
     "output_type": "stream",
     "text": [
      " 62%|██████▏   | 262/424 [01:01<01:06,  2.45it/s]"
     ]
    },
    {
     "name": "stdout",
     "output_type": "stream",
     "text": [
      "datasets/audios/train/Normal\n",
      "MoviePy - Writing audio in datasets/audios/train/Normal/BOc3MlonHb8_000075_000085.wav\n"
     ]
    },
    {
     "name": "stderr",
     "output_type": "stream",
     "text": [
      " 62%|██████▏   | 262/424 [01:01<01:06,  2.45it/s]"
     ]
    },
    {
     "name": "stdout",
     "output_type": "stream",
     "text": [
      "MoviePy - Done.\n"
     ]
    },
    {
     "name": "stderr",
     "output_type": "stream",
     "text": [
      " 62%|██████▏   | 263/424 [01:01<01:16,  2.09it/s]"
     ]
    },
    {
     "name": "stdout",
     "output_type": "stream",
     "text": [
      "\n",
      "File: datasets/train/Normal/BOc3MlonHb8_000075_000085.mp4\n",
      "Ground Truth: Normal\n",
      "Top predictions:\n",
      "     Celebrating: 13.82%\n",
      "      Meditating: 13.07%\n",
      "No people is in the room: 12.88%\n",
      "      Decorating: 12.68%\n",
      "  Using computer: 8.31%\n",
      "\n"
     ]
    },
    {
     "name": "stderr",
     "output_type": "stream",
     "text": [
      " 62%|██████▏   | 263/424 [01:02<01:16,  2.09it/s]"
     ]
    },
    {
     "name": "stdout",
     "output_type": "stream",
     "text": [
      "datasets/audios/train/Normal\n",
      "MoviePy - Writing audio in datasets/audios/train/Normal/bPfJAqym2vc_000019_000029.wav\n"
     ]
    },
    {
     "name": "stderr",
     "output_type": "stream",
     "text": [
      " 62%|██████▏   | 263/424 [01:02<01:16,  2.09it/s]"
     ]
    },
    {
     "name": "stdout",
     "output_type": "stream",
     "text": [
      "MoviePy - Done.\n",
      "\n",
      "File: datasets/train/Normal/bPfJAqym2vc_000019_000029.mp4\n",
      "Ground Truth: Normal\n",
      "Top predictions:\n"
     ]
    },
    {
     "name": "stderr",
     "output_type": "stream",
     "text": [
      " 62%|██████▏   | 264/424 [01:02<01:13,  2.17it/s]"
     ]
    },
    {
     "name": "stdout",
     "output_type": "stream",
     "text": [
      "  Using computer: 51.09%\n",
      "      Using drug: 20.90%\n",
      "        Painting: 4.36%\n",
      "Organizing space: 3.50%\n",
      "        Studying: 3.28%\n",
      "\n",
      "datasets/audios/train/Normal\n"
     ]
    },
    {
     "name": "stderr",
     "output_type": "stream",
     "text": [
      " 62%|██████▏   | 264/424 [01:02<01:13,  2.17it/s]"
     ]
    },
    {
     "name": "stdout",
     "output_type": "stream",
     "text": [
      "MoviePy - Writing audio in datasets/audios/train/Normal/bPIP4BmjDAw_000070_000080.wav\n"
     ]
    },
    {
     "name": "stderr",
     "output_type": "stream",
     "text": [
      " 62%|██████▎   | 265/424 [01:02<01:10,  2.27it/s]"
     ]
    },
    {
     "name": "stdout",
     "output_type": "stream",
     "text": [
      "MoviePy - Done.\n",
      "\n",
      "File: datasets/train/Normal/bPIP4BmjDAw_000070_000080.mp4\n",
      "Ground Truth: Normal\n",
      "Top predictions:\n",
      "     Celebrating: 50.50%\n",
      "  Using computer: 18.97%\n",
      "Organizing space: 11.98%\n",
      "      Decorating: 2.38%\n",
      "   Playing music: 2.28%\n",
      "\n"
     ]
    },
    {
     "name": "stderr",
     "output_type": "stream",
     "text": [
      " 62%|██████▎   | 265/424 [01:02<01:10,  2.27it/s]"
     ]
    },
    {
     "name": "stdout",
     "output_type": "stream",
     "text": [
      "datasets/audios/train/Normal\n",
      "MoviePy - Writing audio in datasets/audios/train/Normal/Bq0R48bHZnY_000412_000422.wav\n"
     ]
    },
    {
     "name": "stderr",
     "output_type": "stream",
     "text": [
      " 62%|██████▎   | 265/424 [01:02<01:10,  2.27it/s]"
     ]
    },
    {
     "name": "stdout",
     "output_type": "stream",
     "text": [
      "MoviePy - Done.\n"
     ]
    },
    {
     "name": "stderr",
     "output_type": "stream",
     "text": [
      " 63%|██████▎   | 266/424 [01:03<01:14,  2.12it/s]"
     ]
    },
    {
     "name": "stdout",
     "output_type": "stream",
     "text": [
      "\n",
      "File: datasets/train/Normal/Bq0R48bHZnY_000412_000422.mp4\n",
      "Ground Truth: Normal\n",
      "Top predictions:\n",
      "    Sitting down: 64.64%\n",
      "   Doing laundry: 18.95%\n",
      "   Mopping floor: 5.45%\n",
      "         Working: 2.17%\n",
      "   Setting table: 1.48%\n",
      "\n",
      "datasets/audios/train/Normal\n"
     ]
    },
    {
     "name": "stderr",
     "output_type": "stream",
     "text": [
      " 63%|██████▎   | 266/424 [01:03<01:14,  2.12it/s]"
     ]
    },
    {
     "name": "stdout",
     "output_type": "stream",
     "text": [
      "MoviePy - Writing audio in datasets/audios/train/Normal/bSG07EG2vu8_000007_000017.wav\n"
     ]
    },
    {
     "name": "stderr",
     "output_type": "stream",
     "text": [
      " 63%|██████▎   | 267/424 [01:03<01:10,  2.24it/s]"
     ]
    },
    {
     "name": "stdout",
     "output_type": "stream",
     "text": [
      "MoviePy - Done.\n",
      "\n",
      "File: datasets/train/Normal/bSG07EG2vu8_000007_000017.mp4\n",
      "Ground Truth: Normal\n",
      "Top predictions:\n",
      "         Dancing: 58.26%\n",
      "      Using drug: 4.69%\n",
      "     Celebrating: 4.30%\n",
      "Furniture Collapse: 2.30%\n",
      "      Exercising: 2.22%\n",
      "\n"
     ]
    },
    {
     "name": "stderr",
     "output_type": "stream",
     "text": [
      " 63%|██████▎   | 267/424 [01:03<01:10,  2.24it/s]"
     ]
    },
    {
     "name": "stdout",
     "output_type": "stream",
     "text": [
      "datasets/audios/train/Normal\n",
      "MoviePy - Writing audio in datasets/audios/train/Normal/BSOYvQ1A7_s_000027_000037.wav\n"
     ]
    },
    {
     "name": "stderr",
     "output_type": "stream",
     "text": [
      " 63%|██████▎   | 267/424 [01:03<01:10,  2.24it/s]"
     ]
    },
    {
     "name": "stdout",
     "output_type": "stream",
     "text": [
      "MoviePy - Done.\n"
     ]
    },
    {
     "name": "stderr",
     "output_type": "stream",
     "text": [
      " 63%|██████▎   | 268/424 [01:04<01:08,  2.28it/s]"
     ]
    },
    {
     "name": "stdout",
     "output_type": "stream",
     "text": [
      "\n",
      "File: datasets/train/Normal/BSOYvQ1A7_s_000027_000037.mp4\n",
      "Ground Truth: Normal\n",
      "Top predictions:\n",
      "No people is in the room: 24.64%\n",
      "          Dining: 21.87%\n",
      "         Potluck: 6.62%\n",
      "   Setting table: 5.76%\n",
      "        Drinking: 5.58%\n",
      "\n"
     ]
    },
    {
     "name": "stderr",
     "output_type": "stream",
     "text": [
      " 63%|██████▎   | 268/424 [01:04<01:08,  2.28it/s]"
     ]
    },
    {
     "name": "stdout",
     "output_type": "stream",
     "text": [
      "datasets/audios/train/Normal\n",
      "MoviePy - Writing audio in datasets/audios/train/Normal/bt3ELWHiEds_000526_000536.wav\n"
     ]
    },
    {
     "name": "stderr",
     "output_type": "stream",
     "text": [
      " 63%|██████▎   | 268/424 [01:04<01:08,  2.28it/s]"
     ]
    },
    {
     "name": "stdout",
     "output_type": "stream",
     "text": [
      "MoviePy - Done.\n"
     ]
    },
    {
     "name": "stderr",
     "output_type": "stream",
     "text": [
      " 63%|██████▎   | 269/424 [01:04<01:14,  2.07it/s]"
     ]
    },
    {
     "name": "stdout",
     "output_type": "stream",
     "text": [
      "\n",
      "File: datasets/train/Normal/bt3ELWHiEds_000526_000536.mp4\n",
      "Ground Truth: Normal\n",
      "Top predictions:\n",
      "No people is in the room: 38.96%\n",
      "     Eating food: 34.24%\n",
      "Playing with pets: 10.87%\n",
      "        Drinking: 2.66%\n",
      "         Talking: 2.09%\n",
      "\n",
      "datasets/audios/train/Normal\n"
     ]
    },
    {
     "name": "stderr",
     "output_type": "stream",
     "text": [
      " 63%|██████▎   | 269/424 [01:04<01:14,  2.07it/s]"
     ]
    },
    {
     "name": "stdout",
     "output_type": "stream",
     "text": [
      "MoviePy - Writing audio in datasets/audios/train/Normal/btIe4SwFUhg_000080_000090.wav\n"
     ]
    },
    {
     "name": "stderr",
     "output_type": "stream",
     "text": [
      " 63%|██████▎   | 269/424 [01:04<01:14,  2.07it/s]"
     ]
    },
    {
     "name": "stdout",
     "output_type": "stream",
     "text": [
      "MoviePy - Done.\n"
     ]
    },
    {
     "name": "stderr",
     "output_type": "stream",
     "text": [
      " 64%|██████▎   | 270/424 [01:05<01:11,  2.17it/s]"
     ]
    },
    {
     "name": "stdout",
     "output_type": "stream",
     "text": [
      "\n",
      "File: datasets/train/Normal/btIe4SwFUhg_000080_000090.mp4\n",
      "Ground Truth: Normal\n",
      "Top predictions:\n",
      "No people is in the room: 40.69%\n",
      "    Sitting down: 31.99%\n",
      "        Studying: 4.05%\n",
      "   Mopping floor: 2.69%\n",
      "      Using drug: 2.00%\n",
      "\n",
      "datasets/audios/train/Normal\n"
     ]
    },
    {
     "name": "stderr",
     "output_type": "stream",
     "text": [
      " 64%|██████▎   | 270/424 [01:05<01:11,  2.17it/s]"
     ]
    },
    {
     "name": "stdout",
     "output_type": "stream",
     "text": [
      "MoviePy - Writing audio in datasets/audios/train/Normal/BvdknPz77Hs_000000_000010.wav\n"
     ]
    },
    {
     "name": "stderr",
     "output_type": "stream",
     "text": [
      " 64%|██████▍   | 271/424 [01:05<01:05,  2.33it/s]"
     ]
    },
    {
     "name": "stdout",
     "output_type": "stream",
     "text": [
      "MoviePy - Done.\n",
      "\n",
      "File: datasets/train/Normal/BvdknPz77Hs_000000_000010.mp4\n",
      "Ground Truth: Normal\n",
      "Top predictions:\n",
      "         Reading: 41.09%\n",
      "No people is in the room: 7.47%\n",
      "Playing board games: 5.88%\n",
      "  Using computer: 3.95%\n",
      "        Studying: 3.94%\n",
      "\n"
     ]
    },
    {
     "name": "stderr",
     "output_type": "stream",
     "text": [
      " 64%|██████▍   | 271/424 [01:05<01:05,  2.33it/s]"
     ]
    },
    {
     "name": "stdout",
     "output_type": "stream",
     "text": [
      "datasets/audios/train/Normal\n",
      "MoviePy - Writing audio in datasets/audios/train/Normal/BWqOCs4yVo4_000000_000010.wav\n"
     ]
    },
    {
     "name": "stderr",
     "output_type": "stream",
     "text": [
      " 64%|██████▍   | 272/424 [01:05<01:03,  2.38it/s]"
     ]
    },
    {
     "name": "stdout",
     "output_type": "stream",
     "text": [
      "MoviePy - Done.\n",
      "\n",
      "File: datasets/train/Normal/BWqOCs4yVo4_000000_000010.mp4\n",
      "Ground Truth: Normal\n",
      "Top predictions:\n",
      "   Playing music: 76.07%\n",
      "         Dancing: 18.94%\n",
      "      Exercising: 0.82%\n",
      "      Using drug: 0.57%\n",
      "     Celebrating: 0.47%\n",
      "\n"
     ]
    },
    {
     "name": "stderr",
     "output_type": "stream",
     "text": [
      " 64%|██████▍   | 272/424 [01:05<01:03,  2.38it/s]"
     ]
    },
    {
     "name": "stdout",
     "output_type": "stream",
     "text": [
      "datasets/audios/train/Normal\n",
      "MoviePy - Writing audio in datasets/audios/train/Normal/BzcfW7JTsGM_000045_000055.wav\n"
     ]
    },
    {
     "name": "stderr",
     "output_type": "stream",
     "text": [
      " 64%|██████▍   | 273/424 [01:06<00:59,  2.52it/s]"
     ]
    },
    {
     "name": "stdout",
     "output_type": "stream",
     "text": [
      "MoviePy - Done.\n",
      "\n",
      "File: datasets/train/Normal/BzcfW7JTsGM_000045_000055.mp4\n",
      "Ground Truth: Normal\n",
      "Top predictions:\n",
      "        Speaking: 21.85%\n",
      "         Talking: 20.82%\n",
      "No people is in the room: 13.44%\n",
      "         Reading: 10.44%\n",
      "  Brushing teeth: 6.72%\n",
      "\n"
     ]
    },
    {
     "name": "stderr",
     "output_type": "stream",
     "text": [
      " 64%|██████▍   | 273/424 [01:06<00:59,  2.52it/s]"
     ]
    },
    {
     "name": "stdout",
     "output_type": "stream",
     "text": [
      "datasets/audios/train/Normal\n",
      "MoviePy - Writing audio in datasets/audios/train/Normal/BZOSTgHGUCE_000229_000239.wav\n"
     ]
    },
    {
     "name": "stderr",
     "output_type": "stream",
     "text": [
      " 64%|██████▍   | 273/424 [01:06<00:59,  2.52it/s]"
     ]
    },
    {
     "name": "stdout",
     "output_type": "stream",
     "text": [
      "MoviePy - Done.\n"
     ]
    },
    {
     "name": "stderr",
     "output_type": "stream",
     "text": [
      " 65%|██████▍   | 274/424 [01:06<01:08,  2.19it/s]"
     ]
    },
    {
     "name": "stdout",
     "output_type": "stream",
     "text": [
      "\n",
      "File: datasets/train/Normal/BZOSTgHGUCE_000229_000239.mp4\n",
      "Ground Truth: Normal\n",
      "Top predictions:\n",
      "   Setting table: 16.53%\n",
      "     Celebrating: 14.23%\n",
      "No people is in the room: 13.69%\n",
      "   Doing laundry: 8.09%\n",
      "  Using computer: 7.95%\n",
      "\n",
      "datasets/audios/train/Normal\n"
     ]
    },
    {
     "name": "stderr",
     "output_type": "stream",
     "text": [
      " 65%|██████▍   | 274/424 [01:06<01:08,  2.19it/s]"
     ]
    },
    {
     "name": "stdout",
     "output_type": "stream",
     "text": [
      "MoviePy - Writing audio in datasets/audios/train/Normal/c1o7820XyTI_000310_000320.wav\n"
     ]
    },
    {
     "name": "stderr",
     "output_type": "stream",
     "text": [
      " 65%|██████▍   | 274/424 [01:07<01:08,  2.19it/s]"
     ]
    },
    {
     "name": "stdout",
     "output_type": "stream",
     "text": [
      "MoviePy - Done.\n",
      "\n",
      "File: datasets/train/Normal/c1o7820XyTI_000310_000320.mp4\n",
      "Ground Truth: Normal\n",
      "Top predictions:\n"
     ]
    },
    {
     "name": "stderr",
     "output_type": "stream",
     "text": [
      " 65%|██████▍   | 275/424 [01:07<01:06,  2.25it/s]"
     ]
    },
    {
     "name": "stdout",
     "output_type": "stream",
     "text": [
      "No people is in the room: 36.53%\n",
      "    Sitting down: 32.81%\n",
      "   Mopping floor: 12.03%\n",
      "   Doing laundry: 4.30%\n",
      "   Setting table: 4.07%\n",
      "\n",
      "datasets/audios/train/Normal\n"
     ]
    },
    {
     "name": "stderr",
     "output_type": "stream",
     "text": [
      " 65%|██████▍   | 275/424 [01:07<01:06,  2.25it/s]"
     ]
    },
    {
     "name": "stdout",
     "output_type": "stream",
     "text": [
      "MoviePy - Writing audio in datasets/audios/train/Normal/C3ayjYkczC4_000060_000070.wav\n"
     ]
    },
    {
     "name": "stderr",
     "output_type": "stream",
     "text": [
      " 65%|██████▍   | 275/424 [01:07<01:06,  2.25it/s]"
     ]
    },
    {
     "name": "stdout",
     "output_type": "stream",
     "text": [
      "MoviePy - Done.\n"
     ]
    },
    {
     "name": "stderr",
     "output_type": "stream",
     "text": [
      " 65%|██████▌   | 276/424 [01:07<01:03,  2.33it/s]"
     ]
    },
    {
     "name": "stdout",
     "output_type": "stream",
     "text": [
      "\n",
      "File: datasets/train/Normal/C3ayjYkczC4_000060_000070.mp4\n",
      "Ground Truth: Normal\n",
      "Top predictions:\n",
      "No people is in the room: 49.32%\n",
      "         Talking: 12.86%\n",
      "         Reading: 11.25%\n",
      "        Speaking: 5.08%\n",
      "Playing with pets: 4.62%\n",
      "\n"
     ]
    },
    {
     "name": "stderr",
     "output_type": "stream",
     "text": [
      " 65%|██████▌   | 276/424 [01:07<01:03,  2.33it/s]"
     ]
    },
    {
     "name": "stdout",
     "output_type": "stream",
     "text": [
      "datasets/audios/train/Normal\n",
      "MoviePy - Writing audio in datasets/audios/train/Normal/C45UEQ5Oxno_000075_000085.wav\n"
     ]
    },
    {
     "name": "stderr",
     "output_type": "stream",
     "text": [
      " 65%|██████▌   | 276/424 [01:07<01:03,  2.33it/s]"
     ]
    },
    {
     "name": "stdout",
     "output_type": "stream",
     "text": [
      "MoviePy - Done.\n"
     ]
    },
    {
     "name": "stderr",
     "output_type": "stream",
     "text": [
      " 65%|██████▌   | 277/424 [01:08<01:08,  2.13it/s]"
     ]
    },
    {
     "name": "stdout",
     "output_type": "stream",
     "text": [
      "\n",
      "File: datasets/train/Normal/C45UEQ5Oxno_000075_000085.mp4\n",
      "Ground Truth: Normal\n",
      "Top predictions:\n",
      "No people is in the room: 33.26%\n",
      "Playing with pets: 23.22%\n",
      "         Talking: 8.86%\n",
      "   Doing laundry: 6.48%\n",
      "         Working: 4.92%\n",
      "\n"
     ]
    },
    {
     "name": "stderr",
     "output_type": "stream",
     "text": [
      " 65%|██████▌   | 277/424 [01:08<01:08,  2.13it/s]"
     ]
    },
    {
     "name": "stdout",
     "output_type": "stream",
     "text": [
      "datasets/audios/train/Normal\n",
      "MoviePy - Writing audio in datasets/audios/train/Normal/c729EVAFb_s_000415_000425.wav\n"
     ]
    },
    {
     "name": "stderr",
     "output_type": "stream",
     "text": [
      " 66%|██████▌   | 278/424 [01:08<01:06,  2.21it/s]"
     ]
    },
    {
     "name": "stdout",
     "output_type": "stream",
     "text": [
      "MoviePy - Done.\n",
      "\n",
      "File: datasets/train/Normal/c729EVAFb_s_000415_000425.mp4\n",
      "Ground Truth: Normal\n",
      "Top predictions:\n",
      "   Setting table: 19.60%\n",
      "No people is in the room: 12.62%\n",
      "        Studying: 10.80%\n",
      "     Eating food: 6.49%\n",
      "         Reading: 5.87%\n",
      "\n"
     ]
    },
    {
     "name": "stderr",
     "output_type": "stream",
     "text": [
      " 66%|██████▌   | 278/424 [01:08<01:06,  2.21it/s]"
     ]
    },
    {
     "name": "stdout",
     "output_type": "stream",
     "text": [
      "datasets/audios/train/Normal\n",
      "MoviePy - Writing audio in datasets/audios/train/Normal/caz61OyDs1k_000045_000055.wav\n"
     ]
    },
    {
     "name": "stderr",
     "output_type": "stream",
     "text": [
      " 66%|██████▌   | 279/424 [01:08<01:02,  2.32it/s]"
     ]
    },
    {
     "name": "stdout",
     "output_type": "stream",
     "text": [
      "MoviePy - Done.\n",
      "\n",
      "File: datasets/train/Normal/caz61OyDs1k_000045_000055.mp4\n",
      "Ground Truth: Normal\n",
      "Top predictions:\n",
      "Playing with pets: 44.12%\n",
      "          Dining: 16.11%\n",
      "No people is in the room: 8.61%\n",
      "   Setting table: 7.85%\n",
      "     Eating food: 6.41%\n",
      "\n"
     ]
    },
    {
     "name": "stderr",
     "output_type": "stream",
     "text": [
      " 66%|██████▌   | 279/424 [01:09<01:02,  2.32it/s]"
     ]
    },
    {
     "name": "stdout",
     "output_type": "stream",
     "text": [
      "datasets/audios/train/Normal\n",
      "MoviePy - Writing audio in datasets/audios/train/Normal/cbXmtG99SU0_000000_000010.wav\n"
     ]
    },
    {
     "name": "stderr",
     "output_type": "stream",
     "text": [
      " 66%|██████▌   | 279/424 [01:09<01:02,  2.32it/s]"
     ]
    },
    {
     "name": "stdout",
     "output_type": "stream",
     "text": [
      "MoviePy - Done.\n"
     ]
    },
    {
     "name": "stderr",
     "output_type": "stream",
     "text": [
      " 66%|██████▌   | 280/424 [01:09<01:08,  2.09it/s]"
     ]
    },
    {
     "name": "stdout",
     "output_type": "stream",
     "text": [
      "\n",
      "File: datasets/train/Normal/cbXmtG99SU0_000000_000010.mp4\n",
      "Ground Truth: Normal\n",
      "Top predictions:\n",
      "Playing with pets: 84.45%\n",
      "        Laughing: 5.46%\n",
      "         Talking: 2.03%\n",
      "     Eating food: 1.94%\n",
      "No people is in the room: 1.86%\n",
      "\n"
     ]
    },
    {
     "name": "stderr",
     "output_type": "stream",
     "text": [
      " 66%|██████▌   | 280/424 [01:09<01:08,  2.09it/s]"
     ]
    },
    {
     "name": "stdout",
     "output_type": "stream",
     "text": [
      "datasets/audios/train/Normal\n",
      "MoviePy - Writing audio in datasets/audios/train/Normal/cc4YIsJz5sg_000002_000012.wav\n"
     ]
    },
    {
     "name": "stderr",
     "output_type": "stream",
     "text": [
      " 66%|██████▋   | 281/424 [01:09<01:04,  2.23it/s]"
     ]
    },
    {
     "name": "stdout",
     "output_type": "stream",
     "text": [
      "MoviePy - Done.\n",
      "\n",
      "File: datasets/train/Normal/cc4YIsJz5sg_000002_000012.mp4\n",
      "Ground Truth: Normal\n",
      "Top predictions:\n",
      "No people is in the room: 15.45%\n",
      "      Decorating: 11.13%\n",
      "    Sitting down: 10.84%\n",
      "      Using drug: 8.22%\n",
      "  Using computer: 5.41%\n",
      "\n"
     ]
    },
    {
     "name": "stderr",
     "output_type": "stream",
     "text": [
      " 66%|██████▋   | 281/424 [01:10<01:04,  2.23it/s]"
     ]
    },
    {
     "name": "stdout",
     "output_type": "stream",
     "text": [
      "datasets/audios/train/Normal\n",
      "MoviePy - Writing audio in datasets/audios/train/Normal/cCJdUn_Dv2M_000181_000191.wav\n"
     ]
    },
    {
     "name": "stderr",
     "output_type": "stream",
     "text": [
      " 67%|██████▋   | 282/424 [01:10<00:59,  2.38it/s]"
     ]
    },
    {
     "name": "stdout",
     "output_type": "stream",
     "text": [
      "MoviePy - Done.\n",
      "\n",
      "File: datasets/train/Normal/cCJdUn_Dv2M_000181_000191.mp4\n",
      "Ground Truth: Normal\n",
      "Top predictions:\n",
      "No people is in the room: 75.90%\n",
      "   Doing laundry: 3.28%\n",
      "     Eating food: 2.93%\n",
      "   Mopping floor: 2.08%\n",
      "    Sitting down: 2.03%\n",
      "\n"
     ]
    },
    {
     "name": "stderr",
     "output_type": "stream",
     "text": [
      " 67%|██████▋   | 282/424 [01:10<00:59,  2.38it/s]"
     ]
    },
    {
     "name": "stdout",
     "output_type": "stream",
     "text": [
      "datasets/audios/train/Normal\n",
      "MoviePy - Writing audio in datasets/audios/train/Normal/CdtDTYW5YOs_000117_000127.wav\n"
     ]
    },
    {
     "name": "stderr",
     "output_type": "stream",
     "text": [
      " 67%|██████▋   | 283/424 [01:10<00:58,  2.42it/s]"
     ]
    },
    {
     "name": "stdout",
     "output_type": "stream",
     "text": [
      "MoviePy - Done.\n",
      "\n",
      "File: datasets/train/Normal/CdtDTYW5YOs_000117_000127.mp4\n",
      "Ground Truth: Normal\n",
      "Top predictions:\n",
      "   Setting table: 92.15%\n",
      "         Reading: 2.18%\n",
      "     Celebrating: 1.20%\n",
      "         Working: 0.76%\n",
      "        Studying: 0.75%\n",
      "\n"
     ]
    },
    {
     "name": "stderr",
     "output_type": "stream",
     "text": [
      " 67%|██████▋   | 283/424 [01:10<00:58,  2.42it/s]"
     ]
    },
    {
     "name": "stdout",
     "output_type": "stream",
     "text": [
      "datasets/audios/train/Normal\n",
      "MoviePy - Writing audio in datasets/audios/train/Normal/CeYIbLlRVVg_000357_000367.wav\n"
     ]
    },
    {
     "name": "stderr",
     "output_type": "stream",
     "text": [
      " 67%|██████▋   | 284/424 [01:11<00:56,  2.46it/s]"
     ]
    },
    {
     "name": "stdout",
     "output_type": "stream",
     "text": [
      "MoviePy - Done.\n",
      "\n",
      "File: datasets/train/Normal/CeYIbLlRVVg_000357_000367.mp4\n",
      "Ground Truth: Normal\n",
      "Top predictions:\n",
      "   Setting table: 55.07%\n",
      "  Using computer: 23.35%\n",
      "No people is in the room: 6.32%\n",
      "         Working: 3.37%\n",
      "         Reading: 1.36%\n",
      "\n"
     ]
    },
    {
     "name": "stderr",
     "output_type": "stream",
     "text": [
      " 67%|██████▋   | 284/424 [01:11<00:56,  2.46it/s]"
     ]
    },
    {
     "name": "stdout",
     "output_type": "stream",
     "text": [
      "datasets/audios/train/Normal\n",
      "MoviePy - Writing audio in datasets/audios/train/Normal/CfP4T-QKX4U_000332_000342.wav\n"
     ]
    },
    {
     "name": "stderr",
     "output_type": "stream",
     "text": [
      " 67%|██████▋   | 284/424 [01:11<00:56,  2.46it/s]"
     ]
    },
    {
     "name": "stdout",
     "output_type": "stream",
     "text": [
      "MoviePy - Done.\n"
     ]
    },
    {
     "name": "stderr",
     "output_type": "stream",
     "text": [
      " 67%|██████▋   | 285/424 [01:11<01:04,  2.14it/s]"
     ]
    },
    {
     "name": "stdout",
     "output_type": "stream",
     "text": [
      "\n",
      "File: datasets/train/Normal/CfP4T-QKX4U_000332_000342.mp4\n",
      "Ground Truth: Normal\n",
      "Top predictions:\n",
      "No people is in the room: 37.77%\n",
      "         Reading: 11.42%\n",
      "         Talking: 10.28%\n",
      "   Setting table: 8.31%\n",
      "        Speaking: 6.59%\n",
      "\n",
      "datasets/audios/train/Normal\n"
     ]
    },
    {
     "name": "stderr",
     "output_type": "stream",
     "text": [
      " 67%|██████▋   | 285/424 [01:11<01:04,  2.14it/s]"
     ]
    },
    {
     "name": "stdout",
     "output_type": "stream",
     "text": [
      "MoviePy - Writing audio in datasets/audios/train/Normal/cgB_HnWGY9Y_000001_000011.wav\n"
     ]
    },
    {
     "name": "stderr",
     "output_type": "stream",
     "text": [
      " 67%|██████▋   | 286/424 [01:12<01:01,  2.24it/s]"
     ]
    },
    {
     "name": "stdout",
     "output_type": "stream",
     "text": [
      "MoviePy - Done.\n",
      "\n",
      "File: datasets/train/Normal/cgB_HnWGY9Y_000001_000011.mp4\n",
      "Ground Truth: Normal\n",
      "Top predictions:\n",
      "No people is in the room: 76.07%\n",
      "         Dancing: 7.73%\n",
      "   Doing laundry: 2.49%\n",
      "           Party: 2.38%\n",
      "Playing with pets: 1.86%\n",
      "\n"
     ]
    },
    {
     "name": "stderr",
     "output_type": "stream",
     "text": [
      " 67%|██████▋   | 286/424 [01:12<01:01,  2.24it/s]"
     ]
    },
    {
     "name": "stdout",
     "output_type": "stream",
     "text": [
      "datasets/audios/train/Normal\n",
      "MoviePy - Writing audio in datasets/audios/train/Normal/CGQfpj5Q2XA_000026_000036.wav\n"
     ]
    },
    {
     "name": "stderr",
     "output_type": "stream",
     "text": [
      " 68%|██████▊   | 287/424 [01:12<00:57,  2.39it/s]"
     ]
    },
    {
     "name": "stdout",
     "output_type": "stream",
     "text": [
      "MoviePy - Done.\n",
      "\n",
      "File: datasets/train/Normal/CGQfpj5Q2XA_000026_000036.mp4\n",
      "Ground Truth: Normal\n",
      "Top predictions:\n",
      "Playing with pets: 37.50%\n",
      "      Using drug: 7.23%\n",
      "   Setting table: 5.86%\n",
      "No people is in the room: 5.47%\n",
      "    Sitting down: 5.21%\n",
      "\n"
     ]
    },
    {
     "name": "stderr",
     "output_type": "stream",
     "text": [
      " 68%|██████▊   | 287/424 [01:12<00:57,  2.39it/s]"
     ]
    },
    {
     "name": "stdout",
     "output_type": "stream",
     "text": [
      "datasets/audios/train/Normal\n",
      "MoviePy - Writing audio in datasets/audios/train/Normal/cGuxUVfBZ20_000050_000060.wav\n"
     ]
    },
    {
     "name": "stderr",
     "output_type": "stream",
     "text": [
      " 68%|██████▊   | 287/424 [01:12<00:57,  2.39it/s]"
     ]
    },
    {
     "name": "stdout",
     "output_type": "stream",
     "text": [
      "MoviePy - Done.\n"
     ]
    },
    {
     "name": "stderr",
     "output_type": "stream",
     "text": [
      " 68%|██████▊   | 288/424 [01:12<00:58,  2.34it/s]"
     ]
    },
    {
     "name": "stdout",
     "output_type": "stream",
     "text": [
      "\n",
      "File: datasets/train/Normal/cGuxUVfBZ20_000050_000060.mp4\n",
      "Ground Truth: Normal\n",
      "Top predictions:\n",
      "     Celebrating: 27.46%\n",
      "No people is in the room: 24.11%\n",
      "        Speaking: 13.42%\n",
      "         Talking: 12.01%\n",
      "        Chatting: 3.56%\n",
      "\n"
     ]
    },
    {
     "name": "stderr",
     "output_type": "stream",
     "text": [
      " 68%|██████▊   | 288/424 [01:13<00:58,  2.34it/s]"
     ]
    },
    {
     "name": "stdout",
     "output_type": "stream",
     "text": [
      "datasets/audios/train/Normal\n",
      "MoviePy - Writing audio in datasets/audios/train/Normal/ChRYSf_9SoM_000035_000045.wav\n"
     ]
    },
    {
     "name": "stderr",
     "output_type": "stream",
     "text": [
      " 68%|██████▊   | 289/424 [01:13<00:55,  2.44it/s]"
     ]
    },
    {
     "name": "stdout",
     "output_type": "stream",
     "text": [
      "MoviePy - Done.\n",
      "\n",
      "File: datasets/train/Normal/ChRYSf_9SoM_000035_000045.mp4\n",
      "Ground Truth: Normal\n",
      "Top predictions:\n",
      "      Using drug: 18.13%\n",
      "      Decorating: 13.63%\n",
      "     Celebrating: 10.86%\n",
      "        Cleaning: 6.91%\n",
      "        Painting: 6.63%\n",
      "\n"
     ]
    },
    {
     "name": "stderr",
     "output_type": "stream",
     "text": [
      " 68%|██████▊   | 289/424 [01:13<00:55,  2.44it/s]"
     ]
    },
    {
     "name": "stdout",
     "output_type": "stream",
     "text": [
      "datasets/audios/train/Normal\n",
      "MoviePy - Writing audio in datasets/audios/train/Normal/CLGYN3I3nIY_000039_000049.wav\n"
     ]
    },
    {
     "name": "stderr",
     "output_type": "stream",
     "text": [
      " 68%|██████▊   | 289/424 [01:13<00:55,  2.44it/s]"
     ]
    },
    {
     "name": "stdout",
     "output_type": "stream",
     "text": [
      "MoviePy - Done.\n"
     ]
    },
    {
     "name": "stderr",
     "output_type": "stream",
     "text": [
      " 68%|██████▊   | 290/424 [01:13<01:00,  2.21it/s]"
     ]
    },
    {
     "name": "stdout",
     "output_type": "stream",
     "text": [
      "\n",
      "File: datasets/train/Normal/CLGYN3I3nIY_000039_000049.mp4\n",
      "Ground Truth: Normal\n",
      "Top predictions:\n",
      "        Drinking: 63.65%\n",
      "         Smoking: 9.08%\n",
      "     Eating food: 7.17%\n",
      "No people is in the room: 4.79%\n",
      "      Using drug: 3.80%\n",
      "\n",
      "datasets/audios/train/Normal\n"
     ]
    },
    {
     "name": "stderr",
     "output_type": "stream",
     "text": [
      " 68%|██████▊   | 290/424 [01:13<01:00,  2.21it/s]"
     ]
    },
    {
     "name": "stdout",
     "output_type": "stream",
     "text": [
      "MoviePy - Writing audio in datasets/audios/train/Normal/CLj6957VkZg_000041_000051.wav\n"
     ]
    },
    {
     "name": "stderr",
     "output_type": "stream",
     "text": [
      " 69%|██████▊   | 291/424 [01:14<00:57,  2.31it/s]"
     ]
    },
    {
     "name": "stdout",
     "output_type": "stream",
     "text": [
      "MoviePy - Done.\n",
      "\n",
      "File: datasets/train/Normal/CLj6957VkZg_000041_000051.mp4\n",
      "Ground Truth: Normal\n",
      "Top predictions:\n",
      "No people is in the room: 45.40%\n",
      "       Showering: 27.14%\n",
      "Playing with pets: 8.69%\n",
      "   Doing laundry: 7.10%\n",
      "   Mopping floor: 3.80%\n",
      "\n"
     ]
    },
    {
     "name": "stderr",
     "output_type": "stream",
     "text": [
      " 69%|██████▊   | 291/424 [01:14<00:57,  2.31it/s]"
     ]
    },
    {
     "name": "stdout",
     "output_type": "stream",
     "text": [
      "datasets/audios/train/Normal\n",
      "MoviePy - Writing audio in datasets/audios/train/Normal/CM3tD22RxB8_000004_000014.wav\n"
     ]
    },
    {
     "name": "stderr",
     "output_type": "stream",
     "text": [
      " 69%|██████▊   | 291/424 [01:14<00:57,  2.31it/s]"
     ]
    },
    {
     "name": "stdout",
     "output_type": "stream",
     "text": [
      "MoviePy - Done.\n"
     ]
    },
    {
     "name": "stderr",
     "output_type": "stream",
     "text": [
      " 69%|██████▉   | 292/424 [01:14<00:55,  2.38it/s]"
     ]
    },
    {
     "name": "stdout",
     "output_type": "stream",
     "text": [
      "\n",
      "File: datasets/train/Normal/CM3tD22RxB8_000004_000014.mp4\n",
      "Ground Truth: Normal\n",
      "Top predictions:\n",
      "Playing with pets: 34.75%\n",
      "   Doing laundry: 18.86%\n",
      "   Setting table: 12.66%\n",
      "   Mopping floor: 9.47%\n",
      "    Sitting down: 4.98%\n",
      "\n",
      "datasets/audios/train/Normal\n"
     ]
    },
    {
     "name": "stderr",
     "output_type": "stream",
     "text": [
      " 69%|██████▉   | 292/424 [01:14<00:55,  2.38it/s]"
     ]
    },
    {
     "name": "stdout",
     "output_type": "stream",
     "text": [
      "MoviePy - Writing audio in datasets/audios/train/Normal/CqPXNz7YDYM_000007_000017.wav\n"
     ]
    },
    {
     "name": "stderr",
     "output_type": "stream",
     "text": [
      " 69%|██████▉   | 293/424 [01:14<00:52,  2.52it/s]"
     ]
    },
    {
     "name": "stdout",
     "output_type": "stream",
     "text": [
      "MoviePy - Done.\n",
      "\n",
      "File: datasets/train/Normal/CqPXNz7YDYM_000007_000017.mp4\n",
      "Ground Truth: Normal\n",
      "Top predictions:\n",
      "No people is in the room: 47.54%\n",
      "         Dancing: 8.55%\n",
      "   Mopping floor: 5.99%\n",
      "    Sitting down: 5.63%\n",
      "   Doing laundry: 5.30%\n",
      "\n"
     ]
    },
    {
     "name": "stderr",
     "output_type": "stream",
     "text": [
      " 69%|██████▉   | 293/424 [01:15<00:52,  2.52it/s]"
     ]
    },
    {
     "name": "stdout",
     "output_type": "stream",
     "text": [
      "datasets/audios/train/Normal\n",
      "MoviePy - Writing audio in datasets/audios/train/Normal/cRg6xZpmBrI_000404_000414.wav\n"
     ]
    },
    {
     "name": "stderr",
     "output_type": "stream",
     "text": [
      " 69%|██████▉   | 293/424 [01:15<00:52,  2.52it/s]"
     ]
    },
    {
     "name": "stdout",
     "output_type": "stream",
     "text": [
      "MoviePy - Done.\n"
     ]
    },
    {
     "name": "stderr",
     "output_type": "stream",
     "text": [
      " 69%|██████▉   | 294/424 [01:15<00:59,  2.17it/s]"
     ]
    },
    {
     "name": "stdout",
     "output_type": "stream",
     "text": [
      "\n",
      "File: datasets/train/Normal/cRg6xZpmBrI_000404_000414.mp4\n",
      "Ground Truth: Normal\n",
      "Top predictions:\n",
      "        Drinking: 22.18%\n",
      "         Talking: 21.21%\n",
      "        Speaking: 16.94%\n",
      "No people is in the room: 14.12%\n",
      "     Eating food: 7.32%\n",
      "\n",
      "datasets/audios/train/Normal\n"
     ]
    },
    {
     "name": "stderr",
     "output_type": "stream",
     "text": [
      " 69%|██████▉   | 294/424 [01:15<00:59,  2.17it/s]"
     ]
    },
    {
     "name": "stdout",
     "output_type": "stream",
     "text": [
      "MoviePy - Writing audio in datasets/audios/train/Normal/csQSjmHhsXA_000018_000028.wav\n"
     ]
    },
    {
     "name": "stderr",
     "output_type": "stream",
     "text": [
      " 70%|██████▉   | 295/424 [01:15<00:57,  2.23it/s]"
     ]
    },
    {
     "name": "stdout",
     "output_type": "stream",
     "text": [
      "MoviePy - Done.\n",
      "\n",
      "File: datasets/train/Normal/csQSjmHhsXA_000018_000028.mp4\n",
      "Ground Truth: Normal\n",
      "Top predictions:\n",
      "   Setting table: 45.43%\n",
      "Unattended cooking: 20.93%\n",
      "         Cooking: 20.65%\n",
      "        Studying: 2.50%\n",
      "          Dining: 2.36%\n",
      "\n"
     ]
    },
    {
     "name": "stderr",
     "output_type": "stream",
     "text": [
      " 70%|██████▉   | 295/424 [01:16<00:57,  2.23it/s]"
     ]
    },
    {
     "name": "stdout",
     "output_type": "stream",
     "text": [
      "datasets/audios/train/Normal\n",
      "MoviePy - Writing audio in datasets/audios/train/Normal/CtDdx-V3J7M_000074_000084.wav\n"
     ]
    },
    {
     "name": "stderr",
     "output_type": "stream",
     "text": [
      " 70%|██████▉   | 296/424 [01:16<00:53,  2.38it/s]"
     ]
    },
    {
     "name": "stdout",
     "output_type": "stream",
     "text": [
      "MoviePy - Done.\n",
      "\n",
      "File: datasets/train/Normal/CtDdx-V3J7M_000074_000084.mp4\n",
      "Ground Truth: Normal\n",
      "Top predictions:\n",
      "    Sitting down: 74.39%\n",
      "        Sleeping: 4.24%\n",
      "        Studying: 3.93%\n",
      "        Knitting: 3.19%\n",
      "         Smoking: 2.28%\n",
      "\n"
     ]
    },
    {
     "name": "stderr",
     "output_type": "stream",
     "text": [
      " 70%|██████▉   | 296/424 [01:16<00:53,  2.38it/s]"
     ]
    },
    {
     "name": "stdout",
     "output_type": "stream",
     "text": [
      "datasets/audios/train/Normal\n",
      "MoviePy - Writing audio in datasets/audios/train/Normal/cThgCWwzvU8_000015_000025.wav\n"
     ]
    },
    {
     "name": "stderr",
     "output_type": "stream",
     "text": [
      " 70%|██████▉   | 296/424 [01:16<00:53,  2.38it/s]"
     ]
    },
    {
     "name": "stdout",
     "output_type": "stream",
     "text": [
      "MoviePy - Done.\n"
     ]
    },
    {
     "name": "stderr",
     "output_type": "stream",
     "text": [
      " 70%|███████   | 297/424 [01:16<00:58,  2.15it/s]"
     ]
    },
    {
     "name": "stdout",
     "output_type": "stream",
     "text": [
      "\n",
      "File: datasets/train/Normal/cThgCWwzvU8_000015_000025.mp4\n",
      "Ground Truth: Normal\n",
      "Top predictions:\n",
      "No people is in the room: 21.32%\n",
      "           Party: 12.67%\n",
      "   Doing laundry: 9.13%\n",
      "         Dancing: 7.18%\n",
      "       Showering: 4.96%\n",
      "\n",
      "datasets/audios/train/Normal\n"
     ]
    },
    {
     "name": "stderr",
     "output_type": "stream",
     "text": [
      " 70%|███████   | 297/424 [01:17<00:58,  2.15it/s]"
     ]
    },
    {
     "name": "stdout",
     "output_type": "stream",
     "text": [
      "MoviePy - Writing audio in datasets/audios/train/Normal/CTZETRzQWOU_000031_000041.wav\n"
     ]
    },
    {
     "name": "stderr",
     "output_type": "stream",
     "text": [
      " 70%|███████   | 298/424 [01:17<00:55,  2.26it/s]"
     ]
    },
    {
     "name": "stdout",
     "output_type": "stream",
     "text": [
      "MoviePy - Done.\n",
      "\n",
      "File: datasets/train/Normal/CTZETRzQWOU_000031_000041.mp4\n",
      "Ground Truth: Normal\n",
      "Top predictions:\n",
      "   Setting table: 29.65%\n",
      "  Using computer: 17.03%\n",
      "         Working: 9.71%\n",
      "    Sitting down: 9.25%\n",
      "        Studying: 6.03%\n",
      "\n"
     ]
    },
    {
     "name": "stderr",
     "output_type": "stream",
     "text": [
      " 70%|███████   | 298/424 [01:17<00:55,  2.26it/s]"
     ]
    },
    {
     "name": "stdout",
     "output_type": "stream",
     "text": [
      "datasets/audios/train/Normal\n",
      "MoviePy - Writing audio in datasets/audios/train/Normal/CyqaeqsCKMU_000050_000060.wav\n"
     ]
    },
    {
     "name": "stderr",
     "output_type": "stream",
     "text": [
      " 71%|███████   | 299/424 [01:17<00:51,  2.41it/s]"
     ]
    },
    {
     "name": "stdout",
     "output_type": "stream",
     "text": [
      "MoviePy - Done.\n",
      "\n",
      "File: datasets/train/Normal/CyqaeqsCKMU_000050_000060.mp4\n",
      "Ground Truth: Normal\n",
      "Top predictions:\n",
      "No people is in the room: 16.40%\n",
      "   Doing laundry: 10.52%\n",
      "      Using drug: 9.99%\n",
      "         Smoking: 7.06%\n",
      "      Decorating: 6.08%\n",
      "\n"
     ]
    },
    {
     "name": "stderr",
     "output_type": "stream",
     "text": [
      " 71%|███████   | 299/424 [01:17<00:51,  2.41it/s]"
     ]
    },
    {
     "name": "stdout",
     "output_type": "stream",
     "text": [
      "datasets/audios/train/Normal\n",
      "MoviePy - Writing audio in datasets/audios/train/Normal/D6M-1uemZTU_000152_000162.wav\n"
     ]
    },
    {
     "name": "stderr",
     "output_type": "stream",
     "text": [
      " 71%|███████   | 299/424 [01:17<00:51,  2.41it/s]"
     ]
    },
    {
     "name": "stdout",
     "output_type": "stream",
     "text": [
      "MoviePy - Done.\n"
     ]
    },
    {
     "name": "stderr",
     "output_type": "stream",
     "text": [
      " 71%|███████   | 300/424 [01:18<00:57,  2.17it/s]"
     ]
    },
    {
     "name": "stdout",
     "output_type": "stream",
     "text": [
      "\n",
      "File: datasets/train/Normal/D6M-1uemZTU_000152_000162.mp4\n",
      "Ground Truth: Normal\n",
      "Top predictions:\n",
      "      Exercising: 24.60%\n",
      "    Sitting down: 19.45%\n",
      "No people is in the room: 11.12%\n",
      "   Setting table: 10.15%\n",
      "     Celebrating: 6.56%\n",
      "\n"
     ]
    },
    {
     "name": "stderr",
     "output_type": "stream",
     "text": [
      " 71%|███████   | 300/424 [01:18<00:57,  2.17it/s]"
     ]
    },
    {
     "name": "stdout",
     "output_type": "stream",
     "text": [
      "datasets/audios/train/Normal\n",
      "MoviePy - Writing audio in datasets/audios/train/Normal/d7Ggedw-sOM_001169_001179.wav\n"
     ]
    },
    {
     "name": "stderr",
     "output_type": "stream",
     "text": [
      " 71%|███████   | 300/424 [01:18<00:57,  2.17it/s]"
     ]
    },
    {
     "name": "stdout",
     "output_type": "stream",
     "text": [
      "MoviePy - Done.\n"
     ]
    },
    {
     "name": "stderr",
     "output_type": "stream",
     "text": [
      " 71%|███████   | 301/424 [01:18<00:56,  2.18it/s]"
     ]
    },
    {
     "name": "stdout",
     "output_type": "stream",
     "text": [
      "\n",
      "File: datasets/train/Normal/d7Ggedw-sOM_001169_001179.mp4\n",
      "Ground Truth: Normal\n",
      "Top predictions:\n",
      "  Using computer: 21.96%\n",
      "Playing board games: 19.14%\n",
      "         Reading: 11.05%\n",
      "No people is in the room: 8.78%\n",
      "      Exercising: 7.39%\n",
      "\n",
      "datasets/audios/train/Normal\n"
     ]
    },
    {
     "name": "stderr",
     "output_type": "stream",
     "text": [
      " 71%|███████   | 301/424 [01:18<00:56,  2.18it/s]"
     ]
    },
    {
     "name": "stdout",
     "output_type": "stream",
     "text": [
      "MoviePy - Writing audio in datasets/audios/train/Normal/D7lm7hLSM0I_000034_000044.wav\n"
     ]
    },
    {
     "name": "stderr",
     "output_type": "stream",
     "text": [
      " 71%|███████   | 302/424 [01:18<00:52,  2.34it/s]"
     ]
    },
    {
     "name": "stdout",
     "output_type": "stream",
     "text": [
      "MoviePy - Done.\n",
      "\n",
      "File: datasets/train/Normal/D7lm7hLSM0I_000034_000044.mp4\n",
      "Ground Truth: Normal\n",
      "Top predictions:\n",
      "         Reading: 69.00%\n",
      "         Talking: 9.44%\n",
      "No people is in the room: 8.78%\n",
      "        Speaking: 4.81%\n",
      "Playing board games: 1.62%\n",
      "\n"
     ]
    },
    {
     "name": "stderr",
     "output_type": "stream",
     "text": [
      " 71%|███████   | 302/424 [01:19<00:52,  2.34it/s]"
     ]
    },
    {
     "name": "stdout",
     "output_type": "stream",
     "text": [
      "datasets/audios/train/Normal\n",
      "MoviePy - Writing audio in datasets/audios/train/Normal/dfULz-lLaDc_000002_000012.wav\n"
     ]
    },
    {
     "name": "stderr",
     "output_type": "stream",
     "text": [
      " 71%|███████   | 302/424 [01:19<00:52,  2.34it/s]"
     ]
    },
    {
     "name": "stdout",
     "output_type": "stream",
     "text": [
      "MoviePy - Done.\n"
     ]
    },
    {
     "name": "stderr",
     "output_type": "stream",
     "text": [
      " 71%|███████▏  | 303/424 [01:19<00:52,  2.31it/s]"
     ]
    },
    {
     "name": "stdout",
     "output_type": "stream",
     "text": [
      "\n",
      "File: datasets/train/Normal/dfULz-lLaDc_000002_000012.mp4\n",
      "Ground Truth: Normal\n",
      "Top predictions:\n",
      "   Setting table: 53.00%\n",
      "    Sitting down: 10.78%\n",
      "   Doing laundry: 9.64%\n",
      "         Dancing: 3.89%\n",
      "No people is in the room: 3.71%\n",
      "\n",
      "datasets/audios/train/Normal\n"
     ]
    },
    {
     "name": "stderr",
     "output_type": "stream",
     "text": [
      " 71%|███████▏  | 303/424 [01:19<00:52,  2.31it/s]"
     ]
    },
    {
     "name": "stdout",
     "output_type": "stream",
     "text": [
      "MoviePy - Writing audio in datasets/audios/train/Normal/DFX28NEFY38_000157_000167.wav\n"
     ]
    },
    {
     "name": "stderr",
     "output_type": "stream",
     "text": [
      " 72%|███████▏  | 304/424 [01:19<00:49,  2.44it/s]"
     ]
    },
    {
     "name": "stdout",
     "output_type": "stream",
     "text": [
      "MoviePy - Done.\n",
      "\n",
      "File: datasets/train/Normal/DFX28NEFY38_000157_000167.mp4\n",
      "Ground Truth: Normal\n",
      "Top predictions:\n",
      "   Doing laundry: 48.87%\n",
      "No people is in the room: 35.93%\n",
      "     Eating food: 1.94%\n",
      "        Drinking: 1.68%\n",
      "         Talking: 1.20%\n",
      "\n"
     ]
    },
    {
     "name": "stderr",
     "output_type": "stream",
     "text": [
      " 72%|███████▏  | 304/424 [01:19<00:49,  2.44it/s]"
     ]
    },
    {
     "name": "stdout",
     "output_type": "stream",
     "text": [
      "datasets/audios/train/Normal\n",
      "MoviePy - Writing audio in datasets/audios/train/Normal/DkZml-dK0pU_000043_000053.wav\n"
     ]
    },
    {
     "name": "stderr",
     "output_type": "stream",
     "text": [
      " 72%|███████▏  | 304/424 [01:20<00:49,  2.44it/s]"
     ]
    },
    {
     "name": "stdout",
     "output_type": "stream",
     "text": [
      "MoviePy - Done.\n"
     ]
    },
    {
     "name": "stderr",
     "output_type": "stream",
     "text": [
      " 72%|███████▏  | 305/424 [01:20<00:54,  2.19it/s]"
     ]
    },
    {
     "name": "stdout",
     "output_type": "stream",
     "text": [
      "\n",
      "File: datasets/train/Normal/DkZml-dK0pU_000043_000053.mp4\n",
      "Ground Truth: Normal\n",
      "Top predictions:\n",
      "     Eating food: 33.52%\n",
      "Playing with pets: 27.96%\n",
      "         Dancing: 5.88%\n",
      "   Setting table: 4.25%\n",
      "   Mopping floor: 4.21%\n",
      "\n",
      "datasets/audios/train/Normal\n"
     ]
    },
    {
     "name": "stderr",
     "output_type": "stream",
     "text": [
      " 72%|███████▏  | 305/424 [01:20<00:54,  2.19it/s]"
     ]
    },
    {
     "name": "stdout",
     "output_type": "stream",
     "text": [
      "MoviePy - Writing audio in datasets/audios/train/Normal/DLhpyADKYKM_000184_000194.wav\n"
     ]
    },
    {
     "name": "stderr",
     "output_type": "stream",
     "text": [
      " 72%|███████▏  | 306/424 [01:20<00:51,  2.31it/s]"
     ]
    },
    {
     "name": "stdout",
     "output_type": "stream",
     "text": [
      "MoviePy - Done.\n",
      "\n",
      "File: datasets/train/Normal/DLhpyADKYKM_000184_000194.mp4\n",
      "Ground Truth: Normal\n",
      "Top predictions:\n",
      "        Studying: 40.88%\n",
      "      Decorating: 21.89%\n",
      "        Cleaning: 6.16%\n",
      "         Working: 5.46%\n",
      "    Sitting down: 5.27%\n",
      "\n"
     ]
    },
    {
     "name": "stderr",
     "output_type": "stream",
     "text": [
      " 72%|███████▏  | 306/424 [01:20<00:51,  2.31it/s]"
     ]
    },
    {
     "name": "stdout",
     "output_type": "stream",
     "text": [
      "datasets/audios/train/Normal\n",
      "MoviePy - Writing audio in datasets/audios/train/Normal/dlK1QS-Aofs_000066_000076.wav\n"
     ]
    },
    {
     "name": "stderr",
     "output_type": "stream",
     "text": [
      " 72%|███████▏  | 307/424 [01:21<00:48,  2.42it/s]"
     ]
    },
    {
     "name": "stdout",
     "output_type": "stream",
     "text": [
      "MoviePy - Done.\n",
      "\n",
      "File: datasets/train/Normal/dlK1QS-Aofs_000066_000076.mp4\n",
      "Ground Truth: Normal\n",
      "Top predictions:\n",
      "        Painting: 6.76%\n",
      "   Playing music: 6.40%\n",
      "         Dancing: 6.15%\n",
      "  Using computer: 5.62%\n",
      "      Decorating: 5.52%\n",
      "\n"
     ]
    },
    {
     "name": "stderr",
     "output_type": "stream",
     "text": [
      " 72%|███████▏  | 307/424 [01:21<00:48,  2.42it/s]"
     ]
    },
    {
     "name": "stdout",
     "output_type": "stream",
     "text": [
      "datasets/audios/train/Normal\n",
      "MoviePy - Writing audio in datasets/audios/train/Normal/dMBlXTR3qQU_000187_000197.wav\n"
     ]
    },
    {
     "name": "stderr",
     "output_type": "stream",
     "text": [
      " 72%|███████▏  | 307/424 [01:21<00:48,  2.42it/s]"
     ]
    },
    {
     "name": "stdout",
     "output_type": "stream",
     "text": [
      "MoviePy - Done.\n",
      "\n",
      "File: datasets/train/Normal/dMBlXTR3qQU_000187_000197.mp4\n",
      "Ground Truth: Normal\n",
      "Top predictions:\n"
     ]
    },
    {
     "name": "stderr",
     "output_type": "stream",
     "text": [
      " 73%|███████▎  | 308/424 [01:21<00:48,  2.41it/s]"
     ]
    },
    {
     "name": "stdout",
     "output_type": "stream",
     "text": [
      "    Sitting down: 85.32%\n",
      "   Doing laundry: 7.41%\n",
      "   Mopping floor: 1.79%\n",
      "         Working: 1.07%\n",
      "Physical altercations: 0.65%\n",
      "\n"
     ]
    },
    {
     "name": "stderr",
     "output_type": "stream",
     "text": [
      " 73%|███████▎  | 308/424 [01:21<00:48,  2.41it/s]"
     ]
    },
    {
     "name": "stdout",
     "output_type": "stream",
     "text": [
      "datasets/audios/train/Normal\n",
      "MoviePy - Writing audio in datasets/audios/train/Normal/dndkqyk45Ks_000015_000025.wav\n"
     ]
    },
    {
     "name": "stderr",
     "output_type": "stream",
     "text": [
      " 73%|███████▎  | 309/424 [01:21<00:46,  2.47it/s]"
     ]
    },
    {
     "name": "stdout",
     "output_type": "stream",
     "text": [
      "MoviePy - Done.\n",
      "\n",
      "File: datasets/train/Normal/dndkqyk45Ks_000015_000025.mp4\n",
      "Ground Truth: Normal\n",
      "Top predictions:\n",
      "No people is in the room: 43.77%\n",
      "Playing with pets: 19.47%\n",
      "   Setting table: 18.69%\n",
      "   Doing laundry: 7.13%\n",
      "   Mopping floor: 3.28%\n",
      "\n"
     ]
    },
    {
     "name": "stderr",
     "output_type": "stream",
     "text": [
      " 73%|███████▎  | 309/424 [01:22<00:46,  2.47it/s]"
     ]
    },
    {
     "name": "stdout",
     "output_type": "stream",
     "text": [
      "datasets/audios/train/Normal\n",
      "MoviePy - Writing audio in datasets/audios/train/Normal/DNWCjFUE75s_000289_000299.wav\n"
     ]
    },
    {
     "name": "stderr",
     "output_type": "stream",
     "text": [
      " 73%|███████▎  | 309/424 [01:22<00:46,  2.47it/s]"
     ]
    },
    {
     "name": "stdout",
     "output_type": "stream",
     "text": [
      "MoviePy - Done.\n"
     ]
    },
    {
     "name": "stderr",
     "output_type": "stream",
     "text": [
      " 73%|███████▎  | 310/424 [01:22<00:52,  2.18it/s]"
     ]
    },
    {
     "name": "stdout",
     "output_type": "stream",
     "text": [
      "\n",
      "File: datasets/train/Normal/DNWCjFUE75s_000289_000299.mp4\n",
      "Ground Truth: Normal\n",
      "Top predictions:\n",
      "No people is in the room: 34.82%\n",
      "     Celebrating: 13.57%\n",
      "         Reading: 7.71%\n",
      "   Setting table: 5.92%\n",
      "  Using computer: 5.55%\n",
      "\n",
      "datasets/audios/train/Normal\n"
     ]
    },
    {
     "name": "stderr",
     "output_type": "stream",
     "text": [
      " 73%|███████▎  | 310/424 [01:22<00:52,  2.18it/s]"
     ]
    },
    {
     "name": "stdout",
     "output_type": "stream",
     "text": [
      "MoviePy - Writing audio in datasets/audios/train/Normal/dsnkk1tytpE_000066_000076.wav\n"
     ]
    },
    {
     "name": "stderr",
     "output_type": "stream",
     "text": [
      " 73%|███████▎  | 311/424 [01:22<00:48,  2.31it/s]"
     ]
    },
    {
     "name": "stdout",
     "output_type": "stream",
     "text": [
      "MoviePy - Done.\n",
      "\n",
      "File: datasets/train/Normal/dsnkk1tytpE_000066_000076.mp4\n",
      "Ground Truth: Normal\n",
      "Top predictions:\n",
      "Playing board games: 42.07%\n",
      "          Dining: 19.19%\n",
      "   Setting table: 13.16%\n",
      "No people is in the room: 6.68%\n",
      "Playing with pets: 3.26%\n",
      "\n"
     ]
    },
    {
     "name": "stderr",
     "output_type": "stream",
     "text": [
      " 73%|███████▎  | 311/424 [01:23<00:48,  2.31it/s]"
     ]
    },
    {
     "name": "stdout",
     "output_type": "stream",
     "text": [
      "datasets/audios/train/Normal\n",
      "MoviePy - Writing audio in datasets/audios/train/Normal/dxBH1r8To3Y_000010_000020.wav\n"
     ]
    },
    {
     "name": "stderr",
     "output_type": "stream",
     "text": [
      " 74%|███████▎  | 312/424 [01:23<00:46,  2.40it/s]"
     ]
    },
    {
     "name": "stdout",
     "output_type": "stream",
     "text": [
      "MoviePy - Done.\n",
      "\n",
      "File: datasets/train/Normal/dxBH1r8To3Y_000010_000020.mp4\n",
      "Ground Truth: Normal\n",
      "Top predictions:\n",
      "No people is in the room: 61.15%\n",
      "     Eating food: 22.60%\n",
      "        Drinking: 6.64%\n",
      "Playing with pets: 2.97%\n",
      "   Doing laundry: 1.08%\n",
      "\n"
     ]
    },
    {
     "name": "stderr",
     "output_type": "stream",
     "text": [
      " 74%|███████▎  | 312/424 [01:23<00:46,  2.40it/s]"
     ]
    },
    {
     "name": "stdout",
     "output_type": "stream",
     "text": [
      "datasets/audios/train/Normal\n",
      "MoviePy - Writing audio in datasets/audios/train/Normal/dXOxzXI-psA_000017_000027.wav\n"
     ]
    },
    {
     "name": "stderr",
     "output_type": "stream",
     "text": [
      " 74%|███████▍  | 313/424 [01:23<00:45,  2.46it/s]"
     ]
    },
    {
     "name": "stdout",
     "output_type": "stream",
     "text": [
      "MoviePy - Done.\n",
      "\n",
      "File: datasets/train/Normal/dXOxzXI-psA_000017_000027.mp4\n",
      "Ground Truth: Normal\n",
      "Top predictions:\n",
      "Playing with pets: 37.01%\n",
      "         Reading: 13.95%\n",
      "Making phone calls: 9.98%\n",
      "  Using computer: 7.75%\n",
      "         Talking: 6.84%\n",
      "\n"
     ]
    },
    {
     "name": "stderr",
     "output_type": "stream",
     "text": [
      " 74%|███████▍  | 313/424 [01:23<00:45,  2.46it/s]"
     ]
    },
    {
     "name": "stdout",
     "output_type": "stream",
     "text": [
      "datasets/audios/train/Normal\n",
      "MoviePy - Writing audio in datasets/audios/train/Normal/e-xCuXyO1w0_000122_000132.wav\n"
     ]
    },
    {
     "name": "stderr",
     "output_type": "stream",
     "text": [
      " 74%|███████▍  | 314/424 [01:23<00:43,  2.54it/s]"
     ]
    },
    {
     "name": "stdout",
     "output_type": "stream",
     "text": [
      "MoviePy - Done.\n",
      "\n",
      "File: datasets/train/Normal/e-xCuXyO1w0_000122_000132.mp4\n",
      "Ground Truth: Normal\n",
      "Top predictions:\n",
      "    Sitting down: 54.77%\n",
      "   Doing laundry: 27.81%\n",
      "   Mopping floor: 4.04%\n",
      "No people is in the room: 3.12%\n",
      "   Setting table: 2.82%\n",
      "\n"
     ]
    },
    {
     "name": "stderr",
     "output_type": "stream",
     "text": [
      " 74%|███████▍  | 314/424 [01:24<00:43,  2.54it/s]"
     ]
    },
    {
     "name": "stdout",
     "output_type": "stream",
     "text": [
      "datasets/audios/train/Normal\n",
      "MoviePy - Writing audio in datasets/audios/train/Normal/E4sSE4n7AIY_000617_000627.wav\n"
     ]
    },
    {
     "name": "stderr",
     "output_type": "stream",
     "text": [
      " 74%|███████▍  | 314/424 [01:24<00:43,  2.54it/s]"
     ]
    },
    {
     "name": "stdout",
     "output_type": "stream",
     "text": [
      "MoviePy - Done.\n"
     ]
    },
    {
     "name": "stderr",
     "output_type": "stream",
     "text": [
      " 74%|███████▍  | 315/424 [01:24<00:51,  2.13it/s]"
     ]
    },
    {
     "name": "stdout",
     "output_type": "stream",
     "text": [
      "\n",
      "File: datasets/train/Normal/E4sSE4n7AIY_000617_000627.mp4\n",
      "Ground Truth: Normal\n",
      "Top predictions:\n",
      "Playing with pets: 46.04%\n",
      "         Working: 5.68%\n",
      "        Painting: 4.57%\n",
      "         Dancing: 4.25%\n",
      "Playing board games: 3.89%\n",
      "\n",
      "datasets/audios/train/Normal\n"
     ]
    },
    {
     "name": "stderr",
     "output_type": "stream",
     "text": [
      " 74%|███████▍  | 315/424 [01:24<00:51,  2.13it/s]"
     ]
    },
    {
     "name": "stdout",
     "output_type": "stream",
     "text": [
      "MoviePy - Writing audio in datasets/audios/train/Normal/e6knPRich_k_000053_000063.wav\n"
     ]
    },
    {
     "name": "stderr",
     "output_type": "stream",
     "text": [
      " 75%|███████▍  | 316/424 [01:24<00:47,  2.27it/s]"
     ]
    },
    {
     "name": "stdout",
     "output_type": "stream",
     "text": [
      "MoviePy - Done.\n",
      "\n",
      "File: datasets/train/Normal/e6knPRich_k_000053_000063.mp4\n",
      "Ground Truth: Normal\n",
      "Top predictions:\n",
      "Playing with pets: 30.01%\n",
      "     Eating food: 20.32%\n",
      "No people is in the room: 10.07%\n",
      "Play with phone/tablet: 9.45%\n",
      "  Using computer: 5.64%\n",
      "\n"
     ]
    },
    {
     "name": "stderr",
     "output_type": "stream",
     "text": [
      " 75%|███████▍  | 316/424 [01:25<00:47,  2.27it/s]"
     ]
    },
    {
     "name": "stdout",
     "output_type": "stream",
     "text": [
      "datasets/audios/train/Normal\n",
      "MoviePy - Writing audio in datasets/audios/train/Normal/e7MT8cHYxls_000016_000026.wav\n"
     ]
    },
    {
     "name": "stderr",
     "output_type": "stream",
     "text": [
      " 75%|███████▍  | 317/424 [01:25<00:47,  2.27it/s]"
     ]
    },
    {
     "name": "stdout",
     "output_type": "stream",
     "text": [
      "MoviePy - Done.\n",
      "\n",
      "File: datasets/train/Normal/e7MT8cHYxls_000016_000026.mp4\n",
      "Ground Truth: Normal\n",
      "Top predictions:\n",
      "No people is in the room: 82.27%\n",
      "   Doing laundry: 7.80%\n",
      "  Using computer: 1.88%\n",
      "Playing board games: 1.75%\n",
      "         Working: 1.42%\n",
      "\n"
     ]
    },
    {
     "name": "stderr",
     "output_type": "stream",
     "text": [
      " 75%|███████▍  | 317/424 [01:25<00:47,  2.27it/s]"
     ]
    },
    {
     "name": "stdout",
     "output_type": "stream",
     "text": [
      "datasets/audios/train/Normal\n",
      "MoviePy - Writing audio in datasets/audios/train/Normal/eDegjR0YmXE_000102_000112.wav\n"
     ]
    },
    {
     "name": "stderr",
     "output_type": "stream",
     "text": [
      " 75%|███████▍  | 317/424 [01:25<00:47,  2.27it/s]"
     ]
    },
    {
     "name": "stdout",
     "output_type": "stream",
     "text": [
      "MoviePy - Done.\n"
     ]
    },
    {
     "name": "stderr",
     "output_type": "stream",
     "text": [
      " 75%|███████▌  | 318/424 [01:25<00:51,  2.06it/s]"
     ]
    },
    {
     "name": "stdout",
     "output_type": "stream",
     "text": [
      "\n",
      "File: datasets/train/Normal/eDegjR0YmXE_000102_000112.mp4\n",
      "Ground Truth: Normal\n",
      "Top predictions:\n",
      "  Using computer: 29.24%\n",
      "        Studying: 18.81%\n",
      "No people is in the room: 7.98%\n",
      "   Setting table: 7.36%\n",
      "Organizing space: 6.14%\n",
      "\n"
     ]
    },
    {
     "name": "stderr",
     "output_type": "stream",
     "text": [
      " 75%|███████▌  | 318/424 [01:26<00:51,  2.06it/s]"
     ]
    },
    {
     "name": "stdout",
     "output_type": "stream",
     "text": [
      "datasets/audios/train/Normal\n",
      "MoviePy - Writing audio in datasets/audios/train/Normal/eJfnOEeJpM0_000044_000054.wav\n"
     ]
    },
    {
     "name": "stderr",
     "output_type": "stream",
     "text": [
      " 75%|███████▌  | 319/424 [01:26<00:49,  2.12it/s]"
     ]
    },
    {
     "name": "stdout",
     "output_type": "stream",
     "text": [
      "MoviePy - Done.\n",
      "\n",
      "File: datasets/train/Normal/eJfnOEeJpM0_000044_000054.mp4\n",
      "Ground Truth: Normal\n",
      "Top predictions:\n",
      "No people is in the room: 28.40%\n",
      "   Setting table: 20.21%\n",
      "Unattended cooking: 5.46%\n",
      "      Decorating: 5.39%\n",
      "Playing with pets: 5.21%\n",
      "\n"
     ]
    },
    {
     "name": "stderr",
     "output_type": "stream",
     "text": [
      " 75%|███████▌  | 319/424 [01:26<00:49,  2.12it/s]"
     ]
    },
    {
     "name": "stdout",
     "output_type": "stream",
     "text": [
      "datasets/audios/train/Normal\n",
      "MoviePy - Writing audio in datasets/audios/train/Normal/ENKtS5yCT2o_000053_000063.wav\n"
     ]
    },
    {
     "name": "stderr",
     "output_type": "stream",
     "text": [
      " 75%|███████▌  | 320/424 [01:26<00:45,  2.30it/s]"
     ]
    },
    {
     "name": "stdout",
     "output_type": "stream",
     "text": [
      "MoviePy - Done.\n",
      "\n",
      "File: datasets/train/Normal/ENKtS5yCT2o_000053_000063.mp4\n",
      "Ground Truth: Normal\n",
      "Top predictions:\n",
      "          Dining: 18.47%\n",
      "No people is in the room: 18.09%\n",
      "Organizing space: 9.76%\n",
      "  Using computer: 8.68%\n",
      "           Party: 7.88%\n",
      "\n"
     ]
    },
    {
     "name": "stderr",
     "output_type": "stream",
     "text": [
      " 75%|███████▌  | 320/424 [01:26<00:45,  2.30it/s]"
     ]
    },
    {
     "name": "stdout",
     "output_type": "stream",
     "text": [
      "datasets/audios/train/Normal\n",
      "MoviePy - Writing audio in datasets/audios/train/Normal/EQViTe9m1Hw_000112_000122.wav\n"
     ]
    },
    {
     "name": "stderr",
     "output_type": "stream",
     "text": [
      " 75%|███████▌  | 320/424 [01:27<00:45,  2.30it/s]"
     ]
    },
    {
     "name": "stdout",
     "output_type": "stream",
     "text": [
      "MoviePy - Done.\n"
     ]
    },
    {
     "name": "stderr",
     "output_type": "stream",
     "text": [
      " 76%|███████▌  | 321/424 [01:27<00:49,  2.09it/s]"
     ]
    },
    {
     "name": "stdout",
     "output_type": "stream",
     "text": [
      "\n",
      "File: datasets/train/Normal/EQViTe9m1Hw_000112_000122.mp4\n",
      "Ground Truth: Normal\n",
      "Top predictions:\n",
      "  Using computer: 36.70%\n",
      "        Studying: 35.72%\n",
      "        Painting: 9.42%\n",
      "      Decorating: 8.32%\n",
      "         Working: 3.15%\n",
      "\n"
     ]
    },
    {
     "name": "stderr",
     "output_type": "stream",
     "text": [
      " 76%|███████▌  | 321/424 [01:27<00:49,  2.09it/s]"
     ]
    },
    {
     "name": "stdout",
     "output_type": "stream",
     "text": [
      "datasets/audios/train/Normal\n",
      "MoviePy - Writing audio in datasets/audios/train/Normal/ew7MSTTFMeg_000272_000282.wav\n"
     ]
    },
    {
     "name": "stderr",
     "output_type": "stream",
     "text": [
      " 76%|███████▌  | 322/424 [01:27<00:45,  2.22it/s]"
     ]
    },
    {
     "name": "stdout",
     "output_type": "stream",
     "text": [
      "MoviePy - Done.\n",
      "\n",
      "File: datasets/train/Normal/ew7MSTTFMeg_000272_000282.mp4\n",
      "Ground Truth: Normal\n",
      "Top predictions:\n",
      "     Eating food: 35.48%\n",
      "Playing with pets: 21.77%\n",
      "      Using drug: 8.92%\n",
      "         Reading: 6.57%\n",
      "        Drinking: 2.45%\n",
      "\n"
     ]
    },
    {
     "name": "stderr",
     "output_type": "stream",
     "text": [
      " 76%|███████▌  | 322/424 [01:27<00:45,  2.22it/s]"
     ]
    },
    {
     "name": "stdout",
     "output_type": "stream",
     "text": [
      "datasets/audios/train/Normal\n",
      "MoviePy - Writing audio in datasets/audios/train/Normal/F1KA2nf-C9M_000133_000143.wav\n"
     ]
    },
    {
     "name": "stderr",
     "output_type": "stream",
     "text": [
      " 76%|███████▌  | 323/424 [01:28<00:43,  2.34it/s]"
     ]
    },
    {
     "name": "stdout",
     "output_type": "stream",
     "text": [
      "MoviePy - Done.\n",
      "\n",
      "File: datasets/train/Normal/F1KA2nf-C9M_000133_000143.mp4\n",
      "Ground Truth: Normal\n",
      "Top predictions:\n",
      "  Using computer: 24.72%\n",
      "      Using drug: 21.93%\n",
      "         Reading: 17.96%\n",
      "Playing board games: 3.28%\n",
      "        Speaking: 3.25%\n",
      "\n"
     ]
    },
    {
     "name": "stderr",
     "output_type": "stream",
     "text": [
      " 76%|███████▌  | 323/424 [01:28<00:43,  2.34it/s]"
     ]
    },
    {
     "name": "stdout",
     "output_type": "stream",
     "text": [
      "datasets/audios/train/Normal\n",
      "MoviePy - Writing audio in datasets/audios/train/Normal/f3DMBH9EJNI_000007_000017.wav\n"
     ]
    },
    {
     "name": "stderr",
     "output_type": "stream",
     "text": [
      " 76%|███████▌  | 323/424 [01:28<00:43,  2.34it/s]"
     ]
    },
    {
     "name": "stdout",
     "output_type": "stream",
     "text": [
      "MoviePy - Done.\n"
     ]
    },
    {
     "name": "stderr",
     "output_type": "stream",
     "text": [
      " 76%|███████▋  | 324/424 [01:28<00:47,  2.12it/s]"
     ]
    },
    {
     "name": "stdout",
     "output_type": "stream",
     "text": [
      "\n",
      "File: datasets/train/Normal/f3DMBH9EJNI_000007_000017.mp4\n",
      "Ground Truth: Normal\n",
      "Top predictions:\n",
      "No people is in the room: 34.27%\n",
      "         Dancing: 16.15%\n",
      "    Sitting down: 16.06%\n",
      "        Laughing: 4.52%\n",
      "        Drinking: 3.25%\n",
      "\n"
     ]
    },
    {
     "name": "stderr",
     "output_type": "stream",
     "text": [
      " 76%|███████▋  | 324/424 [01:28<00:47,  2.12it/s]"
     ]
    },
    {
     "name": "stdout",
     "output_type": "stream",
     "text": [
      "datasets/audios/train/Normal\n",
      "MoviePy - Writing audio in datasets/audios/train/Normal/F621wrqXp34_000036_000046.wav\n"
     ]
    },
    {
     "name": "stderr",
     "output_type": "stream",
     "text": [
      " 76%|███████▋  | 324/424 [01:28<00:47,  2.12it/s]"
     ]
    },
    {
     "name": "stdout",
     "output_type": "stream",
     "text": [
      "MoviePy - Done.\n",
      "\n",
      "File: datasets/train/Normal/F621wrqXp34_000036_000046.mp4\n",
      "Ground Truth: Normal\n",
      "Top predictions:\n"
     ]
    },
    {
     "name": "stderr",
     "output_type": "stream",
     "text": [
      " 77%|███████▋  | 325/424 [01:29<00:45,  2.15it/s]"
     ]
    },
    {
     "name": "stdout",
     "output_type": "stream",
     "text": [
      "         Reading: 18.03%\n",
      "  Using computer: 15.50%\n",
      "        Studying: 11.09%\n",
      "      Exercising: 7.58%\n",
      "No people is in the room: 7.26%\n",
      "\n",
      "datasets/audios/train/Normal\n"
     ]
    },
    {
     "name": "stderr",
     "output_type": "stream",
     "text": [
      " 77%|███████▋  | 325/424 [01:29<00:45,  2.15it/s]"
     ]
    },
    {
     "name": "stdout",
     "output_type": "stream",
     "text": [
      "MoviePy - Writing audio in datasets/audios/train/Normal/FJ8M6LK6evw_000022_000032.wav\n"
     ]
    },
    {
     "name": "stderr",
     "output_type": "stream",
     "text": [
      " 77%|███████▋  | 326/424 [01:29<00:42,  2.32it/s]"
     ]
    },
    {
     "name": "stdout",
     "output_type": "stream",
     "text": [
      "MoviePy - Done.\n",
      "\n",
      "File: datasets/train/Normal/FJ8M6LK6evw_000022_000032.mp4\n",
      "Ground Truth: Normal\n",
      "Top predictions:\n",
      "     Celebrating: 15.10%\n",
      "      Using drug: 14.87%\n",
      "        Chatting: 13.50%\n",
      "  Using computer: 13.33%\n",
      "Organizing space: 10.95%\n",
      "\n"
     ]
    },
    {
     "name": "stderr",
     "output_type": "stream",
     "text": [
      " 77%|███████▋  | 326/424 [01:29<00:42,  2.32it/s]"
     ]
    },
    {
     "name": "stdout",
     "output_type": "stream",
     "text": [
      "datasets/audios/train/Normal\n",
      "MoviePy - Writing audio in datasets/audios/train/Normal/FJljds1AA2o_000016_000026.wav\n"
     ]
    },
    {
     "name": "stderr",
     "output_type": "stream",
     "text": [
      " 77%|███████▋  | 326/424 [01:29<00:42,  2.32it/s]"
     ]
    },
    {
     "name": "stdout",
     "output_type": "stream",
     "text": [
      "MoviePy - Done.\n"
     ]
    },
    {
     "name": "stderr",
     "output_type": "stream",
     "text": [
      " 77%|███████▋  | 327/424 [01:30<00:45,  2.12it/s]"
     ]
    },
    {
     "name": "stdout",
     "output_type": "stream",
     "text": [
      "\n",
      "File: datasets/train/Normal/FJljds1AA2o_000016_000026.mp4\n",
      "Ground Truth: Normal\n",
      "Top predictions:\n",
      "         Talking: 28.23%\n",
      "     Eating food: 24.85%\n",
      "         Reading: 16.64%\n",
      "        Speaking: 10.55%\n",
      "No people is in the room: 8.50%\n",
      "\n"
     ]
    },
    {
     "name": "stderr",
     "output_type": "stream",
     "text": [
      " 77%|███████▋  | 327/424 [01:30<00:45,  2.12it/s]"
     ]
    },
    {
     "name": "stdout",
     "output_type": "stream",
     "text": [
      "datasets/audios/train/Normal\n",
      "MoviePy - Writing audio in datasets/audios/train/Normal/gem1VWkzae8_000875_000885.wav\n"
     ]
    },
    {
     "name": "stderr",
     "output_type": "stream",
     "text": [
      " 77%|███████▋  | 328/424 [01:30<00:42,  2.25it/s]"
     ]
    },
    {
     "name": "stdout",
     "output_type": "stream",
     "text": [
      "MoviePy - Done.\n",
      "\n",
      "File: datasets/train/Normal/gem1VWkzae8_000875_000885.mp4\n",
      "Ground Truth: Normal\n",
      "Top predictions:\n",
      "        Studying: 32.57%\n",
      "   Setting table: 20.01%\n",
      "  Using computer: 14.82%\n",
      "Organizing space: 8.30%\n",
      "         Working: 5.27%\n",
      "\n"
     ]
    },
    {
     "name": "stderr",
     "output_type": "stream",
     "text": [
      " 77%|███████▋  | 328/424 [01:30<00:42,  2.25it/s]"
     ]
    },
    {
     "name": "stdout",
     "output_type": "stream",
     "text": [
      "datasets/audios/train/Normal\n",
      "MoviePy - Writing audio in datasets/audios/train/Normal/Gf5htdt_Djg_000107_000117.wav\n"
     ]
    },
    {
     "name": "stderr",
     "output_type": "stream",
     "text": [
      " 77%|███████▋  | 328/424 [01:30<00:42,  2.25it/s]"
     ]
    },
    {
     "name": "stdout",
     "output_type": "stream",
     "text": [
      "MoviePy - Done.\n"
     ]
    },
    {
     "name": "stderr",
     "output_type": "stream",
     "text": [
      " 78%|███████▊  | 329/424 [01:31<00:46,  2.05it/s]"
     ]
    },
    {
     "name": "stdout",
     "output_type": "stream",
     "text": [
      "\n",
      "File: datasets/train/Normal/Gf5htdt_Djg_000107_000117.mp4\n",
      "Ground Truth: Normal\n",
      "Top predictions:\n",
      "No people is in the room: 46.22%\n",
      "Playing board games: 27.99%\n",
      "   Setting table: 10.06%\n",
      "          Dining: 3.36%\n",
      "     Eating food: 2.87%\n",
      "\n"
     ]
    },
    {
     "name": "stderr",
     "output_type": "stream",
     "text": [
      " 78%|███████▊  | 329/424 [01:31<00:46,  2.05it/s]"
     ]
    },
    {
     "name": "stdout",
     "output_type": "stream",
     "text": [
      "datasets/audios/train/Normal\n",
      "MoviePy - Writing audio in datasets/audios/train/Normal/gmE90XbBgOk_000000_000010.wav\n"
     ]
    },
    {
     "name": "stderr",
     "output_type": "stream",
     "text": [
      " 78%|███████▊  | 330/424 [01:31<00:43,  2.17it/s]"
     ]
    },
    {
     "name": "stdout",
     "output_type": "stream",
     "text": [
      "MoviePy - Done.\n",
      "\n",
      "File: datasets/train/Normal/gmE90XbBgOk_000000_000010.mp4\n",
      "Ground Truth: Normal\n",
      "Top predictions:\n",
      "    Sitting down: 37.92%\n",
      "        Drinking: 9.00%\n",
      "     Eating food: 8.95%\n",
      "         Smoking: 8.58%\n",
      "No people is in the room: 4.72%\n",
      "\n"
     ]
    },
    {
     "name": "stderr",
     "output_type": "stream",
     "text": [
      " 78%|███████▊  | 330/424 [01:31<00:43,  2.17it/s]"
     ]
    },
    {
     "name": "stdout",
     "output_type": "stream",
     "text": [
      "datasets/audios/train/Normal\n",
      "MoviePy - Writing audio in datasets/audios/train/Normal/GnXROFauJVY_000026_000036.wav\n"
     ]
    },
    {
     "name": "stderr",
     "output_type": "stream",
     "text": [
      " 78%|███████▊  | 331/424 [01:31<00:41,  2.26it/s]"
     ]
    },
    {
     "name": "stdout",
     "output_type": "stream",
     "text": [
      "MoviePy - Done.\n",
      "\n",
      "File: datasets/train/Normal/GnXROFauJVY_000026_000036.mp4\n",
      "Ground Truth: Normal\n",
      "Top predictions:\n",
      "     Celebrating: 38.00%\n",
      "           Party: 11.77%\n",
      "No people is in the room: 10.46%\n",
      "          Dining: 9.31%\n",
      "      Using drug: 3.78%\n",
      "\n"
     ]
    },
    {
     "name": "stderr",
     "output_type": "stream",
     "text": [
      " 78%|███████▊  | 331/424 [01:32<00:41,  2.26it/s]"
     ]
    },
    {
     "name": "stdout",
     "output_type": "stream",
     "text": [
      "datasets/audios/train/Normal\n",
      "MoviePy - Writing audio in datasets/audios/train/Normal/H89ENzVtnlg_000095_000105.wav\n"
     ]
    },
    {
     "name": "stderr",
     "output_type": "stream",
     "text": [
      " 78%|███████▊  | 331/424 [01:32<00:41,  2.26it/s]"
     ]
    },
    {
     "name": "stdout",
     "output_type": "stream",
     "text": [
      "MoviePy - Done.\n"
     ]
    },
    {
     "name": "stderr",
     "output_type": "stream",
     "text": [
      " 78%|███████▊  | 332/424 [01:32<00:42,  2.17it/s]"
     ]
    },
    {
     "name": "stdout",
     "output_type": "stream",
     "text": [
      "\n",
      "File: datasets/train/Normal/H89ENzVtnlg_000095_000105.mp4\n",
      "Ground Truth: Normal\n",
      "Top predictions:\n",
      "       Showering: 36.99%\n",
      "   Mopping floor: 14.09%\n",
      "   Doing laundry: 10.40%\n",
      "         Cooking: 8.30%\n",
      "No people is in the room: 7.10%\n",
      "\n"
     ]
    },
    {
     "name": "stderr",
     "output_type": "stream",
     "text": [
      " 78%|███████▊  | 332/424 [01:32<00:42,  2.17it/s]"
     ]
    },
    {
     "name": "stdout",
     "output_type": "stream",
     "text": [
      "datasets/audios/train/Normal\n",
      "MoviePy - Writing audio in datasets/audios/train/Normal/HJqSjhNOMjY_000143_000153.wav\n"
     ]
    },
    {
     "name": "stderr",
     "output_type": "stream",
     "text": [
      " 78%|███████▊  | 332/424 [01:32<00:42,  2.17it/s]"
     ]
    },
    {
     "name": "stdout",
     "output_type": "stream",
     "text": [
      "MoviePy - Done.\n",
      "\n",
      "File: datasets/train/Normal/HJqSjhNOMjY_000143_000153.mp4\n",
      "Ground Truth: Normal\n",
      "Top predictions:\n"
     ]
    },
    {
     "name": "stderr",
     "output_type": "stream",
     "text": [
      " 79%|███████▊  | 333/424 [01:32<00:42,  2.13it/s]"
     ]
    },
    {
     "name": "stdout",
     "output_type": "stream",
     "text": [
      "No people is in the room: 45.52%\n",
      "Playing board games: 7.06%\n",
      "      Exercising: 6.64%\n",
      "   Taking photos: 5.04%\n",
      "        Chatting: 3.72%\n",
      "\n"
     ]
    },
    {
     "name": "stderr",
     "output_type": "stream",
     "text": [
      " 79%|███████▊  | 333/424 [01:33<00:42,  2.13it/s]"
     ]
    },
    {
     "name": "stdout",
     "output_type": "stream",
     "text": [
      "datasets/audios/train/Normal\n",
      "MoviePy - Writing audio in datasets/audios/train/Normal/hM8CfzDDyIg_000158_000168.wav\n"
     ]
    },
    {
     "name": "stderr",
     "output_type": "stream",
     "text": [
      " 79%|███████▉  | 334/424 [01:33<00:40,  2.20it/s]"
     ]
    },
    {
     "name": "stdout",
     "output_type": "stream",
     "text": [
      "MoviePy - Done.\n",
      "\n",
      "File: datasets/train/Normal/hM8CfzDDyIg_000158_000168.mp4\n",
      "Ground Truth: Normal\n",
      "Top predictions:\n",
      "         Cooking: 53.74%\n",
      "Unattended cooking: 35.16%\n",
      "       Showering: 4.44%\n",
      "   Setting table: 2.04%\n",
      "      Decorating: 1.06%\n",
      "\n"
     ]
    },
    {
     "name": "stderr",
     "output_type": "stream",
     "text": [
      " 79%|███████▉  | 334/424 [01:33<00:40,  2.20it/s]"
     ]
    },
    {
     "name": "stdout",
     "output_type": "stream",
     "text": [
      "datasets/audios/train/Normal\n",
      "MoviePy - Writing audio in datasets/audios/train/Normal/hQ4OpC2RuLY_000120_000130.wav\n"
     ]
    },
    {
     "name": "stderr",
     "output_type": "stream",
     "text": [
      " 79%|███████▉  | 335/424 [01:33<00:38,  2.29it/s]"
     ]
    },
    {
     "name": "stdout",
     "output_type": "stream",
     "text": [
      "MoviePy - Done.\n",
      "\n",
      "File: datasets/train/Normal/hQ4OpC2RuLY_000120_000130.mp4\n",
      "Ground Truth: Normal\n",
      "Top predictions:\n",
      "              TV: 50.32%\n",
      "No people is in the room: 7.01%\n",
      "  Using computer: 6.32%\n",
      "     Celebrating: 6.03%\n",
      "      Using drug: 5.29%\n",
      "\n"
     ]
    },
    {
     "name": "stderr",
     "output_type": "stream",
     "text": [
      " 79%|███████▉  | 335/424 [01:33<00:38,  2.29it/s]"
     ]
    },
    {
     "name": "stdout",
     "output_type": "stream",
     "text": [
      "datasets/audios/train/Normal\n",
      "MoviePy - Writing audio in datasets/audios/train/Normal/hxyttQsXwOc_000079_000089.wav\n"
     ]
    },
    {
     "name": "stderr",
     "output_type": "stream",
     "text": [
      " 79%|███████▉  | 336/424 [01:34<00:36,  2.38it/s]"
     ]
    },
    {
     "name": "stdout",
     "output_type": "stream",
     "text": [
      "MoviePy - Done.\n",
      "\n",
      "File: datasets/train/Normal/hxyttQsXwOc_000079_000089.mp4\n",
      "Ground Truth: Normal\n",
      "Top predictions:\n",
      "     Eating food: 50.27%\n",
      "Playing with pets: 33.17%\n",
      "        Drinking: 11.77%\n",
      "         Talking: 1.14%\n",
      "No people is in the room: 0.78%\n",
      "\n"
     ]
    },
    {
     "name": "stderr",
     "output_type": "stream",
     "text": [
      " 79%|███████▉  | 336/424 [01:34<00:36,  2.38it/s]"
     ]
    },
    {
     "name": "stdout",
     "output_type": "stream",
     "text": [
      "datasets/audios/train/Normal\n",
      "MoviePy - Writing audio in datasets/audios/train/Normal/i70NodYlh7E_000336_000346.wav\n"
     ]
    },
    {
     "name": "stderr",
     "output_type": "stream",
     "text": [
      " 79%|███████▉  | 337/424 [01:34<00:36,  2.40it/s]"
     ]
    },
    {
     "name": "stdout",
     "output_type": "stream",
     "text": [
      "MoviePy - Done.\n",
      "\n",
      "File: datasets/train/Normal/i70NodYlh7E_000336_000346.mp4\n",
      "Ground Truth: Normal\n",
      "Top predictions:\n",
      "          Dining: 21.12%\n",
      "   Setting table: 20.57%\n",
      "      Using drug: 16.30%\n",
      "         Talking: 12.67%\n",
      "        Speaking: 4.68%\n",
      "\n"
     ]
    },
    {
     "name": "stderr",
     "output_type": "stream",
     "text": [
      " 79%|███████▉  | 337/424 [01:34<00:36,  2.40it/s]"
     ]
    },
    {
     "name": "stdout",
     "output_type": "stream",
     "text": [
      "datasets/audios/train/Normal\n",
      "MoviePy - Writing audio in datasets/audios/train/Normal/IGHpI5LRzuk_000054_000064.wav\n"
     ]
    },
    {
     "name": "stderr",
     "output_type": "stream",
     "text": [
      " 80%|███████▉  | 338/424 [01:34<00:35,  2.45it/s]"
     ]
    },
    {
     "name": "stdout",
     "output_type": "stream",
     "text": [
      "MoviePy - Done.\n",
      "\n",
      "File: datasets/train/Normal/IGHpI5LRzuk_000054_000064.mp4\n",
      "Ground Truth: Normal\n",
      "Top predictions:\n",
      "  Brushing teeth: 97.73%\n",
      "        Cleaning: 1.29%\n",
      "       Showering: 0.31%\n",
      "        Painting: 0.15%\n",
      "      Using drug: 0.14%\n",
      "\n"
     ]
    },
    {
     "name": "stderr",
     "output_type": "stream",
     "text": [
      " 80%|███████▉  | 338/424 [01:34<00:35,  2.45it/s]"
     ]
    },
    {
     "name": "stdout",
     "output_type": "stream",
     "text": [
      "datasets/audios/train/Normal\n",
      "MoviePy - Writing audio in datasets/audios/train/Normal/IKG6W6LmSlw_000000_000010.wav\n"
     ]
    },
    {
     "name": "stderr",
     "output_type": "stream",
     "text": [
      " 80%|███████▉  | 339/424 [01:35<00:33,  2.56it/s]"
     ]
    },
    {
     "name": "stdout",
     "output_type": "stream",
     "text": [
      "MoviePy - Done.\n",
      "\n",
      "File: datasets/train/Normal/IKG6W6LmSlw_000000_000010.mp4\n",
      "Ground Truth: Normal\n",
      "Top predictions:\n",
      "     Eating food: 21.84%\n",
      "  Using computer: 17.30%\n",
      "        Drinking: 10.55%\n",
      "No people is in the room: 7.53%\n",
      "         Smoking: 7.11%\n",
      "\n"
     ]
    },
    {
     "name": "stderr",
     "output_type": "stream",
     "text": [
      " 80%|███████▉  | 339/424 [01:35<00:33,  2.56it/s]"
     ]
    },
    {
     "name": "stdout",
     "output_type": "stream",
     "text": [
      "datasets/audios/train/Normal\n",
      "MoviePy - Writing audio in datasets/audios/train/Normal/JpgvBLEoGPY_000008_000018.wav\n"
     ]
    },
    {
     "name": "stderr",
     "output_type": "stream",
     "text": [
      " 80%|████████  | 340/424 [01:35<00:32,  2.59it/s]"
     ]
    },
    {
     "name": "stdout",
     "output_type": "stream",
     "text": [
      "MoviePy - Done.\n",
      "\n",
      "File: datasets/train/Normal/JpgvBLEoGPY_000008_000018.mp4\n",
      "Ground Truth: Normal\n",
      "Top predictions:\n",
      "         Potluck: 54.37%\n",
      "     Celebrating: 11.12%\n",
      "         Singing: 10.47%\n",
      "      Using drug: 4.60%\n",
      "      Meditating: 3.52%\n",
      "\n"
     ]
    },
    {
     "name": "stderr",
     "output_type": "stream",
     "text": [
      " 80%|████████  | 340/424 [01:35<00:32,  2.59it/s]"
     ]
    },
    {
     "name": "stdout",
     "output_type": "stream",
     "text": [
      "datasets/audios/train/Normal\n",
      "MoviePy - Writing audio in datasets/audios/train/Normal/Jvx3wT69CVI_000460_000470.wav\n"
     ]
    },
    {
     "name": "stderr",
     "output_type": "stream",
     "text": [
      " 80%|████████  | 340/424 [01:35<00:32,  2.59it/s]"
     ]
    },
    {
     "name": "stdout",
     "output_type": "stream",
     "text": [
      "MoviePy - Done.\n"
     ]
    },
    {
     "name": "stderr",
     "output_type": "stream",
     "text": [
      " 80%|████████  | 341/424 [01:35<00:32,  2.59it/s]"
     ]
    },
    {
     "name": "stdout",
     "output_type": "stream",
     "text": [
      "\n",
      "File: datasets/train/Normal/Jvx3wT69CVI_000460_000470.mp4\n",
      "Ground Truth: Normal\n",
      "Top predictions:\n",
      "No people is in the room: 55.14%\n",
      "   Doing laundry: 10.76%\n",
      "   Setting table: 8.69%\n",
      "    Sitting down: 5.47%\n",
      "         Working: 4.01%\n",
      "\n",
      "datasets/audios/train/Normal\n"
     ]
    },
    {
     "name": "stderr",
     "output_type": "stream",
     "text": [
      " 80%|████████  | 341/424 [01:36<00:32,  2.59it/s]"
     ]
    },
    {
     "name": "stdout",
     "output_type": "stream",
     "text": [
      "MoviePy - Writing audio in datasets/audios/train/Normal/k088TLn7oIU_000090_000100.wav\n"
     ]
    },
    {
     "name": "stderr",
     "output_type": "stream",
     "text": [
      " 80%|████████  | 341/424 [01:36<00:32,  2.59it/s]"
     ]
    },
    {
     "name": "stdout",
     "output_type": "stream",
     "text": [
      "MoviePy - Done.\n"
     ]
    },
    {
     "name": "stderr",
     "output_type": "stream",
     "text": [
      " 81%|████████  | 342/424 [01:36<00:36,  2.26it/s]"
     ]
    },
    {
     "name": "stdout",
     "output_type": "stream",
     "text": [
      "\n",
      "File: datasets/train/Normal/k088TLn7oIU_000090_000100.mp4\n",
      "Ground Truth: Normal\n",
      "Top predictions:\n",
      "   Setting table: 56.67%\n",
      "No people is in the room: 7.03%\n",
      "  Using computer: 6.45%\n",
      "         Reading: 5.67%\n",
      "     Celebrating: 3.61%\n",
      "\n"
     ]
    },
    {
     "name": "stderr",
     "output_type": "stream",
     "text": [
      " 81%|████████  | 342/424 [01:36<00:36,  2.26it/s]"
     ]
    },
    {
     "name": "stdout",
     "output_type": "stream",
     "text": [
      "datasets/audios/train/Normal\n",
      "MoviePy - Writing audio in datasets/audios/train/Normal/KCk7JLKqICc_000068_000078.wav\n"
     ]
    },
    {
     "name": "stderr",
     "output_type": "stream",
     "text": [
      " 81%|████████  | 343/424 [01:36<00:35,  2.31it/s]"
     ]
    },
    {
     "name": "stdout",
     "output_type": "stream",
     "text": [
      "MoviePy - Done.\n",
      "\n",
      "File: datasets/train/Normal/KCk7JLKqICc_000068_000078.mp4\n",
      "Ground Truth: Normal\n",
      "Top predictions:\n",
      "      Exercising: 30.37%\n",
      "         Working: 20.34%\n",
      "   Mopping floor: 16.58%\n",
      "        Studying: 8.67%\n",
      "        Cleaning: 5.71%\n",
      "\n"
     ]
    },
    {
     "name": "stderr",
     "output_type": "stream",
     "text": [
      " 81%|████████  | 343/424 [01:37<00:35,  2.31it/s]"
     ]
    },
    {
     "name": "stdout",
     "output_type": "stream",
     "text": [
      "datasets/audios/train/Normal\n",
      "MoviePy - Writing audio in datasets/audios/train/Normal/kCyv6z2yar4_000002_000012.wav\n"
     ]
    },
    {
     "name": "stderr",
     "output_type": "stream",
     "text": [
      " 81%|████████  | 344/424 [01:37<00:33,  2.42it/s]"
     ]
    },
    {
     "name": "stdout",
     "output_type": "stream",
     "text": [
      "MoviePy - Done.\n",
      "\n",
      "File: datasets/train/Normal/kCyv6z2yar4_000002_000012.mp4\n",
      "Ground Truth: Normal\n",
      "Top predictions:\n",
      "         Dancing: 18.87%\n",
      "     Celebrating: 11.88%\n",
      "   Playing music: 11.60%\n",
      "Playing with pets: 9.16%\n",
      "Organizing space: 7.00%\n",
      "\n"
     ]
    },
    {
     "name": "stderr",
     "output_type": "stream",
     "text": [
      " 81%|████████  | 344/424 [01:37<00:33,  2.42it/s]"
     ]
    },
    {
     "name": "stdout",
     "output_type": "stream",
     "text": [
      "datasets/audios/train/Normal\n",
      "MoviePy - Writing audio in datasets/audios/train/Normal/kW5BmCKH248_000447_000457.wav\n"
     ]
    },
    {
     "name": "stderr",
     "output_type": "stream",
     "text": [
      " 81%|████████▏ | 345/424 [01:37<00:32,  2.43it/s]"
     ]
    },
    {
     "name": "stdout",
     "output_type": "stream",
     "text": [
      "MoviePy - Done.\n",
      "\n",
      "File: datasets/train/Normal/kW5BmCKH248_000447_000457.mp4\n",
      "Ground Truth: Normal\n",
      "Top predictions:\n",
      "No people is in the room: 36.07%\n",
      "        Drinking: 15.96%\n",
      "   Setting table: 15.09%\n",
      "  Using computer: 7.37%\n",
      "      Using drug: 5.19%\n",
      "\n"
     ]
    },
    {
     "name": "stderr",
     "output_type": "stream",
     "text": [
      " 81%|████████▏ | 345/424 [01:37<00:32,  2.43it/s]"
     ]
    },
    {
     "name": "stdout",
     "output_type": "stream",
     "text": [
      "datasets/audios/train/Normal\n",
      "MoviePy - Writing audio in datasets/audios/train/Normal/KY3dD8VcGnM_000022_000032.wav\n"
     ]
    },
    {
     "name": "stderr",
     "output_type": "stream",
     "text": [
      " 82%|████████▏ | 346/424 [01:38<00:31,  2.48it/s]"
     ]
    },
    {
     "name": "stdout",
     "output_type": "stream",
     "text": [
      "MoviePy - Done.\n",
      "\n",
      "File: datasets/train/Normal/KY3dD8VcGnM_000022_000032.mp4\n",
      "Ground Truth: Normal\n",
      "Top predictions:\n",
      "Playing board games: 17.34%\n",
      "      Decorating: 15.83%\n",
      "         Working: 8.11%\n",
      "        Painting: 7.70%\n",
      "  Using computer: 7.24%\n",
      "\n"
     ]
    },
    {
     "name": "stderr",
     "output_type": "stream",
     "text": [
      " 82%|████████▏ | 346/424 [01:38<00:31,  2.48it/s]"
     ]
    },
    {
     "name": "stdout",
     "output_type": "stream",
     "text": [
      "datasets/audios/train/Normal\n",
      "MoviePy - Writing audio in datasets/audios/train/Normal/L0gZURkoVtM_000056_000066.wav\n"
     ]
    },
    {
     "name": "stderr",
     "output_type": "stream",
     "text": [
      " 82%|████████▏ | 347/424 [01:38<00:31,  2.45it/s]"
     ]
    },
    {
     "name": "stdout",
     "output_type": "stream",
     "text": [
      "MoviePy - Done.\n",
      "\n",
      "File: datasets/train/Normal/L0gZURkoVtM_000056_000066.mp4\n",
      "Ground Truth: Normal\n",
      "Top predictions:\n",
      "        Drinking: 73.09%\n",
      "      Using drug: 10.32%\n",
      "Playing with pets: 3.54%\n",
      "   Taking photos: 1.74%\n",
      "         Smoking: 1.69%\n",
      "\n"
     ]
    },
    {
     "name": "stderr",
     "output_type": "stream",
     "text": [
      " 82%|████████▏ | 347/424 [01:38<00:31,  2.45it/s]"
     ]
    },
    {
     "name": "stdout",
     "output_type": "stream",
     "text": [
      "datasets/audios/train/Normal\n",
      "MoviePy - Writing audio in datasets/audios/train/Normal/lCZLHNyUiMo_000003_000013.wav\n"
     ]
    },
    {
     "name": "stderr",
     "output_type": "stream",
     "text": [
      " 82%|████████▏ | 348/424 [01:38<00:30,  2.52it/s]"
     ]
    },
    {
     "name": "stdout",
     "output_type": "stream",
     "text": [
      "MoviePy - Done.\n",
      "\n",
      "File: datasets/train/Normal/lCZLHNyUiMo_000003_000013.mp4\n",
      "Ground Truth: Normal\n",
      "Top predictions:\n",
      "No people is in the room: 46.62%\n",
      "     Suffocating: 7.56%\n",
      "Domestic violence: 4.59%\n",
      "    Falling down: 4.58%\n",
      "Furniture Collapse: 4.15%\n",
      "\n"
     ]
    },
    {
     "name": "stderr",
     "output_type": "stream",
     "text": [
      " 82%|████████▏ | 348/424 [01:39<00:30,  2.52it/s]"
     ]
    },
    {
     "name": "stdout",
     "output_type": "stream",
     "text": [
      "datasets/audios/train/Normal\n",
      "MoviePy - Writing audio in datasets/audios/train/Normal/Ll6b1B9YDgM_000032_000042.wav\n"
     ]
    },
    {
     "name": "stderr",
     "output_type": "stream",
     "text": [
      " 82%|████████▏ | 348/424 [01:39<00:30,  2.52it/s]"
     ]
    },
    {
     "name": "stdout",
     "output_type": "stream",
     "text": [
      "MoviePy - Done.\n"
     ]
    },
    {
     "name": "stderr",
     "output_type": "stream",
     "text": [
      " 82%|████████▏ | 349/424 [01:39<00:30,  2.42it/s]"
     ]
    },
    {
     "name": "stdout",
     "output_type": "stream",
     "text": [
      "\n",
      "File: datasets/train/Normal/Ll6b1B9YDgM_000032_000042.mp4\n",
      "Ground Truth: Normal\n",
      "Top predictions:\n",
      "          Dining: 32.75%\n",
      "        Studying: 16.82%\n",
      "     Eating food: 13.82%\n",
      "    Sitting down: 6.55%\n",
      "        Drinking: 5.94%\n",
      "\n",
      "datasets/audios/train/Normal\n"
     ]
    },
    {
     "name": "stderr",
     "output_type": "stream",
     "text": [
      " 82%|████████▏ | 349/424 [01:39<00:30,  2.42it/s]"
     ]
    },
    {
     "name": "stdout",
     "output_type": "stream",
     "text": [
      "MoviePy - Writing audio in datasets/audios/train/Normal/N5n6j6vBGu0_000008_000018.wav\n"
     ]
    },
    {
     "name": "stderr",
     "output_type": "stream",
     "text": [
      " 83%|████████▎ | 350/424 [01:39<00:29,  2.52it/s]"
     ]
    },
    {
     "name": "stdout",
     "output_type": "stream",
     "text": [
      "MoviePy - Done.\n",
      "\n",
      "File: datasets/train/Normal/N5n6j6vBGu0_000008_000018.mp4\n",
      "Ground Truth: Normal\n",
      "Top predictions:\n",
      "         Reading: 27.79%\n",
      "No people is in the room: 24.44%\n",
      "        Speaking: 7.50%\n",
      "   Doing laundry: 5.68%\n",
      "         Talking: 4.78%\n",
      "\n"
     ]
    },
    {
     "name": "stderr",
     "output_type": "stream",
     "text": [
      " 83%|████████▎ | 350/424 [01:39<00:29,  2.52it/s]"
     ]
    },
    {
     "name": "stdout",
     "output_type": "stream",
     "text": [
      "datasets/audios/train/Normal\n",
      "MoviePy - Writing audio in datasets/audios/train/Normal/oeguonb5OA0_000004_000014.wav\n"
     ]
    },
    {
     "name": "stderr",
     "output_type": "stream",
     "text": [
      " 83%|████████▎ | 351/424 [01:40<00:28,  2.55it/s]"
     ]
    },
    {
     "name": "stdout",
     "output_type": "stream",
     "text": [
      "MoviePy - Done.\n",
      "\n",
      "File: datasets/train/Normal/oeguonb5OA0_000004_000014.mp4\n",
      "Ground Truth: Normal\n",
      "Top predictions:\n",
      "No people is in the room: 47.94%\n",
      "Playing with pets: 22.20%\n",
      "         Talking: 7.25%\n",
      "     Eating food: 7.19%\n",
      "   Doing laundry: 3.51%\n",
      "\n"
     ]
    },
    {
     "name": "stderr",
     "output_type": "stream",
     "text": [
      " 83%|████████▎ | 351/424 [01:40<00:28,  2.55it/s]"
     ]
    },
    {
     "name": "stdout",
     "output_type": "stream",
     "text": [
      "datasets/audios/train/Normal\n",
      "MoviePy - Writing audio in datasets/audios/train/Normal/oLPzKb6j80U_000009_000019.wav\n"
     ]
    },
    {
     "name": "stderr",
     "output_type": "stream",
     "text": [
      " 83%|████████▎ | 352/424 [01:40<00:27,  2.59it/s]"
     ]
    },
    {
     "name": "stdout",
     "output_type": "stream",
     "text": [
      "MoviePy - Done.\n",
      "\n",
      "File: datasets/train/Normal/oLPzKb6j80U_000009_000019.mp4\n",
      "Ground Truth: Normal\n",
      "Top predictions:\n",
      "     Celebrating: 20.78%\n",
      "No people is in the room: 15.33%\n",
      "      Meditating: 10.31%\n",
      "         Singing: 7.96%\n",
      "      Decorating: 6.93%\n",
      "\n"
     ]
    },
    {
     "name": "stderr",
     "output_type": "stream",
     "text": [
      " 83%|████████▎ | 352/424 [01:40<00:27,  2.59it/s]"
     ]
    },
    {
     "name": "stdout",
     "output_type": "stream",
     "text": [
      "datasets/audios/train/Normal\n",
      "MoviePy - Writing audio in datasets/audios/train/Normal/OmBlRJEoY9s_000088_000098.wav\n"
     ]
    },
    {
     "name": "stderr",
     "output_type": "stream",
     "text": [
      " 83%|████████▎ | 353/424 [01:40<00:28,  2.52it/s]"
     ]
    },
    {
     "name": "stdout",
     "output_type": "stream",
     "text": [
      "MoviePy - Done.\n",
      "\n",
      "File: datasets/train/Normal/OmBlRJEoY9s_000088_000098.mp4\n",
      "Ground Truth: Normal\n",
      "Top predictions:\n",
      "        Drinking: 43.90%\n",
      "No people is in the room: 26.83%\n",
      "Playing board games: 8.77%\n",
      "          Dining: 4.52%\n",
      "     Eating food: 3.40%\n",
      "\n"
     ]
    },
    {
     "name": "stderr",
     "output_type": "stream",
     "text": [
      " 83%|████████▎ | 353/424 [01:41<00:28,  2.52it/s]"
     ]
    },
    {
     "name": "stdout",
     "output_type": "stream",
     "text": [
      "datasets/audios/train/Normal\n",
      "MoviePy - Writing audio in datasets/audios/train/Normal/oUc6ZrEBL80_000519_000529.wav\n"
     ]
    },
    {
     "name": "stderr",
     "output_type": "stream",
     "text": [
      " 83%|████████▎ | 354/424 [01:41<00:27,  2.52it/s]"
     ]
    },
    {
     "name": "stdout",
     "output_type": "stream",
     "text": [
      "MoviePy - Done.\n",
      "\n",
      "File: datasets/train/Normal/oUc6ZrEBL80_000519_000529.mp4\n",
      "Ground Truth: Normal\n",
      "Top predictions:\n",
      "        Cleaning: 37.98%\n",
      "      Meditating: 14.13%\n",
      "       Vacumning: 9.45%\n",
      "   Mopping floor: 5.17%\n",
      "       Showering: 4.13%\n",
      "\n"
     ]
    },
    {
     "name": "stderr",
     "output_type": "stream",
     "text": [
      " 83%|████████▎ | 354/424 [01:41<00:27,  2.52it/s]"
     ]
    },
    {
     "name": "stdout",
     "output_type": "stream",
     "text": [
      "datasets/audios/train/Normal\n",
      "MoviePy - Writing audio in datasets/audios/train/Normal/P6AChrs1Txo_000187_000197.wav\n"
     ]
    },
    {
     "name": "stderr",
     "output_type": "stream",
     "text": [
      " 84%|████████▎ | 355/424 [01:41<00:27,  2.50it/s]"
     ]
    },
    {
     "name": "stdout",
     "output_type": "stream",
     "text": [
      "MoviePy - Done.\n",
      "\n",
      "File: datasets/train/Normal/P6AChrs1Txo_000187_000197.mp4\n",
      "Ground Truth: Normal\n",
      "Top predictions:\n",
      "No people is in the room: 48.12%\n",
      "Playing with pets: 12.76%\n",
      "Playing board games: 9.15%\n",
      "   Setting table: 8.41%\n",
      "   Mopping floor: 4.78%\n",
      "\n"
     ]
    },
    {
     "name": "stderr",
     "output_type": "stream",
     "text": [
      " 84%|████████▎ | 355/424 [01:41<00:27,  2.50it/s]"
     ]
    },
    {
     "name": "stdout",
     "output_type": "stream",
     "text": [
      "datasets/audios/train/Normal\n",
      "MoviePy - Writing audio in datasets/audios/train/Normal/P8amgAResD4_000279_000289.wav\n"
     ]
    },
    {
     "name": "stderr",
     "output_type": "stream",
     "text": [
      " 84%|████████▍ | 356/424 [01:41<00:26,  2.61it/s]"
     ]
    },
    {
     "name": "stdout",
     "output_type": "stream",
     "text": [
      "MoviePy - Done.\n",
      "\n",
      "File: datasets/train/Normal/P8amgAResD4_000279_000289.mp4\n",
      "Ground Truth: Normal\n",
      "Top predictions:\n",
      "No people is in the room: 17.03%\n",
      "         Talking: 14.66%\n",
      "      Using drug: 11.24%\n",
      "    Sitting down: 9.50%\n",
      "        Speaking: 8.32%\n",
      "\n"
     ]
    },
    {
     "name": "stderr",
     "output_type": "stream",
     "text": [
      " 84%|████████▍ | 356/424 [01:42<00:26,  2.61it/s]"
     ]
    },
    {
     "name": "stdout",
     "output_type": "stream",
     "text": [
      "datasets/audios/train/Normal\n",
      "MoviePy - Writing audio in datasets/audios/train/Normal/pz28ycbJiQc_000002_000012.wav\n"
     ]
    },
    {
     "name": "stderr",
     "output_type": "stream",
     "text": [
      " 84%|████████▍ | 357/424 [01:42<00:25,  2.58it/s]"
     ]
    },
    {
     "name": "stdout",
     "output_type": "stream",
     "text": [
      "MoviePy - Done.\n",
      "\n",
      "File: datasets/train/Normal/pz28ycbJiQc_000002_000012.mp4\n",
      "Ground Truth: Normal\n",
      "Top predictions:\n",
      "No people is in the room: 46.24%\n",
      "         Reading: 17.98%\n",
      "     Celebrating: 6.67%\n",
      "         Talking: 5.11%\n",
      "        Speaking: 4.52%\n",
      "\n"
     ]
    },
    {
     "name": "stderr",
     "output_type": "stream",
     "text": [
      " 84%|████████▍ | 357/424 [01:42<00:25,  2.58it/s]"
     ]
    },
    {
     "name": "stdout",
     "output_type": "stream",
     "text": [
      "datasets/audios/train/Normal\n",
      "MoviePy - Writing audio in datasets/audios/train/Normal/PzhivDBg9F0_000016_000026.wav\n"
     ]
    },
    {
     "name": "stderr",
     "output_type": "stream",
     "text": [
      " 84%|████████▍ | 357/424 [01:42<00:25,  2.58it/s]"
     ]
    },
    {
     "name": "stdout",
     "output_type": "stream",
     "text": [
      "MoviePy - Done.\n"
     ]
    },
    {
     "name": "stderr",
     "output_type": "stream",
     "text": [
      " 84%|████████▍ | 358/424 [01:42<00:28,  2.35it/s]"
     ]
    },
    {
     "name": "stdout",
     "output_type": "stream",
     "text": [
      "\n",
      "File: datasets/train/Normal/PzhivDBg9F0_000016_000026.mp4\n",
      "Ground Truth: Normal\n",
      "Top predictions:\n",
      "     Eating food: 32.47%\n",
      "        Speaking: 11.98%\n",
      "      Using drug: 11.79%\n",
      "         Reading: 7.04%\n",
      "         Talking: 6.08%\n",
      "\n"
     ]
    },
    {
     "name": "stderr",
     "output_type": "stream",
     "text": [
      " 84%|████████▍ | 358/424 [01:43<00:28,  2.35it/s]"
     ]
    },
    {
     "name": "stdout",
     "output_type": "stream",
     "text": [
      "datasets/audios/train/Normal\n",
      "MoviePy - Writing audio in datasets/audios/train/Normal/QAKwGG98wvc_000020_000030.wav\n"
     ]
    },
    {
     "name": "stderr",
     "output_type": "stream",
     "text": [
      " 85%|████████▍ | 359/424 [01:43<00:27,  2.38it/s]"
     ]
    },
    {
     "name": "stdout",
     "output_type": "stream",
     "text": [
      "MoviePy - Done.\n",
      "\n",
      "File: datasets/train/Normal/QAKwGG98wvc_000020_000030.mp4\n",
      "Ground Truth: Normal\n",
      "Top predictions:\n",
      "   Setting table: 37.26%\n",
      "      Using drug: 8.03%\n",
      "      Decorating: 6.61%\n",
      "  Using computer: 5.60%\n",
      "        Studying: 5.27%\n",
      "\n"
     ]
    },
    {
     "name": "stderr",
     "output_type": "stream",
     "text": [
      " 85%|████████▍ | 359/424 [01:43<00:27,  2.38it/s]"
     ]
    },
    {
     "name": "stdout",
     "output_type": "stream",
     "text": [
      "datasets/audios/train/Normal\n",
      "MoviePy - Writing audio in datasets/audios/train/Normal/rLQ5fmVSL94_000026_000036.wav\n"
     ]
    },
    {
     "name": "stderr",
     "output_type": "stream",
     "text": [
      " 85%|████████▍ | 360/424 [01:43<00:26,  2.44it/s]"
     ]
    },
    {
     "name": "stdout",
     "output_type": "stream",
     "text": [
      "MoviePy - Done.\n",
      "\n",
      "File: datasets/train/Normal/rLQ5fmVSL94_000026_000036.mp4\n",
      "Ground Truth: Normal\n",
      "Top predictions:\n",
      "No people is in the room: 15.45%\n",
      "      Decorating: 11.13%\n",
      "    Sitting down: 10.84%\n",
      "      Using drug: 8.22%\n",
      "  Using computer: 5.41%\n",
      "\n"
     ]
    },
    {
     "name": "stderr",
     "output_type": "stream",
     "text": [
      " 85%|████████▍ | 360/424 [01:43<00:26,  2.44it/s]"
     ]
    },
    {
     "name": "stdout",
     "output_type": "stream",
     "text": [
      "datasets/audios/train/Normal\n",
      "MoviePy - Writing audio in datasets/audios/train/Normal/X46EhfXTqxg_000727_000737.wav\n"
     ]
    },
    {
     "name": "stderr",
     "output_type": "stream",
     "text": [
      " 85%|████████▌ | 361/424 [01:44<00:26,  2.42it/s]"
     ]
    },
    {
     "name": "stdout",
     "output_type": "stream",
     "text": [
      "MoviePy - Done.\n",
      "\n",
      "File: datasets/train/Normal/X46EhfXTqxg_000727_000737.mp4\n",
      "Ground Truth: Normal\n",
      "Top predictions:\n",
      "        Studying: 15.25%\n",
      "      Decorating: 14.03%\n",
      "   Doing laundry: 13.06%\n",
      "  Using computer: 12.30%\n",
      "   Setting table: 12.17%\n",
      "\n"
     ]
    },
    {
     "name": "stderr",
     "output_type": "stream",
     "text": [
      " 85%|████████▌ | 361/424 [01:44<00:26,  2.42it/s]"
     ]
    },
    {
     "name": "stdout",
     "output_type": "stream",
     "text": [
      "datasets/audios/train/Normal\n",
      "MoviePy - Writing audio in datasets/audios/train/Normal/_0xvqLRQvOA_000074_000084.wav\n"
     ]
    },
    {
     "name": "stderr",
     "output_type": "stream",
     "text": [
      " 85%|████████▌ | 362/424 [01:44<00:24,  2.50it/s]"
     ]
    },
    {
     "name": "stdout",
     "output_type": "stream",
     "text": [
      "MoviePy - Done.\n",
      "\n",
      "File: datasets/train/Normal/_0xvqLRQvOA_000074_000084.mp4\n",
      "Ground Truth: Normal\n",
      "Top predictions:\n",
      "    Sitting down: 78.99%\n",
      "No people is in the room: 7.14%\n",
      "   Mopping floor: 2.09%\n",
      "   Doing laundry: 1.80%\n",
      "Playing with pets: 1.21%\n",
      "\n"
     ]
    },
    {
     "name": "stderr",
     "output_type": "stream",
     "text": [
      " 85%|████████▌ | 362/424 [01:44<00:24,  2.50it/s]"
     ]
    },
    {
     "name": "stdout",
     "output_type": "stream",
     "text": [
      "datasets/audios/train/Normal\n",
      "MoviePy - Writing audio in datasets/audios/train/Normal/_3vZKUxeQtg_000298_000308.wav\n"
     ]
    },
    {
     "name": "stderr",
     "output_type": "stream",
     "text": [
      " 86%|████████▌ | 363/424 [01:44<00:24,  2.46it/s]"
     ]
    },
    {
     "name": "stdout",
     "output_type": "stream",
     "text": [
      "MoviePy - Done.\n",
      "\n",
      "File: datasets/train/Normal/_3vZKUxeQtg_000298_000308.mp4\n",
      "Ground Truth: Normal\n",
      "Top predictions:\n",
      "     Eating food: 95.62%\n",
      "        Drinking: 3.98%\n",
      "Playing with pets: 0.15%\n",
      "         Choking: 0.07%\n",
      "         Smoking: 0.04%\n",
      "\n"
     ]
    },
    {
     "name": "stderr",
     "output_type": "stream",
     "text": [
      " 86%|████████▌ | 363/424 [01:45<00:24,  2.46it/s]"
     ]
    },
    {
     "name": "stdout",
     "output_type": "stream",
     "text": [
      "datasets/audios/train/Normal\n",
      "MoviePy - Writing audio in datasets/audios/train/Normal/_4EOMgSAs2o_000094_000104.wav\n"
     ]
    },
    {
     "name": "stderr",
     "output_type": "stream",
     "text": [
      " 86%|████████▌ | 364/424 [01:45<00:23,  2.58it/s]"
     ]
    },
    {
     "name": "stdout",
     "output_type": "stream",
     "text": [
      "MoviePy - Done.\n",
      "\n",
      "File: datasets/train/Normal/_4EOMgSAs2o_000094_000104.mp4\n",
      "Ground Truth: Normal\n",
      "Top predictions:\n",
      "         Talking: 30.25%\n",
      "         Reading: 23.84%\n",
      "        Speaking: 18.54%\n",
      "No people is in the room: 6.94%\n",
      "         Singing: 4.66%\n",
      "\n"
     ]
    },
    {
     "name": "stderr",
     "output_type": "stream",
     "text": [
      " 86%|████████▌ | 364/424 [01:45<00:23,  2.58it/s]"
     ]
    },
    {
     "name": "stdout",
     "output_type": "stream",
     "text": [
      "datasets/audios/train/Normal\n",
      "MoviePy - Writing audio in datasets/audios/train/Normal/_5ItAUGPgqI_000742_000752.wav\n"
     ]
    },
    {
     "name": "stderr",
     "output_type": "stream",
     "text": [
      " 86%|████████▌ | 364/424 [01:45<00:23,  2.58it/s]"
     ]
    },
    {
     "name": "stdout",
     "output_type": "stream",
     "text": [
      "MoviePy - Done.\n"
     ]
    },
    {
     "name": "stderr",
     "output_type": "stream",
     "text": [
      " 86%|████████▌ | 365/424 [01:45<00:26,  2.21it/s]"
     ]
    },
    {
     "name": "stdout",
     "output_type": "stream",
     "text": [
      "\n",
      "File: datasets/train/Normal/_5ItAUGPgqI_000742_000752.mp4\n",
      "Ground Truth: Normal\n",
      "Top predictions:\n",
      "Unattended cooking: 53.53%\n",
      "         Cooking: 44.81%\n",
      "No people is in the room: 0.53%\n",
      "   Doing laundry: 0.39%\n",
      "   Setting table: 0.35%\n",
      "\n",
      "datasets/audios/train/Normal\n"
     ]
    },
    {
     "name": "stderr",
     "output_type": "stream",
     "text": [
      " 86%|████████▌ | 365/424 [01:46<00:26,  2.21it/s]"
     ]
    },
    {
     "name": "stdout",
     "output_type": "stream",
     "text": [
      "MoviePy - Writing audio in datasets/audios/train/Normal/_82X-ic2kME_000001_000011.wav\n"
     ]
    },
    {
     "name": "stderr",
     "output_type": "stream",
     "text": [
      " 86%|████████▌ | 365/424 [01:46<00:26,  2.21it/s]"
     ]
    },
    {
     "name": "stdout",
     "output_type": "stream",
     "text": [
      "MoviePy - Done.\n"
     ]
    },
    {
     "name": "stderr",
     "output_type": "stream",
     "text": [
      " 86%|████████▋ | 366/424 [01:46<00:25,  2.29it/s]"
     ]
    },
    {
     "name": "stdout",
     "output_type": "stream",
     "text": [
      "\n",
      "File: datasets/train/Normal/_82X-ic2kME_000001_000011.mp4\n",
      "Ground Truth: Normal\n",
      "Top predictions:\n",
      "  Brushing teeth: 29.66%\n",
      "No people is in the room: 18.52%\n",
      "      Using drug: 7.14%\n",
      "        Drinking: 5.34%\n",
      "         Talking: 5.17%\n",
      "\n"
     ]
    },
    {
     "name": "stderr",
     "output_type": "stream",
     "text": [
      " 86%|████████▋ | 366/424 [01:46<00:25,  2.29it/s]"
     ]
    },
    {
     "name": "stdout",
     "output_type": "stream",
     "text": [
      "datasets/audios/train/Normal\n",
      "MoviePy - Writing audio in datasets/audios/train/Normal/_8w7SkEkehQ_000037_000047.wav\n"
     ]
    },
    {
     "name": "stderr",
     "output_type": "stream",
     "text": [
      " 87%|████████▋ | 367/424 [01:46<00:24,  2.36it/s]"
     ]
    },
    {
     "name": "stdout",
     "output_type": "stream",
     "text": [
      "MoviePy - Done.\n",
      "\n",
      "File: datasets/train/Normal/_8w7SkEkehQ_000037_000047.mp4\n",
      "Ground Truth: Normal\n",
      "Top predictions:\n",
      "   Setting table: 55.36%\n",
      "No people is in the room: 13.89%\n",
      "         Cooking: 5.85%\n",
      "       Showering: 4.50%\n",
      "   Doing laundry: 3.49%\n",
      "\n"
     ]
    },
    {
     "name": "stderr",
     "output_type": "stream",
     "text": [
      " 87%|████████▋ | 367/424 [01:46<00:24,  2.36it/s]"
     ]
    },
    {
     "name": "stdout",
     "output_type": "stream",
     "text": [
      "datasets/audios/train/Normal\n",
      "MoviePy - Writing audio in datasets/audios/train/Normal/_99gyAUUgy4_000051_000061.wav\n"
     ]
    },
    {
     "name": "stderr",
     "output_type": "stream",
     "text": [
      " 87%|████████▋ | 367/424 [01:46<00:24,  2.36it/s]"
     ]
    },
    {
     "name": "stdout",
     "output_type": "stream",
     "text": [
      "MoviePy - Done.\n"
     ]
    },
    {
     "name": "stderr",
     "output_type": "stream",
     "text": [
      " 87%|████████▋ | 368/424 [01:47<00:25,  2.23it/s]"
     ]
    },
    {
     "name": "stdout",
     "output_type": "stream",
     "text": [
      "\n",
      "File: datasets/train/Normal/_99gyAUUgy4_000051_000061.mp4\n",
      "Ground Truth: Normal\n",
      "Top predictions:\n",
      "No people is in the room: 44.24%\n",
      "    Sitting down: 10.07%\n",
      "     Celebrating: 8.73%\n",
      "   Setting table: 8.50%\n",
      "  Using computer: 4.57%\n",
      "\n",
      "datasets/audios/train/Normal\n"
     ]
    },
    {
     "name": "stderr",
     "output_type": "stream",
     "text": [
      " 87%|████████▋ | 368/424 [01:47<00:25,  2.23it/s]"
     ]
    },
    {
     "name": "stdout",
     "output_type": "stream",
     "text": [
      "MoviePy - Writing audio in datasets/audios/train/Normal/_A0_T6M6ULQ_000004_000014.wav\n"
     ]
    },
    {
     "name": "stderr",
     "output_type": "stream",
     "text": [
      " 87%|████████▋ | 369/424 [01:47<00:23,  2.34it/s]"
     ]
    },
    {
     "name": "stdout",
     "output_type": "stream",
     "text": [
      "MoviePy - Done.\n",
      "\n",
      "File: datasets/train/Normal/_A0_T6M6ULQ_000004_000014.mp4\n",
      "Ground Truth: Normal\n",
      "Top predictions:\n",
      "No people is in the room: 42.09%\n",
      "   Doing laundry: 19.32%\n",
      "Playing with pets: 7.28%\n",
      "         Working: 5.91%\n",
      "     Celebrating: 4.78%\n",
      "\n"
     ]
    },
    {
     "name": "stderr",
     "output_type": "stream",
     "text": [
      " 87%|████████▋ | 369/424 [01:47<00:23,  2.34it/s]"
     ]
    },
    {
     "name": "stdout",
     "output_type": "stream",
     "text": [
      "datasets/audios/train/Normal\n",
      "MoviePy - Writing audio in datasets/audios/train/Normal/_cMswRMB3WU_000124_000134.wav\n"
     ]
    },
    {
     "name": "stderr",
     "output_type": "stream",
     "text": [
      " 87%|████████▋ | 369/424 [01:47<00:23,  2.34it/s]"
     ]
    },
    {
     "name": "stdout",
     "output_type": "stream",
     "text": [
      "MoviePy - Done.\n"
     ]
    },
    {
     "name": "stderr",
     "output_type": "stream",
     "text": [
      " 87%|████████▋ | 370/424 [01:48<00:24,  2.21it/s]"
     ]
    },
    {
     "name": "stdout",
     "output_type": "stream",
     "text": [
      "\n",
      "File: datasets/train/Normal/_cMswRMB3WU_000124_000134.mp4\n",
      "Ground Truth: Normal\n",
      "Top predictions:\n",
      "     Celebrating: 27.88%\n",
      "   Setting table: 18.39%\n",
      "         Dancing: 6.61%\n",
      "      Decorating: 6.11%\n",
      "Playing with pets: 5.42%\n",
      "\n",
      "datasets/audios/train/Normal\n"
     ]
    },
    {
     "name": "stderr",
     "output_type": "stream",
     "text": [
      " 87%|████████▋ | 370/424 [01:48<00:24,  2.21it/s]"
     ]
    },
    {
     "name": "stdout",
     "output_type": "stream",
     "text": [
      "MoviePy - Writing audio in datasets/audios/train/Normal/_cOAB4Neu5Q_000237_000247.wav\n"
     ]
    },
    {
     "name": "stderr",
     "output_type": "stream",
     "text": [
      " 88%|████████▊ | 371/424 [01:48<00:23,  2.30it/s]"
     ]
    },
    {
     "name": "stdout",
     "output_type": "stream",
     "text": [
      "MoviePy - Done.\n",
      "\n",
      "File: datasets/train/Normal/_cOAB4Neu5Q_000237_000247.mp4\n",
      "Ground Truth: Normal\n",
      "Top predictions:\n",
      "Playing board games: 42.26%\n",
      "         Reading: 18.05%\n",
      "No people is in the room: 7.98%\n",
      "         Talking: 5.37%\n",
      "      Exercising: 3.07%\n",
      "\n"
     ]
    },
    {
     "name": "stderr",
     "output_type": "stream",
     "text": [
      " 88%|████████▊ | 371/424 [01:48<00:23,  2.30it/s]"
     ]
    },
    {
     "name": "stdout",
     "output_type": "stream",
     "text": [
      "datasets/audios/train/Normal\n",
      "MoviePy - Writing audio in datasets/audios/train/Normal/_fDxRDV_D28_000077_000087.wav\n"
     ]
    },
    {
     "name": "stderr",
     "output_type": "stream",
     "text": [
      " 88%|████████▊ | 372/424 [01:48<00:21,  2.38it/s]"
     ]
    },
    {
     "name": "stdout",
     "output_type": "stream",
     "text": [
      "MoviePy - Done.\n",
      "\n",
      "File: datasets/train/Normal/_fDxRDV_D28_000077_000087.mp4\n",
      "Ground Truth: Normal\n",
      "Top predictions:\n",
      "   Setting table: 41.09%\n",
      "         Dancing: 20.02%\n",
      "No people is in the room: 10.99%\n",
      "    Sitting down: 5.57%\n",
      "          Dining: 4.74%\n",
      "\n"
     ]
    },
    {
     "name": "stderr",
     "output_type": "stream",
     "text": [
      " 88%|████████▊ | 372/424 [01:49<00:21,  2.38it/s]"
     ]
    },
    {
     "name": "stdout",
     "output_type": "stream",
     "text": [
      "datasets/audios/train/Normal\n",
      "MoviePy - Writing audio in datasets/audios/train/Normal/_hnn0Q5Ee0g_000037_000047.wav\n"
     ]
    },
    {
     "name": "stderr",
     "output_type": "stream",
     "text": [
      " 88%|████████▊ | 372/424 [01:49<00:21,  2.38it/s]"
     ]
    },
    {
     "name": "stdout",
     "output_type": "stream",
     "text": [
      "MoviePy - Done.\n"
     ]
    },
    {
     "name": "stderr",
     "output_type": "stream",
     "text": [
      " 88%|████████▊ | 373/424 [01:49<00:22,  2.29it/s]"
     ]
    },
    {
     "name": "stdout",
     "output_type": "stream",
     "text": [
      "\n",
      "File: datasets/train/Normal/_hnn0Q5Ee0g_000037_000047.mp4\n",
      "Ground Truth: Normal\n",
      "Top predictions:\n",
      "        Painting: 29.30%\n",
      "     Eating food: 14.69%\n",
      "        Knitting: 11.94%\n",
      "        Cleaning: 7.17%\n",
      "Playing with pets: 5.98%\n",
      "\n"
     ]
    },
    {
     "name": "stderr",
     "output_type": "stream",
     "text": [
      " 88%|████████▊ | 373/424 [01:49<00:22,  2.29it/s]"
     ]
    },
    {
     "name": "stdout",
     "output_type": "stream",
     "text": [
      "datasets/audios/train/Normal\n",
      "MoviePy - Writing audio in datasets/audios/train/Normal/_jSACF07scs_000041_000051.wav\n"
     ]
    },
    {
     "name": "stderr",
     "output_type": "stream",
     "text": [
      " 88%|████████▊ | 373/424 [01:49<00:22,  2.29it/s]"
     ]
    },
    {
     "name": "stdout",
     "output_type": "stream",
     "text": [
      "MoviePy - Done.\n"
     ]
    },
    {
     "name": "stderr",
     "output_type": "stream",
     "text": [
      " 88%|████████▊ | 374/424 [01:49<00:21,  2.36it/s]"
     ]
    },
    {
     "name": "stdout",
     "output_type": "stream",
     "text": [
      "\n",
      "File: datasets/train/Normal/_jSACF07scs_000041_000051.mp4\n",
      "Ground Truth: Normal\n",
      "Top predictions:\n",
      "No people is in the room: 55.93%\n",
      "    Sitting down: 21.78%\n",
      "   Mopping floor: 8.37%\n",
      "   Setting table: 4.77%\n",
      "   Doing laundry: 2.36%\n",
      "\n",
      "datasets/audios/train/Normal\n"
     ]
    },
    {
     "name": "stderr",
     "output_type": "stream",
     "text": [
      " 88%|████████▊ | 374/424 [01:49<00:21,  2.36it/s]"
     ]
    },
    {
     "name": "stdout",
     "output_type": "stream",
     "text": [
      "MoviePy - Writing audio in datasets/audios/train/Normal/_JuSKnGWkp0_000230_000240.wav\n"
     ]
    },
    {
     "name": "stderr",
     "output_type": "stream",
     "text": [
      " 88%|████████▊ | 375/424 [01:50<00:19,  2.45it/s]"
     ]
    },
    {
     "name": "stdout",
     "output_type": "stream",
     "text": [
      "MoviePy - Done.\n",
      "\n",
      "File: datasets/train/Normal/_JuSKnGWkp0_000230_000240.mp4\n",
      "Ground Truth: Normal\n",
      "Top predictions:\n",
      "  Using computer: 40.52%\n",
      "   Setting table: 29.57%\n",
      "No people is in the room: 5.35%\n",
      "     Celebrating: 3.72%\n",
      "         Reading: 3.67%\n",
      "\n"
     ]
    },
    {
     "name": "stderr",
     "output_type": "stream",
     "text": [
      " 88%|████████▊ | 375/424 [01:50<00:19,  2.45it/s]"
     ]
    },
    {
     "name": "stdout",
     "output_type": "stream",
     "text": [
      "datasets/audios/train/Normal\n",
      "MoviePy - Writing audio in datasets/audios/train/Normal/_Kcgee5kKS0_000057_000067.wav\n"
     ]
    },
    {
     "name": "stderr",
     "output_type": "stream",
     "text": [
      " 89%|████████▊ | 376/424 [01:50<00:19,  2.46it/s]"
     ]
    },
    {
     "name": "stdout",
     "output_type": "stream",
     "text": [
      "MoviePy - Done.\n",
      "\n",
      "File: datasets/train/Normal/_Kcgee5kKS0_000057_000067.mp4\n",
      "Ground Truth: Normal\n",
      "Top predictions:\n",
      "No people is in the room: 53.37%\n",
      "   Doing laundry: 13.26%\n",
      "   Setting table: 8.38%\n",
      "Playing with pets: 8.05%\n",
      "         Working: 2.26%\n",
      "\n"
     ]
    },
    {
     "name": "stderr",
     "output_type": "stream",
     "text": [
      " 89%|████████▊ | 376/424 [01:50<00:19,  2.46it/s]"
     ]
    },
    {
     "name": "stdout",
     "output_type": "stream",
     "text": [
      "datasets/audios/train/Normal\n",
      "MoviePy - Writing audio in datasets/audios/train/Normal/_L2i7A8dMTg_000020_000030.wav\n"
     ]
    },
    {
     "name": "stderr",
     "output_type": "stream",
     "text": [
      " 89%|████████▉ | 377/424 [01:50<00:19,  2.46it/s]"
     ]
    },
    {
     "name": "stdout",
     "output_type": "stream",
     "text": [
      "MoviePy - Done.\n",
      "\n",
      "File: datasets/train/Normal/_L2i7A8dMTg_000020_000030.mp4\n",
      "Ground Truth: Normal\n",
      "Top predictions:\n",
      "No people is in the room: 74.33%\n",
      "Playing with pets: 18.22%\n",
      "Playing board games: 1.40%\n",
      "     Eating food: 1.34%\n",
      "   Setting table: 1.23%\n",
      "\n"
     ]
    },
    {
     "name": "stderr",
     "output_type": "stream",
     "text": [
      " 89%|████████▉ | 377/424 [01:51<00:19,  2.46it/s]"
     ]
    },
    {
     "name": "stdout",
     "output_type": "stream",
     "text": [
      "datasets/audios/train/Normal\n",
      "MoviePy - Writing audio in datasets/audios/train/Normal/_ONRAEcQsqw_000101_000111.wav\n"
     ]
    },
    {
     "name": "stderr",
     "output_type": "stream",
     "text": [
      " 89%|████████▉ | 378/424 [01:51<00:17,  2.57it/s]"
     ]
    },
    {
     "name": "stdout",
     "output_type": "stream",
     "text": [
      "MoviePy - Done.\n",
      "\n",
      "File: datasets/train/Normal/_ONRAEcQsqw_000101_000111.mp4\n",
      "Ground Truth: Normal\n",
      "Top predictions:\n",
      "No people is in the room: 33.59%\n",
      "      Exercising: 8.30%\n",
      "         Working: 8.10%\n",
      "   Doing laundry: 7.33%\n",
      "   Mopping floor: 5.54%\n",
      "\n"
     ]
    },
    {
     "name": "stderr",
     "output_type": "stream",
     "text": [
      " 89%|████████▉ | 378/424 [01:51<00:17,  2.57it/s]"
     ]
    },
    {
     "name": "stdout",
     "output_type": "stream",
     "text": [
      "datasets/audios/train/Normal\n",
      "MoviePy - Writing audio in datasets/audios/train/Normal/_P7OzblP4KU_000002_000012.wav\n"
     ]
    },
    {
     "name": "stderr",
     "output_type": "stream",
     "text": [
      " 89%|████████▉ | 379/424 [01:51<00:17,  2.60it/s]"
     ]
    },
    {
     "name": "stdout",
     "output_type": "stream",
     "text": [
      "MoviePy - Done.\n",
      "\n",
      "File: datasets/train/Normal/_P7OzblP4KU_000002_000012.mp4\n",
      "Ground Truth: Normal\n",
      "Top predictions:\n",
      "       Showering: 57.79%\n",
      "No people is in the room: 26.84%\n",
      "   Doing laundry: 7.12%\n",
      "Playing with pets: 2.46%\n",
      "         Talking: 1.24%\n",
      "\n"
     ]
    },
    {
     "name": "stderr",
     "output_type": "stream",
     "text": [
      " 89%|████████▉ | 379/424 [01:51<00:17,  2.60it/s]"
     ]
    },
    {
     "name": "stdout",
     "output_type": "stream",
     "text": [
      "datasets/audios/train/Normal\n",
      "MoviePy - Writing audio in datasets/audios/train/Normal/_Q5f75CvNfw_000103_000113.wav\n"
     ]
    },
    {
     "name": "stderr",
     "output_type": "stream",
     "text": [
      " 90%|████████▉ | 380/424 [01:51<00:17,  2.58it/s]"
     ]
    },
    {
     "name": "stdout",
     "output_type": "stream",
     "text": [
      "MoviePy - Done.\n",
      "\n",
      "File: datasets/train/Normal/_Q5f75CvNfw_000103_000113.mp4\n",
      "Ground Truth: Normal\n",
      "Top predictions:\n",
      "  Using computer: 31.09%\n",
      "Organizing space: 8.75%\n",
      "      Decorating: 7.55%\n",
      "      Using drug: 7.05%\n",
      "        Painting: 6.05%\n",
      "\n"
     ]
    },
    {
     "name": "stderr",
     "output_type": "stream",
     "text": [
      " 90%|████████▉ | 380/424 [01:52<00:17,  2.58it/s]"
     ]
    },
    {
     "name": "stdout",
     "output_type": "stream",
     "text": [
      "datasets/audios/train/Normal\n",
      "MoviePy - Writing audio in datasets/audios/train/Normal/_SlPWSA-1bU_000144_000154.wav\n"
     ]
    },
    {
     "name": "stderr",
     "output_type": "stream",
     "text": [
      " 90%|████████▉ | 381/424 [01:52<00:16,  2.61it/s]"
     ]
    },
    {
     "name": "stdout",
     "output_type": "stream",
     "text": [
      "MoviePy - Done.\n",
      "\n",
      "File: datasets/train/Normal/_SlPWSA-1bU_000144_000154.mp4\n",
      "Ground Truth: Normal\n",
      "Top predictions:\n",
      "         Potluck: 35.77%\n",
      "     Celebrating: 17.94%\n",
      "No people is in the room: 11.31%\n",
      "         Dancing: 5.76%\n",
      "Playing board games: 5.37%\n",
      "\n"
     ]
    },
    {
     "name": "stderr",
     "output_type": "stream",
     "text": [
      " 90%|████████▉ | 381/424 [01:52<00:16,  2.61it/s]"
     ]
    },
    {
     "name": "stdout",
     "output_type": "stream",
     "text": [
      "datasets/audios/train/Normal\n",
      "MoviePy - Writing audio in datasets/audios/train/Normal/_SsAvyBagZw_000011_000021.wav\n"
     ]
    },
    {
     "name": "stderr",
     "output_type": "stream",
     "text": [
      " 90%|████████▉ | 381/424 [01:52<00:16,  2.61it/s]"
     ]
    },
    {
     "name": "stdout",
     "output_type": "stream",
     "text": [
      "MoviePy - Done.\n"
     ]
    },
    {
     "name": "stderr",
     "output_type": "stream",
     "text": [
      " 90%|█████████ | 382/424 [01:52<00:16,  2.60it/s]"
     ]
    },
    {
     "name": "stdout",
     "output_type": "stream",
     "text": [
      "\n",
      "File: datasets/train/Normal/_SsAvyBagZw_000011_000021.mp4\n",
      "Ground Truth: Normal\n",
      "Top predictions:\n",
      "              TV: 30.96%\n",
      "No people is in the room: 27.59%\n",
      "         Working: 21.47%\n",
      "  Using computer: 4.55%\n",
      "     Laying down: 3.26%\n",
      "\n",
      "datasets/audios/train/Normal\n"
     ]
    },
    {
     "name": "stderr",
     "output_type": "stream",
     "text": [
      " 90%|█████████ | 382/424 [01:52<00:16,  2.60it/s]"
     ]
    },
    {
     "name": "stdout",
     "output_type": "stream",
     "text": [
      "MoviePy - Writing audio in datasets/audios/train/Normal/_TqghEKOFAQ_000045_000055.wav\n"
     ]
    },
    {
     "name": "stderr",
     "output_type": "stream",
     "text": [
      " 90%|█████████ | 383/424 [01:53<00:15,  2.64it/s]"
     ]
    },
    {
     "name": "stdout",
     "output_type": "stream",
     "text": [
      "MoviePy - Done.\n",
      "\n",
      "File: datasets/train/Normal/_TqghEKOFAQ_000045_000055.mp4\n",
      "Ground Truth: Normal\n",
      "Top predictions:\n",
      "  Using computer: 49.86%\n",
      "      Using drug: 22.21%\n",
      "No people is in the room: 4.00%\n",
      "Organizing space: 2.96%\n",
      "   Setting table: 2.49%\n",
      "\n"
     ]
    },
    {
     "name": "stderr",
     "output_type": "stream",
     "text": [
      " 90%|█████████ | 383/424 [01:53<00:15,  2.64it/s]"
     ]
    },
    {
     "name": "stdout",
     "output_type": "stream",
     "text": [
      "datasets/audios/train/Normal\n",
      "MoviePy - Writing audio in datasets/audios/train/Normal/_WijOegXa_Q_000391_000401.wav\n"
     ]
    },
    {
     "name": "stderr",
     "output_type": "stream",
     "text": [
      " 90%|█████████ | 383/424 [01:53<00:15,  2.64it/s]"
     ]
    },
    {
     "name": "stdout",
     "output_type": "stream",
     "text": [
      "MoviePy - Done.\n"
     ]
    },
    {
     "name": "stderr",
     "output_type": "stream",
     "text": [
      " 91%|█████████ | 384/424 [01:53<00:16,  2.49it/s]"
     ]
    },
    {
     "name": "stdout",
     "output_type": "stream",
     "text": [
      "\n",
      "File: datasets/train/Normal/_WijOegXa_Q_000391_000401.mp4\n",
      "Ground Truth: Normal\n",
      "Top predictions:\n",
      "        Drinking: 67.84%\n",
      "     Eating food: 10.58%\n",
      "No people is in the room: 4.19%\n",
      "          Dining: 3.96%\n",
      "   Setting table: 3.00%\n",
      "\n"
     ]
    },
    {
     "name": "stderr",
     "output_type": "stream",
     "text": [
      " 91%|█████████ | 386/424 [01:53<00:09,  3.82it/s]"
     ]
    },
    {
     "name": "stdout",
     "output_type": "stream",
     "text": [
      "This video datasets/train/Smoke or Fire or Open flame/posVideo1.868.mp4 has no audio!\n",
      "This video datasets/train/Smoke or Fire or Open flame/posVideo10.869.mp4 has no audio!\n"
     ]
    },
    {
     "name": "stderr",
     "output_type": "stream",
     "text": [
      " 92%|█████████▏| 389/424 [01:54<00:05,  5.85it/s]"
     ]
    },
    {
     "name": "stdout",
     "output_type": "stream",
     "text": [
      "This video datasets/train/Smoke or Fire or Open flame/posVideo11.870.mp4 has no audio!\n",
      "This video datasets/train/Smoke or Fire or Open flame/posVideo2.871.mp4 has no audio!\n",
      "This video datasets/train/Smoke or Fire or Open flame/posVideo3.872.mp4 has no audio!\n"
     ]
    },
    {
     "name": "stderr",
     "output_type": "stream",
     "text": [
      " 92%|█████████▏| 391/424 [01:54<00:04,  7.20it/s]"
     ]
    },
    {
     "name": "stdout",
     "output_type": "stream",
     "text": [
      "This video datasets/train/Smoke or Fire or Open flame/posVideo4.873.mp4 has no audio!\n",
      "This video datasets/train/Smoke or Fire or Open flame/posVideo5.874.mp4 has no audio!\n",
      "This video datasets/train/Smoke or Fire or Open flame/posVideo6.875.mp4 has no audio!\n"
     ]
    },
    {
     "name": "stderr",
     "output_type": "stream",
     "text": [
      " 93%|█████████▎| 394/424 [01:54<00:03,  8.33it/s]"
     ]
    },
    {
     "name": "stdout",
     "output_type": "stream",
     "text": [
      "This video datasets/train/Smoke or Fire or Open flame/posVideo7.876.mp4 has no audio!\n",
      "This video datasets/train/Smoke or Fire or Open flame/posVideo8.877.mp4 has no audio!\n"
     ]
    },
    {
     "name": "stderr",
     "output_type": "stream",
     "text": [
      " 93%|█████████▎| 396/424 [01:54<00:03,  8.97it/s]"
     ]
    },
    {
     "name": "stdout",
     "output_type": "stream",
     "text": [
      "This video datasets/train/Smoke or Fire or Open flame/posVideo9.878.mp4 has no audio!\n",
      "This video datasets/train/Smoke or Fire or Open flame/Video102.mp4 has no audio!\n"
     ]
    },
    {
     "name": "stderr",
     "output_type": "stream",
     "text": [
      " 94%|█████████▍| 399/424 [01:55<00:02,  9.67it/s]"
     ]
    },
    {
     "name": "stdout",
     "output_type": "stream",
     "text": [
      "This video datasets/train/Smoke or Fire or Open flame/Video109.mp4 has no audio!\n",
      "This video datasets/train/Smoke or Fire or Open flame/Video11.mp4 has no audio!\n",
      "This video datasets/train/Smoke or Fire or Open flame/Video115.mp4 has no audio!\n"
     ]
    },
    {
     "name": "stderr",
     "output_type": "stream",
     "text": [
      " 94%|█████████▍| 400/424 [01:55<00:02,  9.71it/s]"
     ]
    },
    {
     "name": "stdout",
     "output_type": "stream",
     "text": [
      "This video datasets/train/Smoke or Fire or Open flame/Video134_1.mp4 has no audio!\n",
      "This video datasets/train/Smoke or Fire or Open flame/Video136.mp4 has no audio!\n"
     ]
    },
    {
     "name": "stderr",
     "output_type": "stream",
     "text": [
      " 95%|█████████▌| 404/424 [01:55<00:02,  9.60it/s]"
     ]
    },
    {
     "name": "stdout",
     "output_type": "stream",
     "text": [
      "This video datasets/train/Smoke or Fire or Open flame/Video14.mp4 has no audio!\n",
      "This video datasets/train/Smoke or Fire or Open flame/Video149.mp4 has no audio!\n",
      "This video datasets/train/Smoke or Fire or Open flame/Video150.mp4 has no audio!\n"
     ]
    },
    {
     "name": "stderr",
     "output_type": "stream",
     "text": [
      " 96%|█████████▌| 406/424 [01:55<00:01, 10.13it/s]"
     ]
    },
    {
     "name": "stdout",
     "output_type": "stream",
     "text": [
      "This video datasets/train/Smoke or Fire or Open flame/Video157.mp4 has no audio!\n",
      "This video datasets/train/Smoke or Fire or Open flame/Video170.mp4 has no audio!\n",
      "This video datasets/train/Smoke or Fire or Open flame/Video202.mp4 has no audio!\n"
     ]
    },
    {
     "name": "stderr",
     "output_type": "stream",
     "text": [
      " 97%|█████████▋| 410/424 [01:56<00:01, 10.11it/s]"
     ]
    },
    {
     "name": "stdout",
     "output_type": "stream",
     "text": [
      "This video datasets/train/Smoke or Fire or Open flame/Video209.mp4 has no audio!\n",
      "This video datasets/train/Smoke or Fire or Open flame/Video21.mp4 has no audio!\n",
      "This video datasets/train/Smoke or Fire or Open flame/Video234.mp4 has no audio!\n"
     ]
    },
    {
     "name": "stderr",
     "output_type": "stream",
     "text": [
      " 97%|█████████▋| 412/424 [01:56<00:01, 10.02it/s]"
     ]
    },
    {
     "name": "stdout",
     "output_type": "stream",
     "text": [
      "This video datasets/train/Smoke or Fire or Open flame/Video239.mp4 has no audio!\n",
      "This video datasets/train/Smoke or Fire or Open flame/Video257.mp4 has no audio!\n",
      "This video datasets/train/Smoke or Fire or Open flame/Video37.mp4 has no audio!\n"
     ]
    },
    {
     "name": "stderr",
     "output_type": "stream",
     "text": [
      " 98%|█████████▊| 414/424 [01:56<00:00, 10.19it/s]"
     ]
    },
    {
     "name": "stdout",
     "output_type": "stream",
     "text": [
      "This video datasets/train/Smoke or Fire or Open flame/Video51.mp4 has no audio!\n",
      "This video datasets/train/Smoke or Fire or Open flame/Video67.mp4 has no audio!\n"
     ]
    },
    {
     "name": "stderr",
     "output_type": "stream",
     "text": [
      " 98%|█████████▊| 416/424 [01:56<00:00,  9.82it/s]"
     ]
    },
    {
     "name": "stdout",
     "output_type": "stream",
     "text": [
      "This video datasets/train/Smoke or Fire or Open flame/Video73.mp4 has no audio!\n",
      "This video datasets/train/Smoke or Fire or Open flame/Video74.mp4 has no audio!\n"
     ]
    },
    {
     "name": "stderr",
     "output_type": "stream",
     "text": [
      " 99%|█████████▉| 419/424 [01:57<00:00,  9.38it/s]"
     ]
    },
    {
     "name": "stdout",
     "output_type": "stream",
     "text": [
      "This video datasets/train/Smoke or Fire or Open flame/Video75_1.mp4 has no audio!\n",
      "This video datasets/train/Smoke or Fire or Open flame/Video75_2.mp4 has no audio!\n"
     ]
    },
    {
     "name": "stderr",
     "output_type": "stream",
     "text": [
      " 99%|█████████▉| 421/424 [01:57<00:00,  8.47it/s]"
     ]
    },
    {
     "name": "stdout",
     "output_type": "stream",
     "text": [
      "This video datasets/train/Smoke or Fire or Open flame/Video78.mp4 has no audio!\n",
      "This video datasets/train/Smoke or Fire or Open flame/Video82.mp4 has no audio!\n"
     ]
    },
    {
     "name": "stderr",
     "output_type": "stream",
     "text": [
      "100%|██████████| 424/424 [01:57<00:00,  9.27it/s]"
     ]
    },
    {
     "name": "stdout",
     "output_type": "stream",
     "text": [
      "This video datasets/train/Smoke or Fire or Open flame/Video85.mp4 has no audio!\n",
      "This video datasets/train/Smoke or Fire or Open flame/Video91.mp4 has no audio!\n",
      "This video datasets/train/Smoke or Fire or Open flame/Video99.mp4 has no audio!\n"
     ]
    },
    {
     "name": "stderr",
     "output_type": "stream",
     "text": [
      "100%|██████████| 424/424 [01:57<00:00,  3.60it/s]\n"
     ]
    }
   ],
   "source": [
    "from tqdm import tqdm\n",
    "from collections import defaultdict\n",
    "import csv\n",
    "\n",
    "train_paths = list(dataset_root_path.glob(\"train/*/*\"))\n",
    "\n",
    "# Load model (Choose between versions '2022' or '2023')\n",
    "# The model weight will be downloaded automatically if `model_fp` is not specified\n",
    "clap_model = CLAP(version = '2023', use_cuda=True)\n",
    "\n",
    "correct = defaultdict(int)\n",
    "total = defaultdict(int)\n",
    "with open(output_csv_path, mode='w', newline='') as file:\n",
    "    writer = csv.writer(file)\n",
    "    writer.writerow([\"file path\", \"ground truth\", \"top1 pred\", \"confidence\", \"top2 pred\", \"confidence\", \"top3 pred\", \"confidence\", \"top4 pred\", \"confidence\", \"top5 pred\", \"confidence\"])\n",
    "\n",
    "    for path in tqdm(train_paths):\n",
    "        label = str(path).split('\\\\')[-2]\n",
    "        out_row = [path, label2id[label]]\n",
    "        total[label] += 1\n",
    "\n",
    "        # sanity format check\n",
    "        try: assert(str(path).endswith(\".mp4\") or str(path).endswith(\".wav\"))\n",
    "        except: print(f\"ERROR: {path} is not a supported file type\")\n",
    "\n",
    "        path = path.as_posix()\n",
    "        if str(path).endswith(\".mp4\"):\n",
    "            video = VideoFileClip(path)\n",
    "            if video.audio is None:\n",
    "                print(f\"This video {path} has no audio!\")\n",
    "                out_row.extend([-1, 0] * 5) # use -1 if no audio\n",
    "                writer.writerow(out_row)\n",
    "                continue\n",
    "            else:\n",
    "                audio_path = 'datasets/audios' + path[8:-3] + 'wav'\n",
    "                audio_dir = \"/\".join(audio_path.split(\"/\")[:-1])\n",
    "                print(audio_dir)\n",
    "                if not os.path.exists(audio_dir):\n",
    "                        os.makedirs(audio_dir)\n",
    "                audio_arr = video.audio.write_audiofile(audio_path, verbose=False)\n",
    "                # print(f\"Audio saved to {audio_path}\")\n",
    "        else:\n",
    "            audio_path = path\n",
    "        \n",
    "        # make CLAP predictions\n",
    "        with torch.no_grad():\n",
    "\n",
    "            # Extract text embeddings\n",
    "            text_embeddings = clap_model.get_text_embeddings([f\"This is a sound of {c}\"for c in class_labels])\n",
    "\n",
    "            # Extract audio embeddings\n",
    "            audio_embeddings = clap_model.get_audio_embeddings([audio_path])\n",
    "\n",
    "            # Compute similarity between audio and text embeddings \n",
    "            similarities = clap_model.compute_similarity(audio_embeddings, text_embeddings)\n",
    "\n",
    "        similarity = F.softmax(similarities, dim=1)\n",
    "        values, indices = similarity[0].topk(5)\n",
    "        pred_index = indices[0]\n",
    "\n",
    "        # Output the results\n",
    "        \n",
    "        print(\"\\nFile:\", path)\n",
    "        print(\"Ground Truth: {}\".format(audio_path.split('/')[-2]))\n",
    "        print(\"Top predictions:\")\n",
    "        for value, index in zip(values, indices):\n",
    "            print(f\"{class_labels[index]:>16s}: {100 * value.item():.2f}%\")\n",
    "            out_row.append(index.item())\n",
    "            out_row.append(round(value.item(), 6))\n",
    "        print(\"\")\n",
    "        writer.writerow(out_row)\n",
    "\n",
    "        if label == class_labels[pred_index]: \n",
    "            correct[label] += 1\n",
    "        \n"
   ]
  },
  {
   "cell_type": "code",
   "execution_count": 5,
   "metadata": {},
   "outputs": [
    {
     "name": "stdout",
     "output_type": "stream",
     "text": [
      "Crying: 36 / 50\n",
      "Falling down: 0 / 30\n",
      "Glass breaking: 35 / 53\n",
      "Gunshot: 32 / 51\n",
      "Normal: 0 / 200\n",
      "Smoke or Fire or Open flame: 0 / 40\n"
     ]
    }
   ],
   "source": [
    "for label in total:\n",
    "    print(f\"{label}: {correct[label]} / {total[label]}\")"
   ]
  }
 ],
 "metadata": {
  "kernelspec": {
   "display_name": "base",
   "language": "python",
   "name": "python3"
  },
  "language_info": {
   "codemirror_mode": {
    "name": "ipython",
    "version": 3
   },
   "file_extension": ".py",
   "mimetype": "text/x-python",
   "name": "python",
   "nbconvert_exporter": "python",
   "pygments_lexer": "ipython3",
   "version": "3.8.19"
  }
 },
 "nbformat": 4,
 "nbformat_minor": 2
}
