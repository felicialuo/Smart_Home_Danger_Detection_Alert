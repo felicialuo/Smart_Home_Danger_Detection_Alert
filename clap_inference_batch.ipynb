{
 "cells": [
  {
   "cell_type": "markdown",
   "metadata": {},
   "source": [
    "### Set the corresponding values in the cell below. Afterwards, just run the following cells"
   ]
  },
  {
   "cell_type": "code",
   "execution_count": 20,
   "metadata": {},
   "outputs": [],
   "source": [
    "import pathlib\n",
    "# Class label csv path\n",
    "labels_csv_path = 'datasets/home_labels.csv'\n",
    "# Datset folder\n",
    "dataset_root_path = pathlib.Path('datasets')\n",
    "# output result csv path\n",
    "output_csv_path = 'outputs/clap_results.csv'"
   ]
  },
  {
   "cell_type": "markdown",
   "metadata": {},
   "source": [
    "### Import libraries "
   ]
  },
  {
   "cell_type": "code",
   "execution_count": 21,
   "metadata": {},
   "outputs": [],
   "source": [
    "from msclap import CLAP\n",
    "import torch.nn.functional as F\n",
    "import numpy as np\n",
    "import torch\n",
    "import os\n",
    "from moviepy.editor import VideoFileClip"
   ]
  },
  {
   "cell_type": "markdown",
   "metadata": {},
   "source": [
    "### Get Audio from video"
   ]
  },
  {
   "cell_type": "markdown",
   "metadata": {},
   "source": [
    "### Read class Labels"
   ]
  },
  {
   "cell_type": "code",
   "execution_count": 22,
   "metadata": {},
   "outputs": [
    {
     "name": "stdout",
     "output_type": "stream",
     "text": [
      "70 Unique classes: ['No people is in the room', 'Studying', 'Typing', 'Using computer', 'Making phone calls', 'Play with phone/tablet', 'Playing with pets', 'Sitting down', 'Reading', 'Writing', 'Setting table', 'Eating food', 'Dining', 'Cooking', 'Sleeping', 'Laying down', 'Picking up objects', 'Brushing teeth', 'Showering', 'Playing music', 'TV', 'Cleaning', 'Doing laundry', 'Mopping floor', 'Vacumning', 'Organizing space', 'Sewing', 'Knitting', 'Decorating', 'Party', 'Chatting', 'Talking', 'Singing', 'Laughing', 'Speaking', 'Dancing', 'Drinking', 'Meditating', 'Drawing', 'Painting', 'Playing board games', 'Playing video games', 'Taking photos', 'Potluck', 'Working', 'Exercising', 'Walking', 'Running', 'Celebrating', 'Physical altercations', 'Verbal confrontations', 'Using drug', 'Theft or vandalism', 'Fighting', 'Domestic violence', 'Break in', 'Glass breaking', 'Unattended cooking', 'Smoke or Fire or Open flame', 'Smoking', 'Gunshot', 'Making noise', 'Falling down', 'Tripping', 'Crying', 'Suffocating', 'Choking', 'Furniture Collapse', 'Flooding', 'Normal'].\n"
     ]
    }
   ],
   "source": [
    "import csv\n",
    "\n",
    "label2id = {}\n",
    "id2label = {}\n",
    "with open(labels_csv_path, mode='r') as file:\n",
    "    csv_reader = csv.reader(file)\n",
    "\n",
    "    for i, row in enumerate(csv_reader):\n",
    "        class_name = row[0]\n",
    "        label2id[class_name] = i \n",
    "        id2label[i] = class_name\n",
    "\n",
    "class_labels = list(label2id.keys())\n",
    "\n",
    "print(f\"{len(class_labels)} Unique classes: {class_labels}.\")"
   ]
  },
  {
   "cell_type": "markdown",
   "metadata": {},
   "source": [
    "### CLAP inference with given audio"
   ]
  },
  {
   "cell_type": "code",
   "execution_count": 23,
   "metadata": {},
   "outputs": [
    {
     "name": "stderr",
     "output_type": "stream",
     "text": [
      "  0%|          | 0/422 [00:00<?, ?it/s]"
     ]
    },
    {
     "name": "stdout",
     "output_type": "stream",
     "text": [
      "datasets/audios/train/Crying\n",
      "MoviePy - Writing audio in datasets/audios/train/Crying/9q8mf6GUiiE_000009_000019.wav\n"
     ]
    },
    {
     "name": "stderr",
     "output_type": "stream",
     "text": [
      "  0%|          | 0/422 [00:00<?, ?it/s]"
     ]
    },
    {
     "name": "stdout",
     "output_type": "stream",
     "text": [
      "MoviePy - Done.\n"
     ]
    },
    {
     "name": "stderr",
     "output_type": "stream",
     "text": [
      "  0%|          | 1/422 [00:00<02:45,  2.54it/s]"
     ]
    },
    {
     "name": "stdout",
     "output_type": "stream",
     "text": [
      "\n",
      "File: datasets/train/Crying/9q8mf6GUiiE_000009_000019.mp4\n",
      "Ground Truth: Crying\n",
      "Top predictions:\n",
      "     Suffocating: 17.15%\n",
      "         Singing: 11.24%\n",
      "No people is in the room: 11.22%\n",
      "      Meditating: 10.67%\n",
      "     Celebrating: 6.50%\n",
      "\n"
     ]
    },
    {
     "name": "stderr",
     "output_type": "stream",
     "text": [
      "  0%|          | 1/422 [00:00<02:45,  2.54it/s]"
     ]
    },
    {
     "name": "stdout",
     "output_type": "stream",
     "text": [
      "datasets/audios/train/Crying\n",
      "MoviePy - Writing audio in datasets/audios/train/Crying/9s4bfiyc9Yc_000195_000205.wav\n"
     ]
    },
    {
     "name": "stderr",
     "output_type": "stream",
     "text": [
      "  0%|          | 2/422 [00:00<02:36,  2.68it/s]"
     ]
    },
    {
     "name": "stdout",
     "output_type": "stream",
     "text": [
      "MoviePy - Done.\n",
      "\n",
      "File: datasets/train/Crying/9s4bfiyc9Yc_000195_000205.mp4\n",
      "Ground Truth: Crying\n",
      "Top predictions:\n",
      "          Crying: 80.42%\n",
      "     Suffocating: 13.81%\n",
      "Playing with pets: 2.14%\n",
      "  Brushing teeth: 0.64%\n",
      "Domestic violence: 0.55%\n",
      "\n"
     ]
    },
    {
     "name": "stderr",
     "output_type": "stream",
     "text": [
      "  0%|          | 2/422 [00:00<02:36,  2.68it/s]"
     ]
    },
    {
     "name": "stdout",
     "output_type": "stream",
     "text": [
      "datasets/audios/train/Crying\n",
      "MoviePy - Writing audio in datasets/audios/train/Crying/a4xHx59uFgk_000003_000013.wav\n"
     ]
    },
    {
     "name": "stderr",
     "output_type": "stream",
     "text": [
      "  1%|          | 3/422 [00:01<02:26,  2.87it/s]"
     ]
    },
    {
     "name": "stdout",
     "output_type": "stream",
     "text": [
      "MoviePy - Done.\n",
      "\n",
      "File: datasets/train/Crying/a4xHx59uFgk_000003_000013.mp4\n",
      "Ground Truth: Crying\n",
      "Top predictions:\n",
      "          Crying: 40.74%\n",
      "No people is in the room: 17.49%\n",
      "Playing with pets: 5.88%\n",
      "     Suffocating: 5.76%\n",
      "         Talking: 4.18%\n",
      "\n"
     ]
    },
    {
     "name": "stderr",
     "output_type": "stream",
     "text": [
      "  1%|          | 3/422 [00:01<02:26,  2.87it/s]"
     ]
    },
    {
     "name": "stdout",
     "output_type": "stream",
     "text": [
      "datasets/audios/train/Crying\n",
      "MoviePy - Writing audio in datasets/audios/train/Crying/a50yimv7Lqg_000026_000036.wav\n"
     ]
    },
    {
     "name": "stderr",
     "output_type": "stream",
     "text": [
      "  1%|          | 4/422 [00:01<02:25,  2.88it/s]"
     ]
    },
    {
     "name": "stdout",
     "output_type": "stream",
     "text": [
      "MoviePy - Done.\n",
      "\n",
      "File: datasets/train/Crying/a50yimv7Lqg_000026_000036.mp4\n",
      "Ground Truth: Crying\n",
      "Top predictions:\n",
      "        Laughing: 46.58%\n",
      "     Celebrating: 17.09%\n",
      "Playing with pets: 15.59%\n",
      "         Singing: 7.55%\n",
      "     Eating food: 2.33%\n",
      "\n"
     ]
    },
    {
     "name": "stderr",
     "output_type": "stream",
     "text": [
      "  1%|          | 4/422 [00:01<02:25,  2.88it/s]"
     ]
    },
    {
     "name": "stdout",
     "output_type": "stream",
     "text": [
      "datasets/audios/train/Crying\n",
      "MoviePy - Writing audio in datasets/audios/train/Crying/Afhkn2h-wLE_000000_000010.wav\n"
     ]
    },
    {
     "name": "stderr",
     "output_type": "stream",
     "text": [
      "  1%|          | 5/422 [00:01<02:23,  2.90it/s]"
     ]
    },
    {
     "name": "stdout",
     "output_type": "stream",
     "text": [
      "MoviePy - Done.\n",
      "\n",
      "File: datasets/train/Crying/Afhkn2h-wLE_000000_000010.mp4\n",
      "Ground Truth: Crying\n",
      "Top predictions:\n",
      "          Crying: 39.94%\n",
      "Playing with pets: 24.78%\n",
      "     Suffocating: 15.53%\n",
      "     Celebrating: 2.77%\n",
      "        Laughing: 2.47%\n",
      "\n"
     ]
    },
    {
     "name": "stderr",
     "output_type": "stream",
     "text": [
      "  1%|          | 5/422 [00:01<02:23,  2.90it/s]"
     ]
    },
    {
     "name": "stdout",
     "output_type": "stream",
     "text": [
      "datasets/audios/train/Crying\n",
      "MoviePy - Writing audio in datasets/audios/train/Crying/aMAJ-DRt6bU_000116_000126.wav\n"
     ]
    },
    {
     "name": "stderr",
     "output_type": "stream",
     "text": [
      "  1%|▏         | 6/422 [00:02<02:18,  3.00it/s]"
     ]
    },
    {
     "name": "stdout",
     "output_type": "stream",
     "text": [
      "MoviePy - Done.\n",
      "\n",
      "File: datasets/train/Crying/aMAJ-DRt6bU_000116_000126.mp4\n",
      "Ground Truth: Crying\n",
      "Top predictions:\n",
      "        Sleeping: 43.88%\n",
      "          Crying: 23.86%\n",
      "        Laughing: 7.62%\n",
      "     Suffocating: 6.99%\n",
      "         Choking: 3.44%\n",
      "\n"
     ]
    },
    {
     "name": "stderr",
     "output_type": "stream",
     "text": [
      "  1%|▏         | 6/422 [00:02<02:18,  3.00it/s]"
     ]
    },
    {
     "name": "stdout",
     "output_type": "stream",
     "text": [
      "datasets/audios/train/Crying\n",
      "MoviePy - Writing audio in datasets/audios/train/Crying/a_yBdlVHrK8_000000_000010.wav\n"
     ]
    },
    {
     "name": "stderr",
     "output_type": "stream",
     "text": [
      "  2%|▏         | 7/422 [00:02<02:23,  2.89it/s]"
     ]
    },
    {
     "name": "stdout",
     "output_type": "stream",
     "text": [
      "MoviePy - Done.\n",
      "\n",
      "File: datasets/train/Crying/a_yBdlVHrK8_000000_000010.mp4\n",
      "Ground Truth: Crying\n",
      "Top predictions:\n",
      "          Crying: 84.82%\n",
      "     Suffocating: 12.62%\n",
      "Domestic violence: 0.40%\n",
      "Playing with pets: 0.30%\n",
      "         Choking: 0.28%\n",
      "\n"
     ]
    },
    {
     "name": "stderr",
     "output_type": "stream",
     "text": [
      "  2%|▏         | 7/422 [00:02<02:23,  2.89it/s]"
     ]
    },
    {
     "name": "stdout",
     "output_type": "stream",
     "text": [
      "datasets/audios/train/Crying\n",
      "MoviePy - Writing audio in datasets/audios/train/Crying/fKrcKrs-o_w_000000_000010.wav\n"
     ]
    },
    {
     "name": "stderr",
     "output_type": "stream",
     "text": [
      "  2%|▏         | 8/422 [00:02<02:18,  2.99it/s]"
     ]
    },
    {
     "name": "stdout",
     "output_type": "stream",
     "text": [
      "MoviePy - Done.\n",
      "\n",
      "File: datasets/train/Crying/fKrcKrs-o_w_000000_000010.mp4\n",
      "Ground Truth: Crying\n",
      "Top predictions:\n",
      "          Crying: 57.49%\n",
      "        Sleeping: 8.54%\n",
      "     Suffocating: 6.99%\n",
      "      Meditating: 2.81%\n",
      "Making phone calls: 2.55%\n",
      "\n"
     ]
    },
    {
     "name": "stderr",
     "output_type": "stream",
     "text": [
      "  2%|▏         | 8/422 [00:02<02:18,  2.99it/s]"
     ]
    },
    {
     "name": "stdout",
     "output_type": "stream",
     "text": [
      "datasets/audios/train/Crying\n",
      "MoviePy - Writing audio in datasets/audios/train/Crying/fLzGu07zA-I_000008_000018.wav\n"
     ]
    },
    {
     "name": "stderr",
     "output_type": "stream",
     "text": [
      "  2%|▏         | 9/422 [00:03<02:14,  3.07it/s]"
     ]
    },
    {
     "name": "stdout",
     "output_type": "stream",
     "text": [
      "MoviePy - Done.\n",
      "\n",
      "File: datasets/train/Crying/fLzGu07zA-I_000008_000018.mp4\n",
      "Ground Truth: Crying\n",
      "Top predictions:\n",
      "          Crying: 90.20%\n",
      "     Suffocating: 6.23%\n",
      "Making phone calls: 1.03%\n",
      "  Brushing teeth: 0.48%\n",
      "Domestic violence: 0.44%\n",
      "\n"
     ]
    },
    {
     "name": "stderr",
     "output_type": "stream",
     "text": [
      "  2%|▏         | 9/422 [00:03<02:14,  3.07it/s]"
     ]
    },
    {
     "name": "stdout",
     "output_type": "stream",
     "text": [
      "datasets/audios/train/Crying\n",
      "MoviePy - Writing audio in datasets/audios/train/Crying/FM06rkKxFms_000010_000020.wav\n"
     ]
    },
    {
     "name": "stderr",
     "output_type": "stream",
     "text": [
      "  2%|▏         | 10/422 [00:03<02:14,  3.07it/s]"
     ]
    },
    {
     "name": "stdout",
     "output_type": "stream",
     "text": [
      "MoviePy - Done.\n",
      "\n",
      "File: datasets/train/Crying/FM06rkKxFms_000010_000020.mp4\n",
      "Ground Truth: Crying\n",
      "Top predictions:\n",
      "          Crying: 57.20%\n",
      "     Suffocating: 21.99%\n",
      "Playing with pets: 11.32%\n",
      "     Celebrating: 1.58%\n",
      "Play with phone/tablet: 1.13%\n",
      "\n"
     ]
    },
    {
     "name": "stderr",
     "output_type": "stream",
     "text": [
      "  2%|▏         | 10/422 [00:03<02:14,  3.07it/s]"
     ]
    },
    {
     "name": "stdout",
     "output_type": "stream",
     "text": [
      "datasets/audios/train/Crying\n",
      "MoviePy - Writing audio in datasets/audios/train/Crying/G6QENvmNkRE_000000_000010.wav\n"
     ]
    },
    {
     "name": "stderr",
     "output_type": "stream",
     "text": [
      "  3%|▎         | 11/422 [00:03<02:11,  3.13it/s]"
     ]
    },
    {
     "name": "stdout",
     "output_type": "stream",
     "text": [
      "MoviePy - Done.\n",
      "\n",
      "File: datasets/train/Crying/G6QENvmNkRE_000000_000010.mp4\n",
      "Ground Truth: Crying\n",
      "Top predictions:\n",
      "Playing with pets: 37.03%\n",
      "          Crying: 15.16%\n",
      "        Laughing: 11.43%\n",
      "     Suffocating: 8.12%\n",
      "No people is in the room: 4.35%\n",
      "\n"
     ]
    },
    {
     "name": "stderr",
     "output_type": "stream",
     "text": [
      "  3%|▎         | 11/422 [00:03<02:11,  3.13it/s]"
     ]
    },
    {
     "name": "stdout",
     "output_type": "stream",
     "text": [
      "datasets/audios/train/Crying\n",
      "MoviePy - Writing audio in datasets/audios/train/Crying/Ga9lFu4gurw_000015_000025.wav\n"
     ]
    },
    {
     "name": "stderr",
     "output_type": "stream",
     "text": [
      "  3%|▎         | 12/422 [00:03<02:07,  3.21it/s]"
     ]
    },
    {
     "name": "stdout",
     "output_type": "stream",
     "text": [
      "MoviePy - Done.\n",
      "\n",
      "File: datasets/train/Crying/Ga9lFu4gurw_000015_000025.mp4\n",
      "Ground Truth: Crying\n",
      "Top predictions:\n",
      "          Crying: 74.48%\n",
      "     Suffocating: 13.48%\n",
      "Domestic violence: 5.36%\n",
      "Playing with pets: 2.47%\n",
      "Making phone calls: 1.06%\n",
      "\n"
     ]
    },
    {
     "name": "stderr",
     "output_type": "stream",
     "text": [
      "  3%|▎         | 12/422 [00:04<02:07,  3.21it/s]"
     ]
    },
    {
     "name": "stdout",
     "output_type": "stream",
     "text": [
      "datasets/audios/train/Crying\n",
      "MoviePy - Writing audio in datasets/audios/train/Crying/GnIgOUPiMqE_000023_000033.wav\n"
     ]
    },
    {
     "name": "stderr",
     "output_type": "stream",
     "text": [
      "  3%|▎         | 13/422 [00:04<02:06,  3.22it/s]"
     ]
    },
    {
     "name": "stdout",
     "output_type": "stream",
     "text": [
      "MoviePy - Done.\n",
      "\n",
      "File: datasets/train/Crying/GnIgOUPiMqE_000023_000033.mp4\n",
      "Ground Truth: Crying\n",
      "Top predictions:\n",
      "          Crying: 82.58%\n",
      "     Suffocating: 7.74%\n",
      "Making phone calls: 1.86%\n",
      "      Meditating: 1.30%\n",
      "Playing with pets: 1.23%\n",
      "\n"
     ]
    },
    {
     "name": "stderr",
     "output_type": "stream",
     "text": [
      "  3%|▎         | 13/422 [00:04<02:06,  3.22it/s]"
     ]
    },
    {
     "name": "stdout",
     "output_type": "stream",
     "text": [
      "datasets/audios/train/Crying\n",
      "MoviePy - Writing audio in datasets/audios/train/Crying/gpaANcmFUOI_000003_000013.wav\n"
     ]
    },
    {
     "name": "stderr",
     "output_type": "stream",
     "text": [
      "  3%|▎         | 14/422 [00:04<02:11,  3.10it/s]"
     ]
    },
    {
     "name": "stdout",
     "output_type": "stream",
     "text": [
      "MoviePy - Done.\n",
      "\n",
      "File: datasets/train/Crying/gpaANcmFUOI_000003_000013.mp4\n",
      "Ground Truth: Crying\n",
      "Top predictions:\n",
      "          Crying: 79.12%\n",
      "     Suffocating: 11.54%\n",
      "Playing with pets: 2.21%\n",
      "No people is in the room: 1.08%\n",
      "     Celebrating: 0.93%\n",
      "\n"
     ]
    },
    {
     "name": "stderr",
     "output_type": "stream",
     "text": [
      "  3%|▎         | 14/422 [00:04<02:11,  3.10it/s]"
     ]
    },
    {
     "name": "stdout",
     "output_type": "stream",
     "text": [
      "datasets/audios/train/Crying\n",
      "MoviePy - Writing audio in datasets/audios/train/Crying/G_-Hx6u40nE_000032_000042.wav\n"
     ]
    },
    {
     "name": "stderr",
     "output_type": "stream",
     "text": [
      "  4%|▎         | 15/422 [00:04<02:11,  3.10it/s]"
     ]
    },
    {
     "name": "stdout",
     "output_type": "stream",
     "text": [
      "MoviePy - Done.\n",
      "\n",
      "File: datasets/train/Crying/G_-Hx6u40nE_000032_000042.mp4\n",
      "Ground Truth: Crying\n",
      "Top predictions:\n",
      "          Crying: 76.35%\n",
      "     Suffocating: 10.14%\n",
      "No people is in the room: 1.99%\n",
      "Domestic violence: 1.93%\n",
      "Playing with pets: 1.70%\n",
      "\n"
     ]
    },
    {
     "name": "stderr",
     "output_type": "stream",
     "text": [
      "  4%|▎         | 15/422 [00:05<02:11,  3.10it/s]"
     ]
    },
    {
     "name": "stdout",
     "output_type": "stream",
     "text": [
      "datasets/audios/train/Crying\n",
      "MoviePy - Writing audio in datasets/audios/train/Crying/H85OllZBK70_000013_000023.wav\n"
     ]
    },
    {
     "name": "stderr",
     "output_type": "stream",
     "text": [
      "  4%|▍         | 16/422 [00:05<02:08,  3.15it/s]"
     ]
    },
    {
     "name": "stdout",
     "output_type": "stream",
     "text": [
      "MoviePy - Done.\n",
      "\n",
      "File: datasets/train/Crying/H85OllZBK70_000013_000023.mp4\n",
      "Ground Truth: Crying\n",
      "Top predictions:\n",
      "          Crying: 58.44%\n",
      "     Suffocating: 26.12%\n",
      "      Meditating: 5.30%\n",
      "     Celebrating: 1.54%\n",
      "No people is in the room: 1.46%\n",
      "\n"
     ]
    },
    {
     "name": "stderr",
     "output_type": "stream",
     "text": [
      "  4%|▍         | 16/422 [00:05<02:08,  3.15it/s]"
     ]
    },
    {
     "name": "stdout",
     "output_type": "stream",
     "text": [
      "datasets/audios/train/Crying\n",
      "MoviePy - Writing audio in datasets/audios/train/Crying/Ha3vwLcjMAs_000157_000167.wav\n"
     ]
    },
    {
     "name": "stderr",
     "output_type": "stream",
     "text": [
      "  4%|▍         | 17/422 [00:05<02:07,  3.18it/s]"
     ]
    },
    {
     "name": "stdout",
     "output_type": "stream",
     "text": [
      "MoviePy - Done.\n",
      "\n",
      "File: datasets/train/Crying/Ha3vwLcjMAs_000157_000167.mp4\n",
      "Ground Truth: Crying\n",
      "Top predictions:\n",
      "   Doing laundry: 21.83%\n",
      "     Suffocating: 20.89%\n",
      "          Crying: 16.19%\n",
      "  Brushing teeth: 14.14%\n",
      "No people is in the room: 4.40%\n",
      "\n"
     ]
    },
    {
     "name": "stderr",
     "output_type": "stream",
     "text": [
      "  4%|▍         | 17/422 [00:05<02:07,  3.18it/s]"
     ]
    },
    {
     "name": "stdout",
     "output_type": "stream",
     "text": [
      "datasets/audios/train/Crying\n",
      "MoviePy - Writing audio in datasets/audios/train/Crying/l5UWczmUVeY_000019_000029.wav\n"
     ]
    },
    {
     "name": "stderr",
     "output_type": "stream",
     "text": [
      "  4%|▍         | 18/422 [00:05<02:06,  3.20it/s]"
     ]
    },
    {
     "name": "stdout",
     "output_type": "stream",
     "text": [
      "MoviePy - Done.\n",
      "\n",
      "File: datasets/train/Crying/l5UWczmUVeY_000019_000029.mp4\n",
      "Ground Truth: Crying\n",
      "Top predictions:\n",
      "          Crying: 57.49%\n",
      "     Suffocating: 24.86%\n",
      "        Laughing: 4.96%\n",
      "        Sleeping: 2.47%\n",
      "Playing with pets: 1.77%\n",
      "\n"
     ]
    },
    {
     "name": "stderr",
     "output_type": "stream",
     "text": [
      "  4%|▍         | 18/422 [00:06<02:06,  3.20it/s]"
     ]
    },
    {
     "name": "stdout",
     "output_type": "stream",
     "text": [
      "datasets/audios/train/Crying\n",
      "MoviePy - Writing audio in datasets/audios/train/Crying/oH_BDY4bWp4_000000_000010.wav\n"
     ]
    },
    {
     "name": "stderr",
     "output_type": "stream",
     "text": [
      "  5%|▍         | 19/422 [00:06<02:04,  3.23it/s]"
     ]
    },
    {
     "name": "stdout",
     "output_type": "stream",
     "text": [
      "MoviePy - Done.\n",
      "\n",
      "File: datasets/train/Crying/oH_BDY4bWp4_000000_000010.mp4\n",
      "Ground Truth: Crying\n",
      "Top predictions:\n",
      "          Crying: 85.35%\n",
      "     Suffocating: 6.82%\n",
      "Domestic violence: 1.35%\n",
      "Making phone calls: 1.27%\n",
      "  Brushing teeth: 1.10%\n",
      "\n"
     ]
    },
    {
     "name": "stderr",
     "output_type": "stream",
     "text": [
      "  5%|▍         | 19/422 [00:06<02:04,  3.23it/s]"
     ]
    },
    {
     "name": "stdout",
     "output_type": "stream",
     "text": [
      "datasets/audios/train/Crying\n",
      "MoviePy - Writing audio in datasets/audios/train/Crying/Oi7DvmU-tF0_000000_000010.wav\n"
     ]
    },
    {
     "name": "stderr",
     "output_type": "stream",
     "text": [
      "  5%|▍         | 20/422 [00:06<02:07,  3.16it/s]"
     ]
    },
    {
     "name": "stdout",
     "output_type": "stream",
     "text": [
      "MoviePy - Done.\n",
      "\n",
      "File: datasets/train/Crying/Oi7DvmU-tF0_000000_000010.mp4\n",
      "Ground Truth: Crying\n",
      "Top predictions:\n",
      "          Crying: 89.67%\n",
      "     Suffocating: 7.61%\n",
      "Domestic violence: 0.92%\n",
      "Making phone calls: 0.26%\n",
      "  Brushing teeth: 0.23%\n",
      "\n"
     ]
    },
    {
     "name": "stderr",
     "output_type": "stream",
     "text": [
      "  5%|▍         | 20/422 [00:06<02:07,  3.16it/s]"
     ]
    },
    {
     "name": "stdout",
     "output_type": "stream",
     "text": [
      "datasets/audios/train/Crying\n",
      "MoviePy - Writing audio in datasets/audios/train/Crying/oNiWBhu1-JQ_000000_000010.wav\n"
     ]
    },
    {
     "name": "stderr",
     "output_type": "stream",
     "text": [
      "  5%|▍         | 21/422 [00:06<02:09,  3.11it/s]"
     ]
    },
    {
     "name": "stdout",
     "output_type": "stream",
     "text": [
      "MoviePy - Done.\n",
      "\n",
      "File: datasets/train/Crying/oNiWBhu1-JQ_000000_000010.mp4\n",
      "Ground Truth: Crying\n",
      "Top predictions:\n",
      "          Crying: 75.05%\n",
      "     Suffocating: 13.51%\n",
      "        Sleeping: 2.46%\n",
      "        Laughing: 1.26%\n",
      "Playing with pets: 1.12%\n",
      "\n"
     ]
    },
    {
     "name": "stderr",
     "output_type": "stream",
     "text": [
      "  5%|▍         | 21/422 [00:07<02:09,  3.11it/s]"
     ]
    },
    {
     "name": "stdout",
     "output_type": "stream",
     "text": [
      "datasets/audios/train/Crying\n",
      "MoviePy - Writing audio in datasets/audios/train/Crying/Pa4kyZAUTXQ_000017_000027.wav\n"
     ]
    },
    {
     "name": "stderr",
     "output_type": "stream",
     "text": [
      "  5%|▌         | 22/422 [00:07<02:05,  3.19it/s]"
     ]
    },
    {
     "name": "stdout",
     "output_type": "stream",
     "text": [
      "MoviePy - Done.\n",
      "\n",
      "File: datasets/train/Crying/Pa4kyZAUTXQ_000017_000027.mp4\n",
      "Ground Truth: Crying\n",
      "Top predictions:\n",
      "          Crying: 79.31%\n",
      "     Suffocating: 13.20%\n",
      "      Meditating: 1.43%\n",
      "        Sleeping: 1.18%\n",
      "Playing with pets: 0.96%\n",
      "\n"
     ]
    },
    {
     "name": "stderr",
     "output_type": "stream",
     "text": [
      "  5%|▌         | 22/422 [00:07<02:05,  3.19it/s]"
     ]
    },
    {
     "name": "stdout",
     "output_type": "stream",
     "text": [
      "datasets/audios/train/Crying\n",
      "MoviePy - Writing audio in datasets/audios/train/Crying/pg4HbzuxCIE_000022_000032.wav\n"
     ]
    },
    {
     "name": "stderr",
     "output_type": "stream",
     "text": [
      "  5%|▌         | 23/422 [00:07<02:05,  3.18it/s]"
     ]
    },
    {
     "name": "stdout",
     "output_type": "stream",
     "text": [
      "MoviePy - Done.\n",
      "\n",
      "File: datasets/train/Crying/pg4HbzuxCIE_000022_000032.mp4\n",
      "Ground Truth: Crying\n",
      "Top predictions:\n",
      "          Crying: 70.26%\n",
      "     Suffocating: 12.69%\n",
      "Playing with pets: 4.17%\n",
      "        Laughing: 2.06%\n",
      "         Choking: 1.66%\n",
      "\n"
     ]
    },
    {
     "name": "stderr",
     "output_type": "stream",
     "text": [
      "  5%|▌         | 23/422 [00:07<02:05,  3.18it/s]"
     ]
    },
    {
     "name": "stdout",
     "output_type": "stream",
     "text": [
      "datasets/audios/train/Crying\n",
      "MoviePy - Writing audio in datasets/audios/train/Crying/pHgqoFKTBDc_000004_000014.wav\n"
     ]
    },
    {
     "name": "stderr",
     "output_type": "stream",
     "text": [
      "  6%|▌         | 24/422 [00:07<02:04,  3.19it/s]"
     ]
    },
    {
     "name": "stdout",
     "output_type": "stream",
     "text": [
      "MoviePy - Done.\n",
      "\n",
      "File: datasets/train/Crying/pHgqoFKTBDc_000004_000014.mp4\n",
      "Ground Truth: Crying\n",
      "Top predictions:\n",
      "          Crying: 88.09%\n",
      "     Suffocating: 4.46%\n",
      "      Meditating: 1.18%\n",
      "        Sleeping: 1.08%\n",
      "Playing with pets: 0.66%\n",
      "\n"
     ]
    },
    {
     "name": "stderr",
     "output_type": "stream",
     "text": [
      "  6%|▌         | 24/422 [00:07<02:04,  3.19it/s]"
     ]
    },
    {
     "name": "stdout",
     "output_type": "stream",
     "text": [
      "datasets/audios/train/Crying\n",
      "MoviePy - Writing audio in datasets/audios/train/Crying/pZxdg1Stvb8_000000_000010.wav\n"
     ]
    },
    {
     "name": "stderr",
     "output_type": "stream",
     "text": [
      "  6%|▌         | 25/422 [00:08<02:02,  3.23it/s]"
     ]
    },
    {
     "name": "stdout",
     "output_type": "stream",
     "text": [
      "MoviePy - Done.\n",
      "\n",
      "File: datasets/train/Crying/pZxdg1Stvb8_000000_000010.mp4\n",
      "Ground Truth: Crying\n",
      "Top predictions:\n",
      "          Crying: 87.16%\n",
      "     Suffocating: 6.35%\n",
      "Domestic violence: 1.48%\n",
      "Making phone calls: 0.96%\n",
      "  Brushing teeth: 0.48%\n",
      "\n"
     ]
    },
    {
     "name": "stderr",
     "output_type": "stream",
     "text": [
      "  6%|▌         | 25/422 [00:08<02:02,  3.23it/s]"
     ]
    },
    {
     "name": "stdout",
     "output_type": "stream",
     "text": [
      "datasets/audios/train/Crying\n",
      "MoviePy - Writing audio in datasets/audios/train/Crying/QApH290EHcU_000035_000045.wav\n"
     ]
    },
    {
     "name": "stderr",
     "output_type": "stream",
     "text": [
      "  6%|▌         | 26/422 [00:08<02:01,  3.26it/s]"
     ]
    },
    {
     "name": "stdout",
     "output_type": "stream",
     "text": [
      "MoviePy - Done.\n",
      "\n",
      "File: datasets/train/Crying/QApH290EHcU_000035_000045.mp4\n",
      "Ground Truth: Crying\n",
      "Top predictions:\n",
      "          Crying: 22.64%\n",
      "        Laughing: 21.84%\n",
      "Playing with pets: 20.11%\n",
      "     Suffocating: 10.30%\n",
      "         Talking: 6.05%\n",
      "\n"
     ]
    },
    {
     "name": "stderr",
     "output_type": "stream",
     "text": [
      "  6%|▌         | 26/422 [00:08<02:01,  3.26it/s]"
     ]
    },
    {
     "name": "stdout",
     "output_type": "stream",
     "text": [
      "datasets/audios/train/Crying\n",
      "MoviePy - Writing audio in datasets/audios/train/Crying/qFOg87dNSh4_000001_000011.wav\n"
     ]
    },
    {
     "name": "stderr",
     "output_type": "stream",
     "text": [
      "  6%|▋         | 27/422 [00:08<02:00,  3.26it/s]"
     ]
    },
    {
     "name": "stdout",
     "output_type": "stream",
     "text": [
      "MoviePy - Done.\n",
      "\n",
      "File: datasets/train/Crying/qFOg87dNSh4_000001_000011.mp4\n",
      "Ground Truth: Crying\n",
      "Top predictions:\n",
      "          Crying: 89.50%\n",
      "     Suffocating: 7.72%\n",
      "Playing with pets: 0.56%\n",
      "Domestic violence: 0.41%\n",
      "        Laughing: 0.37%\n",
      "\n"
     ]
    },
    {
     "name": "stderr",
     "output_type": "stream",
     "text": [
      "  6%|▋         | 27/422 [00:08<02:00,  3.26it/s]"
     ]
    },
    {
     "name": "stdout",
     "output_type": "stream",
     "text": [
      "datasets/audios/train/Crying\n",
      "MoviePy - Writing audio in datasets/audios/train/Crying/quf-iuFOT4s_000000_000010.wav\n"
     ]
    },
    {
     "name": "stderr",
     "output_type": "stream",
     "text": [
      "  7%|▋         | 28/422 [00:09<02:08,  3.07it/s]"
     ]
    },
    {
     "name": "stdout",
     "output_type": "stream",
     "text": [
      "MoviePy - Done.\n",
      "\n",
      "File: datasets/train/Crying/quf-iuFOT4s_000000_000010.mp4\n",
      "Ground Truth: Crying\n",
      "Top predictions:\n",
      "        Laughing: 20.18%\n",
      "     Celebrating: 12.17%\n",
      "         Dancing: 10.62%\n",
      "Playing with pets: 10.07%\n",
      "          Crying: 7.78%\n",
      "\n"
     ]
    },
    {
     "name": "stderr",
     "output_type": "stream",
     "text": [
      "  7%|▋         | 28/422 [00:09<02:08,  3.07it/s]"
     ]
    },
    {
     "name": "stdout",
     "output_type": "stream",
     "text": [
      "datasets/audios/train/Crying\n",
      "MoviePy - Writing audio in datasets/audios/train/Crying/rCwNyAjkGPQ_000031_000041.wav\n"
     ]
    },
    {
     "name": "stderr",
     "output_type": "stream",
     "text": [
      "  7%|▋         | 29/422 [00:09<02:04,  3.15it/s]"
     ]
    },
    {
     "name": "stdout",
     "output_type": "stream",
     "text": [
      "MoviePy - Done.\n",
      "\n",
      "File: datasets/train/Crying/rCwNyAjkGPQ_000031_000041.mp4\n",
      "Ground Truth: Crying\n",
      "Top predictions:\n",
      "No people is in the room: 77.91%\n",
      "          Crying: 6.13%\n",
      "         Singing: 4.24%\n",
      "         Talking: 1.89%\n",
      "Making phone calls: 1.59%\n",
      "\n"
     ]
    },
    {
     "name": "stderr",
     "output_type": "stream",
     "text": [
      "  7%|▋         | 29/422 [00:09<02:04,  3.15it/s]"
     ]
    },
    {
     "name": "stdout",
     "output_type": "stream",
     "text": [
      "datasets/audios/train/Crying\n",
      "MoviePy - Writing audio in datasets/audios/train/Crying/sjZsedv-jG8_000008_000018.wav\n"
     ]
    },
    {
     "name": "stderr",
     "output_type": "stream",
     "text": [
      "  7%|▋         | 30/422 [00:09<02:03,  3.18it/s]"
     ]
    },
    {
     "name": "stdout",
     "output_type": "stream",
     "text": [
      "MoviePy - Done.\n",
      "\n",
      "File: datasets/train/Crying/sjZsedv-jG8_000008_000018.mp4\n",
      "Ground Truth: Crying\n",
      "Top predictions:\n",
      "        Laughing: 76.16%\n",
      "         Singing: 4.91%\n",
      "         Talking: 3.78%\n",
      "          Crying: 3.23%\n",
      "     Suffocating: 2.77%\n",
      "\n"
     ]
    },
    {
     "name": "stderr",
     "output_type": "stream",
     "text": [
      "  7%|▋         | 30/422 [00:09<02:03,  3.18it/s]"
     ]
    },
    {
     "name": "stdout",
     "output_type": "stream",
     "text": [
      "datasets/audios/train/Crying\n",
      "MoviePy - Writing audio in datasets/audios/train/Crying/tIm0yA_u5Qc_000000_000010.wav\n"
     ]
    },
    {
     "name": "stderr",
     "output_type": "stream",
     "text": [
      "  7%|▋         | 31/422 [00:09<02:05,  3.12it/s]"
     ]
    },
    {
     "name": "stdout",
     "output_type": "stream",
     "text": [
      "MoviePy - Done.\n",
      "\n",
      "File: datasets/train/Crying/tIm0yA_u5Qc_000000_000010.mp4\n",
      "Ground Truth: Crying\n",
      "Top predictions:\n",
      "        Laughing: 46.80%\n",
      "Playing with pets: 27.45%\n",
      "     Celebrating: 12.94%\n",
      "     Suffocating: 4.91%\n",
      "No people is in the room: 1.73%\n",
      "\n"
     ]
    },
    {
     "name": "stderr",
     "output_type": "stream",
     "text": [
      "  7%|▋         | 31/422 [00:10<02:05,  3.12it/s]"
     ]
    },
    {
     "name": "stdout",
     "output_type": "stream",
     "text": [
      "datasets/audios/train/Crying\n",
      "MoviePy - Writing audio in datasets/audios/train/Crying/tlY2Cy-VH_g_000005_000015.wav\n"
     ]
    },
    {
     "name": "stderr",
     "output_type": "stream",
     "text": [
      "  8%|▊         | 32/422 [00:10<02:02,  3.18it/s]"
     ]
    },
    {
     "name": "stdout",
     "output_type": "stream",
     "text": [
      "MoviePy - Done.\n",
      "\n",
      "File: datasets/train/Crying/tlY2Cy-VH_g_000005_000015.mp4\n",
      "Ground Truth: Crying\n",
      "Top predictions:\n",
      "          Crying: 53.60%\n",
      "     Suffocating: 37.49%\n",
      "        Sleeping: 1.49%\n",
      "      Meditating: 1.15%\n",
      "No people is in the room: 0.98%\n",
      "\n"
     ]
    },
    {
     "name": "stderr",
     "output_type": "stream",
     "text": [
      "  8%|▊         | 32/422 [00:10<02:02,  3.18it/s]"
     ]
    },
    {
     "name": "stdout",
     "output_type": "stream",
     "text": [
      "datasets/audios/train/Crying\n",
      "MoviePy - Writing audio in datasets/audios/train/Crying/TNl9NjfWZ1o_000084_000094.wav\n"
     ]
    },
    {
     "name": "stderr",
     "output_type": "stream",
     "text": [
      "  8%|▊         | 33/422 [00:10<02:01,  3.21it/s]"
     ]
    },
    {
     "name": "stdout",
     "output_type": "stream",
     "text": [
      "MoviePy - Done.\n",
      "\n",
      "File: datasets/train/Crying/TNl9NjfWZ1o_000084_000094.mp4\n",
      "Ground Truth: Crying\n",
      "Top predictions:\n",
      "          Crying: 46.93%\n",
      "     Suffocating: 29.32%\n",
      "Playing with pets: 13.10%\n",
      "Domestic violence: 2.10%\n",
      "      Meditating: 1.44%\n",
      "\n"
     ]
    },
    {
     "name": "stderr",
     "output_type": "stream",
     "text": [
      "  8%|▊         | 33/422 [00:10<02:01,  3.21it/s]"
     ]
    },
    {
     "name": "stdout",
     "output_type": "stream",
     "text": [
      "datasets/audios/train/Crying\n",
      "MoviePy - Writing audio in datasets/audios/train/Crying/u-oc-Eln_yc_000003_000013.wav\n"
     ]
    },
    {
     "name": "stderr",
     "output_type": "stream",
     "text": [
      "  8%|▊         | 34/422 [00:10<02:02,  3.17it/s]"
     ]
    },
    {
     "name": "stdout",
     "output_type": "stream",
     "text": [
      "MoviePy - Done.\n",
      "\n",
      "File: datasets/train/Crying/u-oc-Eln_yc_000003_000013.mp4\n",
      "Ground Truth: Crying\n",
      "Top predictions:\n",
      "          Crying: 46.80%\n",
      "     Suffocating: 24.82%\n",
      "No people is in the room: 10.44%\n",
      "Playing with pets: 3.91%\n",
      "Domestic violence: 3.88%\n",
      "\n"
     ]
    },
    {
     "name": "stderr",
     "output_type": "stream",
     "text": [
      "  8%|▊         | 34/422 [00:11<02:02,  3.17it/s]"
     ]
    },
    {
     "name": "stdout",
     "output_type": "stream",
     "text": [
      "datasets/audios/train/Crying\n",
      "MoviePy - Writing audio in datasets/audios/train/Crying/Ux2iImyAiL4_000001_000011.wav\n"
     ]
    },
    {
     "name": "stderr",
     "output_type": "stream",
     "text": [
      "  8%|▊         | 35/422 [00:11<02:00,  3.21it/s]"
     ]
    },
    {
     "name": "stdout",
     "output_type": "stream",
     "text": [
      "MoviePy - Done.\n",
      "\n",
      "File: datasets/train/Crying/Ux2iImyAiL4_000001_000011.mp4\n",
      "Ground Truth: Crying\n",
      "Top predictions:\n",
      "Playing with pets: 34.68%\n",
      "        Sleeping: 25.18%\n",
      "          Crying: 16.00%\n",
      "     Suffocating: 7.29%\n",
      "     Eating food: 5.25%\n",
      "\n"
     ]
    },
    {
     "name": "stderr",
     "output_type": "stream",
     "text": [
      "  8%|▊         | 35/422 [00:11<02:00,  3.21it/s]"
     ]
    },
    {
     "name": "stdout",
     "output_type": "stream",
     "text": [
      "datasets/audios/train/Crying\n",
      "MoviePy - Writing audio in datasets/audios/train/Crying/VcHysqkJPSE_000002_000012.wav\n"
     ]
    },
    {
     "name": "stderr",
     "output_type": "stream",
     "text": [
      "  9%|▊         | 36/422 [00:11<01:59,  3.22it/s]"
     ]
    },
    {
     "name": "stdout",
     "output_type": "stream",
     "text": [
      "MoviePy - Done.\n",
      "\n",
      "File: datasets/train/Crying/VcHysqkJPSE_000002_000012.mp4\n",
      "Ground Truth: Crying\n",
      "Top predictions:\n",
      "     Celebrating: 20.69%\n",
      "     Suffocating: 10.26%\n",
      "No people is in the room: 9.56%\n",
      "          Crying: 8.91%\n",
      "      Meditating: 8.73%\n",
      "\n"
     ]
    },
    {
     "name": "stderr",
     "output_type": "stream",
     "text": [
      "  9%|▊         | 36/422 [00:11<01:59,  3.22it/s]"
     ]
    },
    {
     "name": "stdout",
     "output_type": "stream",
     "text": [
      "datasets/audios/train/Crying\n",
      "MoviePy - Writing audio in datasets/audios/train/Crying/X3G7b1JNAfs_000000_000010.wav\n"
     ]
    },
    {
     "name": "stderr",
     "output_type": "stream",
     "text": [
      "  9%|▉         | 37/422 [00:11<01:59,  3.22it/s]"
     ]
    },
    {
     "name": "stdout",
     "output_type": "stream",
     "text": [
      "MoviePy - Done.\n",
      "\n",
      "File: datasets/train/Crying/X3G7b1JNAfs_000000_000010.mp4\n",
      "Ground Truth: Crying\n",
      "Top predictions:\n",
      "        Laughing: 57.08%\n",
      "     Celebrating: 11.23%\n",
      "Playing with pets: 10.17%\n",
      "         Talking: 3.51%\n",
      "          Crying: 3.15%\n",
      "\n"
     ]
    },
    {
     "name": "stderr",
     "output_type": "stream",
     "text": [
      "  9%|▉         | 37/422 [00:12<01:59,  3.22it/s]"
     ]
    },
    {
     "name": "stdout",
     "output_type": "stream",
     "text": [
      "datasets/audios/train/Crying\n",
      "MoviePy - Writing audio in datasets/audios/train/Crying/XBNgVxsrqo4_000010_000020.wav\n"
     ]
    },
    {
     "name": "stderr",
     "output_type": "stream",
     "text": [
      "  9%|▉         | 38/422 [00:12<01:58,  3.24it/s]"
     ]
    },
    {
     "name": "stdout",
     "output_type": "stream",
     "text": [
      "MoviePy - Done.\n",
      "\n",
      "File: datasets/train/Crying/XBNgVxsrqo4_000010_000020.mp4\n",
      "Ground Truth: Crying\n",
      "Top predictions:\n",
      "          Crying: 42.76%\n",
      "     Suffocating: 20.78%\n",
      "Playing with pets: 8.42%\n",
      "Domestic violence: 6.35%\n",
      "No people is in the room: 4.08%\n",
      "\n"
     ]
    },
    {
     "name": "stderr",
     "output_type": "stream",
     "text": [
      "  9%|▉         | 38/422 [00:12<01:58,  3.24it/s]"
     ]
    },
    {
     "name": "stdout",
     "output_type": "stream",
     "text": [
      "datasets/audios/train/Crying\n",
      "MoviePy - Writing audio in datasets/audios/train/Crying/xDLo1xt8P6U_000014_000024.wav\n"
     ]
    },
    {
     "name": "stderr",
     "output_type": "stream",
     "text": [
      "  9%|▉         | 39/422 [00:12<02:00,  3.17it/s]"
     ]
    },
    {
     "name": "stdout",
     "output_type": "stream",
     "text": [
      "MoviePy - Done.\n",
      "\n",
      "File: datasets/train/Crying/xDLo1xt8P6U_000014_000024.mp4\n",
      "Ground Truth: Crying\n",
      "Top predictions:\n",
      "          Crying: 59.05%\n",
      "     Suffocating: 22.47%\n",
      "No people is in the room: 6.03%\n",
      "Domestic violence: 3.37%\n",
      "      Meditating: 3.11%\n",
      "\n"
     ]
    },
    {
     "name": "stderr",
     "output_type": "stream",
     "text": [
      "  9%|▉         | 39/422 [00:12<02:00,  3.17it/s]"
     ]
    },
    {
     "name": "stdout",
     "output_type": "stream",
     "text": [
      "datasets/audios/train/Crying\n",
      "MoviePy - Writing audio in datasets/audios/train/Crying/yAgm_XnqBec_000010_000020.wav\n"
     ]
    },
    {
     "name": "stderr",
     "output_type": "stream",
     "text": [
      "  9%|▉         | 40/422 [00:12<02:03,  3.08it/s]"
     ]
    },
    {
     "name": "stdout",
     "output_type": "stream",
     "text": [
      "MoviePy - Done.\n",
      "\n",
      "File: datasets/train/Crying/yAgm_XnqBec_000010_000020.mp4\n",
      "Ground Truth: Crying\n",
      "Top predictions:\n",
      "          Crying: 62.57%\n",
      "     Suffocating: 17.85%\n",
      "Domestic violence: 10.56%\n",
      "Playing with pets: 3.57%\n",
      "No people is in the room: 2.93%\n",
      "\n"
     ]
    },
    {
     "name": "stderr",
     "output_type": "stream",
     "text": [
      "  9%|▉         | 40/422 [00:12<02:03,  3.08it/s]"
     ]
    },
    {
     "name": "stdout",
     "output_type": "stream",
     "text": [
      "datasets/audios/train/Crying\n",
      "MoviePy - Writing audio in datasets/audios/train/Crying/yDD0alN95O8_000015_000025.wav\n"
     ]
    },
    {
     "name": "stderr",
     "output_type": "stream",
     "text": [
      " 10%|▉         | 41/422 [00:13<02:02,  3.11it/s]"
     ]
    },
    {
     "name": "stdout",
     "output_type": "stream",
     "text": [
      "MoviePy - Done.\n",
      "\n",
      "File: datasets/train/Crying/yDD0alN95O8_000015_000025.mp4\n",
      "Ground Truth: Crying\n",
      "Top predictions:\n",
      "No people is in the room: 44.80%\n",
      "     Suffocating: 24.76%\n",
      "Domestic violence: 7.64%\n",
      "          Crying: 6.36%\n",
      "Playing with pets: 4.05%\n",
      "\n"
     ]
    },
    {
     "name": "stderr",
     "output_type": "stream",
     "text": [
      " 10%|▉         | 41/422 [00:13<02:02,  3.11it/s]"
     ]
    },
    {
     "name": "stdout",
     "output_type": "stream",
     "text": [
      "datasets/audios/train/Crying\n",
      "MoviePy - Writing audio in datasets/audios/train/Crying/yDKz5An0qd0_000024_000034.wav\n"
     ]
    },
    {
     "name": "stderr",
     "output_type": "stream",
     "text": [
      " 10%|▉         | 42/422 [00:13<02:00,  3.15it/s]"
     ]
    },
    {
     "name": "stdout",
     "output_type": "stream",
     "text": [
      "MoviePy - Done.\n",
      "\n",
      "File: datasets/train/Crying/yDKz5An0qd0_000024_000034.mp4\n",
      "Ground Truth: Crying\n",
      "Top predictions:\n",
      "          Crying: 60.22%\n",
      "        Laughing: 19.60%\n",
      "     Suffocating: 4.71%\n",
      "        Sleeping: 2.14%\n",
      "  Brushing teeth: 1.49%\n",
      "\n"
     ]
    },
    {
     "name": "stderr",
     "output_type": "stream",
     "text": [
      " 10%|▉         | 42/422 [00:13<02:00,  3.15it/s]"
     ]
    },
    {
     "name": "stdout",
     "output_type": "stream",
     "text": [
      "datasets/audios/train/Crying\n",
      "MoviePy - Writing audio in datasets/audios/train/Crying/zQWdo_Er87M_000008_000018.wav\n"
     ]
    },
    {
     "name": "stderr",
     "output_type": "stream",
     "text": [
      " 10%|█         | 43/422 [00:13<02:03,  3.07it/s]"
     ]
    },
    {
     "name": "stdout",
     "output_type": "stream",
     "text": [
      "MoviePy - Done.\n",
      "\n",
      "File: datasets/train/Crying/zQWdo_Er87M_000008_000018.mp4\n",
      "Ground Truth: Crying\n",
      "Top predictions:\n",
      "          Crying: 89.96%\n",
      "     Suffocating: 2.94%\n",
      "Making phone calls: 1.92%\n",
      "Domestic violence: 1.21%\n",
      "        Laughing: 1.11%\n",
      "\n"
     ]
    },
    {
     "name": "stderr",
     "output_type": "stream",
     "text": [
      " 10%|█         | 43/422 [00:13<02:03,  3.07it/s]"
     ]
    },
    {
     "name": "stdout",
     "output_type": "stream",
     "text": [
      "datasets/audios/train/Crying\n",
      "MoviePy - Writing audio in datasets/audios/train/Crying/ZrFW1iPMnig_000060_000070.wav\n"
     ]
    },
    {
     "name": "stderr",
     "output_type": "stream",
     "text": [
      " 10%|█         | 44/422 [00:14<02:01,  3.11it/s]"
     ]
    },
    {
     "name": "stdout",
     "output_type": "stream",
     "text": [
      "MoviePy - Done.\n",
      "\n",
      "File: datasets/train/Crying/ZrFW1iPMnig_000060_000070.mp4\n",
      "Ground Truth: Crying\n",
      "Top predictions:\n",
      "          Crying: 44.43%\n",
      "        Laughing: 14.61%\n",
      "Playing with pets: 14.38%\n",
      "     Suffocating: 13.04%\n",
      "  Brushing teeth: 2.60%\n",
      "\n"
     ]
    },
    {
     "name": "stderr",
     "output_type": "stream",
     "text": [
      " 10%|█         | 44/422 [00:14<02:01,  3.11it/s]"
     ]
    },
    {
     "name": "stdout",
     "output_type": "stream",
     "text": [
      "datasets/audios/train/Crying\n",
      "MoviePy - Writing audio in datasets/audios/train/Crying/zwOBqeFTgiU_000012_000022.wav\n"
     ]
    },
    {
     "name": "stderr",
     "output_type": "stream",
     "text": [
      " 11%|█         | 45/422 [00:14<01:59,  3.15it/s]"
     ]
    },
    {
     "name": "stdout",
     "output_type": "stream",
     "text": [
      "MoviePy - Done.\n",
      "\n",
      "File: datasets/train/Crying/zwOBqeFTgiU_000012_000022.mp4\n",
      "Ground Truth: Crying\n",
      "Top predictions:\n",
      "          Crying: 52.80%\n",
      "     Suffocating: 24.21%\n",
      "Playing with pets: 11.30%\n",
      "Domestic violence: 5.17%\n",
      "No people is in the room: 1.09%\n",
      "\n"
     ]
    },
    {
     "name": "stderr",
     "output_type": "stream",
     "text": [
      " 11%|█         | 45/422 [00:14<01:59,  3.15it/s]"
     ]
    },
    {
     "name": "stdout",
     "output_type": "stream",
     "text": [
      "datasets/audios/train/Crying\n",
      "MoviePy - Writing audio in datasets/audios/train/Crying/_ceBK5pQTrs_000033_000043.wav\n"
     ]
    },
    {
     "name": "stderr",
     "output_type": "stream",
     "text": [
      " 11%|█         | 46/422 [00:14<01:58,  3.19it/s]"
     ]
    },
    {
     "name": "stdout",
     "output_type": "stream",
     "text": [
      "MoviePy - Done.\n",
      "\n",
      "File: datasets/train/Crying/_ceBK5pQTrs_000033_000043.mp4\n",
      "Ground Truth: Crying\n",
      "Top predictions:\n",
      "          Crying: 80.84%\n",
      "     Suffocating: 11.79%\n",
      "Playing with pets: 1.58%\n",
      "Domestic violence: 1.18%\n",
      "No people is in the room: 0.79%\n",
      "\n"
     ]
    },
    {
     "name": "stderr",
     "output_type": "stream",
     "text": [
      " 11%|█         | 46/422 [00:14<01:58,  3.19it/s]"
     ]
    },
    {
     "name": "stdout",
     "output_type": "stream",
     "text": [
      "datasets/audios/train/Crying\n",
      "MoviePy - Writing audio in datasets/audios/train/Crying/_fVz9qyplBc_000078_000088.wav\n"
     ]
    },
    {
     "name": "stderr",
     "output_type": "stream",
     "text": [
      " 11%|█         | 47/422 [00:15<02:03,  3.03it/s]"
     ]
    },
    {
     "name": "stdout",
     "output_type": "stream",
     "text": [
      "MoviePy - Done.\n",
      "\n",
      "File: datasets/train/Crying/_fVz9qyplBc_000078_000088.mp4\n",
      "Ground Truth: Crying\n",
      "Top predictions:\n",
      "          Crying: 80.42%\n",
      "     Suffocating: 14.58%\n",
      "Playing with pets: 1.72%\n",
      "Domestic violence: 0.97%\n",
      "      Meditating: 0.39%\n",
      "\n"
     ]
    },
    {
     "name": "stderr",
     "output_type": "stream",
     "text": [
      " 11%|█         | 47/422 [00:15<02:03,  3.03it/s]"
     ]
    },
    {
     "name": "stdout",
     "output_type": "stream",
     "text": [
      "datasets/audios/train/Crying\n",
      "MoviePy - Writing audio in datasets/audios/train/Crying/_k0fnTiKEMc_000077_000087.wav\n"
     ]
    },
    {
     "name": "stderr",
     "output_type": "stream",
     "text": [
      " 11%|█▏        | 48/422 [00:15<02:02,  3.06it/s]"
     ]
    },
    {
     "name": "stdout",
     "output_type": "stream",
     "text": [
      "MoviePy - Done.\n",
      "\n",
      "File: datasets/train/Crying/_k0fnTiKEMc_000077_000087.mp4\n",
      "Ground Truth: Crying\n",
      "Top predictions:\n",
      "          Crying: 52.78%\n",
      "     Suffocating: 19.16%\n",
      "Playing with pets: 11.17%\n",
      "        Laughing: 3.88%\n",
      "No people is in the room: 3.41%\n",
      "\n"
     ]
    },
    {
     "name": "stderr",
     "output_type": "stream",
     "text": [
      " 11%|█▏        | 48/422 [00:15<02:02,  3.06it/s]"
     ]
    },
    {
     "name": "stdout",
     "output_type": "stream",
     "text": [
      "datasets/audios/train/Crying\n",
      "MoviePy - Writing audio in datasets/audios/train/Crying/_uPh9i-xaaE_000094_000104.wav\n"
     ]
    },
    {
     "name": "stderr",
     "output_type": "stream",
     "text": [
      " 12%|█▏        | 49/422 [00:15<01:58,  3.14it/s]"
     ]
    },
    {
     "name": "stdout",
     "output_type": "stream",
     "text": [
      "MoviePy - Done.\n",
      "\n",
      "File: datasets/train/Crying/_uPh9i-xaaE_000094_000104.mp4\n",
      "Ground Truth: Crying\n",
      "Top predictions:\n",
      "          Crying: 89.69%\n",
      "     Suffocating: 7.86%\n",
      "Playing with pets: 0.46%\n",
      "Making phone calls: 0.44%\n",
      "      Meditating: 0.29%\n",
      "\n"
     ]
    },
    {
     "name": "stderr",
     "output_type": "stream",
     "text": [
      " 12%|█▏        | 49/422 [00:15<01:58,  3.14it/s]"
     ]
    },
    {
     "name": "stdout",
     "output_type": "stream",
     "text": [
      "datasets/audios/train/Crying\n",
      "MoviePy - Writing audio in datasets/audios/train/Crying/_wRQiJdk2Rw_000004_000014.wav\n"
     ]
    },
    {
     "name": "stderr",
     "output_type": "stream",
     "text": [
      " 12%|█▏        | 50/422 [00:16<01:56,  3.19it/s]"
     ]
    },
    {
     "name": "stdout",
     "output_type": "stream",
     "text": [
      "MoviePy - Done.\n",
      "\n",
      "File: datasets/train/Crying/_wRQiJdk2Rw_000004_000014.mp4\n",
      "Ground Truth: Crying\n",
      "Top predictions:\n",
      "No people is in the room: 51.36%\n",
      "     Eating food: 16.42%\n",
      "          Crying: 8.97%\n",
      "        Laughing: 4.01%\n",
      "   Doing laundry: 2.38%\n",
      "\n",
      "This video datasets/train/Falling down/fall-01-cam0-rgb.mp4 has no audio!\n"
     ]
    },
    {
     "name": "stderr",
     "output_type": "stream",
     "text": [
      " 12%|█▏        | 52/422 [00:16<01:15,  4.90it/s]"
     ]
    },
    {
     "name": "stdout",
     "output_type": "stream",
     "text": [
      "This video datasets/train/Falling down/fall-02-cam0-rgb.mp4 has no audio!\n",
      "This video datasets/train/Falling down/fall-03-cam0-rgb.mp4 has no audio!\n"
     ]
    },
    {
     "name": "stderr",
     "output_type": "stream",
     "text": [
      " 13%|█▎        | 54/422 [00:16<00:56,  6.52it/s]"
     ]
    },
    {
     "name": "stdout",
     "output_type": "stream",
     "text": [
      "This video datasets/train/Falling down/fall-04-cam0-rgb.mp4 has no audio!\n"
     ]
    },
    {
     "name": "stderr",
     "output_type": "stream",
     "text": [
      " 13%|█▎        | 56/422 [00:16<00:45,  7.98it/s]"
     ]
    },
    {
     "name": "stdout",
     "output_type": "stream",
     "text": [
      "This video datasets/train/Falling down/fall-05-cam0-rgb.mp4 has no audio!\n",
      "This video datasets/train/Falling down/fall-06-cam0-rgb.mp4 has no audio!\n",
      "This video datasets/train/Falling down/fall-07-cam0-rgb.mp4 has no audio!\n"
     ]
    },
    {
     "name": "stderr",
     "output_type": "stream",
     "text": [
      " 14%|█▎        | 58/422 [00:16<00:39,  9.20it/s]"
     ]
    },
    {
     "name": "stdout",
     "output_type": "stream",
     "text": [
      "This video datasets/train/Falling down/fall-08-cam0-rgb.mp4 has no audio!\n",
      "This video datasets/train/Falling down/fall-09-cam0-rgb.mp4 has no audio!\n"
     ]
    },
    {
     "name": "stderr",
     "output_type": "stream",
     "text": [
      " 14%|█▍        | 60/422 [00:16<00:35, 10.14it/s]"
     ]
    },
    {
     "name": "stdout",
     "output_type": "stream",
     "text": [
      "This video datasets/train/Falling down/fall-10-cam0-rgb.mp4 has no audio!\n"
     ]
    },
    {
     "name": "stderr",
     "output_type": "stream",
     "text": [
      " 15%|█▍        | 62/422 [00:16<00:33, 10.83it/s]"
     ]
    },
    {
     "name": "stdout",
     "output_type": "stream",
     "text": [
      "This video datasets/train/Falling down/fall-11-cam0-rgb.mp4 has no audio!\n",
      "This video datasets/train/Falling down/fall-12-cam0-rgb.mp4 has no audio!\n",
      "This video datasets/train/Falling down/fall-13-cam0-rgb.mp4 has no audio!\n"
     ]
    },
    {
     "name": "stderr",
     "output_type": "stream",
     "text": [
      " 15%|█▌        | 64/422 [00:17<00:31, 11.38it/s]"
     ]
    },
    {
     "name": "stdout",
     "output_type": "stream",
     "text": [
      "This video datasets/train/Falling down/fall-14-cam0-rgb.mp4 has no audio!\n",
      "This video datasets/train/Falling down/fall-15-cam0-rgb.mp4 has no audio!\n"
     ]
    },
    {
     "name": "stderr",
     "output_type": "stream",
     "text": [
      " 16%|█▌        | 66/422 [00:17<00:30, 11.81it/s]"
     ]
    },
    {
     "name": "stdout",
     "output_type": "stream",
     "text": [
      "This video datasets/train/Falling down/fall-16-cam0-rgb.mp4 has no audio!\n"
     ]
    },
    {
     "name": "stderr",
     "output_type": "stream",
     "text": [
      " 16%|█▌        | 68/422 [00:17<00:29, 12.17it/s]"
     ]
    },
    {
     "name": "stdout",
     "output_type": "stream",
     "text": [
      "This video datasets/train/Falling down/fall-17-cam0-rgb.mp4 has no audio!\n",
      "This video datasets/train/Falling down/fall-18-cam0-rgb.mp4 has no audio!\n",
      "This video datasets/train/Falling down/fall-19-cam0-rgb.mp4 has no audio!\n"
     ]
    },
    {
     "name": "stderr",
     "output_type": "stream",
     "text": [
      " 17%|█▋        | 70/422 [00:17<00:28, 12.41it/s]"
     ]
    },
    {
     "name": "stdout",
     "output_type": "stream",
     "text": [
      "This video datasets/train/Falling down/fall-20-cam0-rgb.mp4 has no audio!\n",
      "This video datasets/train/Falling down/fall-21-cam0-rgb.mp4 has no audio!\n"
     ]
    },
    {
     "name": "stderr",
     "output_type": "stream",
     "text": [
      " 17%|█▋        | 72/422 [00:17<00:27, 12.56it/s]"
     ]
    },
    {
     "name": "stdout",
     "output_type": "stream",
     "text": [
      "This video datasets/train/Falling down/fall-22-cam0-rgb.mp4 has no audio!\n"
     ]
    },
    {
     "name": "stderr",
     "output_type": "stream",
     "text": [
      " 18%|█▊        | 74/422 [00:17<00:27, 12.65it/s]"
     ]
    },
    {
     "name": "stdout",
     "output_type": "stream",
     "text": [
      "This video datasets/train/Falling down/fall-23-cam0-rgb.mp4 has no audio!\n",
      "This video datasets/train/Falling down/fall-24-cam0-rgb.mp4 has no audio!\n",
      "This video datasets/train/Falling down/fall-25-cam0-rgb.mp4 has no audio!\n"
     ]
    },
    {
     "name": "stderr",
     "output_type": "stream",
     "text": [
      " 18%|█▊        | 76/422 [00:18<00:27, 12.75it/s]"
     ]
    },
    {
     "name": "stdout",
     "output_type": "stream",
     "text": [
      "This video datasets/train/Falling down/fall-26-cam0-rgb.mp4 has no audio!\n",
      "This video datasets/train/Falling down/fall-27-cam0-rgb.mp4 has no audio!\n"
     ]
    },
    {
     "name": "stderr",
     "output_type": "stream",
     "text": [
      " 18%|█▊        | 78/422 [00:18<00:26, 12.79it/s]"
     ]
    },
    {
     "name": "stdout",
     "output_type": "stream",
     "text": [
      "This video datasets/train/Falling down/fall-28-cam0-rgb.mp4 has no audio!\n"
     ]
    },
    {
     "name": "stderr",
     "output_type": "stream",
     "text": [
      " 19%|█▉        | 80/422 [00:18<00:26, 12.82it/s]"
     ]
    },
    {
     "name": "stdout",
     "output_type": "stream",
     "text": [
      "This video datasets/train/Falling down/fall-29-cam0-rgb.mp4 has no audio!\n",
      "This video datasets/train/Falling down/fall-30-cam0-rgb.mp4 has no audio!\n"
     ]
    },
    {
     "name": "stderr",
     "output_type": "stream",
     "text": [
      " 19%|█▉        | 80/422 [00:18<00:26, 12.82it/s]"
     ]
    },
    {
     "name": "stdout",
     "output_type": "stream",
     "text": [
      "datasets/audios/train/Glass breaking\n",
      "MoviePy - Writing audio in datasets/audios/train/Glass breaking/breaking_glass_1.wav\n"
     ]
    },
    {
     "name": "stderr",
     "output_type": "stream",
     "text": [
      " 19%|█▉        | 80/422 [00:18<00:26, 12.82it/s]"
     ]
    },
    {
     "name": "stdout",
     "output_type": "stream",
     "text": [
      "MoviePy - Done.\n",
      "\n",
      "File: datasets/train/Glass breaking/breaking_glass_1.mp4\n",
      "Ground Truth: Glass breaking\n",
      "Top predictions:\n",
      "  Glass breaking: 88.73%\n",
      "Furniture Collapse: 6.38%\n",
      "Theft or vandalism: 4.26%\n",
      "        Break in: 0.42%\n",
      "    Falling down: 0.06%\n",
      "\n"
     ]
    },
    {
     "name": "stderr",
     "output_type": "stream",
     "text": [
      " 19%|█▉        | 80/422 [00:19<00:26, 12.82it/s]"
     ]
    },
    {
     "name": "stdout",
     "output_type": "stream",
     "text": [
      "datasets/audios/train/Glass breaking\n",
      "MoviePy - Writing audio in datasets/audios/train/Glass breaking/breaking_glass_2.wav\n"
     ]
    },
    {
     "name": "stderr",
     "output_type": "stream",
     "text": [
      " 19%|█▉        | 82/422 [00:19<01:04,  5.25it/s]"
     ]
    },
    {
     "name": "stdout",
     "output_type": "stream",
     "text": [
      "MoviePy - Done.\n",
      "\n",
      "File: datasets/train/Glass breaking/breaking_glass_2.mp4\n",
      "Ground Truth: Glass breaking\n",
      "Top predictions:\n",
      "Furniture Collapse: 71.62%\n",
      "  Glass breaking: 25.65%\n",
      "    Falling down: 1.95%\n",
      "        Break in: 0.57%\n",
      "Theft or vandalism: 0.07%\n",
      "\n",
      "\n",
      "File: datasets/train/Glass breaking/glass_break_1.wav\n",
      "Ground Truth: Glass breaking\n",
      "Top predictions:\n",
      "  Glass breaking: 86.63%\n",
      "        Break in: 8.08%\n",
      "Theft or vandalism: 3.44%\n",
      "Furniture Collapse: 0.77%\n",
      "Picking up objects: 0.67%\n",
      "\n"
     ]
    },
    {
     "name": "stderr",
     "output_type": "stream",
     "text": [
      " 20%|█▉        | 84/422 [00:19<00:54,  6.23it/s]"
     ]
    },
    {
     "name": "stdout",
     "output_type": "stream",
     "text": [
      "\n",
      "File: datasets/train/Glass breaking/glass_break_2.wav\n",
      "Ground Truth: Glass breaking\n",
      "Top predictions:\n",
      "  Glass breaking: 92.30%\n",
      "        Break in: 7.41%\n",
      "Furniture Collapse: 0.17%\n",
      "Theft or vandalism: 0.06%\n",
      "    Falling down: 0.02%\n",
      "\n",
      "\n",
      "File: datasets/train/Glass breaking/glass_break_3.wav\n",
      "Ground Truth: Glass breaking\n",
      "Top predictions:\n",
      "  Glass breaking: 98.19%\n",
      "        Break in: 1.75%\n",
      "Furniture Collapse: 0.02%\n",
      "Theft or vandalism: 0.01%\n",
      "     Celebrating: 0.00%\n",
      "\n"
     ]
    },
    {
     "name": "stderr",
     "output_type": "stream",
     "text": [
      " 20%|██        | 86/422 [00:19<00:46,  7.19it/s]"
     ]
    },
    {
     "name": "stdout",
     "output_type": "stream",
     "text": [
      "\n",
      "File: datasets/train/Glass breaking/glass_break_4.wav\n",
      "Ground Truth: Glass breaking\n",
      "Top predictions:\n",
      "  Glass breaking: 91.25%\n",
      "        Break in: 6.78%\n",
      "Theft or vandalism: 1.56%\n",
      "Furniture Collapse: 0.21%\n",
      "      Decorating: 0.04%\n",
      "\n"
     ]
    },
    {
     "name": "stderr",
     "output_type": "stream",
     "text": [
      " 21%|██        | 88/422 [00:19<00:41,  8.11it/s]"
     ]
    },
    {
     "name": "stdout",
     "output_type": "stream",
     "text": [
      "\n",
      "File: datasets/train/Glass breaking/glass_break_5.wav\n",
      "Ground Truth: Glass breaking\n",
      "Top predictions:\n",
      "  Glass breaking: 97.23%\n",
      "        Break in: 2.48%\n",
      "Theft or vandalism: 0.13%\n",
      "Furniture Collapse: 0.13%\n",
      "    Falling down: 0.01%\n",
      "\n",
      "\n",
      "File: datasets/train/Glass breaking/mixture_evaltest_glassbreak_007_d5cb28f674c6a53e8553499a58d776cf.wav\n",
      "Ground Truth: Glass breaking\n",
      "Top predictions:\n",
      "No people is in the room: 89.98%\n",
      "         Talking: 3.65%\n",
      "        Chatting: 2.47%\n",
      "         Working: 0.63%\n",
      "     Eating food: 0.49%\n",
      "\n",
      "\n",
      "File: datasets/train/Glass breaking/mixture_evaltest_glassbreak_010_d39ba26fef0985d0d8673eb0c3a20680.wav\n",
      "Ground Truth: Glass breaking\n",
      "Top predictions:\n",
      "         Walking: 33.05%\n",
      "        Knitting: 8.79%\n",
      "   Taking photos: 8.56%\n",
      "      Meditating: 7.44%\n",
      "    Sitting down: 6.75%\n",
      "\n"
     ]
    },
    {
     "name": "stderr",
     "output_type": "stream",
     "text": [
      " 21%|██▏       | 90/422 [00:19<00:37,  8.89it/s]"
     ]
    },
    {
     "name": "stdout",
     "output_type": "stream",
     "text": [
      "\n",
      "File: datasets/train/Glass breaking/mixture_evaltest_glassbreak_021_ed591cef512b508455115a2aef138cff.wav\n",
      "Ground Truth: Glass breaking\n",
      "Top predictions:\n",
      "  Glass breaking: 97.80%\n",
      "        Break in: 0.65%\n",
      "Furniture Collapse: 0.65%\n",
      "No people is in the room: 0.31%\n",
      "   Setting table: 0.31%\n",
      "\n",
      "\n",
      "File: datasets/train/Glass breaking/mixture_evaltest_glassbreak_029_809d27b667b151eca0bd0eddd987d1c4.wav\n",
      "Ground Truth: Glass breaking\n",
      "Top predictions:\n",
      "No people is in the room: 64.50%\n",
      "   Doing laundry: 26.22%\n",
      "         Working: 2.33%\n",
      "  Using computer: 0.98%\n",
      "   Mopping floor: 0.55%\n",
      "\n"
     ]
    },
    {
     "name": "stderr",
     "output_type": "stream",
     "text": [
      " 22%|██▏       | 92/422 [00:20<00:34,  9.56it/s]"
     ]
    },
    {
     "name": "stdout",
     "output_type": "stream",
     "text": [
      "\n",
      "File: datasets/train/Glass breaking/mixture_evaltest_glassbreak_031_3c02e8e5d8e6b1418d99db6d315538e9.wav\n",
      "Ground Truth: Glass breaking\n",
      "Top predictions:\n",
      "No people is in the room: 38.20%\n",
      "         Working: 14.43%\n",
      "         Walking: 11.90%\n",
      "   Doing laundry: 11.25%\n",
      "     Eating food: 6.18%\n",
      "\n"
     ]
    },
    {
     "name": "stderr",
     "output_type": "stream",
     "text": [
      " 22%|██▏       | 94/422 [00:20<00:32, 10.17it/s]"
     ]
    },
    {
     "name": "stdout",
     "output_type": "stream",
     "text": [
      "\n",
      "File: datasets/train/Glass breaking/mixture_evaltest_glassbreak_041_d33afde0de2acf62af3ccffbaef6b2a3.wav\n",
      "Ground Truth: Glass breaking\n",
      "Top predictions:\n",
      "No people is in the room: 75.33%\n",
      "   Doing laundry: 15.48%\n",
      "         Walking: 2.24%\n",
      "         Talking: 1.52%\n",
      "   Taking photos: 0.77%\n",
      "\n",
      "\n",
      "File: datasets/train/Glass breaking/mixture_evaltest_glassbreak_084_b09f52a98a49dd2b15e973503f7a0c7a.wav\n",
      "Ground Truth: Glass breaking\n",
      "Top predictions:\n",
      "      Decorating: 53.89%\n",
      "   Setting table: 21.87%\n",
      "No people is in the room: 6.25%\n",
      "         Cooking: 2.18%\n",
      "       Showering: 2.03%\n",
      "\n",
      "\n",
      "File: datasets/train/Glass breaking/mixture_evaltest_glassbreak_085_d3439ccb762e3ca64658fb718ad759e6.wav\n",
      "Ground Truth: Glass breaking\n",
      "Top predictions:\n",
      "No people is in the room: 96.75%\n",
      "         Working: 0.85%\n",
      "    Sitting down: 0.58%\n",
      "   Doing laundry: 0.27%\n",
      "     Eating food: 0.25%\n",
      "\n"
     ]
    },
    {
     "name": "stderr",
     "output_type": "stream",
     "text": [
      " 23%|██▎       | 96/422 [00:20<00:30, 10.70it/s]"
     ]
    },
    {
     "name": "stdout",
     "output_type": "stream",
     "text": [
      "\n",
      "File: datasets/train/Glass breaking/mixture_evaltest_glassbreak_106_c0350d3ea60fe895d434678f8e5e93c5.wav\n",
      "Ground Truth: Glass breaking\n",
      "Top predictions:\n",
      "No people is in the room: 99.15%\n",
      "    Sitting down: 0.30%\n",
      "         Working: 0.15%\n",
      "     Eating food: 0.07%\n",
      "   Setting table: 0.05%\n",
      "\n",
      "\n",
      "File: datasets/train/Glass breaking/mixture_evaltest_glassbreak_123_b2f92db15d0488c29eabcb31a0c19b0e.wav\n",
      "Ground Truth: Glass breaking\n",
      "Top predictions:\n",
      "No people is in the room: 90.14%\n",
      "   Taking photos: 1.94%\n",
      "         Talking: 1.69%\n",
      "   Doing laundry: 1.50%\n",
      "         Walking: 0.49%\n",
      "\n"
     ]
    },
    {
     "name": "stderr",
     "output_type": "stream",
     "text": [
      " 23%|██▎       | 98/422 [00:20<00:29, 11.10it/s]"
     ]
    },
    {
     "name": "stdout",
     "output_type": "stream",
     "text": [
      "\n",
      "File: datasets/train/Glass breaking/mixture_evaltest_glassbreak_133_47478d4e1e57ffcfdafc0f0d44afc1f6.wav\n",
      "Ground Truth: Glass breaking\n",
      "Top predictions:\n",
      "No people is in the room: 63.48%\n",
      "         Walking: 13.09%\n",
      "     Eating food: 5.81%\n",
      "         Talking: 4.61%\n",
      "        Drinking: 3.19%\n",
      "\n"
     ]
    },
    {
     "name": "stderr",
     "output_type": "stream",
     "text": [
      " 24%|██▎       | 100/422 [00:20<00:28, 11.39it/s]"
     ]
    },
    {
     "name": "stdout",
     "output_type": "stream",
     "text": [
      "\n",
      "File: datasets/train/Glass breaking/mixture_evaltest_glassbreak_134_f0e8808559de51919375259ae6bcabd1.wav\n",
      "Ground Truth: Glass breaking\n",
      "Top predictions:\n",
      "No people is in the room: 89.54%\n",
      "         Smoking: 2.83%\n",
      "    Making noise: 1.85%\n",
      "      Meditating: 1.23%\n",
      "      Exercising: 0.49%\n",
      "\n",
      "\n",
      "File: datasets/train/Glass breaking/mixture_evaltest_glassbreak_152_b6fbf1dcf100211ff7160d6fe55ae1da.wav\n",
      "Ground Truth: Glass breaking\n",
      "Top predictions:\n",
      "No people is in the room: 91.59%\n",
      "          Dining: 1.90%\n",
      "         Talking: 1.54%\n",
      "        Chatting: 1.39%\n",
      "     Eating food: 0.89%\n",
      "\n",
      "\n",
      "File: datasets/train/Glass breaking/mixture_evaltest_glassbreak_159_f83fd055358af544642b5fc3ece49e88.wav\n",
      "Ground Truth: Glass breaking\n",
      "Top predictions:\n",
      "No people is in the room: 77.04%\n",
      "   Setting table: 8.75%\n",
      "      Decorating: 3.87%\n",
      "     Eating food: 3.29%\n",
      "  Glass breaking: 1.17%\n",
      "\n"
     ]
    },
    {
     "name": "stderr",
     "output_type": "stream",
     "text": [
      " 24%|██▍       | 102/422 [00:20<00:27, 11.51it/s]"
     ]
    },
    {
     "name": "stdout",
     "output_type": "stream",
     "text": [
      "\n",
      "File: datasets/train/Glass breaking/mixture_evaltest_glassbreak_192_c15fb1103080ff542a231e5666d0ebda.wav\n",
      "Ground Truth: Glass breaking\n",
      "Top predictions:\n",
      "  Glass breaking: 68.04%\n",
      "Picking up objects: 10.46%\n",
      "Theft or vandalism: 8.49%\n",
      "         Smoking: 1.63%\n",
      "   Taking photos: 1.62%\n",
      "\n",
      "\n",
      "File: datasets/train/Glass breaking/mixture_evaltest_glassbreak_195_1d058613c2d9963230f48a8d76b6dcff.wav\n",
      "Ground Truth: Glass breaking\n",
      "Top predictions:\n",
      "         Walking: 25.36%\n",
      "        Knitting: 17.75%\n",
      "    Sitting down: 10.85%\n",
      "      Meditating: 5.10%\n",
      "   Taking photos: 4.10%\n",
      "\n"
     ]
    },
    {
     "name": "stderr",
     "output_type": "stream",
     "text": [
      " 25%|██▍       | 104/422 [00:21<00:27, 11.70it/s]"
     ]
    },
    {
     "name": "stdout",
     "output_type": "stream",
     "text": [
      "\n",
      "File: datasets/train/Glass breaking/mixture_evaltest_glassbreak_216_6bc7ce3de687324fae214bcc3d9deb97.wav\n",
      "Ground Truth: Glass breaking\n",
      "Top predictions:\n",
      "No people is in the room: 55.31%\n",
      "        Knitting: 19.67%\n",
      "         Walking: 7.19%\n",
      "         Singing: 2.37%\n",
      "   Taking photos: 1.94%\n",
      "\n"
     ]
    },
    {
     "name": "stderr",
     "output_type": "stream",
     "text": [
      " 25%|██▌       | 106/422 [00:21<00:26, 11.80it/s]"
     ]
    },
    {
     "name": "stdout",
     "output_type": "stream",
     "text": [
      "\n",
      "File: datasets/train/Glass breaking/mixture_evaltest_glassbreak_217_9440e3c6f20260dc148529910981819f.wav\n",
      "Ground Truth: Glass breaking\n",
      "Top predictions:\n",
      "No people is in the room: 98.20%\n",
      "         Working: 0.49%\n",
      "   Setting table: 0.35%\n",
      "    Sitting down: 0.18%\n",
      "   Doing laundry: 0.15%\n",
      "\n",
      "\n",
      "File: datasets/train/Glass breaking/mixture_evaltest_glassbreak_221_80319cb23891fbcf83123c2590bc1ef9.wav\n",
      "Ground Truth: Glass breaking\n",
      "Top predictions:\n",
      "No people is in the room: 94.24%\n",
      "        Drinking: 0.79%\n",
      "         Walking: 0.77%\n",
      "         Talking: 0.44%\n",
      "   Taking photos: 0.30%\n",
      "\n",
      "\n",
      "File: datasets/train/Glass breaking/mixture_evaltest_glassbreak_222_3a84a85f8da2c498588baf1352cbd840.wav\n",
      "Ground Truth: Glass breaking\n",
      "Top predictions:\n",
      "          Dining: 54.88%\n",
      "     Eating food: 14.88%\n",
      "No people is in the room: 9.90%\n",
      "        Drinking: 5.41%\n",
      "      Decorating: 3.37%\n",
      "\n"
     ]
    },
    {
     "name": "stderr",
     "output_type": "stream",
     "text": [
      " 26%|██▌       | 108/422 [00:21<00:26, 11.84it/s]"
     ]
    },
    {
     "name": "stdout",
     "output_type": "stream",
     "text": [
      "\n",
      "File: datasets/train/Glass breaking/mixture_evaltest_glassbreak_236_695a49eb49bd0db7534c7a9ae13aad9d.wav\n",
      "Ground Truth: Glass breaking\n",
      "Top predictions:\n",
      "    Sitting down: 47.94%\n",
      "No people is in the room: 26.96%\n",
      "      Meditating: 15.95%\n",
      "        Sleeping: 2.58%\n",
      "         Working: 1.91%\n",
      "\n",
      "\n",
      "File: datasets/train/Glass breaking/mixture_evaltest_glassbreak_247_0e1843a284cab188e6b07a799bf336ba.wav\n",
      "Ground Truth: Glass breaking\n",
      "Top predictions:\n",
      "No people is in the room: 96.28%\n",
      "         Working: 1.13%\n",
      "    Sitting down: 0.38%\n",
      "   Doing laundry: 0.31%\n",
      "         Walking: 0.27%\n",
      "\n"
     ]
    },
    {
     "name": "stderr",
     "output_type": "stream",
     "text": [
      " 26%|██▌       | 110/422 [00:21<00:26, 11.73it/s]"
     ]
    },
    {
     "name": "stdout",
     "output_type": "stream",
     "text": [
      "\n",
      "File: datasets/train/Glass breaking/mixture_evaltest_glassbreak_250_996579dfc2bdae6401586fe58628f67f.wav\n",
      "Ground Truth: Glass breaking\n",
      "Top predictions:\n",
      "No people is in the room: 95.03%\n",
      "   Setting table: 1.18%\n",
      "         Talking: 0.94%\n",
      "         Working: 0.56%\n",
      "        Chatting: 0.35%\n",
      "\n"
     ]
    },
    {
     "name": "stderr",
     "output_type": "stream",
     "text": [
      " 27%|██▋       | 112/422 [00:21<00:26, 11.69it/s]"
     ]
    },
    {
     "name": "stdout",
     "output_type": "stream",
     "text": [
      "\n",
      "File: datasets/train/Glass breaking/mixture_evaltest_glassbreak_251_18742daaca944e44dff28088351addcf.wav\n",
      "Ground Truth: Glass breaking\n",
      "Top predictions:\n",
      "          Dining: 50.84%\n",
      "     Eating food: 14.39%\n",
      "No people is in the room: 13.50%\n",
      "         Potluck: 6.89%\n",
      "      Decorating: 3.37%\n",
      "\n",
      "\n",
      "File: datasets/train/Glass breaking/mixture_evaltest_glassbreak_268_db99c63a6dd1ae94717ec2162d2d848b.wav\n",
      "Ground Truth: Glass breaking\n",
      "Top predictions:\n",
      "      Decorating: 38.36%\n",
      "No people is in the room: 27.24%\n",
      "   Setting table: 6.31%\n",
      "       Showering: 4.56%\n",
      "   Doing laundry: 3.90%\n",
      "\n",
      "\n",
      "File: datasets/train/Glass breaking/mixture_evaltest_glassbreak_338_6c47116b98e3fbf4bebff8306d76c1e5.wav\n",
      "Ground Truth: Glass breaking\n",
      "Top predictions:\n"
     ]
    },
    {
     "name": "stderr",
     "output_type": "stream",
     "text": [
      " 27%|██▋       | 114/422 [00:21<00:26, 11.55it/s]"
     ]
    },
    {
     "name": "stdout",
     "output_type": "stream",
     "text": [
      "No people is in the room: 23.48%\n",
      "    Sitting down: 21.80%\n",
      "         Walking: 16.33%\n",
      "        Knitting: 11.69%\n",
      "         Working: 5.26%\n",
      "\n",
      "\n",
      "File: datasets/train/Glass breaking/mixture_evaltest_glassbreak_339_155373fd3ddf5a51e8cf6ca7118ba066.wav\n",
      "Ground Truth: Glass breaking\n",
      "Top predictions:\n",
      "No people is in the room: 75.91%\n",
      "      Meditating: 8.31%\n",
      "    Sitting down: 2.14%\n",
      "         Singing: 1.42%\n",
      "         Working: 1.36%\n",
      "\n",
      "\n",
      "File: datasets/train/Glass breaking/mixture_evaltest_glassbreak_341_a46af6e9de2f6da4d6a1f39929fcbc66.wav\n",
      "Ground Truth: Glass breaking\n",
      "Top predictions:\n",
      "No people is in the room: 62.91%\n",
      "Picking up objects: 8.49%\n",
      "  Glass breaking: 7.06%\n",
      "   Setting table: 5.78%\n",
      "Furniture Collapse: 4.90%\n",
      "\n"
     ]
    },
    {
     "name": "stderr",
     "output_type": "stream",
     "text": [
      " 28%|██▊       | 118/422 [00:22<00:26, 11.49it/s]"
     ]
    },
    {
     "name": "stdout",
     "output_type": "stream",
     "text": [
      "\n",
      "File: datasets/train/Glass breaking/mixture_evaltest_glassbreak_342_a693427693d1adc1863508df0020a2a6.wav\n",
      "Ground Truth: Glass breaking\n",
      "Top predictions:\n",
      "         Walking: 52.34%\n",
      "Unattended cooking: 24.78%\n",
      "Smoke or Fire or Open flame: 4.07%\n",
      "      Decorating: 3.72%\n",
      "Theft or vandalism: 3.58%\n",
      "\n",
      "\n",
      "File: datasets/train/Glass breaking/mixture_evaltest_glassbreak_343_da7ea98de9655fa322090073b532de11.wav\n",
      "Ground Truth: Glass breaking\n",
      "Top predictions:\n",
      "No people is in the room: 98.42%\n",
      "    Sitting down: 0.63%\n",
      "      Meditating: 0.30%\n",
      "        Sleeping: 0.10%\n",
      "         Working: 0.07%\n",
      "\n",
      "\n",
      "File: datasets/train/Glass breaking/mixture_evaltest_glassbreak_344_914db26a201e7a04c18e1b9a9486b0da.wav\n",
      "Ground Truth: Glass breaking\n",
      "Top predictions:\n",
      "  Glass breaking: 91.04%\n",
      "Furniture Collapse: 3.95%\n",
      "Theft or vandalism: 1.76%\n",
      "No people is in the room: 1.51%\n",
      "        Break in: 0.89%\n",
      "\n"
     ]
    },
    {
     "name": "stderr",
     "output_type": "stream",
     "text": [
      " 28%|██▊       | 120/422 [00:22<00:26, 11.48it/s]"
     ]
    },
    {
     "name": "stdout",
     "output_type": "stream",
     "text": [
      "\n",
      "File: datasets/train/Glass breaking/mixture_evaltest_glassbreak_350_0195370dba6b2db52644a26b6d0a5d0e.wav\n",
      "Ground Truth: Glass breaking\n",
      "Top predictions:\n",
      "         Walking: 41.26%\n",
      "No people is in the room: 36.89%\n",
      "   Taking photos: 6.40%\n",
      "     Eating food: 4.00%\n",
      "         Talking: 2.04%\n",
      "\n",
      "\n",
      "File: datasets/train/Glass breaking/mixture_evaltest_glassbreak_351_3ead4ffc8296df2f1368913158ca0385.wav\n",
      "Ground Truth: Glass breaking\n",
      "Top predictions:\n",
      "No people is in the room: 79.54%\n",
      "    Making noise: 7.43%\n",
      "      Meditating: 5.24%\n",
      "         Smoking: 2.16%\n",
      "      Exercising: 1.41%\n",
      "\n",
      "\n",
      "File: datasets/train/Glass breaking/mixture_evaltest_glassbreak_361_8a5af523d2523e4ceb78b3152e87a8b3.wav\n",
      "Ground Truth: Glass breaking\n",
      "Top predictions:\n",
      "No people is in the room: 92.43%\n",
      "         Talking: 2.95%\n",
      "         Walking: 2.54%\n",
      "        Chatting: 0.48%\n",
      "     Eating food: 0.21%\n",
      "\n"
     ]
    },
    {
     "name": "stderr",
     "output_type": "stream",
     "text": [
      " 29%|██▉       | 124/422 [00:22<00:25, 11.47it/s]"
     ]
    },
    {
     "name": "stdout",
     "output_type": "stream",
     "text": [
      "\n",
      "File: datasets/train/Glass breaking/mixture_evaltest_glassbreak_365_a57ea42783b0004878c7cfd0a52580ec.wav\n",
      "Ground Truth: Glass breaking\n",
      "Top predictions:\n",
      "No people is in the room: 80.17%\n",
      "        Studying: 3.93%\n",
      "   Doing laundry: 2.41%\n",
      "         Talking: 1.62%\n",
      "    Sitting down: 1.51%\n",
      "\n",
      "\n",
      "File: datasets/train/Glass breaking/mixture_evaltest_glassbreak_367_677bcdf30b880128cb72a58b4001c12b.wav\n",
      "Ground Truth: Glass breaking\n",
      "Top predictions:\n",
      "No people is in the room: 83.10%\n",
      "         Talking: 5.47%\n",
      "   Doing laundry: 2.10%\n",
      "         Working: 1.95%\n",
      "        Chatting: 1.29%\n",
      "\n",
      "\n",
      "File: datasets/train/Glass breaking/mixture_evaltest_glassbreak_385_f1353c6e4a3cdc2c6c47db9b81f11353.wav\n",
      "Ground Truth: Glass breaking\n",
      "Top predictions:\n",
      "No people is in the room: 96.29%\n",
      "    Sitting down: 0.69%\n",
      "         Working: 0.60%\n",
      "        Sleeping: 0.36%\n",
      "         Talking: 0.28%\n",
      "\n"
     ]
    },
    {
     "name": "stderr",
     "output_type": "stream",
     "text": [
      " 30%|██▉       | 126/422 [00:22<00:25, 11.65it/s]"
     ]
    },
    {
     "name": "stdout",
     "output_type": "stream",
     "text": [
      "\n",
      "File: datasets/train/Glass breaking/mixture_evaltest_glassbreak_424_986fb6b13176cebb4c81e2dd9edda3ef.wav\n",
      "Ground Truth: Glass breaking\n",
      "Top predictions:\n",
      "No people is in the room: 91.35%\n",
      "         Working: 3.05%\n",
      "    Sitting down: 1.39%\n",
      "         Talking: 0.81%\n",
      "        Studying: 0.71%\n",
      "\n",
      "\n",
      "File: datasets/train/Glass breaking/mixture_evaltest_glassbreak_443_000b143bd21afde84ae6e8907628d244.wav\n",
      "Ground Truth: Glass breaking\n",
      "Top predictions:\n",
      "No people is in the room: 76.18%\n",
      "         Walking: 10.46%\n",
      "         Talking: 2.15%\n",
      "   Taking photos: 1.65%\n",
      "   Doing laundry: 1.63%\n",
      "\n",
      "\n",
      "File: datasets/train/Glass breaking/mixture_evaltest_glassbreak_445_49fe4921b063e1a0fd09212d1a777902.wav\n",
      "Ground Truth: Glass breaking\n",
      "Top predictions:\n",
      "         Walking: 90.97%\n",
      "No people is in the room: 1.61%\n",
      "         Working: 1.25%\n",
      "   Doing laundry: 1.18%\n",
      "         Running: 0.94%\n",
      "\n"
     ]
    },
    {
     "name": "stderr",
     "output_type": "stream",
     "text": [
      " 31%|███       | 130/422 [00:23<00:24, 11.92it/s]"
     ]
    },
    {
     "name": "stdout",
     "output_type": "stream",
     "text": [
      "\n",
      "File: datasets/train/Glass breaking/mixture_evaltest_glassbreak_456_52eb80b72dd86bdc747baf2a5c4a1982.wav\n",
      "Ground Truth: Glass breaking\n",
      "Top predictions:\n",
      "         Walking: 79.92%\n",
      "Unattended cooking: 9.18%\n",
      "     Eating food: 1.97%\n",
      "        Drinking: 1.66%\n",
      "        Flooding: 1.36%\n",
      "\n",
      "\n",
      "File: datasets/train/Glass breaking/mixture_evaltest_glassbreak_462_aead4cd34c41104585f6a1e1097c0af0.wav\n",
      "Ground Truth: Glass breaking\n",
      "Top predictions:\n",
      "No people is in the room: 66.60%\n",
      "   Taking photos: 6.62%\n",
      "     Eating food: 4.14%\n",
      "   Mopping floor: 3.83%\n",
      "         Walking: 3.26%\n",
      "\n",
      "\n",
      "File: datasets/train/Glass breaking/mixture_evaltest_glassbreak_472_3c02e8e5d8e6b1418d99db6d315538e9.wav\n",
      "Ground Truth: Glass breaking\n",
      "Top predictions:\n",
      "         Walking: 42.27%\n",
      "No people is in the room: 31.82%\n",
      "         Working: 6.94%\n",
      "   Doing laundry: 4.03%\n",
      "     Eating food: 3.37%\n",
      "\n"
     ]
    },
    {
     "name": "stderr",
     "output_type": "stream",
     "text": [
      " 31%|███▏      | 132/422 [00:23<00:24, 12.01it/s]"
     ]
    },
    {
     "name": "stdout",
     "output_type": "stream",
     "text": [
      "\n",
      "File: datasets/train/Glass breaking/mixture_evaltest_glassbreak_489_1e9aaa54548513a7b7786cfc96081d7a.wav\n",
      "Ground Truth: Glass breaking\n",
      "Top predictions:\n",
      "  Glass breaking: 91.15%\n",
      "No people is in the room: 5.05%\n",
      "Furniture Collapse: 1.07%\n",
      "          Dining: 0.56%\n",
      "        Break in: 0.42%\n",
      "\n",
      "\n",
      "File: datasets/train/Glass breaking/mixture_evaltest_glassbreak_492_67d149ed57d3bc4b08a0ff329d797db9.wav\n",
      "Ground Truth: Glass breaking\n",
      "Top predictions:\n",
      "No people is in the room: 81.93%\n",
      "         Walking: 4.85%\n",
      "        Sleeping: 1.00%\n",
      "        Tripping: 0.85%\n",
      "         Talking: 0.77%\n",
      "\n",
      "\n",
      "File: datasets/train/Gunshot/mixture_evaltest_gunshot_018_54726d75a93470398be935f067e04f68.wav\n",
      "Ground Truth: Gunshot\n",
      "Top predictions:\n",
      "No people is in the room: 88.65%\n",
      "        Chatting: 3.57%\n",
      "         Talking: 2.02%\n",
      "          Dining: 1.94%\n",
      "     Eating food: 1.18%\n",
      "\n"
     ]
    },
    {
     "name": "stderr",
     "output_type": "stream",
     "text": [
      " 32%|███▏      | 136/422 [00:23<00:23, 12.12it/s]"
     ]
    },
    {
     "name": "stdout",
     "output_type": "stream",
     "text": [
      "\n",
      "File: datasets/train/Gunshot/mixture_evaltest_gunshot_042_262fde5f6abc5cef9abac6a23a6446c1.wav\n",
      "Ground Truth: Gunshot\n",
      "Top predictions:\n",
      "No people is in the room: 96.22%\n",
      "         Talking: 1.57%\n",
      "        Chatting: 0.39%\n",
      "         Working: 0.27%\n",
      "     Eating food: 0.23%\n",
      "\n",
      "\n",
      "File: datasets/train/Gunshot/mixture_evaltest_gunshot_089_f7f54b99ef88a63a4a4b446bdd81605d.wav\n",
      "Ground Truth: Gunshot\n",
      "Top predictions:\n",
      "No people is in the room: 89.72%\n",
      "   Doing laundry: 4.96%\n",
      "         Working: 2.93%\n",
      "Unattended cooking: 0.59%\n",
      "       Showering: 0.32%\n",
      "\n",
      "\n",
      "File: datasets/train/Gunshot/mixture_evaltest_gunshot_101_204292a65ead10e68c9356d14bfceca6.wav\n",
      "Ground Truth: Gunshot\n",
      "Top predictions:\n",
      "No people is in the room: 96.16%\n",
      "    Sitting down: 1.03%\n",
      "         Working: 0.61%\n",
      "   Setting table: 0.60%\n",
      "      Decorating: 0.31%\n",
      "\n"
     ]
    },
    {
     "name": "stderr",
     "output_type": "stream",
     "text": [
      " 33%|███▎      | 138/422 [00:23<00:23, 12.15it/s]"
     ]
    },
    {
     "name": "stdout",
     "output_type": "stream",
     "text": [
      "\n",
      "File: datasets/train/Gunshot/mixture_evaltest_gunshot_113_17cf9cd8beb5acaec026e2ec71adc2ac.wav\n",
      "Ground Truth: Gunshot\n",
      "Top predictions:\n",
      "         Walking: 38.33%\n",
      "   Doing laundry: 22.28%\n",
      "No people is in the room: 8.34%\n",
      "     Eating food: 6.53%\n",
      "         Working: 3.97%\n",
      "\n",
      "\n",
      "File: datasets/train/Gunshot/mixture_evaltest_gunshot_117_17f0210c7068fc06bf184361326c7f14.wav\n",
      "Ground Truth: Gunshot\n",
      "Top predictions:\n",
      "   Doing laundry: 35.16%\n",
      "No people is in the room: 34.04%\n",
      "         Walking: 15.42%\n",
      "         Working: 3.62%\n",
      "        Tripping: 1.64%\n",
      "\n",
      "\n",
      "File: datasets/train/Gunshot/mixture_evaltest_gunshot_150_2102148ef7867f0164c65a8554d6487e.wav\n",
      "Ground Truth: Gunshot\n",
      "Top predictions:\n",
      "         Walking: 43.69%\n",
      "Unattended cooking: 13.79%\n",
      "No people is in the room: 8.69%\n",
      "   Doing laundry: 7.00%\n",
      "        Flooding: 3.60%\n",
      "\n"
     ]
    },
    {
     "name": "stderr",
     "output_type": "stream",
     "text": [
      " 34%|███▎      | 142/422 [00:24<00:23, 12.08it/s]"
     ]
    },
    {
     "name": "stdout",
     "output_type": "stream",
     "text": [
      "\n",
      "File: datasets/train/Gunshot/mixture_evaltest_gunshot_151_4b399ccee4631026958ef22b7fb3f8b6.wav\n",
      "Ground Truth: Gunshot\n",
      "Top predictions:\n",
      "No people is in the room: 33.03%\n",
      "      Decorating: 18.81%\n",
      "         Walking: 9.02%\n",
      "          Dining: 4.97%\n",
      "         Working: 3.54%\n",
      "\n",
      "\n",
      "File: datasets/train/Gunshot/mixture_evaltest_gunshot_194_2f8712332da25804318a568476a87054.wav\n",
      "Ground Truth: Gunshot\n",
      "Top predictions:\n",
      "No people is in the room: 92.13%\n",
      "    Sitting down: 5.31%\n",
      "         Working: 1.03%\n",
      "   Doing laundry: 0.27%\n",
      "   Mopping floor: 0.26%\n",
      "\n",
      "\n",
      "File: datasets/train/Gunshot/mixture_evaltest_gunshot_196_796df70596c8c2cc51778209fbdae35d.wav\n",
      "Ground Truth: Gunshot\n",
      "Top predictions:\n",
      "No people is in the room: 22.37%\n",
      "         Smoking: 21.23%\n",
      "        Drinking: 10.69%\n",
      "         Walking: 10.01%\n",
      "Unattended cooking: 5.62%\n",
      "\n"
     ]
    },
    {
     "name": "stderr",
     "output_type": "stream",
     "text": [
      " 34%|███▍      | 144/422 [00:24<00:23, 12.06it/s]"
     ]
    },
    {
     "name": "stdout",
     "output_type": "stream",
     "text": [
      "\n",
      "File: datasets/train/Gunshot/mixture_evaltest_gunshot_213_02e2c2cf3dd650e2cfcfa401157b88c7.wav\n",
      "Ground Truth: Gunshot\n",
      "Top predictions:\n",
      "No people is in the room: 74.57%\n",
      "   Doing laundry: 21.74%\n",
      "         Working: 1.27%\n",
      "     Eating food: 0.44%\n",
      "Unattended cooking: 0.35%\n",
      "\n",
      "\n",
      "File: datasets/train/Gunshot/mixture_evaltest_gunshot_217_3f9b00cf7172d45cf23f6142a90c21e1.wav\n",
      "Ground Truth: Gunshot\n",
      "Top predictions:\n",
      "        Knitting: 39.72%\n",
      "         Walking: 21.52%\n",
      "   Taking photos: 5.57%\n",
      "    Sitting down: 4.49%\n",
      "        Drinking: 3.76%\n",
      "\n",
      "\n",
      "File: datasets/train/Gunshot/mixture_evaltest_gunshot_218_3782064d387e20d38d3c45d7af263ce2.wav\n",
      "Ground Truth: Gunshot\n",
      "Top predictions:\n",
      "Unattended cooking: 37.49%\n",
      "No people is in the room: 31.18%\n",
      "         Smoking: 13.29%\n",
      "         Cooking: 10.24%\n",
      "        Drinking: 2.60%\n",
      "\n"
     ]
    },
    {
     "name": "stderr",
     "output_type": "stream",
     "text": [
      " 35%|███▌      | 148/422 [00:24<00:22, 12.10it/s]"
     ]
    },
    {
     "name": "stdout",
     "output_type": "stream",
     "text": [
      "\n",
      "File: datasets/train/Gunshot/mixture_evaltest_gunshot_233_2127e0653a25b8819ed7e418fa7f2d24.wav\n",
      "Ground Truth: Gunshot\n",
      "Top predictions:\n",
      "No people is in the room: 49.50%\n",
      "    Sitting down: 23.51%\n",
      "        Sleeping: 5.75%\n",
      "         Walking: 3.38%\n",
      "      Meditating: 2.52%\n",
      "\n",
      "\n",
      "File: datasets/train/Gunshot/mixture_evaltest_gunshot_263_5d6ca9ca4b3c54256ba6c247288fe19b.wav\n",
      "Ground Truth: Gunshot\n",
      "Top predictions:\n",
      "         Walking: 28.00%\n",
      "        Knitting: 17.57%\n",
      "    Sitting down: 5.47%\n",
      "          Normal: 5.05%\n",
      "        Sleeping: 4.90%\n",
      "\n",
      "\n",
      "File: datasets/train/Gunshot/mixture_evaltest_gunshot_265_d985368362bf832c10c6f529969d39f2.wav\n",
      "Ground Truth: Gunshot\n",
      "Top predictions:\n",
      "         Walking: 29.83%\n",
      "        Knitting: 28.69%\n",
      "    Sitting down: 8.96%\n",
      "        Drinking: 3.21%\n",
      "   Taking photos: 3.14%\n",
      "\n"
     ]
    },
    {
     "name": "stderr",
     "output_type": "stream",
     "text": [
      " 36%|███▌      | 150/422 [00:24<00:22, 12.09it/s]"
     ]
    },
    {
     "name": "stdout",
     "output_type": "stream",
     "text": [
      "\n",
      "File: datasets/train/Gunshot/mixture_evaltest_gunshot_280_7ccc0504e7a9a28ee4b363df257b0b28.wav\n",
      "Ground Truth: Gunshot\n",
      "Top predictions:\n",
      "         Talking: 42.26%\n",
      "No people is in the room: 11.98%\n",
      "         Smoking: 6.31%\n",
      "     Eating food: 5.30%\n",
      "        Studying: 3.94%\n",
      "\n",
      "\n",
      "File: datasets/train/Gunshot/mixture_evaltest_gunshot_299_7dd9c08d2915185b36dd923684078848.wav\n",
      "Ground Truth: Gunshot\n",
      "Top predictions:\n",
      "         Talking: 42.94%\n",
      "No people is in the room: 10.52%\n",
      "     Eating food: 7.80%\n",
      "         Choking: 7.67%\n",
      "Domestic violence: 6.26%\n",
      "\n",
      "\n",
      "File: datasets/train/Gunshot/mixture_evaltest_gunshot_327_bdcb8a004594adefe5ee6a1d812a6ada.wav\n",
      "Ground Truth: Gunshot\n",
      "Top predictions:\n",
      "       Showering: 82.53%\n",
      "No people is in the room: 10.99%\n",
      "   Mopping floor: 3.04%\n",
      "   Doing laundry: 1.25%\n",
      "      Decorating: 0.75%\n",
      "\n"
     ]
    },
    {
     "name": "stderr",
     "output_type": "stream",
     "text": [
      " 36%|███▋      | 154/422 [00:25<00:22, 12.08it/s]"
     ]
    },
    {
     "name": "stdout",
     "output_type": "stream",
     "text": [
      "\n",
      "File: datasets/train/Gunshot/mixture_evaltest_gunshot_354_d0339f801fafac4621e351c70aac1b97.wav\n",
      "Ground Truth: Gunshot\n",
      "Top predictions:\n",
      "    Sitting down: 37.10%\n",
      "         Walking: 14.86%\n",
      "No people is in the room: 11.31%\n",
      "        Sleeping: 8.39%\n",
      "      Meditating: 7.62%\n",
      "\n",
      "\n",
      "File: datasets/train/Gunshot/mixture_evaltest_gunshot_375_fa698e7fba20027bfc86d461eff5b7e5.wav\n",
      "Ground Truth: Gunshot\n",
      "Top predictions:\n",
      "No people is in the room: 75.18%\n",
      "   Doing laundry: 3.32%\n",
      "    Sitting down: 2.91%\n",
      "         Walking: 2.37%\n",
      "Playing with pets: 2.14%\n",
      "\n",
      "\n",
      "File: datasets/train/Gunshot/mixture_evaltest_gunshot_398_fdbc79a9c7616fce58b4e6e8b7691127.wav\n",
      "Ground Truth: Gunshot\n",
      "Top predictions:\n",
      "No people is in the room: 46.70%\n",
      "Unattended cooking: 6.38%\n",
      "         Smoking: 5.99%\n",
      "         Talking: 5.95%\n",
      "      Using drug: 5.56%\n",
      "\n"
     ]
    },
    {
     "name": "stderr",
     "output_type": "stream",
     "text": [
      " 37%|███▋      | 156/422 [00:25<00:21, 12.15it/s]"
     ]
    },
    {
     "name": "stdout",
     "output_type": "stream",
     "text": [
      "\n",
      "File: datasets/train/Gunshot/mixture_evaltest_gunshot_408_0cc1186adeffec5ecb8e2aedc0ac5860.wav\n",
      "Ground Truth: Gunshot\n",
      "Top predictions:\n",
      "         Walking: 50.42%\n",
      "No people is in the room: 39.99%\n",
      "         Working: 2.53%\n",
      "         Talking: 2.00%\n",
      "    Sitting down: 0.93%\n",
      "\n",
      "\n",
      "File: datasets/train/Gunshot/mixture_evaltest_gunshot_414_259bcc20aa36899e225998341d952201.wav\n",
      "Ground Truth: Gunshot\n",
      "Top predictions:\n",
      "No people is in the room: 45.03%\n",
      "    Sitting down: 7.31%\n",
      "        Sleeping: 5.10%\n",
      "        Studying: 4.19%\n",
      "         Smoking: 3.71%\n",
      "\n",
      "\n",
      "File: datasets/train/Gunshot/mixture_evaltest_gunshot_423_0ceabd329fea9a7e7135e6da32b31d83.wav\n",
      "Ground Truth: Gunshot\n",
      "Top predictions:\n",
      "No people is in the room: 97.51%\n",
      "    Sitting down: 0.98%\n",
      "         Working: 0.25%\n",
      "   Setting table: 0.15%\n",
      "         Walking: 0.15%\n",
      "\n"
     ]
    },
    {
     "name": "stderr",
     "output_type": "stream",
     "text": [
      " 38%|███▊      | 160/422 [00:25<00:21, 12.19it/s]"
     ]
    },
    {
     "name": "stdout",
     "output_type": "stream",
     "text": [
      "\n",
      "File: datasets/train/Gunshot/mixture_evaltest_gunshot_424_6bc7ce3de687324fae214bcc3d9deb97.wav\n",
      "Ground Truth: Gunshot\n",
      "Top predictions:\n",
      "No people is in the room: 51.36%\n",
      "        Knitting: 24.86%\n",
      "         Walking: 6.82%\n",
      "   Taking photos: 2.31%\n",
      "         Singing: 1.83%\n",
      "\n",
      "\n",
      "File: datasets/train/Gunshot/mixture_evaltest_gunshot_425_4d014fb6ffee4603103492ae40df2c07.wav\n",
      "Ground Truth: Gunshot\n",
      "Top predictions:\n",
      "No people is in the room: 65.93%\n",
      "         Walking: 8.70%\n",
      "   Doing laundry: 6.01%\n",
      "         Working: 2.92%\n",
      "   Taking photos: 2.44%\n",
      "\n",
      "\n",
      "File: datasets/train/Gunshot/mixture_evaltest_gunshot_428_a57f792a50ffb934d4979a060bbd8a53.wav\n",
      "Ground Truth: Gunshot\n",
      "Top predictions:\n",
      "No people is in the room: 99.53%\n",
      "         Talking: 0.21%\n",
      "         Working: 0.04%\n",
      "        Chatting: 0.03%\n",
      "      Meditating: 0.03%\n",
      "\n"
     ]
    },
    {
     "name": "stderr",
     "output_type": "stream",
     "text": [
      " 38%|███▊      | 162/422 [00:25<00:21, 12.22it/s]"
     ]
    },
    {
     "name": "stdout",
     "output_type": "stream",
     "text": [
      "\n",
      "File: datasets/train/Gunshot/mixture_evaltest_gunshot_430_fcc2a04fb4c225afa830a348f0f578aa.wav\n",
      "Ground Truth: Gunshot\n",
      "Top predictions:\n",
      "No people is in the room: 80.79%\n",
      "         Talking: 4.93%\n",
      "   Doing laundry: 2.56%\n",
      "         Walking: 1.79%\n",
      "        Chatting: 1.28%\n",
      "\n",
      "\n",
      "File: datasets/train/Gunshot/mixture_evaltest_gunshot_436_8f71134a16bca0778609f7ee304b8226.wav\n",
      "Ground Truth: Gunshot\n",
      "Top predictions:\n",
      "No people is in the room: 56.20%\n",
      "   Setting table: 12.73%\n",
      "   Doing laundry: 6.51%\n",
      "      Decorating: 4.41%\n",
      "         Working: 3.47%\n",
      "\n",
      "\n",
      "File: datasets/train/Gunshot/mixture_evaltest_gunshot_441_e0da956f691e274817238d8d92b5dfbd.wav\n",
      "Ground Truth: Gunshot\n",
      "Top predictions:\n",
      "No people is in the room: 82.31%\n",
      "     Eating food: 8.63%\n",
      "          Dining: 2.26%\n",
      "Unattended cooking: 1.41%\n",
      "   Doing laundry: 1.11%\n",
      "\n"
     ]
    },
    {
     "name": "stderr",
     "output_type": "stream",
     "text": [
      " 39%|███▉      | 166/422 [00:26<00:20, 12.24it/s]"
     ]
    },
    {
     "name": "stdout",
     "output_type": "stream",
     "text": [
      "\n",
      "File: datasets/train/Gunshot/mixture_evaltest_gunshot_442_ec4f6e844246a7ace7defb0f9dadf3cb.wav\n",
      "Ground Truth: Gunshot\n",
      "Top predictions:\n",
      "No people is in the room: 58.35%\n",
      "     Eating food: 6.02%\n",
      "         Smoking: 3.96%\n",
      "         Talking: 3.79%\n",
      "    Making noise: 3.48%\n",
      "\n",
      "\n",
      "File: datasets/train/Gunshot/mixture_evaltest_gunshot_448_89e80a662a6892e3c4ec9b40d1564204.wav\n",
      "Ground Truth: Gunshot\n",
      "Top predictions:\n",
      "         Walking: 90.23%\n",
      "         Running: 7.98%\n",
      "        Tripping: 0.61%\n",
      "No people is in the room: 0.33%\n",
      "        Knitting: 0.28%\n",
      "\n",
      "\n",
      "File: datasets/train/Gunshot/mixture_evaltest_gunshot_451_7a8524ea1ad916ec5a2b005af07e0211.wav\n",
      "Ground Truth: Gunshot\n",
      "Top predictions:\n",
      "No people is in the room: 45.58%\n",
      "        Studying: 8.78%\n",
      "         Walking: 7.48%\n",
      "         Working: 5.42%\n",
      "   Doing laundry: 5.21%\n",
      "\n"
     ]
    },
    {
     "name": "stderr",
     "output_type": "stream",
     "text": [
      " 40%|███▉      | 168/422 [00:26<00:20, 12.24it/s]"
     ]
    },
    {
     "name": "stdout",
     "output_type": "stream",
     "text": [
      "\n",
      "File: datasets/train/Gunshot/mixture_evaltest_gunshot_453_bc624b1e38cf9d8e6de76e728f1c7252.wav\n",
      "Ground Truth: Gunshot\n",
      "Top predictions:\n",
      "No people is in the room: 80.40%\n",
      "         Walking: 2.98%\n",
      "      Decorating: 2.30%\n",
      "    Sitting down: 1.88%\n",
      "         Working: 1.41%\n",
      "\n",
      "\n",
      "File: datasets/train/Gunshot/mixture_evaltest_gunshot_458_221b3a2322f4c8c04ee4ce0d58a0e26f.wav\n",
      "Ground Truth: Gunshot\n",
      "Top predictions:\n",
      "      Decorating: 42.78%\n",
      "   Setting table: 17.33%\n",
      "No people is in the room: 13.27%\n",
      "   Mopping floor: 6.00%\n",
      "       Showering: 4.26%\n",
      "\n",
      "\n",
      "File: datasets/train/Gunshot/mixture_evaltest_gunshot_461_ba8e84a8770a9fbc5e4ac2995eccb668.wav\n",
      "Ground Truth: Gunshot\n",
      "Top predictions:\n",
      "No people is in the room: 96.15%\n",
      "    Sitting down: 2.01%\n",
      "   Doing laundry: 0.46%\n",
      "         Working: 0.43%\n",
      "   Mopping floor: 0.28%\n",
      "\n"
     ]
    },
    {
     "name": "stderr",
     "output_type": "stream",
     "text": [
      " 41%|████      | 172/422 [00:26<00:20, 12.22it/s]"
     ]
    },
    {
     "name": "stdout",
     "output_type": "stream",
     "text": [
      "\n",
      "File: datasets/train/Gunshot/mixture_evaltest_gunshot_462_e157f569db5a5099ab41098a727b0ca3.wav\n",
      "Ground Truth: Gunshot\n",
      "Top predictions:\n",
      "No people is in the room: 93.53%\n",
      "   Mopping floor: 1.71%\n",
      "   Doing laundry: 1.65%\n",
      "      Decorating: 0.58%\n",
      "   Setting table: 0.50%\n",
      "\n",
      "\n",
      "File: datasets/train/Gunshot/mixture_evaltest_gunshot_466_68ad378c08a63ff99140223e35dd0cab.wav\n",
      "Ground Truth: Gunshot\n",
      "Top predictions:\n",
      "No people is in the room: 88.11%\n",
      "         Gunshot: 3.09%\n",
      "         Working: 1.88%\n",
      "   Doing laundry: 1.75%\n",
      "Theft or vandalism: 1.41%\n",
      "\n",
      "\n",
      "File: datasets/train/Gunshot/mixture_evaltest_gunshot_471_9841bc2765e3b22bfae353e2dfb1e43c.wav\n",
      "Ground Truth: Gunshot\n",
      "Top predictions:\n",
      "No people is in the room: 76.01%\n",
      "         Talking: 11.25%\n",
      "         Walking: 4.25%\n",
      "        Chatting: 2.14%\n",
      "   Taking photos: 2.01%\n",
      "\n"
     ]
    },
    {
     "name": "stderr",
     "output_type": "stream",
     "text": [
      " 41%|████      | 174/422 [00:26<00:20, 12.17it/s]"
     ]
    },
    {
     "name": "stdout",
     "output_type": "stream",
     "text": [
      "\n",
      "File: datasets/train/Gunshot/mixture_evaltest_gunshot_473_d43023a9c8be3af808faaab32179e0e8.wav\n",
      "Ground Truth: Gunshot\n",
      "Top predictions:\n",
      "         Walking: 43.81%\n",
      "        Knitting: 20.37%\n",
      "        Flooding: 7.96%\n",
      "   Taking photos: 4.25%\n",
      "         Working: 3.54%\n",
      "\n",
      "\n",
      "File: datasets/train/Gunshot/mixture_evaltest_gunshot_475_729037c3cf525e5796cb57c4fa4bebfb.wav\n",
      "Ground Truth: Gunshot\n",
      "Top predictions:\n",
      "No people is in the room: 70.81%\n",
      "   Doing laundry: 13.31%\n",
      "   Mopping floor: 7.41%\n",
      "      Decorating: 2.31%\n",
      "   Setting table: 1.89%\n",
      "\n",
      "\n",
      "File: datasets/train/Gunshot/mixture_evaltest_gunshot_479_96cfc9822829fc30ad17ee05458cf80f.wav\n",
      "Ground Truth: Gunshot\n",
      "Top predictions:\n",
      "         Walking: 45.53%\n",
      "        Knitting: 15.94%\n",
      "        Tripping: 12.08%\n",
      "      Exercising: 6.98%\n",
      "    Sitting down: 6.30%\n",
      "\n"
     ]
    },
    {
     "name": "stderr",
     "output_type": "stream",
     "text": [
      " 42%|████▏     | 178/422 [00:27<00:20, 12.18it/s]"
     ]
    },
    {
     "name": "stdout",
     "output_type": "stream",
     "text": [
      "\n",
      "File: datasets/train/Gunshot/mixture_evaltest_gunshot_480_758d54f0493a25aab43fa6f974ada751.wav\n",
      "Ground Truth: Gunshot\n",
      "Top predictions:\n",
      "No people is in the room: 61.12%\n",
      "   Doing laundry: 31.95%\n",
      "         Working: 1.68%\n",
      "   Mopping floor: 0.72%\n",
      "         Walking: 0.68%\n",
      "\n",
      "\n",
      "File: datasets/train/Gunshot/mixture_evaltest_gunshot_486_53354a65d5caadc898096b57d095d6a0.wav\n",
      "Ground Truth: Gunshot\n",
      "Top predictions:\n",
      "No people is in the room: 40.60%\n",
      "         Talking: 15.07%\n",
      "         Walking: 11.71%\n",
      "      Exercising: 3.94%\n",
      "    Sitting down: 3.39%\n",
      "\n",
      "\n",
      "File: datasets/train/Gunshot/mixture_evaltest_gunshot_489_cafb1875fc7030501fba04161a868f05.wav\n",
      "Ground Truth: Gunshot\n",
      "Top predictions:\n",
      "No people is in the room: 75.74%\n",
      "      Exercising: 2.17%\n",
      "   Taking photos: 2.15%\n",
      "         Smoking: 2.03%\n",
      "         Singing: 1.72%\n",
      "\n"
     ]
    },
    {
     "name": "stderr",
     "output_type": "stream",
     "text": [
      " 43%|████▎     | 180/422 [00:27<00:19, 12.19it/s]"
     ]
    },
    {
     "name": "stdout",
     "output_type": "stream",
     "text": [
      "\n",
      "File: datasets/train/Gunshot/mixture_evaltest_gunshot_490_230f021c9f5fd6aabb17a7530e7313ad.wav\n",
      "Ground Truth: Gunshot\n",
      "Top predictions:\n",
      "         Walking: 77.04%\n",
      "   Doing laundry: 5.02%\n",
      "Unattended cooking: 4.34%\n",
      "Theft or vandalism: 1.79%\n",
      "        Drinking: 1.50%\n",
      "\n",
      "\n",
      "File: datasets/train/Gunshot/mixture_evaltest_gunshot_491_b585a236d29f381e16d625b455063b3e.wav\n",
      "Ground Truth: Gunshot\n",
      "Top predictions:\n",
      "         Walking: 70.88%\n",
      "         Talking: 12.40%\n",
      "No people is in the room: 10.17%\n",
      "   Taking photos: 1.58%\n",
      "Unattended cooking: 1.20%\n",
      "\n",
      "\n",
      "File: datasets/train/Gunshot/mixture_evaltest_gunshot_493_87b137fe3d06f960348a235c147666db.wav\n",
      "Ground Truth: Gunshot\n",
      "Top predictions:\n",
      "No people is in the room: 94.14%\n",
      "    Sitting down: 1.15%\n",
      "   Setting table: 0.74%\n",
      "         Working: 0.68%\n",
      "         Talking: 0.62%\n",
      "\n"
     ]
    },
    {
     "name": "stderr",
     "output_type": "stream",
     "text": [
      "                                                 \r"
     ]
    },
    {
     "name": "stdout",
     "output_type": "stream",
     "text": [
      "\n",
      "File: datasets/train/Gunshot/mixture_evaltest_gunshot_497_f5ca6ab4416694b7aa1e973364683d7b.wav\n",
      "Ground Truth: Gunshot\n",
      "Top predictions:\n",
      "No people is in the room: 90.69%\n",
      "         Talking: 1.88%\n",
      "         Working: 1.49%\n",
      "   Doing laundry: 1.12%\n",
      "        Sleeping: 1.04%\n",
      "\n",
      "datasets/audios/train/Normal\n"
     ]
    },
    {
     "name": "stderr",
     "output_type": "stream",
     "text": [
      " 43%|████▎     | 182/422 [00:27<00:19, 12.13it/s]"
     ]
    },
    {
     "name": "stdout",
     "output_type": "stream",
     "text": [
      "MoviePy - Writing audio in datasets/audios/train/Normal/9gK-lchw9AU_000019_000029.wav\n"
     ]
    },
    {
     "name": "stderr",
     "output_type": "stream",
     "text": [
      " 43%|████▎     | 182/422 [00:27<00:19, 12.13it/s]"
     ]
    },
    {
     "name": "stdout",
     "output_type": "stream",
     "text": [
      "MoviePy - Done.\n",
      "\n",
      "File: datasets/train/Normal/9gK-lchw9AU_000019_000029.mp4\n",
      "Ground Truth: Normal\n",
      "Top predictions:\n",
      "No people is in the room: 42.14%\n",
      "         Talking: 17.36%\n",
      "     Suffocating: 6.66%\n",
      "        Speaking: 5.12%\n",
      "Making phone calls: 3.77%\n",
      "\n"
     ]
    },
    {
     "name": "stderr",
     "output_type": "stream",
     "text": [
      " 43%|████▎     | 182/422 [00:28<00:19, 12.13it/s]"
     ]
    },
    {
     "name": "stdout",
     "output_type": "stream",
     "text": [
      "datasets/audios/train/Normal\n",
      "MoviePy - Writing audio in datasets/audios/train/Normal/9iKBdRiyrT8_000018_000028.wav\n"
     ]
    },
    {
     "name": "stderr",
     "output_type": "stream",
     "text": [
      " 44%|████▎     | 184/422 [00:28<00:36,  6.55it/s]"
     ]
    },
    {
     "name": "stdout",
     "output_type": "stream",
     "text": [
      "MoviePy - Done.\n",
      "\n",
      "File: datasets/train/Normal/9iKBdRiyrT8_000018_000028.mp4\n",
      "Ground Truth: Normal\n",
      "Top predictions:\n",
      "     Eating food: 87.07%\n",
      "Playing with pets: 10.37%\n",
      "        Drinking: 1.30%\n",
      "     Suffocating: 0.32%\n",
      "         Choking: 0.24%\n",
      "\n"
     ]
    },
    {
     "name": "stderr",
     "output_type": "stream",
     "text": [
      " 44%|████▎     | 184/422 [00:28<00:36,  6.55it/s]"
     ]
    },
    {
     "name": "stdout",
     "output_type": "stream",
     "text": [
      "datasets/audios/train/Normal\n",
      "MoviePy - Writing audio in datasets/audios/train/Normal/9j29_SoXvnk_000004_000014.wav\n"
     ]
    },
    {
     "name": "stderr",
     "output_type": "stream",
     "text": [
      " 44%|████▍     | 185/422 [00:28<00:42,  5.57it/s]"
     ]
    },
    {
     "name": "stdout",
     "output_type": "stream",
     "text": [
      "MoviePy - Done.\n",
      "\n",
      "File: datasets/train/Normal/9j29_SoXvnk_000004_000014.mp4\n",
      "Ground Truth: Normal\n",
      "Top predictions:\n",
      "  Brushing teeth: 42.71%\n",
      "       Showering: 41.71%\n",
      "        Cleaning: 5.58%\n",
      "Playing with pets: 4.76%\n",
      "      Using drug: 1.19%\n",
      "\n"
     ]
    },
    {
     "name": "stderr",
     "output_type": "stream",
     "text": [
      " 44%|████▍     | 185/422 [00:28<00:42,  5.57it/s]"
     ]
    },
    {
     "name": "stdout",
     "output_type": "stream",
     "text": [
      "datasets/audios/train/Normal\n",
      "MoviePy - Writing audio in datasets/audios/train/Normal/9khsuBlB7KM_000052_000062.wav\n"
     ]
    },
    {
     "name": "stderr",
     "output_type": "stream",
     "text": [
      " 44%|████▍     | 186/422 [00:28<00:49,  4.79it/s]"
     ]
    },
    {
     "name": "stdout",
     "output_type": "stream",
     "text": [
      "MoviePy - Done.\n",
      "\n",
      "File: datasets/train/Normal/9khsuBlB7KM_000052_000062.mp4\n",
      "Ground Truth: Normal\n",
      "Top predictions:\n",
      "No people is in the room: 59.03%\n",
      "   Doing laundry: 7.73%\n",
      "     Celebrating: 4.34%\n",
      "     Suffocating: 3.30%\n",
      "    Sitting down: 2.90%\n",
      "\n"
     ]
    },
    {
     "name": "stderr",
     "output_type": "stream",
     "text": [
      " 44%|████▍     | 186/422 [00:29<00:49,  4.79it/s]"
     ]
    },
    {
     "name": "stdout",
     "output_type": "stream",
     "text": [
      "datasets/audios/train/Normal\n",
      "MoviePy - Writing audio in datasets/audios/train/Normal/9obe2uzQuLw_000031_000041.wav\n"
     ]
    },
    {
     "name": "stderr",
     "output_type": "stream",
     "text": [
      " 44%|████▍     | 187/422 [00:29<00:54,  4.34it/s]"
     ]
    },
    {
     "name": "stdout",
     "output_type": "stream",
     "text": [
      "MoviePy - Done.\n",
      "\n",
      "File: datasets/train/Normal/9obe2uzQuLw_000031_000041.mp4\n",
      "Ground Truth: Normal\n",
      "Top predictions:\n",
      "No people is in the room: 59.99%\n",
      "          Dining: 19.72%\n",
      "        Chatting: 2.54%\n",
      "   Setting table: 2.39%\n",
      "        Drinking: 2.03%\n",
      "\n"
     ]
    },
    {
     "name": "stderr",
     "output_type": "stream",
     "text": [
      " 44%|████▍     | 187/422 [00:29<00:54,  4.34it/s]"
     ]
    },
    {
     "name": "stdout",
     "output_type": "stream",
     "text": [
      "datasets/audios/train/Normal\n",
      "MoviePy - Writing audio in datasets/audios/train/Normal/a2PzfV-nLA0_000273_000283.wav\n"
     ]
    },
    {
     "name": "stderr",
     "output_type": "stream",
     "text": [
      " 45%|████▍     | 188/422 [00:29<00:58,  3.97it/s]"
     ]
    },
    {
     "name": "stdout",
     "output_type": "stream",
     "text": [
      "MoviePy - Done.\n",
      "\n",
      "File: datasets/train/Normal/a2PzfV-nLA0_000273_000283.mp4\n",
      "Ground Truth: Normal\n",
      "Top predictions:\n",
      "         Cooking: 75.02%\n",
      "Unattended cooking: 16.24%\n",
      "       Showering: 3.44%\n",
      "        Cleaning: 2.52%\n",
      "   Setting table: 0.88%\n",
      "\n"
     ]
    },
    {
     "name": "stderr",
     "output_type": "stream",
     "text": [
      " 45%|████▍     | 188/422 [00:29<00:58,  3.97it/s]"
     ]
    },
    {
     "name": "stdout",
     "output_type": "stream",
     "text": [
      "datasets/audios/train/Normal\n",
      "MoviePy - Writing audio in datasets/audios/train/Normal/A65W8cR_unk_000110_000120.wav\n"
     ]
    },
    {
     "name": "stderr",
     "output_type": "stream",
     "text": [
      " 45%|████▍     | 189/422 [00:29<01:05,  3.57it/s]"
     ]
    },
    {
     "name": "stdout",
     "output_type": "stream",
     "text": [
      "MoviePy - Done.\n",
      "\n",
      "File: datasets/train/Normal/A65W8cR_unk_000110_000120.mp4\n",
      "Ground Truth: Normal\n",
      "Top predictions:\n",
      "         Reading: 61.30%\n",
      "        Speaking: 15.81%\n",
      "         Talking: 6.39%\n",
      "No people is in the room: 3.98%\n",
      "Playing board games: 3.94%\n",
      "\n"
     ]
    },
    {
     "name": "stderr",
     "output_type": "stream",
     "text": [
      " 45%|████▍     | 189/422 [00:30<01:05,  3.57it/s]"
     ]
    },
    {
     "name": "stdout",
     "output_type": "stream",
     "text": [
      "datasets/audios/train/Normal\n",
      "MoviePy - Writing audio in datasets/audios/train/Normal/a6RPzcU3bzA_000007_000017.wav\n"
     ]
    },
    {
     "name": "stderr",
     "output_type": "stream",
     "text": [
      " 45%|████▌     | 190/422 [00:30<01:06,  3.50it/s]"
     ]
    },
    {
     "name": "stdout",
     "output_type": "stream",
     "text": [
      "MoviePy - Done.\n",
      "\n",
      "File: datasets/train/Normal/a6RPzcU3bzA_000007_000017.mp4\n",
      "Ground Truth: Normal\n",
      "Top predictions:\n",
      "No people is in the room: 28.95%\n",
      "     Celebrating: 21.22%\n",
      "Playing with pets: 8.17%\n",
      "         Dancing: 7.93%\n",
      "          Dining: 5.32%\n",
      "\n"
     ]
    },
    {
     "name": "stderr",
     "output_type": "stream",
     "text": [
      " 45%|████▌     | 190/422 [00:30<01:06,  3.50it/s]"
     ]
    },
    {
     "name": "stdout",
     "output_type": "stream",
     "text": [
      "datasets/audios/train/Normal\n",
      "MoviePy - Writing audio in datasets/audios/train/Normal/A7Th1TrWh8U_000086_000096.wav\n"
     ]
    },
    {
     "name": "stderr",
     "output_type": "stream",
     "text": [
      " 45%|████▌     | 191/422 [00:30<01:07,  3.45it/s]"
     ]
    },
    {
     "name": "stdout",
     "output_type": "stream",
     "text": [
      "MoviePy - Done.\n",
      "\n",
      "File: datasets/train/Normal/A7Th1TrWh8U_000086_000096.mp4\n",
      "Ground Truth: Normal\n",
      "Top predictions:\n",
      "      Using drug: 19.14%\n",
      "        Knitting: 9.47%\n",
      "  Using computer: 8.47%\n",
      "No people is in the room: 8.39%\n",
      "    Sitting down: 5.82%\n",
      "\n"
     ]
    },
    {
     "name": "stderr",
     "output_type": "stream",
     "text": [
      " 45%|████▌     | 191/422 [00:30<01:07,  3.45it/s]"
     ]
    },
    {
     "name": "stdout",
     "output_type": "stream",
     "text": [
      "datasets/audios/train/Normal\n",
      "MoviePy - Writing audio in datasets/audios/train/Normal/AA-ZLdnX1mA_000060_000070.wav\n"
     ]
    },
    {
     "name": "stderr",
     "output_type": "stream",
     "text": [
      " 45%|████▌     | 192/422 [00:30<01:08,  3.34it/s]"
     ]
    },
    {
     "name": "stdout",
     "output_type": "stream",
     "text": [
      "MoviePy - Done.\n",
      "\n",
      "File: datasets/train/Normal/AA-ZLdnX1mA_000060_000070.mp4\n",
      "Ground Truth: Normal\n",
      "Top predictions:\n",
      "No people is in the room: 58.78%\n",
      "     Eating food: 5.82%\n",
      "        Chatting: 3.78%\n",
      "  Using computer: 3.55%\n",
      "         Talking: 3.08%\n",
      "\n",
      "This video datasets/train/Normal/adl-01-cam0-rgb.mp4 has no audio!\n"
     ]
    },
    {
     "name": "stderr",
     "output_type": "stream",
     "text": [
      " 46%|████▌     | 194/422 [00:30<00:45,  5.01it/s]"
     ]
    },
    {
     "name": "stdout",
     "output_type": "stream",
     "text": [
      "This video datasets/train/Normal/adl-02-cam0-rgb.mp4 has no audio!\n",
      "This video datasets/train/Normal/adl-03-cam0-rgb.mp4 has no audio!\n"
     ]
    },
    {
     "name": "stderr",
     "output_type": "stream",
     "text": [
      " 46%|████▋     | 196/422 [00:31<00:34,  6.60it/s]"
     ]
    },
    {
     "name": "stdout",
     "output_type": "stream",
     "text": [
      "This video datasets/train/Normal/adl-04-cam0-rgb.mp4 has no audio!\n"
     ]
    },
    {
     "name": "stderr",
     "output_type": "stream",
     "text": [
      " 47%|████▋     | 198/422 [00:31<00:27,  8.04it/s]"
     ]
    },
    {
     "name": "stdout",
     "output_type": "stream",
     "text": [
      "This video datasets/train/Normal/adl-05-cam0-rgb.mp4 has no audio!\n",
      "This video datasets/train/Normal/adl-06-cam0-rgb.mp4 has no audio!\n",
      "This video datasets/train/Normal/adl-07-cam0-rgb.mp4 has no audio!\n"
     ]
    },
    {
     "name": "stderr",
     "output_type": "stream",
     "text": [
      " 47%|████▋     | 200/422 [00:31<00:23,  9.26it/s]"
     ]
    },
    {
     "name": "stdout",
     "output_type": "stream",
     "text": [
      "This video datasets/train/Normal/adl-08-cam0-rgb.mp4 has no audio!\n",
      "This video datasets/train/Normal/adl-09-cam0-rgb.mp4 has no audio!\n"
     ]
    },
    {
     "name": "stderr",
     "output_type": "stream",
     "text": [
      " 48%|████▊     | 202/422 [00:31<00:21, 10.24it/s]"
     ]
    },
    {
     "name": "stdout",
     "output_type": "stream",
     "text": [
      "This video datasets/train/Normal/adl-10-cam0-rgb.mp4 has no audio!\n"
     ]
    },
    {
     "name": "stderr",
     "output_type": "stream",
     "text": [
      " 48%|████▊     | 204/422 [00:31<00:19, 11.01it/s]"
     ]
    },
    {
     "name": "stdout",
     "output_type": "stream",
     "text": [
      "This video datasets/train/Normal/adl-11-cam0-rgb.mp4 has no audio!\n",
      "This video datasets/train/Normal/adl-12-cam0-rgb.mp4 has no audio!\n",
      "This video datasets/train/Normal/adl-13-cam0-rgb.mp4 has no audio!\n"
     ]
    },
    {
     "name": "stderr",
     "output_type": "stream",
     "text": [
      " 49%|████▉     | 206/422 [00:31<00:18, 11.61it/s]"
     ]
    },
    {
     "name": "stdout",
     "output_type": "stream",
     "text": [
      "This video datasets/train/Normal/adl-14-cam0-rgb.mp4 has no audio!\n",
      "This video datasets/train/Normal/adl-15-cam0-rgb.mp4 has no audio!\n"
     ]
    },
    {
     "name": "stderr",
     "output_type": "stream",
     "text": [
      " 49%|████▉     | 208/422 [00:31<00:17, 12.04it/s]"
     ]
    },
    {
     "name": "stdout",
     "output_type": "stream",
     "text": [
      "This video datasets/train/Normal/adl-16-cam0-rgb.mp4 has no audio!\n"
     ]
    },
    {
     "name": "stderr",
     "output_type": "stream",
     "text": [
      " 50%|████▉     | 210/422 [00:32<00:17, 12.32it/s]"
     ]
    },
    {
     "name": "stdout",
     "output_type": "stream",
     "text": [
      "This video datasets/train/Normal/adl-17-cam0-rgb.mp4 has no audio!\n",
      "This video datasets/train/Normal/adl-18-cam0-rgb.mp4 has no audio!\n",
      "This video datasets/train/Normal/adl-19-cam0-rgb.mp4 has no audio!\n"
     ]
    },
    {
     "name": "stderr",
     "output_type": "stream",
     "text": [
      " 50%|█████     | 212/422 [00:32<00:16, 12.36it/s]"
     ]
    },
    {
     "name": "stdout",
     "output_type": "stream",
     "text": [
      "This video datasets/train/Normal/adl-20-cam0-rgb.mp4 has no audio!\n",
      "This video datasets/train/Normal/adl-21-cam0-rgb.mp4 has no audio!\n"
     ]
    },
    {
     "name": "stderr",
     "output_type": "stream",
     "text": [
      " 51%|█████     | 214/422 [00:32<00:16, 12.56it/s]"
     ]
    },
    {
     "name": "stdout",
     "output_type": "stream",
     "text": [
      "This video datasets/train/Normal/adl-22-cam0-rgb.mp4 has no audio!\n"
     ]
    },
    {
     "name": "stderr",
     "output_type": "stream",
     "text": [
      " 51%|█████     | 216/422 [00:32<00:16, 12.69it/s]"
     ]
    },
    {
     "name": "stdout",
     "output_type": "stream",
     "text": [
      "This video datasets/train/Normal/adl-23-cam0-rgb.mp4 has no audio!\n",
      "This video datasets/train/Normal/adl-24-cam0-rgb.mp4 has no audio!\n",
      "This video datasets/train/Normal/adl-25-cam0-rgb.mp4 has no audio!\n"
     ]
    },
    {
     "name": "stderr",
     "output_type": "stream",
     "text": [
      " 52%|█████▏    | 218/422 [00:32<00:15, 12.82it/s]"
     ]
    },
    {
     "name": "stdout",
     "output_type": "stream",
     "text": [
      "This video datasets/train/Normal/adl-26-cam0-rgb.mp4 has no audio!\n",
      "This video datasets/train/Normal/adl-27-cam0-rgb.mp4 has no audio!\n"
     ]
    },
    {
     "name": "stderr",
     "output_type": "stream",
     "text": [
      " 53%|█████▎    | 222/422 [00:33<00:16, 11.99it/s]"
     ]
    },
    {
     "name": "stdout",
     "output_type": "stream",
     "text": [
      "This video datasets/train/Normal/adl-28-cam0-rgb.mp4 has no audio!\n",
      "This video datasets/train/Normal/adl-29-cam0-rgb.mp4 has no audio!\n",
      "This video datasets/train/Normal/adl-30-cam0-rgb.mp4 has no audio!\n"
     ]
    },
    {
     "name": "stderr",
     "output_type": "stream",
     "text": [
      " 53%|█████▎    | 224/422 [00:33<00:16, 12.34it/s]"
     ]
    },
    {
     "name": "stdout",
     "output_type": "stream",
     "text": [
      "This video datasets/train/Normal/adl-31-cam0-rgb.mp4 has no audio!\n",
      "This video datasets/train/Normal/adl-32-cam0-rgb.mp4 has no audio!\n",
      "This video datasets/train/Normal/adl-33-cam0-rgb.mp4 has no audio!\n"
     ]
    },
    {
     "name": "stderr",
     "output_type": "stream",
     "text": [
      " 54%|█████▍    | 228/422 [00:33<00:15, 12.81it/s]"
     ]
    },
    {
     "name": "stdout",
     "output_type": "stream",
     "text": [
      "This video datasets/train/Normal/adl-34-cam0-rgb.mp4 has no audio!\n",
      "This video datasets/train/Normal/adl-35-cam0-rgb.mp4 has no audio!\n",
      "This video datasets/train/Normal/adl-36-cam0-rgb.mp4 has no audio!\n"
     ]
    },
    {
     "name": "stderr",
     "output_type": "stream",
     "text": [
      " 55%|█████▍    | 230/422 [00:33<00:14, 12.93it/s]"
     ]
    },
    {
     "name": "stdout",
     "output_type": "stream",
     "text": [
      "This video datasets/train/Normal/adl-37-cam0-rgb.mp4 has no audio!\n",
      "This video datasets/train/Normal/adl-38-cam0-rgb.mp4 has no audio!\n",
      "This video datasets/train/Normal/adl-39-cam0-rgb.mp4 has no audio!\n"
     ]
    },
    {
     "name": "stderr",
     "output_type": "stream",
     "text": [
      " 55%|█████▍    | 232/422 [00:34<00:14, 13.01it/s]"
     ]
    },
    {
     "name": "stdout",
     "output_type": "stream",
     "text": [
      "This video datasets/train/Normal/adl-40-cam0-rgb.mp4 has no audio!\n",
      "datasets/audios/train/Normal\n",
      "MoviePy - Writing audio in datasets/audios/train/Normal/admrQMs57JQ_000002_000012.wav\n"
     ]
    },
    {
     "name": "stderr",
     "output_type": "stream",
     "text": [
      " 55%|█████▍    | 232/422 [00:34<00:14, 13.01it/s]"
     ]
    },
    {
     "name": "stdout",
     "output_type": "stream",
     "text": [
      "MoviePy - Done.\n"
     ]
    },
    {
     "name": "stderr",
     "output_type": "stream",
     "text": [
      " 55%|█████▍    | 232/422 [00:34<00:14, 13.01it/s]"
     ]
    },
    {
     "name": "stdout",
     "output_type": "stream",
     "text": [
      "\n",
      "File: datasets/train/Normal/admrQMs57JQ_000002_000012.mp4\n",
      "Ground Truth: Normal\n",
      "Top predictions:\n",
      "No people is in the room: 86.85%\n",
      "         Working: 2.32%\n",
      "         Talking: 1.97%\n",
      "    Sitting down: 1.93%\n",
      "   Setting table: 1.23%\n",
      "\n",
      "datasets/audios/train/Normal\n",
      "MoviePy - Writing audio in datasets/audios/train/Normal/AdwS9UEt1Jg_000125_000135.wav\n"
     ]
    },
    {
     "name": "stderr",
     "output_type": "stream",
     "text": [
      " 55%|█████▌    | 234/422 [00:34<00:34,  5.43it/s]"
     ]
    },
    {
     "name": "stdout",
     "output_type": "stream",
     "text": [
      "MoviePy - Done.\n",
      "\n",
      "File: datasets/train/Normal/AdwS9UEt1Jg_000125_000135.mp4\n",
      "Ground Truth: Normal\n",
      "Top predictions:\n",
      "   Setting table: 30.24%\n",
      "  Using computer: 19.23%\n",
      "      Using drug: 12.25%\n",
      "Organizing space: 5.72%\n",
      "         Reading: 4.42%\n",
      "\n"
     ]
    },
    {
     "name": "stderr",
     "output_type": "stream",
     "text": [
      " 55%|█████▌    | 234/422 [00:34<00:34,  5.43it/s]"
     ]
    },
    {
     "name": "stdout",
     "output_type": "stream",
     "text": [
      "datasets/audios/train/Normal\n",
      "MoviePy - Writing audio in datasets/audios/train/Normal/ADzB-RTmLJU_000004_000014.wav\n"
     ]
    },
    {
     "name": "stderr",
     "output_type": "stream",
     "text": [
      " 56%|█████▌    | 235/422 [00:35<00:38,  4.81it/s]"
     ]
    },
    {
     "name": "stdout",
     "output_type": "stream",
     "text": [
      "MoviePy - Done.\n",
      "\n",
      "File: datasets/train/Normal/ADzB-RTmLJU_000004_000014.mp4\n",
      "Ground Truth: Normal\n",
      "Top predictions:\n",
      "   Doing laundry: 85.36%\n",
      "        Cleaning: 4.91%\n",
      "         Working: 2.90%\n",
      "        Studying: 1.49%\n",
      "          Sewing: 1.06%\n",
      "\n"
     ]
    },
    {
     "name": "stderr",
     "output_type": "stream",
     "text": [
      " 56%|█████▌    | 235/422 [00:35<00:38,  4.81it/s]"
     ]
    },
    {
     "name": "stdout",
     "output_type": "stream",
     "text": [
      "datasets/audios/train/Normal\n",
      "MoviePy - Writing audio in datasets/audios/train/Normal/AG7rHLw-ckU_000301_000311.wav\n"
     ]
    },
    {
     "name": "stderr",
     "output_type": "stream",
     "text": [
      " 56%|█████▌    | 236/422 [00:35<00:42,  4.40it/s]"
     ]
    },
    {
     "name": "stdout",
     "output_type": "stream",
     "text": [
      "MoviePy - Done.\n",
      "\n",
      "File: datasets/train/Normal/AG7rHLw-ckU_000301_000311.mp4\n",
      "Ground Truth: Normal\n",
      "Top predictions:\n",
      "No people is in the room: 71.45%\n",
      "   Setting table: 5.18%\n",
      "         Working: 4.79%\n",
      "          Dining: 3.01%\n",
      "  Using computer: 2.28%\n",
      "\n"
     ]
    },
    {
     "name": "stderr",
     "output_type": "stream",
     "text": [
      " 56%|█████▌    | 236/422 [00:35<00:42,  4.40it/s]"
     ]
    },
    {
     "name": "stdout",
     "output_type": "stream",
     "text": [
      "datasets/audios/train/Normal\n",
      "MoviePy - Writing audio in datasets/audios/train/Normal/AGmRgVcOLYA_000061_000071.wav\n"
     ]
    },
    {
     "name": "stderr",
     "output_type": "stream",
     "text": [
      " 56%|█████▌    | 237/422 [00:35<00:46,  3.96it/s]"
     ]
    },
    {
     "name": "stdout",
     "output_type": "stream",
     "text": [
      "MoviePy - Done.\n",
      "\n",
      "File: datasets/train/Normal/AGmRgVcOLYA_000061_000071.mp4\n",
      "Ground Truth: Normal\n",
      "Top predictions:\n",
      "  Using computer: 40.38%\n",
      "     Celebrating: 8.85%\n",
      "No people is in the room: 8.77%\n",
      "          Dining: 5.93%\n",
      "Playing board games: 4.52%\n",
      "\n"
     ]
    },
    {
     "name": "stderr",
     "output_type": "stream",
     "text": [
      " 56%|█████▌    | 237/422 [00:35<00:46,  3.96it/s]"
     ]
    },
    {
     "name": "stdout",
     "output_type": "stream",
     "text": [
      "datasets/audios/train/Normal\n",
      "MoviePy - Writing audio in datasets/audios/train/Normal/AIrIuRyN5VA_000097_000107.wav\n"
     ]
    },
    {
     "name": "stderr",
     "output_type": "stream",
     "text": [
      " 56%|█████▋    | 238/422 [00:36<00:49,  3.71it/s]"
     ]
    },
    {
     "name": "stdout",
     "output_type": "stream",
     "text": [
      "MoviePy - Done.\n",
      "\n",
      "File: datasets/train/Normal/AIrIuRyN5VA_000097_000107.mp4\n",
      "Ground Truth: Normal\n",
      "Top predictions:\n",
      "        Drinking: 76.60%\n",
      "       Vacumning: 5.50%\n",
      "         Cooking: 3.06%\n",
      "No people is in the room: 1.78%\n",
      "        Cleaning: 1.69%\n",
      "\n"
     ]
    },
    {
     "name": "stderr",
     "output_type": "stream",
     "text": [
      " 56%|█████▋    | 238/422 [00:36<00:49,  3.71it/s]"
     ]
    },
    {
     "name": "stdout",
     "output_type": "stream",
     "text": [
      "datasets/audios/train/Normal\n",
      "MoviePy - Writing audio in datasets/audios/train/Normal/aKKNRI3PYYs_000130_000140.wav\n"
     ]
    },
    {
     "name": "stderr",
     "output_type": "stream",
     "text": [
      " 57%|█████▋    | 239/422 [00:36<00:54,  3.38it/s]"
     ]
    },
    {
     "name": "stdout",
     "output_type": "stream",
     "text": [
      "MoviePy - Done.\n",
      "\n",
      "File: datasets/train/Normal/aKKNRI3PYYs_000130_000140.mp4\n",
      "Ground Truth: Normal\n",
      "Top predictions:\n",
      "No people is in the room: 69.34%\n",
      "Playing with pets: 6.79%\n",
      "   Mopping floor: 5.82%\n",
      "     Celebrating: 4.45%\n",
      "       Showering: 2.22%\n",
      "\n"
     ]
    },
    {
     "name": "stderr",
     "output_type": "stream",
     "text": [
      " 57%|█████▋    | 239/422 [00:36<00:54,  3.38it/s]"
     ]
    },
    {
     "name": "stdout",
     "output_type": "stream",
     "text": [
      "datasets/audios/train/Normal\n",
      "MoviePy - Writing audio in datasets/audios/train/Normal/ALuLyCkzCt8_000060_000070.wav\n"
     ]
    },
    {
     "name": "stderr",
     "output_type": "stream",
     "text": [
      " 57%|█████▋    | 240/422 [00:36<00:55,  3.28it/s]"
     ]
    },
    {
     "name": "stdout",
     "output_type": "stream",
     "text": [
      "MoviePy - Done.\n",
      "\n",
      "File: datasets/train/Normal/ALuLyCkzCt8_000060_000070.mp4\n",
      "Ground Truth: Normal\n",
      "Top predictions:\n",
      "        Cleaning: 41.95%\n",
      "   Mopping floor: 18.49%\n",
      "       Showering: 16.57%\n",
      "   Doing laundry: 5.15%\n",
      "        Painting: 3.32%\n",
      "\n"
     ]
    },
    {
     "name": "stderr",
     "output_type": "stream",
     "text": [
      " 57%|█████▋    | 240/422 [00:36<00:55,  3.28it/s]"
     ]
    },
    {
     "name": "stdout",
     "output_type": "stream",
     "text": [
      "datasets/audios/train/Normal\n",
      "MoviePy - Writing audio in datasets/audios/train/Normal/anDbHNhATAE_000039_000049.wav\n"
     ]
    },
    {
     "name": "stderr",
     "output_type": "stream",
     "text": [
      " 57%|█████▋    | 241/422 [00:37<00:56,  3.19it/s]"
     ]
    },
    {
     "name": "stdout",
     "output_type": "stream",
     "text": [
      "MoviePy - Done.\n",
      "\n",
      "File: datasets/train/Normal/anDbHNhATAE_000039_000049.mp4\n",
      "Ground Truth: Normal\n",
      "Top predictions:\n",
      "Playing with pets: 59.89%\n",
      "     Eating food: 7.24%\n",
      "No people is in the room: 6.78%\n",
      "    Sitting down: 5.71%\n",
      "   Mopping floor: 3.94%\n",
      "\n"
     ]
    },
    {
     "name": "stderr",
     "output_type": "stream",
     "text": [
      " 57%|█████▋    | 241/422 [00:37<00:56,  3.19it/s]"
     ]
    },
    {
     "name": "stdout",
     "output_type": "stream",
     "text": [
      "datasets/audios/train/Normal\n",
      "MoviePy - Writing audio in datasets/audios/train/Normal/anzXsViG6wc_000370_000380.wav\n"
     ]
    },
    {
     "name": "stderr",
     "output_type": "stream",
     "text": [
      " 57%|█████▋    | 242/422 [00:37<00:57,  3.12it/s]"
     ]
    },
    {
     "name": "stdout",
     "output_type": "stream",
     "text": [
      "MoviePy - Done.\n",
      "\n",
      "File: datasets/train/Normal/anzXsViG6wc_000370_000380.mp4\n",
      "Ground Truth: Normal\n",
      "Top predictions:\n",
      "  Using computer: 38.59%\n",
      "        Studying: 32.67%\n",
      "        Painting: 7.71%\n",
      "Organizing space: 4.58%\n",
      "         Working: 4.25%\n",
      "\n"
     ]
    },
    {
     "name": "stderr",
     "output_type": "stream",
     "text": [
      " 57%|█████▋    | 242/422 [00:37<00:57,  3.12it/s]"
     ]
    },
    {
     "name": "stdout",
     "output_type": "stream",
     "text": [
      "datasets/audios/train/Normal\n",
      "MoviePy - Writing audio in datasets/audios/train/Normal/AObYuoaz-7o_000245_000255.wav\n"
     ]
    },
    {
     "name": "stderr",
     "output_type": "stream",
     "text": [
      " 58%|█████▊    | 243/422 [00:37<00:57,  3.09it/s]"
     ]
    },
    {
     "name": "stdout",
     "output_type": "stream",
     "text": [
      "MoviePy - Done.\n",
      "\n",
      "File: datasets/train/Normal/AObYuoaz-7o_000245_000255.mp4\n",
      "Ground Truth: Normal\n",
      "Top predictions:\n",
      "     Eating food: 99.88%\n",
      "        Drinking: 0.08%\n",
      "         Smoking: 0.02%\n",
      "         Choking: 0.01%\n",
      "No people is in the room: 0.00%\n",
      "\n"
     ]
    },
    {
     "name": "stderr",
     "output_type": "stream",
     "text": [
      " 58%|█████▊    | 243/422 [00:37<00:57,  3.09it/s]"
     ]
    },
    {
     "name": "stdout",
     "output_type": "stream",
     "text": [
      "datasets/audios/train/Normal\n",
      "MoviePy - Writing audio in datasets/audios/train/Normal/aprcI6-IHmY_000146_000156.wav\n"
     ]
    },
    {
     "name": "stderr",
     "output_type": "stream",
     "text": [
      " 58%|█████▊    | 244/422 [00:38<00:57,  3.11it/s]"
     ]
    },
    {
     "name": "stdout",
     "output_type": "stream",
     "text": [
      "MoviePy - Done.\n",
      "\n",
      "File: datasets/train/Normal/aprcI6-IHmY_000146_000156.mp4\n",
      "Ground Truth: Normal\n",
      "Top predictions:\n",
      "    Sitting down: 50.63%\n",
      "   Setting table: 25.95%\n",
      "      Exercising: 9.36%\n",
      "No people is in the room: 8.34%\n",
      "   Mopping floor: 2.12%\n",
      "\n"
     ]
    },
    {
     "name": "stderr",
     "output_type": "stream",
     "text": [
      " 58%|█████▊    | 244/422 [00:38<00:57,  3.11it/s]"
     ]
    },
    {
     "name": "stdout",
     "output_type": "stream",
     "text": [
      "datasets/audios/train/Normal\n",
      "MoviePy - Writing audio in datasets/audios/train/Normal/auSl2RAONs4_000007_000017.wav\n"
     ]
    },
    {
     "name": "stderr",
     "output_type": "stream",
     "text": [
      " 58%|█████▊    | 245/422 [00:38<00:56,  3.11it/s]"
     ]
    },
    {
     "name": "stdout",
     "output_type": "stream",
     "text": [
      "MoviePy - Done.\n",
      "\n",
      "File: datasets/train/Normal/auSl2RAONs4_000007_000017.mp4\n",
      "Ground Truth: Normal\n",
      "Top predictions:\n",
      "Playing with pets: 21.58%\n",
      "   Setting table: 15.32%\n",
      "No people is in the room: 15.08%\n",
      "         Talking: 11.81%\n",
      "        Chatting: 5.34%\n",
      "\n"
     ]
    },
    {
     "name": "stderr",
     "output_type": "stream",
     "text": [
      " 58%|█████▊    | 245/422 [00:38<00:56,  3.11it/s]"
     ]
    },
    {
     "name": "stdout",
     "output_type": "stream",
     "text": [
      "datasets/audios/train/Normal\n",
      "MoviePy - Writing audio in datasets/audios/train/Normal/AV4t72IYADk_000048_000058.wav\n"
     ]
    },
    {
     "name": "stderr",
     "output_type": "stream",
     "text": [
      " 58%|█████▊    | 246/422 [00:38<00:58,  3.02it/s]"
     ]
    },
    {
     "name": "stdout",
     "output_type": "stream",
     "text": [
      "MoviePy - Done.\n",
      "\n",
      "File: datasets/train/Normal/AV4t72IYADk_000048_000058.mp4\n",
      "Ground Truth: Normal\n",
      "Top predictions:\n",
      "        Cleaning: 31.77%\n",
      "      Decorating: 9.05%\n",
      "   Doing laundry: 8.76%\n",
      "   Setting table: 6.81%\n",
      "    Sitting down: 6.08%\n",
      "\n"
     ]
    },
    {
     "name": "stderr",
     "output_type": "stream",
     "text": [
      " 58%|█████▊    | 246/422 [00:38<00:58,  3.02it/s]"
     ]
    },
    {
     "name": "stdout",
     "output_type": "stream",
     "text": [
      "datasets/audios/train/Normal\n",
      "MoviePy - Writing audio in datasets/audios/train/Normal/AvgqtvtOgF4_000443_000453.wav\n"
     ]
    },
    {
     "name": "stderr",
     "output_type": "stream",
     "text": [
      " 59%|█████▊    | 247/422 [00:39<00:58,  3.02it/s]"
     ]
    },
    {
     "name": "stdout",
     "output_type": "stream",
     "text": [
      "MoviePy - Done.\n",
      "\n",
      "File: datasets/train/Normal/AvgqtvtOgF4_000443_000453.mp4\n",
      "Ground Truth: Normal\n",
      "Top predictions:\n",
      "Playing board games: 69.50%\n",
      "No people is in the room: 9.33%\n",
      "        Studying: 3.78%\n",
      "         Reading: 3.70%\n",
      "  Using computer: 3.05%\n",
      "\n"
     ]
    },
    {
     "name": "stderr",
     "output_type": "stream",
     "text": [
      " 59%|█████▊    | 247/422 [00:39<00:58,  3.02it/s]"
     ]
    },
    {
     "name": "stdout",
     "output_type": "stream",
     "text": [
      "datasets/audios/train/Normal\n",
      "MoviePy - Writing audio in datasets/audios/train/Normal/aWEk9Sfs67c_000194_000204.wav\n"
     ]
    },
    {
     "name": "stderr",
     "output_type": "stream",
     "text": [
      " 59%|█████▉    | 248/422 [00:39<00:56,  3.09it/s]"
     ]
    },
    {
     "name": "stdout",
     "output_type": "stream",
     "text": [
      "MoviePy - Done.\n",
      "\n",
      "File: datasets/train/Normal/aWEk9Sfs67c_000194_000204.mp4\n",
      "Ground Truth: Normal\n",
      "Top predictions:\n",
      "No people is in the room: 50.71%\n",
      "     Eating food: 25.76%\n",
      "Playing with pets: 6.89%\n",
      "    Sitting down: 3.45%\n",
      "        Drinking: 2.29%\n",
      "\n"
     ]
    },
    {
     "name": "stderr",
     "output_type": "stream",
     "text": [
      " 59%|█████▉    | 248/422 [00:39<00:56,  3.09it/s]"
     ]
    },
    {
     "name": "stdout",
     "output_type": "stream",
     "text": [
      "datasets/audios/train/Normal\n",
      "MoviePy - Writing audio in datasets/audios/train/Normal/Awm6MWRRAa4_000222_000232.wav\n"
     ]
    },
    {
     "name": "stderr",
     "output_type": "stream",
     "text": [
      " 59%|█████▉    | 249/422 [00:39<00:55,  3.14it/s]"
     ]
    },
    {
     "name": "stdout",
     "output_type": "stream",
     "text": [
      "MoviePy - Done.\n",
      "\n",
      "File: datasets/train/Normal/Awm6MWRRAa4_000222_000232.mp4\n",
      "Ground Truth: Normal\n",
      "Top predictions:\n",
      "   Doing laundry: 29.02%\n",
      "         Cooking: 27.72%\n",
      "No people is in the room: 17.37%\n",
      "       Showering: 10.51%\n",
      "   Setting table: 5.34%\n",
      "\n"
     ]
    },
    {
     "name": "stderr",
     "output_type": "stream",
     "text": [
      " 59%|█████▉    | 249/422 [00:39<00:55,  3.14it/s]"
     ]
    },
    {
     "name": "stdout",
     "output_type": "stream",
     "text": [
      "datasets/audios/train/Normal\n",
      "MoviePy - Writing audio in datasets/audios/train/Normal/AY1CsIuu3jg_000229_000239.wav\n"
     ]
    },
    {
     "name": "stderr",
     "output_type": "stream",
     "text": [
      " 59%|█████▉    | 250/422 [00:40<00:56,  3.06it/s]"
     ]
    },
    {
     "name": "stdout",
     "output_type": "stream",
     "text": [
      "MoviePy - Done.\n",
      "\n",
      "File: datasets/train/Normal/AY1CsIuu3jg_000229_000239.mp4\n",
      "Ground Truth: Normal\n",
      "Top predictions:\n",
      "No people is in the room: 45.10%\n",
      "Unattended cooking: 13.38%\n",
      "         Cooking: 11.51%\n",
      "   Doing laundry: 9.52%\n",
      "  Using computer: 7.21%\n",
      "\n"
     ]
    },
    {
     "name": "stderr",
     "output_type": "stream",
     "text": [
      " 59%|█████▉    | 250/422 [00:40<00:56,  3.06it/s]"
     ]
    },
    {
     "name": "stdout",
     "output_type": "stream",
     "text": [
      "datasets/audios/train/Normal\n",
      "MoviePy - Writing audio in datasets/audios/train/Normal/AYdyPzM8oL8_000004_000014.wav\n"
     ]
    },
    {
     "name": "stderr",
     "output_type": "stream",
     "text": [
      " 59%|█████▉    | 251/422 [00:40<00:55,  3.11it/s]"
     ]
    },
    {
     "name": "stdout",
     "output_type": "stream",
     "text": [
      "MoviePy - Done.\n",
      "\n",
      "File: datasets/train/Normal/AYdyPzM8oL8_000004_000014.mp4\n",
      "Ground Truth: Normal\n",
      "Top predictions:\n",
      "     Eating food: 44.51%\n",
      "         Talking: 18.84%\n",
      "No people is in the room: 18.07%\n",
      "Playing with pets: 5.45%\n",
      "        Speaking: 2.79%\n",
      "\n"
     ]
    },
    {
     "name": "stderr",
     "output_type": "stream",
     "text": [
      " 59%|█████▉    | 251/422 [00:40<00:55,  3.11it/s]"
     ]
    },
    {
     "name": "stdout",
     "output_type": "stream",
     "text": [
      "datasets/audios/train/Normal\n",
      "MoviePy - Writing audio in datasets/audios/train/Normal/B-SQ8cYQSMk_000222_000232.wav\n"
     ]
    },
    {
     "name": "stderr",
     "output_type": "stream",
     "text": [
      " 60%|█████▉    | 252/422 [00:40<00:55,  3.04it/s]"
     ]
    },
    {
     "name": "stdout",
     "output_type": "stream",
     "text": [
      "MoviePy - Done.\n",
      "\n",
      "File: datasets/train/Normal/B-SQ8cYQSMk_000222_000232.mp4\n",
      "Ground Truth: Normal\n",
      "Top predictions:\n",
      "   Doing laundry: 30.86%\n",
      "No people is in the room: 21.22%\n",
      "   Setting table: 9.68%\n",
      "        Cleaning: 5.88%\n",
      "      Decorating: 5.66%\n",
      "\n"
     ]
    },
    {
     "name": "stderr",
     "output_type": "stream",
     "text": [
      " 60%|█████▉    | 252/422 [00:40<00:55,  3.04it/s]"
     ]
    },
    {
     "name": "stdout",
     "output_type": "stream",
     "text": [
      "datasets/audios/train/Normal\n",
      "MoviePy - Writing audio in datasets/audios/train/Normal/B9JqNr0e-Pw_000022_000032.wav\n"
     ]
    },
    {
     "name": "stderr",
     "output_type": "stream",
     "text": [
      " 60%|█████▉    | 253/422 [00:41<00:56,  3.00it/s]"
     ]
    },
    {
     "name": "stdout",
     "output_type": "stream",
     "text": [
      "MoviePy - Done.\n",
      "\n",
      "File: datasets/train/Normal/B9JqNr0e-Pw_000022_000032.mp4\n",
      "Ground Truth: Normal\n",
      "Top predictions:\n",
      "      Using drug: 26.80%\n",
      "   Doing laundry: 19.67%\n",
      "No people is in the room: 13.96%\n",
      "       Showering: 7.55%\n",
      "   Setting table: 7.45%\n",
      "\n"
     ]
    },
    {
     "name": "stderr",
     "output_type": "stream",
     "text": [
      " 60%|█████▉    | 253/422 [00:41<00:56,  3.00it/s]"
     ]
    },
    {
     "name": "stdout",
     "output_type": "stream",
     "text": [
      "datasets/audios/train/Normal\n",
      "MoviePy - Writing audio in datasets/audios/train/Normal/baf8O6sSMLI_000053_000063.wav\n"
     ]
    },
    {
     "name": "stderr",
     "output_type": "stream",
     "text": [
      " 60%|██████    | 254/422 [00:41<00:54,  3.06it/s]"
     ]
    },
    {
     "name": "stdout",
     "output_type": "stream",
     "text": [
      "MoviePy - Done.\n",
      "\n",
      "File: datasets/train/Normal/baf8O6sSMLI_000053_000063.mp4\n",
      "Ground Truth: Normal\n",
      "Top predictions:\n",
      "   Setting table: 53.74%\n",
      "No people is in the room: 20.74%\n",
      "      Exercising: 3.67%\n",
      "    Sitting down: 2.60%\n",
      "         Working: 2.19%\n",
      "\n"
     ]
    },
    {
     "name": "stderr",
     "output_type": "stream",
     "text": [
      " 60%|██████    | 254/422 [00:41<00:54,  3.06it/s]"
     ]
    },
    {
     "name": "stdout",
     "output_type": "stream",
     "text": [
      "datasets/audios/train/Normal\n",
      "MoviePy - Writing audio in datasets/audios/train/Normal/BDbTkmhDM2A_000087_000097.wav\n"
     ]
    },
    {
     "name": "stderr",
     "output_type": "stream",
     "text": [
      " 60%|██████    | 255/422 [00:41<00:55,  3.02it/s]"
     ]
    },
    {
     "name": "stdout",
     "output_type": "stream",
     "text": [
      "MoviePy - Done.\n",
      "\n",
      "File: datasets/train/Normal/BDbTkmhDM2A_000087_000097.mp4\n",
      "Ground Truth: Normal\n",
      "Top predictions:\n",
      "Playing board games: 20.55%\n",
      "No people is in the room: 16.24%\n",
      "Playing with pets: 14.62%\n",
      "         Reading: 7.78%\n",
      "         Talking: 5.80%\n",
      "\n"
     ]
    },
    {
     "name": "stderr",
     "output_type": "stream",
     "text": [
      " 60%|██████    | 255/422 [00:41<00:55,  3.02it/s]"
     ]
    },
    {
     "name": "stdout",
     "output_type": "stream",
     "text": [
      "datasets/audios/train/Normal\n",
      "MoviePy - Writing audio in datasets/audios/train/Normal/BiqJ_FkwCUQ_000006_000016.wav\n"
     ]
    },
    {
     "name": "stderr",
     "output_type": "stream",
     "text": [
      " 61%|██████    | 256/422 [00:41<00:54,  3.07it/s]"
     ]
    },
    {
     "name": "stdout",
     "output_type": "stream",
     "text": [
      "MoviePy - Done.\n",
      "\n",
      "File: datasets/train/Normal/BiqJ_FkwCUQ_000006_000016.mp4\n",
      "Ground Truth: Normal\n",
      "Top predictions:\n",
      "        Studying: 37.79%\n",
      "         Working: 22.33%\n",
      "      Decorating: 10.12%\n",
      "        Painting: 8.27%\n",
      "   Setting table: 7.60%\n",
      "\n"
     ]
    },
    {
     "name": "stderr",
     "output_type": "stream",
     "text": [
      " 61%|██████    | 256/422 [00:42<00:54,  3.07it/s]"
     ]
    },
    {
     "name": "stdout",
     "output_type": "stream",
     "text": [
      "datasets/audios/train/Normal\n",
      "MoviePy - Writing audio in datasets/audios/train/Normal/BjFtM8jhFoU_000008_000018.wav\n"
     ]
    },
    {
     "name": "stderr",
     "output_type": "stream",
     "text": [
      " 61%|██████    | 257/422 [00:42<00:52,  3.12it/s]"
     ]
    },
    {
     "name": "stdout",
     "output_type": "stream",
     "text": [
      "MoviePy - Done.\n",
      "\n",
      "File: datasets/train/Normal/BjFtM8jhFoU_000008_000018.mp4\n",
      "Ground Truth: Normal\n",
      "Top predictions:\n",
      "         Dancing: 19.78%\n",
      "      Using drug: 12.43%\n",
      "   Playing music: 6.92%\n",
      "      Decorating: 6.17%\n",
      "Playing with pets: 5.52%\n",
      "\n"
     ]
    },
    {
     "name": "stderr",
     "output_type": "stream",
     "text": [
      " 61%|██████    | 257/422 [00:42<00:52,  3.12it/s]"
     ]
    },
    {
     "name": "stdout",
     "output_type": "stream",
     "text": [
      "datasets/audios/train/Normal\n",
      "MoviePy - Writing audio in datasets/audios/train/Normal/bKGIbOPMSPQ_000002_000012.wav\n"
     ]
    },
    {
     "name": "stderr",
     "output_type": "stream",
     "text": [
      " 61%|██████    | 258/422 [00:42<00:54,  3.02it/s]"
     ]
    },
    {
     "name": "stdout",
     "output_type": "stream",
     "text": [
      "MoviePy - Done.\n",
      "\n",
      "File: datasets/train/Normal/bKGIbOPMSPQ_000002_000012.mp4\n",
      "Ground Truth: Normal\n",
      "Top predictions:\n",
      "   Doing laundry: 71.52%\n",
      "       Showering: 16.49%\n",
      "         Working: 9.44%\n",
      "         Running: 0.75%\n",
      "        Cleaning: 0.35%\n",
      "\n"
     ]
    },
    {
     "name": "stderr",
     "output_type": "stream",
     "text": [
      " 61%|██████    | 258/422 [00:42<00:54,  3.02it/s]"
     ]
    },
    {
     "name": "stdout",
     "output_type": "stream",
     "text": [
      "datasets/audios/train/Normal\n",
      "MoviePy - Writing audio in datasets/audios/train/Normal/BL0sZO7hrIc_000427_000437.wav\n"
     ]
    },
    {
     "name": "stderr",
     "output_type": "stream",
     "text": [
      " 61%|██████▏   | 259/422 [00:42<00:53,  3.07it/s]"
     ]
    },
    {
     "name": "stdout",
     "output_type": "stream",
     "text": [
      "MoviePy - Done.\n",
      "\n",
      "File: datasets/train/Normal/BL0sZO7hrIc_000427_000437.mp4\n",
      "Ground Truth: Normal\n",
      "Top predictions:\n",
      "      Using drug: 37.46%\n",
      "         Smoking: 17.44%\n",
      "Theft or vandalism: 9.02%\n",
      "      Exercising: 4.08%\n",
      "        Painting: 4.01%\n",
      "\n"
     ]
    },
    {
     "name": "stderr",
     "output_type": "stream",
     "text": [
      " 61%|██████▏   | 259/422 [00:43<00:53,  3.07it/s]"
     ]
    },
    {
     "name": "stdout",
     "output_type": "stream",
     "text": [
      "datasets/audios/train/Normal\n",
      "MoviePy - Writing audio in datasets/audios/train/Normal/bNRAN0wh0tc_000046_000056.wav\n"
     ]
    },
    {
     "name": "stderr",
     "output_type": "stream",
     "text": [
      " 62%|██████▏   | 260/422 [00:43<00:52,  3.07it/s]"
     ]
    },
    {
     "name": "stdout",
     "output_type": "stream",
     "text": [
      "MoviePy - Done.\n",
      "\n",
      "File: datasets/train/Normal/bNRAN0wh0tc_000046_000056.mp4\n",
      "Ground Truth: Normal\n",
      "Top predictions:\n",
      "     Eating food: 45.94%\n",
      "No people is in the room: 22.05%\n",
      "         Smoking: 11.97%\n",
      "        Drinking: 6.41%\n",
      "        Chatting: 5.27%\n",
      "\n"
     ]
    },
    {
     "name": "stderr",
     "output_type": "stream",
     "text": [
      " 62%|██████▏   | 260/422 [00:43<00:52,  3.07it/s]"
     ]
    },
    {
     "name": "stdout",
     "output_type": "stream",
     "text": [
      "datasets/audios/train/Normal\n",
      "MoviePy - Writing audio in datasets/audios/train/Normal/BOc3MlonHb8_000075_000085.wav\n"
     ]
    },
    {
     "name": "stderr",
     "output_type": "stream",
     "text": [
      " 62%|██████▏   | 261/422 [00:43<00:54,  2.95it/s]"
     ]
    },
    {
     "name": "stdout",
     "output_type": "stream",
     "text": [
      "MoviePy - Done.\n",
      "\n",
      "File: datasets/train/Normal/BOc3MlonHb8_000075_000085.mp4\n",
      "Ground Truth: Normal\n",
      "Top predictions:\n",
      "No people is in the room: 18.66%\n",
      "     Celebrating: 16.25%\n",
      "      Decorating: 10.28%\n",
      "  Using computer: 10.07%\n",
      "      Meditating: 6.62%\n",
      "\n"
     ]
    },
    {
     "name": "stderr",
     "output_type": "stream",
     "text": [
      " 62%|██████▏   | 261/422 [00:43<00:54,  2.95it/s]"
     ]
    },
    {
     "name": "stdout",
     "output_type": "stream",
     "text": [
      "datasets/audios/train/Normal\n",
      "MoviePy - Writing audio in datasets/audios/train/Normal/bPfJAqym2vc_000019_000029.wav\n"
     ]
    },
    {
     "name": "stderr",
     "output_type": "stream",
     "text": [
      " 62%|██████▏   | 262/422 [00:44<00:54,  2.94it/s]"
     ]
    },
    {
     "name": "stdout",
     "output_type": "stream",
     "text": [
      "MoviePy - Done.\n",
      "\n",
      "File: datasets/train/Normal/bPfJAqym2vc_000019_000029.mp4\n",
      "Ground Truth: Normal\n",
      "Top predictions:\n",
      "  Using computer: 58.75%\n",
      "      Using drug: 13.51%\n",
      "   Setting table: 4.07%\n",
      "        Painting: 3.53%\n",
      "        Studying: 3.26%\n",
      "\n"
     ]
    },
    {
     "name": "stderr",
     "output_type": "stream",
     "text": [
      " 62%|██████▏   | 262/422 [00:44<00:54,  2.94it/s]"
     ]
    },
    {
     "name": "stdout",
     "output_type": "stream",
     "text": [
      "datasets/audios/train/Normal\n",
      "MoviePy - Writing audio in datasets/audios/train/Normal/bPIP4BmjDAw_000070_000080.wav\n"
     ]
    },
    {
     "name": "stderr",
     "output_type": "stream",
     "text": [
      " 62%|██████▏   | 263/422 [00:44<00:53,  2.98it/s]"
     ]
    },
    {
     "name": "stdout",
     "output_type": "stream",
     "text": [
      "MoviePy - Done.\n",
      "\n",
      "File: datasets/train/Normal/bPIP4BmjDAw_000070_000080.mp4\n",
      "Ground Truth: Normal\n",
      "Top predictions:\n",
      "     Celebrating: 45.37%\n",
      "  Using computer: 12.20%\n",
      "Organizing space: 8.61%\n",
      "      Decorating: 7.40%\n",
      "      Meditating: 5.15%\n",
      "\n"
     ]
    },
    {
     "name": "stderr",
     "output_type": "stream",
     "text": [
      " 62%|██████▏   | 263/422 [00:44<00:53,  2.98it/s]"
     ]
    },
    {
     "name": "stdout",
     "output_type": "stream",
     "text": [
      "datasets/audios/train/Normal\n",
      "MoviePy - Writing audio in datasets/audios/train/Normal/Bq0R48bHZnY_000412_000422.wav\n"
     ]
    },
    {
     "name": "stderr",
     "output_type": "stream",
     "text": [
      " 63%|██████▎   | 264/422 [00:44<00:51,  3.08it/s]"
     ]
    },
    {
     "name": "stdout",
     "output_type": "stream",
     "text": [
      "MoviePy - Done.\n",
      "\n",
      "File: datasets/train/Normal/Bq0R48bHZnY_000412_000422.mp4\n",
      "Ground Truth: Normal\n",
      "Top predictions:\n",
      "    Sitting down: 51.86%\n",
      "   Doing laundry: 7.18%\n",
      "         Working: 6.43%\n",
      "        Cleaning: 3.79%\n",
      "        Knitting: 3.64%\n",
      "\n"
     ]
    },
    {
     "name": "stderr",
     "output_type": "stream",
     "text": [
      " 63%|██████▎   | 264/422 [00:44<00:51,  3.08it/s]"
     ]
    },
    {
     "name": "stdout",
     "output_type": "stream",
     "text": [
      "datasets/audios/train/Normal\n",
      "MoviePy - Writing audio in datasets/audios/train/Normal/bSG07EG2vu8_000007_000017.wav\n"
     ]
    },
    {
     "name": "stderr",
     "output_type": "stream",
     "text": [
      " 63%|██████▎   | 265/422 [00:44<00:50,  3.12it/s]"
     ]
    },
    {
     "name": "stdout",
     "output_type": "stream",
     "text": [
      "MoviePy - Done.\n",
      "\n",
      "File: datasets/train/Normal/bSG07EG2vu8_000007_000017.mp4\n",
      "Ground Truth: Normal\n",
      "Top predictions:\n",
      "         Dancing: 54.77%\n",
      "      Using drug: 6.48%\n",
      "     Celebrating: 2.71%\n",
      "  Using computer: 2.39%\n",
      "   Playing music: 2.19%\n",
      "\n"
     ]
    },
    {
     "name": "stderr",
     "output_type": "stream",
     "text": [
      " 63%|██████▎   | 265/422 [00:45<00:50,  3.12it/s]"
     ]
    },
    {
     "name": "stdout",
     "output_type": "stream",
     "text": [
      "datasets/audios/train/Normal\n",
      "MoviePy - Writing audio in datasets/audios/train/Normal/BSOYvQ1A7_s_000027_000037.wav\n"
     ]
    },
    {
     "name": "stderr",
     "output_type": "stream",
     "text": [
      " 63%|██████▎   | 266/422 [00:45<00:50,  3.10it/s]"
     ]
    },
    {
     "name": "stdout",
     "output_type": "stream",
     "text": [
      "MoviePy - Done.\n",
      "\n",
      "File: datasets/train/Normal/BSOYvQ1A7_s_000027_000037.mp4\n",
      "Ground Truth: Normal\n",
      "Top predictions:\n",
      "          Dining: 20.68%\n",
      "     Celebrating: 15.46%\n",
      "No people is in the room: 14.89%\n",
      "      Using drug: 9.16%\n",
      "   Setting table: 5.37%\n",
      "\n"
     ]
    },
    {
     "name": "stderr",
     "output_type": "stream",
     "text": [
      " 63%|██████▎   | 266/422 [00:45<00:50,  3.10it/s]"
     ]
    },
    {
     "name": "stdout",
     "output_type": "stream",
     "text": [
      "datasets/audios/train/Normal\n",
      "MoviePy - Writing audio in datasets/audios/train/Normal/bt3ELWHiEds_000526_000536.wav\n"
     ]
    },
    {
     "name": "stderr",
     "output_type": "stream",
     "text": [
      " 63%|██████▎   | 267/422 [00:45<00:50,  3.08it/s]"
     ]
    },
    {
     "name": "stdout",
     "output_type": "stream",
     "text": [
      "MoviePy - Done.\n",
      "\n",
      "File: datasets/train/Normal/bt3ELWHiEds_000526_000536.mp4\n",
      "Ground Truth: Normal\n",
      "Top predictions:\n",
      "     Eating food: 77.83%\n",
      "No people is in the room: 7.05%\n",
      "Playing with pets: 4.96%\n",
      "    Sitting down: 2.09%\n",
      "        Drinking: 2.02%\n",
      "\n"
     ]
    },
    {
     "name": "stderr",
     "output_type": "stream",
     "text": [
      " 63%|██████▎   | 267/422 [00:45<00:50,  3.08it/s]"
     ]
    },
    {
     "name": "stdout",
     "output_type": "stream",
     "text": [
      "datasets/audios/train/Normal\n",
      "MoviePy - Writing audio in datasets/audios/train/Normal/btIe4SwFUhg_000080_000090.wav\n"
     ]
    },
    {
     "name": "stderr",
     "output_type": "stream",
     "text": [
      " 64%|██████▎   | 268/422 [00:45<00:51,  3.00it/s]"
     ]
    },
    {
     "name": "stdout",
     "output_type": "stream",
     "text": [
      "MoviePy - Done.\n",
      "\n",
      "File: datasets/train/Normal/btIe4SwFUhg_000080_000090.mp4\n",
      "Ground Truth: Normal\n",
      "Top predictions:\n",
      "No people is in the room: 66.77%\n",
      "Organizing space: 7.43%\n",
      "    Sitting down: 3.22%\n",
      "      Using drug: 2.70%\n",
      "  Using computer: 2.38%\n",
      "\n"
     ]
    },
    {
     "name": "stderr",
     "output_type": "stream",
     "text": [
      " 64%|██████▎   | 268/422 [00:46<00:51,  3.00it/s]"
     ]
    },
    {
     "name": "stdout",
     "output_type": "stream",
     "text": [
      "datasets/audios/train/Normal\n",
      "MoviePy - Writing audio in datasets/audios/train/Normal/BvdknPz77Hs_000000_000010.wav\n"
     ]
    },
    {
     "name": "stderr",
     "output_type": "stream",
     "text": [
      " 64%|██████▎   | 269/422 [00:46<00:49,  3.07it/s]"
     ]
    },
    {
     "name": "stdout",
     "output_type": "stream",
     "text": [
      "MoviePy - Done.\n",
      "\n",
      "File: datasets/train/Normal/BvdknPz77Hs_000000_000010.mp4\n",
      "Ground Truth: Normal\n",
      "Top predictions:\n",
      "         Reading: 32.63%\n",
      "No people is in the room: 10.71%\n",
      "        Speaking: 5.74%\n",
      "        Studying: 4.57%\n",
      "        Knitting: 4.27%\n",
      "\n"
     ]
    },
    {
     "name": "stderr",
     "output_type": "stream",
     "text": [
      " 64%|██████▎   | 269/422 [00:46<00:49,  3.07it/s]"
     ]
    },
    {
     "name": "stdout",
     "output_type": "stream",
     "text": [
      "datasets/audios/train/Normal\n",
      "MoviePy - Writing audio in datasets/audios/train/Normal/BWqOCs4yVo4_000000_000010.wav\n"
     ]
    },
    {
     "name": "stderr",
     "output_type": "stream",
     "text": [
      " 64%|██████▍   | 270/422 [00:46<00:48,  3.14it/s]"
     ]
    },
    {
     "name": "stdout",
     "output_type": "stream",
     "text": [
      "MoviePy - Done.\n",
      "\n",
      "File: datasets/train/Normal/BWqOCs4yVo4_000000_000010.mp4\n",
      "Ground Truth: Normal\n",
      "Top predictions:\n",
      "   Playing music: 66.57%\n",
      "         Dancing: 22.57%\n",
      "     Celebrating: 1.89%\n",
      "      Using drug: 1.60%\n",
      "      Exercising: 1.35%\n",
      "\n"
     ]
    },
    {
     "name": "stderr",
     "output_type": "stream",
     "text": [
      " 64%|██████▍   | 270/422 [00:46<00:48,  3.14it/s]"
     ]
    },
    {
     "name": "stdout",
     "output_type": "stream",
     "text": [
      "datasets/audios/train/Normal\n",
      "MoviePy - Writing audio in datasets/audios/train/Normal/BzcfW7JTsGM_000045_000055.wav\n"
     ]
    },
    {
     "name": "stderr",
     "output_type": "stream",
     "text": [
      " 64%|██████▍   | 271/422 [00:46<00:47,  3.19it/s]"
     ]
    },
    {
     "name": "stdout",
     "output_type": "stream",
     "text": [
      "MoviePy - Done.\n",
      "\n",
      "File: datasets/train/Normal/BzcfW7JTsGM_000045_000055.mp4\n",
      "Ground Truth: Normal\n",
      "Top predictions:\n",
      "   Doing laundry: 23.16%\n",
      "          Crying: 18.04%\n",
      "     Suffocating: 10.49%\n",
      "No people is in the room: 10.40%\n",
      "Playing with pets: 7.73%\n",
      "\n"
     ]
    },
    {
     "name": "stderr",
     "output_type": "stream",
     "text": [
      " 64%|██████▍   | 271/422 [00:47<00:47,  3.19it/s]"
     ]
    },
    {
     "name": "stdout",
     "output_type": "stream",
     "text": [
      "datasets/audios/train/Normal\n",
      "MoviePy - Writing audio in datasets/audios/train/Normal/BZOSTgHGUCE_000229_000239.wav\n"
     ]
    },
    {
     "name": "stderr",
     "output_type": "stream",
     "text": [
      " 64%|██████▍   | 272/422 [00:47<00:48,  3.10it/s]"
     ]
    },
    {
     "name": "stdout",
     "output_type": "stream",
     "text": [
      "MoviePy - Done.\n",
      "\n",
      "File: datasets/train/Normal/BZOSTgHGUCE_000229_000239.mp4\n",
      "Ground Truth: Normal\n",
      "Top predictions:\n",
      "     Celebrating: 38.48%\n",
      "   Setting table: 17.24%\n",
      "No people is in the room: 8.86%\n",
      "  Using computer: 6.42%\n",
      "      Decorating: 3.87%\n",
      "\n"
     ]
    },
    {
     "name": "stderr",
     "output_type": "stream",
     "text": [
      " 64%|██████▍   | 272/422 [00:47<00:48,  3.10it/s]"
     ]
    },
    {
     "name": "stdout",
     "output_type": "stream",
     "text": [
      "datasets/audios/train/Normal\n",
      "MoviePy - Writing audio in datasets/audios/train/Normal/c1o7820XyTI_000310_000320.wav\n"
     ]
    },
    {
     "name": "stderr",
     "output_type": "stream",
     "text": [
      " 65%|██████▍   | 273/422 [00:47<00:47,  3.15it/s]"
     ]
    },
    {
     "name": "stdout",
     "output_type": "stream",
     "text": [
      "MoviePy - Done.\n",
      "\n",
      "File: datasets/train/Normal/c1o7820XyTI_000310_000320.mp4\n",
      "Ground Truth: Normal\n",
      "Top predictions:\n",
      "    Sitting down: 52.15%\n",
      "No people is in the room: 24.77%\n",
      "        Sleeping: 4.93%\n",
      "   Mopping floor: 3.31%\n",
      "   Doing laundry: 3.13%\n",
      "\n"
     ]
    },
    {
     "name": "stderr",
     "output_type": "stream",
     "text": [
      " 65%|██████▍   | 273/422 [00:47<00:47,  3.15it/s]"
     ]
    },
    {
     "name": "stdout",
     "output_type": "stream",
     "text": [
      "datasets/audios/train/Normal\n",
      "MoviePy - Writing audio in datasets/audios/train/Normal/C3ayjYkczC4_000060_000070.wav\n"
     ]
    },
    {
     "name": "stderr",
     "output_type": "stream",
     "text": [
      " 65%|██████▍   | 274/422 [00:47<00:47,  3.10it/s]"
     ]
    },
    {
     "name": "stdout",
     "output_type": "stream",
     "text": [
      "MoviePy - Done.\n",
      "\n",
      "File: datasets/train/Normal/C3ayjYkczC4_000060_000070.mp4\n",
      "Ground Truth: Normal\n",
      "Top predictions:\n",
      "No people is in the room: 85.19%\n",
      "Playing with pets: 4.42%\n",
      "         Talking: 3.13%\n",
      "   Setting table: 1.81%\n",
      "         Reading: 1.35%\n",
      "\n"
     ]
    },
    {
     "name": "stderr",
     "output_type": "stream",
     "text": [
      " 65%|██████▍   | 274/422 [00:48<00:47,  3.10it/s]"
     ]
    },
    {
     "name": "stdout",
     "output_type": "stream",
     "text": [
      "datasets/audios/train/Normal\n",
      "MoviePy - Writing audio in datasets/audios/train/Normal/C45UEQ5Oxno_000075_000085.wav\n"
     ]
    },
    {
     "name": "stderr",
     "output_type": "stream",
     "text": [
      " 65%|██████▌   | 275/422 [00:48<00:47,  3.10it/s]"
     ]
    },
    {
     "name": "stdout",
     "output_type": "stream",
     "text": [
      "MoviePy - Done.\n",
      "\n",
      "File: datasets/train/Normal/C45UEQ5Oxno_000075_000085.mp4\n",
      "Ground Truth: Normal\n",
      "Top predictions:\n",
      "   Setting table: 28.01%\n",
      "No people is in the room: 19.27%\n",
      "   Doing laundry: 18.50%\n",
      "Playing with pets: 6.14%\n",
      "         Working: 4.75%\n",
      "\n"
     ]
    },
    {
     "name": "stderr",
     "output_type": "stream",
     "text": [
      " 65%|██████▌   | 275/422 [00:48<00:47,  3.10it/s]"
     ]
    },
    {
     "name": "stdout",
     "output_type": "stream",
     "text": [
      "datasets/audios/train/Normal\n",
      "MoviePy - Writing audio in datasets/audios/train/Normal/c729EVAFb_s_000415_000425.wav\n"
     ]
    },
    {
     "name": "stderr",
     "output_type": "stream",
     "text": [
      " 65%|██████▌   | 276/422 [00:48<00:47,  3.06it/s]"
     ]
    },
    {
     "name": "stdout",
     "output_type": "stream",
     "text": [
      "MoviePy - Done.\n",
      "\n",
      "File: datasets/train/Normal/c729EVAFb_s_000415_000425.mp4\n",
      "Ground Truth: Normal\n",
      "Top predictions:\n",
      "   Setting table: 28.09%\n",
      "No people is in the room: 19.07%\n",
      "         Working: 7.36%\n",
      "    Sitting down: 6.95%\n",
      "        Studying: 5.34%\n",
      "\n"
     ]
    },
    {
     "name": "stderr",
     "output_type": "stream",
     "text": [
      " 65%|██████▌   | 276/422 [00:48<00:47,  3.06it/s]"
     ]
    },
    {
     "name": "stdout",
     "output_type": "stream",
     "text": [
      "datasets/audios/train/Normal\n",
      "MoviePy - Writing audio in datasets/audios/train/Normal/caz61OyDs1k_000045_000055.wav\n"
     ]
    },
    {
     "name": "stderr",
     "output_type": "stream",
     "text": [
      " 66%|██████▌   | 277/422 [00:48<00:47,  3.05it/s]"
     ]
    },
    {
     "name": "stdout",
     "output_type": "stream",
     "text": [
      "MoviePy - Done.\n",
      "\n",
      "File: datasets/train/Normal/caz61OyDs1k_000045_000055.mp4\n",
      "Ground Truth: Normal\n",
      "Top predictions:\n",
      "Playing with pets: 93.62%\n",
      "          Dining: 0.97%\n",
      "     Eating food: 0.78%\n",
      "      Decorating: 0.67%\n",
      "No people is in the room: 0.60%\n",
      "\n"
     ]
    },
    {
     "name": "stderr",
     "output_type": "stream",
     "text": [
      " 66%|██████▌   | 277/422 [00:49<00:47,  3.05it/s]"
     ]
    },
    {
     "name": "stdout",
     "output_type": "stream",
     "text": [
      "datasets/audios/train/Normal\n",
      "MoviePy - Writing audio in datasets/audios/train/Normal/cbXmtG99SU0_000000_000010.wav\n"
     ]
    },
    {
     "name": "stderr",
     "output_type": "stream",
     "text": [
      " 66%|██████▌   | 278/422 [00:49<00:47,  3.03it/s]"
     ]
    },
    {
     "name": "stdout",
     "output_type": "stream",
     "text": [
      "MoviePy - Done.\n",
      "\n",
      "File: datasets/train/Normal/cbXmtG99SU0_000000_000010.mp4\n",
      "Ground Truth: Normal\n",
      "Top predictions:\n",
      "Playing with pets: 77.84%\n",
      "        Laughing: 16.44%\n",
      "     Eating food: 1.59%\n",
      "     Celebrating: 1.04%\n",
      "No people is in the room: 0.85%\n",
      "\n"
     ]
    },
    {
     "name": "stderr",
     "output_type": "stream",
     "text": [
      " 66%|██████▌   | 278/422 [00:49<00:47,  3.03it/s]"
     ]
    },
    {
     "name": "stdout",
     "output_type": "stream",
     "text": [
      "datasets/audios/train/Normal\n",
      "MoviePy - Writing audio in datasets/audios/train/Normal/cc4YIsJz5sg_000002_000012.wav\n"
     ]
    },
    {
     "name": "stderr",
     "output_type": "stream",
     "text": [
      " 66%|██████▌   | 279/422 [00:49<00:46,  3.09it/s]"
     ]
    },
    {
     "name": "stdout",
     "output_type": "stream",
     "text": [
      "MoviePy - Done.\n",
      "\n",
      "File: datasets/train/Normal/cc4YIsJz5sg_000002_000012.mp4\n",
      "Ground Truth: Normal\n",
      "Top predictions:\n",
      "No people is in the room: 15.45%\n",
      "      Decorating: 11.13%\n",
      "    Sitting down: 10.84%\n",
      "      Using drug: 8.22%\n",
      "  Using computer: 5.41%\n",
      "\n"
     ]
    },
    {
     "name": "stderr",
     "output_type": "stream",
     "text": [
      " 66%|██████▌   | 279/422 [00:49<00:46,  3.09it/s]"
     ]
    },
    {
     "name": "stdout",
     "output_type": "stream",
     "text": [
      "datasets/audios/train/Normal\n",
      "MoviePy - Writing audio in datasets/audios/train/Normal/cCJdUn_Dv2M_000181_000191.wav\n"
     ]
    },
    {
     "name": "stderr",
     "output_type": "stream",
     "text": [
      " 66%|██████▋   | 280/422 [00:49<00:45,  3.15it/s]"
     ]
    },
    {
     "name": "stdout",
     "output_type": "stream",
     "text": [
      "MoviePy - Done.\n",
      "\n",
      "File: datasets/train/Normal/cCJdUn_Dv2M_000181_000191.mp4\n",
      "Ground Truth: Normal\n",
      "Top predictions:\n",
      "No people is in the room: 72.45%\n",
      "   Doing laundry: 5.60%\n",
      "   Mopping floor: 2.70%\n",
      "    Sitting down: 2.51%\n",
      "         Talking: 2.16%\n",
      "\n"
     ]
    },
    {
     "name": "stderr",
     "output_type": "stream",
     "text": [
      " 66%|██████▋   | 280/422 [00:49<00:45,  3.15it/s]"
     ]
    },
    {
     "name": "stdout",
     "output_type": "stream",
     "text": [
      "datasets/audios/train/Normal\n",
      "MoviePy - Writing audio in datasets/audios/train/Normal/CdtDTYW5YOs_000117_000127.wav\n"
     ]
    },
    {
     "name": "stderr",
     "output_type": "stream",
     "text": [
      " 67%|██████▋   | 281/422 [00:50<00:45,  3.07it/s]"
     ]
    },
    {
     "name": "stdout",
     "output_type": "stream",
     "text": [
      "MoviePy - Done.\n",
      "\n",
      "File: datasets/train/Normal/CdtDTYW5YOs_000117_000127.mp4\n",
      "Ground Truth: Normal\n",
      "Top predictions:\n",
      "   Setting table: 82.23%\n",
      "         Reading: 4.44%\n",
      "        Studying: 2.49%\n",
      "      Decorating: 2.04%\n",
      "  Using computer: 2.04%\n",
      "\n"
     ]
    },
    {
     "name": "stderr",
     "output_type": "stream",
     "text": [
      " 67%|██████▋   | 281/422 [00:50<00:45,  3.07it/s]"
     ]
    },
    {
     "name": "stdout",
     "output_type": "stream",
     "text": [
      "datasets/audios/train/Normal\n",
      "MoviePy - Writing audio in datasets/audios/train/Normal/CeYIbLlRVVg_000357_000367.wav\n"
     ]
    },
    {
     "name": "stderr",
     "output_type": "stream",
     "text": [
      " 67%|██████▋   | 282/422 [00:50<00:46,  2.98it/s]"
     ]
    },
    {
     "name": "stdout",
     "output_type": "stream",
     "text": [
      "MoviePy - Done.\n",
      "\n",
      "File: datasets/train/Normal/CeYIbLlRVVg_000357_000367.mp4\n",
      "Ground Truth: Normal\n",
      "Top predictions:\n",
      "   Setting table: 49.16%\n",
      "  Using computer: 24.13%\n",
      "No people is in the room: 7.01%\n",
      "Unattended cooking: 4.40%\n",
      "         Cooking: 4.34%\n",
      "\n"
     ]
    },
    {
     "name": "stderr",
     "output_type": "stream",
     "text": [
      " 67%|██████▋   | 282/422 [00:50<00:46,  2.98it/s]"
     ]
    },
    {
     "name": "stdout",
     "output_type": "stream",
     "text": [
      "datasets/audios/train/Normal\n",
      "MoviePy - Writing audio in datasets/audios/train/Normal/CfP4T-QKX4U_000332_000342.wav\n"
     ]
    },
    {
     "name": "stderr",
     "output_type": "stream",
     "text": [
      " 67%|██████▋   | 283/422 [00:50<00:45,  3.06it/s]"
     ]
    },
    {
     "name": "stdout",
     "output_type": "stream",
     "text": [
      "MoviePy - Done.\n",
      "\n",
      "File: datasets/train/Normal/CfP4T-QKX4U_000332_000342.mp4\n",
      "Ground Truth: Normal\n",
      "Top predictions:\n",
      "No people is in the room: 37.83%\n",
      "   Setting table: 20.01%\n",
      "Playing board games: 13.87%\n",
      "         Reading: 7.51%\n",
      "    Sitting down: 5.56%\n",
      "\n"
     ]
    },
    {
     "name": "stderr",
     "output_type": "stream",
     "text": [
      " 67%|██████▋   | 283/422 [00:50<00:45,  3.06it/s]"
     ]
    },
    {
     "name": "stdout",
     "output_type": "stream",
     "text": [
      "datasets/audios/train/Normal\n",
      "MoviePy - Writing audio in datasets/audios/train/Normal/cgB_HnWGY9Y_000001_000011.wav\n"
     ]
    },
    {
     "name": "stderr",
     "output_type": "stream",
     "text": [
      " 67%|██████▋   | 284/422 [00:51<00:44,  3.12it/s]"
     ]
    },
    {
     "name": "stdout",
     "output_type": "stream",
     "text": [
      "MoviePy - Done.\n",
      "\n",
      "File: datasets/train/Normal/cgB_HnWGY9Y_000001_000011.mp4\n",
      "Ground Truth: Normal\n",
      "Top predictions:\n",
      "No people is in the room: 59.34%\n",
      "         Dancing: 11.79%\n",
      "         Singing: 4.83%\n",
      "           Party: 3.48%\n",
      "         Talking: 2.91%\n",
      "\n"
     ]
    },
    {
     "name": "stderr",
     "output_type": "stream",
     "text": [
      " 67%|██████▋   | 284/422 [00:51<00:44,  3.12it/s]"
     ]
    },
    {
     "name": "stdout",
     "output_type": "stream",
     "text": [
      "datasets/audios/train/Normal\n",
      "MoviePy - Writing audio in datasets/audios/train/Normal/CGQfpj5Q2XA_000026_000036.wav\n"
     ]
    },
    {
     "name": "stderr",
     "output_type": "stream",
     "text": [
      " 68%|██████▊   | 285/422 [00:51<00:43,  3.16it/s]"
     ]
    },
    {
     "name": "stdout",
     "output_type": "stream",
     "text": [
      "MoviePy - Done.\n",
      "\n",
      "File: datasets/train/Normal/CGQfpj5Q2XA_000026_000036.mp4\n",
      "Ground Truth: Normal\n",
      "Top predictions:\n",
      "Playing with pets: 21.48%\n",
      "   Setting table: 11.48%\n",
      "  Using computer: 9.71%\n",
      "      Using drug: 7.55%\n",
      "      Decorating: 5.55%\n",
      "\n"
     ]
    },
    {
     "name": "stderr",
     "output_type": "stream",
     "text": [
      " 68%|██████▊   | 285/422 [00:51<00:43,  3.16it/s]"
     ]
    },
    {
     "name": "stdout",
     "output_type": "stream",
     "text": [
      "datasets/audios/train/Normal\n",
      "MoviePy - Writing audio in datasets/audios/train/Normal/cGuxUVfBZ20_000050_000060.wav\n"
     ]
    },
    {
     "name": "stderr",
     "output_type": "stream",
     "text": [
      " 68%|██████▊   | 286/422 [00:51<00:42,  3.20it/s]"
     ]
    },
    {
     "name": "stdout",
     "output_type": "stream",
     "text": [
      "MoviePy - Done.\n",
      "\n",
      "File: datasets/train/Normal/cGuxUVfBZ20_000050_000060.mp4\n",
      "Ground Truth: Normal\n",
      "Top predictions:\n",
      "No people is in the room: 41.82%\n",
      "     Celebrating: 10.00%\n",
      "         Talking: 7.73%\n",
      "   Setting table: 7.24%\n",
      "   Mopping floor: 6.55%\n",
      "\n"
     ]
    },
    {
     "name": "stderr",
     "output_type": "stream",
     "text": [
      " 68%|██████▊   | 286/422 [00:51<00:42,  3.20it/s]"
     ]
    },
    {
     "name": "stdout",
     "output_type": "stream",
     "text": [
      "datasets/audios/train/Normal\n",
      "MoviePy - Writing audio in datasets/audios/train/Normal/ChRYSf_9SoM_000035_000045.wav\n"
     ]
    },
    {
     "name": "stderr",
     "output_type": "stream",
     "text": [
      " 68%|██████▊   | 287/422 [00:52<00:42,  3.14it/s]"
     ]
    },
    {
     "name": "stdout",
     "output_type": "stream",
     "text": [
      "MoviePy - Done.\n",
      "\n",
      "File: datasets/train/Normal/ChRYSf_9SoM_000035_000045.mp4\n",
      "Ground Truth: Normal\n",
      "Top predictions:\n",
      "      Using drug: 14.49%\n",
      "      Decorating: 12.37%\n",
      "     Celebrating: 7.14%\n",
      "        Cleaning: 6.98%\n",
      "   Setting table: 6.19%\n",
      "\n"
     ]
    },
    {
     "name": "stderr",
     "output_type": "stream",
     "text": [
      " 68%|██████▊   | 287/422 [00:52<00:42,  3.14it/s]"
     ]
    },
    {
     "name": "stdout",
     "output_type": "stream",
     "text": [
      "datasets/audios/train/Normal\n",
      "MoviePy - Writing audio in datasets/audios/train/Normal/CLGYN3I3nIY_000039_000049.wav\n"
     ]
    },
    {
     "name": "stderr",
     "output_type": "stream",
     "text": [
      " 68%|██████▊   | 288/422 [00:52<00:43,  3.09it/s]"
     ]
    },
    {
     "name": "stdout",
     "output_type": "stream",
     "text": [
      "MoviePy - Done.\n",
      "\n",
      "File: datasets/train/Normal/CLGYN3I3nIY_000039_000049.mp4\n",
      "Ground Truth: Normal\n",
      "Top predictions:\n",
      "        Drinking: 63.84%\n",
      "     Eating food: 17.57%\n",
      "         Smoking: 6.38%\n",
      "No people is in the room: 3.16%\n",
      "      Using drug: 2.19%\n",
      "\n"
     ]
    },
    {
     "name": "stderr",
     "output_type": "stream",
     "text": [
      " 68%|██████▊   | 288/422 [00:52<00:43,  3.09it/s]"
     ]
    },
    {
     "name": "stdout",
     "output_type": "stream",
     "text": [
      "datasets/audios/train/Normal\n",
      "MoviePy - Writing audio in datasets/audios/train/Normal/CLj6957VkZg_000041_000051.wav\n"
     ]
    },
    {
     "name": "stderr",
     "output_type": "stream",
     "text": [
      " 68%|██████▊   | 289/422 [00:52<00:42,  3.15it/s]"
     ]
    },
    {
     "name": "stdout",
     "output_type": "stream",
     "text": [
      "MoviePy - Done.\n",
      "\n",
      "File: datasets/train/Normal/CLj6957VkZg_000041_000051.mp4\n",
      "Ground Truth: Normal\n",
      "Top predictions:\n",
      "No people is in the room: 51.94%\n",
      "       Showering: 30.08%\n",
      "   Doing laundry: 6.23%\n",
      "   Mopping floor: 4.05%\n",
      "        Drinking: 1.17%\n",
      "\n"
     ]
    },
    {
     "name": "stderr",
     "output_type": "stream",
     "text": [
      " 68%|██████▊   | 289/422 [00:52<00:42,  3.15it/s]"
     ]
    },
    {
     "name": "stdout",
     "output_type": "stream",
     "text": [
      "datasets/audios/train/Normal\n",
      "MoviePy - Writing audio in datasets/audios/train/Normal/CM3tD22RxB8_000004_000014.wav\n"
     ]
    },
    {
     "name": "stderr",
     "output_type": "stream",
     "text": [
      " 69%|██████▊   | 290/422 [00:53<00:41,  3.15it/s]"
     ]
    },
    {
     "name": "stdout",
     "output_type": "stream",
     "text": [
      "MoviePy - Done.\n",
      "\n",
      "File: datasets/train/Normal/CM3tD22RxB8_000004_000014.mp4\n",
      "Ground Truth: Normal\n",
      "Top predictions:\n",
      "   Setting table: 26.03%\n",
      "   Doing laundry: 22.30%\n",
      "Playing with pets: 17.73%\n",
      "   Mopping floor: 11.36%\n",
      "    Sitting down: 4.08%\n",
      "\n"
     ]
    },
    {
     "name": "stderr",
     "output_type": "stream",
     "text": [
      " 69%|██████▊   | 290/422 [00:53<00:41,  3.15it/s]"
     ]
    },
    {
     "name": "stdout",
     "output_type": "stream",
     "text": [
      "datasets/audios/train/Normal\n",
      "MoviePy - Writing audio in datasets/audios/train/Normal/CqPXNz7YDYM_000007_000017.wav\n"
     ]
    },
    {
     "name": "stderr",
     "output_type": "stream",
     "text": [
      " 69%|██████▉   | 291/422 [00:53<00:41,  3.18it/s]"
     ]
    },
    {
     "name": "stdout",
     "output_type": "stream",
     "text": [
      "MoviePy - Done.\n",
      "\n",
      "File: datasets/train/Normal/CqPXNz7YDYM_000007_000017.mp4\n",
      "Ground Truth: Normal\n",
      "Top predictions:\n",
      "No people is in the room: 44.75%\n",
      "         Dancing: 6.77%\n",
      "     Eating food: 5.86%\n",
      "        Drinking: 4.27%\n",
      "         Talking: 4.05%\n",
      "\n"
     ]
    },
    {
     "name": "stderr",
     "output_type": "stream",
     "text": [
      " 69%|██████▉   | 291/422 [00:53<00:41,  3.18it/s]"
     ]
    },
    {
     "name": "stdout",
     "output_type": "stream",
     "text": [
      "datasets/audios/train/Normal\n",
      "MoviePy - Writing audio in datasets/audios/train/Normal/cRg6xZpmBrI_000404_000414.wav\n"
     ]
    },
    {
     "name": "stderr",
     "output_type": "stream",
     "text": [
      " 69%|██████▉   | 292/422 [00:53<00:40,  3.22it/s]"
     ]
    },
    {
     "name": "stdout",
     "output_type": "stream",
     "text": [
      "MoviePy - Done.\n",
      "\n",
      "File: datasets/train/Normal/cRg6xZpmBrI_000404_000414.mp4\n",
      "Ground Truth: Normal\n",
      "Top predictions:\n",
      "No people is in the room: 60.00%\n",
      "         Talking: 9.06%\n",
      "         Choking: 4.52%\n",
      "        Chatting: 4.10%\n",
      "        Speaking: 3.52%\n",
      "\n"
     ]
    },
    {
     "name": "stderr",
     "output_type": "stream",
     "text": [
      " 69%|██████▉   | 292/422 [00:53<00:40,  3.22it/s]"
     ]
    },
    {
     "name": "stdout",
     "output_type": "stream",
     "text": [
      "datasets/audios/train/Normal\n",
      "MoviePy - Writing audio in datasets/audios/train/Normal/csQSjmHhsXA_000018_000028.wav\n"
     ]
    },
    {
     "name": "stderr",
     "output_type": "stream",
     "text": [
      " 69%|██████▉   | 293/422 [00:53<00:40,  3.18it/s]"
     ]
    },
    {
     "name": "stdout",
     "output_type": "stream",
     "text": [
      "MoviePy - Done.\n",
      "\n",
      "File: datasets/train/Normal/csQSjmHhsXA_000018_000028.mp4\n",
      "Ground Truth: Normal\n",
      "Top predictions:\n",
      "Unattended cooking: 55.24%\n",
      "         Cooking: 24.23%\n",
      "   Setting table: 13.57%\n",
      "         Working: 1.44%\n",
      "  Using computer: 1.25%\n",
      "\n"
     ]
    },
    {
     "name": "stderr",
     "output_type": "stream",
     "text": [
      " 69%|██████▉   | 293/422 [00:54<00:40,  3.18it/s]"
     ]
    },
    {
     "name": "stdout",
     "output_type": "stream",
     "text": [
      "datasets/audios/train/Normal\n",
      "MoviePy - Writing audio in datasets/audios/train/Normal/CtDdx-V3J7M_000074_000084.wav\n"
     ]
    },
    {
     "name": "stderr",
     "output_type": "stream",
     "text": [
      " 70%|██████▉   | 294/422 [00:54<00:39,  3.21it/s]"
     ]
    },
    {
     "name": "stdout",
     "output_type": "stream",
     "text": [
      "MoviePy - Done.\n",
      "\n",
      "File: datasets/train/Normal/CtDdx-V3J7M_000074_000084.mp4\n",
      "Ground Truth: Normal\n",
      "Top predictions:\n",
      "    Sitting down: 62.31%\n",
      "        Knitting: 5.97%\n",
      "Play with phone/tablet: 3.14%\n",
      "Playing with pets: 3.13%\n",
      "        Studying: 2.89%\n",
      "\n"
     ]
    },
    {
     "name": "stderr",
     "output_type": "stream",
     "text": [
      " 70%|██████▉   | 294/422 [00:54<00:39,  3.21it/s]"
     ]
    },
    {
     "name": "stdout",
     "output_type": "stream",
     "text": [
      "datasets/audios/train/Normal\n",
      "MoviePy - Writing audio in datasets/audios/train/Normal/cThgCWwzvU8_000015_000025.wav\n"
     ]
    },
    {
     "name": "stderr",
     "output_type": "stream",
     "text": [
      " 70%|██████▉   | 295/422 [00:54<00:40,  3.11it/s]"
     ]
    },
    {
     "name": "stdout",
     "output_type": "stream",
     "text": [
      "MoviePy - Done.\n",
      "\n",
      "File: datasets/train/Normal/cThgCWwzvU8_000015_000025.mp4\n",
      "Ground Truth: Normal\n",
      "Top predictions:\n",
      "No people is in the room: 18.02%\n",
      "   Doing laundry: 10.34%\n",
      "           Party: 10.00%\n",
      "         Dancing: 8.68%\n",
      "       Showering: 6.08%\n",
      "\n"
     ]
    },
    {
     "name": "stderr",
     "output_type": "stream",
     "text": [
      " 70%|██████▉   | 295/422 [00:54<00:40,  3.11it/s]"
     ]
    },
    {
     "name": "stdout",
     "output_type": "stream",
     "text": [
      "datasets/audios/train/Normal\n",
      "MoviePy - Writing audio in datasets/audios/train/Normal/CTZETRzQWOU_000031_000041.wav\n"
     ]
    },
    {
     "name": "stderr",
     "output_type": "stream",
     "text": [
      " 70%|███████   | 296/422 [00:54<00:39,  3.18it/s]"
     ]
    },
    {
     "name": "stdout",
     "output_type": "stream",
     "text": [
      "MoviePy - Done.\n",
      "\n",
      "File: datasets/train/Normal/CTZETRzQWOU_000031_000041.mp4\n",
      "Ground Truth: Normal\n",
      "Top predictions:\n",
      "         Reading: 19.52%\n",
      "No people is in the room: 10.70%\n",
      "  Using computer: 9.21%\n",
      "         Working: 7.18%\n",
      "   Setting table: 6.79%\n",
      "\n"
     ]
    },
    {
     "name": "stderr",
     "output_type": "stream",
     "text": [
      " 70%|███████   | 296/422 [00:55<00:39,  3.18it/s]"
     ]
    },
    {
     "name": "stdout",
     "output_type": "stream",
     "text": [
      "datasets/audios/train/Normal\n",
      "MoviePy - Writing audio in datasets/audios/train/Normal/CyqaeqsCKMU_000050_000060.wav\n"
     ]
    },
    {
     "name": "stderr",
     "output_type": "stream",
     "text": [
      " 70%|███████   | 297/422 [00:55<00:38,  3.21it/s]"
     ]
    },
    {
     "name": "stdout",
     "output_type": "stream",
     "text": [
      "MoviePy - Done.\n",
      "\n",
      "File: datasets/train/Normal/CyqaeqsCKMU_000050_000060.mp4\n",
      "Ground Truth: Normal\n",
      "Top predictions:\n",
      "No people is in the room: 23.40%\n",
      "   Doing laundry: 12.11%\n",
      "      Using drug: 7.26%\n",
      "         Dancing: 6.43%\n",
      "         Smoking: 5.52%\n",
      "\n"
     ]
    },
    {
     "name": "stderr",
     "output_type": "stream",
     "text": [
      " 70%|███████   | 297/422 [00:55<00:38,  3.21it/s]"
     ]
    },
    {
     "name": "stdout",
     "output_type": "stream",
     "text": [
      "datasets/audios/train/Normal\n",
      "MoviePy - Writing audio in datasets/audios/train/Normal/D6M-1uemZTU_000152_000162.wav\n"
     ]
    },
    {
     "name": "stderr",
     "output_type": "stream",
     "text": [
      " 71%|███████   | 298/422 [00:55<00:40,  3.06it/s]"
     ]
    },
    {
     "name": "stdout",
     "output_type": "stream",
     "text": [
      "MoviePy - Done.\n",
      "\n",
      "File: datasets/train/Normal/D6M-1uemZTU_000152_000162.mp4\n",
      "Ground Truth: Normal\n",
      "Top predictions:\n",
      "   Setting table: 24.59%\n",
      "      Exercising: 17.78%\n",
      "No people is in the room: 17.56%\n",
      "    Sitting down: 9.36%\n",
      "     Celebrating: 6.35%\n",
      "\n"
     ]
    },
    {
     "name": "stderr",
     "output_type": "stream",
     "text": [
      " 71%|███████   | 298/422 [00:55<00:40,  3.06it/s]"
     ]
    },
    {
     "name": "stdout",
     "output_type": "stream",
     "text": [
      "datasets/audios/train/Normal\n",
      "MoviePy - Writing audio in datasets/audios/train/Normal/d7Ggedw-sOM_001169_001179.wav\n"
     ]
    },
    {
     "name": "stderr",
     "output_type": "stream",
     "text": [
      " 71%|███████   | 299/422 [00:55<00:40,  3.07it/s]"
     ]
    },
    {
     "name": "stdout",
     "output_type": "stream",
     "text": [
      "MoviePy - Done.\n",
      "\n",
      "File: datasets/train/Normal/d7Ggedw-sOM_001169_001179.mp4\n",
      "Ground Truth: Normal\n",
      "Top predictions:\n",
      "Playing board games: 17.63%\n",
      "  Using computer: 16.43%\n",
      "No people is in the room: 16.30%\n",
      "      Exercising: 11.93%\n",
      "         Reading: 6.87%\n",
      "\n"
     ]
    },
    {
     "name": "stderr",
     "output_type": "stream",
     "text": [
      " 71%|███████   | 299/422 [00:56<00:40,  3.07it/s]"
     ]
    },
    {
     "name": "stdout",
     "output_type": "stream",
     "text": [
      "datasets/audios/train/Normal\n",
      "MoviePy - Writing audio in datasets/audios/train/Normal/D7lm7hLSM0I_000034_000044.wav\n"
     ]
    },
    {
     "name": "stderr",
     "output_type": "stream",
     "text": [
      " 71%|███████   | 300/422 [00:56<00:38,  3.13it/s]"
     ]
    },
    {
     "name": "stdout",
     "output_type": "stream",
     "text": [
      "MoviePy - Done.\n",
      "\n",
      "File: datasets/train/Normal/D7lm7hLSM0I_000034_000044.mp4\n",
      "Ground Truth: Normal\n",
      "Top predictions:\n",
      "         Reading: 76.52%\n",
      "        Speaking: 7.59%\n",
      "         Talking: 4.55%\n",
      "No people is in the room: 3.20%\n",
      "   Setting table: 1.19%\n",
      "\n"
     ]
    },
    {
     "name": "stderr",
     "output_type": "stream",
     "text": [
      " 71%|███████   | 300/422 [00:56<00:38,  3.13it/s]"
     ]
    },
    {
     "name": "stdout",
     "output_type": "stream",
     "text": [
      "datasets/audios/train/Normal\n",
      "MoviePy - Writing audio in datasets/audios/train/Normal/dfULz-lLaDc_000002_000012.wav\n"
     ]
    },
    {
     "name": "stderr",
     "output_type": "stream",
     "text": [
      " 71%|███████▏  | 301/422 [00:56<00:38,  3.17it/s]"
     ]
    },
    {
     "name": "stdout",
     "output_type": "stream",
     "text": [
      "MoviePy - Done.\n",
      "\n",
      "File: datasets/train/Normal/dfULz-lLaDc_000002_000012.mp4\n",
      "Ground Truth: Normal\n",
      "Top predictions:\n",
      "   Setting table: 59.49%\n",
      "    Sitting down: 10.93%\n",
      "   Doing laundry: 7.78%\n",
      "         Dancing: 4.95%\n",
      "No people is in the room: 4.11%\n",
      "\n"
     ]
    },
    {
     "name": "stderr",
     "output_type": "stream",
     "text": [
      " 71%|███████▏  | 301/422 [00:56<00:38,  3.17it/s]"
     ]
    },
    {
     "name": "stdout",
     "output_type": "stream",
     "text": [
      "datasets/audios/train/Normal\n",
      "MoviePy - Writing audio in datasets/audios/train/Normal/DFX28NEFY38_000157_000167.wav\n"
     ]
    },
    {
     "name": "stderr",
     "output_type": "stream",
     "text": [
      " 72%|███████▏  | 302/422 [00:56<00:38,  3.15it/s]"
     ]
    },
    {
     "name": "stdout",
     "output_type": "stream",
     "text": [
      "MoviePy - Done.\n",
      "\n",
      "File: datasets/train/Normal/DFX28NEFY38_000157_000167.mp4\n",
      "Ground Truth: Normal\n",
      "Top predictions:\n",
      "     Eating food: 28.51%\n",
      "No people is in the room: 23.54%\n",
      "         Talking: 8.65%\n",
      "        Drinking: 6.99%\n",
      "        Speaking: 6.36%\n",
      "\n"
     ]
    },
    {
     "name": "stderr",
     "output_type": "stream",
     "text": [
      " 72%|███████▏  | 302/422 [00:56<00:38,  3.15it/s]"
     ]
    },
    {
     "name": "stdout",
     "output_type": "stream",
     "text": [
      "datasets/audios/train/Normal\n",
      "MoviePy - Writing audio in datasets/audios/train/Normal/DkZml-dK0pU_000043_000053.wav\n"
     ]
    },
    {
     "name": "stderr",
     "output_type": "stream",
     "text": [
      " 72%|███████▏  | 303/422 [00:57<00:38,  3.11it/s]"
     ]
    },
    {
     "name": "stdout",
     "output_type": "stream",
     "text": [
      "MoviePy - Done.\n",
      "\n",
      "File: datasets/train/Normal/DkZml-dK0pU_000043_000053.mp4\n",
      "Ground Truth: Normal\n",
      "Top predictions:\n",
      "Playing with pets: 65.30%\n",
      "       Showering: 7.53%\n",
      "         Dancing: 6.96%\n",
      "   Mopping floor: 6.77%\n",
      "   Setting table: 2.47%\n",
      "\n"
     ]
    },
    {
     "name": "stderr",
     "output_type": "stream",
     "text": [
      " 72%|███████▏  | 303/422 [00:57<00:38,  3.11it/s]"
     ]
    },
    {
     "name": "stdout",
     "output_type": "stream",
     "text": [
      "datasets/audios/train/Normal\n",
      "MoviePy - Writing audio in datasets/audios/train/Normal/DLhpyADKYKM_000184_000194.wav\n"
     ]
    },
    {
     "name": "stderr",
     "output_type": "stream",
     "text": [
      " 72%|███████▏  | 304/422 [00:57<00:37,  3.15it/s]"
     ]
    },
    {
     "name": "stdout",
     "output_type": "stream",
     "text": [
      "MoviePy - Done.\n",
      "\n",
      "File: datasets/train/Normal/DLhpyADKYKM_000184_000194.mp4\n",
      "Ground Truth: Normal\n",
      "Top predictions:\n",
      "      Decorating: 25.19%\n",
      "        Studying: 23.53%\n",
      "        Cleaning: 18.87%\n",
      "        Painting: 8.22%\n",
      "    Sitting down: 6.83%\n",
      "\n"
     ]
    },
    {
     "name": "stderr",
     "output_type": "stream",
     "text": [
      " 72%|███████▏  | 304/422 [00:57<00:37,  3.15it/s]"
     ]
    },
    {
     "name": "stdout",
     "output_type": "stream",
     "text": [
      "datasets/audios/train/Normal\n",
      "MoviePy - Writing audio in datasets/audios/train/Normal/dlK1QS-Aofs_000066_000076.wav\n"
     ]
    },
    {
     "name": "stderr",
     "output_type": "stream",
     "text": [
      " 72%|███████▏  | 305/422 [00:57<00:36,  3.19it/s]"
     ]
    },
    {
     "name": "stdout",
     "output_type": "stream",
     "text": [
      "MoviePy - Done.\n",
      "\n",
      "File: datasets/train/Normal/dlK1QS-Aofs_000066_000076.mp4\n",
      "Ground Truth: Normal\n",
      "Top predictions:\n",
      "        Cleaning: 8.48%\n",
      "      Using drug: 7.85%\n",
      "   Setting table: 7.05%\n",
      "      Decorating: 6.58%\n",
      "        Painting: 5.99%\n",
      "\n"
     ]
    },
    {
     "name": "stderr",
     "output_type": "stream",
     "text": [
      " 72%|███████▏  | 305/422 [00:57<00:36,  3.19it/s]"
     ]
    },
    {
     "name": "stdout",
     "output_type": "stream",
     "text": [
      "datasets/audios/train/Normal\n",
      "MoviePy - Writing audio in datasets/audios/train/Normal/dMBlXTR3qQU_000187_000197.wav\n"
     ]
    },
    {
     "name": "stderr",
     "output_type": "stream",
     "text": [
      " 73%|███████▎  | 306/422 [00:58<00:36,  3.15it/s]"
     ]
    },
    {
     "name": "stdout",
     "output_type": "stream",
     "text": [
      "MoviePy - Done.\n",
      "\n",
      "File: datasets/train/Normal/dMBlXTR3qQU_000187_000197.mp4\n",
      "Ground Truth: Normal\n",
      "Top predictions:\n",
      "    Sitting down: 77.08%\n",
      "   Doing laundry: 11.35%\n",
      "   Mopping floor: 2.40%\n",
      "        Sleeping: 1.36%\n",
      "Physical altercations: 1.19%\n",
      "\n"
     ]
    },
    {
     "name": "stderr",
     "output_type": "stream",
     "text": [
      " 73%|███████▎  | 306/422 [00:58<00:36,  3.15it/s]"
     ]
    },
    {
     "name": "stdout",
     "output_type": "stream",
     "text": [
      "datasets/audios/train/Normal\n",
      "MoviePy - Writing audio in datasets/audios/train/Normal/dndkqyk45Ks_000015_000025.wav\n"
     ]
    },
    {
     "name": "stderr",
     "output_type": "stream",
     "text": [
      " 73%|███████▎  | 307/422 [00:58<00:36,  3.12it/s]"
     ]
    },
    {
     "name": "stdout",
     "output_type": "stream",
     "text": [
      "MoviePy - Done.\n",
      "\n",
      "File: datasets/train/Normal/dndkqyk45Ks_000015_000025.mp4\n",
      "Ground Truth: Normal\n",
      "Top predictions:\n",
      "No people is in the room: 58.23%\n",
      "Playing with pets: 17.61%\n",
      "   Setting table: 12.92%\n",
      "   Doing laundry: 4.24%\n",
      "   Mopping floor: 2.70%\n",
      "\n"
     ]
    },
    {
     "name": "stderr",
     "output_type": "stream",
     "text": [
      " 73%|███████▎  | 307/422 [00:58<00:36,  3.12it/s]"
     ]
    },
    {
     "name": "stdout",
     "output_type": "stream",
     "text": [
      "datasets/audios/train/Normal\n",
      "MoviePy - Writing audio in datasets/audios/train/Normal/DNWCjFUE75s_000289_000299.wav\n"
     ]
    },
    {
     "name": "stderr",
     "output_type": "stream",
     "text": [
      " 73%|███████▎  | 308/422 [00:58<00:37,  3.00it/s]"
     ]
    },
    {
     "name": "stdout",
     "output_type": "stream",
     "text": [
      "MoviePy - Done.\n",
      "\n",
      "File: datasets/train/Normal/DNWCjFUE75s_000289_000299.mp4\n",
      "Ground Truth: Normal\n",
      "Top predictions:\n",
      "     Celebrating: 15.02%\n",
      "    Sitting down: 11.23%\n",
      "No people is in the room: 10.92%\n",
      "   Setting table: 9.14%\n",
      "  Using computer: 7.47%\n",
      "\n"
     ]
    },
    {
     "name": "stderr",
     "output_type": "stream",
     "text": [
      " 73%|███████▎  | 308/422 [00:58<00:37,  3.00it/s]"
     ]
    },
    {
     "name": "stdout",
     "output_type": "stream",
     "text": [
      "datasets/audios/train/Normal\n",
      "MoviePy - Writing audio in datasets/audios/train/Normal/dsnkk1tytpE_000066_000076.wav\n"
     ]
    },
    {
     "name": "stderr",
     "output_type": "stream",
     "text": [
      " 73%|███████▎  | 309/422 [00:59<00:36,  3.06it/s]"
     ]
    },
    {
     "name": "stdout",
     "output_type": "stream",
     "text": [
      "MoviePy - Done.\n",
      "\n",
      "File: datasets/train/Normal/dsnkk1tytpE_000066_000076.mp4\n",
      "Ground Truth: Normal\n",
      "Top predictions:\n",
      "Playing board games: 41.96%\n",
      "Playing with pets: 14.56%\n",
      "   Setting table: 12.22%\n",
      "          Dining: 8.18%\n",
      "No people is in the room: 4.77%\n",
      "\n"
     ]
    },
    {
     "name": "stderr",
     "output_type": "stream",
     "text": [
      " 73%|███████▎  | 309/422 [00:59<00:36,  3.06it/s]"
     ]
    },
    {
     "name": "stdout",
     "output_type": "stream",
     "text": [
      "datasets/audios/train/Normal\n",
      "MoviePy - Writing audio in datasets/audios/train/Normal/dxBH1r8To3Y_000010_000020.wav\n"
     ]
    },
    {
     "name": "stderr",
     "output_type": "stream",
     "text": [
      " 73%|███████▎  | 310/422 [00:59<00:36,  3.08it/s]"
     ]
    },
    {
     "name": "stdout",
     "output_type": "stream",
     "text": [
      "MoviePy - Done.\n",
      "\n",
      "File: datasets/train/Normal/dxBH1r8To3Y_000010_000020.mp4\n",
      "Ground Truth: Normal\n",
      "Top predictions:\n",
      "     Eating food: 84.53%\n",
      "Playing with pets: 4.86%\n",
      "        Drinking: 4.57%\n",
      "No people is in the room: 4.33%\n",
      "    Sitting down: 0.39%\n",
      "\n"
     ]
    },
    {
     "name": "stderr",
     "output_type": "stream",
     "text": [
      " 73%|███████▎  | 310/422 [00:59<00:36,  3.08it/s]"
     ]
    },
    {
     "name": "stdout",
     "output_type": "stream",
     "text": [
      "datasets/audios/train/Normal\n",
      "MoviePy - Writing audio in datasets/audios/train/Normal/dXOxzXI-psA_000017_000027.wav\n"
     ]
    },
    {
     "name": "stderr",
     "output_type": "stream",
     "text": [
      " 74%|███████▎  | 311/422 [00:59<00:35,  3.14it/s]"
     ]
    },
    {
     "name": "stdout",
     "output_type": "stream",
     "text": [
      "MoviePy - Done.\n",
      "\n",
      "File: datasets/train/Normal/dXOxzXI-psA_000017_000027.mp4\n",
      "Ground Truth: Normal\n",
      "Top predictions:\n",
      "Playing with pets: 59.92%\n",
      "  Using computer: 11.06%\n",
      "Play with phone/tablet: 4.83%\n",
      "         Talking: 4.82%\n",
      "Making phone calls: 3.85%\n",
      "\n"
     ]
    },
    {
     "name": "stderr",
     "output_type": "stream",
     "text": [
      " 74%|███████▎  | 311/422 [00:59<00:35,  3.14it/s]"
     ]
    },
    {
     "name": "stdout",
     "output_type": "stream",
     "text": [
      "datasets/audios/train/Normal\n",
      "MoviePy - Writing audio in datasets/audios/train/Normal/e-xCuXyO1w0_000122_000132.wav\n"
     ]
    },
    {
     "name": "stderr",
     "output_type": "stream",
     "text": [
      " 74%|███████▍  | 312/422 [01:00<00:35,  3.13it/s]"
     ]
    },
    {
     "name": "stdout",
     "output_type": "stream",
     "text": [
      "MoviePy - Done.\n",
      "\n",
      "File: datasets/train/Normal/e-xCuXyO1w0_000122_000132.mp4\n",
      "Ground Truth: Normal\n",
      "Top predictions:\n",
      "    Sitting down: 73.83%\n",
      "   Doing laundry: 15.96%\n",
      "   Mopping floor: 2.37%\n",
      "         Working: 1.89%\n",
      "No people is in the room: 1.35%\n",
      "\n"
     ]
    },
    {
     "name": "stderr",
     "output_type": "stream",
     "text": [
      " 74%|███████▍  | 312/422 [01:00<00:35,  3.13it/s]"
     ]
    },
    {
     "name": "stdout",
     "output_type": "stream",
     "text": [
      "datasets/audios/train/Normal\n",
      "MoviePy - Writing audio in datasets/audios/train/Normal/E4sSE4n7AIY_000617_000627.wav\n"
     ]
    },
    {
     "name": "stderr",
     "output_type": "stream",
     "text": [
      " 74%|███████▍  | 313/422 [01:00<00:34,  3.13it/s]"
     ]
    },
    {
     "name": "stdout",
     "output_type": "stream",
     "text": [
      "MoviePy - Done.\n",
      "\n",
      "File: datasets/train/Normal/E4sSE4n7AIY_000617_000627.mp4\n",
      "Ground Truth: Normal\n",
      "Top predictions:\n",
      "Playing with pets: 36.09%\n",
      "        Painting: 23.81%\n",
      "Play with phone/tablet: 12.11%\n",
      "        Studying: 6.20%\n",
      "         Working: 2.72%\n",
      "\n"
     ]
    },
    {
     "name": "stderr",
     "output_type": "stream",
     "text": [
      " 74%|███████▍  | 313/422 [01:00<00:34,  3.13it/s]"
     ]
    },
    {
     "name": "stdout",
     "output_type": "stream",
     "text": [
      "datasets/audios/train/Normal\n",
      "MoviePy - Writing audio in datasets/audios/train/Normal/e6knPRich_k_000053_000063.wav\n"
     ]
    },
    {
     "name": "stderr",
     "output_type": "stream",
     "text": [
      " 74%|███████▍  | 314/422 [01:00<00:35,  3.04it/s]"
     ]
    },
    {
     "name": "stdout",
     "output_type": "stream",
     "text": [
      "MoviePy - Done.\n",
      "\n",
      "File: datasets/train/Normal/e6knPRich_k_000053_000063.mp4\n",
      "Ground Truth: Normal\n",
      "Top predictions:\n",
      "     Eating food: 52.78%\n",
      "Playing with pets: 8.99%\n",
      "         Talking: 6.38%\n",
      "          Dining: 6.35%\n",
      "No people is in the room: 6.20%\n",
      "\n"
     ]
    },
    {
     "name": "stderr",
     "output_type": "stream",
     "text": [
      " 74%|███████▍  | 314/422 [01:00<00:35,  3.04it/s]"
     ]
    },
    {
     "name": "stdout",
     "output_type": "stream",
     "text": [
      "datasets/audios/train/Normal\n",
      "MoviePy - Writing audio in datasets/audios/train/Normal/e7MT8cHYxls_000016_000026.wav\n"
     ]
    },
    {
     "name": "stderr",
     "output_type": "stream",
     "text": [
      " 75%|███████▍  | 315/422 [01:01<00:36,  2.95it/s]"
     ]
    },
    {
     "name": "stdout",
     "output_type": "stream",
     "text": [
      "MoviePy - Done.\n",
      "\n",
      "File: datasets/train/Normal/e7MT8cHYxls_000016_000026.mp4\n",
      "Ground Truth: Normal\n",
      "Top predictions:\n",
      "No people is in the room: 93.35%\n",
      "   Doing laundry: 1.29%\n",
      "         Talking: 1.05%\n",
      "Playing with pets: 0.62%\n",
      "         Reading: 0.52%\n",
      "\n"
     ]
    },
    {
     "name": "stderr",
     "output_type": "stream",
     "text": [
      " 75%|███████▍  | 315/422 [01:01<00:36,  2.95it/s]"
     ]
    },
    {
     "name": "stdout",
     "output_type": "stream",
     "text": [
      "datasets/audios/train/Normal\n",
      "MoviePy - Writing audio in datasets/audios/train/Normal/eDegjR0YmXE_000102_000112.wav\n"
     ]
    },
    {
     "name": "stderr",
     "output_type": "stream",
     "text": [
      " 75%|███████▍  | 316/422 [01:01<00:36,  2.94it/s]"
     ]
    },
    {
     "name": "stdout",
     "output_type": "stream",
     "text": [
      "MoviePy - Done.\n",
      "\n",
      "File: datasets/train/Normal/eDegjR0YmXE_000102_000112.mp4\n",
      "Ground Truth: Normal\n",
      "Top predictions:\n",
      "  Using computer: 38.70%\n",
      "        Studying: 16.65%\n",
      "No people is in the room: 13.59%\n",
      "Organizing space: 12.80%\n",
      "         Working: 4.38%\n",
      "\n"
     ]
    },
    {
     "name": "stderr",
     "output_type": "stream",
     "text": [
      " 75%|███████▍  | 316/422 [01:01<00:36,  2.94it/s]"
     ]
    },
    {
     "name": "stdout",
     "output_type": "stream",
     "text": [
      "datasets/audios/train/Normal\n",
      "MoviePy - Writing audio in datasets/audios/train/Normal/eJfnOEeJpM0_000044_000054.wav\n"
     ]
    },
    {
     "name": "stderr",
     "output_type": "stream",
     "text": [
      " 75%|███████▌  | 317/422 [01:01<00:34,  3.00it/s]"
     ]
    },
    {
     "name": "stdout",
     "output_type": "stream",
     "text": [
      "MoviePy - Done.\n",
      "\n",
      "File: datasets/train/Normal/eJfnOEeJpM0_000044_000054.mp4\n",
      "Ground Truth: Normal\n",
      "Top predictions:\n",
      "No people is in the room: 36.45%\n",
      "   Setting table: 20.62%\n",
      "   Doing laundry: 4.49%\n",
      "      Decorating: 4.26%\n",
      "     Eating food: 3.17%\n",
      "\n"
     ]
    },
    {
     "name": "stderr",
     "output_type": "stream",
     "text": [
      " 75%|███████▌  | 317/422 [01:01<00:34,  3.00it/s]"
     ]
    },
    {
     "name": "stdout",
     "output_type": "stream",
     "text": [
      "datasets/audios/train/Normal\n",
      "MoviePy - Writing audio in datasets/audios/train/Normal/ENKtS5yCT2o_000053_000063.wav\n"
     ]
    },
    {
     "name": "stderr",
     "output_type": "stream",
     "text": [
      " 75%|███████▌  | 318/422 [01:02<00:33,  3.09it/s]"
     ]
    },
    {
     "name": "stdout",
     "output_type": "stream",
     "text": [
      "MoviePy - Done.\n",
      "\n",
      "File: datasets/train/Normal/ENKtS5yCT2o_000053_000063.mp4\n",
      "Ground Truth: Normal\n",
      "Top predictions:\n",
      "Organizing space: 28.70%\n",
      "No people is in the room: 13.50%\n",
      "          Dining: 12.17%\n",
      "  Using computer: 6.07%\n",
      "      Using drug: 4.22%\n",
      "\n"
     ]
    },
    {
     "name": "stderr",
     "output_type": "stream",
     "text": [
      " 75%|███████▌  | 318/422 [01:02<00:33,  3.09it/s]"
     ]
    },
    {
     "name": "stdout",
     "output_type": "stream",
     "text": [
      "datasets/audios/train/Normal\n",
      "MoviePy - Writing audio in datasets/audios/train/Normal/EQViTe9m1Hw_000112_000122.wav\n"
     ]
    },
    {
     "name": "stderr",
     "output_type": "stream",
     "text": [
      " 76%|███████▌  | 319/422 [01:02<00:33,  3.08it/s]"
     ]
    },
    {
     "name": "stdout",
     "output_type": "stream",
     "text": [
      "MoviePy - Done.\n",
      "\n",
      "File: datasets/train/Normal/EQViTe9m1Hw_000112_000122.mp4\n",
      "Ground Truth: Normal\n",
      "Top predictions:\n",
      "  Using computer: 50.75%\n",
      "        Studying: 32.67%\n",
      "        Painting: 5.39%\n",
      "      Decorating: 3.34%\n",
      "         Working: 2.65%\n",
      "\n"
     ]
    },
    {
     "name": "stderr",
     "output_type": "stream",
     "text": [
      " 76%|███████▌  | 319/422 [01:02<00:33,  3.08it/s]"
     ]
    },
    {
     "name": "stdout",
     "output_type": "stream",
     "text": [
      "datasets/audios/train/Normal\n",
      "MoviePy - Writing audio in datasets/audios/train/Normal/ew7MSTTFMeg_000272_000282.wav\n"
     ]
    },
    {
     "name": "stderr",
     "output_type": "stream",
     "text": [
      " 76%|███████▌  | 320/422 [01:02<00:32,  3.14it/s]"
     ]
    },
    {
     "name": "stdout",
     "output_type": "stream",
     "text": [
      "MoviePy - Done.\n",
      "\n",
      "File: datasets/train/Normal/ew7MSTTFMeg_000272_000282.mp4\n",
      "Ground Truth: Normal\n",
      "Top predictions:\n",
      "     Eating food: 26.29%\n",
      "         Reading: 22.64%\n",
      "Playing with pets: 13.36%\n",
      "  Using computer: 5.42%\n",
      "         Writing: 4.25%\n",
      "\n"
     ]
    },
    {
     "name": "stderr",
     "output_type": "stream",
     "text": [
      " 76%|███████▌  | 320/422 [01:02<00:32,  3.14it/s]"
     ]
    },
    {
     "name": "stdout",
     "output_type": "stream",
     "text": [
      "datasets/audios/train/Normal\n",
      "MoviePy - Writing audio in datasets/audios/train/Normal/F1KA2nf-C9M_000133_000143.wav\n"
     ]
    },
    {
     "name": "stderr",
     "output_type": "stream",
     "text": [
      " 76%|███████▌  | 321/422 [01:02<00:31,  3.17it/s]"
     ]
    },
    {
     "name": "stdout",
     "output_type": "stream",
     "text": [
      "MoviePy - Done.\n",
      "\n",
      "File: datasets/train/Normal/F1KA2nf-C9M_000133_000143.mp4\n",
      "Ground Truth: Normal\n",
      "Top predictions:\n",
      "      Using drug: 28.67%\n",
      "  Using computer: 18.95%\n",
      "         Reading: 9.54%\n",
      "      Decorating: 6.34%\n",
      "        Studying: 4.30%\n",
      "\n"
     ]
    },
    {
     "name": "stderr",
     "output_type": "stream",
     "text": [
      " 76%|███████▌  | 321/422 [01:03<00:31,  3.17it/s]"
     ]
    },
    {
     "name": "stdout",
     "output_type": "stream",
     "text": [
      "datasets/audios/train/Normal\n",
      "MoviePy - Writing audio in datasets/audios/train/Normal/f3DMBH9EJNI_000007_000017.wav\n"
     ]
    },
    {
     "name": "stderr",
     "output_type": "stream",
     "text": [
      " 76%|███████▋  | 322/422 [01:03<00:32,  3.09it/s]"
     ]
    },
    {
     "name": "stdout",
     "output_type": "stream",
     "text": [
      "MoviePy - Done.\n",
      "\n",
      "File: datasets/train/Normal/f3DMBH9EJNI_000007_000017.mp4\n",
      "Ground Truth: Normal\n",
      "Top predictions:\n",
      "No people is in the room: 30.15%\n",
      "    Sitting down: 23.64%\n",
      "        Laughing: 10.97%\n",
      "         Dancing: 8.37%\n",
      "      Exercising: 3.07%\n",
      "\n"
     ]
    },
    {
     "name": "stderr",
     "output_type": "stream",
     "text": [
      " 76%|███████▋  | 322/422 [01:03<00:32,  3.09it/s]"
     ]
    },
    {
     "name": "stdout",
     "output_type": "stream",
     "text": [
      "datasets/audios/train/Normal\n",
      "MoviePy - Writing audio in datasets/audios/train/Normal/F621wrqXp34_000036_000046.wav\n"
     ]
    },
    {
     "name": "stderr",
     "output_type": "stream",
     "text": [
      " 77%|███████▋  | 323/422 [01:03<00:32,  3.03it/s]"
     ]
    },
    {
     "name": "stdout",
     "output_type": "stream",
     "text": [
      "MoviePy - Done.\n",
      "\n",
      "File: datasets/train/Normal/F621wrqXp34_000036_000046.mp4\n",
      "Ground Truth: Normal\n",
      "Top predictions:\n",
      "         Reading: 26.31%\n",
      "  Using computer: 14.48%\n",
      "        Studying: 11.75%\n",
      "No people is in the room: 11.47%\n",
      "Organizing space: 6.83%\n",
      "\n"
     ]
    },
    {
     "name": "stderr",
     "output_type": "stream",
     "text": [
      " 77%|███████▋  | 323/422 [01:03<00:32,  3.03it/s]"
     ]
    },
    {
     "name": "stdout",
     "output_type": "stream",
     "text": [
      "datasets/audios/train/Normal\n",
      "MoviePy - Writing audio in datasets/audios/train/Normal/FJ8M6LK6evw_000022_000032.wav\n"
     ]
    },
    {
     "name": "stderr",
     "output_type": "stream",
     "text": [
      " 77%|███████▋  | 324/422 [01:03<00:33,  2.97it/s]"
     ]
    },
    {
     "name": "stdout",
     "output_type": "stream",
     "text": [
      "MoviePy - Done.\n",
      "\n",
      "File: datasets/train/Normal/FJ8M6LK6evw_000022_000032.mp4\n",
      "Ground Truth: Normal\n",
      "Top predictions:\n",
      "  Using computer: 17.99%\n",
      "        Chatting: 12.34%\n",
      "     Celebrating: 9.25%\n",
      "      Using drug: 8.77%\n",
      "Organizing space: 8.03%\n",
      "\n"
     ]
    },
    {
     "name": "stderr",
     "output_type": "stream",
     "text": [
      " 77%|███████▋  | 324/422 [01:04<00:33,  2.97it/s]"
     ]
    },
    {
     "name": "stdout",
     "output_type": "stream",
     "text": [
      "datasets/audios/train/Normal\n",
      "MoviePy - Writing audio in datasets/audios/train/Normal/FJljds1AA2o_000016_000026.wav\n"
     ]
    },
    {
     "name": "stderr",
     "output_type": "stream",
     "text": [
      " 77%|███████▋  | 325/422 [01:04<00:32,  2.99it/s]"
     ]
    },
    {
     "name": "stdout",
     "output_type": "stream",
     "text": [
      "MoviePy - Done.\n",
      "\n",
      "File: datasets/train/Normal/FJljds1AA2o_000016_000026.mp4\n",
      "Ground Truth: Normal\n",
      "Top predictions:\n",
      "No people is in the room: 36.42%\n",
      "         Talking: 22.68%\n",
      "         Reading: 13.29%\n",
      "     Eating food: 9.95%\n",
      "        Speaking: 6.48%\n",
      "\n"
     ]
    },
    {
     "name": "stderr",
     "output_type": "stream",
     "text": [
      " 77%|███████▋  | 325/422 [01:04<00:32,  2.99it/s]"
     ]
    },
    {
     "name": "stdout",
     "output_type": "stream",
     "text": [
      "datasets/audios/train/Normal\n",
      "MoviePy - Writing audio in datasets/audios/train/Normal/gem1VWkzae8_000875_000885.wav\n"
     ]
    },
    {
     "name": "stderr",
     "output_type": "stream",
     "text": [
      " 77%|███████▋  | 326/422 [01:04<00:32,  2.99it/s]"
     ]
    },
    {
     "name": "stdout",
     "output_type": "stream",
     "text": [
      "MoviePy - Done.\n",
      "\n",
      "File: datasets/train/Normal/gem1VWkzae8_000875_000885.mp4\n",
      "Ground Truth: Normal\n",
      "Top predictions:\n",
      "        Studying: 48.79%\n",
      "Organizing space: 13.13%\n",
      "  Using computer: 12.73%\n",
      "   Setting table: 8.12%\n",
      "         Working: 3.56%\n",
      "\n"
     ]
    },
    {
     "name": "stderr",
     "output_type": "stream",
     "text": [
      " 77%|███████▋  | 326/422 [01:04<00:32,  2.99it/s]"
     ]
    },
    {
     "name": "stdout",
     "output_type": "stream",
     "text": [
      "datasets/audios/train/Normal\n",
      "MoviePy - Writing audio in datasets/audios/train/Normal/Gf5htdt_Djg_000107_000117.wav\n"
     ]
    },
    {
     "name": "stderr",
     "output_type": "stream",
     "text": [
      " 77%|███████▋  | 327/422 [01:04<00:31,  3.00it/s]"
     ]
    },
    {
     "name": "stdout",
     "output_type": "stream",
     "text": [
      "MoviePy - Done.\n",
      "\n",
      "File: datasets/train/Normal/Gf5htdt_Djg_000107_000117.mp4\n",
      "Ground Truth: Normal\n",
      "Top predictions:\n",
      "No people is in the room: 42.90%\n",
      "Playing board games: 33.80%\n",
      "   Setting table: 6.86%\n",
      "     Eating food: 4.77%\n",
      "          Dining: 3.14%\n",
      "\n"
     ]
    },
    {
     "name": "stderr",
     "output_type": "stream",
     "text": [
      " 77%|███████▋  | 327/422 [01:05<00:31,  3.00it/s]"
     ]
    },
    {
     "name": "stdout",
     "output_type": "stream",
     "text": [
      "datasets/audios/train/Normal\n",
      "MoviePy - Writing audio in datasets/audios/train/Normal/gmE90XbBgOk_000000_000010.wav\n"
     ]
    },
    {
     "name": "stderr",
     "output_type": "stream",
     "text": [
      " 78%|███████▊  | 328/422 [01:05<00:30,  3.06it/s]"
     ]
    },
    {
     "name": "stdout",
     "output_type": "stream",
     "text": [
      "MoviePy - Done.\n",
      "\n",
      "File: datasets/train/Normal/gmE90XbBgOk_000000_000010.mp4\n",
      "Ground Truth: Normal\n",
      "Top predictions:\n",
      "    Sitting down: 27.25%\n",
      "     Eating food: 18.59%\n",
      "         Smoking: 16.54%\n",
      "        Drinking: 12.78%\n",
      "No people is in the room: 4.37%\n",
      "\n"
     ]
    },
    {
     "name": "stderr",
     "output_type": "stream",
     "text": [
      " 78%|███████▊  | 328/422 [01:05<00:30,  3.06it/s]"
     ]
    },
    {
     "name": "stdout",
     "output_type": "stream",
     "text": [
      "datasets/audios/train/Normal\n",
      "MoviePy - Writing audio in datasets/audios/train/Normal/GnXROFauJVY_000026_000036.wav\n"
     ]
    },
    {
     "name": "stderr",
     "output_type": "stream",
     "text": [
      " 78%|███████▊  | 329/422 [01:05<00:30,  3.07it/s]"
     ]
    },
    {
     "name": "stdout",
     "output_type": "stream",
     "text": [
      "MoviePy - Done.\n",
      "\n",
      "File: datasets/train/Normal/GnXROFauJVY_000026_000036.mp4\n",
      "Ground Truth: Normal\n",
      "Top predictions:\n",
      "     Celebrating: 77.08%\n",
      "No people is in the room: 4.03%\n",
      "           Party: 3.92%\n",
      "          Dining: 2.64%\n",
      "         Potluck: 2.09%\n",
      "\n"
     ]
    },
    {
     "name": "stderr",
     "output_type": "stream",
     "text": [
      " 78%|███████▊  | 329/422 [01:05<00:30,  3.07it/s]"
     ]
    },
    {
     "name": "stdout",
     "output_type": "stream",
     "text": [
      "datasets/audios/train/Normal\n",
      "MoviePy - Writing audio in datasets/audios/train/Normal/H89ENzVtnlg_000095_000105.wav\n"
     ]
    },
    {
     "name": "stderr",
     "output_type": "stream",
     "text": [
      " 78%|███████▊  | 330/422 [01:05<00:31,  2.95it/s]"
     ]
    },
    {
     "name": "stdout",
     "output_type": "stream",
     "text": [
      "MoviePy - Done.\n",
      "\n",
      "File: datasets/train/Normal/H89ENzVtnlg_000095_000105.mp4\n",
      "Ground Truth: Normal\n",
      "Top predictions:\n",
      "       Showering: 43.07%\n",
      "   Mopping floor: 10.41%\n",
      "   Doing laundry: 8.55%\n",
      "         Cooking: 8.23%\n",
      "No people is in the room: 6.63%\n",
      "\n"
     ]
    },
    {
     "name": "stderr",
     "output_type": "stream",
     "text": [
      " 78%|███████▊  | 330/422 [01:06<00:31,  2.95it/s]"
     ]
    },
    {
     "name": "stdout",
     "output_type": "stream",
     "text": [
      "datasets/audios/train/Normal\n",
      "MoviePy - Writing audio in datasets/audios/train/Normal/HJqSjhNOMjY_000143_000153.wav\n"
     ]
    },
    {
     "name": "stderr",
     "output_type": "stream",
     "text": [
      " 78%|███████▊  | 331/422 [01:06<00:31,  2.92it/s]"
     ]
    },
    {
     "name": "stdout",
     "output_type": "stream",
     "text": [
      "MoviePy - Done.\n",
      "\n",
      "File: datasets/train/Normal/HJqSjhNOMjY_000143_000153.mp4\n",
      "Ground Truth: Normal\n",
      "Top predictions:\n",
      "   Setting table: 27.34%\n",
      "     Celebrating: 21.32%\n",
      "No people is in the room: 18.65%\n",
      "         Talking: 4.22%\n",
      "        Speaking: 3.54%\n",
      "\n"
     ]
    },
    {
     "name": "stderr",
     "output_type": "stream",
     "text": [
      " 78%|███████▊  | 331/422 [01:06<00:31,  2.92it/s]"
     ]
    },
    {
     "name": "stdout",
     "output_type": "stream",
     "text": [
      "datasets/audios/train/Normal\n",
      "MoviePy - Writing audio in datasets/audios/train/Normal/hM8CfzDDyIg_000158_000168.wav\n"
     ]
    },
    {
     "name": "stderr",
     "output_type": "stream",
     "text": [
      " 79%|███████▊  | 332/422 [01:06<00:30,  2.94it/s]"
     ]
    },
    {
     "name": "stdout",
     "output_type": "stream",
     "text": [
      "MoviePy - Done.\n",
      "\n",
      "File: datasets/train/Normal/hM8CfzDDyIg_000158_000168.mp4\n",
      "Ground Truth: Normal\n",
      "Top predictions:\n",
      "       Showering: 34.44%\n",
      "Unattended cooking: 31.79%\n",
      "         Cooking: 19.49%\n",
      "        Cleaning: 3.67%\n",
      "   Doing laundry: 3.57%\n",
      "\n"
     ]
    },
    {
     "name": "stderr",
     "output_type": "stream",
     "text": [
      " 79%|███████▊  | 332/422 [01:06<00:30,  2.94it/s]"
     ]
    },
    {
     "name": "stdout",
     "output_type": "stream",
     "text": [
      "datasets/audios/train/Normal\n",
      "MoviePy - Writing audio in datasets/audios/train/Normal/hQ4OpC2RuLY_000120_000130.wav\n"
     ]
    },
    {
     "name": "stderr",
     "output_type": "stream",
     "text": [
      " 79%|███████▉  | 333/422 [01:06<00:29,  3.01it/s]"
     ]
    },
    {
     "name": "stdout",
     "output_type": "stream",
     "text": [
      "MoviePy - Done.\n",
      "\n",
      "File: datasets/train/Normal/hQ4OpC2RuLY_000120_000130.mp4\n",
      "Ground Truth: Normal\n",
      "Top predictions:\n",
      "              TV: 31.33%\n",
      "  Using computer: 11.56%\n",
      "      Using drug: 10.52%\n",
      "     Celebrating: 6.09%\n",
      "No people is in the room: 5.41%\n",
      "\n"
     ]
    },
    {
     "name": "stderr",
     "output_type": "stream",
     "text": [
      " 79%|███████▉  | 333/422 [01:07<00:29,  3.01it/s]"
     ]
    },
    {
     "name": "stdout",
     "output_type": "stream",
     "text": [
      "datasets/audios/train/Normal\n",
      "MoviePy - Writing audio in datasets/audios/train/Normal/hxyttQsXwOc_000079_000089.wav\n"
     ]
    },
    {
     "name": "stderr",
     "output_type": "stream",
     "text": [
      " 79%|███████▉  | 334/422 [01:07<00:28,  3.04it/s]"
     ]
    },
    {
     "name": "stdout",
     "output_type": "stream",
     "text": [
      "MoviePy - Done.\n",
      "\n",
      "File: datasets/train/Normal/hxyttQsXwOc_000079_000089.mp4\n",
      "Ground Truth: Normal\n",
      "Top predictions:\n",
      "Playing with pets: 43.28%\n",
      "         Talking: 18.85%\n",
      "No people is in the room: 6.30%\n",
      "        Chatting: 4.00%\n",
      "        Speaking: 3.96%\n",
      "\n"
     ]
    },
    {
     "name": "stderr",
     "output_type": "stream",
     "text": [
      " 79%|███████▉  | 334/422 [01:07<00:28,  3.04it/s]"
     ]
    },
    {
     "name": "stdout",
     "output_type": "stream",
     "text": [
      "datasets/audios/train/Normal\n",
      "MoviePy - Writing audio in datasets/audios/train/Normal/i70NodYlh7E_000336_000346.wav\n"
     ]
    },
    {
     "name": "stderr",
     "output_type": "stream",
     "text": [
      " 79%|███████▉  | 335/422 [01:07<00:29,  2.98it/s]"
     ]
    },
    {
     "name": "stdout",
     "output_type": "stream",
     "text": [
      "MoviePy - Done.\n",
      "\n",
      "File: datasets/train/Normal/i70NodYlh7E_000336_000346.mp4\n",
      "Ground Truth: Normal\n",
      "Top predictions:\n",
      "      Using drug: 26.36%\n",
      "          Dining: 23.94%\n",
      "   Setting table: 11.23%\n",
      "        Drinking: 6.83%\n",
      "  Using computer: 6.45%\n",
      "\n"
     ]
    },
    {
     "name": "stderr",
     "output_type": "stream",
     "text": [
      " 79%|███████▉  | 335/422 [01:07<00:29,  2.98it/s]"
     ]
    },
    {
     "name": "stdout",
     "output_type": "stream",
     "text": [
      "datasets/audios/train/Normal\n",
      "MoviePy - Writing audio in datasets/audios/train/Normal/IGHpI5LRzuk_000054_000064.wav\n"
     ]
    },
    {
     "name": "stderr",
     "output_type": "stream",
     "text": [
      " 80%|███████▉  | 336/422 [01:07<00:28,  3.04it/s]"
     ]
    },
    {
     "name": "stdout",
     "output_type": "stream",
     "text": [
      "MoviePy - Done.\n",
      "\n",
      "File: datasets/train/Normal/IGHpI5LRzuk_000054_000064.mp4\n",
      "Ground Truth: Normal\n",
      "Top predictions:\n",
      "  Brushing teeth: 97.65%\n",
      "        Cleaning: 1.37%\n",
      "       Showering: 0.44%\n",
      "      Using drug: 0.11%\n",
      "        Painting: 0.10%\n",
      "\n"
     ]
    },
    {
     "name": "stderr",
     "output_type": "stream",
     "text": [
      " 80%|███████▉  | 336/422 [01:08<00:28,  3.04it/s]"
     ]
    },
    {
     "name": "stdout",
     "output_type": "stream",
     "text": [
      "datasets/audios/train/Normal\n",
      "MoviePy - Writing audio in datasets/audios/train/Normal/IKG6W6LmSlw_000000_000010.wav\n"
     ]
    },
    {
     "name": "stderr",
     "output_type": "stream",
     "text": [
      " 80%|███████▉  | 337/422 [01:08<00:27,  3.09it/s]"
     ]
    },
    {
     "name": "stdout",
     "output_type": "stream",
     "text": [
      "MoviePy - Done.\n",
      "\n",
      "File: datasets/train/Normal/IKG6W6LmSlw_000000_000010.mp4\n",
      "Ground Truth: Normal\n",
      "Top predictions:\n",
      "        Drinking: 31.27%\n",
      "     Eating food: 9.44%\n",
      "No people is in the room: 8.04%\n",
      "  Brushing teeth: 7.97%\n",
      "         Writing: 6.61%\n",
      "\n"
     ]
    },
    {
     "name": "stderr",
     "output_type": "stream",
     "text": [
      " 80%|███████▉  | 337/422 [01:08<00:27,  3.09it/s]"
     ]
    },
    {
     "name": "stdout",
     "output_type": "stream",
     "text": [
      "datasets/audios/train/Normal\n",
      "MoviePy - Writing audio in datasets/audios/train/Normal/JpgvBLEoGPY_000008_000018.wav\n"
     ]
    },
    {
     "name": "stderr",
     "output_type": "stream",
     "text": [
      " 80%|████████  | 338/422 [01:08<00:27,  3.05it/s]"
     ]
    },
    {
     "name": "stdout",
     "output_type": "stream",
     "text": [
      "MoviePy - Done.\n",
      "\n",
      "File: datasets/train/Normal/JpgvBLEoGPY_000008_000018.mp4\n",
      "Ground Truth: Normal\n",
      "Top predictions:\n",
      "         Potluck: 43.18%\n",
      "         Singing: 10.67%\n",
      "     Celebrating: 9.64%\n",
      "      Using drug: 7.20%\n",
      "      Meditating: 5.16%\n",
      "\n"
     ]
    },
    {
     "name": "stderr",
     "output_type": "stream",
     "text": [
      " 80%|████████  | 338/422 [01:08<00:27,  3.05it/s]"
     ]
    },
    {
     "name": "stdout",
     "output_type": "stream",
     "text": [
      "datasets/audios/train/Normal\n",
      "MoviePy - Writing audio in datasets/audios/train/Normal/Jvx3wT69CVI_000460_000470.wav\n"
     ]
    },
    {
     "name": "stderr",
     "output_type": "stream",
     "text": [
      " 80%|████████  | 339/422 [01:08<00:26,  3.08it/s]"
     ]
    },
    {
     "name": "stdout",
     "output_type": "stream",
     "text": [
      "MoviePy - Done.\n",
      "\n",
      "File: datasets/train/Normal/Jvx3wT69CVI_000460_000470.mp4\n",
      "Ground Truth: Normal\n",
      "Top predictions:\n",
      "No people is in the room: 57.45%\n",
      "   Setting table: 25.04%\n",
      "   Doing laundry: 4.39%\n",
      "        Drinking: 1.83%\n",
      "         Working: 1.54%\n",
      "\n"
     ]
    },
    {
     "name": "stderr",
     "output_type": "stream",
     "text": [
      " 80%|████████  | 339/422 [01:09<00:26,  3.08it/s]"
     ]
    },
    {
     "name": "stdout",
     "output_type": "stream",
     "text": [
      "datasets/audios/train/Normal\n",
      "MoviePy - Writing audio in datasets/audios/train/Normal/k088TLn7oIU_000090_000100.wav\n"
     ]
    },
    {
     "name": "stderr",
     "output_type": "stream",
     "text": [
      " 81%|████████  | 340/422 [01:09<00:26,  3.10it/s]"
     ]
    },
    {
     "name": "stdout",
     "output_type": "stream",
     "text": [
      "MoviePy - Done.\n",
      "\n",
      "File: datasets/train/Normal/k088TLn7oIU_000090_000100.mp4\n",
      "Ground Truth: Normal\n",
      "Top predictions:\n",
      "   Setting table: 46.39%\n",
      "No people is in the room: 6.88%\n",
      "         Working: 6.35%\n",
      "      Decorating: 5.61%\n",
      "        Cleaning: 3.68%\n",
      "\n"
     ]
    },
    {
     "name": "stderr",
     "output_type": "stream",
     "text": [
      " 81%|████████  | 340/422 [01:09<00:26,  3.10it/s]"
     ]
    },
    {
     "name": "stdout",
     "output_type": "stream",
     "text": [
      "datasets/audios/train/Normal\n",
      "MoviePy - Writing audio in datasets/audios/train/Normal/KCk7JLKqICc_000068_000078.wav\n"
     ]
    },
    {
     "name": "stderr",
     "output_type": "stream",
     "text": [
      " 81%|████████  | 341/422 [01:09<00:27,  2.98it/s]"
     ]
    },
    {
     "name": "stdout",
     "output_type": "stream",
     "text": [
      "MoviePy - Done.\n",
      "\n",
      "File: datasets/train/Normal/KCk7JLKqICc_000068_000078.mp4\n",
      "Ground Truth: Normal\n",
      "Top predictions:\n",
      "        Studying: 30.53%\n",
      "         Working: 15.89%\n",
      "      Exercising: 12.74%\n",
      "   Doing laundry: 8.48%\n",
      "No people is in the room: 7.48%\n",
      "\n"
     ]
    },
    {
     "name": "stderr",
     "output_type": "stream",
     "text": [
      " 81%|████████  | 341/422 [01:09<00:27,  2.98it/s]"
     ]
    },
    {
     "name": "stdout",
     "output_type": "stream",
     "text": [
      "datasets/audios/train/Normal\n",
      "MoviePy - Writing audio in datasets/audios/train/Normal/kCyv6z2yar4_000002_000012.wav\n"
     ]
    },
    {
     "name": "stderr",
     "output_type": "stream",
     "text": [
      " 81%|████████  | 342/422 [01:09<00:26,  3.06it/s]"
     ]
    },
    {
     "name": "stdout",
     "output_type": "stream",
     "text": [
      "MoviePy - Done.\n",
      "\n",
      "File: datasets/train/Normal/kCyv6z2yar4_000002_000012.mp4\n",
      "Ground Truth: Normal\n",
      "Top predictions:\n",
      "Organizing space: 23.04%\n",
      "         Dancing: 13.04%\n",
      "   Playing music: 11.88%\n",
      "Playing with pets: 8.56%\n",
      "         Working: 7.07%\n",
      "\n"
     ]
    },
    {
     "name": "stderr",
     "output_type": "stream",
     "text": [
      " 81%|████████  | 342/422 [01:10<00:26,  3.06it/s]"
     ]
    },
    {
     "name": "stdout",
     "output_type": "stream",
     "text": [
      "datasets/audios/train/Normal\n",
      "MoviePy - Writing audio in datasets/audios/train/Normal/kW5BmCKH248_000447_000457.wav\n"
     ]
    },
    {
     "name": "stderr",
     "output_type": "stream",
     "text": [
      " 81%|████████▏ | 343/422 [01:10<00:26,  3.02it/s]"
     ]
    },
    {
     "name": "stdout",
     "output_type": "stream",
     "text": [
      "MoviePy - Done.\n",
      "\n",
      "File: datasets/train/Normal/kW5BmCKH248_000447_000457.mp4\n",
      "Ground Truth: Normal\n",
      "Top predictions:\n",
      "No people is in the room: 32.88%\n",
      "  Using computer: 26.45%\n",
      "      Using drug: 9.10%\n",
      "     Celebrating: 5.77%\n",
      "   Setting table: 3.57%\n",
      "\n"
     ]
    },
    {
     "name": "stderr",
     "output_type": "stream",
     "text": [
      " 81%|████████▏ | 343/422 [01:10<00:26,  3.02it/s]"
     ]
    },
    {
     "name": "stdout",
     "output_type": "stream",
     "text": [
      "datasets/audios/train/Normal\n",
      "MoviePy - Writing audio in datasets/audios/train/Normal/KY3dD8VcGnM_000022_000032.wav\n"
     ]
    },
    {
     "name": "stderr",
     "output_type": "stream",
     "text": [
      " 82%|████████▏ | 344/422 [01:10<00:25,  3.02it/s]"
     ]
    },
    {
     "name": "stdout",
     "output_type": "stream",
     "text": [
      "MoviePy - Done.\n",
      "\n",
      "File: datasets/train/Normal/KY3dD8VcGnM_000022_000032.mp4\n",
      "Ground Truth: Normal\n",
      "Top predictions:\n",
      "          Dining: 18.80%\n",
      "      Decorating: 14.41%\n",
      "  Using computer: 10.77%\n",
      "   Setting table: 9.01%\n",
      "         Potluck: 8.96%\n",
      "\n"
     ]
    },
    {
     "name": "stderr",
     "output_type": "stream",
     "text": [
      " 82%|████████▏ | 344/422 [01:10<00:25,  3.02it/s]"
     ]
    },
    {
     "name": "stdout",
     "output_type": "stream",
     "text": [
      "datasets/audios/train/Normal\n",
      "MoviePy - Writing audio in datasets/audios/train/Normal/L0gZURkoVtM_000056_000066.wav\n"
     ]
    },
    {
     "name": "stderr",
     "output_type": "stream",
     "text": [
      " 82%|████████▏ | 345/422 [01:10<00:25,  2.99it/s]"
     ]
    },
    {
     "name": "stdout",
     "output_type": "stream",
     "text": [
      "MoviePy - Done.\n",
      "\n",
      "File: datasets/train/Normal/L0gZURkoVtM_000056_000066.mp4\n",
      "Ground Truth: Normal\n",
      "Top predictions:\n",
      "      Using drug: 24.99%\n",
      "        Drinking: 16.00%\n",
      "     Eating food: 12.52%\n",
      "         Smoking: 9.84%\n",
      "      Exercising: 4.44%\n",
      "\n"
     ]
    },
    {
     "name": "stderr",
     "output_type": "stream",
     "text": [
      " 82%|████████▏ | 345/422 [01:11<00:25,  2.99it/s]"
     ]
    },
    {
     "name": "stdout",
     "output_type": "stream",
     "text": [
      "datasets/audios/train/Normal\n",
      "MoviePy - Writing audio in datasets/audios/train/Normal/lCZLHNyUiMo_000003_000013.wav\n"
     ]
    },
    {
     "name": "stderr",
     "output_type": "stream",
     "text": [
      " 82%|████████▏ | 346/422 [01:11<00:25,  2.98it/s]"
     ]
    },
    {
     "name": "stdout",
     "output_type": "stream",
     "text": [
      "MoviePy - Done.\n",
      "\n",
      "File: datasets/train/Normal/lCZLHNyUiMo_000003_000013.mp4\n",
      "Ground Truth: Normal\n",
      "Top predictions:\n",
      "No people is in the room: 45.95%\n",
      "     Suffocating: 6.78%\n",
      "Furniture Collapse: 5.87%\n",
      "    Falling down: 4.99%\n",
      "Domestic violence: 4.78%\n",
      "\n"
     ]
    },
    {
     "name": "stderr",
     "output_type": "stream",
     "text": [
      " 82%|████████▏ | 346/422 [01:11<00:25,  2.98it/s]"
     ]
    },
    {
     "name": "stdout",
     "output_type": "stream",
     "text": [
      "datasets/audios/train/Normal\n",
      "MoviePy - Writing audio in datasets/audios/train/Normal/Ll6b1B9YDgM_000032_000042.wav\n"
     ]
    },
    {
     "name": "stderr",
     "output_type": "stream",
     "text": [
      " 82%|████████▏ | 347/422 [01:11<00:25,  2.96it/s]"
     ]
    },
    {
     "name": "stdout",
     "output_type": "stream",
     "text": [
      "MoviePy - Done.\n",
      "\n",
      "File: datasets/train/Normal/Ll6b1B9YDgM_000032_000042.mp4\n",
      "Ground Truth: Normal\n",
      "Top predictions:\n",
      "          Dining: 55.69%\n",
      "        Drinking: 11.06%\n",
      "     Eating food: 9.87%\n",
      "        Studying: 7.13%\n",
      "   Setting table: 5.53%\n",
      "\n"
     ]
    },
    {
     "name": "stderr",
     "output_type": "stream",
     "text": [
      " 82%|████████▏ | 347/422 [01:11<00:25,  2.96it/s]"
     ]
    },
    {
     "name": "stdout",
     "output_type": "stream",
     "text": [
      "datasets/audios/train/Normal\n",
      "MoviePy - Writing audio in datasets/audios/train/Normal/N5n6j6vBGu0_000008_000018.wav\n"
     ]
    },
    {
     "name": "stderr",
     "output_type": "stream",
     "text": [
      " 82%|████████▏ | 348/422 [01:11<00:25,  2.91it/s]"
     ]
    },
    {
     "name": "stdout",
     "output_type": "stream",
     "text": [
      "MoviePy - Done.\n",
      "\n",
      "File: datasets/train/Normal/N5n6j6vBGu0_000008_000018.mp4\n",
      "Ground Truth: Normal\n",
      "Top predictions:\n",
      "         Reading: 28.27%\n",
      "No people is in the room: 19.71%\n",
      "        Speaking: 9.23%\n",
      "   Doing laundry: 8.07%\n",
      "         Talking: 6.53%\n",
      "\n"
     ]
    },
    {
     "name": "stderr",
     "output_type": "stream",
     "text": [
      " 82%|████████▏ | 348/422 [01:12<00:25,  2.91it/s]"
     ]
    },
    {
     "name": "stdout",
     "output_type": "stream",
     "text": [
      "datasets/audios/train/Normal\n",
      "MoviePy - Writing audio in datasets/audios/train/Normal/oeguonb5OA0_000004_000014.wav\n"
     ]
    },
    {
     "name": "stderr",
     "output_type": "stream",
     "text": [
      " 83%|████████▎ | 349/422 [01:12<00:24,  3.03it/s]"
     ]
    },
    {
     "name": "stdout",
     "output_type": "stream",
     "text": [
      "MoviePy - Done.\n",
      "\n",
      "File: datasets/train/Normal/oeguonb5OA0_000004_000014.mp4\n",
      "Ground Truth: Normal\n",
      "Top predictions:\n",
      "No people is in the room: 85.10%\n",
      "Playing with pets: 3.21%\n",
      "         Talking: 2.62%\n",
      "   Mopping floor: 1.69%\n",
      "Playing board games: 1.60%\n",
      "\n"
     ]
    },
    {
     "name": "stderr",
     "output_type": "stream",
     "text": [
      " 83%|████████▎ | 349/422 [01:12<00:24,  3.03it/s]"
     ]
    },
    {
     "name": "stdout",
     "output_type": "stream",
     "text": [
      "datasets/audios/train/Normal\n",
      "MoviePy - Writing audio in datasets/audios/train/Normal/oLPzKb6j80U_000009_000019.wav\n"
     ]
    },
    {
     "name": "stderr",
     "output_type": "stream",
     "text": [
      " 83%|████████▎ | 350/422 [01:12<00:23,  3.08it/s]"
     ]
    },
    {
     "name": "stdout",
     "output_type": "stream",
     "text": [
      "MoviePy - Done.\n",
      "\n",
      "File: datasets/train/Normal/oLPzKb6j80U_000009_000019.mp4\n",
      "Ground Truth: Normal\n",
      "Top predictions:\n",
      "No people is in the room: 17.57%\n",
      "      Meditating: 16.48%\n",
      "     Celebrating: 12.69%\n",
      "  Using computer: 7.32%\n",
      "      Decorating: 6.35%\n",
      "\n"
     ]
    },
    {
     "name": "stderr",
     "output_type": "stream",
     "text": [
      " 83%|████████▎ | 350/422 [01:12<00:23,  3.08it/s]"
     ]
    },
    {
     "name": "stdout",
     "output_type": "stream",
     "text": [
      "datasets/audios/train/Normal\n",
      "MoviePy - Writing audio in datasets/audios/train/Normal/OmBlRJEoY9s_000088_000098.wav\n"
     ]
    },
    {
     "name": "stderr",
     "output_type": "stream",
     "text": [
      " 83%|████████▎ | 351/422 [01:12<00:23,  3.03it/s]"
     ]
    },
    {
     "name": "stdout",
     "output_type": "stream",
     "text": [
      "MoviePy - Done.\n",
      "\n",
      "File: datasets/train/Normal/OmBlRJEoY9s_000088_000098.mp4\n",
      "Ground Truth: Normal\n",
      "Top predictions:\n",
      "        Drinking: 52.01%\n",
      "     Eating food: 14.83%\n",
      "          Dining: 7.48%\n",
      "No people is in the room: 4.87%\n",
      "Playing with pets: 2.83%\n",
      "\n"
     ]
    },
    {
     "name": "stderr",
     "output_type": "stream",
     "text": [
      " 83%|████████▎ | 351/422 [01:13<00:23,  3.03it/s]"
     ]
    },
    {
     "name": "stdout",
     "output_type": "stream",
     "text": [
      "datasets/audios/train/Normal\n",
      "MoviePy - Writing audio in datasets/audios/train/Normal/oUc6ZrEBL80_000519_000529.wav\n"
     ]
    },
    {
     "name": "stderr",
     "output_type": "stream",
     "text": [
      " 83%|████████▎ | 352/422 [01:13<00:23,  3.03it/s]"
     ]
    },
    {
     "name": "stdout",
     "output_type": "stream",
     "text": [
      "MoviePy - Done.\n",
      "\n",
      "File: datasets/train/Normal/oUc6ZrEBL80_000519_000529.mp4\n",
      "Ground Truth: Normal\n",
      "Top predictions:\n",
      "        Cleaning: 31.02%\n",
      "      Meditating: 14.60%\n",
      "       Vacumning: 10.83%\n",
      "No people is in the room: 5.07%\n",
      "         Working: 4.61%\n",
      "\n"
     ]
    },
    {
     "name": "stderr",
     "output_type": "stream",
     "text": [
      " 83%|████████▎ | 352/422 [01:13<00:23,  3.03it/s]"
     ]
    },
    {
     "name": "stdout",
     "output_type": "stream",
     "text": [
      "datasets/audios/train/Normal\n",
      "MoviePy - Writing audio in datasets/audios/train/Normal/P6AChrs1Txo_000187_000197.wav\n"
     ]
    },
    {
     "name": "stderr",
     "output_type": "stream",
     "text": [
      " 84%|████████▎ | 353/422 [01:13<00:22,  3.01it/s]"
     ]
    },
    {
     "name": "stdout",
     "output_type": "stream",
     "text": [
      "MoviePy - Done.\n",
      "\n",
      "File: datasets/train/Normal/P6AChrs1Txo_000187_000197.mp4\n",
      "Ground Truth: Normal\n",
      "Top predictions:\n",
      "No people is in the room: 52.70%\n",
      "Playing board games: 11.60%\n",
      "Playing with pets: 8.41%\n",
      "         Reading: 4.98%\n",
      "         Talking: 3.84%\n",
      "\n"
     ]
    },
    {
     "name": "stderr",
     "output_type": "stream",
     "text": [
      " 84%|████████▎ | 353/422 [01:13<00:22,  3.01it/s]"
     ]
    },
    {
     "name": "stdout",
     "output_type": "stream",
     "text": [
      "datasets/audios/train/Normal\n",
      "MoviePy - Writing audio in datasets/audios/train/Normal/P8amgAResD4_000279_000289.wav\n"
     ]
    },
    {
     "name": "stderr",
     "output_type": "stream",
     "text": [
      " 84%|████████▎ | 353/422 [01:13<00:22,  3.01it/s]"
     ]
    },
    {
     "name": "stdout",
     "output_type": "stream",
     "text": [
      "MoviePy - Done.\n"
     ]
    },
    {
     "name": "stderr",
     "output_type": "stream",
     "text": [
      " 84%|████████▍ | 354/422 [01:13<00:23,  2.87it/s]"
     ]
    },
    {
     "name": "stdout",
     "output_type": "stream",
     "text": [
      "\n",
      "File: datasets/train/Normal/P8amgAResD4_000279_000289.mp4\n",
      "Ground Truth: Normal\n",
      "Top predictions:\n",
      "No people is in the room: 28.74%\n",
      "    Sitting down: 16.68%\n",
      "         Talking: 14.18%\n",
      "      Meditating: 5.76%\n",
      "         Dancing: 4.83%\n",
      "\n"
     ]
    },
    {
     "name": "stderr",
     "output_type": "stream",
     "text": [
      " 84%|████████▍ | 354/422 [01:14<00:23,  2.87it/s]"
     ]
    },
    {
     "name": "stdout",
     "output_type": "stream",
     "text": [
      "datasets/audios/train/Normal\n",
      "MoviePy - Writing audio in datasets/audios/train/Normal/pz28ycbJiQc_000002_000012.wav\n"
     ]
    },
    {
     "name": "stderr",
     "output_type": "stream",
     "text": [
      " 84%|████████▍ | 355/422 [01:14<00:22,  2.94it/s]"
     ]
    },
    {
     "name": "stdout",
     "output_type": "stream",
     "text": [
      "MoviePy - Done.\n",
      "\n",
      "File: datasets/train/Normal/pz28ycbJiQc_000002_000012.mp4\n",
      "Ground Truth: Normal\n",
      "Top predictions:\n",
      "No people is in the room: 61.89%\n",
      "         Reading: 8.32%\n",
      "      Meditating: 6.58%\n",
      "  Using computer: 3.25%\n",
      "     Celebrating: 3.09%\n",
      "\n"
     ]
    },
    {
     "name": "stderr",
     "output_type": "stream",
     "text": [
      " 84%|████████▍ | 355/422 [01:14<00:22,  2.94it/s]"
     ]
    },
    {
     "name": "stdout",
     "output_type": "stream",
     "text": [
      "datasets/audios/train/Normal\n",
      "MoviePy - Writing audio in datasets/audios/train/Normal/PzhivDBg9F0_000016_000026.wav\n"
     ]
    },
    {
     "name": "stderr",
     "output_type": "stream",
     "text": [
      " 84%|████████▍ | 356/422 [01:14<00:21,  3.01it/s]"
     ]
    },
    {
     "name": "stdout",
     "output_type": "stream",
     "text": [
      "MoviePy - Done.\n",
      "\n",
      "File: datasets/train/Normal/PzhivDBg9F0_000016_000026.mp4\n",
      "Ground Truth: Normal\n",
      "Top predictions:\n",
      "  Using computer: 19.70%\n",
      "         Reading: 11.52%\n",
      "Organizing space: 10.59%\n",
      "      Using drug: 8.96%\n",
      "        Studying: 8.68%\n",
      "\n"
     ]
    },
    {
     "name": "stderr",
     "output_type": "stream",
     "text": [
      " 84%|████████▍ | 356/422 [01:14<00:21,  3.01it/s]"
     ]
    },
    {
     "name": "stdout",
     "output_type": "stream",
     "text": [
      "datasets/audios/train/Normal\n",
      "MoviePy - Writing audio in datasets/audios/train/Normal/QAKwGG98wvc_000020_000030.wav\n"
     ]
    },
    {
     "name": "stderr",
     "output_type": "stream",
     "text": [
      " 85%|████████▍ | 357/422 [01:14<00:21,  3.08it/s]"
     ]
    },
    {
     "name": "stdout",
     "output_type": "stream",
     "text": [
      "MoviePy - Done.\n",
      "\n",
      "File: datasets/train/Normal/QAKwGG98wvc_000020_000030.mp4\n",
      "Ground Truth: Normal\n",
      "Top predictions:\n",
      "   Setting table: 21.31%\n",
      "  Using computer: 16.95%\n",
      "      Using drug: 12.66%\n",
      "        Chatting: 6.46%\n",
      "        Speaking: 6.17%\n",
      "\n"
     ]
    },
    {
     "name": "stderr",
     "output_type": "stream",
     "text": [
      " 85%|████████▍ | 357/422 [01:15<00:21,  3.08it/s]"
     ]
    },
    {
     "name": "stdout",
     "output_type": "stream",
     "text": [
      "datasets/audios/train/Normal\n",
      "MoviePy - Writing audio in datasets/audios/train/Normal/rLQ5fmVSL94_000026_000036.wav\n"
     ]
    },
    {
     "name": "stderr",
     "output_type": "stream",
     "text": [
      " 85%|████████▍ | 358/422 [01:15<00:20,  3.05it/s]"
     ]
    },
    {
     "name": "stdout",
     "output_type": "stream",
     "text": [
      "MoviePy - Done.\n",
      "\n",
      "File: datasets/train/Normal/rLQ5fmVSL94_000026_000036.mp4\n",
      "Ground Truth: Normal\n",
      "Top predictions:\n",
      "No people is in the room: 15.45%\n",
      "      Decorating: 11.13%\n",
      "    Sitting down: 10.84%\n",
      "      Using drug: 8.22%\n",
      "  Using computer: 5.41%\n",
      "\n"
     ]
    },
    {
     "name": "stderr",
     "output_type": "stream",
     "text": [
      " 85%|████████▍ | 358/422 [01:15<00:20,  3.05it/s]"
     ]
    },
    {
     "name": "stdout",
     "output_type": "stream",
     "text": [
      "datasets/audios/train/Normal\n",
      "MoviePy - Writing audio in datasets/audios/train/Normal/X46EhfXTqxg_000727_000737.wav\n"
     ]
    },
    {
     "name": "stderr",
     "output_type": "stream",
     "text": [
      " 85%|████████▌ | 359/422 [01:15<00:20,  3.06it/s]"
     ]
    },
    {
     "name": "stdout",
     "output_type": "stream",
     "text": [
      "MoviePy - Done.\n",
      "\n",
      "File: datasets/train/Normal/X46EhfXTqxg_000727_000737.mp4\n",
      "Ground Truth: Normal\n",
      "Top predictions:\n",
      "        Studying: 15.13%\n",
      "No people is in the room: 12.92%\n",
      "  Using computer: 11.42%\n",
      "         Working: 11.11%\n",
      "      Decorating: 11.02%\n",
      "\n"
     ]
    },
    {
     "name": "stderr",
     "output_type": "stream",
     "text": [
      " 85%|████████▌ | 359/422 [01:15<00:20,  3.06it/s]"
     ]
    },
    {
     "name": "stdout",
     "output_type": "stream",
     "text": [
      "datasets/audios/train/Normal\n",
      "MoviePy - Writing audio in datasets/audios/train/Normal/_0xvqLRQvOA_000074_000084.wav\n"
     ]
    },
    {
     "name": "stderr",
     "output_type": "stream",
     "text": [
      " 85%|████████▌ | 360/422 [01:15<00:20,  3.06it/s]"
     ]
    },
    {
     "name": "stdout",
     "output_type": "stream",
     "text": [
      "MoviePy - Done.\n",
      "\n",
      "File: datasets/train/Normal/_0xvqLRQvOA_000074_000084.mp4\n",
      "Ground Truth: Normal\n",
      "Top predictions:\n",
      "    Sitting down: 58.45%\n",
      "No people is in the room: 19.40%\n",
      "   Doing laundry: 6.58%\n",
      "   Mopping floor: 4.34%\n",
      "   Setting table: 1.74%\n",
      "\n"
     ]
    },
    {
     "name": "stderr",
     "output_type": "stream",
     "text": [
      " 85%|████████▌ | 360/422 [01:16<00:20,  3.06it/s]"
     ]
    },
    {
     "name": "stdout",
     "output_type": "stream",
     "text": [
      "datasets/audios/train/Normal\n",
      "MoviePy - Writing audio in datasets/audios/train/Normal/_3vZKUxeQtg_000298_000308.wav\n"
     ]
    },
    {
     "name": "stderr",
     "output_type": "stream",
     "text": [
      " 86%|████████▌ | 361/422 [01:16<00:19,  3.05it/s]"
     ]
    },
    {
     "name": "stdout",
     "output_type": "stream",
     "text": [
      "MoviePy - Done.\n",
      "\n",
      "File: datasets/train/Normal/_3vZKUxeQtg_000298_000308.mp4\n",
      "Ground Truth: Normal\n",
      "Top predictions:\n",
      "     Eating food: 91.27%\n",
      "        Drinking: 8.01%\n",
      "Playing with pets: 0.37%\n",
      "         Choking: 0.11%\n",
      "         Smoking: 0.06%\n",
      "\n"
     ]
    },
    {
     "name": "stderr",
     "output_type": "stream",
     "text": [
      " 86%|████████▌ | 361/422 [01:16<00:19,  3.05it/s]"
     ]
    },
    {
     "name": "stdout",
     "output_type": "stream",
     "text": [
      "datasets/audios/train/Normal\n",
      "MoviePy - Writing audio in datasets/audios/train/Normal/_4EOMgSAs2o_000094_000104.wav\n"
     ]
    },
    {
     "name": "stderr",
     "output_type": "stream",
     "text": [
      " 86%|████████▌ | 362/422 [01:16<00:19,  3.02it/s]"
     ]
    },
    {
     "name": "stdout",
     "output_type": "stream",
     "text": [
      "MoviePy - Done.\n",
      "\n",
      "File: datasets/train/Normal/_4EOMgSAs2o_000094_000104.mp4\n",
      "Ground Truth: Normal\n",
      "Top predictions:\n",
      "         Reading: 27.93%\n",
      "         Talking: 20.83%\n",
      "        Speaking: 12.98%\n",
      "No people is in the room: 11.67%\n",
      "      Meditating: 5.48%\n",
      "\n"
     ]
    },
    {
     "name": "stderr",
     "output_type": "stream",
     "text": [
      " 86%|████████▌ | 362/422 [01:16<00:19,  3.02it/s]"
     ]
    },
    {
     "name": "stdout",
     "output_type": "stream",
     "text": [
      "datasets/audios/train/Normal\n",
      "MoviePy - Writing audio in datasets/audios/train/Normal/_5ItAUGPgqI_000742_000752.wav\n"
     ]
    },
    {
     "name": "stderr",
     "output_type": "stream",
     "text": [
      " 86%|████████▌ | 363/422 [01:16<00:19,  3.04it/s]"
     ]
    },
    {
     "name": "stdout",
     "output_type": "stream",
     "text": [
      "MoviePy - Done.\n",
      "\n",
      "File: datasets/train/Normal/_5ItAUGPgqI_000742_000752.mp4\n",
      "Ground Truth: Normal\n",
      "Top predictions:\n",
      "         Cooking: 51.64%\n",
      "Unattended cooking: 45.29%\n",
      "   Setting table: 1.36%\n",
      "No people is in the room: 0.70%\n",
      "   Doing laundry: 0.43%\n",
      "\n"
     ]
    },
    {
     "name": "stderr",
     "output_type": "stream",
     "text": [
      " 86%|████████▌ | 363/422 [01:17<00:19,  3.04it/s]"
     ]
    },
    {
     "name": "stdout",
     "output_type": "stream",
     "text": [
      "datasets/audios/train/Normal\n",
      "MoviePy - Writing audio in datasets/audios/train/Normal/_82X-ic2kME_000001_000011.wav\n"
     ]
    },
    {
     "name": "stderr",
     "output_type": "stream",
     "text": [
      " 86%|████████▋ | 364/422 [01:17<00:18,  3.15it/s]"
     ]
    },
    {
     "name": "stdout",
     "output_type": "stream",
     "text": [
      "MoviePy - Done.\n",
      "\n",
      "File: datasets/train/Normal/_82X-ic2kME_000001_000011.mp4\n",
      "Ground Truth: Normal\n",
      "Top predictions:\n",
      "  Brushing teeth: 43.18%\n",
      "No people is in the room: 16.04%\n",
      "         Singing: 3.82%\n",
      "        Speaking: 3.57%\n",
      "         Talking: 3.26%\n",
      "\n"
     ]
    },
    {
     "name": "stderr",
     "output_type": "stream",
     "text": [
      " 86%|████████▋ | 364/422 [01:17<00:18,  3.15it/s]"
     ]
    },
    {
     "name": "stdout",
     "output_type": "stream",
     "text": [
      "datasets/audios/train/Normal\n",
      "MoviePy - Writing audio in datasets/audios/train/Normal/_8w7SkEkehQ_000037_000047.wav\n"
     ]
    },
    {
     "name": "stderr",
     "output_type": "stream",
     "text": [
      " 86%|████████▋ | 365/422 [01:17<00:18,  3.12it/s]"
     ]
    },
    {
     "name": "stdout",
     "output_type": "stream",
     "text": [
      "MoviePy - Done.\n",
      "\n",
      "File: datasets/train/Normal/_8w7SkEkehQ_000037_000047.mp4\n",
      "Ground Truth: Normal\n",
      "Top predictions:\n",
      "   Setting table: 34.47%\n",
      "       Showering: 16.99%\n",
      "         Cooking: 16.66%\n",
      "Unattended cooking: 11.72%\n",
      "No people is in the room: 8.76%\n",
      "\n"
     ]
    },
    {
     "name": "stderr",
     "output_type": "stream",
     "text": [
      " 86%|████████▋ | 365/422 [01:17<00:18,  3.12it/s]"
     ]
    },
    {
     "name": "stdout",
     "output_type": "stream",
     "text": [
      "datasets/audios/train/Normal\n",
      "MoviePy - Writing audio in datasets/audios/train/Normal/_99gyAUUgy4_000051_000061.wav\n"
     ]
    },
    {
     "name": "stderr",
     "output_type": "stream",
     "text": [
      " 87%|████████▋ | 366/422 [01:17<00:18,  3.10it/s]"
     ]
    },
    {
     "name": "stdout",
     "output_type": "stream",
     "text": [
      "MoviePy - Done.\n",
      "\n",
      "File: datasets/train/Normal/_99gyAUUgy4_000051_000061.mp4\n",
      "Ground Truth: Normal\n",
      "Top predictions:\n",
      "No people is in the room: 32.47%\n",
      "  Using computer: 18.92%\n",
      "      Using drug: 8.62%\n",
      "    Sitting down: 5.94%\n",
      "   Setting table: 3.66%\n",
      "\n"
     ]
    },
    {
     "name": "stderr",
     "output_type": "stream",
     "text": [
      " 87%|████████▋ | 366/422 [01:18<00:18,  3.10it/s]"
     ]
    },
    {
     "name": "stdout",
     "output_type": "stream",
     "text": [
      "datasets/audios/train/Normal\n",
      "MoviePy - Writing audio in datasets/audios/train/Normal/_A0_T6M6ULQ_000004_000014.wav\n"
     ]
    },
    {
     "name": "stderr",
     "output_type": "stream",
     "text": [
      " 87%|████████▋ | 367/422 [01:18<00:18,  3.01it/s]"
     ]
    },
    {
     "name": "stdout",
     "output_type": "stream",
     "text": [
      "MoviePy - Done.\n",
      "\n",
      "File: datasets/train/Normal/_A0_T6M6ULQ_000004_000014.mp4\n",
      "Ground Truth: Normal\n",
      "Top predictions:\n",
      "No people is in the room: 34.66%\n",
      "   Doing laundry: 19.98%\n",
      "         Reading: 10.78%\n",
      "         Working: 10.00%\n",
      "         Talking: 5.05%\n",
      "\n"
     ]
    },
    {
     "name": "stderr",
     "output_type": "stream",
     "text": [
      " 87%|████████▋ | 367/422 [01:18<00:18,  3.01it/s]"
     ]
    },
    {
     "name": "stdout",
     "output_type": "stream",
     "text": [
      "datasets/audios/train/Normal\n",
      "MoviePy - Writing audio in datasets/audios/train/Normal/_cMswRMB3WU_000124_000134.wav\n"
     ]
    },
    {
     "name": "stderr",
     "output_type": "stream",
     "text": [
      " 87%|████████▋ | 368/422 [01:18<00:17,  3.06it/s]"
     ]
    },
    {
     "name": "stdout",
     "output_type": "stream",
     "text": [
      "MoviePy - Done.\n",
      "\n",
      "File: datasets/train/Normal/_cMswRMB3WU_000124_000134.mp4\n",
      "Ground Truth: Normal\n",
      "Top predictions:\n",
      "   Setting table: 28.31%\n",
      "     Celebrating: 15.51%\n",
      "      Decorating: 7.29%\n",
      "Playing with pets: 6.60%\n",
      "  Using computer: 4.88%\n",
      "\n"
     ]
    },
    {
     "name": "stderr",
     "output_type": "stream",
     "text": [
      " 87%|████████▋ | 368/422 [01:18<00:17,  3.06it/s]"
     ]
    },
    {
     "name": "stdout",
     "output_type": "stream",
     "text": [
      "datasets/audios/train/Normal\n",
      "MoviePy - Writing audio in datasets/audios/train/Normal/_cOAB4Neu5Q_000237_000247.wav\n"
     ]
    },
    {
     "name": "stderr",
     "output_type": "stream",
     "text": [
      " 87%|████████▋ | 369/422 [01:18<00:17,  3.10it/s]"
     ]
    },
    {
     "name": "stdout",
     "output_type": "stream",
     "text": [
      "MoviePy - Done.\n",
      "\n",
      "File: datasets/train/Normal/_cOAB4Neu5Q_000237_000247.mp4\n",
      "Ground Truth: Normal\n",
      "Top predictions:\n",
      "         Reading: 28.23%\n",
      "No people is in the room: 22.07%\n",
      "Playing board games: 15.58%\n",
      "         Talking: 6.97%\n",
      "        Studying: 6.18%\n",
      "\n"
     ]
    },
    {
     "name": "stderr",
     "output_type": "stream",
     "text": [
      " 87%|████████▋ | 369/422 [01:19<00:17,  3.10it/s]"
     ]
    },
    {
     "name": "stdout",
     "output_type": "stream",
     "text": [
      "datasets/audios/train/Normal\n",
      "MoviePy - Writing audio in datasets/audios/train/Normal/_fDxRDV_D28_000077_000087.wav\n"
     ]
    },
    {
     "name": "stderr",
     "output_type": "stream",
     "text": [
      " 88%|████████▊ | 370/422 [01:19<00:17,  3.01it/s]"
     ]
    },
    {
     "name": "stdout",
     "output_type": "stream",
     "text": [
      "MoviePy - Done.\n",
      "\n",
      "File: datasets/train/Normal/_fDxRDV_D28_000077_000087.mp4\n",
      "Ground Truth: Normal\n",
      "Top predictions:\n",
      "   Setting table: 71.73%\n",
      "No people is in the room: 9.34%\n",
      "         Dancing: 3.92%\n",
      "          Dining: 3.14%\n",
      "    Sitting down: 2.74%\n",
      "\n"
     ]
    },
    {
     "name": "stderr",
     "output_type": "stream",
     "text": [
      " 88%|████████▊ | 370/422 [01:19<00:17,  3.01it/s]"
     ]
    },
    {
     "name": "stdout",
     "output_type": "stream",
     "text": [
      "datasets/audios/train/Normal\n",
      "MoviePy - Writing audio in datasets/audios/train/Normal/_hnn0Q5Ee0g_000037_000047.wav\n"
     ]
    },
    {
     "name": "stderr",
     "output_type": "stream",
     "text": [
      " 88%|████████▊ | 371/422 [01:19<00:16,  3.04it/s]"
     ]
    },
    {
     "name": "stdout",
     "output_type": "stream",
     "text": [
      "MoviePy - Done.\n",
      "\n",
      "File: datasets/train/Normal/_hnn0Q5Ee0g_000037_000047.mp4\n",
      "Ground Truth: Normal\n",
      "Top predictions:\n",
      "        Knitting: 18.96%\n",
      "  Brushing teeth: 14.39%\n",
      "        Cleaning: 14.20%\n",
      "        Painting: 13.39%\n",
      "Playing with pets: 9.70%\n",
      "\n"
     ]
    },
    {
     "name": "stderr",
     "output_type": "stream",
     "text": [
      " 88%|████████▊ | 371/422 [01:19<00:16,  3.04it/s]"
     ]
    },
    {
     "name": "stdout",
     "output_type": "stream",
     "text": [
      "datasets/audios/train/Normal\n",
      "MoviePy - Writing audio in datasets/audios/train/Normal/_jSACF07scs_000041_000051.wav\n"
     ]
    },
    {
     "name": "stderr",
     "output_type": "stream",
     "text": [
      " 88%|████████▊ | 372/422 [01:19<00:16,  3.12it/s]"
     ]
    },
    {
     "name": "stdout",
     "output_type": "stream",
     "text": [
      "MoviePy - Done.\n",
      "\n",
      "File: datasets/train/Normal/_jSACF07scs_000041_000051.mp4\n",
      "Ground Truth: Normal\n",
      "Top predictions:\n",
      "No people is in the room: 73.47%\n",
      "    Sitting down: 10.42%\n",
      "   Mopping floor: 5.59%\n",
      "   Setting table: 3.15%\n",
      "         Talking: 2.16%\n",
      "\n"
     ]
    },
    {
     "name": "stderr",
     "output_type": "stream",
     "text": [
      " 88%|████████▊ | 372/422 [01:19<00:16,  3.12it/s]"
     ]
    },
    {
     "name": "stdout",
     "output_type": "stream",
     "text": [
      "datasets/audios/train/Normal\n",
      "MoviePy - Writing audio in datasets/audios/train/Normal/_JuSKnGWkp0_000230_000240.wav\n"
     ]
    },
    {
     "name": "stderr",
     "output_type": "stream",
     "text": [
      " 88%|████████▊ | 373/422 [01:20<00:16,  3.03it/s]"
     ]
    },
    {
     "name": "stdout",
     "output_type": "stream",
     "text": [
      "MoviePy - Done.\n",
      "\n",
      "File: datasets/train/Normal/_JuSKnGWkp0_000230_000240.mp4\n",
      "Ground Truth: Normal\n",
      "Top predictions:\n",
      "  Using computer: 35.40%\n",
      "   Setting table: 23.85%\n",
      "No people is in the room: 10.22%\n",
      "     Celebrating: 8.62%\n",
      "         Reading: 6.63%\n",
      "\n"
     ]
    },
    {
     "name": "stderr",
     "output_type": "stream",
     "text": [
      " 88%|████████▊ | 373/422 [01:20<00:16,  3.03it/s]"
     ]
    },
    {
     "name": "stdout",
     "output_type": "stream",
     "text": [
      "datasets/audios/train/Normal\n",
      "MoviePy - Writing audio in datasets/audios/train/Normal/_Kcgee5kKS0_000057_000067.wav\n"
     ]
    },
    {
     "name": "stderr",
     "output_type": "stream",
     "text": [
      " 89%|████████▊ | 374/422 [01:20<00:15,  3.03it/s]"
     ]
    },
    {
     "name": "stdout",
     "output_type": "stream",
     "text": [
      "MoviePy - Done.\n",
      "\n",
      "File: datasets/train/Normal/_Kcgee5kKS0_000057_000067.mp4\n",
      "Ground Truth: Normal\n",
      "Top predictions:\n",
      "No people is in the room: 40.01%\n",
      "   Doing laundry: 28.92%\n",
      "   Setting table: 12.26%\n",
      "   Mopping floor: 4.77%\n",
      "    Sitting down: 3.38%\n",
      "\n"
     ]
    },
    {
     "name": "stderr",
     "output_type": "stream",
     "text": [
      " 89%|████████▊ | 374/422 [01:20<00:15,  3.03it/s]"
     ]
    },
    {
     "name": "stdout",
     "output_type": "stream",
     "text": [
      "datasets/audios/train/Normal\n",
      "MoviePy - Writing audio in datasets/audios/train/Normal/_L2i7A8dMTg_000020_000030.wav\n"
     ]
    },
    {
     "name": "stderr",
     "output_type": "stream",
     "text": [
      " 89%|████████▉ | 375/422 [01:20<00:15,  3.03it/s]"
     ]
    },
    {
     "name": "stdout",
     "output_type": "stream",
     "text": [
      "MoviePy - Done.\n",
      "\n",
      "File: datasets/train/Normal/_L2i7A8dMTg_000020_000030.mp4\n",
      "Ground Truth: Normal\n",
      "Top predictions:\n",
      "No people is in the room: 82.46%\n",
      "Playing with pets: 10.95%\n",
      "   Setting table: 1.72%\n",
      "   Mopping floor: 1.50%\n",
      "Playing board games: 0.74%\n",
      "\n"
     ]
    },
    {
     "name": "stderr",
     "output_type": "stream",
     "text": [
      " 89%|████████▉ | 375/422 [01:20<00:15,  3.03it/s]"
     ]
    },
    {
     "name": "stdout",
     "output_type": "stream",
     "text": [
      "datasets/audios/train/Normal\n",
      "MoviePy - Writing audio in datasets/audios/train/Normal/_ONRAEcQsqw_000101_000111.wav\n"
     ]
    },
    {
     "name": "stderr",
     "output_type": "stream",
     "text": [
      " 89%|████████▉ | 376/422 [01:21<00:14,  3.09it/s]"
     ]
    },
    {
     "name": "stdout",
     "output_type": "stream",
     "text": [
      "MoviePy - Done.\n",
      "\n",
      "File: datasets/train/Normal/_ONRAEcQsqw_000101_000111.mp4\n",
      "Ground Truth: Normal\n",
      "Top predictions:\n",
      "No people is in the room: 50.42%\n",
      "     Celebrating: 6.08%\n",
      "      Exercising: 5.64%\n",
      "  Using computer: 3.57%\n",
      "         Working: 3.41%\n",
      "\n"
     ]
    },
    {
     "name": "stderr",
     "output_type": "stream",
     "text": [
      " 89%|████████▉ | 376/422 [01:21<00:14,  3.09it/s]"
     ]
    },
    {
     "name": "stdout",
     "output_type": "stream",
     "text": [
      "datasets/audios/train/Normal\n",
      "MoviePy - Writing audio in datasets/audios/train/Normal/_P7OzblP4KU_000002_000012.wav\n"
     ]
    },
    {
     "name": "stderr",
     "output_type": "stream",
     "text": [
      " 89%|████████▉ | 377/422 [01:21<00:14,  3.14it/s]"
     ]
    },
    {
     "name": "stdout",
     "output_type": "stream",
     "text": [
      "MoviePy - Done.\n",
      "\n",
      "File: datasets/train/Normal/_P7OzblP4KU_000002_000012.mp4\n",
      "Ground Truth: Normal\n",
      "Top predictions:\n",
      "       Showering: 80.04%\n",
      "No people is in the room: 9.44%\n",
      "   Doing laundry: 4.84%\n",
      "Playing with pets: 2.45%\n",
      "   Mopping floor: 1.21%\n",
      "\n"
     ]
    },
    {
     "name": "stderr",
     "output_type": "stream",
     "text": [
      " 89%|████████▉ | 377/422 [01:21<00:14,  3.14it/s]"
     ]
    },
    {
     "name": "stdout",
     "output_type": "stream",
     "text": [
      "datasets/audios/train/Normal\n",
      "MoviePy - Writing audio in datasets/audios/train/Normal/_Q5f75CvNfw_000103_000113.wav\n"
     ]
    },
    {
     "name": "stderr",
     "output_type": "stream",
     "text": [
      " 90%|████████▉ | 378/422 [01:21<00:14,  3.06it/s]"
     ]
    },
    {
     "name": "stdout",
     "output_type": "stream",
     "text": [
      "MoviePy - Done.\n",
      "\n",
      "File: datasets/train/Normal/_Q5f75CvNfw_000103_000113.mp4\n",
      "Ground Truth: Normal\n",
      "Top predictions:\n",
      "  Using computer: 16.74%\n",
      "        Painting: 12.56%\n",
      "      Decorating: 11.55%\n",
      "      Using drug: 8.95%\n",
      "        Studying: 4.81%\n",
      "\n"
     ]
    },
    {
     "name": "stderr",
     "output_type": "stream",
     "text": [
      " 90%|████████▉ | 378/422 [01:21<00:14,  3.06it/s]"
     ]
    },
    {
     "name": "stdout",
     "output_type": "stream",
     "text": [
      "datasets/audios/train/Normal\n",
      "MoviePy - Writing audio in datasets/audios/train/Normal/_SlPWSA-1bU_000144_000154.wav\n"
     ]
    },
    {
     "name": "stderr",
     "output_type": "stream",
     "text": [
      " 90%|████████▉ | 379/422 [01:22<00:14,  3.06it/s]"
     ]
    },
    {
     "name": "stdout",
     "output_type": "stream",
     "text": [
      "MoviePy - Done.\n",
      "\n",
      "File: datasets/train/Normal/_SlPWSA-1bU_000144_000154.mp4\n",
      "Ground Truth: Normal\n",
      "Top predictions:\n",
      "         Potluck: 38.45%\n",
      "     Celebrating: 26.33%\n",
      "No people is in the room: 14.08%\n",
      "      Meditating: 4.27%\n",
      "Playing board games: 3.10%\n",
      "\n"
     ]
    },
    {
     "name": "stderr",
     "output_type": "stream",
     "text": [
      " 90%|████████▉ | 379/422 [01:22<00:14,  3.06it/s]"
     ]
    },
    {
     "name": "stdout",
     "output_type": "stream",
     "text": [
      "datasets/audios/train/Normal\n",
      "MoviePy - Writing audio in datasets/audios/train/Normal/_SsAvyBagZw_000011_000021.wav\n"
     ]
    },
    {
     "name": "stderr",
     "output_type": "stream",
     "text": [
      " 90%|█████████ | 380/422 [01:22<00:13,  3.11it/s]"
     ]
    },
    {
     "name": "stdout",
     "output_type": "stream",
     "text": [
      "MoviePy - Done.\n",
      "\n",
      "File: datasets/train/Normal/_SsAvyBagZw_000011_000021.mp4\n",
      "Ground Truth: Normal\n",
      "Top predictions:\n",
      "No people is in the room: 37.16%\n",
      "              TV: 25.45%\n",
      "         Working: 24.31%\n",
      "  Using computer: 3.57%\n",
      "     Laying down: 1.62%\n",
      "\n"
     ]
    },
    {
     "name": "stderr",
     "output_type": "stream",
     "text": [
      " 90%|█████████ | 380/422 [01:22<00:13,  3.11it/s]"
     ]
    },
    {
     "name": "stdout",
     "output_type": "stream",
     "text": [
      "datasets/audios/train/Normal\n",
      "MoviePy - Writing audio in datasets/audios/train/Normal/_TqghEKOFAQ_000045_000055.wav\n"
     ]
    },
    {
     "name": "stderr",
     "output_type": "stream",
     "text": [
      " 90%|█████████ | 381/422 [01:22<00:12,  3.16it/s]"
     ]
    },
    {
     "name": "stdout",
     "output_type": "stream",
     "text": [
      "MoviePy - Done.\n",
      "\n",
      "File: datasets/train/Normal/_TqghEKOFAQ_000045_000055.mp4\n",
      "Ground Truth: Normal\n",
      "Top predictions:\n",
      "  Using computer: 62.65%\n",
      "      Using drug: 16.94%\n",
      "   Setting table: 3.30%\n",
      "No people is in the room: 2.57%\n",
      "         Reading: 1.96%\n",
      "\n"
     ]
    },
    {
     "name": "stderr",
     "output_type": "stream",
     "text": [
      " 90%|█████████ | 381/422 [01:22<00:12,  3.16it/s]"
     ]
    },
    {
     "name": "stdout",
     "output_type": "stream",
     "text": [
      "datasets/audios/train/Normal\n",
      "MoviePy - Writing audio in datasets/audios/train/Normal/_WijOegXa_Q_000391_000401.wav\n"
     ]
    },
    {
     "name": "stderr",
     "output_type": "stream",
     "text": [
      " 91%|█████████ | 382/422 [01:23<00:12,  3.14it/s]"
     ]
    },
    {
     "name": "stdout",
     "output_type": "stream",
     "text": [
      "MoviePy - Done.\n",
      "\n",
      "File: datasets/train/Normal/_WijOegXa_Q_000391_000401.mp4\n",
      "Ground Truth: Normal\n",
      "Top predictions:\n",
      "        Drinking: 79.32%\n",
      "     Eating food: 9.75%\n",
      "          Dining: 3.05%\n",
      "No people is in the room: 2.19%\n",
      "   Setting table: 1.43%\n",
      "\n",
      "This video datasets/train/Smoke or Fire or Open flame/posVideo1.868.mp4 has no audio!\n"
     ]
    },
    {
     "name": "stderr",
     "output_type": "stream",
     "text": [
      " 91%|█████████ | 384/422 [01:23<00:07,  4.88it/s]"
     ]
    },
    {
     "name": "stdout",
     "output_type": "stream",
     "text": [
      "This video datasets/train/Smoke or Fire or Open flame/posVideo10.869.mp4 has no audio!\n",
      "This video datasets/train/Smoke or Fire or Open flame/posVideo11.870.mp4 has no audio!\n"
     ]
    },
    {
     "name": "stderr",
     "output_type": "stream",
     "text": [
      " 91%|█████████▏| 386/422 [01:23<00:05,  6.51it/s]"
     ]
    },
    {
     "name": "stdout",
     "output_type": "stream",
     "text": [
      "This video datasets/train/Smoke or Fire or Open flame/posVideo2.871.mp4 has no audio!\n"
     ]
    },
    {
     "name": "stderr",
     "output_type": "stream",
     "text": [
      " 92%|█████████▏| 388/422 [01:23<00:04,  8.01it/s]"
     ]
    },
    {
     "name": "stdout",
     "output_type": "stream",
     "text": [
      "This video datasets/train/Smoke or Fire or Open flame/posVideo3.872.mp4 has no audio!\n",
      "This video datasets/train/Smoke or Fire or Open flame/posVideo4.873.mp4 has no audio!\n",
      "This video datasets/train/Smoke or Fire or Open flame/posVideo5.874.mp4 has no audio!\n"
     ]
    },
    {
     "name": "stderr",
     "output_type": "stream",
     "text": [
      " 92%|█████████▏| 390/422 [01:23<00:03,  9.33it/s]"
     ]
    },
    {
     "name": "stdout",
     "output_type": "stream",
     "text": [
      "This video datasets/train/Smoke or Fire or Open flame/posVideo6.875.mp4 has no audio!\n",
      "This video datasets/train/Smoke or Fire or Open flame/posVideo7.876.mp4 has no audio!\n"
     ]
    },
    {
     "name": "stderr",
     "output_type": "stream",
     "text": [
      " 93%|█████████▎| 392/422 [01:23<00:02, 10.42it/s]"
     ]
    },
    {
     "name": "stdout",
     "output_type": "stream",
     "text": [
      "This video datasets/train/Smoke or Fire or Open flame/posVideo8.877.mp4 has no audio!\n"
     ]
    },
    {
     "name": "stderr",
     "output_type": "stream",
     "text": [
      " 93%|█████████▎| 394/422 [01:23<00:02, 11.11it/s]"
     ]
    },
    {
     "name": "stdout",
     "output_type": "stream",
     "text": [
      "This video datasets/train/Smoke or Fire or Open flame/posVideo9.878.mp4 has no audio!\n",
      "This video datasets/train/Smoke or Fire or Open flame/Video102.mp4 has no audio!\n",
      "This video datasets/train/Smoke or Fire or Open flame/Video109.mp4 has no audio!\n"
     ]
    },
    {
     "name": "stderr",
     "output_type": "stream",
     "text": [
      " 94%|█████████▍| 396/422 [01:24<00:02, 11.61it/s]"
     ]
    },
    {
     "name": "stdout",
     "output_type": "stream",
     "text": [
      "This video datasets/train/Smoke or Fire or Open flame/Video11.mp4 has no audio!\n",
      "This video datasets/train/Smoke or Fire or Open flame/Video115.mp4 has no audio!\n"
     ]
    },
    {
     "name": "stderr",
     "output_type": "stream",
     "text": [
      " 94%|█████████▍| 398/422 [01:24<00:02, 11.98it/s]"
     ]
    },
    {
     "name": "stdout",
     "output_type": "stream",
     "text": [
      "This video datasets/train/Smoke or Fire or Open flame/Video134_1.mp4 has no audio!\n"
     ]
    },
    {
     "name": "stderr",
     "output_type": "stream",
     "text": [
      " 95%|█████████▍| 400/422 [01:24<00:01, 11.84it/s]"
     ]
    },
    {
     "name": "stdout",
     "output_type": "stream",
     "text": [
      "This video datasets/train/Smoke or Fire or Open flame/Video136.mp4 has no audio!\n",
      "This video datasets/train/Smoke or Fire or Open flame/Video14.mp4 has no audio!\n",
      "This video datasets/train/Smoke or Fire or Open flame/Video149.mp4 has no audio!\n"
     ]
    },
    {
     "name": "stderr",
     "output_type": "stream",
     "text": [
      " 95%|█████████▌| 402/422 [01:24<00:01, 12.15it/s]"
     ]
    },
    {
     "name": "stdout",
     "output_type": "stream",
     "text": [
      "This video datasets/train/Smoke or Fire or Open flame/Video150.mp4 has no audio!\n",
      "This video datasets/train/Smoke or Fire or Open flame/Video157.mp4 has no audio!\n"
     ]
    },
    {
     "name": "stderr",
     "output_type": "stream",
     "text": [
      " 96%|█████████▌| 404/422 [01:24<00:01, 12.35it/s]"
     ]
    },
    {
     "name": "stdout",
     "output_type": "stream",
     "text": [
      "This video datasets/train/Smoke or Fire or Open flame/Video170.mp4 has no audio!\n"
     ]
    },
    {
     "name": "stderr",
     "output_type": "stream",
     "text": [
      " 96%|█████████▌| 406/422 [01:24<00:01, 12.48it/s]"
     ]
    },
    {
     "name": "stdout",
     "output_type": "stream",
     "text": [
      "This video datasets/train/Smoke or Fire or Open flame/Video202.mp4 has no audio!\n",
      "This video datasets/train/Smoke or Fire or Open flame/Video209.mp4 has no audio!\n",
      "This video datasets/train/Smoke or Fire or Open flame/Video21.mp4 has no audio!\n"
     ]
    },
    {
     "name": "stderr",
     "output_type": "stream",
     "text": [
      " 97%|█████████▋| 408/422 [01:25<00:01, 12.74it/s]"
     ]
    },
    {
     "name": "stdout",
     "output_type": "stream",
     "text": [
      "This video datasets/train/Smoke or Fire or Open flame/Video234.mp4 has no audio!\n",
      "This video datasets/train/Smoke or Fire or Open flame/Video239.mp4 has no audio!\n"
     ]
    },
    {
     "name": "stderr",
     "output_type": "stream",
     "text": [
      " 97%|█████████▋| 410/422 [01:25<00:00, 12.80it/s]"
     ]
    },
    {
     "name": "stdout",
     "output_type": "stream",
     "text": [
      "This video datasets/train/Smoke or Fire or Open flame/Video257.mp4 has no audio!\n"
     ]
    },
    {
     "name": "stderr",
     "output_type": "stream",
     "text": [
      " 98%|█████████▊| 412/422 [01:25<00:00, 12.65it/s]"
     ]
    },
    {
     "name": "stdout",
     "output_type": "stream",
     "text": [
      "This video datasets/train/Smoke or Fire or Open flame/Video37.mp4 has no audio!\n",
      "This video datasets/train/Smoke or Fire or Open flame/Video51.mp4 has no audio!\n",
      "This video datasets/train/Smoke or Fire or Open flame/Video67.mp4 has no audio!\n"
     ]
    },
    {
     "name": "stderr",
     "output_type": "stream",
     "text": [
      " 98%|█████████▊| 414/422 [01:25<00:00, 11.21it/s]"
     ]
    },
    {
     "name": "stdout",
     "output_type": "stream",
     "text": [
      "This video datasets/train/Smoke or Fire or Open flame/Video73.mp4 has no audio!\n"
     ]
    },
    {
     "name": "stderr",
     "output_type": "stream",
     "text": [
      " 99%|█████████▊| 416/422 [01:25<00:00, 11.53it/s]"
     ]
    },
    {
     "name": "stdout",
     "output_type": "stream",
     "text": [
      "This video datasets/train/Smoke or Fire or Open flame/Video74.mp4 has no audio!\n",
      "This video datasets/train/Smoke or Fire or Open flame/Video75_1.mp4 has no audio!\n",
      "This video datasets/train/Smoke or Fire or Open flame/Video75_2.mp4 has no audio!\n"
     ]
    },
    {
     "name": "stderr",
     "output_type": "stream",
     "text": [
      " 99%|█████████▉| 418/422 [01:25<00:00, 11.76it/s]"
     ]
    },
    {
     "name": "stdout",
     "output_type": "stream",
     "text": [
      "This video datasets/train/Smoke or Fire or Open flame/Video78.mp4 has no audio!\n",
      "This video datasets/train/Smoke or Fire or Open flame/Video82.mp4 has no audio!\n"
     ]
    },
    {
     "name": "stderr",
     "output_type": "stream",
     "text": [
      "100%|█████████▉| 420/422 [01:26<00:00, 11.85it/s]"
     ]
    },
    {
     "name": "stdout",
     "output_type": "stream",
     "text": [
      "This video datasets/train/Smoke or Fire or Open flame/Video85.mp4 has no audio!\n"
     ]
    },
    {
     "name": "stderr",
     "output_type": "stream",
     "text": [
      "100%|██████████| 422/422 [01:26<00:00,  4.89it/s]"
     ]
    },
    {
     "name": "stdout",
     "output_type": "stream",
     "text": [
      "This video datasets/train/Smoke or Fire or Open flame/Video91.mp4 has no audio!\n",
      "This video datasets/train/Smoke or Fire or Open flame/Video99.mp4 has no audio!\n"
     ]
    },
    {
     "name": "stderr",
     "output_type": "stream",
     "text": [
      "\n"
     ]
    }
   ],
   "source": [
    "from tqdm import tqdm\n",
    "from collections import defaultdict\n",
    "import csv\n",
    "\n",
    "train_paths = list(dataset_root_path.glob(\"train/*/*\"))\n",
    "\n",
    "# Load model (Choose between versions '2022' or '2023')\n",
    "# The model weight will be downloaded automatically if `model_fp` is not specified\n",
    "clap_model = CLAP(version = '2023', use_cuda=True)\n",
    "\n",
    "correct = defaultdict(int)\n",
    "total = defaultdict(int)\n",
    "with open(output_csv_path, mode='w', newline='') as file:\n",
    "    writer = csv.writer(file)\n",
    "    writer.writerow([\"file path\", \"ground truth\", \"top1 pred\", \"confidence\", \"top2 pred\", \"confidence\", \"top3 pred\", \"confidence\", \"top4 pred\", \"confidence\", \"top5 pred\", \"confidence\"])\n",
    "\n",
    "    for path in tqdm(train_paths):\n",
    "        label = str(path).split('\\\\')[-2]\n",
    "        out_row = [path, label2id[label]]\n",
    "        total[label] += 1\n",
    "\n",
    "        # sanity format check\n",
    "        try: assert(str(path).endswith(\".mp4\") or str(path).endswith(\".wav\"))\n",
    "        except: print(f\"ERROR: {path} is not a supported file type\")\n",
    "\n",
    "        path = path.as_posix()\n",
    "        if str(path).endswith(\".mp4\"):\n",
    "            video = VideoFileClip(path)\n",
    "            if video.audio is None:\n",
    "                print(f\"This video {path} has no audio!\")\n",
    "                out_row.extend([-1, 0] * 5) # use -1 if no audio\n",
    "                writer.writerow(out_row)\n",
    "                continue\n",
    "            else:\n",
    "                audio_path = 'datasets/audios' + path[8:-3] + 'wav'\n",
    "                audio_dir = \"/\".join(audio_path.split(\"/\")[:-1])\n",
    "                print(audio_dir)\n",
    "                if not os.path.exists(audio_dir):\n",
    "                        os.makedirs(audio_dir)\n",
    "                audio_arr = video.audio.write_audiofile(audio_path, verbose=False)\n",
    "                # print(f\"Audio saved to {audio_path}\")\n",
    "        else:\n",
    "            audio_path = path\n",
    "        \n",
    "        # make CLAP predictions\n",
    "        with torch.no_grad():\n",
    "\n",
    "            # Extract text embeddings\n",
    "            text_embeddings = clap_model.get_text_embeddings([f\"This is a sound of {c}\"for c in class_labels])\n",
    "\n",
    "            # Extract audio embeddings\n",
    "            audio_embeddings = clap_model.get_audio_embeddings([audio_path])\n",
    "\n",
    "            # Compute similarity between audio and text embeddings \n",
    "            similarities = clap_model.compute_similarity(audio_embeddings, text_embeddings)\n",
    "\n",
    "        similarity = F.softmax(similarities, dim=1)\n",
    "        values, indices = similarity[0].topk(5)\n",
    "        pred_index = indices[0]\n",
    "\n",
    "        # Output the results\n",
    "        \n",
    "        print(\"\\nFile:\", path)\n",
    "        print(\"Ground Truth: {}\".format(audio_path.split('/')[-2]))\n",
    "        print(\"Top predictions:\")\n",
    "        for value, index in zip(values, indices):\n",
    "            print(f\"{class_labels[index]:>16s}: {100 * value.item():.2f}%\")\n",
    "            out_row.append(index.item())\n",
    "            out_row.append(round(value.item(), 6))\n",
    "        print(\"\")\n",
    "        writer.writerow(out_row)\n",
    "\n",
    "        if label == class_labels[pred_index]: \n",
    "            correct[label] += 1\n",
    "        \n"
   ]
  },
  {
   "cell_type": "code",
   "execution_count": 24,
   "metadata": {},
   "outputs": [
    {
     "name": "stdout",
     "output_type": "stream",
     "text": [
      "Crying: 36 / 50\n",
      "Falling down: 0 / 30\n",
      "Glass breaking: 10 / 52\n",
      "Gunshot: 0 / 50\n",
      "Normal: 0 / 200\n",
      "Smoke or Fire or Open flame: 0 / 40\n"
     ]
    }
   ],
   "source": [
    "for label in total:\n",
    "    print(f\"{label}: {correct[label]} / {total[label]}\")"
   ]
  }
 ],
 "metadata": {
  "kernelspec": {
   "display_name": "base",
   "language": "python",
   "name": "python3"
  },
  "language_info": {
   "codemirror_mode": {
    "name": "ipython",
    "version": 3
   },
   "file_extension": ".py",
   "mimetype": "text/x-python",
   "name": "python",
   "nbconvert_exporter": "python",
   "pygments_lexer": "ipython3",
   "version": "3.8.19"
  }
 },
 "nbformat": 4,
 "nbformat_minor": 2
}
