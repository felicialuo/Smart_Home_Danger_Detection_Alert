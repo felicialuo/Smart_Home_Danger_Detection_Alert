{
 "cells": [
  {
   "cell_type": "markdown",
   "metadata": {},
   "source": [
    "### Set the corresponding values in the cell below. Afterwards, just run the following cells"
   ]
  },
  {
   "cell_type": "code",
   "execution_count": 7,
   "metadata": {},
   "outputs": [],
   "source": [
    "import pathlib\n",
    "# Class label csv path\n",
    "labels_csv_path = 'datasets/kinetics_400_labels.csv'\n",
    "# Datset folder\n",
    "dataset_root_path = pathlib.Path('datasets')"
   ]
  },
  {
   "cell_type": "markdown",
   "metadata": {},
   "source": [
    "### Import libraries "
   ]
  },
  {
   "cell_type": "code",
   "execution_count": 8,
   "metadata": {},
   "outputs": [],
   "source": [
    "from msclap import CLAP\n",
    "import torch.nn.functional as F\n",
    "import numpy as np\n",
    "import torch\n",
    "import os\n",
    "from moviepy.editor import VideoFileClip"
   ]
  },
  {
   "cell_type": "markdown",
   "metadata": {},
   "source": [
    "### Get Audio from video"
   ]
  },
  {
   "cell_type": "code",
   "execution_count": 15,
   "metadata": {},
   "outputs": [
    {
     "name": "stdout",
     "output_type": "stream",
     "text": [
      "datasets/audios/Kinetics400/test/crying\n",
      "MoviePy - Writing audio in datasets/audios/Kinetics400/test/crying/_AUtYTaYMrE_000000_000010.wav\n"
     ]
    },
    {
     "name": "stderr",
     "output_type": "stream",
     "text": [
      "                                                        "
     ]
    },
    {
     "name": "stdout",
     "output_type": "stream",
     "text": [
      "MoviePy - Done.\n",
      "Audio saved to datasets/audios/Kinetics400/test/crying/_AUtYTaYMrE_000000_000010.wav\n"
     ]
    },
    {
     "name": "stderr",
     "output_type": "stream",
     "text": [
      "\r"
     ]
    }
   ],
   "source": [
    "video = VideoFileClip(video_path)\n",
    "if video.audio is None:\n",
    "    print(f\"This video {video_path} has no audio!\")\n",
    "else:\n",
    "    audio_path = 'datasets/audios' + video_path[8:-3] + 'wav'\n",
    "    audio_dir = \"/\".join(audio_path.split(\"/\")[:-1])\n",
    "    print(audio_dir)\n",
    "    if not os.path.exists(audio_dir):\n",
    "            os.makedirs(audio_dir)\n",
    "    audio_arr = video.audio.write_audiofile(audio_path, verbose=False)\n",
    "    print(f\"Audio saved to {audio_path}\")"
   ]
  },
  {
   "cell_type": "markdown",
   "metadata": {},
   "source": [
    "### Read class Labels"
   ]
  },
  {
   "cell_type": "code",
   "execution_count": 9,
   "metadata": {},
   "outputs": [
    {
     "name": "stdout",
     "output_type": "stream",
     "text": [
      "400 Unique classes: ['abseiling', 'air drumming', 'answering questions', 'applauding', 'applying cream', 'archery', 'arm wrestling', 'arranging flowers', 'assembling computer', 'auctioning', 'baby waking up', 'baking cookies', 'balloon blowing', 'bandaging', 'barbequing', 'bartending', 'beatboxing', 'bee keeping', 'belly dancing', 'bench pressing', 'bending back', 'bending metal', 'biking through snow', 'blasting sand', 'blowing glass', 'blowing leaves', 'blowing nose', 'blowing out candles', 'bobsledding', 'bookbinding', 'bouncing on trampoline', 'bowling', 'braiding hair', 'breading or breadcrumbing', 'breakdancing', 'brush painting', 'brushing hair', 'brushing teeth', 'building cabinet', 'building shed', 'bungee jumping', 'busking', 'canoeing or kayaking', 'capoeira', 'carrying baby', 'cartwheeling', 'carving pumpkin', 'catching fish', 'catching or throwing baseball', 'catching or throwing frisbee', 'catching or throwing softball', 'celebrating', 'changing oil', 'changing wheel', 'checking tires', 'cheerleading', 'chopping wood', 'clapping', 'clay pottery making', 'clean and jerk', 'cleaning floor', 'cleaning gutters', 'cleaning pool', 'cleaning shoes', 'cleaning toilet', 'cleaning windows', 'climbing a rope', 'climbing ladder', 'climbing tree', 'contact juggling', 'cooking chicken', 'cooking egg', 'cooking on campfire', 'cooking sausages', 'counting money', 'country line dancing', 'cracking neck', 'crawling baby', 'crossing river', 'crying', 'curling hair', 'cutting nails', 'cutting pineapple', 'cutting watermelon', 'dancing ballet', 'dancing charleston', 'dancing gangnam style', 'dancing macarena', 'deadlifting', 'decorating the christmas tree', 'digging', 'dining', 'disc golfing', 'diving cliff', 'dodgeball', 'doing aerobics', 'doing laundry', 'doing nails', 'drawing', 'dribbling basketball', 'drinking', 'drinking beer', 'drinking shots', 'driving car', 'driving tractor', 'drop kicking', 'drumming fingers', 'dunking basketball', 'dying hair', 'eating burger', 'eating cake', 'eating carrots', 'eating chips', 'eating doughnuts', 'eating hotdog', 'eating ice cream', 'eating spaghetti', 'eating watermelon', 'egg hunting', 'exercising arm', 'exercising with an exercise ball', 'extinguishing fire', 'faceplanting', 'feeding birds', 'feeding fish', 'feeding goats', 'filling eyebrows', 'finger snapping', 'fixing hair', 'flipping pancake', 'flying kite', 'folding clothes', 'folding napkins', 'folding paper', 'front raises', 'frying vegetables', 'garbage collecting', 'gargling', 'getting a haircut', 'getting a tattoo', 'giving or receiving award', 'golf chipping', 'golf driving', 'golf putting', 'grinding meat', 'grooming dog', 'grooming horse', 'gymnastics tumbling', 'hammer throw', 'headbanging', 'headbutting', 'high jump', 'high kick', 'hitting baseball', 'hockey stop', 'holding snake', 'hopscotch', 'hoverboarding', 'hugging', 'hula hooping', 'hurdling', 'hurling (sport)', 'ice climbing', 'ice fishing', 'ice skating', 'ironing', 'javelin throw', 'jetskiing', 'jogging', 'juggling balls', 'juggling fire', 'juggling soccer ball', 'jumping into pool', 'jumpstyle dancing', 'kicking field goal', 'kicking soccer ball', 'kissing', 'kitesurfing', 'knitting', 'krumping', 'laughing', 'laying bricks', 'long jump', 'lunge', 'making a cake', 'making a sandwich', 'making bed', 'making jewelry', 'making pizza', 'making snowman', 'making sushi', 'making tea', 'marching', 'massaging back', 'massaging feet', 'massaging legs', \"massaging person's head\", 'milking cow', 'mopping floor', 'motorcycling', 'moving furniture', 'mowing lawn', 'news anchoring', 'opening bottle', 'opening present', 'paragliding', 'parasailing', 'parkour', 'passing American football (in game)', 'passing American football (not in game)', 'peeling apples', 'peeling potatoes', 'petting animal (not cat)', 'petting cat', 'picking fruit', 'planting trees', 'plastering', 'playing accordion', 'playing badminton', 'playing bagpipes', 'playing basketball', 'playing bass guitar', 'playing cards', 'playing cello', 'playing chess', 'playing clarinet', 'playing controller', 'playing cricket', 'playing cymbals', 'playing didgeridoo', 'playing drums', 'playing flute', 'playing guitar', 'playing harmonica', 'playing harp', 'playing ice hockey', 'playing keyboard', 'playing kickball', 'playing monopoly', 'playing organ', 'playing paintball', 'playing piano', 'playing poker', 'playing recorder', 'playing saxophone', 'playing squash or racquetball', 'playing tennis', 'playing trombone', 'playing trumpet', 'playing ukulele', 'playing violin', 'playing volleyball', 'playing xylophone', 'pole vault', 'presenting weather forecast', 'pull ups', 'pumping fist', 'pumping gas', 'punching bag', 'punching person (boxing)', 'push up', 'pushing car', 'pushing cart', 'pushing wheelchair', 'reading book', 'reading newspaper', 'recording music', 'riding a bike', 'riding camel', 'riding elephant', 'riding mechanical bull', 'riding mountain bike', 'riding mule', 'riding or walking with horse', 'riding scooter', 'riding unicycle', 'ripping paper', 'robot dancing', 'rock climbing', 'rock scissors paper', 'roller skating', 'running on treadmill', 'sailing', 'salsa dancing', 'sanding floor', 'scrambling eggs', 'scuba diving', 'setting table', 'shaking hands', 'shaking head', 'sharpening knives', 'sharpening pencil', 'shaving head', 'shaving legs', 'shearing sheep', 'shining shoes', 'shooting basketball', 'shooting goal (soccer)', 'shot put', 'shoveling snow', 'shredding paper', 'shuffling cards', 'side kick', 'sign language interpreting', 'singing', 'situp', 'skateboarding', 'ski jumping', 'skiing (not slalom or crosscountry)', 'skiing crosscountry', 'skiing slalom', 'skipping rope', 'skydiving', 'slacklining', 'slapping', 'sled dog racing', 'smoking', 'smoking hookah', 'snatch weight lifting', 'sneezing', 'sniffing', 'snorkeling', 'snowboarding', 'snowkiting', 'snowmobiling', 'somersaulting', 'spinning poi', 'spray painting', 'spraying', 'springboard diving', 'squat', 'sticking tongue out', 'stomping grapes', 'stretching arm', 'stretching leg', 'strumming guitar', 'surfing crowd', 'surfing water', 'sweeping floor', 'swimming backstroke', 'swimming breast stroke', 'swimming butterfly stroke', 'swing dancing', 'swinging legs', 'swinging on something', 'sword fighting', 'tai chi', 'taking a shower', 'tango dancing', 'tap dancing', 'tapping guitar', 'tapping pen', 'tasting beer', 'tasting food', 'testifying', 'texting', 'throwing axe', 'throwing ball', 'throwing discus', 'tickling', 'tobogganing', 'tossing coin', 'tossing salad', 'training dog', 'trapezing', 'trimming or shaving beard', 'trimming trees', 'triple jump', 'tying bow tie', 'tying knot (not on a tie)', 'tying tie', 'unboxing', 'unloading truck', 'using computer', 'using remote controller (not gaming)', 'using segway', 'vault', 'waiting in line', 'walking the dog', 'washing dishes', 'washing feet', 'washing hair', 'washing hands', 'water skiing', 'water sliding', 'watering plants', 'waxing back', 'waxing chest', 'waxing eyebrows', 'waxing legs', 'weaving basket', 'welding', 'whistling', 'windsurfing', 'wrapping present', 'wrestling', 'writing', 'yawning', 'yoga', 'zumba'].\n"
     ]
    }
   ],
   "source": [
    "import csv\n",
    "\n",
    "label2id = {}\n",
    "id2label = {}\n",
    "with open(labels_csv_path, mode='r') as file:\n",
    "    csv_reader = csv.reader(file)\n",
    "    next(csv_reader)\n",
    "\n",
    "    for row in csv_reader:\n",
    "        class_id, class_name = row\n",
    "        label2id[class_name] = class_id\n",
    "        id2label[class_id] = class_name\n",
    "\n",
    "class_labels = list(label2id.keys())\n",
    "\n",
    "print(f\"{len(class_labels)} Unique classes: {class_labels}.\")"
   ]
  },
  {
   "cell_type": "markdown",
   "metadata": {},
   "source": [
    "### CLAP inference with given audio"
   ]
  },
  {
   "cell_type": "code",
   "execution_count": 18,
   "metadata": {},
   "outputs": [
    {
     "name": "stderr",
     "output_type": "stream",
     "text": [
      "  0%|          | 0/50 [00:00<?, ?it/s]"
     ]
    },
    {
     "name": "stdout",
     "output_type": "stream",
     "text": [
      "datasets/audios/train/crying\n",
      "MoviePy - Writing audio in datasets/audios/train/crying/9q8mf6GUiiE_000009_000019.wav\n"
     ]
    },
    {
     "name": "stderr",
     "output_type": "stream",
     "text": [
      "  0%|          | 0/50 [00:00<?, ?it/s]"
     ]
    },
    {
     "name": "stdout",
     "output_type": "stream",
     "text": [
      "MoviePy - Done.\n",
      "Audio saved to datasets/audios/train/crying/9q8mf6GUiiE_000009_000019.wav\n"
     ]
    },
    {
     "name": "stderr",
     "output_type": "stream",
     "text": [
      "  2%|▏         | 1/50 [00:04<03:43,  4.56s/it]"
     ]
    },
    {
     "name": "stdout",
     "output_type": "stream",
     "text": [
      "Ground Truth: crying\n",
      "Top predictions:\n",
      "\n",
      "    making sushi: 13.32%\n",
      "blowing out candles: 10.22%\n",
      "     fixing hair: 9.50%\n",
      "         hugging: 8.49%\n",
      "    washing feet: 7.91%\n",
      "datasets/audios/train/crying\n",
      "MoviePy - Writing audio in datasets/audios/train/crying/9s4bfiyc9Yc_000195_000205.wav\n"
     ]
    },
    {
     "name": "stderr",
     "output_type": "stream",
     "text": [
      "  2%|▏         | 1/50 [00:04<03:43,  4.56s/it]"
     ]
    },
    {
     "name": "stdout",
     "output_type": "stream",
     "text": [
      "MoviePy - Done.\n",
      "Audio saved to datasets/audios/train/crying/9s4bfiyc9Yc_000195_000205.wav\n"
     ]
    },
    {
     "name": "stderr",
     "output_type": "stream",
     "text": [
      "  4%|▍         | 2/50 [00:09<03:37,  4.52s/it]"
     ]
    },
    {
     "name": "stdout",
     "output_type": "stream",
     "text": [
      "Ground Truth: crying\n",
      "Top predictions:\n",
      "\n",
      "          crying: 50.74%\n",
      "   carrying baby: 11.85%\n",
      "   crawling baby: 7.73%\n",
      "   cutting nails: 6.13%\n",
      "getting a haircut: 5.81%\n",
      "datasets/audios/train/crying\n",
      "MoviePy - Writing audio in datasets/audios/train/crying/a4xHx59uFgk_000003_000013.wav\n"
     ]
    },
    {
     "name": "stderr",
     "output_type": "stream",
     "text": [
      "  4%|▍         | 2/50 [00:09<03:37,  4.52s/it]"
     ]
    },
    {
     "name": "stdout",
     "output_type": "stream",
     "text": [
      "MoviePy - Done.\n",
      "Audio saved to datasets/audios/train/crying/a4xHx59uFgk_000003_000013.wav\n"
     ]
    },
    {
     "name": "stderr",
     "output_type": "stream",
     "text": [
      "  6%|▌         | 3/50 [00:13<03:30,  4.48s/it]"
     ]
    },
    {
     "name": "stdout",
     "output_type": "stream",
     "text": [
      "Ground Truth: crying\n",
      "Top predictions:\n",
      "\n",
      "   crawling baby: 37.16%\n",
      "getting a haircut: 9.51%\n",
      "         hugging: 6.85%\n",
      "   carrying baby: 6.54%\n",
      "using remote controller (not gaming): 3.93%\n",
      "datasets/audios/train/crying\n",
      "MoviePy - Writing audio in datasets/audios/train/crying/a50yimv7Lqg_000026_000036.wav\n"
     ]
    },
    {
     "name": "stderr",
     "output_type": "stream",
     "text": [
      "  6%|▌         | 3/50 [00:13<03:30,  4.48s/it]"
     ]
    },
    {
     "name": "stdout",
     "output_type": "stream",
     "text": [
      "MoviePy - Done.\n",
      "Audio saved to datasets/audios/train/crying/a50yimv7Lqg_000026_000036.wav\n"
     ]
    },
    {
     "name": "stderr",
     "output_type": "stream",
     "text": [
      "  8%|▊         | 4/50 [00:18<03:25,  4.46s/it]"
     ]
    },
    {
     "name": "stdout",
     "output_type": "stream",
     "text": [
      "Ground Truth: crying\n",
      "Top predictions:\n",
      "\n",
      "sticking tongue out: 31.35%\n",
      "   crawling baby: 21.29%\n",
      "    shaking head: 11.67%\n",
      "  baby waking up: 7.49%\n",
      "petting animal (not cat): 6.38%\n",
      "datasets/audios/train/crying\n",
      "MoviePy - Writing audio in datasets/audios/train/crying/Afhkn2h-wLE_000000_000010.wav\n"
     ]
    },
    {
     "name": "stderr",
     "output_type": "stream",
     "text": [
      "  8%|▊         | 4/50 [00:18<03:25,  4.46s/it]"
     ]
    },
    {
     "name": "stdout",
     "output_type": "stream",
     "text": [
      "MoviePy - Done.\n",
      "Audio saved to datasets/audios/train/crying/Afhkn2h-wLE_000000_000010.wav\n"
     ]
    },
    {
     "name": "stderr",
     "output_type": "stream",
     "text": [
      " 10%|█         | 5/50 [00:22<03:21,  4.48s/it]"
     ]
    },
    {
     "name": "stdout",
     "output_type": "stream",
     "text": [
      "Ground Truth: crying\n",
      "Top predictions:\n",
      "\n",
      "   carrying baby: 38.99%\n",
      "getting a haircut: 20.26%\n",
      "          crying: 18.77%\n",
      "   crawling baby: 4.46%\n",
      "  baby waking up: 4.09%\n",
      "datasets/audios/train/crying\n",
      "MoviePy - Writing audio in datasets/audios/train/crying/aMAJ-DRt6bU_000116_000126.wav\n"
     ]
    },
    {
     "name": "stderr",
     "output_type": "stream",
     "text": [
      " 10%|█         | 5/50 [00:22<03:21,  4.48s/it]"
     ]
    },
    {
     "name": "stdout",
     "output_type": "stream",
     "text": [
      "MoviePy - Done.\n",
      "Audio saved to datasets/audios/train/crying/aMAJ-DRt6bU_000116_000126.wav\n"
     ]
    },
    {
     "name": "stderr",
     "output_type": "stream",
     "text": [
      " 12%|█▏        | 6/50 [00:26<03:13,  4.40s/it]"
     ]
    },
    {
     "name": "stdout",
     "output_type": "stream",
     "text": [
      "Ground Truth: crying\n",
      "Top predictions:\n",
      "\n",
      "  baby waking up: 37.50%\n",
      "sticking tongue out: 19.98%\n",
      "   crawling baby: 16.55%\n",
      "    shaking head: 11.57%\n",
      "        sneezing: 3.69%\n",
      "datasets/audios/train/crying\n",
      "MoviePy - Writing audio in datasets/audios/train/crying/a_yBdlVHrK8_000000_000010.wav\n"
     ]
    },
    {
     "name": "stderr",
     "output_type": "stream",
     "text": [
      " 12%|█▏        | 6/50 [00:26<03:13,  4.40s/it]"
     ]
    },
    {
     "name": "stdout",
     "output_type": "stream",
     "text": [
      "MoviePy - Done.\n",
      "Audio saved to datasets/audios/train/crying/a_yBdlVHrK8_000000_000010.wav\n"
     ]
    },
    {
     "name": "stderr",
     "output_type": "stream",
     "text": [
      " 14%|█▍        | 7/50 [00:31<03:07,  4.36s/it]"
     ]
    },
    {
     "name": "stdout",
     "output_type": "stream",
     "text": [
      "Ground Truth: crying\n",
      "Top predictions:\n",
      "\n",
      "          crying: 81.99%\n",
      "   carrying baby: 5.94%\n",
      "   crawling baby: 5.17%\n",
      "  baby waking up: 1.99%\n",
      "getting a haircut: 1.72%\n",
      "datasets/audios/train/crying\n",
      "MoviePy - Writing audio in datasets/audios/train/crying/fKrcKrs-o_w_000000_000010.wav\n"
     ]
    },
    {
     "name": "stderr",
     "output_type": "stream",
     "text": [
      " 14%|█▍        | 7/50 [00:31<03:07,  4.36s/it]"
     ]
    },
    {
     "name": "stdout",
     "output_type": "stream",
     "text": [
      "MoviePy - Done.\n",
      "Audio saved to datasets/audios/train/crying/fKrcKrs-o_w_000000_000010.wav\n"
     ]
    },
    {
     "name": "stderr",
     "output_type": "stream",
     "text": [
      " 16%|█▌        | 8/50 [00:35<03:02,  4.33s/it]"
     ]
    },
    {
     "name": "stdout",
     "output_type": "stream",
     "text": [
      "Ground Truth: crying\n",
      "Top predictions:\n",
      "\n",
      "          crying: 24.87%\n",
      "   crawling baby: 23.40%\n",
      "  baby waking up: 22.60%\n",
      "   carrying baby: 11.79%\n",
      "sticking tongue out: 4.87%\n",
      "datasets/audios/train/crying\n",
      "MoviePy - Writing audio in datasets/audios/train/crying/fLzGu07zA-I_000008_000018.wav\n"
     ]
    },
    {
     "name": "stderr",
     "output_type": "stream",
     "text": [
      " 16%|█▌        | 8/50 [00:35<03:02,  4.33s/it]"
     ]
    },
    {
     "name": "stdout",
     "output_type": "stream",
     "text": [
      "MoviePy - Done.\n",
      "Audio saved to datasets/audios/train/crying/fLzGu07zA-I_000008_000018.wav\n"
     ]
    },
    {
     "name": "stderr",
     "output_type": "stream",
     "text": [
      " 18%|█▊        | 9/50 [00:39<02:56,  4.31s/it]"
     ]
    },
    {
     "name": "stdout",
     "output_type": "stream",
     "text": [
      "Ground Truth: crying\n",
      "Top predictions:\n",
      "\n",
      "          crying: 88.08%\n",
      "getting a haircut: 6.80%\n",
      "   carrying baby: 1.35%\n",
      "   crawling baby: 0.97%\n",
      "   cutting nails: 0.51%\n",
      "datasets/audios/train/crying\n",
      "MoviePy - Writing audio in datasets/audios/train/crying/FM06rkKxFms_000010_000020.wav\n"
     ]
    },
    {
     "name": "stderr",
     "output_type": "stream",
     "text": [
      " 18%|█▊        | 9/50 [00:39<02:56,  4.31s/it]"
     ]
    },
    {
     "name": "stdout",
     "output_type": "stream",
     "text": [
      "MoviePy - Done.\n",
      "Audio saved to datasets/audios/train/crying/FM06rkKxFms_000010_000020.wav\n"
     ]
    },
    {
     "name": "stderr",
     "output_type": "stream",
     "text": [
      " 20%|██        | 10/50 [00:43<02:51,  4.30s/it]"
     ]
    },
    {
     "name": "stdout",
     "output_type": "stream",
     "text": [
      "Ground Truth: crying\n",
      "Top predictions:\n",
      "\n",
      "          crying: 58.74%\n",
      "getting a haircut: 12.85%\n",
      "   carrying baby: 11.21%\n",
      "   cutting nails: 4.55%\n",
      "     fixing hair: 2.92%\n",
      "datasets/audios/train/crying\n",
      "MoviePy - Writing audio in datasets/audios/train/crying/G6QENvmNkRE_000000_000010.wav\n"
     ]
    },
    {
     "name": "stderr",
     "output_type": "stream",
     "text": [
      " 20%|██        | 10/50 [00:43<02:51,  4.30s/it]"
     ]
    },
    {
     "name": "stdout",
     "output_type": "stream",
     "text": [
      "MoviePy - Done.\n",
      "Audio saved to datasets/audios/train/crying/G6QENvmNkRE_000000_000010.wav\n"
     ]
    },
    {
     "name": "stderr",
     "output_type": "stream",
     "text": [
      " 22%|██▏       | 11/50 [00:48<02:47,  4.29s/it]"
     ]
    },
    {
     "name": "stdout",
     "output_type": "stream",
     "text": [
      "Ground Truth: crying\n",
      "Top predictions:\n",
      "\n",
      "   crawling baby: 34.72%\n",
      "  baby waking up: 14.39%\n",
      "    shaking head: 13.98%\n",
      "sticking tongue out: 10.59%\n",
      "   carrying baby: 5.67%\n",
      "datasets/audios/train/crying\n",
      "MoviePy - Writing audio in datasets/audios/train/crying/Ga9lFu4gurw_000015_000025.wav\n"
     ]
    },
    {
     "name": "stderr",
     "output_type": "stream",
     "text": [
      " 22%|██▏       | 11/50 [00:48<02:47,  4.29s/it]"
     ]
    },
    {
     "name": "stdout",
     "output_type": "stream",
     "text": [
      "MoviePy - Done.\n",
      "Audio saved to datasets/audios/train/crying/Ga9lFu4gurw_000015_000025.wav\n"
     ]
    },
    {
     "name": "stderr",
     "output_type": "stream",
     "text": [
      " 24%|██▍       | 12/50 [00:52<02:42,  4.27s/it]"
     ]
    },
    {
     "name": "stdout",
     "output_type": "stream",
     "text": [
      "Ground Truth: crying\n",
      "Top predictions:\n",
      "\n",
      "          crying: 75.58%\n",
      "   carrying baby: 8.30%\n",
      "   crawling baby: 7.86%\n",
      "  baby waking up: 2.48%\n",
      "getting a haircut: 2.31%\n",
      "datasets/audios/train/crying\n",
      "MoviePy - Writing audio in datasets/audios/train/crying/GnIgOUPiMqE_000023_000033.wav\n"
     ]
    },
    {
     "name": "stderr",
     "output_type": "stream",
     "text": [
      " 24%|██▍       | 12/50 [00:52<02:42,  4.27s/it]"
     ]
    },
    {
     "name": "stdout",
     "output_type": "stream",
     "text": [
      "MoviePy - Done.\n",
      "Audio saved to datasets/audios/train/crying/GnIgOUPiMqE_000023_000033.wav\n"
     ]
    },
    {
     "name": "stderr",
     "output_type": "stream",
     "text": [
      " 26%|██▌       | 13/50 [00:56<02:37,  4.27s/it]"
     ]
    },
    {
     "name": "stdout",
     "output_type": "stream",
     "text": [
      "Ground Truth: crying\n",
      "Top predictions:\n",
      "\n",
      "          crying: 57.69%\n",
      "getting a haircut: 28.46%\n",
      "   carrying baby: 2.53%\n",
      "      dying hair: 2.42%\n",
      "     fixing hair: 2.34%\n",
      "datasets/audios/train/crying\n",
      "MoviePy - Writing audio in datasets/audios/train/crying/gpaANcmFUOI_000003_000013.wav\n"
     ]
    },
    {
     "name": "stderr",
     "output_type": "stream",
     "text": [
      " 26%|██▌       | 13/50 [00:56<02:37,  4.27s/it]"
     ]
    },
    {
     "name": "stdout",
     "output_type": "stream",
     "text": [
      "MoviePy - Done.\n",
      "Audio saved to datasets/audios/train/crying/gpaANcmFUOI_000003_000013.wav\n"
     ]
    },
    {
     "name": "stderr",
     "output_type": "stream",
     "text": [
      " 28%|██▊       | 14/50 [01:00<02:33,  4.26s/it]"
     ]
    },
    {
     "name": "stdout",
     "output_type": "stream",
     "text": [
      "Ground Truth: crying\n",
      "Top predictions:\n",
      "\n",
      "          crying: 77.82%\n",
      "  baby waking up: 5.05%\n",
      "   carrying baby: 3.70%\n",
      "   crawling baby: 3.24%\n",
      "using remote controller (not gaming): 2.39%\n",
      "datasets/audios/train/crying\n",
      "MoviePy - Writing audio in datasets/audios/train/crying/G_-Hx6u40nE_000032_000042.wav\n"
     ]
    },
    {
     "name": "stderr",
     "output_type": "stream",
     "text": [
      " 28%|██▊       | 14/50 [01:00<02:33,  4.26s/it]"
     ]
    },
    {
     "name": "stdout",
     "output_type": "stream",
     "text": [
      "MoviePy - Done.\n",
      "Audio saved to datasets/audios/train/crying/G_-Hx6u40nE_000032_000042.wav\n"
     ]
    },
    {
     "name": "stderr",
     "output_type": "stream",
     "text": [
      " 30%|███       | 15/50 [01:05<02:29,  4.26s/it]"
     ]
    },
    {
     "name": "stdout",
     "output_type": "stream",
     "text": [
      "Ground Truth: crying\n",
      "Top predictions:\n",
      "\n",
      "          crying: 48.00%\n",
      "getting a haircut: 30.27%\n",
      "   carrying baby: 8.02%\n",
      "   crawling baby: 4.98%\n",
      "   cutting nails: 1.34%\n",
      "datasets/audios/train/crying\n",
      "MoviePy - Writing audio in datasets/audios/train/crying/H85OllZBK70_000013_000023.wav\n"
     ]
    },
    {
     "name": "stderr",
     "output_type": "stream",
     "text": [
      " 30%|███       | 15/50 [01:05<02:29,  4.26s/it]"
     ]
    },
    {
     "name": "stdout",
     "output_type": "stream",
     "text": [
      "MoviePy - Done.\n",
      "Audio saved to datasets/audios/train/crying/H85OllZBK70_000013_000023.wav\n"
     ]
    },
    {
     "name": "stderr",
     "output_type": "stream",
     "text": [
      " 32%|███▏      | 16/50 [01:09<02:24,  4.26s/it]"
     ]
    },
    {
     "name": "stdout",
     "output_type": "stream",
     "text": [
      "Ground Truth: crying\n",
      "Top predictions:\n",
      "\n",
      "          crying: 53.11%\n",
      "getting a haircut: 16.14%\n",
      "   crawling baby: 12.29%\n",
      "   carrying baby: 10.24%\n",
      "   cutting nails: 1.50%\n",
      "datasets/audios/train/crying\n",
      "MoviePy - Writing audio in datasets/audios/train/crying/Ha3vwLcjMAs_000157_000167.wav\n"
     ]
    },
    {
     "name": "stderr",
     "output_type": "stream",
     "text": [
      " 32%|███▏      | 16/50 [01:09<02:24,  4.26s/it]"
     ]
    },
    {
     "name": "stdout",
     "output_type": "stream",
     "text": [
      "MoviePy - Done.\n",
      "Audio saved to datasets/audios/train/crying/Ha3vwLcjMAs_000157_000167.wav\n"
     ]
    },
    {
     "name": "stderr",
     "output_type": "stream",
     "text": [
      " 34%|███▍      | 17/50 [01:13<02:20,  4.26s/it]"
     ]
    },
    {
     "name": "stdout",
     "output_type": "stream",
     "text": [
      "Ground Truth: crying\n",
      "Top predictions:\n",
      "\n",
      "getting a haircut: 20.17%\n",
      "   crawling baby: 11.22%\n",
      "     fixing hair: 7.90%\n",
      "          crying: 7.82%\n",
      "    washing hair: 7.04%\n",
      "datasets/audios/train/crying\n",
      "MoviePy - Writing audio in datasets/audios/train/crying/l5UWczmUVeY_000019_000029.wav\n"
     ]
    },
    {
     "name": "stderr",
     "output_type": "stream",
     "text": [
      " 34%|███▍      | 17/50 [01:13<02:20,  4.26s/it]"
     ]
    },
    {
     "name": "stdout",
     "output_type": "stream",
     "text": [
      "MoviePy - Done.\n",
      "Audio saved to datasets/audios/train/crying/l5UWczmUVeY_000019_000029.wav\n"
     ]
    },
    {
     "name": "stderr",
     "output_type": "stream",
     "text": [
      " 36%|███▌      | 18/50 [01:17<02:16,  4.25s/it]"
     ]
    },
    {
     "name": "stdout",
     "output_type": "stream",
     "text": [
      "Ground Truth: crying\n",
      "Top predictions:\n",
      "\n",
      "          crying: 57.25%\n",
      "   crawling baby: 11.41%\n",
      "   carrying baby: 5.85%\n",
      "getting a haircut: 4.15%\n",
      "  baby waking up: 2.97%\n",
      "datasets/audios/train/crying\n",
      "MoviePy - Writing audio in datasets/audios/train/crying/oH_BDY4bWp4_000000_000010.wav\n"
     ]
    },
    {
     "name": "stderr",
     "output_type": "stream",
     "text": [
      " 36%|███▌      | 18/50 [01:18<02:16,  4.25s/it]"
     ]
    },
    {
     "name": "stdout",
     "output_type": "stream",
     "text": [
      "MoviePy - Done.\n",
      "Audio saved to datasets/audios/train/crying/oH_BDY4bWp4_000000_000010.wav\n"
     ]
    },
    {
     "name": "stderr",
     "output_type": "stream",
     "text": [
      " 38%|███▊      | 19/50 [01:22<02:12,  4.26s/it]"
     ]
    },
    {
     "name": "stdout",
     "output_type": "stream",
     "text": [
      "Ground Truth: crying\n",
      "Top predictions:\n",
      "\n",
      "          crying: 61.99%\n",
      "getting a haircut: 21.87%\n",
      "   carrying baby: 4.40%\n",
      "   cutting nails: 2.81%\n",
      "     fixing hair: 2.25%\n",
      "datasets/audios/train/crying\n",
      "MoviePy - Writing audio in datasets/audios/train/crying/Oi7DvmU-tF0_000000_000010.wav\n"
     ]
    },
    {
     "name": "stderr",
     "output_type": "stream",
     "text": [
      " 38%|███▊      | 19/50 [01:22<02:12,  4.26s/it]"
     ]
    },
    {
     "name": "stdout",
     "output_type": "stream",
     "text": [
      "MoviePy - Done.\n",
      "Audio saved to datasets/audios/train/crying/Oi7DvmU-tF0_000000_000010.wav\n"
     ]
    },
    {
     "name": "stderr",
     "output_type": "stream",
     "text": [
      " 40%|████      | 20/50 [01:26<02:08,  4.27s/it]"
     ]
    },
    {
     "name": "stdout",
     "output_type": "stream",
     "text": [
      "Ground Truth: crying\n",
      "Top predictions:\n",
      "\n",
      "          crying: 79.84%\n",
      "getting a haircut: 10.75%\n",
      "   carrying baby: 2.71%\n",
      "     fixing hair: 1.88%\n",
      "      dying hair: 1.54%\n",
      "datasets/audios/train/crying\n",
      "MoviePy - Writing audio in datasets/audios/train/crying/oNiWBhu1-JQ_000000_000010.wav\n"
     ]
    },
    {
     "name": "stderr",
     "output_type": "stream",
     "text": [
      " 40%|████      | 20/50 [01:26<02:08,  4.27s/it]"
     ]
    },
    {
     "name": "stdout",
     "output_type": "stream",
     "text": [
      "MoviePy - Done.\n",
      "Audio saved to datasets/audios/train/crying/oNiWBhu1-JQ_000000_000010.wav\n"
     ]
    },
    {
     "name": "stderr",
     "output_type": "stream",
     "text": [
      " 42%|████▏     | 21/50 [01:30<02:03,  4.26s/it]"
     ]
    },
    {
     "name": "stdout",
     "output_type": "stream",
     "text": [
      "Ground Truth: crying\n",
      "Top predictions:\n",
      "\n",
      "          crying: 46.79%\n",
      "   crawling baby: 20.75%\n",
      "   carrying baby: 17.47%\n",
      "  baby waking up: 7.22%\n",
      "   cutting nails: 2.64%\n",
      "datasets/audios/train/crying\n",
      "MoviePy - Writing audio in datasets/audios/train/crying/Pa4kyZAUTXQ_000017_000027.wav\n"
     ]
    },
    {
     "name": "stderr",
     "output_type": "stream",
     "text": [
      " 42%|████▏     | 21/50 [01:30<02:03,  4.26s/it]"
     ]
    },
    {
     "name": "stdout",
     "output_type": "stream",
     "text": [
      "MoviePy - Done.\n",
      "Audio saved to datasets/audios/train/crying/Pa4kyZAUTXQ_000017_000027.wav\n"
     ]
    },
    {
     "name": "stderr",
     "output_type": "stream",
     "text": [
      " 44%|████▍     | 22/50 [01:34<01:59,  4.25s/it]"
     ]
    },
    {
     "name": "stdout",
     "output_type": "stream",
     "text": [
      "Ground Truth: crying\n",
      "Top predictions:\n",
      "\n",
      "          crying: 45.02%\n",
      "  baby waking up: 22.26%\n",
      "   crawling baby: 10.17%\n",
      "petting animal (not cat): 6.12%\n",
      "   carrying baby: 4.80%\n",
      "datasets/audios/train/crying\n",
      "MoviePy - Writing audio in datasets/audios/train/crying/pg4HbzuxCIE_000022_000032.wav\n"
     ]
    },
    {
     "name": "stderr",
     "output_type": "stream",
     "text": [
      " 44%|████▍     | 22/50 [01:35<01:59,  4.25s/it]"
     ]
    },
    {
     "name": "stdout",
     "output_type": "stream",
     "text": [
      "MoviePy - Done.\n",
      "Audio saved to datasets/audios/train/crying/pg4HbzuxCIE_000022_000032.wav\n"
     ]
    },
    {
     "name": "stderr",
     "output_type": "stream",
     "text": [
      " 46%|████▌     | 23/50 [01:39<01:54,  4.25s/it]"
     ]
    },
    {
     "name": "stdout",
     "output_type": "stream",
     "text": [
      "Ground Truth: crying\n",
      "Top predictions:\n",
      "\n",
      "          crying: 60.09%\n",
      "   crawling baby: 15.07%\n",
      "   carrying baby: 3.93%\n",
      "     fixing hair: 2.63%\n",
      "  baby waking up: 2.52%\n",
      "datasets/audios/train/crying\n",
      "MoviePy - Writing audio in datasets/audios/train/crying/pHgqoFKTBDc_000004_000014.wav\n"
     ]
    },
    {
     "name": "stderr",
     "output_type": "stream",
     "text": [
      " 46%|████▌     | 23/50 [01:39<01:54,  4.25s/it]"
     ]
    },
    {
     "name": "stdout",
     "output_type": "stream",
     "text": [
      "MoviePy - Done.\n",
      "Audio saved to datasets/audios/train/crying/pHgqoFKTBDc_000004_000014.wav\n"
     ]
    },
    {
     "name": "stderr",
     "output_type": "stream",
     "text": [
      " 48%|████▊     | 24/50 [01:43<01:50,  4.25s/it]"
     ]
    },
    {
     "name": "stdout",
     "output_type": "stream",
     "text": [
      "Ground Truth: crying\n",
      "Top predictions:\n",
      "\n",
      "          crying: 57.86%\n",
      "getting a haircut: 10.88%\n",
      "  baby waking up: 10.48%\n",
      "   carrying baby: 9.33%\n",
      "   crawling baby: 4.17%\n",
      "datasets/audios/train/crying\n",
      "MoviePy - Writing audio in datasets/audios/train/crying/pZxdg1Stvb8_000000_000010.wav\n"
     ]
    },
    {
     "name": "stderr",
     "output_type": "stream",
     "text": [
      " 48%|████▊     | 24/50 [01:43<01:50,  4.25s/it]"
     ]
    },
    {
     "name": "stdout",
     "output_type": "stream",
     "text": [
      "MoviePy - Done.\n",
      "Audio saved to datasets/audios/train/crying/pZxdg1Stvb8_000000_000010.wav\n"
     ]
    },
    {
     "name": "stderr",
     "output_type": "stream",
     "text": [
      " 50%|█████     | 25/50 [01:47<01:46,  4.25s/it]"
     ]
    },
    {
     "name": "stdout",
     "output_type": "stream",
     "text": [
      "Ground Truth: crying\n",
      "Top predictions:\n",
      "\n",
      "          crying: 56.20%\n",
      "   cutting nails: 9.22%\n",
      "getting a haircut: 8.92%\n",
      "   carrying baby: 5.93%\n",
      "     fixing hair: 2.56%\n",
      "datasets/audios/train/crying\n",
      "MoviePy - Writing audio in datasets/audios/train/crying/QApH290EHcU_000035_000045.wav\n"
     ]
    },
    {
     "name": "stderr",
     "output_type": "stream",
     "text": [
      " 50%|█████     | 25/50 [01:47<01:46,  4.25s/it]"
     ]
    },
    {
     "name": "stdout",
     "output_type": "stream",
     "text": [
      "MoviePy - Done.\n",
      "Audio saved to datasets/audios/train/crying/QApH290EHcU_000035_000045.wav\n"
     ]
    },
    {
     "name": "stderr",
     "output_type": "stream",
     "text": [
      " 52%|█████▏    | 26/50 [01:51<01:41,  4.25s/it]"
     ]
    },
    {
     "name": "stdout",
     "output_type": "stream",
     "text": [
      "Ground Truth: crying\n",
      "Top predictions:\n",
      "\n",
      "petting animal (not cat): 17.25%\n",
      "  baby waking up: 16.48%\n",
      "          crying: 14.29%\n",
      "   carrying baby: 11.32%\n",
      "   crawling baby: 9.67%\n",
      "datasets/audios/train/crying\n",
      "MoviePy - Writing audio in datasets/audios/train/crying/qFOg87dNSh4_000001_000011.wav\n"
     ]
    },
    {
     "name": "stderr",
     "output_type": "stream",
     "text": [
      " 52%|█████▏    | 26/50 [01:52<01:41,  4.25s/it]"
     ]
    },
    {
     "name": "stdout",
     "output_type": "stream",
     "text": [
      "MoviePy - Done.\n",
      "Audio saved to datasets/audios/train/crying/qFOg87dNSh4_000001_000011.wav\n"
     ]
    },
    {
     "name": "stderr",
     "output_type": "stream",
     "text": [
      " 54%|█████▍    | 27/50 [01:56<01:37,  4.25s/it]"
     ]
    },
    {
     "name": "stdout",
     "output_type": "stream",
     "text": [
      "Ground Truth: crying\n",
      "Top predictions:\n",
      "\n",
      "          crying: 89.00%\n",
      "   crawling baby: 2.09%\n",
      "   carrying baby: 1.69%\n",
      "   cutting nails: 1.35%\n",
      "  baby waking up: 1.33%\n",
      "datasets/audios/train/crying\n",
      "MoviePy - Writing audio in datasets/audios/train/crying/quf-iuFOT4s_000000_000010.wav\n"
     ]
    },
    {
     "name": "stderr",
     "output_type": "stream",
     "text": [
      " 54%|█████▍    | 27/50 [01:56<01:37,  4.25s/it]"
     ]
    },
    {
     "name": "stdout",
     "output_type": "stream",
     "text": [
      "MoviePy - Done.\n",
      "Audio saved to datasets/audios/train/crying/quf-iuFOT4s_000000_000010.wav\n"
     ]
    },
    {
     "name": "stderr",
     "output_type": "stream",
     "text": [
      " 56%|█████▌    | 28/50 [02:00<01:33,  4.26s/it]"
     ]
    },
    {
     "name": "stdout",
     "output_type": "stream",
     "text": [
      "Ground Truth: crying\n",
      "Top predictions:\n",
      "\n",
      "   crawling baby: 58.30%\n",
      "sticking tongue out: 6.55%\n",
      "    shaking head: 6.18%\n",
      "    pumping fist: 4.82%\n",
      "using remote controller (not gaming): 2.67%\n",
      "datasets/audios/train/crying\n",
      "MoviePy - Writing audio in datasets/audios/train/crying/rCwNyAjkGPQ_000031_000041.wav\n"
     ]
    },
    {
     "name": "stderr",
     "output_type": "stream",
     "text": [
      " 56%|█████▌    | 28/50 [02:00<01:33,  4.26s/it]"
     ]
    },
    {
     "name": "stdout",
     "output_type": "stream",
     "text": [
      "MoviePy - Done.\n",
      "Audio saved to datasets/audios/train/crying/rCwNyAjkGPQ_000031_000041.wav\n"
     ]
    },
    {
     "name": "stderr",
     "output_type": "stream",
     "text": [
      " 58%|█████▊    | 29/50 [02:03<01:20,  3.83s/it]"
     ]
    },
    {
     "name": "stdout",
     "output_type": "stream",
     "text": [
      "Ground Truth: crying\n",
      "Top predictions:\n",
      "\n",
      "         hugging: 24.79%\n",
      "riding mechanical bull: 14.88%\n",
      "getting a haircut: 10.85%\n",
      " waiting in line: 9.02%\n",
      "    making sushi: 7.12%\n",
      "datasets/audios/train/crying\n",
      "MoviePy - Writing audio in datasets/audios/train/crying/sjZsedv-jG8_000008_000018.wav\n"
     ]
    },
    {
     "name": "stderr",
     "output_type": "stream",
     "text": [
      " 58%|█████▊    | 29/50 [02:03<01:20,  3.83s/it]"
     ]
    },
    {
     "name": "stdout",
     "output_type": "stream",
     "text": [
      "MoviePy - Done.\n",
      "Audio saved to datasets/audios/train/crying/sjZsedv-jG8_000008_000018.wav\n"
     ]
    },
    {
     "name": "stderr",
     "output_type": "stream",
     "text": [
      " 60%|██████    | 30/50 [02:05<01:09,  3.46s/it]"
     ]
    },
    {
     "name": "stdout",
     "output_type": "stream",
     "text": [
      "Ground Truth: crying\n",
      "Top predictions:\n",
      "\n",
      "          crying: 28.84%\n",
      "        tickling: 11.73%\n",
      "     fixing hair: 9.88%\n",
      "   carrying baby: 7.15%\n",
      "      dying hair: 6.39%\n",
      "datasets/audios/train/crying\n",
      "MoviePy - Writing audio in datasets/audios/train/crying/tIm0yA_u5Qc_000000_000010.wav\n"
     ]
    },
    {
     "name": "stderr",
     "output_type": "stream",
     "text": [
      " 60%|██████    | 30/50 [02:05<01:09,  3.46s/it]"
     ]
    },
    {
     "name": "stdout",
     "output_type": "stream",
     "text": [
      "MoviePy - Done.\n",
      "Audio saved to datasets/audios/train/crying/tIm0yA_u5Qc_000000_000010.wav\n"
     ]
    },
    {
     "name": "stderr",
     "output_type": "stream",
     "text": [
      " 62%|██████▏   | 31/50 [02:08<01:00,  3.20s/it]"
     ]
    },
    {
     "name": "stdout",
     "output_type": "stream",
     "text": [
      "Ground Truth: crying\n",
      "Top predictions:\n",
      "\n",
      "        tickling: 44.00%\n",
      "        laughing: 12.58%\n",
      "   carrying baby: 9.45%\n",
      "   cutting nails: 6.58%\n",
      "petting animal (not cat): 4.67%\n",
      "datasets/audios/train/crying\n",
      "MoviePy - Writing audio in datasets/audios/train/crying/tlY2Cy-VH_g_000005_000015.wav\n"
     ]
    },
    {
     "name": "stderr",
     "output_type": "stream",
     "text": [
      " 62%|██████▏   | 31/50 [02:08<01:00,  3.20s/it]"
     ]
    },
    {
     "name": "stdout",
     "output_type": "stream",
     "text": [
      "MoviePy - Done.\n",
      "Audio saved to datasets/audios/train/crying/tlY2Cy-VH_g_000005_000015.wav\n"
     ]
    },
    {
     "name": "stderr",
     "output_type": "stream",
     "text": [
      " 64%|██████▍   | 32/50 [02:11<00:54,  3.01s/it]"
     ]
    },
    {
     "name": "stdout",
     "output_type": "stream",
     "text": [
      "Ground Truth: crying\n",
      "Top predictions:\n",
      "\n",
      "          crying: 45.94%\n",
      "getting a haircut: 41.81%\n",
      "    washing hair: 1.67%\n",
      "   carrying baby: 1.48%\n",
      "     fixing hair: 1.30%\n",
      "datasets/audios/train/crying\n",
      "MoviePy - Writing audio in datasets/audios/train/crying/TNl9NjfWZ1o_000084_000094.wav\n"
     ]
    },
    {
     "name": "stderr",
     "output_type": "stream",
     "text": [
      " 64%|██████▍   | 32/50 [02:11<00:54,  3.01s/it]"
     ]
    },
    {
     "name": "stdout",
     "output_type": "stream",
     "text": [
      "MoviePy - Done.\n",
      "Audio saved to datasets/audios/train/crying/TNl9NjfWZ1o_000084_000094.wav\n"
     ]
    },
    {
     "name": "stderr",
     "output_type": "stream",
     "text": [
      " 66%|██████▌   | 33/50 [02:13<00:49,  2.89s/it]"
     ]
    },
    {
     "name": "stdout",
     "output_type": "stream",
     "text": [
      "Ground Truth: crying\n",
      "Top predictions:\n",
      "\n",
      "          crying: 37.19%\n",
      "getting a haircut: 21.86%\n",
      "   carrying baby: 10.32%\n",
      "   cutting nails: 9.04%\n",
      "     fixing hair: 4.80%\n",
      "datasets/audios/train/crying\n",
      "MoviePy - Writing audio in datasets/audios/train/crying/u-oc-Eln_yc_000003_000013.wav\n"
     ]
    },
    {
     "name": "stderr",
     "output_type": "stream",
     "text": [
      " 66%|██████▌   | 33/50 [02:13<00:49,  2.89s/it]"
     ]
    },
    {
     "name": "stdout",
     "output_type": "stream",
     "text": [
      "MoviePy - Done.\n",
      "Audio saved to datasets/audios/train/crying/u-oc-Eln_yc_000003_000013.wav\n"
     ]
    },
    {
     "name": "stderr",
     "output_type": "stream",
     "text": [
      " 68%|██████▊   | 34/50 [02:16<00:44,  2.80s/it]"
     ]
    },
    {
     "name": "stdout",
     "output_type": "stream",
     "text": [
      "Ground Truth: crying\n",
      "Top predictions:\n",
      "\n",
      "getting a haircut: 46.50%\n",
      "          crying: 38.75%\n",
      "   carrying baby: 3.98%\n",
      "   cutting nails: 1.48%\n",
      "   crawling baby: 1.35%\n",
      "datasets/audios/train/crying\n",
      "MoviePy - Writing audio in datasets/audios/train/crying/Ux2iImyAiL4_000001_000011.wav\n"
     ]
    },
    {
     "name": "stderr",
     "output_type": "stream",
     "text": [
      " 68%|██████▊   | 34/50 [02:16<00:44,  2.80s/it]"
     ]
    },
    {
     "name": "stdout",
     "output_type": "stream",
     "text": [
      "MoviePy - Done.\n",
      "Audio saved to datasets/audios/train/crying/Ux2iImyAiL4_000001_000011.wav\n"
     ]
    },
    {
     "name": "stderr",
     "output_type": "stream",
     "text": [
      " 70%|███████   | 35/50 [02:18<00:40,  2.73s/it]"
     ]
    },
    {
     "name": "stdout",
     "output_type": "stream",
     "text": [
      "Ground Truth: crying\n",
      "Top predictions:\n",
      "\n",
      "   crawling baby: 33.83%\n",
      "  baby waking up: 26.00%\n",
      "   carrying baby: 7.82%\n",
      "          crying: 6.47%\n",
      "sticking tongue out: 6.30%\n",
      "datasets/audios/train/crying\n",
      "MoviePy - Writing audio in datasets/audios/train/crying/VcHysqkJPSE_000002_000012.wav\n"
     ]
    },
    {
     "name": "stderr",
     "output_type": "stream",
     "text": [
      " 70%|███████   | 35/50 [02:18<00:40,  2.73s/it]"
     ]
    },
    {
     "name": "stdout",
     "output_type": "stream",
     "text": [
      "MoviePy - Done.\n",
      "Audio saved to datasets/audios/train/crying/VcHysqkJPSE_000002_000012.wav\n"
     ]
    },
    {
     "name": "stderr",
     "output_type": "stream",
     "text": [
      " 72%|███████▏  | 36/50 [02:21<00:37,  2.69s/it]"
     ]
    },
    {
     "name": "stdout",
     "output_type": "stream",
     "text": [
      "Ground Truth: crying\n",
      "Top predictions:\n",
      "\n",
      "getting a haircut: 20.30%\n",
      "         hugging: 8.55%\n",
      "    making sushi: 8.53%\n",
      "dancing macarena: 7.89%\n",
      "   carrying baby: 7.56%\n",
      "datasets/audios/train/crying\n",
      "MoviePy - Writing audio in datasets/audios/train/crying/X3G7b1JNAfs_000000_000010.wav\n"
     ]
    },
    {
     "name": "stderr",
     "output_type": "stream",
     "text": [
      " 72%|███████▏  | 36/50 [02:21<00:37,  2.69s/it]"
     ]
    },
    {
     "name": "stdout",
     "output_type": "stream",
     "text": [
      "MoviePy - Done.\n",
      "Audio saved to datasets/audios/train/crying/X3G7b1JNAfs_000000_000010.wav\n"
     ]
    },
    {
     "name": "stderr",
     "output_type": "stream",
     "text": [
      " 74%|███████▍  | 37/50 [02:24<00:34,  2.67s/it]"
     ]
    },
    {
     "name": "stdout",
     "output_type": "stream",
     "text": [
      "Ground Truth: crying\n",
      "Top predictions:\n",
      "\n",
      "sticking tongue out: 9.71%\n",
      "        laughing: 9.24%\n",
      "   cutting nails: 8.73%\n",
      "          crying: 8.33%\n",
      "   carrying baby: 7.56%\n",
      "datasets/audios/train/crying\n",
      "MoviePy - Writing audio in datasets/audios/train/crying/XBNgVxsrqo4_000010_000020.wav\n"
     ]
    },
    {
     "name": "stderr",
     "output_type": "stream",
     "text": [
      " 74%|███████▍  | 37/50 [02:24<00:34,  2.67s/it]"
     ]
    },
    {
     "name": "stdout",
     "output_type": "stream",
     "text": [
      "MoviePy - Done.\n",
      "Audio saved to datasets/audios/train/crying/XBNgVxsrqo4_000010_000020.wav\n"
     ]
    },
    {
     "name": "stderr",
     "output_type": "stream",
     "text": [
      " 76%|███████▌  | 38/50 [02:26<00:31,  2.64s/it]"
     ]
    },
    {
     "name": "stdout",
     "output_type": "stream",
     "text": [
      "Ground Truth: crying\n",
      "Top predictions:\n",
      "\n",
      "getting a haircut: 69.07%\n",
      "   carrying baby: 7.73%\n",
      "          crying: 7.33%\n",
      "         hugging: 2.53%\n",
      "petting animal (not cat): 2.13%\n",
      "datasets/audios/train/crying\n",
      "MoviePy - Writing audio in datasets/audios/train/crying/xDLo1xt8P6U_000014_000024.wav\n"
     ]
    },
    {
     "name": "stderr",
     "output_type": "stream",
     "text": [
      " 76%|███████▌  | 38/50 [02:26<00:31,  2.64s/it]"
     ]
    },
    {
     "name": "stdout",
     "output_type": "stream",
     "text": [
      "MoviePy - Done.\n",
      "Audio saved to datasets/audios/train/crying/xDLo1xt8P6U_000014_000024.wav\n"
     ]
    },
    {
     "name": "stderr",
     "output_type": "stream",
     "text": [
      " 78%|███████▊  | 39/50 [02:29<00:28,  2.63s/it]"
     ]
    },
    {
     "name": "stdout",
     "output_type": "stream",
     "text": [
      "Ground Truth: crying\n",
      "Top predictions:\n",
      "\n",
      "          crying: 45.63%\n",
      "getting a haircut: 29.49%\n",
      "   crawling baby: 6.37%\n",
      "   carrying baby: 5.18%\n",
      "   cutting nails: 2.88%\n",
      "datasets/audios/train/crying\n"
     ]
    },
    {
     "name": "stderr",
     "output_type": "stream",
     "text": [
      " 78%|███████▊  | 39/50 [02:29<00:28,  2.63s/it]"
     ]
    },
    {
     "name": "stdout",
     "output_type": "stream",
     "text": [
      "MoviePy - Writing audio in datasets/audios/train/crying/yAgm_XnqBec_000010_000020.wav\n"
     ]
    },
    {
     "name": "stderr",
     "output_type": "stream",
     "text": [
      " 78%|███████▊  | 39/50 [02:29<00:28,  2.63s/it]"
     ]
    },
    {
     "name": "stdout",
     "output_type": "stream",
     "text": [
      "MoviePy - Done.\n",
      "Audio saved to datasets/audios/train/crying/yAgm_XnqBec_000010_000020.wav\n"
     ]
    },
    {
     "name": "stderr",
     "output_type": "stream",
     "text": [
      " 80%|████████  | 40/50 [02:31<00:26,  2.62s/it]"
     ]
    },
    {
     "name": "stdout",
     "output_type": "stream",
     "text": [
      "Ground Truth: crying\n",
      "Top predictions:\n",
      "\n",
      "          crying: 63.42%\n",
      "getting a haircut: 21.32%\n",
      "   cutting nails: 2.93%\n",
      "   carrying baby: 2.50%\n",
      "     fixing hair: 1.78%\n",
      "datasets/audios/train/crying\n",
      "MoviePy - Writing audio in datasets/audios/train/crying/yDD0alN95O8_000015_000025.wav\n"
     ]
    },
    {
     "name": "stderr",
     "output_type": "stream",
     "text": [
      " 80%|████████  | 40/50 [02:31<00:26,  2.62s/it]"
     ]
    },
    {
     "name": "stdout",
     "output_type": "stream",
     "text": [
      "MoviePy - Done.\n",
      "Audio saved to datasets/audios/train/crying/yDD0alN95O8_000015_000025.wav\n"
     ]
    },
    {
     "name": "stderr",
     "output_type": "stream",
     "text": [
      " 82%|████████▏ | 41/50 [02:34<00:23,  2.61s/it]"
     ]
    },
    {
     "name": "stdout",
     "output_type": "stream",
     "text": [
      "Ground Truth: crying\n",
      "Top predictions:\n",
      "\n",
      "getting a haircut: 29.25%\n",
      "         hugging: 16.96%\n",
      "   carrying baby: 12.23%\n",
      "          crying: 10.67%\n",
      "   holding snake: 10.36%\n",
      "datasets/audios/train/crying\n",
      "MoviePy - Writing audio in datasets/audios/train/crying/yDKz5An0qd0_000024_000034.wav\n"
     ]
    },
    {
     "name": "stderr",
     "output_type": "stream",
     "text": [
      " 82%|████████▏ | 41/50 [02:34<00:23,  2.61s/it]"
     ]
    },
    {
     "name": "stdout",
     "output_type": "stream",
     "text": [
      "MoviePy - Done.\n",
      "Audio saved to datasets/audios/train/crying/yDKz5An0qd0_000024_000034.wav\n"
     ]
    },
    {
     "name": "stderr",
     "output_type": "stream",
     "text": [
      " 84%|████████▍ | 42/50 [02:37<00:20,  2.60s/it]"
     ]
    },
    {
     "name": "stdout",
     "output_type": "stream",
     "text": [
      "Ground Truth: crying\n",
      "Top predictions:\n",
      "\n",
      "sticking tongue out: 24.99%\n",
      "   crawling baby: 22.42%\n",
      "    shaking head: 9.26%\n",
      "getting a haircut: 5.31%\n",
      "          crying: 5.20%\n",
      "datasets/audios/train/crying\n",
      "MoviePy - Writing audio in datasets/audios/train/crying/zQWdo_Er87M_000008_000018.wav\n"
     ]
    },
    {
     "name": "stderr",
     "output_type": "stream",
     "text": [
      " 84%|████████▍ | 42/50 [02:37<00:20,  2.60s/it]"
     ]
    },
    {
     "name": "stdout",
     "output_type": "stream",
     "text": [
      "MoviePy - Done.\n",
      "Audio saved to datasets/audios/train/crying/zQWdo_Er87M_000008_000018.wav\n"
     ]
    },
    {
     "name": "stderr",
     "output_type": "stream",
     "text": [
      " 86%|████████▌ | 43/50 [02:39<00:18,  2.60s/it]"
     ]
    },
    {
     "name": "stdout",
     "output_type": "stream",
     "text": [
      "Ground Truth: crying\n",
      "Top predictions:\n",
      "\n",
      "          crying: 61.70%\n",
      "getting a haircut: 10.70%\n",
      "   holding snake: 7.55%\n",
      "  bungee jumping: 4.37%\n",
      "    riding camel: 2.31%\n",
      "datasets/audios/train/crying\n",
      "MoviePy - Writing audio in datasets/audios/train/crying/ZrFW1iPMnig_000060_000070.wav\n"
     ]
    },
    {
     "name": "stderr",
     "output_type": "stream",
     "text": [
      " 86%|████████▌ | 43/50 [02:39<00:18,  2.60s/it]"
     ]
    },
    {
     "name": "stdout",
     "output_type": "stream",
     "text": [
      "MoviePy - Done.\n",
      "Audio saved to datasets/audios/train/crying/ZrFW1iPMnig_000060_000070.wav\n"
     ]
    },
    {
     "name": "stderr",
     "output_type": "stream",
     "text": [
      " 88%|████████▊ | 44/50 [02:42<00:15,  2.60s/it]"
     ]
    },
    {
     "name": "stdout",
     "output_type": "stream",
     "text": [
      "Ground Truth: crying\n",
      "Top predictions:\n",
      "\n",
      "          crying: 75.10%\n",
      "getting a haircut: 6.94%\n",
      "   crawling baby: 3.94%\n",
      "  baby waking up: 3.80%\n",
      "   carrying baby: 3.08%\n",
      "datasets/audios/train/crying\n",
      "MoviePy - Writing audio in datasets/audios/train/crying/zwOBqeFTgiU_000012_000022.wav\n"
     ]
    },
    {
     "name": "stderr",
     "output_type": "stream",
     "text": [
      " 88%|████████▊ | 44/50 [02:42<00:15,  2.60s/it]"
     ]
    },
    {
     "name": "stdout",
     "output_type": "stream",
     "text": [
      "MoviePy - Done.\n",
      "Audio saved to datasets/audios/train/crying/zwOBqeFTgiU_000012_000022.wav\n"
     ]
    },
    {
     "name": "stderr",
     "output_type": "stream",
     "text": [
      " 90%|█████████ | 45/50 [02:44<00:12,  2.60s/it]"
     ]
    },
    {
     "name": "stdout",
     "output_type": "stream",
     "text": [
      "Ground Truth: crying\n",
      "Top predictions:\n",
      "\n",
      "          crying: 48.54%\n",
      "getting a haircut: 26.80%\n",
      "   carrying baby: 8.24%\n",
      "   cutting nails: 3.68%\n",
      "   crawling baby: 3.34%\n",
      "datasets/audios/train/crying\n",
      "MoviePy - Writing audio in datasets/audios/train/crying/_ceBK5pQTrs_000033_000043.wav\n"
     ]
    },
    {
     "name": "stderr",
     "output_type": "stream",
     "text": [
      " 90%|█████████ | 45/50 [02:44<00:12,  2.60s/it]"
     ]
    },
    {
     "name": "stdout",
     "output_type": "stream",
     "text": [
      "MoviePy - Done.\n",
      "Audio saved to datasets/audios/train/crying/_ceBK5pQTrs_000033_000043.wav\n"
     ]
    },
    {
     "name": "stderr",
     "output_type": "stream",
     "text": [
      " 92%|█████████▏| 46/50 [02:47<00:10,  2.59s/it]"
     ]
    },
    {
     "name": "stdout",
     "output_type": "stream",
     "text": [
      "Ground Truth: crying\n",
      "Top predictions:\n",
      "\n",
      "          crying: 66.06%\n",
      "getting a haircut: 18.92%\n",
      "   carrying baby: 4.55%\n",
      "   crawling baby: 3.82%\n",
      "  baby waking up: 1.10%\n",
      "datasets/audios/train/crying\n",
      "MoviePy - Writing audio in datasets/audios/train/crying/_fVz9qyplBc_000078_000088.wav\n"
     ]
    },
    {
     "name": "stderr",
     "output_type": "stream",
     "text": [
      " 92%|█████████▏| 46/50 [02:47<00:10,  2.59s/it]"
     ]
    },
    {
     "name": "stdout",
     "output_type": "stream",
     "text": [
      "MoviePy - Done.\n",
      "Audio saved to datasets/audios/train/crying/_fVz9qyplBc_000078_000088.wav\n"
     ]
    },
    {
     "name": "stderr",
     "output_type": "stream",
     "text": [
      " 94%|█████████▍| 47/50 [02:50<00:07,  2.60s/it]"
     ]
    },
    {
     "name": "stdout",
     "output_type": "stream",
     "text": [
      "Ground Truth: crying\n",
      "Top predictions:\n",
      "\n",
      "          crying: 80.92%\n",
      "getting a haircut: 8.52%\n",
      "   carrying baby: 3.35%\n",
      "   cutting nails: 1.93%\n",
      "   crawling baby: 0.83%\n",
      "datasets/audios/train/crying\n",
      "MoviePy - Writing audio in datasets/audios/train/crying/_k0fnTiKEMc_000077_000087.wav\n"
     ]
    },
    {
     "name": "stderr",
     "output_type": "stream",
     "text": [
      " 94%|█████████▍| 47/50 [02:50<00:07,  2.60s/it]"
     ]
    },
    {
     "name": "stdout",
     "output_type": "stream",
     "text": [
      "MoviePy - Done.\n",
      "Audio saved to datasets/audios/train/crying/_k0fnTiKEMc_000077_000087.wav\n"
     ]
    },
    {
     "name": "stderr",
     "output_type": "stream",
     "text": [
      " 96%|█████████▌| 48/50 [02:52<00:05,  2.60s/it]"
     ]
    },
    {
     "name": "stdout",
     "output_type": "stream",
     "text": [
      "Ground Truth: crying\n",
      "Top predictions:\n",
      "\n",
      "          crying: 66.62%\n",
      "getting a haircut: 11.42%\n",
      "     fixing hair: 3.21%\n",
      "   carrying baby: 2.94%\n",
      "   cutting nails: 2.76%\n",
      "datasets/audios/train/crying\n",
      "MoviePy - Writing audio in datasets/audios/train/crying/_uPh9i-xaaE_000094_000104.wav\n"
     ]
    },
    {
     "name": "stderr",
     "output_type": "stream",
     "text": [
      " 96%|█████████▌| 48/50 [02:52<00:05,  2.60s/it]"
     ]
    },
    {
     "name": "stdout",
     "output_type": "stream",
     "text": [
      "MoviePy - Done.\n",
      "Audio saved to datasets/audios/train/crying/_uPh9i-xaaE_000094_000104.wav\n"
     ]
    },
    {
     "name": "stderr",
     "output_type": "stream",
     "text": [
      " 98%|█████████▊| 49/50 [02:55<00:02,  2.60s/it]"
     ]
    },
    {
     "name": "stdout",
     "output_type": "stream",
     "text": [
      "Ground Truth: crying\n",
      "Top predictions:\n",
      "\n",
      "          crying: 67.28%\n",
      "   carrying baby: 14.02%\n",
      "   crawling baby: 5.54%\n",
      "  baby waking up: 5.13%\n",
      "getting a haircut: 3.95%\n",
      "datasets/audios/train/crying\n",
      "MoviePy - Writing audio in datasets/audios/train/crying/_wRQiJdk2Rw_000004_000014.wav\n"
     ]
    },
    {
     "name": "stderr",
     "output_type": "stream",
     "text": [
      " 98%|█████████▊| 49/50 [02:55<00:02,  2.60s/it]"
     ]
    },
    {
     "name": "stdout",
     "output_type": "stream",
     "text": [
      "MoviePy - Done.\n",
      "Audio saved to datasets/audios/train/crying/_wRQiJdk2Rw_000004_000014.wav\n"
     ]
    },
    {
     "name": "stderr",
     "output_type": "stream",
     "text": [
      "100%|██████████| 50/50 [02:57<00:00,  3.55s/it]"
     ]
    },
    {
     "name": "stdout",
     "output_type": "stream",
     "text": [
      "Ground Truth: crying\n",
      "Top predictions:\n",
      "\n",
      "getting a haircut: 27.44%\n",
      "dancing macarena: 19.39%\n",
      "    making sushi: 10.16%\n",
      "     fixing hair: 6.28%\n",
      "riding mechanical bull: 3.81%\n",
      "31 / 50\n"
     ]
    },
    {
     "name": "stderr",
     "output_type": "stream",
     "text": [
      "\n"
     ]
    }
   ],
   "source": [
    "from tqdm import tqdm\n",
    "\n",
    "train_paths = list(dataset_root_path.glob(\"train/*/*.mp4\"))\n",
    "\n",
    "# Load model (Choose between versions '2022' or '2023')\n",
    "# The model weight will be downloaded automatically if `model_fp` is not specified\n",
    "clap_model = CLAP(version = '2023', use_cuda=True)\n",
    "\n",
    "correct = 0\n",
    "total = 0\n",
    "for video_path in tqdm(train_paths):\n",
    "    video_path = video_path.as_posix()\n",
    "    video = VideoFileClip(video_path)\n",
    "    if video.audio is None:\n",
    "        print(f\"This video {video_path} has no audio!\")\n",
    "    else:\n",
    "        audio_path = 'datasets/audios' + video_path[8:-3] + 'wav'\n",
    "        audio_dir = \"/\".join(audio_path.split(\"/\")[:-1])\n",
    "        print(audio_dir)\n",
    "        if not os.path.exists(audio_dir):\n",
    "                os.makedirs(audio_dir)\n",
    "        audio_arr = video.audio.write_audiofile(audio_path, verbose=False)\n",
    "        print(f\"Audio saved to {audio_path}\")\n",
    "\n",
    "    label = video_path.split('/')[-2]\n",
    "\n",
    "    with torch.no_grad():\n",
    "\n",
    "        # Extract text embeddings\n",
    "        text_embeddings = clap_model.get_text_embeddings([f\"This is a sound of {c}\"for c in class_labels])\n",
    "\n",
    "        # Extract audio embeddings\n",
    "        audio_embeddings = clap_model.get_audio_embeddings([audio_path])\n",
    "\n",
    "        # Compute similarity between audio and text embeddings \n",
    "        similarities = clap_model.compute_similarity(audio_embeddings, text_embeddings)\n",
    "\n",
    "    similarity = F.softmax(similarities, dim=1)\n",
    "    values, indices = similarity[0].topk(5)\n",
    "    pred_index = indices[0]\n",
    "\n",
    "    # Print the results\n",
    "    print(\"Ground Truth: {}\".format(video_path.split('/')[-2]))\n",
    "    print(\"Top predictions:\\n\")\n",
    "    for value, index in zip(values, indices):\n",
    "        print(f\"{class_labels[index]:>16s}: {100 * value.item():.2f}%\")\n",
    "\n",
    "    if label == class_labels[pred_index]: \n",
    "        correct += 1\n",
    "    total += 1\n",
    "\n",
    "print(correct, '/', total)"
   ]
  }
 ],
 "metadata": {
  "kernelspec": {
   "display_name": "base",
   "language": "python",
   "name": "python3"
  },
  "language_info": {
   "codemirror_mode": {
    "name": "ipython",
    "version": 3
   },
   "file_extension": ".py",
   "mimetype": "text/x-python",
   "name": "python",
   "nbconvert_exporter": "python",
   "pygments_lexer": "ipython3",
   "version": "3.8.10"
  }
 },
 "nbformat": 4,
 "nbformat_minor": 2
}
