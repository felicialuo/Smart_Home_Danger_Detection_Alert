{
 "cells": [
  {
   "cell_type": "code",
   "execution_count": 1,
   "metadata": {},
   "outputs": [
    {
     "name": "stdout",
     "output_type": "stream",
     "text": [
      "Requirement already satisfied: ftfy in c:\\users\\felicia\\.conda\\envs\\mmml\\lib\\site-packages (6.1.3)\n",
      "Requirement already satisfied: regex in c:\\users\\felicia\\.conda\\envs\\mmml\\lib\\site-packages (2023.10.3)\n",
      "Requirement already satisfied: tqdm in c:\\users\\felicia\\.conda\\envs\\mmml\\lib\\site-packages (4.66.1)\n",
      "Requirement already satisfied: wcwidth<0.3.0,>=0.2.12 in c:\\users\\felicia\\.conda\\envs\\mmml\\lib\\site-packages (from ftfy) (0.2.12)\n",
      "Requirement already satisfied: colorama in c:\\users\\felicia\\.conda\\envs\\mmml\\lib\\site-packages (from tqdm) (0.4.6)\n",
      "Collecting git+https://github.com/openai/CLIP.git\n",
      "  Cloning https://github.com/openai/CLIP.git to c:\\users\\felicia\\appdata\\local\\temp\\pip-req-build-hy_qrf_i\n",
      "  Resolved https://github.com/openai/CLIP.git to commit a1d071733d7111c9c014f024669f959182114e33\n",
      "  Preparing metadata (setup.py): started\n",
      "  Preparing metadata (setup.py): finished with status 'done'\n",
      "Requirement already satisfied: ftfy in c:\\users\\felicia\\.conda\\envs\\mmml\\lib\\site-packages (from clip==1.0) (6.1.3)\n",
      "Requirement already satisfied: regex in c:\\users\\felicia\\.conda\\envs\\mmml\\lib\\site-packages (from clip==1.0) (2023.10.3)\n",
      "Requirement already satisfied: tqdm in c:\\users\\felicia\\.conda\\envs\\mmml\\lib\\site-packages (from clip==1.0) (4.66.1)\n",
      "Requirement already satisfied: torch in c:\\users\\felicia\\.conda\\envs\\mmml\\lib\\site-packages (from clip==1.0) (2.2.1+cu118)\n",
      "Requirement already satisfied: torchvision in c:\\users\\felicia\\.conda\\envs\\mmml\\lib\\site-packages (from clip==1.0) (0.17.1+cu118)\n",
      "Requirement already satisfied: wcwidth<0.3.0,>=0.2.12 in c:\\users\\felicia\\.conda\\envs\\mmml\\lib\\site-packages (from ftfy->clip==1.0) (0.2.12)\n",
      "Requirement already satisfied: filelock in c:\\users\\felicia\\.conda\\envs\\mmml\\lib\\site-packages (from torch->clip==1.0) (3.13.1)\n",
      "Requirement already satisfied: typing-extensions>=4.8.0 in c:\\users\\felicia\\.conda\\envs\\mmml\\lib\\site-packages (from torch->clip==1.0) (4.8.0)\n",
      "Requirement already satisfied: sympy in c:\\users\\felicia\\.conda\\envs\\mmml\\lib\\site-packages (from torch->clip==1.0) (1.12)\n",
      "Requirement already satisfied: networkx in c:\\users\\felicia\\.conda\\envs\\mmml\\lib\\site-packages (from torch->clip==1.0) (3.1)\n",
      "Requirement already satisfied: jinja2 in c:\\users\\felicia\\.conda\\envs\\mmml\\lib\\site-packages (from torch->clip==1.0) (3.1.2)\n",
      "Requirement already satisfied: fsspec in c:\\users\\felicia\\.conda\\envs\\mmml\\lib\\site-packages (from torch->clip==1.0) (2023.10.0)\n",
      "Requirement already satisfied: numpy in c:\\users\\felicia\\.conda\\envs\\mmml\\lib\\site-packages (from torchvision->clip==1.0) (1.24.4)\n",
      "Requirement already satisfied: pillow!=8.3.*,>=5.3.0 in c:\\users\\felicia\\.conda\\envs\\mmml\\lib\\site-packages (from torchvision->clip==1.0) (10.1.0)\n",
      "Requirement already satisfied: colorama in c:\\users\\felicia\\.conda\\envs\\mmml\\lib\\site-packages (from tqdm->clip==1.0) (0.4.6)\n",
      "Requirement already satisfied: MarkupSafe>=2.0 in c:\\users\\felicia\\.conda\\envs\\mmml\\lib\\site-packages (from jinja2->torch->clip==1.0) (2.1.3)\n",
      "Requirement already satisfied: mpmath>=0.19 in c:\\users\\felicia\\.conda\\envs\\mmml\\lib\\site-packages (from sympy->torch->clip==1.0) (1.3.0)\n"
     ]
    },
    {
     "name": "stderr",
     "output_type": "stream",
     "text": [
      "  Running command git clone --filter=blob:none --quiet https://github.com/openai/CLIP.git 'C:\\Users\\felicia\\AppData\\Local\\Temp\\pip-req-build-hy_qrf_i'\n"
     ]
    }
   ],
   "source": [
    "! pip install ftfy regex tqdm\n",
    "! pip install git+https://github.com/openai/CLIP.git"
   ]
  },
  {
   "cell_type": "code",
   "execution_count": 2,
   "metadata": {},
   "outputs": [
    {
     "name": "stdout",
     "output_type": "stream",
     "text": [
      "Torch version: 2.2.1+cu118\n"
     ]
    },
    {
     "data": {
      "text/plain": [
       "['RN50',\n",
       " 'RN101',\n",
       " 'RN50x4',\n",
       " 'RN50x16',\n",
       " 'RN50x64',\n",
       " 'ViT-B/32',\n",
       " 'ViT-B/16',\n",
       " 'ViT-L/14',\n",
       " 'ViT-L/14@336px']"
      ]
     },
     "execution_count": 2,
     "metadata": {},
     "output_type": "execute_result"
    }
   ],
   "source": [
    "import numpy as np\n",
    "import torch\n",
    "from pkg_resources import packaging\n",
    "\n",
    "print(\"Torch version:\", torch.__version__)\n",
    "\n",
    "import clip\n",
    "\n",
    "clip.available_models()"
   ]
  },
  {
   "cell_type": "code",
   "execution_count": 3,
   "metadata": {},
   "outputs": [
    {
     "name": "stderr",
     "output_type": "stream",
     "text": [
      "100%|████████████████████████████████████████| 278M/278M [19:22<00:00, 251kiB/s]\n"
     ]
    },
    {
     "name": "stdout",
     "output_type": "stream",
     "text": [
      "Model parameters: 119,688,033\n",
      "Input resolution: 224\n",
      "Context length: 77\n",
      "Vocab size: 49408\n"
     ]
    }
   ],
   "source": [
    "device = \"cuda\" if torch.cuda.is_available() else \"cpu\"\n",
    "\n",
    "#model, preprocess = clip.load(\"ViT-B/32\", device)\n",
    "model, preprocess = clip.load(\"RN101\", device)\n",
    "model.eval()\n",
    "input_resolution = model.visual.input_resolution\n",
    "context_length = model.context_length\n",
    "vocab_size = model.vocab_size\n",
    "\n",
    "print(\"Model parameters:\", f\"{np.sum([int(np.prod(p.shape)) for p in model.parameters()]):,}\")\n",
    "print(\"Input resolution:\", input_resolution)\n",
    "print(\"Context length:\", context_length)\n",
    "print(\"Vocab size:\", vocab_size)"
   ]
  },
  {
   "cell_type": "code",
   "execution_count": 4,
   "metadata": {},
   "outputs": [
    {
     "name": "stdout",
     "output_type": "stream",
     "text": [
      "51 Unique classes: ['ApplyEyeMakeup', 'ApplyLipstick', 'Archery', 'BabyCrawling', 'BalanceBeam', 'BandMarching', 'BasketballDunk', 'BlowDryHair', 'BlowingCandles', 'BodyWeightSquats', 'Bowling', 'BoxingPunchingBag', 'BoxingSpeedBag', 'BrushingTeeth', 'CliffDiving', 'CricketBowling', 'CricketShot', 'CuttingInKitchen', 'FieldHockeyPenalty', 'FloorGymnastics', 'FrisbeeCatch', 'FrontCrawl', 'Haircut', 'HammerThrow', 'Hammering', 'HandStandPushups', 'HandstandWalking', 'HeadMassage', 'IceDancing', 'Knitting', 'LongJump', 'MoppingFloor', 'ParallelBars', 'PlayingCello', 'PlayingDaf', 'PlayingDhol', 'PlayingFlute', 'PlayingSitar', 'Rafting', 'ShavingBeard', 'Shotput', 'SkyDiving', 'SoccerPenalty', 'StillRings', 'SumoWrestling', 'Surfing', 'TableTennisShot', 'Typing', 'UnevenBars', 'WallPushups', 'WritingOnBoard'].\n"
     ]
    }
   ],
   "source": [
    "import pathlib\n",
    "dataset_root_path = pathlib.Path('datasets/UCF101/UCF-101')\n",
    "\n",
    "all_video_file_paths = (\n",
    "    list(dataset_root_path.glob(\"train/*/*.avi\"))\n",
    "    + list(dataset_root_path.glob(\"test_seen/*/*.avi\"))\n",
    "    + list(dataset_root_path.glob(\"test_unseen/*/*.avi\"))\n",
    ")\n",
    "all_video_file_paths[:5]\n",
    "\n",
    "class_labels = sorted({str(path).split(\"\\\\\")[-2] for path in all_video_file_paths})\n",
    "label2id = {label: i for i, label in enumerate(class_labels)}\n",
    "id2label = {i: label for label, i in label2id.items()}\n",
    "\n",
    "print(f\"{len(class_labels)} Unique classes: {class_labels}.\")"
   ]
  },
  {
   "cell_type": "code",
   "execution_count": 27,
   "metadata": {},
   "outputs": [],
   "source": [
    "# map seen unseen classes id to all\n",
    "\n",
    "seen_labels = sorted({str(path).split(\"\\\\\")[-2] for path in list(dataset_root_path.glob(\"test_seen/*/*.avi\"))})\n",
    "seen_label2id = {label: i for i, label in enumerate(seen_labels)}\n",
    "seen_id2label = {i: label for label, i in seen_label2id.items()}\n",
    "\n",
    "\n",
    "unseen_labels = sorted({str(path).split(\"\\\\\")[-2] for path in list(dataset_root_path.glob(\"test_unseen/*/*.avi\"))})\n",
    "unseen_label2id = {label: i for i, label in enumerate(unseen_labels)}\n",
    "unseen_id2label = {i: label for label, i in unseen_label2id.items()}\n",
    "\n",
    "seen_id2all_id = {i: label2id[label] for i, label in seen_id2label.items()}\n",
    "unseen_id2all_id = {i: label2id[label] for i, label in unseen_id2label.items()}\n"
   ]
  },
  {
   "cell_type": "code",
   "execution_count": 28,
   "metadata": {},
   "outputs": [
    {
     "name": "stdout",
     "output_type": "stream",
     "text": [
      "{0: 5, 1: 7, 2: 13, 3: 17, 4: 36, 5: 37, 6: 39, 7: 47, 8: 50}\n",
      "ALL {0: 'ApplyEyeMakeup', 1: 'ApplyLipstick', 2: 'Archery', 3: 'BabyCrawling', 4: 'BalanceBeam', 5: 'BandMarching', 6: 'BasketballDunk', 7: 'BlowDryHair', 8: 'BlowingCandles', 9: 'BodyWeightSquats', 10: 'Bowling', 11: 'BoxingPunchingBag', 12: 'BoxingSpeedBag', 13: 'BrushingTeeth', 14: 'CliffDiving', 15: 'CricketBowling', 16: 'CricketShot', 17: 'CuttingInKitchen', 18: 'FieldHockeyPenalty', 19: 'FloorGymnastics', 20: 'FrisbeeCatch', 21: 'FrontCrawl', 22: 'Haircut', 23: 'HammerThrow', 24: 'Hammering', 25: 'HandStandPushups', 26: 'HandstandWalking', 27: 'HeadMassage', 28: 'IceDancing', 29: 'Knitting', 30: 'LongJump', 31: 'MoppingFloor', 32: 'ParallelBars', 33: 'PlayingCello', 34: 'PlayingDaf', 35: 'PlayingDhol', 36: 'PlayingFlute', 37: 'PlayingSitar', 38: 'Rafting', 39: 'ShavingBeard', 40: 'Shotput', 41: 'SkyDiving', 42: 'SoccerPenalty', 43: 'StillRings', 44: 'SumoWrestling', 45: 'Surfing', 46: 'TableTennisShot', 47: 'Typing', 48: 'UnevenBars', 49: 'WallPushups', 50: 'WritingOnBoard'}\n",
      "unseen {0: 'BandMarching', 1: 'BlowDryHair', 2: 'BrushingTeeth', 3: 'CuttingInKitchen', 4: 'PlayingFlute', 5: 'PlayingSitar', 6: 'ShavingBeard', 7: 'Typing', 8: 'WritingOnBoard'}\n",
      "tensor([ 5.,  5., 13.])\n"
     ]
    }
   ],
   "source": [
    "print(unseen_id2all_id)\n",
    "print('ALL', id2label)\n",
    "print('unseen', unseen_id2label)\n",
    "\n",
    "ids = torch.tensor([0, 0, 2])\n",
    "\n",
    "mapped_ids = torch.zeros(ids.shape)\n",
    "for i in range(ids.shape[0]):\n",
    "    val = ids[i].item()\n",
    "    mapped_ids[i] = unseen_id2all_id[val]\n",
    "\n",
    "print(mapped_ids)"
   ]
  },
  {
   "cell_type": "code",
   "execution_count": 5,
   "metadata": {},
   "outputs": [],
   "source": [
    "clip_templates = {\n",
    "    'ApplyEyeMakeup': 'A person applying eye makeup carefully with brushes and cosmetics.',\n",
    "    'ApplyLipstick': 'An individual applying lipstick, focusing on the details of the lips.',\n",
    "    'Archery': 'A person holding a bow and aiming an arrow in an archery stance.',\n",
    "    'BabyCrawling': 'A baby crawling on the floor, moving forward on hands and knees.',\n",
    "    'BalanceBeam': 'An athlete performing on a balance beam, displaying agility and balance.',\n",
    "    'BandMarching': 'A marching band moving in formation while playing instruments.',\n",
    "    'BasketballDunk': 'A basketball player performing a dunk, leaping high towards the basket.',\n",
    "    'BlowDryHair': 'Someone blow drying hair, using a hairdryer to style it.',\n",
    "    'BlowingCandles': 'A person blowing out candles on a cake, possibly making a wish.',\n",
    "    'BodyWeightSquats': 'An individual doing body weight squats, showing exercise and fitness.',\n",
    "    'Bowling': 'A bowler throwing a bowling ball down a lane towards pins.',\n",
    "    'BoxingPunchingBag': 'A boxer practicing punches on a punching bag.',\n",
    "    'BoxingSpeedBag': 'A boxer training with a speed bag, improving hand-eye coordination.',\n",
    "    'BrushingTeeth': 'A person brushing their teeth with a toothbrush and toothpaste.',\n",
    "    'CliffDiving': 'An adventurer cliff diving into water from a high cliff.',\n",
    "    'CricketBowling': 'A cricket bowler in action, delivering the ball to the batsman.',\n",
    "    'CricketShot': 'A cricket batsman playing a shot with the cricket bat.',\n",
    "    'CuttingInKitchen': 'Someone cutting vegetables or ingredients in a kitchen setting.',\n",
    "    'FieldHockeyPenalty': 'A field hockey player taking a penalty shot at goal.',\n",
    "    'FloorGymnastics': 'A gymnast performing floor gymnastics, showing flexibility and strength.',\n",
    "    'FrisbeeCatch': 'A person catching a frisbee, showcasing agility and timing.',\n",
    "    'FrontCrawl': 'A swimmer doing the front crawl stroke in a pool.',\n",
    "    'Haircut': 'A professional giving a haircut to a client, using scissors and combs.',\n",
    "    'HammerThrow': 'An athlete throwing a hammer in a hammer throw competition.',\n",
    "    'Hammering': 'A person hammering a nail into wood or a similar surface.',\n",
    "    'HandStandPushups': 'An individual doing handstand pushups, showing strength and balance.',\n",
    "    'HandstandWalking': 'Someone walking on their hands, maintaining a handstand position.',\n",
    "    'HeadMassage': 'A person receiving a relaxing head massage.',\n",
    "    'IceDancing': 'Ice dancers performing a routine on an ice rink with grace and skill.',\n",
    "    'Knitting': 'An individual knitting with yarn and needles, creating a textile.',\n",
    "    'LongJump': 'An athlete performing a long jump, leaping into the sand pit.',\n",
    "    'MoppingFloor': 'Someone mopping a floor, cleaning it with a mop and bucket.',\n",
    "    'ParallelBars': 'A gymnast performing a routine on the parallel bars.',\n",
    "    'PlayingCello': 'A musician playing the cello, using a bow on the strings.',\n",
    "    'PlayingDaf': 'A person playing the daf, a type of frame drum.',\n",
    "    'PlayingDhol': 'An individual playing the dhol, a traditional drum.',\n",
    "    'PlayingFlute': 'A flutist playing the flute, producing melodious music.',\n",
    "    'PlayingSitar': 'A musician playing the sitar, an Indian stringed instrument.',\n",
    "    'Rafting': 'Adventurers rafting down a river, navigating rapids and waves.',\n",
    "    'ShavingBeard': 'A person shaving their beard with a razor or electric shaver.',\n",
    "    'Shotput': 'An athlete throwing a shot put in a track and field event.',\n",
    "    'SkyDiving': 'A skydiver free falling or parachuting from high altitude.',\n",
    "    'SoccerPenalty': 'A soccer player taking a penalty kick at goal.',\n",
    "    'StillRings': 'A gymnast performing on the still rings, showing strength and control.',\n",
    "    'SumoWrestling': 'Sumo wrestlers engaging in a match, showcasing power and technique.',\n",
    "    'Surfing': 'A surfer riding a wave on a surfboard, displaying balance and skill.',\n",
    "    'TableTennisShot': 'A player making a shot in table tennis, showing speed and precision.',\n",
    "    'Typing': 'Someone typing on a keyboard, their fingers moving swiftly across the keys.',\n",
    "    'UnevenBars': 'A gymnast performing a routine on the uneven bars, demonstrating agility and grace.',\n",
    "    'WallPushups': 'An individual doing wall pushups, using a wall for resistance training.',\n",
    "    'WritingOnBoard': 'A person writing on a board with a marker or chalk, conveying information.'\n",
    "    }"
   ]
  },
  {
   "cell_type": "code",
   "execution_count": 36,
   "metadata": {},
   "outputs": [
    {
     "name": "stderr",
     "output_type": "stream",
     "text": [
      "100%|██████████| 313/313 [00:27<00:00, 11.36it/s]\n",
      "100%|██████████| 35/35 [00:04<00:00,  8.26it/s]\n",
      "100%|██████████| 80/80 [00:22<00:00,  3.48it/s]\n"
     ]
    }
   ],
   "source": [
    "import pytorchvideo.data\n",
    "import torchvision\n",
    "\n",
    "from pytorchvideo.transforms import (\n",
    "    ApplyTransformToKey,\n",
    "    Normalize,\n",
    "    RandomShortSideScale,\n",
    "    RemoveKey,\n",
    "    ShortSideScale,\n",
    "    UniformTemporalSubsample,\n",
    ")\n",
    "\n",
    "from torchvision.transforms import (\n",
    "    Compose,\n",
    "    Lambda,\n",
    "    RandomCrop,\n",
    "    RandomHorizontalFlip,\n",
    "    Resize,\n",
    ")\n",
    "\n",
    "def _normalization(x):\n",
    "    return x/255.0\n",
    "\n",
    "def _permute(x):\n",
    "    return x.permute(1, 0, 2, 3)\n",
    "\n",
    "\n",
    "train_transform=Compose(\n",
    "                [\n",
    "                    # UniformTemporalSubsample(16),\n",
    "                    Lambda(_permute),\n",
    "                    Lambda(_normalization),\n",
    "                    Normalize(0.5, 0.5),\n",
    "                    Resize((224, 224)),\n",
    "                    RandomShortSideScale(min_size=256, max_size=320),\n",
    "                    RandomCrop((224, 224)),\n",
    "                    RandomHorizontalFlip(p=0.5),\n",
    "                ]\n",
    "            )\n",
    "\n",
    "\n",
    "test_transform=Compose(\n",
    "                [\n",
    "                    # UniformTemporalSubsample(16),\n",
    "                    Lambda(_permute),\n",
    "                    Lambda(_normalization),\n",
    "                    Normalize(0.5, 0.5),\n",
    "                    Resize((224, 224)),\n",
    "                ]\n",
    "            )\n",
    "\n",
    "\n",
    "train_dataset = torchvision.datasets.UCF101(\n",
    "    root=\"datasets/UCF101/UCF-101/train\", annotation_path=\"datasets/UCF101/UCF101TrainTestSplits-Kaggle/ucfTrainTestlist\",\n",
    "    frames_per_clip=1, step_between_clips=64, train=True, num_workers=12, output_format = \"TCHW\", transform=train_transform\n",
    ")\n",
    "\n",
    "\n",
    "\n",
    "test_seen_dataset = torchvision.datasets.UCF101(\n",
    "    root=\"datasets/UCF101/UCF-101/test_seen\", annotation_path=\"datasets/UCF101/UCF101TrainTestSplits-Kaggle/ucfTrainTestlist\",\n",
    "    frames_per_clip=1, step_between_clips=16, train=False,num_workers=12,output_format = \"TCHW\", transform=test_transform\n",
    ")\n",
    "\n",
    "test_unseen_dataset = torchvision.datasets.UCF101(\n",
    "    root=\"datasets/UCF101/UCF-101/test_unseen\", annotation_path=\"datasets/UCF101/UCF101TrainTestSplits-Kaggle/ucfTrainTestlist\",\n",
    "    frames_per_clip=1, step_between_clips=16, train=False, num_workers=12,output_format = \"TCHW\", transform=test_transform\n",
    ")"
   ]
  },
  {
   "cell_type": "code",
   "execution_count": 6,
   "metadata": {},
   "outputs": [
    {
     "name": "stdout",
     "output_type": "stream",
     "text": [
      "42 9\n"
     ]
    }
   ],
   "source": [
    "print(len(test_seen_dataset.classes), len(test_unseen_dataset.classes))"
   ]
  },
  {
   "cell_type": "code",
   "execution_count": 7,
   "metadata": {},
   "outputs": [
    {
     "name": "stderr",
     "output_type": "stream",
     "text": [
      "c:\\Users\\felicia\\.conda\\envs\\mmml\\lib\\site-packages\\torchvision\\io\\video.py:161: UserWarning: The pts_unit 'pts' gives wrong results. Please use pts_unit 'sec'.\n",
      "  warnings.warn(\"The pts_unit 'pts' gives wrong results. Please use pts_unit 'sec'.\")\n",
      "Clipping input data to the valid range for imshow with RGB data ([0..1] for floats or [0..255] for integers).\n"
     ]
    },
    {
     "data": {
      "image/png": "[encoded data removed]",
      "text/plain": [
       "<Figure size 640x480 with 1 Axes>"
      ]
     },
     "metadata": {},
     "output_type": "display_data"
    },
    {
     "name": "stdout",
     "output_type": "stream",
     "text": [
      "FloorGymnastics\n"
     ]
    }
   ],
   "source": [
    "import matplotlib.pyplot as plt\n",
    "\n",
    "index = 534\n",
    "\n",
    "plt.imshow(test_seen_dataset[index][0].squeeze(1).permute(1, 2, 0))\n",
    "plt.show()\n",
    "\n",
    "print(test_seen_dataset.classes[test_seen_dataset[index][2]])"
   ]
  },
  {
   "cell_type": "code",
   "execution_count": 8,
   "metadata": {},
   "outputs": [],
   "source": [
    "def custom_collate(batch):\n",
    "    filtered_batch = []\n",
    "    for video, _, label in batch:\n",
    "        filtered_batch.append((video, label))\n",
    "    return torch.utils.data.dataloader.default_collate(filtered_batch)\n",
    "\n",
    "test_seen_loader = torch.utils.data.DataLoader(test_seen_dataset, batch_size=512, shuffle=False, collate_fn=custom_collate)\n",
    "test_unseen_loader = torch.utils.data.DataLoader(test_unseen_dataset, batch_size=512, shuffle=False, collate_fn=custom_collate)"
   ]
  },
  {
   "cell_type": "code",
   "execution_count": 33,
   "metadata": {},
   "outputs": [],
   "source": [
    "from tqdm.notebook import tqdm\n",
    "\n",
    "\n",
    "\n",
    "\n",
    "def accuracy(output, target, topk=(1,)):\n",
    "    pred = output.topk(max(topk), 1, True, True)[1].t()\n",
    "    correct = pred.eq(target.view(1, -1).expand_as(pred))\n",
    "    return [float(correct[:k].reshape(-1).float().sum(0, keepdim=True).cpu().numpy()) for k in topk]\n",
    "     \n",
    "\n",
    "\n",
    "def inference(model, dataset, loader, all_class_labels, id_mapping):\n",
    "    top1, top3, top5 = 0, 0, 0\n",
    "    for inputs, labels in tqdm(loader, total=len(loader), leave=False):\n",
    "\n",
    "        image_input = inputs.squeeze(2).to(device)\n",
    "        labels = labels.to(device)\n",
    "\n",
    "    \n",
    "        text_inputs = torch.cat([clip.tokenize(f\"a photo of a {c}\")for c in all_class_labels]).to(device)\n",
    "\n",
    "        with torch.no_grad():\n",
    "            image_features = model.encode_image(image_input)\n",
    "            text_features = model.encode_text(text_inputs)\n",
    "\n",
    "        image_features /= image_features.norm(dim=-1, keepdim=True)\n",
    "        text_features /= text_features.norm(dim=-1, keepdim=True)\n",
    "        similarity = (100.0 * image_features @ text_features.T).softmax(dim=-1)\n",
    "\n",
    "        # map current dataset class id to all class id\n",
    "        mapped_labels = torch.zeros(labels.shape).to(device)\n",
    "        for i in range(labels.shape[0]):\n",
    "            val = labels[i].item()\n",
    "            mapped_labels[i] = id_mapping[val]\n",
    "        \n",
    "        acc1, acc3, acc5 = accuracy(similarity, mapped_labels, topk=(1, 3, 5))\n",
    "        top1 += acc1\n",
    "        top3 += acc3\n",
    "        top5 += acc5\n",
    "\n",
    "        \n",
    "\n",
    "\n",
    "        #correct += (indices.flatten() == labels).sum().item()\n",
    "\n",
    "    return top1/len(dataset), top1, top3/len(dataset), top3, top5/len(dataset), top5\n",
    "\n",
    "\n",
    "    \n",
    "    \n",
    "\n",
    "    \n",
    "\n",
    "\n"
   ]
  },
  {
   "cell_type": "code",
   "execution_count": 34,
   "metadata": {},
   "outputs": [
    {
     "data": {
      "application/vnd.jupyter.widget-view+json": {
       "model_id": "c33c07ec5d424ee38d7895c8a02915e9",
       "version_major": 2,
       "version_minor": 0
      },
      "text/plain": [
       "  0%|          | 0/3 [00:00<?, ?it/s]"
      ]
     },
     "metadata": {},
     "output_type": "display_data"
    },
    {
     "name": "stderr",
     "output_type": "stream",
     "text": [
      "c:\\Users\\felicia\\.conda\\envs\\mmml\\lib\\site-packages\\torchvision\\io\\video.py:161: UserWarning: The pts_unit 'pts' gives wrong results. Please use pts_unit 'sec'.\n",
      "  warnings.warn(\"The pts_unit 'pts' gives wrong results. Please use pts_unit 'sec'.\")\n"
     ]
    },
    {
     "name": "stdout",
     "output_type": "stream",
     "text": [
      "test_seen_dataset\n",
      "Top-1 accuracy: 56.780%, correct: 871/1534\n",
      "Top-3 accuracy: 77.379%, correct: 1187/1534\n",
      "Top-5 accuracy: 83.377%, correct: 1279/1534\n"
     ]
    },
    {
     "data": {
      "application/vnd.jupyter.widget-view+json": {
       "model_id": "426c15b16aa745aab16f151788fb9697",
       "version_major": 2,
       "version_minor": 0
      },
      "text/plain": [
       "  0%|          | 0/11 [00:00<?, ?it/s]"
      ]
     },
     "metadata": {},
     "output_type": "display_data"
    },
    {
     "name": "stdout",
     "output_type": "stream",
     "text": [
      "test_unseen_dataset\n",
      "Top-1 accuracy: 77.615%, correct: 4074/5249\n",
      "Top-3 accuracy: 88.303%, correct: 4635/5249\n",
      "Top-5 accuracy: 90.913%, correct: 4772/5249\n"
     ]
    }
   ],
   "source": [
    "\n",
    "top1_acc, top1, top3_acc, top3, top5_acc, top5 = inference(model, test_seen_dataset, test_seen_loader, class_labels, seen_id2all_id)\n",
    "print(\"test_seen_dataset\")\n",
    "print(f\"Top-1 accuracy: {top1_acc:.3%}, correct: {int(top1)}/{len(test_seen_dataset)}\")\n",
    "print(f\"Top-3 accuracy: {top3_acc:.3%}, correct: {int(top3)}/{len(test_seen_dataset)}\")\n",
    "print(f\"Top-5 accuracy: {top5_acc:.3%}, correct: {int(top5)}/{len(test_seen_dataset)}\")\n",
    "\n",
    "\n",
    "top1_acc, top1, top3_acc, top3, top5_acc, top5 = inference(model, test_unseen_dataset, test_unseen_loader, class_labels, unseen_id2all_id)\n",
    "print(\"test_unseen_dataset\")\n",
    "print(f\"Top-1 accuracy: {top1_acc:.3%}, correct: {int(top1)}/{len(test_unseen_dataset)}\")\n",
    "print(f\"Top-3 accuracy: {top3_acc:.3%}, correct: {int(top3)}/{len(test_unseen_dataset)}\")\n",
    "print(f\"Top-5 accuracy: {top5_acc:.3%}, correct: {int(top5)}/{len(test_unseen_dataset)}\")"
   ]
  },
  {
   "cell_type": "code",
   "execution_count": 37,
   "metadata": {},
   "outputs": [],
   "source": [
    "import torch.nn as nn\n",
    "import torch.optim as optim\n",
    "from tqdm.notebook import tqdm\n",
    "\n",
    "EPOCH = 10\n",
    "BATCH_SIZE = 128\n",
    "train_loader = torch.utils.data.DataLoader(train_dataset, batch_size=BATCH_SIZE, shuffle=False, pin_memory=True, collate_fn=custom_collate)\n",
    "\n",
    "#https://github.com/openai/CLIP/issues/57\n",
    "def convert_models_to_fp32(model): \n",
    "    for p in model.parameters(): \n",
    "        p.data = p.data.float() \n",
    "        p.grad.data = p.grad.data.float() \n",
    "\n",
    "if device == \"cpu\":\n",
    "    model.float()\n",
    "\n",
    "loss_img = nn.CrossEntropyLoss()\n",
    "loss_txt = nn.CrossEntropyLoss()\n",
    "# optimizer = optim.Adam(model.parameters(), lr=5e-5,betas=(0.9,0.98),eps=1e-6,weight_decay=0.2)\n",
    "optimizer = optim.Adam(model.parameters(), lr=1e-5)\n",
    "scheduler = optim.lr_scheduler.CosineAnnealingLR(optimizer, len(train_loader)*EPOCH)\n"
   ]
  },
  {
   "cell_type": "code",
   "execution_count": 38,
   "metadata": {},
   "outputs": [
    {
     "data": {
      "application/vnd.jupyter.widget-view+json": {
       "model_id": "4ee6efb7a54645bdab2275e50d233f89",
       "version_major": 2,
       "version_minor": 0
      },
      "text/plain": [
       "  0%|          | 0/84 [00:00<?, ?it/s]"
      ]
     },
     "metadata": {},
     "output_type": "display_data"
    },
    {
     "name": "stderr",
     "output_type": "stream",
     "text": [
      "c:\\Users\\felicia\\.conda\\envs\\mmml\\lib\\site-packages\\torchvision\\io\\video.py:161: UserWarning: The pts_unit 'pts' gives wrong results. Please use pts_unit 'sec'.\n",
      "  warnings.warn(\"The pts_unit 'pts' gives wrong results. Please use pts_unit 'sec'.\")\n"
     ]
    },
    {
     "data": {
      "application/vnd.jupyter.widget-view+json": {
       "model_id": "c0536a723759496b8f93bced901dc1ae",
       "version_major": 2,
       "version_minor": 0
      },
      "text/plain": [
       "  0%|          | 0/3 [00:00<?, ?it/s]"
      ]
     },
     "metadata": {},
     "output_type": "display_data"
    },
    {
     "name": "stdout",
     "output_type": "stream",
     "text": [
      "epoch 0, tr_loss 4.961542038690476, te_loss 5.8671875\n"
     ]
    },
    {
     "data": {
      "application/vnd.jupyter.widget-view+json": {
       "model_id": "78d97f637b7b48cd8456a50e757b69fb",
       "version_major": 2,
       "version_minor": 0
      },
      "text/plain": [
       "  0%|          | 0/84 [00:00<?, ?it/s]"
      ]
     },
     "metadata": {},
     "output_type": "display_data"
    },
    {
     "data": {
      "application/vnd.jupyter.widget-view+json": {
       "model_id": "b21af125e0f84617bec56a72b188ce1f",
       "version_major": 2,
       "version_minor": 0
      },
      "text/plain": [
       "  0%|          | 0/3 [00:00<?, ?it/s]"
      ]
     },
     "metadata": {},
     "output_type": "display_data"
    },
    {
     "name": "stdout",
     "output_type": "stream",
     "text": [
      "epoch 1, tr_loss 4.828078497023809, te_loss 5.674479166666667\n"
     ]
    },
    {
     "data": {
      "application/vnd.jupyter.widget-view+json": {
       "model_id": "b9bf6fe739074d5a9194abea4895d357",
       "version_major": 2,
       "version_minor": 0
      },
      "text/plain": [
       "  0%|          | 0/84 [00:00<?, ?it/s]"
      ]
     },
     "metadata": {},
     "output_type": "display_data"
    },
    {
     "data": {
      "application/vnd.jupyter.widget-view+json": {
       "model_id": "8a1c37e662f042acba8ba52ee323d0ed",
       "version_major": 2,
       "version_minor": 0
      },
      "text/plain": [
       "  0%|          | 0/3 [00:00<?, ?it/s]"
      ]
     },
     "metadata": {},
     "output_type": "display_data"
    },
    {
     "name": "stdout",
     "output_type": "stream",
     "text": [
      "epoch 2, tr_loss 4.791620163690476, te_loss 5.53125\n"
     ]
    },
    {
     "data": {
      "application/vnd.jupyter.widget-view+json": {
       "model_id": "b5b2a53e2a994f7e871eca62e768ace1",
       "version_major": 2,
       "version_minor": 0
      },
      "text/plain": [
       "  0%|          | 0/84 [00:00<?, ?it/s]"
      ]
     },
     "metadata": {},
     "output_type": "display_data"
    },
    {
     "data": {
      "application/vnd.jupyter.widget-view+json": {
       "model_id": "764546d7e68f4748b6e27edcead8e8e6",
       "version_major": 2,
       "version_minor": 0
      },
      "text/plain": [
       "  0%|          | 0/3 [00:00<?, ?it/s]"
      ]
     },
     "metadata": {},
     "output_type": "display_data"
    },
    {
     "name": "stdout",
     "output_type": "stream",
     "text": [
      "epoch 3, tr_loss 4.770042782738095, te_loss 5.463541666666667\n"
     ]
    },
    {
     "data": {
      "application/vnd.jupyter.widget-view+json": {
       "model_id": "90794f6419834a269d069b180e2a6875",
       "version_major": 2,
       "version_minor": 0
      },
      "text/plain": [
       "  0%|          | 0/84 [00:00<?, ?it/s]"
      ]
     },
     "metadata": {},
     "output_type": "display_data"
    },
    {
     "data": {
      "application/vnd.jupyter.widget-view+json": {
       "model_id": "15ac86aea26545d3ba4928a1e5fa68bb",
       "version_major": 2,
       "version_minor": 0
      },
      "text/plain": [
       "  0%|          | 0/3 [00:00<?, ?it/s]"
      ]
     },
     "metadata": {},
     "output_type": "display_data"
    },
    {
     "name": "stdout",
     "output_type": "stream",
     "text": [
      "epoch 4, tr_loss 4.748372395833333, te_loss 5.479166666666667\n"
     ]
    },
    {
     "data": {
      "application/vnd.jupyter.widget-view+json": {
       "model_id": "fd6131a9dac14e95a14459c0f792199e",
       "version_major": 2,
       "version_minor": 0
      },
      "text/plain": [
       "  0%|          | 0/84 [00:00<?, ?it/s]"
      ]
     },
     "metadata": {},
     "output_type": "display_data"
    },
    {
     "data": {
      "application/vnd.jupyter.widget-view+json": {
       "model_id": "5fce6b141b244015831c7466fdb4b916",
       "version_major": 2,
       "version_minor": 0
      },
      "text/plain": [
       "  0%|          | 0/3 [00:00<?, ?it/s]"
      ]
     },
     "metadata": {},
     "output_type": "display_data"
    },
    {
     "name": "stdout",
     "output_type": "stream",
     "text": [
      "epoch 5, tr_loss 4.735770089285714, te_loss 5.38671875\n"
     ]
    },
    {
     "data": {
      "application/vnd.jupyter.widget-view+json": {
       "model_id": "b79821ae63c14cf79fcb6ae2d4119a3e",
       "version_major": 2,
       "version_minor": 0
      },
      "text/plain": [
       "  0%|          | 0/84 [00:00<?, ?it/s]"
      ]
     },
     "metadata": {},
     "output_type": "display_data"
    },
    {
     "data": {
      "application/vnd.jupyter.widget-view+json": {
       "model_id": "8e7aa02836c747d9ad80ac120f9c989d",
       "version_major": 2,
       "version_minor": 0
      },
      "text/plain": [
       "  0%|          | 0/3 [00:00<?, ?it/s]"
      ]
     },
     "metadata": {},
     "output_type": "display_data"
    },
    {
     "name": "stdout",
     "output_type": "stream",
     "text": [
      "epoch 6, tr_loss 4.728608630952381, te_loss 5.384114583333333\n"
     ]
    },
    {
     "data": {
      "application/vnd.jupyter.widget-view+json": {
       "model_id": "8d38de4417264d14944c277e814ba9b9",
       "version_major": 2,
       "version_minor": 0
      },
      "text/plain": [
       "  0%|          | 0/84 [00:00<?, ?it/s]"
      ]
     },
     "metadata": {},
     "output_type": "display_data"
    },
    {
     "data": {
      "application/vnd.jupyter.widget-view+json": {
       "model_id": "15055bae137e4c0f8fd57cb9b0acdb51",
       "version_major": 2,
       "version_minor": 0
      },
      "text/plain": [
       "  0%|          | 0/3 [00:00<?, ?it/s]"
      ]
     },
     "metadata": {},
     "output_type": "display_data"
    },
    {
     "name": "stdout",
     "output_type": "stream",
     "text": [
      "epoch 7, tr_loss 4.726981026785714, te_loss 5.385416666666667\n"
     ]
    },
    {
     "data": {
      "application/vnd.jupyter.widget-view+json": {
       "model_id": "ff46737eb4a242ed813e1f4db00d22e3",
       "version_major": 2,
       "version_minor": 0
      },
      "text/plain": [
       "  0%|          | 0/84 [00:00<?, ?it/s]"
      ]
     },
     "metadata": {},
     "output_type": "display_data"
    },
    {
     "data": {
      "application/vnd.jupyter.widget-view+json": {
       "model_id": "79b1328a3eef46ffa967eaea16cfe6e6",
       "version_major": 2,
       "version_minor": 0
      },
      "text/plain": [
       "  0%|          | 0/3 [00:00<?, ?it/s]"
      ]
     },
     "metadata": {},
     "output_type": "display_data"
    },
    {
     "name": "stdout",
     "output_type": "stream",
     "text": [
      "epoch 8, tr_loss 4.7253534226190474, te_loss 5.385416666666667\n"
     ]
    },
    {
     "data": {
      "application/vnd.jupyter.widget-view+json": {
       "model_id": "66a9a0d4fc884855b5710e0c2e4ad4bb",
       "version_major": 2,
       "version_minor": 0
      },
      "text/plain": [
       "  0%|          | 0/84 [00:00<?, ?it/s]"
      ]
     },
     "metadata": {},
     "output_type": "display_data"
    },
    {
     "data": {
      "application/vnd.jupyter.widget-view+json": {
       "model_id": "5ce9b8d20d814d0a9765fcd1e64cf92a",
       "version_major": 2,
       "version_minor": 0
      },
      "text/plain": [
       "  0%|          | 0/3 [00:00<?, ?it/s]"
      ]
     },
     "metadata": {},
     "output_type": "display_data"
    },
    {
     "name": "stdout",
     "output_type": "stream",
     "text": [
      "epoch 9, tr_loss 4.724934895833333, te_loss 5.384114583333333\n"
     ]
    }
   ],
   "source": [
    "best_te_loss = 1e5\n",
    "best_ep = -1\n",
    "losses = []\n",
    "for epoch in range(EPOCH):\n",
    "    step = 0\n",
    "    tr_loss = 0\n",
    "    model.train()\n",
    "    pbar = tqdm(train_loader, leave=False)\n",
    "    for batch in pbar:\n",
    "        step += 1\n",
    "        optimizer.zero_grad()\n",
    "\n",
    "        images, texts = batch\n",
    "        images = images.squeeze(2).to(device)\n",
    "\n",
    "\n",
    "        text_input = torch.cat([clip.tokenize(f\"a photo of a {train_dataset.classes[c]}\")for c in texts]).to(device)\n",
    "\n",
    "        logits_per_image, logits_per_text = model(images, text_input)\n",
    "        ground_truth = torch.arange(len(images)).to(device)\n",
    "\n",
    "        total_loss = (loss_img(logits_per_image, ground_truth) + loss_txt(logits_per_text, ground_truth))/2\n",
    "        total_loss.backward()\n",
    "        losses.append(total_loss.item())\n",
    "        tr_loss += total_loss.item()\n",
    "        if device == \"cpu\":\n",
    "            optimizer.step()\n",
    "            scheduler.step()\n",
    "        else:\n",
    "            convert_models_to_fp32(model)\n",
    "            optimizer.step()\n",
    "            scheduler.step()\n",
    "            clip.model.convert_weights(model)\n",
    "        pbar.set_description(f\"train batchCE: {total_loss.item()}\", refresh=True)\n",
    "    tr_loss /= step\n",
    "    \n",
    "    step = 0\n",
    "    te_loss = 0\n",
    "    with torch.no_grad():\n",
    "        model.eval()\n",
    "        test_pbar = tqdm(test_seen_loader, leave=False)\n",
    "        for batch in test_pbar:\n",
    "            step += 1\n",
    "            images, texts = batch\n",
    "            images = images.squeeze(2).to(device)\n",
    "            text_input = torch.cat([clip.tokenize(f\"a photo of a {test_seen_dataset.classes[c]}\")for c in texts]).to(device)\n",
    "            logits_per_image, logits_per_text = model(images, text_input)\n",
    "            ground_truth = torch.arange(len(images)).to(device)\n",
    "\n",
    "            total_loss = (loss_img(logits_per_image,ground_truth) + loss_txt(logits_per_text,ground_truth))/2\n",
    "            te_loss += total_loss.item()\n",
    "            test_pbar.set_description(f\"test batchCE: {total_loss.item()}\", refresh=True)\n",
    "        te_loss /= step\n",
    "        \n",
    "    print(f\"epoch {epoch}, tr_loss {tr_loss}, te_loss {te_loss}\")"
   ]
  },
  {
   "cell_type": "code",
   "execution_count": 39,
   "metadata": {},
   "outputs": [
    {
     "data": {
      "image/png": "[encoded data removed]",
      "text/plain": [
       "<Figure size 640x480 with 1 Axes>"
      ]
     },
     "metadata": {},
     "output_type": "display_data"
    }
   ],
   "source": [
    "import matplotlib.pyplot as plt\n",
    "\n",
    "plt.plot(losses)\n",
    "plt.show()"
   ]
  },
  {
   "cell_type": "code",
   "execution_count": 40,
   "metadata": {},
   "outputs": [
    {
     "data": {
      "application/vnd.jupyter.widget-view+json": {
       "model_id": "a806091e37734a4f835f5349e7c68f07",
       "version_major": 2,
       "version_minor": 0
      },
      "text/plain": [
       "  0%|          | 0/3 [00:00<?, ?it/s]"
      ]
     },
     "metadata": {},
     "output_type": "display_data"
    },
    {
     "name": "stdout",
     "output_type": "stream",
     "text": [
      "test_seen_dataset\n",
      "Top-1 accuracy: 35.528%, correct: 545/1534\n",
      "Top-3 accuracy: 58.866%, correct: 903/1534\n",
      "Top-5 accuracy: 68.905%, correct: 1057/1534\n"
     ]
    },
    {
     "data": {
      "application/vnd.jupyter.widget-view+json": {
       "model_id": "21f5634dcf574d9a99e40c9aa2c72da7",
       "version_major": 2,
       "version_minor": 0
      },
      "text/plain": [
       "  0%|          | 0/11 [00:00<?, ?it/s]"
      ]
     },
     "metadata": {},
     "output_type": "display_data"
    },
    {
     "name": "stdout",
     "output_type": "stream",
     "text": [
      "test_unseen_dataset\n",
      "Top-1 accuracy: 46.542%, correct: 2443/5249\n",
      "Top-3 accuracy: 67.918%, correct: 3565/5249\n",
      "Top-5 accuracy: 76.167%, correct: 3998/5249\n"
     ]
    }
   ],
   "source": [
    "model.eval()\n",
    "\n",
    "top1_acc, top1, top3_acc, top3, top5_acc, top5 = inference(model, test_seen_dataset, test_seen_loader, class_labels, seen_id2all_id)\n",
    "print(\"test_seen_dataset\")\n",
    "print(f\"Top-1 accuracy: {top1_acc:.3%}, correct: {int(top1)}/{len(test_seen_dataset)}\")\n",
    "print(f\"Top-3 accuracy: {top3_acc:.3%}, correct: {int(top3)}/{len(test_seen_dataset)}\")\n",
    "print(f\"Top-5 accuracy: {top5_acc:.3%}, correct: {int(top5)}/{len(test_seen_dataset)}\")\n",
    "\n",
    "\n",
    "top1_acc, top1, top3_acc, top3, top5_acc, top5 = inference(model, test_unseen_dataset, test_unseen_loader, class_labels, unseen_id2all_id)\n",
    "print(\"test_unseen_dataset\")\n",
    "print(f\"Top-1 accuracy: {top1_acc:.3%}, correct: {int(top1)}/{len(test_unseen_dataset)}\")\n",
    "print(f\"Top-3 accuracy: {top3_acc:.3%}, correct: {int(top3)}/{len(test_unseen_dataset)}\")\n",
    "print(f\"Top-5 accuracy: {top5_acc:.3%}, correct: {int(top5)}/{len(test_unseen_dataset)}\")"
   ]
  }
 ],
 "metadata": {
  "kernelspec": {
   "display_name": "systoolchain",
   "language": "python",
   "name": "python3"
  },
  "language_info": {
   "codemirror_mode": {
    "name": "ipython",
    "version": 3
   },
   "file_extension": ".py",
   "mimetype": "text/x-python",
   "name": "python",
   "nbconvert_exporter": "python",
   "pygments_lexer": "ipython3",
   "version": "3.8.10"
  }
 },
 "nbformat": 4,
 "nbformat_minor": 2
}
