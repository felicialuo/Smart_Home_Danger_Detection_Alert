{
 "cells": [
  {
   "cell_type": "code",
   "execution_count": 1,
   "metadata": {},
   "outputs": [],
   "source": [
    "# Class label csv path\n",
    "labels_csv_path = 'datasets/home_labels.csv'\n",
    "# output result csv path\n",
    "output_vclip_path = 'outputs/vclip_results.csv'\n",
    "output_clap_path = 'outputs/clap_results.csv'"
   ]
  },
  {
   "cell_type": "markdown",
   "metadata": {},
   "source": [
    "### Load Data from CSV"
   ]
  },
  {
   "cell_type": "code",
   "execution_count": 2,
   "metadata": {},
   "outputs": [
    {
     "name": "stdout",
     "output_type": "stream",
     "text": [
      "Intel MKL WARNING: Support of Intel(R) Streaming SIMD Extensions 4.2 (Intel(R) SSE4.2) enabled only processors has been deprecated. Intel oneAPI Math Kernel Library 2025.0 will require Intel(R) Advanced Vector Extensions (Intel(R) AVX) instructions.\n",
      "Intel MKL WARNING: Support of Intel(R) Streaming SIMD Extensions 4.2 (Intel(R) SSE4.2) enabled only processors has been deprecated. Intel oneAPI Math Kernel Library 2025.0 will require Intel(R) Advanced Vector Extensions (Intel(R) AVX) instructions.\n",
      "70 Unique classes: ['No people is in the room', 'Studying', 'Typing', 'Using computer', 'Making phone calls', 'Play with phone/tablet', 'Playing with pets', 'Sitting down', 'Reading', 'Writing', 'Setting table', 'Eating food', 'Dining', 'Cooking', 'Sleeping', 'Laying down', 'Picking up objects', 'Brushing teeth', 'Showering', 'Playing music', 'TV', 'Cleaning', 'Doing laundry', 'Mopping floor', 'Vacumning', 'Organizing space', 'Sewing', 'Knitting', 'Decorating', 'Party', 'Chatting', 'Talking', 'Singing', 'Laughing', 'Speaking', 'Dancing', 'Drinking', 'Meditating', 'Drawing', 'Painting', 'Playing board games', 'Playing video games', 'Taking photos', 'Potluck', 'Working', 'Exercising', 'Walking', 'Running', 'Celebrating', 'Physical altercations', 'Verbal confrontations', 'Using drug', 'Theft or vandalism', 'Fighting', 'Domestic violence', 'Break in', 'Glass breaking', 'Unattended cooking', 'Smoke or Fire or Open flame', 'Smoking', 'Gunshot', 'Making noise', 'Falling down', 'Tripping', 'Crying', 'Suffocating', 'Choking', 'Furniture Collapse', 'Flooding', 'Normal'].\n"
     ]
    }
   ],
   "source": [
    "import csv\n",
    "import numpy as np\n",
    "\n",
    "label2id = {}\n",
    "id2label = {}\n",
    "with open(labels_csv_path, mode='r') as file:\n",
    "    csv_reader = csv.reader(file)\n",
    "\n",
    "    for i, row in enumerate(csv_reader):\n",
    "        class_name = row[0]\n",
    "        label2id[class_name] = i\n",
    "        id2label[i] = class_name\n",
    "\n",
    "class_labels = list(label2id.keys())\n",
    "\n",
    "print(f\"{len(class_labels)} Unique classes: {class_labels}.\")"
   ]
  },
  {
   "cell_type": "code",
   "execution_count": 11,
   "metadata": {},
   "outputs": [],
   "source": [
    "import csv\n",
    "\n",
    "def read_results(csv_path):\n",
    "    results = []\n",
    "    labels = []\n",
    "    with open(csv_path, mode='r') as file:\n",
    "        csv_reader = csv.reader(file)\n",
    "        next(csv_reader)\n",
    "\n",
    "        for row in csv_reader:\n",
    "            file_name, label, top1_pred, top1_conf, top2_pred, top2_conf, top3_pred, top3_conf, top4_pred, top4_conf, top5_pred, top5_conf = row\n",
    "            labels.append(int(label))\n",
    "            results.append([float(top1_pred), float(top1_conf), float(top2_pred), float(top2_conf), \n",
    "                            float(top3_pred), float(top3_conf), float(top4_pred), float(top4_conf), \n",
    "                            float(top5_pred), float(top5_conf)])\n",
    "\n",
    "    # results = np.asarray(results).astype(float)\n",
    "    # labels  = np.asarray(labels).astype(int)\n",
    "    return results, labels"
   ]
  },
  {
   "cell_type": "code",
   "execution_count": 12,
   "metadata": {},
   "outputs": [],
   "source": [
    "vclip_results, vclip_labels = read_results(output_vclip_path)\n",
    "clap_results, clap_labels = read_results(output_clap_path)"
   ]
  },
  {
   "cell_type": "code",
   "execution_count": 33,
   "metadata": {},
   "outputs": [
    {
     "name": "stdout",
     "output_type": "stream",
     "text": [
      "424 10\n",
      "424 64\n",
      "[64.0, 98.6816, 66.0, 0.1019, 33.0, 0.098, 0.0, 0.098, 67.0, 0.0493]\n",
      "64\n"
     ]
    }
   ],
   "source": [
    "print(len(vclip_results), len(vclip_results[0]))\n",
    "print(len(clap_results), clap_labels[0])\n",
    "print(vclip_results[0])\n",
    "print(vclip_labels[0])\n"
   ]
  },
  {
   "cell_type": "markdown",
   "metadata": {},
   "source": [
    "# Train"
   ]
  },
  {
   "cell_type": "code",
   "execution_count": 59,
   "metadata": {},
   "outputs": [
    {
     "name": "stdout",
     "output_type": "stream",
     "text": [
      "(848, 20)\n",
      "(848,)\n"
     ]
    }
   ],
   "source": [
    "X = []\n",
    "y = []\n",
    "for i in range(len(vclip_results)):\n",
    "    if vclip_results[i] != [-1, 0] * 5 and clap_results[i] != [-1, 0] * 5:\n",
    "        # 212 count\n",
    "        X.append(vclip_results[i] + clap_results[i]) \n",
    "        y.append(vclip_labels[i])\n",
    "        X.append(vclip_results[i] + [-1, 0] * 5) \n",
    "        y.append(vclip_labels[i])\n",
    "        X.append([-1, 0] * 5 + clap_results[i]) \n",
    "        y.append(vclip_labels[i])\n",
    "    else:\n",
    "        X.append(vclip_results[i] + clap_results[i]) \n",
    "        y.append(vclip_labels[i])\n",
    "\n",
    "X = np.asarray(X)\n",
    "y = np.asarray(y)\n",
    "print(X.shape) # target (848, 20)\n",
    "print(y.shape) # target (848,)"
   ]
  },
  {
   "cell_type": "code",
   "execution_count": 60,
   "metadata": {},
   "outputs": [
    {
     "name": "stdout",
     "output_type": "stream",
     "text": [
      "(636, 20) (636,) (212, 20) (212,)\n",
      "Accuracy for\n",
      "SVC(kernel='poly'): 82.08%\n",
      "KNeighborsClassifier(): 84.91%\n",
      "KNeighborsClassifier(n_neighbors=12): 82.55%\n",
      "RandomForestClassifier(): 90.57%\n",
      "RandomForestClassifier(criterion='entropy'): 91.51%\n",
      "RandomForestClassifier(criterion='log_loss'): 91.51%\n",
      "RandomForestClassifier(criterion='entropy', n_estimators=50): 91.04%\n",
      "RandomForestClassifier(criterion='entropy', max_depth=5, n_estimators=30): 88.68%\n",
      "Average accuracy across 8 ML models is 87.85%\n"
     ]
    }
   ],
   "source": [
    "from sklearn.ensemble import RandomForestClassifier\n",
    "from sklearn.svm import SVC\n",
    "from sklearn.neighbors import KNeighborsClassifier\n",
    "from sklearn.model_selection import KFold, train_test_split\n",
    "from sklearn.inspection import permutation_importance\n",
    "\n",
    "\n",
    "# kf = KFold(n_splits=50)\n",
    "\n",
    "X_train, X_test, y_train, y_test = train_test_split(X, y, test_size=0.25, random_state=10)\n",
    "print(X_train.shape, y_train.shape, X_test.shape, y_test.shape)\n",
    "\n",
    "classifiers = [\n",
    "               SVC(kernel='poly'),\n",
    "               KNeighborsClassifier(),\n",
    "               KNeighborsClassifier(n_neighbors=12),\n",
    "               RandomForestClassifier(),\n",
    "               RandomForestClassifier(criterion='entropy'),\n",
    "               RandomForestClassifier(criterion='log_loss'),\n",
    "               RandomForestClassifier(n_estimators=50, criterion='entropy'),\n",
    "               RandomForestClassifier(n_estimators=30, criterion='entropy', max_depth=5)\n",
    "            ]\n",
    "\n",
    "print(\"Accuracy for\")\n",
    "all_accuracies = []\n",
    "for clf_model in classifiers:\n",
    "    # accuracy = []\n",
    "    # for train_index, test_index in kf.split(X):\n",
    "    #     X_train, X_test = X[train_index], X[test_index]\n",
    "    #     y_train, y_test = Y[train_index], Y[test_index]\n",
    "    #     clf_model.fit(X_train, y_train)\n",
    "    #     accuracy.append(clf_model.score(X_test, y_test))\n",
    "\n",
    "    # print(\"%s: %.2f%%\" % (clf_model, np.mean(accuracy) * 100))\n",
    "    # all_accuracies.append(np.mean(accuracy))\n",
    "\n",
    "    clf_model.fit(X_train, y_train)\n",
    "    accuracy = clf_model.score(X_test, y_test)\n",
    "    print(\"%s: %.2f%%\" % (clf_model, accuracy * 100))\n",
    "    all_accuracies.append(accuracy)\n",
    "\n",
    "    \n",
    "\n",
    "print(\"Average accuracy across\", len(classifiers), \"ML models is %.2f%%\" % (np.mean(all_accuracies) * 100))\n",
    "\n"
   ]
  },
  {
   "cell_type": "code",
   "execution_count": 61,
   "metadata": {},
   "outputs": [],
   "source": [
    "selected = 4\n",
    "selected_model = classifiers[selected]\n",
    "\n",
    "y_pred = selected_model.predict(X_test)\n"
   ]
  },
  {
   "cell_type": "code",
   "execution_count": 62,
   "metadata": {},
   "outputs": [
    {
     "data": {
      "text/plain": [
       "['trained_RF_ensemble.joblib']"
      ]
     },
     "execution_count": 62,
     "metadata": {},
     "output_type": "execute_result"
    }
   ],
   "source": [
    "import joblib\n",
    "\n",
    "# Save the model to a file\n",
    "joblib.dump(selected_model, 'trained_RF_ensemble.joblib')"
   ]
  },
  {
   "cell_type": "code",
   "execution_count": 63,
   "metadata": {},
   "outputs": [
    {
     "name": "stdout",
     "output_type": "stream",
     "text": [
      "[69 69 58 69 69 69 64 64 69 56 69 69 69 64 69 64 69 64 69 69 69 64 69 69\n",
      " 64 60 64 69 56 69 58 64 69 69 69 69 69 60 56 56 69 69 56 69 69 69 64 69\n",
      " 69 69 69 69 58 69 69 69 58 69 69 69 69 64 56 56 69 69 60 56 69 64 69 56\n",
      " 69 56 69 69 69 69 69 69 64 60 69 69 64 69 69 69 69 64 69 69 69 69 69 56\n",
      " 64 56 60 69 69 69 69 69 69 69 56 64 60 64 60 69 69 69 69 64 69 69 60 69\n",
      " 69 69 62 69 69 69 69 56 69 69 69 69 69 69 69 69 69 69 69 69 64 69 69 60\n",
      " 69 69 69 56 64 69 69 69 69 69 69 69 60 69 64 56 69 64 69 56 62 69 69 69\n",
      " 69 60 69 69 62 69 64 69 69 69 69 69 64 69 64 64 64 69 56 69 69 69 69 69\n",
      " 69 69 69 69 64 60 69 60 69 69 69 69 64 58 69 64 64 64 69 58]\n"
     ]
    }
   ],
   "source": [
    "print(y_pred)\n"
   ]
  },
  {
   "cell_type": "markdown",
   "metadata": {},
   "source": [
    "# Per-class Accuracy"
   ]
  },
  {
   "cell_type": "code",
   "execution_count": 64,
   "metadata": {},
   "outputs": [
    {
     "name": "stdout",
     "output_type": "stream",
     "text": [
      "Normal: 126 / 126\n",
      "Smoke or Fire or Open flame: 6 / 8\n",
      "Crying: 32 / 34\n",
      "Glass breaking: 16 / 19\n",
      "Gunshot: 11 / 14\n",
      "Falling down: 3 / 11\n"
     ]
    }
   ],
   "source": [
    "from collections import defaultdict\n",
    "\n",
    "correct = defaultdict(int)\n",
    "total = defaultdict(int)\n",
    "for i, label in enumerate(y_test):\n",
    "    total[label] += 1\n",
    "    if label == y_pred[i]:\n",
    "        correct[label] += 1\n",
    "        \n",
    "for label in total:\n",
    "    print(f\"{id2label[label]}: {correct[label]} / {total[label]}\")"
   ]
  },
  {
   "cell_type": "code",
   "execution_count": 65,
   "metadata": {},
   "outputs": [
    {
     "name": "stdout",
     "output_type": "stream",
     "text": [
      "Normal\n",
      "Normal\n",
      "Normal\n",
      "Normal\n",
      "Normal\n",
      "Normal\n",
      "Normal\n",
      "Normal\n",
      "Normal\n",
      "Normal\n",
      "Normal\n",
      "Normal\n",
      "Normal\n",
      "Normal\n",
      "Normal\n",
      "Normal\n",
      "Normal\n",
      "Normal\n",
      "Normal\n",
      "Normal\n",
      "Normal\n",
      "Normal\n",
      "Normal\n",
      "Normal\n",
      "Normal\n",
      "Normal\n",
      "Normal\n",
      "Normal\n",
      "Normal\n",
      "Normal\n",
      "Normal\n",
      "Normal\n",
      "Normal\n",
      "Normal\n",
      "Normal\n",
      "Normal\n",
      "Normal\n",
      "Normal\n",
      "Normal\n",
      "Normal\n",
      "Normal\n",
      "Normal\n",
      "Normal\n",
      "Normal\n",
      "Normal\n",
      "Normal\n",
      "Normal\n",
      "Normal\n",
      "Normal\n",
      "Normal\n",
      "Normal\n",
      "Normal\n",
      "Normal\n",
      "Normal\n",
      "Normal\n",
      "Normal\n",
      "Normal\n",
      "Normal\n",
      "Normal\n",
      "Normal\n",
      "Normal\n",
      "Normal\n",
      "Normal\n",
      "Normal\n",
      "Normal\n",
      "Normal\n",
      "Normal\n",
      "Normal\n",
      "Normal\n",
      "Normal\n",
      "Normal\n",
      "Normal\n",
      "Normal\n",
      "Normal\n",
      "Normal\n",
      "Normal\n",
      "Normal\n",
      "Normal\n",
      "Normal\n",
      "Normal\n",
      "Normal\n",
      "Normal\n",
      "Normal\n",
      "Normal\n",
      "Normal\n",
      "Normal\n",
      "Normal\n",
      "Normal\n",
      "Normal\n",
      "Normal\n",
      "Normal\n",
      "Normal\n",
      "Normal\n",
      "Normal\n",
      "Normal\n",
      "Normal\n",
      "Normal\n",
      "Normal\n",
      "Normal\n",
      "Normal\n",
      "Normal\n",
      "Normal\n",
      "Normal\n",
      "Normal\n",
      "Normal\n",
      "Normal\n",
      "Normal\n",
      "Normal\n",
      "Normal\n",
      "Normal\n",
      "Normal\n",
      "Normal\n",
      "Normal\n",
      "Normal\n",
      "Normal\n",
      "Normal\n",
      "Normal\n",
      "Normal\n",
      "Normal\n",
      "Normal\n",
      "Normal\n",
      "Normal\n",
      "Normal\n",
      "Normal\n",
      "Normal\n",
      "Normal\n"
     ]
    }
   ],
   "source": [
    "for i, label in enumerate(y_test):\n",
    "    if id2label[label] == \"Normal\":\n",
    "        pred = y_pred[i]\n",
    "        print(id2label[pred])"
   ]
  },
  {
   "cell_type": "markdown",
   "metadata": {},
   "source": [
    "# Feature Importance"
   ]
  },
  {
   "cell_type": "code",
   "execution_count": 66,
   "metadata": {},
   "outputs": [
    {
     "name": "stdout",
     "output_type": "stream",
     "text": [
      "Feature importance for SVC(kernel='poly') is [ 1.37185535e-01  8.67924528e-02  1.75707547e-02 -3.93081761e-05\n",
      "  2.75157233e-03  1.96540881e-04  4.83490566e-03  1.57232704e-04\n",
      "  1.43474843e-02  0.00000000e+00  9.22955975e-02  0.00000000e+00\n",
      "  4.59512579e-02  0.00000000e+00  5.46776730e-02  0.00000000e+00\n",
      "  2.29166667e-02  0.00000000e+00  3.20361635e-02  0.00000000e+00]\n",
      "Feature importance for KNeighborsClassifier() is [ 1.18985849e-01  1.12775157e-01  2.00864780e-02  3.93081761e-05\n",
      "  1.72169811e-02  1.21855346e-03  9.66981132e-03 -9.43396226e-04\n",
      "  1.65880503e-02 -9.43396226e-04  7.64544025e-02  0.00000000e+00\n",
      "  6.81996855e-02  0.00000000e+00  6.55660377e-02  0.00000000e+00\n",
      "  4.08018868e-02  0.00000000e+00  3.93867925e-02  0.00000000e+00]\n",
      "Feature importance for KNeighborsClassifier(n_neighbors=12) is [ 1.15762579e-01  9.90566038e-02  2.01257862e-02 -2.35849057e-04\n",
      "  9.55188679e-03  3.93081761e-05  8.09748428e-03 -7.46855346e-04\n",
      "  1.66666667e-02  0.00000000e+00  8.90723270e-02  0.00000000e+00\n",
      "  4.69732704e-02  0.00000000e+00  4.89779874e-02  0.00000000e+00\n",
      "  2.69261006e-02  0.00000000e+00  1.46619497e-02  0.00000000e+00]\n",
      "Feature importance for RandomForestClassifier() is [0.12806604 0.00247642 0.02189465 0.00176887 0.00129717 0.0086478\n",
      " 0.00499214 0.00448113 0.00106132 0.00208333 0.08423742 0.00165094\n",
      " 0.00856918 0.00090409 0.02869497 0.0019261  0.00153302 0.00341981\n",
      " 0.00137579 0.00224057]\n",
      "Feature importance for RandomForestClassifier(criterion='entropy') is [0.14583333 0.00353774 0.02106918 0.00216195 0.00090409 0.00625\n",
      " 0.00408805 0.01509434 0.00176887 0.01847484 0.07346698 0.00188679\n",
      " 0.01218553 0.00180818 0.02590409 0.00314465 0.00298742 0.0023978\n",
      " 0.00381289 0.00518868]\n"
     ]
    },
    {
     "data": {
      "image/png": "[encoded data removed]",
      "text/plain": [
       "<Figure size 640x480 with 1 Axes>"
      ]
     },
     "metadata": {},
     "output_type": "display_data"
    }
   ],
   "source": [
    "import matplotlib.pyplot as plt \n",
    "\n",
    "# feature permutation importance\n",
    "feature_names = list(range(1, 21))\n",
    "\n",
    "all_importances = []\n",
    "for clf_model in classifiers[:selected+1]:\n",
    "    importance = permutation_importance(clf_model, X_train, y_train, n_repeats=40, random_state=0)\n",
    "    all_importances.append(importance.importances_mean)\n",
    "    print(\"Feature importance for\", clf_model, \"is\", importance.importances_mean)\n",
    "\n",
    "all_importances = np.array(all_importances)\n",
    "\n",
    "# Plot \n",
    "num_classifiers, num_features = all_importances.shape\n",
    "bar_width = 0.25  # Width of the bars\n",
    "x_indices = np.arange(num_features)  # X-axis positions for the bars\n",
    "\n",
    "# Create a bar for each classifier\n",
    "for i in range(num_classifiers):\n",
    "    bars = plt.bar(x_indices + i * bar_width, all_importances[i], width=bar_width, label=str(classifiers[i]))\n",
    "    # Add rankings\n",
    "    rankings_id = np.argsort(all_importances[i])[::-1]\n",
    "    rankings = np.zeros(num_features)\n",
    "    for i, rank in enumerate(rankings_id):\n",
    "        rankings[rank] = i\n",
    "\n",
    "    # for bar, ranking in zip(bars, rankings):\n",
    "    #     plt.text(bar.get_x() + bar.get_width() / 2, bar.get_height(), f'#{int(ranking + 1)}', ha='center', va='bottom')\n",
    "\n",
    "# Labels and Legend\n",
    "plt.xlabel('Feature')\n",
    "plt.ylabel('Importance')\n",
    "plt.title('Feature Importances across Classifiers')\n",
    "plt.xticks(x_indices + bar_width * (num_classifiers - 1) / 2, feature_names)\n",
    "plt.legend(title='Classifiers', bbox_to_anchor=(1.05, 1), loc='upper left')\n",
    "\n",
    "plt.show()"
   ]
  }
 ],
 "metadata": {
  "kernelspec": {
   "display_name": "Python 3",
   "language": "python",
   "name": "python3"
  },
  "language_info": {
   "codemirror_mode": {
    "name": "ipython",
    "version": 3
   },
   "file_extension": ".py",
   "mimetype": "text/x-python",
   "name": "python",
   "nbconvert_exporter": "python",
   "pygments_lexer": "ipython3",
   "version": "3.11.5"
  }
 },
 "nbformat": 4,
 "nbformat_minor": 4
}
