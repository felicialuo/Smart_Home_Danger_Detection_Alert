{
 "cells": [
  {
   "cell_type": "code",
   "execution_count": 1,
   "metadata": {},
   "outputs": [],
   "source": [
    "# Class label csv path\n",
    "labels_csv_path = 'datasets/home_labels.csv'\n",
    "# output result csv path\n",
    "output_vclip_path = 'outputs/vclip_results.csv'\n",
    "output_clap_path = 'outputs/clap_results.csv'"
   ]
  },
  {
   "cell_type": "markdown",
   "metadata": {},
   "source": [
    "### Load Data from CSV"
   ]
  },
  {
   "cell_type": "code",
   "execution_count": 2,
   "metadata": {},
   "outputs": [
    {
     "name": "stdout",
     "output_type": "stream",
     "text": [
      "70 Unique classes: ['No people is in the room', 'Studying', 'Typing', 'Using computer', 'Making phone calls', 'Play with phone/tablet', 'Playing with pets', 'Sitting down', 'Reading', 'Writing', 'Setting table', 'Eating food', 'Dining', 'Cooking', 'Sleeping', 'Laying down', 'Picking up objects', 'Brushing teeth', 'Showering', 'Playing music', 'TV', 'Cleaning', 'Doing laundry', 'Mopping floor', 'Vacumning', 'Organizing space', 'Sewing', 'Knitting', 'Decorating', 'Party', 'Chatting', 'Talking', 'Singing', 'Laughing', 'Speaking', 'Dancing', 'Drinking', 'Meditating', 'Drawing', 'Painting', 'Playing board games', 'Playing video games', 'Taking photos', 'Potluck', 'Working', 'Exercising', 'Walking', 'Running', 'Celebrating', 'Physical altercations', 'Verbal confrontations', 'Using drug', 'Theft or vandalism', 'Fighting', 'Domestic violence', 'Break in', 'Glass breaking', 'Unattended cooking', 'Smoke or Fire or Open flame', 'Smoking', 'Gunshot', 'Making noise', 'Falling down', 'Tripping', 'Crying', 'Suffocating', 'Choking', 'Furniture Collapse', 'Flooding', 'Normal'].\n"
     ]
    }
   ],
   "source": [
    "import csv\n",
    "import numpy as np\n",
    "\n",
    "label2id = {}\n",
    "id2label = {}\n",
    "with open(labels_csv_path, mode='r') as file:\n",
    "    csv_reader = csv.reader(file)\n",
    "\n",
    "    for i, row in enumerate(csv_reader):\n",
    "        class_name = row[0]\n",
    "        label2id[class_name] = i\n",
    "        id2label[i] = class_name\n",
    "\n",
    "class_labels = list(label2id.keys())\n",
    "\n",
    "print(f\"{len(class_labels)} Unique classes: {class_labels}.\")"
   ]
  },
  {
   "cell_type": "code",
   "execution_count": 3,
   "metadata": {},
   "outputs": [],
   "source": [
    "import csv\n",
    "\n",
    "def read_results(csv_path):\n",
    "    results = []\n",
    "    labels = []\n",
    "    with open(csv_path, mode='r') as file:\n",
    "        csv_reader = csv.reader(file)\n",
    "        next(csv_reader)\n",
    "\n",
    "        for row in csv_reader:\n",
    "            file_name, label, top1_pred, top1_conf, top2_pred, top2_conf, top3_pred, top3_conf, top4_pred, top4_conf, top5_pred, top5_conf = row\n",
    "            labels.append(label)\n",
    "            results.append([top1_pred, top1_conf, top2_pred, top2_conf, top3_pred, top3_conf, top4_pred, top4_conf, top5_pred, top5_conf])\n",
    "\n",
    "    results = np.asarray(results).astype(float)\n",
    "    labels  = np.asarray(labels).astype(int)\n",
    "    return results, labels"
   ]
  },
  {
   "cell_type": "code",
   "execution_count": 4,
   "metadata": {},
   "outputs": [],
   "source": [
    "vclip_results, vclip_labels = read_results(output_vclip_path)\n",
    "clap_results, clap_labels = read_results(output_clap_path)"
   ]
  },
  {
   "cell_type": "code",
   "execution_count": 5,
   "metadata": {},
   "outputs": [
    {
     "name": "stdout",
     "output_type": "stream",
     "text": [
      "(422, 10) (422,)\n",
      "(422, 10) (422,)\n",
      "422\n",
      "[[6.40000e+01 9.86816e+01 6.60000e+01 ... 9.80000e-02 6.70000e+01\n",
      "  4.93000e-02]\n",
      " [6.40000e+01 9.43359e+01 1.40000e+01 ... 2.48900e-01 3.30000e+01\n",
      "  1.87900e-01]\n",
      " [6.40000e+01 9.84375e+01 3.30000e+01 ... 7.92000e-02 5.00000e+01\n",
      "  6.47000e-02]\n",
      " ...\n",
      " [5.80000e+01 5.86914e+01 5.50000e+01 ... 3.41490e+00 6.70000e+01\n",
      "  3.36300e+00]\n",
      " [5.80000e+01 5.59082e+01 5.20000e+01 ... 2.96330e+00 5.50000e+01\n",
      "  2.11790e+00]\n",
      " [5.80000e+01 2.98096e+01 6.70000e+01 ... 2.81680e+00 5.70000e+01\n",
      "  2.72980e+00]]\n",
      "[64 64 64 64 64 64 64 64 64 64 64 64 64 64 64 64 64 64 64 64 64 64 64 64\n",
      " 64 64 64 64 64 64 64 64 64 64 64 64 64 64 64 64 64 64 64 64 64 64 64 64\n",
      " 64 64 62 62 62 62 62 62 62 62 62 62 62 62 62 62 62 62 62 62 62 62 62 62\n",
      " 62 62 62 62 62 62 62 62 56 56 56 56 56 56 56 56 56 56 56 56 56 56 56 56\n",
      " 56 56 56 56 56 56 56 56 56 56 56 56 56 56 56 56 56 56 56 56 56 56 56 56\n",
      " 56 56 56 56 56 56 56 56 56 56 56 56 60 60 60 60 60 60 60 60 60 60 60 60\n",
      " 60 60 60 60 60 60 60 60 60 60 60 60 60 60 60 60 60 60 60 60 60 60 60 60\n",
      " 60 60 60 60 60 60 60 60 60 60 60 60 60 60 69 69 69 69 69 69 69 69 69 69\n",
      " 69 69 69 69 69 69 69 69 69 69 69 69 69 69 69 69 69 69 69 69 69 69 69 69\n",
      " 69 69 69 69 69 69 69 69 69 69 69 69 69 69 69 69 69 69 69 69 69 69 69 69\n",
      " 69 69 69 69 69 69 69 69 69 69 69 69 69 69 69 69 69 69 69 69 69 69 69 69\n",
      " 69 69 69 69 69 69 69 69 69 69 69 69 69 69 69 69 69 69 69 69 69 69 69 69\n",
      " 69 69 69 69 69 69 69 69 69 69 69 69 69 69 69 69 69 69 69 69 69 69 69 69\n",
      " 69 69 69 69 69 69 69 69 69 69 69 69 69 69 69 69 69 69 69 69 69 69 69 69\n",
      " 69 69 69 69 69 69 69 69 69 69 69 69 69 69 69 69 69 69 69 69 69 69 69 69\n",
      " 69 69 69 69 69 69 69 69 69 69 69 69 69 69 69 69 69 69 69 69 69 69 58 58\n",
      " 58 58 58 58 58 58 58 58 58 58 58 58 58 58 58 58 58 58 58 58 58 58 58 58\n",
      " 58 58 58 58 58 58 58 58 58 58 58 58 58 58]\n"
     ]
    }
   ],
   "source": [
    "print(vclip_results.shape, vclip_labels.shape)\n",
    "print(clap_results.shape, clap_labels.shape)\n",
    "print(sum(vclip_labels == clap_labels))\n",
    "print(vclip_results)\n",
    "print(vclip_labels)"
   ]
  },
  {
   "cell_type": "markdown",
   "metadata": {},
   "source": [
    "# Train"
   ]
  },
  {
   "cell_type": "code",
   "execution_count": 6,
   "metadata": {},
   "outputs": [
    {
     "name": "stdout",
     "output_type": "stream",
     "text": [
      "Leave one trial out cross-val accuracy for\n",
      "RandomForestClassifier(): 78.30%\n",
      "RandomForestClassifier(criterion='entropy'): 73.58%\n",
      "RandomForestClassifier(criterion='log_loss'): 72.64%\n",
      "Average accuracy across 3 ML models is 74.84%\n"
     ]
    }
   ],
   "source": [
    "from sklearn.ensemble import RandomForestClassifier\n",
    "from sklearn.svm import SVC\n",
    "from sklearn.neighbors import KNeighborsClassifier\n",
    "from sklearn.model_selection import KFold, train_test_split\n",
    "from sklearn.inspection import permutation_importance\n",
    "\n",
    "\n",
    "# kf = KFold(n_splits=50)\n",
    "\n",
    "X = np.hstack([vclip_results, clap_results])\n",
    "assert np.array_equal(vclip_labels, clap_labels)\n",
    "y = np.array(vclip_labels)\n",
    "\n",
    "X_train, X_test, y_train, y_test = train_test_split(X, y, test_size=0.25, random_state=10)\n",
    "\n",
    "classifiers = [\n",
    "            #    SVC(kernel='poly'),\n",
    "            #    KNeighborsClassifier(),\n",
    "            #    KNeighborsClassifier(n_neighbors=12),\n",
    "               RandomForestClassifier(),\n",
    "               RandomForestClassifier(criterion='entropy'),\n",
    "               RandomForestClassifier(criterion='log_loss'),\n",
    "               # RandomForestClassifier(n_estimators=50, criterion='entropy'),\n",
    "               # RandomForestClassifier(n_estimators=30, criterion='entropy', max_depth=5)\n",
    "            ]\n",
    "\n",
    "print(\"Leave one trial out cross-val accuracy for\")\n",
    "all_accuracies = []\n",
    "for clf_model in classifiers:\n",
    "    # accuracy = []\n",
    "    # for train_index, test_index in kf.split(X):\n",
    "    #     X_train, X_test = X[train_index], X[test_index]\n",
    "    #     y_train, y_test = Y[train_index], Y[test_index]\n",
    "    #     clf_model.fit(X_train, y_train)\n",
    "    #     accuracy.append(clf_model.score(X_test, y_test))\n",
    "\n",
    "    # print(\"%s: %.2f%%\" % (clf_model, np.mean(accuracy) * 100))\n",
    "    # all_accuracies.append(np.mean(accuracy))\n",
    "\n",
    "    clf_model.fit(X_train, y_train)\n",
    "    accuracy = clf_model.score(X_test, y_test)\n",
    "    print(\"%s: %.2f%%\" % (clf_model, accuracy * 100))\n",
    "    all_accuracies.append(accuracy)\n",
    "\n",
    "    \n",
    "\n",
    "print(\"Average accuracy across\", len(classifiers), \"ML models is %.2f%%\" % (np.mean(all_accuracies) * 100))\n",
    "\n"
   ]
  },
  {
   "cell_type": "markdown",
   "metadata": {},
   "source": [
    "# Per-class Accuracy"
   ]
  },
  {
   "cell_type": "code",
   "execution_count": 7,
   "metadata": {},
   "outputs": [],
   "source": [
    "selected = -1\n",
    "selected_model = classifiers[selected]\n",
    "\n",
    "y_pred = selected_model.predict(X_test)\n"
   ]
  },
  {
   "cell_type": "code",
   "execution_count": 8,
   "metadata": {},
   "outputs": [
    {
     "name": "stdout",
     "output_type": "stream",
     "text": [
      "[69 69 64 60 69 58 58 69 69 64 62 56 64 69 69 60 69 69 60 69 69 60 64 69\n",
      " 60 58 60 58 69 58 62 60 69 69 62 69 69 69 69 56 69 56 60 69 69 69 69 56\n",
      " 64 69 64 62 69 60 69 69 56 60 69 69 69 69 60 62 69 64 62 64 60 58 60 69\n",
      " 69 69 69 58 69 69 60 60 60 56 69 69 69 69 56 69 60 69 69 69 69 64 69 60\n",
      " 60 60 69 69 69 69 69 62 69 58]\n"
     ]
    }
   ],
   "source": [
    "print(y_pred)\n"
   ]
  },
  {
   "cell_type": "code",
   "execution_count": 9,
   "metadata": {},
   "outputs": [
    {
     "name": "stdout",
     "output_type": "stream",
     "text": [
      "Smoke or Fire or Open flame: 8 / 10\n",
      "Normal: 48 / 50\n",
      "Crying: 9 / 9\n",
      "Gunshot: 5 / 10\n",
      "Glass breaking: 2 / 18\n",
      "Falling down: 5 / 9\n"
     ]
    }
   ],
   "source": [
    "from collections import defaultdict\n",
    "\n",
    "correct = defaultdict(int)\n",
    "total = defaultdict(int)\n",
    "for i, label in enumerate(y_test):\n",
    "    total[label] += 1\n",
    "    if label == y_pred[i]:\n",
    "        correct[label] += 1\n",
    "        \n",
    "for label in total:\n",
    "    print(f\"{id2label[label]}: {correct[label]} / {total[label]}\")"
   ]
  },
  {
   "cell_type": "code",
   "execution_count": 10,
   "metadata": {},
   "outputs": [
    {
     "name": "stdout",
     "output_type": "stream",
     "text": [
      "Normal\n",
      "Normal\n",
      "Normal\n",
      "Falling down\n",
      "Normal\n",
      "Normal\n",
      "Normal\n",
      "Normal\n",
      "Normal\n",
      "Normal\n",
      "Normal\n",
      "Normal\n",
      "Normal\n",
      "Normal\n",
      "Normal\n",
      "Normal\n",
      "Normal\n",
      "Normal\n",
      "Normal\n",
      "Normal\n",
      "Normal\n",
      "Normal\n",
      "Normal\n",
      "Normal\n",
      "Normal\n",
      "Normal\n",
      "Normal\n",
      "Normal\n",
      "Normal\n",
      "Normal\n",
      "Normal\n",
      "Normal\n",
      "Normal\n",
      "Normal\n",
      "Normal\n",
      "Normal\n",
      "Normal\n",
      "Normal\n",
      "Normal\n",
      "Normal\n",
      "Normal\n",
      "Normal\n",
      "Normal\n",
      "Normal\n",
      "Normal\n",
      "Normal\n",
      "Normal\n",
      "Normal\n",
      "Falling down\n",
      "Normal\n"
     ]
    }
   ],
   "source": [
    "for i, label in enumerate(y_test):\n",
    "    if id2label[label] == \"Normal\":\n",
    "        pred = y_pred[i]\n",
    "        print(id2label[pred])"
   ]
  },
  {
   "cell_type": "markdown",
   "metadata": {},
   "source": [
    "# Feature Importance"
   ]
  },
  {
   "cell_type": "code",
   "execution_count": 11,
   "metadata": {},
   "outputs": [
    {
     "name": "stdout",
     "output_type": "stream",
     "text": [
      "Feature importance for RandomForestClassifier() is [0.05791139 0.0090981  0.         0.         0.         0.\n",
      " 0.         0.0005538  0.         0.         0.00664557 0.00063291\n",
      " 0.0159019  0.00213608 0.00039557 0.00134494 0.00625    0.00102848\n",
      " 0.         0.00087025]\n",
      "Feature importance for RandomForestClassifier(criterion='entropy') is [0.05767405 0.0028481  0.         0.00189873 0.         0.\n",
      " 0.         0.         0.         0.         0.00593354 0.\n",
      " 0.00981013 0.00490506 0.         0.0056962  0.00530063 0.00490506\n",
      " 0.00363924 0.00118671]\n",
      "Feature importance for RandomForestClassifier(criterion='log_loss') is [0.06969937 0.00878165 0.00023734 0.00237342 0.         0.0022943\n",
      " 0.         0.         0.         0.         0.00047468 0.00205696\n",
      " 0.0125     0.00553797 0.00253165 0.00878165 0.00743671 0.\n",
      " 0.00023734 0.00261076]\n"
     ]
    },
    {
     "data": {
      "image/png": "[encoded data removed]",
      "text/plain": [
       "<Figure size 640x480 with 1 Axes>"
      ]
     },
     "metadata": {},
     "output_type": "display_data"
    }
   ],
   "source": [
    "import matplotlib.pyplot as plt \n",
    "\n",
    "# feature permutation importance\n",
    "feature_names = list(range(1, 21))\n",
    "\n",
    "all_importances = []\n",
    "for clf_model in classifiers:\n",
    "    importance = permutation_importance(clf_model, X_train, y_train, n_repeats=40, random_state=0)\n",
    "    all_importances.append(importance.importances_mean)\n",
    "    print(\"Feature importance for\", clf_model, \"is\", importance.importances_mean)\n",
    "\n",
    "all_importances = np.array(all_importances)\n",
    "\n",
    "# Plot \n",
    "num_classifiers, num_features = all_importances.shape\n",
    "bar_width = 0.25  # Width of the bars\n",
    "x_indices = np.arange(num_features)  # X-axis positions for the bars\n",
    "\n",
    "# Create a bar for each classifier\n",
    "for i in range(num_classifiers):\n",
    "    bars = plt.bar(x_indices + i * bar_width, all_importances[i], width=bar_width, label=str(classifiers[i]))\n",
    "    # Add rankings\n",
    "    rankings_id = np.argsort(all_importances[i])[::-1]\n",
    "    rankings = np.zeros(num_features)\n",
    "    for i, rank in enumerate(rankings_id):\n",
    "        rankings[rank] = i\n",
    "\n",
    "    # for bar, ranking in zip(bars, rankings):\n",
    "    #     plt.text(bar.get_x() + bar.get_width() / 2, bar.get_height(), f'#{int(ranking + 1)}', ha='center', va='bottom')\n",
    "\n",
    "# Labels and Legend\n",
    "plt.xlabel('Feature')\n",
    "plt.ylabel('Importance')\n",
    "plt.title('Feature Importances across Classifiers')\n",
    "plt.xticks(x_indices + bar_width * (num_classifiers - 1) / 2, feature_names)\n",
    "plt.legend(title='Classifiers', bbox_to_anchor=(1.05, 1), loc='upper left')\n",
    "\n",
    "plt.show()"
   ]
  }
 ],
 "metadata": {
  "kernelspec": {
   "display_name": "Python 3",
   "language": "python",
   "name": "python3"
  },
  "language_info": {
   "codemirror_mode": {
    "name": "ipython",
    "version": 3
   },
   "file_extension": ".py",
   "mimetype": "text/x-python",
   "name": "python",
   "nbconvert_exporter": "python",
   "pygments_lexer": "ipython3",
   "version": "3.8.19"
  }
 },
 "nbformat": 4,
 "nbformat_minor": 4
}
