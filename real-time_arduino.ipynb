{
 "cells": [
  {
   "cell_type": "code",
   "execution_count": 1,
   "id": "78a13e59",
   "metadata": {},
   "outputs": [],
   "source": [
    "# Class label csv path\n",
    "labels_csv_path = 'datasets/kinetics_400_labels.csv'"
   ]
  },
  {
   "cell_type": "code",
   "execution_count": 2,
   "id": "18797ddd",
   "metadata": {},
   "outputs": [],
   "source": [
    "from msclap import CLAP\n",
    "import torch.nn.functional as F\n",
    "import numpy as np\n",
    "import torch\n",
    "import os\n",
    "from moviepy.editor import VideoFileClip\n",
    "import sounddevice as sd\n",
    "import numpy as np\n",
    "from torch.nn import functional as F\n",
    "from scipy.io.wavfile import write\n",
    "import time\n",
    "import threading\n",
    "import queue\n",
    "from IPython.display import display, clear_output"
   ]
  },
  {
   "cell_type": "code",
   "execution_count": 3,
   "id": "5af5aa3e",
   "metadata": {},
   "outputs": [],
   "source": [
    "import serial\n",
    "\n",
    "# ls /dev/tty.*\n",
    "ser = serial.Serial('/dev/tty.usbmodem11201', 9600)\n",
    "\n",
    "# while True:\n",
    "#     if ser.in_waiting > 0:\n",
    "#         line = ser.readline().decode('utf-8').strip()\n",
    "#         print(line)"
   ]
  },
  {
   "cell_type": "code",
   "execution_count": 4,
   "id": "c032bb0c",
   "metadata": {},
   "outputs": [],
   "source": [
    "import csv\n",
    "\n",
    "label2id = {}\n",
    "id2label = {}\n",
    "with open(labels_csv_path, mode='r') as file:\n",
    "    csv_reader = csv.reader(file)\n",
    "    next(csv_reader)\n",
    "\n",
    "    for row in csv_reader:\n",
    "        class_id, class_name = row\n",
    "        label2id[class_name] = class_id\n",
    "        id2label[class_id] = class_name\n",
    "\n",
    "class_labels = list(label2id.keys())\n",
    "class_labels.append(\"glass breaking\")\n",
    "\n",
    "# print(f\"{len(class_labels)} Unique classes: {class_labels}.\")"
   ]
  },
  {
   "cell_type": "code",
   "execution_count": 5,
   "id": "37e62340",
   "metadata": {},
   "outputs": [
    {
     "name": "stdout",
     "output_type": "stream",
     "text": [
      "Loading model...\n",
      "Extracting text embeddings...\n",
      "Listening...\n",
      "Top predictions:\n",
      "         smoking: 24.53%\n",
      "       tying tie: 8.01%\n",
      "  massaging legs: 5.01%\n",
      "       bandaging: 4.69%\n",
      "sign language interpreting: 3.88%\n",
      "\n",
      "Top predictions:\n",
      "  glass breaking: 32.11%\n",
      "  sword fighting: 8.91%\n",
      "hitting baseball: 8.01%\n",
      "   tossing salad: 7.71%\n",
      "    disc golfing: 7.31%\n",
      "\n",
      "Alert! Glass breaking detected in recording_1713753886.wav\n",
      "Top predictions:\n",
      "  drinking shots: 19.43%\n",
      "         smoking: 14.02%\n",
      "   drinking beer: 11.13%\n",
      "    tasting beer: 4.36%\n",
      "       tying tie: 3.89%\n",
      "\n",
      "Top predictions:\n",
      "  massaging legs: 16.02%\n",
      "       tying tie: 12.08%\n",
      "       bandaging: 11.18%\n",
      "massaging person's head: 9.39%\n",
      "     petting cat: 3.32%\n",
      "\n",
      "Top predictions:\n",
      "       tying tie: 16.70%\n",
      "   hoverboarding: 13.18%\n",
      "     petting cat: 10.89%\n",
      "       bandaging: 5.69%\n",
      "  massaging legs: 5.39%\n",
      "\n",
      "Top predictions:\n",
      "  glass breaking: 49.64%\n",
      "    disc golfing: 22.99%\n",
      "      barbequing: 2.07%\n",
      "     ice fishing: 2.05%\n",
      "   tossing salad: 2.00%\n",
      "\n",
      "Alert! Glass breaking detected in recording_1713753966.wav\n"
     ]
    },
    {
     "ename": "KeyboardInterrupt",
     "evalue": "",
     "output_type": "error",
     "traceback": [
      "\u001b[0;31m---------------------------------------------------------------------------\u001b[0m",
      "\u001b[0;31mKeyboardInterrupt\u001b[0m                         Traceback (most recent call last)",
      "Cell \u001b[0;32mIn[5], line 21\u001b[0m\n\u001b[1;32m     17\u001b[0m \u001b[38;5;28mprint\u001b[39m(\u001b[38;5;124m\"\u001b[39m\u001b[38;5;124mListening...\u001b[39m\u001b[38;5;124m\"\u001b[39m)\n\u001b[1;32m     19\u001b[0m \u001b[38;5;28;01mwhile\u001b[39;00m \u001b[38;5;28;01mTrue\u001b[39;00m:    \n\u001b[1;32m     20\u001b[0m     \u001b[38;5;66;03m# Read a chunk of audio data from the serial port\u001b[39;00m\n\u001b[0;32m---> 21\u001b[0m     audio_data \u001b[38;5;241m=\u001b[39m ser\u001b[38;5;241m.\u001b[39mread(window_size \u001b[38;5;241m*\u001b[39m sample_rate \u001b[38;5;241m*\u001b[39m \u001b[38;5;241m2\u001b[39m)  \u001b[38;5;66;03m# 2 bytes per sample\u001b[39;00m\n\u001b[1;32m     23\u001b[0m     \u001b[38;5;66;03m# Convert the audio data to an array of samples\u001b[39;00m\n\u001b[1;32m     24\u001b[0m     recording \u001b[38;5;241m=\u001b[39m np\u001b[38;5;241m.\u001b[39mfrombuffer(audio_data, dtype\u001b[38;5;241m=\u001b[39mnp\u001b[38;5;241m.\u001b[39mint16)\n",
      "File \u001b[0;32m~/anaconda3/lib/python3.11/site-packages/serial/serialposix.py:565\u001b[0m, in \u001b[0;36mSerial.read\u001b[0;34m(self, size)\u001b[0m\n\u001b[1;32m    563\u001b[0m \u001b[38;5;28;01mwhile\u001b[39;00m \u001b[38;5;28mlen\u001b[39m(read) \u001b[38;5;241m<\u001b[39m size:\n\u001b[1;32m    564\u001b[0m     \u001b[38;5;28;01mtry\u001b[39;00m:\n\u001b[0;32m--> 565\u001b[0m         ready, _, _ \u001b[38;5;241m=\u001b[39m select\u001b[38;5;241m.\u001b[39mselect([\u001b[38;5;28mself\u001b[39m\u001b[38;5;241m.\u001b[39mfd, \u001b[38;5;28mself\u001b[39m\u001b[38;5;241m.\u001b[39mpipe_abort_read_r], [], [], timeout\u001b[38;5;241m.\u001b[39mtime_left())\n\u001b[1;32m    566\u001b[0m         \u001b[38;5;28;01mif\u001b[39;00m \u001b[38;5;28mself\u001b[39m\u001b[38;5;241m.\u001b[39mpipe_abort_read_r \u001b[38;5;129;01min\u001b[39;00m ready:\n\u001b[1;32m    567\u001b[0m             os\u001b[38;5;241m.\u001b[39mread(\u001b[38;5;28mself\u001b[39m\u001b[38;5;241m.\u001b[39mpipe_abort_read_r, \u001b[38;5;241m1000\u001b[39m)\n",
      "\u001b[0;31mKeyboardInterrupt\u001b[0m: "
     ]
    }
   ],
   "source": [
    "window_size = 10  # seconds\n",
    "sample_rate = 16000  # Hz\n",
    "\n",
    "# Open the serial port\n",
    "ser = serial.Serial('/dev/tty.usbmodem11201', 9600)\n",
    "\n",
    "print(\"Loading model...\")\n",
    "# Load model (Choose between versions '2022' or '2023')\n",
    "# The model weight will be downloaded automatically if `model_fp` is not specified\n",
    "clap_model = CLAP(version='2023', use_cuda=False)\n",
    "\n",
    "print(\"Extracting text embeddings...\")\n",
    "# Extract text embeddings\n",
    "text_embeddings = clap_model.get_text_embeddings([f\"This is a sound of {c}\" for c in class_labels])\n",
    "\n",
    "print(\"Listening...\")\n",
    "\n",
    "while True:    \n",
    "    # Read a chunk of audio data from the serial port\n",
    "    audio_data = ser.read(window_size * sample_rate * 2)  # 2 bytes per sample\n",
    "\n",
    "    # Convert the audio data to an array of samples\n",
    "    recording = np.frombuffer(audio_data, dtype=np.int16)\n",
    "\n",
    "    # Save the recording to a temporary file\n",
    "    temp_filename = \"temp_recording.wav\"\n",
    "    write(temp_filename, sample_rate, recording)\n",
    "\n",
    "    # Extract audio embeddings\n",
    "    audio_embeddings = clap_model.get_audio_embeddings([temp_filename])\n",
    "    # Compute similarity between audio and text embeddings\n",
    "    similarities = clap_model.compute_similarity(audio_embeddings, text_embeddings)\n",
    "\n",
    "    similarity = F.softmax(similarities, dim=1)\n",
    "    values, indices = similarity[0].topk(5)\n",
    "    \n",
    "    # Check if \"glass breaking\" is in the top five predictions\n",
    "    things_to_detect = [\"glass breaking\", \"using computer\"]\n",
    "    detected = any(class_labels[index] in things_to_detect for index in indices)\n",
    "    \n",
    "    print(\"Top predictions:\\n\" + \"\\n\".join(f\"{class_labels[index]:>16s}: {100 * value.item():.2f}%\" for value, index in zip(values, indices)) + \"\\n\")\n",
    "    \n",
    "    if detected:\n",
    "        filename = f\"recording_{int(time.time())}.wav\"\n",
    "        os.rename(temp_filename, filename)\n",
    "        print(f\"Alert! Glass breaking detected in {filename}\")\n",
    "    else:\n",
    "        os.remove(temp_filename) \n"
   ]
  },
  {
   "cell_type": "code",
   "execution_count": 6,
   "id": "6d48da7f",
   "metadata": {},
   "outputs": [],
   "source": [
    "ser.close()"
   ]
  },
  {
   "cell_type": "code",
   "execution_count": null,
   "id": "d8dbfaf5",
   "metadata": {},
   "outputs": [],
   "source": []
  }
 ],
 "metadata": {
  "kernelspec": {
   "display_name": "Python 3 (ipykernel)",
   "language": "python",
   "name": "python3"
  },
  "language_info": {
   "codemirror_mode": {
    "name": "ipython",
    "version": 3
   },
   "file_extension": ".py",
   "mimetype": "text/x-python",
   "name": "python",
   "nbconvert_exporter": "python",
   "pygments_lexer": "ipython3",
   "version": "3.11.5"
  }
 },
 "nbformat": 4,
 "nbformat_minor": 5
}
